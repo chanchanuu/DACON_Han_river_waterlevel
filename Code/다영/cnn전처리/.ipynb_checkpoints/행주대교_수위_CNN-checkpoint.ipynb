{
 "cells": [
  {
   "cell_type": "markdown",
   "id": "8j4vJKwozHcT",
   "metadata": {
    "id": "8j4vJKwozHcT"
   },
   "source": [
    "### 라이브러리 불러오기"
   ]
  },
  {
   "cell_type": "code",
   "execution_count": 1,
   "id": "ba1d227f",
   "metadata": {
    "id": "ba1d227f"
   },
   "outputs": [],
   "source": [
    "import pandas as pd\n",
    "import numpy as np\n",
    "import seaborn as sns \n",
    "import matplotlib.pyplot as plt\n",
    "import warnings\n",
    "warnings.filterwarnings(action='ignore')"
   ]
  },
  {
   "cell_type": "code",
   "execution_count": 2,
   "id": "c6cbd307",
   "metadata": {
    "id": "c6cbd307"
   },
   "outputs": [],
   "source": [
    "import time\n",
    "from glob import glob\n",
    "from tqdm import tqdm\n",
    "from scipy import interpolate"
   ]
  },
  {
   "cell_type": "code",
   "execution_count": 3,
   "id": "0b58f927",
   "metadata": {
    "id": "0b58f927"
   },
   "outputs": [],
   "source": [
    "# conda install tensorflow"
   ]
  },
  {
   "cell_type": "code",
   "execution_count": 4,
   "id": "215eb992",
   "metadata": {
    "id": "215eb992"
   },
   "outputs": [],
   "source": [
    "# conda install python=3.7"
   ]
  },
  {
   "cell_type": "code",
   "execution_count": 5,
   "id": "544fec40",
   "metadata": {
    "id": "544fec40"
   },
   "outputs": [
    {
     "name": "stderr",
     "output_type": "stream",
     "text": [
      "Using TensorFlow backend.\n"
     ]
    }
   ],
   "source": [
    "import tensorflow as tf\n",
    "import keras\n",
    "from keras.models import Sequential\n",
    "from keras.layers import Activation, Dense, LSTM, GRU, AveragePooling1D, GlobalAveragePooling1D, Dropout, Flatten, BatchNormalization\n",
    "from keras.layers.convolutional import Conv1D, MaxPooling1D, AveragePooling1D \n",
    "from keras.callbacks import ModelCheckpoint, EarlyStopping\n",
    "from keras import backend as K"
   ]
  },
  {
   "cell_type": "markdown",
   "id": "09af8ed0",
   "metadata": {
    "id": "09af8ed0"
   },
   "source": [
    "CNN으로 전처리해볼 것\n",
    "1. 유량 3개, 수위 4개\n",
    "2. 팔당댐 데이터"
   ]
  },
  {
   "cell_type": "markdown",
   "id": "55e3d47e",
   "metadata": {
    "id": "55e3d47e"
   },
   "source": [
    "### 전체 수위 데이터셋 구축"
   ]
  },
  {
   "cell_type": "code",
   "execution_count": 6,
   "id": "-9myyRV2lZ5V",
   "metadata": {
    "colab": {
     "base_uri": "https://localhost:8080/"
    },
    "executionInfo": {
     "elapsed": 19494,
     "status": "ok",
     "timestamp": 1661272958275,
     "user": {
      "displayName": "이다영",
      "userId": "14374690971343812637"
     },
     "user_tz": -540
    },
    "id": "-9myyRV2lZ5V",
    "outputId": "288bbd48-bf6b-4e58-9b51-d8237dd29bcc"
   },
   "outputs": [],
   "source": [
    "# from google.colab import drive\n",
    "# drive.mount('/content/drive')"
   ]
  },
  {
   "cell_type": "code",
   "execution_count": 7,
   "id": "cbd03d4b",
   "metadata": {
    "id": "cbd03d4b"
   },
   "outputs": [],
   "source": [
    "# 데이터 불러오기 \n",
    "전체df = pd.read_csv('/Volumes/GoogleDrive/.shortcut-targets-by-id/1rUx7_7LmBqAQTbWEWVTGvw0_d0v6N2ZT/신입기수 프로젝트/Dataset/rawdata.csv')\n",
    "# for colab\n",
    "# /content/drive/MyDrive/신입기수 프로젝트/Dataset/rawdata.csv\n",
    "# for jupyter\n",
    "# /Volumes/GoogleDrive/.shortcut-targets-by-id/1rUx7_7LmBqAQTbWEWVTGvw0_d0v6N2ZT/신입기수 프로젝트/Dataset/rawdata.csv"
   ]
  },
  {
   "cell_type": "code",
   "execution_count": 8,
   "id": "087a6eff",
   "metadata": {
    "id": "087a6eff"
   },
   "outputs": [],
   "source": [
    "수위 = 전체df[['청담대교_수위', '한강대교_수위', '잠수교_수위', '행주대교_수위']]"
   ]
  },
  {
   "cell_type": "code",
   "execution_count": 9,
   "id": "88da4bdb",
   "metadata": {
    "colab": {
     "base_uri": "https://localhost:8080/",
     "height": 424
    },
    "executionInfo": {
     "elapsed": 14,
     "status": "ok",
     "timestamp": 1661272964756,
     "user": {
      "displayName": "이다영",
      "userId": "14374690971343812637"
     },
     "user_tz": -540
    },
    "id": "88da4bdb",
    "outputId": "762fe9e5-1c2b-47bb-f3af-1c2e32f28ceb"
   },
   "outputs": [
    {
     "data": {
      "text/html": [
       "<div>\n",
       "<style scoped>\n",
       "    .dataframe tbody tr th:only-of-type {\n",
       "        vertical-align: middle;\n",
       "    }\n",
       "\n",
       "    .dataframe tbody tr th {\n",
       "        vertical-align: top;\n",
       "    }\n",
       "\n",
       "    .dataframe thead th {\n",
       "        text-align: right;\n",
       "    }\n",
       "</style>\n",
       "<table border=\"1\" class=\"dataframe\">\n",
       "  <thead>\n",
       "    <tr style=\"text-align: right;\">\n",
       "      <th></th>\n",
       "      <th>청담대교_수위</th>\n",
       "      <th>한강대교_수위</th>\n",
       "      <th>잠수교_수위</th>\n",
       "      <th>행주대교_수위</th>\n",
       "    </tr>\n",
       "  </thead>\n",
       "  <tbody>\n",
       "    <tr>\n",
       "      <th>0</th>\n",
       "      <td>310.7</td>\n",
       "      <td>290.0</td>\n",
       "      <td>300.2</td>\n",
       "      <td>275.3</td>\n",
       "    </tr>\n",
       "    <tr>\n",
       "      <th>1</th>\n",
       "      <td>314.7</td>\n",
       "      <td>290.0</td>\n",
       "      <td>300.2</td>\n",
       "      <td>275.3</td>\n",
       "    </tr>\n",
       "    <tr>\n",
       "      <th>2</th>\n",
       "      <td>313.7</td>\n",
       "      <td>290.0</td>\n",
       "      <td>301.2</td>\n",
       "      <td>275.3</td>\n",
       "    </tr>\n",
       "    <tr>\n",
       "      <th>3</th>\n",
       "      <td>311.7</td>\n",
       "      <td>290.0</td>\n",
       "      <td>301.2</td>\n",
       "      <td>276.3</td>\n",
       "    </tr>\n",
       "    <tr>\n",
       "      <th>4</th>\n",
       "      <td>311.7</td>\n",
       "      <td>291.0</td>\n",
       "      <td>301.2</td>\n",
       "      <td>277.3</td>\n",
       "    </tr>\n",
       "    <tr>\n",
       "      <th>...</th>\n",
       "      <td>...</td>\n",
       "      <td>...</td>\n",
       "      <td>...</td>\n",
       "      <td>...</td>\n",
       "    </tr>\n",
       "    <tr>\n",
       "      <th>276331</th>\n",
       "      <td>0.0</td>\n",
       "      <td>0.0</td>\n",
       "      <td>0.0</td>\n",
       "      <td>0.0</td>\n",
       "    </tr>\n",
       "    <tr>\n",
       "      <th>276332</th>\n",
       "      <td>0.0</td>\n",
       "      <td>0.0</td>\n",
       "      <td>0.0</td>\n",
       "      <td>0.0</td>\n",
       "    </tr>\n",
       "    <tr>\n",
       "      <th>276333</th>\n",
       "      <td>0.0</td>\n",
       "      <td>0.0</td>\n",
       "      <td>0.0</td>\n",
       "      <td>0.0</td>\n",
       "    </tr>\n",
       "    <tr>\n",
       "      <th>276334</th>\n",
       "      <td>0.0</td>\n",
       "      <td>0.0</td>\n",
       "      <td>0.0</td>\n",
       "      <td>0.0</td>\n",
       "    </tr>\n",
       "    <tr>\n",
       "      <th>276335</th>\n",
       "      <td>0.0</td>\n",
       "      <td>0.0</td>\n",
       "      <td>0.0</td>\n",
       "      <td>0.0</td>\n",
       "    </tr>\n",
       "  </tbody>\n",
       "</table>\n",
       "<p>276336 rows × 4 columns</p>\n",
       "</div>"
      ],
      "text/plain": [
       "        청담대교_수위  한강대교_수위  잠수교_수위  행주대교_수위\n",
       "0         310.7    290.0   300.2    275.3\n",
       "1         314.7    290.0   300.2    275.3\n",
       "2         313.7    290.0   301.2    275.3\n",
       "3         311.7    290.0   301.2    276.3\n",
       "4         311.7    291.0   301.2    277.3\n",
       "...         ...      ...     ...      ...\n",
       "276331      0.0      0.0     0.0      0.0\n",
       "276332      0.0      0.0     0.0      0.0\n",
       "276333      0.0      0.0     0.0      0.0\n",
       "276334      0.0      0.0     0.0      0.0\n",
       "276335      0.0      0.0     0.0      0.0\n",
       "\n",
       "[276336 rows x 4 columns]"
      ]
     },
     "execution_count": 9,
     "metadata": {},
     "output_type": "execute_result"
    }
   ],
   "source": [
    "수위"
   ]
  },
  {
   "cell_type": "code",
   "execution_count": 10,
   "id": "84ac94f9",
   "metadata": {
    "id": "84ac94f9"
   },
   "outputs": [],
   "source": [
    "nanIndex = 수위[수위.청담대교_수위.isnull()].index"
   ]
  },
  {
   "cell_type": "code",
   "execution_count": 11,
   "id": "b97458df",
   "metadata": {
    "colab": {
     "base_uri": "https://localhost:8080/"
    },
    "executionInfo": {
     "elapsed": 13,
     "status": "ok",
     "timestamp": 1661272964757,
     "user": {
      "displayName": "이다영",
      "userId": "14374690971343812637"
     },
     "user_tz": -540
    },
    "id": "b97458df",
    "outputId": "16a42b0d-675f-4319-a858-5bc121a1877c"
   },
   "outputs": [
    {
     "data": {
      "text/plain": [
       "Int64Index([140613, 140614, 140615, 140616, 140617, 140618, 140619, 140620,\n",
       "            140621, 140622, 140623, 140624, 140625, 140626, 140627, 140628,\n",
       "            140629, 140630, 140631, 140632, 140633, 140634, 140635, 140636,\n",
       "            140637, 140638, 140639, 140640, 140641, 140642, 140643, 140644,\n",
       "            140645, 140646, 140647, 140648, 140649, 140650, 140651, 140652,\n",
       "            140653, 140654, 140655, 140656, 140657, 140658, 140659, 140660,\n",
       "            140661, 140662, 140663, 140664, 140665, 140666, 140667, 140668,\n",
       "            140669, 140670, 236080],\n",
       "           dtype='int64')"
      ]
     },
     "execution_count": 11,
     "metadata": {},
     "output_type": "execute_result"
    }
   ],
   "source": [
    "nanIndex"
   ]
  },
  {
   "cell_type": "code",
   "execution_count": 12,
   "id": "3S4YowqVyLao",
   "metadata": {
    "colab": {
     "base_uri": "https://localhost:8080/"
    },
    "executionInfo": {
     "elapsed": 5,
     "status": "ok",
     "timestamp": 1661276437689,
     "user": {
      "displayName": "이다영",
      "userId": "14374690971343812637"
     },
     "user_tz": -540
    },
    "id": "3S4YowqVyLao",
    "outputId": "b731390d-4e0c-433a-8a83-30daebc61e9f"
   },
   "outputs": [
    {
     "name": "stdout",
     "output_type": "stream",
     "text": [
      "[140613, 140614, 140615, 140616, 140617, 140618, 140619, 140620, 140621, 140622, 140623, 140624, 140625, 140626, 140627, 140628, 140629, 140630, 140631, 140632, 140633, 140634, 140635, 140636, 140637, 140638, 140639, 140640, 140641, 140642, 140643, 140644, 140645, 140646, 140647, 140648, 140649, 140650, 140651, 140652, 140653, 140654, 140655, 140656, 140657, 140658, 140659, 140660, 140661, 140662, 140663, 140664, 140665, 140666, 140667, 140668, 140669, 140670]\n",
      "236080\n"
     ]
    }
   ],
   "source": [
    "consecutive = list(nanIndex)[:-1]\n",
    "unconsecutive = list(nanIndex)[-1]\n",
    "print(consecutive)\n",
    "print(unconsecutive)"
   ]
  },
  {
   "cell_type": "code",
   "execution_count": 13,
   "id": "e38ca94d",
   "metadata": {
    "id": "e38ca94d"
   },
   "outputs": [],
   "source": [
    "# 58개 결측치 앞 인덱스까지 인풋 생성\n",
    "x = 수위.loc[:140612]\n",
    "\n",
    "# 결측치로 아웃풋 생성\n",
    "null = 수위[140613:140671]"
   ]
  },
  {
   "cell_type": "code",
   "execution_count": 14,
   "id": "8d5934a0",
   "metadata": {
    "colab": {
     "base_uri": "https://localhost:8080/",
     "height": 1000
    },
    "executionInfo": {
     "elapsed": 10,
     "status": "ok",
     "timestamp": 1661272964757,
     "user": {
      "displayName": "이다영",
      "userId": "14374690971343812637"
     },
     "user_tz": -540
    },
    "id": "8d5934a0",
    "outputId": "5f921fa0-735e-4cd3-e6fe-4147b2d79a58"
   },
   "outputs": [
    {
     "data": {
      "text/html": [
       "<div>\n",
       "<style scoped>\n",
       "    .dataframe tbody tr th:only-of-type {\n",
       "        vertical-align: middle;\n",
       "    }\n",
       "\n",
       "    .dataframe tbody tr th {\n",
       "        vertical-align: top;\n",
       "    }\n",
       "\n",
       "    .dataframe thead th {\n",
       "        text-align: right;\n",
       "    }\n",
       "</style>\n",
       "<table border=\"1\" class=\"dataframe\">\n",
       "  <thead>\n",
       "    <tr style=\"text-align: right;\">\n",
       "      <th></th>\n",
       "      <th>청담대교_수위</th>\n",
       "      <th>한강대교_수위</th>\n",
       "      <th>잠수교_수위</th>\n",
       "      <th>행주대교_수위</th>\n",
       "    </tr>\n",
       "  </thead>\n",
       "  <tbody>\n",
       "    <tr>\n",
       "      <th>140613</th>\n",
       "      <td>NaN</td>\n",
       "      <td>NaN</td>\n",
       "      <td>NaN</td>\n",
       "      <td>NaN</td>\n",
       "    </tr>\n",
       "    <tr>\n",
       "      <th>140614</th>\n",
       "      <td>NaN</td>\n",
       "      <td>NaN</td>\n",
       "      <td>NaN</td>\n",
       "      <td>NaN</td>\n",
       "    </tr>\n",
       "    <tr>\n",
       "      <th>140615</th>\n",
       "      <td>NaN</td>\n",
       "      <td>NaN</td>\n",
       "      <td>NaN</td>\n",
       "      <td>NaN</td>\n",
       "    </tr>\n",
       "    <tr>\n",
       "      <th>140616</th>\n",
       "      <td>NaN</td>\n",
       "      <td>NaN</td>\n",
       "      <td>NaN</td>\n",
       "      <td>NaN</td>\n",
       "    </tr>\n",
       "    <tr>\n",
       "      <th>140617</th>\n",
       "      <td>NaN</td>\n",
       "      <td>NaN</td>\n",
       "      <td>NaN</td>\n",
       "      <td>NaN</td>\n",
       "    </tr>\n",
       "    <tr>\n",
       "      <th>140618</th>\n",
       "      <td>NaN</td>\n",
       "      <td>NaN</td>\n",
       "      <td>NaN</td>\n",
       "      <td>NaN</td>\n",
       "    </tr>\n",
       "    <tr>\n",
       "      <th>140619</th>\n",
       "      <td>NaN</td>\n",
       "      <td>NaN</td>\n",
       "      <td>NaN</td>\n",
       "      <td>NaN</td>\n",
       "    </tr>\n",
       "    <tr>\n",
       "      <th>140620</th>\n",
       "      <td>NaN</td>\n",
       "      <td>NaN</td>\n",
       "      <td>NaN</td>\n",
       "      <td>NaN</td>\n",
       "    </tr>\n",
       "    <tr>\n",
       "      <th>140621</th>\n",
       "      <td>NaN</td>\n",
       "      <td>NaN</td>\n",
       "      <td>NaN</td>\n",
       "      <td>NaN</td>\n",
       "    </tr>\n",
       "    <tr>\n",
       "      <th>140622</th>\n",
       "      <td>NaN</td>\n",
       "      <td>NaN</td>\n",
       "      <td>NaN</td>\n",
       "      <td>NaN</td>\n",
       "    </tr>\n",
       "    <tr>\n",
       "      <th>140623</th>\n",
       "      <td>NaN</td>\n",
       "      <td>NaN</td>\n",
       "      <td>NaN</td>\n",
       "      <td>NaN</td>\n",
       "    </tr>\n",
       "    <tr>\n",
       "      <th>140624</th>\n",
       "      <td>NaN</td>\n",
       "      <td>NaN</td>\n",
       "      <td>NaN</td>\n",
       "      <td>NaN</td>\n",
       "    </tr>\n",
       "    <tr>\n",
       "      <th>140625</th>\n",
       "      <td>NaN</td>\n",
       "      <td>NaN</td>\n",
       "      <td>NaN</td>\n",
       "      <td>NaN</td>\n",
       "    </tr>\n",
       "    <tr>\n",
       "      <th>140626</th>\n",
       "      <td>NaN</td>\n",
       "      <td>NaN</td>\n",
       "      <td>NaN</td>\n",
       "      <td>NaN</td>\n",
       "    </tr>\n",
       "    <tr>\n",
       "      <th>140627</th>\n",
       "      <td>NaN</td>\n",
       "      <td>NaN</td>\n",
       "      <td>NaN</td>\n",
       "      <td>NaN</td>\n",
       "    </tr>\n",
       "    <tr>\n",
       "      <th>140628</th>\n",
       "      <td>NaN</td>\n",
       "      <td>NaN</td>\n",
       "      <td>NaN</td>\n",
       "      <td>NaN</td>\n",
       "    </tr>\n",
       "    <tr>\n",
       "      <th>140629</th>\n",
       "      <td>NaN</td>\n",
       "      <td>NaN</td>\n",
       "      <td>NaN</td>\n",
       "      <td>NaN</td>\n",
       "    </tr>\n",
       "    <tr>\n",
       "      <th>140630</th>\n",
       "      <td>NaN</td>\n",
       "      <td>NaN</td>\n",
       "      <td>NaN</td>\n",
       "      <td>NaN</td>\n",
       "    </tr>\n",
       "    <tr>\n",
       "      <th>140631</th>\n",
       "      <td>NaN</td>\n",
       "      <td>NaN</td>\n",
       "      <td>NaN</td>\n",
       "      <td>NaN</td>\n",
       "    </tr>\n",
       "    <tr>\n",
       "      <th>140632</th>\n",
       "      <td>NaN</td>\n",
       "      <td>NaN</td>\n",
       "      <td>NaN</td>\n",
       "      <td>NaN</td>\n",
       "    </tr>\n",
       "    <tr>\n",
       "      <th>140633</th>\n",
       "      <td>NaN</td>\n",
       "      <td>NaN</td>\n",
       "      <td>NaN</td>\n",
       "      <td>NaN</td>\n",
       "    </tr>\n",
       "    <tr>\n",
       "      <th>140634</th>\n",
       "      <td>NaN</td>\n",
       "      <td>NaN</td>\n",
       "      <td>NaN</td>\n",
       "      <td>NaN</td>\n",
       "    </tr>\n",
       "    <tr>\n",
       "      <th>140635</th>\n",
       "      <td>NaN</td>\n",
       "      <td>NaN</td>\n",
       "      <td>NaN</td>\n",
       "      <td>NaN</td>\n",
       "    </tr>\n",
       "    <tr>\n",
       "      <th>140636</th>\n",
       "      <td>NaN</td>\n",
       "      <td>NaN</td>\n",
       "      <td>NaN</td>\n",
       "      <td>NaN</td>\n",
       "    </tr>\n",
       "    <tr>\n",
       "      <th>140637</th>\n",
       "      <td>NaN</td>\n",
       "      <td>NaN</td>\n",
       "      <td>NaN</td>\n",
       "      <td>NaN</td>\n",
       "    </tr>\n",
       "    <tr>\n",
       "      <th>140638</th>\n",
       "      <td>NaN</td>\n",
       "      <td>NaN</td>\n",
       "      <td>NaN</td>\n",
       "      <td>NaN</td>\n",
       "    </tr>\n",
       "    <tr>\n",
       "      <th>140639</th>\n",
       "      <td>NaN</td>\n",
       "      <td>NaN</td>\n",
       "      <td>NaN</td>\n",
       "      <td>NaN</td>\n",
       "    </tr>\n",
       "    <tr>\n",
       "      <th>140640</th>\n",
       "      <td>NaN</td>\n",
       "      <td>NaN</td>\n",
       "      <td>NaN</td>\n",
       "      <td>NaN</td>\n",
       "    </tr>\n",
       "    <tr>\n",
       "      <th>140641</th>\n",
       "      <td>NaN</td>\n",
       "      <td>NaN</td>\n",
       "      <td>NaN</td>\n",
       "      <td>NaN</td>\n",
       "    </tr>\n",
       "    <tr>\n",
       "      <th>140642</th>\n",
       "      <td>NaN</td>\n",
       "      <td>NaN</td>\n",
       "      <td>NaN</td>\n",
       "      <td>NaN</td>\n",
       "    </tr>\n",
       "    <tr>\n",
       "      <th>140643</th>\n",
       "      <td>NaN</td>\n",
       "      <td>NaN</td>\n",
       "      <td>NaN</td>\n",
       "      <td>NaN</td>\n",
       "    </tr>\n",
       "    <tr>\n",
       "      <th>140644</th>\n",
       "      <td>NaN</td>\n",
       "      <td>NaN</td>\n",
       "      <td>NaN</td>\n",
       "      <td>NaN</td>\n",
       "    </tr>\n",
       "    <tr>\n",
       "      <th>140645</th>\n",
       "      <td>NaN</td>\n",
       "      <td>NaN</td>\n",
       "      <td>NaN</td>\n",
       "      <td>NaN</td>\n",
       "    </tr>\n",
       "    <tr>\n",
       "      <th>140646</th>\n",
       "      <td>NaN</td>\n",
       "      <td>NaN</td>\n",
       "      <td>NaN</td>\n",
       "      <td>NaN</td>\n",
       "    </tr>\n",
       "    <tr>\n",
       "      <th>140647</th>\n",
       "      <td>NaN</td>\n",
       "      <td>NaN</td>\n",
       "      <td>NaN</td>\n",
       "      <td>NaN</td>\n",
       "    </tr>\n",
       "    <tr>\n",
       "      <th>140648</th>\n",
       "      <td>NaN</td>\n",
       "      <td>NaN</td>\n",
       "      <td>NaN</td>\n",
       "      <td>NaN</td>\n",
       "    </tr>\n",
       "    <tr>\n",
       "      <th>140649</th>\n",
       "      <td>NaN</td>\n",
       "      <td>NaN</td>\n",
       "      <td>NaN</td>\n",
       "      <td>NaN</td>\n",
       "    </tr>\n",
       "    <tr>\n",
       "      <th>140650</th>\n",
       "      <td>NaN</td>\n",
       "      <td>NaN</td>\n",
       "      <td>NaN</td>\n",
       "      <td>NaN</td>\n",
       "    </tr>\n",
       "    <tr>\n",
       "      <th>140651</th>\n",
       "      <td>NaN</td>\n",
       "      <td>NaN</td>\n",
       "      <td>NaN</td>\n",
       "      <td>NaN</td>\n",
       "    </tr>\n",
       "    <tr>\n",
       "      <th>140652</th>\n",
       "      <td>NaN</td>\n",
       "      <td>NaN</td>\n",
       "      <td>NaN</td>\n",
       "      <td>NaN</td>\n",
       "    </tr>\n",
       "    <tr>\n",
       "      <th>140653</th>\n",
       "      <td>NaN</td>\n",
       "      <td>NaN</td>\n",
       "      <td>NaN</td>\n",
       "      <td>NaN</td>\n",
       "    </tr>\n",
       "    <tr>\n",
       "      <th>140654</th>\n",
       "      <td>NaN</td>\n",
       "      <td>NaN</td>\n",
       "      <td>NaN</td>\n",
       "      <td>NaN</td>\n",
       "    </tr>\n",
       "    <tr>\n",
       "      <th>140655</th>\n",
       "      <td>NaN</td>\n",
       "      <td>NaN</td>\n",
       "      <td>NaN</td>\n",
       "      <td>NaN</td>\n",
       "    </tr>\n",
       "    <tr>\n",
       "      <th>140656</th>\n",
       "      <td>NaN</td>\n",
       "      <td>NaN</td>\n",
       "      <td>NaN</td>\n",
       "      <td>NaN</td>\n",
       "    </tr>\n",
       "    <tr>\n",
       "      <th>140657</th>\n",
       "      <td>NaN</td>\n",
       "      <td>NaN</td>\n",
       "      <td>NaN</td>\n",
       "      <td>NaN</td>\n",
       "    </tr>\n",
       "    <tr>\n",
       "      <th>140658</th>\n",
       "      <td>NaN</td>\n",
       "      <td>NaN</td>\n",
       "      <td>NaN</td>\n",
       "      <td>NaN</td>\n",
       "    </tr>\n",
       "    <tr>\n",
       "      <th>140659</th>\n",
       "      <td>NaN</td>\n",
       "      <td>NaN</td>\n",
       "      <td>NaN</td>\n",
       "      <td>NaN</td>\n",
       "    </tr>\n",
       "    <tr>\n",
       "      <th>140660</th>\n",
       "      <td>NaN</td>\n",
       "      <td>NaN</td>\n",
       "      <td>NaN</td>\n",
       "      <td>NaN</td>\n",
       "    </tr>\n",
       "    <tr>\n",
       "      <th>140661</th>\n",
       "      <td>NaN</td>\n",
       "      <td>NaN</td>\n",
       "      <td>NaN</td>\n",
       "      <td>NaN</td>\n",
       "    </tr>\n",
       "    <tr>\n",
       "      <th>140662</th>\n",
       "      <td>NaN</td>\n",
       "      <td>NaN</td>\n",
       "      <td>NaN</td>\n",
       "      <td>NaN</td>\n",
       "    </tr>\n",
       "    <tr>\n",
       "      <th>140663</th>\n",
       "      <td>NaN</td>\n",
       "      <td>NaN</td>\n",
       "      <td>NaN</td>\n",
       "      <td>NaN</td>\n",
       "    </tr>\n",
       "    <tr>\n",
       "      <th>140664</th>\n",
       "      <td>NaN</td>\n",
       "      <td>NaN</td>\n",
       "      <td>NaN</td>\n",
       "      <td>NaN</td>\n",
       "    </tr>\n",
       "    <tr>\n",
       "      <th>140665</th>\n",
       "      <td>NaN</td>\n",
       "      <td>NaN</td>\n",
       "      <td>NaN</td>\n",
       "      <td>NaN</td>\n",
       "    </tr>\n",
       "    <tr>\n",
       "      <th>140666</th>\n",
       "      <td>NaN</td>\n",
       "      <td>NaN</td>\n",
       "      <td>NaN</td>\n",
       "      <td>NaN</td>\n",
       "    </tr>\n",
       "    <tr>\n",
       "      <th>140667</th>\n",
       "      <td>NaN</td>\n",
       "      <td>NaN</td>\n",
       "      <td>NaN</td>\n",
       "      <td>NaN</td>\n",
       "    </tr>\n",
       "    <tr>\n",
       "      <th>140668</th>\n",
       "      <td>NaN</td>\n",
       "      <td>NaN</td>\n",
       "      <td>NaN</td>\n",
       "      <td>NaN</td>\n",
       "    </tr>\n",
       "    <tr>\n",
       "      <th>140669</th>\n",
       "      <td>NaN</td>\n",
       "      <td>NaN</td>\n",
       "      <td>NaN</td>\n",
       "      <td>NaN</td>\n",
       "    </tr>\n",
       "    <tr>\n",
       "      <th>140670</th>\n",
       "      <td>NaN</td>\n",
       "      <td>NaN</td>\n",
       "      <td>NaN</td>\n",
       "      <td>NaN</td>\n",
       "    </tr>\n",
       "  </tbody>\n",
       "</table>\n",
       "</div>"
      ],
      "text/plain": [
       "        청담대교_수위  한강대교_수위  잠수교_수위  행주대교_수위\n",
       "140613      NaN      NaN     NaN      NaN\n",
       "140614      NaN      NaN     NaN      NaN\n",
       "140615      NaN      NaN     NaN      NaN\n",
       "140616      NaN      NaN     NaN      NaN\n",
       "140617      NaN      NaN     NaN      NaN\n",
       "140618      NaN      NaN     NaN      NaN\n",
       "140619      NaN      NaN     NaN      NaN\n",
       "140620      NaN      NaN     NaN      NaN\n",
       "140621      NaN      NaN     NaN      NaN\n",
       "140622      NaN      NaN     NaN      NaN\n",
       "140623      NaN      NaN     NaN      NaN\n",
       "140624      NaN      NaN     NaN      NaN\n",
       "140625      NaN      NaN     NaN      NaN\n",
       "140626      NaN      NaN     NaN      NaN\n",
       "140627      NaN      NaN     NaN      NaN\n",
       "140628      NaN      NaN     NaN      NaN\n",
       "140629      NaN      NaN     NaN      NaN\n",
       "140630      NaN      NaN     NaN      NaN\n",
       "140631      NaN      NaN     NaN      NaN\n",
       "140632      NaN      NaN     NaN      NaN\n",
       "140633      NaN      NaN     NaN      NaN\n",
       "140634      NaN      NaN     NaN      NaN\n",
       "140635      NaN      NaN     NaN      NaN\n",
       "140636      NaN      NaN     NaN      NaN\n",
       "140637      NaN      NaN     NaN      NaN\n",
       "140638      NaN      NaN     NaN      NaN\n",
       "140639      NaN      NaN     NaN      NaN\n",
       "140640      NaN      NaN     NaN      NaN\n",
       "140641      NaN      NaN     NaN      NaN\n",
       "140642      NaN      NaN     NaN      NaN\n",
       "140643      NaN      NaN     NaN      NaN\n",
       "140644      NaN      NaN     NaN      NaN\n",
       "140645      NaN      NaN     NaN      NaN\n",
       "140646      NaN      NaN     NaN      NaN\n",
       "140647      NaN      NaN     NaN      NaN\n",
       "140648      NaN      NaN     NaN      NaN\n",
       "140649      NaN      NaN     NaN      NaN\n",
       "140650      NaN      NaN     NaN      NaN\n",
       "140651      NaN      NaN     NaN      NaN\n",
       "140652      NaN      NaN     NaN      NaN\n",
       "140653      NaN      NaN     NaN      NaN\n",
       "140654      NaN      NaN     NaN      NaN\n",
       "140655      NaN      NaN     NaN      NaN\n",
       "140656      NaN      NaN     NaN      NaN\n",
       "140657      NaN      NaN     NaN      NaN\n",
       "140658      NaN      NaN     NaN      NaN\n",
       "140659      NaN      NaN     NaN      NaN\n",
       "140660      NaN      NaN     NaN      NaN\n",
       "140661      NaN      NaN     NaN      NaN\n",
       "140662      NaN      NaN     NaN      NaN\n",
       "140663      NaN      NaN     NaN      NaN\n",
       "140664      NaN      NaN     NaN      NaN\n",
       "140665      NaN      NaN     NaN      NaN\n",
       "140666      NaN      NaN     NaN      NaN\n",
       "140667      NaN      NaN     NaN      NaN\n",
       "140668      NaN      NaN     NaN      NaN\n",
       "140669      NaN      NaN     NaN      NaN\n",
       "140670      NaN      NaN     NaN      NaN"
      ]
     },
     "execution_count": 14,
     "metadata": {},
     "output_type": "execute_result"
    }
   ],
   "source": [
    "null"
   ]
  },
  {
   "cell_type": "code",
   "execution_count": 15,
   "id": "585787c0",
   "metadata": {
    "colab": {
     "base_uri": "https://localhost:8080/",
     "height": 424
    },
    "executionInfo": {
     "elapsed": 9,
     "status": "ok",
     "timestamp": 1661272964757,
     "user": {
      "displayName": "이다영",
      "userId": "14374690971343812637"
     },
     "user_tz": -540
    },
    "id": "585787c0",
    "outputId": "82fac0b5-6256-468b-e3e6-67080df4920e"
   },
   "outputs": [
    {
     "data": {
      "text/html": [
       "<div>\n",
       "<style scoped>\n",
       "    .dataframe tbody tr th:only-of-type {\n",
       "        vertical-align: middle;\n",
       "    }\n",
       "\n",
       "    .dataframe tbody tr th {\n",
       "        vertical-align: top;\n",
       "    }\n",
       "\n",
       "    .dataframe thead th {\n",
       "        text-align: right;\n",
       "    }\n",
       "</style>\n",
       "<table border=\"1\" class=\"dataframe\">\n",
       "  <thead>\n",
       "    <tr style=\"text-align: right;\">\n",
       "      <th></th>\n",
       "      <th>청담대교_수위</th>\n",
       "      <th>한강대교_수위</th>\n",
       "      <th>잠수교_수위</th>\n",
       "      <th>행주대교_수위</th>\n",
       "    </tr>\n",
       "  </thead>\n",
       "  <tbody>\n",
       "    <tr>\n",
       "      <th>0</th>\n",
       "      <td>310.7</td>\n",
       "      <td>290.0</td>\n",
       "      <td>300.2</td>\n",
       "      <td>275.3</td>\n",
       "    </tr>\n",
       "    <tr>\n",
       "      <th>1</th>\n",
       "      <td>314.7</td>\n",
       "      <td>290.0</td>\n",
       "      <td>300.2</td>\n",
       "      <td>275.3</td>\n",
       "    </tr>\n",
       "    <tr>\n",
       "      <th>2</th>\n",
       "      <td>313.7</td>\n",
       "      <td>290.0</td>\n",
       "      <td>301.2</td>\n",
       "      <td>275.3</td>\n",
       "    </tr>\n",
       "    <tr>\n",
       "      <th>3</th>\n",
       "      <td>311.7</td>\n",
       "      <td>290.0</td>\n",
       "      <td>301.2</td>\n",
       "      <td>276.3</td>\n",
       "    </tr>\n",
       "    <tr>\n",
       "      <th>4</th>\n",
       "      <td>311.7</td>\n",
       "      <td>291.0</td>\n",
       "      <td>301.2</td>\n",
       "      <td>277.3</td>\n",
       "    </tr>\n",
       "    <tr>\n",
       "      <th>...</th>\n",
       "      <td>...</td>\n",
       "      <td>...</td>\n",
       "      <td>...</td>\n",
       "      <td>...</td>\n",
       "    </tr>\n",
       "    <tr>\n",
       "      <th>140608</th>\n",
       "      <td>435.7</td>\n",
       "      <td>410.0</td>\n",
       "      <td>415.2</td>\n",
       "      <td>374.3</td>\n",
       "    </tr>\n",
       "    <tr>\n",
       "      <th>140609</th>\n",
       "      <td>438.7</td>\n",
       "      <td>413.0</td>\n",
       "      <td>418.2</td>\n",
       "      <td>375.3</td>\n",
       "    </tr>\n",
       "    <tr>\n",
       "      <th>140610</th>\n",
       "      <td>437.7</td>\n",
       "      <td>413.0</td>\n",
       "      <td>418.2</td>\n",
       "      <td>373.3</td>\n",
       "    </tr>\n",
       "    <tr>\n",
       "      <th>140611</th>\n",
       "      <td>434.7</td>\n",
       "      <td>413.0</td>\n",
       "      <td>415.2</td>\n",
       "      <td>373.3</td>\n",
       "    </tr>\n",
       "    <tr>\n",
       "      <th>140612</th>\n",
       "      <td>429.7</td>\n",
       "      <td>410.0</td>\n",
       "      <td>412.2</td>\n",
       "      <td>375.3</td>\n",
       "    </tr>\n",
       "  </tbody>\n",
       "</table>\n",
       "<p>140613 rows × 4 columns</p>\n",
       "</div>"
      ],
      "text/plain": [
       "        청담대교_수위  한강대교_수위  잠수교_수위  행주대교_수위\n",
       "0         310.7    290.0   300.2    275.3\n",
       "1         314.7    290.0   300.2    275.3\n",
       "2         313.7    290.0   301.2    275.3\n",
       "3         311.7    290.0   301.2    276.3\n",
       "4         311.7    291.0   301.2    277.3\n",
       "...         ...      ...     ...      ...\n",
       "140608    435.7    410.0   415.2    374.3\n",
       "140609    438.7    413.0   418.2    375.3\n",
       "140610    437.7    413.0   418.2    373.3\n",
       "140611    434.7    413.0   415.2    373.3\n",
       "140612    429.7    410.0   412.2    375.3\n",
       "\n",
       "[140613 rows x 4 columns]"
      ]
     },
     "execution_count": 15,
     "metadata": {},
     "output_type": "execute_result"
    }
   ],
   "source": [
    "x"
   ]
  },
  {
   "cell_type": "code",
   "execution_count": 16,
   "id": "256a6e58",
   "metadata": {
    "id": "256a6e58"
   },
   "outputs": [],
   "source": [
    "# conda install scikit-learn"
   ]
  },
  {
   "cell_type": "code",
   "execution_count": 17,
   "id": "1843e9dc",
   "metadata": {
    "id": "1843e9dc"
   },
   "outputs": [],
   "source": [
    "# train, test data 생성할 때 필요\n",
    "from sklearn.model_selection import train_test_split\n",
    "# 정규화할 때 필요\n",
    "from sklearn.preprocessing import StandardScaler, MinMaxScaler, RobustScaler"
   ]
  },
  {
   "cell_type": "code",
   "execution_count": 18,
   "id": "83bfdca0",
   "metadata": {
    "id": "83bfdca0"
   },
   "outputs": [],
   "source": [
    "# input 정규화\n",
    "x_regular = x.copy()\n",
    "\n",
    "for i in range(len(x.columns)):\n",
    "    scaler = StandardScaler()                       #StandardScaler() , MinMaxScaler() , RobustScaler()\n",
    "    a=np.array(x_regular.iloc[:,i])\n",
    "    tmp_x = scaler.fit_transform(a.reshape(-1,1))\n",
    "    x_regular.iloc[:,i] = tmp_x"
   ]
  },
  {
   "cell_type": "code",
   "execution_count": 19,
   "id": "76f5ea6a",
   "metadata": {
    "colab": {
     "base_uri": "https://localhost:8080/",
     "height": 424
    },
    "executionInfo": {
     "elapsed": 5,
     "status": "ok",
     "timestamp": 1661272965340,
     "user": {
      "displayName": "이다영",
      "userId": "14374690971343812637"
     },
     "user_tz": -540
    },
    "id": "76f5ea6a",
    "outputId": "9188b25f-ea90-481b-c764-37ec0f2beaf3"
   },
   "outputs": [
    {
     "data": {
      "text/html": [
       "<div>\n",
       "<style scoped>\n",
       "    .dataframe tbody tr th:only-of-type {\n",
       "        vertical-align: middle;\n",
       "    }\n",
       "\n",
       "    .dataframe tbody tr th {\n",
       "        vertical-align: top;\n",
       "    }\n",
       "\n",
       "    .dataframe thead th {\n",
       "        text-align: right;\n",
       "    }\n",
       "</style>\n",
       "<table border=\"1\" class=\"dataframe\">\n",
       "  <thead>\n",
       "    <tr style=\"text-align: right;\">\n",
       "      <th></th>\n",
       "      <th>청담대교_수위</th>\n",
       "      <th>한강대교_수위</th>\n",
       "      <th>잠수교_수위</th>\n",
       "      <th>행주대교_수위</th>\n",
       "    </tr>\n",
       "  </thead>\n",
       "  <tbody>\n",
       "    <tr>\n",
       "      <th>0</th>\n",
       "      <td>-0.213183</td>\n",
       "      <td>-0.292141</td>\n",
       "      <td>-0.168958</td>\n",
       "      <td>-0.473340</td>\n",
       "    </tr>\n",
       "    <tr>\n",
       "      <th>1</th>\n",
       "      <td>-0.150481</td>\n",
       "      <td>-0.292141</td>\n",
       "      <td>-0.168958</td>\n",
       "      <td>-0.473340</td>\n",
       "    </tr>\n",
       "    <tr>\n",
       "      <th>2</th>\n",
       "      <td>-0.166156</td>\n",
       "      <td>-0.292141</td>\n",
       "      <td>-0.151149</td>\n",
       "      <td>-0.473340</td>\n",
       "    </tr>\n",
       "    <tr>\n",
       "      <th>3</th>\n",
       "      <td>-0.197507</td>\n",
       "      <td>-0.292141</td>\n",
       "      <td>-0.151149</td>\n",
       "      <td>-0.450834</td>\n",
       "    </tr>\n",
       "    <tr>\n",
       "      <th>4</th>\n",
       "      <td>-0.197507</td>\n",
       "      <td>-0.273710</td>\n",
       "      <td>-0.151149</td>\n",
       "      <td>-0.428328</td>\n",
       "    </tr>\n",
       "    <tr>\n",
       "      <th>...</th>\n",
       "      <td>...</td>\n",
       "      <td>...</td>\n",
       "      <td>...</td>\n",
       "      <td>...</td>\n",
       "    </tr>\n",
       "    <tr>\n",
       "      <th>140608</th>\n",
       "      <td>1.746252</td>\n",
       "      <td>1.919546</td>\n",
       "      <td>1.879052</td>\n",
       "      <td>1.754767</td>\n",
       "    </tr>\n",
       "    <tr>\n",
       "      <th>140609</th>\n",
       "      <td>1.793278</td>\n",
       "      <td>1.974838</td>\n",
       "      <td>1.932478</td>\n",
       "      <td>1.777274</td>\n",
       "    </tr>\n",
       "    <tr>\n",
       "      <th>140610</th>\n",
       "      <td>1.777603</td>\n",
       "      <td>1.974838</td>\n",
       "      <td>1.932478</td>\n",
       "      <td>1.732261</td>\n",
       "    </tr>\n",
       "    <tr>\n",
       "      <th>140611</th>\n",
       "      <td>1.730576</td>\n",
       "      <td>1.974838</td>\n",
       "      <td>1.879052</td>\n",
       "      <td>1.732261</td>\n",
       "    </tr>\n",
       "    <tr>\n",
       "      <th>140612</th>\n",
       "      <td>1.652199</td>\n",
       "      <td>1.919546</td>\n",
       "      <td>1.825626</td>\n",
       "      <td>1.777274</td>\n",
       "    </tr>\n",
       "  </tbody>\n",
       "</table>\n",
       "<p>140613 rows × 4 columns</p>\n",
       "</div>"
      ],
      "text/plain": [
       "         청담대교_수위   한강대교_수위    잠수교_수위   행주대교_수위\n",
       "0      -0.213183 -0.292141 -0.168958 -0.473340\n",
       "1      -0.150481 -0.292141 -0.168958 -0.473340\n",
       "2      -0.166156 -0.292141 -0.151149 -0.473340\n",
       "3      -0.197507 -0.292141 -0.151149 -0.450834\n",
       "4      -0.197507 -0.273710 -0.151149 -0.428328\n",
       "...          ...       ...       ...       ...\n",
       "140608  1.746252  1.919546  1.879052  1.754767\n",
       "140609  1.793278  1.974838  1.932478  1.777274\n",
       "140610  1.777603  1.974838  1.932478  1.732261\n",
       "140611  1.730576  1.974838  1.879052  1.732261\n",
       "140612  1.652199  1.919546  1.825626  1.777274\n",
       "\n",
       "[140613 rows x 4 columns]"
      ]
     },
     "execution_count": 19,
     "metadata": {},
     "output_type": "execute_result"
    }
   ],
   "source": [
    "x_regular"
   ]
  },
  {
   "cell_type": "markdown",
   "id": "C0cNiTyDzcx5",
   "metadata": {
    "id": "C0cNiTyDzcx5"
   },
   "source": [
    "### 행주대교 수위"
   ]
  },
  {
   "cell_type": "code",
   "execution_count": 20,
   "id": "aca183d0",
   "metadata": {
    "colab": {
     "base_uri": "https://localhost:8080/"
    },
    "executionInfo": {
     "elapsed": 17366,
     "status": "ok",
     "timestamp": 1661272982702,
     "user": {
      "displayName": "이다영",
      "userId": "14374690971343812637"
     },
     "user_tz": -540
    },
    "id": "aca183d0",
    "outputId": "108b7cc8-8449-49f9-b71e-c8c0bcea58eb"
   },
   "outputs": [
    {
     "name": "stderr",
     "output_type": "stream",
     "text": [
      "100%|████████████████████████████████| 140123/140123 [00:06<00:00, 21359.84it/s]\n"
     ]
    }
   ],
   "source": [
    "start = time.time()\n",
    "\n",
    "y_predict = []\n",
    "\n",
    "xtrain = []\n",
    "ytrain = []\n",
    "\n",
    "w =  432 # window size\n",
    "n = 58 # 예측할 데이터 개수\n",
    "\n",
    "# xtrain 생성\n",
    "# for i in range(len(x_regular)-w):\n",
    "#     xtrain.append(np.array(x_regular.iloc[i:i + w, :]).astype(float))\n",
    "\n",
    "for i in tqdm(range(len(x_regular)-w-n)):\n",
    "    xtrain.append(np.array(x_regular.iloc[i:i + w, 3]).astype(float))"
   ]
  },
  {
   "cell_type": "code",
   "execution_count": null,
   "id": "mNq8B5EpkCbM",
   "metadata": {
    "colab": {
     "base_uri": "https://localhost:8080/"
    },
    "executionInfo": {
     "elapsed": 14590,
     "status": "ok",
     "timestamp": 1661272997272,
     "user": {
      "displayName": "이다영",
      "userId": "14374690971343812637"
     },
     "user_tz": -540
    },
    "id": "mNq8B5EpkCbM",
    "outputId": "cf74512b-ebad-4796-cef7-8c92fcf68560"
   },
   "outputs": [
    {
     "name": "stderr",
     "output_type": "stream",
     "text": [
      " 35%|███████████▋                     | 49475/140123 [00:02<00:04, 21461.14it/s]"
     ]
    }
   ],
   "source": [
    "# ytrain 생성\n",
    "# for i in range(w, len(x_regular)):\n",
    "#     ytrain.append(np.array(x_regular.iloc[i, :]).astype(float))\n",
    "ytrain = []\n",
    "\n",
    "for i in tqdm(range(w, len(x_regular)-n)):\n",
    "  ytrain.append(np.array(x_regular.iloc[i:i+n, 3]).astype(float))"
   ]
  },
  {
   "cell_type": "code",
   "execution_count": null,
   "id": "LGk04-5fmOMZ",
   "metadata": {
    "colab": {
     "base_uri": "https://localhost:8080/"
    },
    "executionInfo": {
     "elapsed": 531,
     "status": "ok",
     "timestamp": 1661272997784,
     "user": {
      "displayName": "이다영",
      "userId": "14374690971343812637"
     },
     "user_tz": -540
    },
    "id": "LGk04-5fmOMZ",
    "outputId": "f1bebf3a-3c1d-417c-fdbb-422d1b347fab"
   },
   "outputs": [],
   "source": [
    "xtrain = np.array(xtrain)\n",
    "ytrain = np.array(ytrain)\n",
    "print(xtrain.shape)\n",
    "print(ytrain.shape)"
   ]
  },
  {
   "cell_type": "code",
   "execution_count": null,
   "id": "l90X2vW_mOJ2",
   "metadata": {
    "id": "l90X2vW_mOJ2"
   },
   "outputs": [],
   "source": [
    "df_xtrain = pd.DataFrame(xtrain, columns = [i for i in range(432)])"
   ]
  },
  {
   "cell_type": "code",
   "execution_count": null,
   "id": "Slr59PLymOGb",
   "metadata": {
    "id": "Slr59PLymOGb"
   },
   "outputs": [],
   "source": [
    "df_ytrain = pd.DataFrame(ytrain, columns = [f'R{i}' for i in range(58)])"
   ]
  },
  {
   "cell_type": "code",
   "execution_count": null,
   "id": "Elt6-yQUmOCh",
   "metadata": {
    "id": "Elt6-yQUmOCh"
   },
   "outputs": [],
   "source": [
    "df_series = pd.concat([df_xtrain, df_ytrain], axis = 1)"
   ]
  },
  {
   "cell_type": "code",
   "execution_count": null,
   "id": "GZiilBIZlAgU",
   "metadata": {
    "colab": {
     "base_uri": "https://localhost:8080/"
    },
    "executionInfo": {
     "elapsed": 3,
     "status": "ok",
     "timestamp": 1661272999640,
     "user": {
      "displayName": "이다영",
      "userId": "14374690971343812637"
     },
     "user_tz": -540
    },
    "id": "GZiilBIZlAgU",
    "outputId": "319883c6-83d8-41db-fe5a-f2835d7e2de2"
   },
   "outputs": [],
   "source": [
    "df_series.shape"
   ]
  },
  {
   "cell_type": "code",
   "execution_count": null,
   "id": "lTi1RvEE0qyy",
   "metadata": {
    "colab": {
     "base_uri": "https://localhost:8080/"
    },
    "executionInfo": {
     "elapsed": 4,
     "status": "ok",
     "timestamp": 1661272999641,
     "user": {
      "displayName": "이다영",
      "userId": "14374690971343812637"
     },
     "user_tz": -540
    },
    "id": "lTi1RvEE0qyy",
    "outputId": "c961b5cc-5350-4786-ba11-fd969d766677"
   },
   "outputs": [],
   "source": [
    "xtrain.reshape(140123, 432, 1)\n",
    "ytrain.reshape(140123, 58, 1)"
   ]
  },
  {
   "cell_type": "code",
   "execution_count": null,
   "id": "6RgpjEd65R0m",
   "metadata": {
    "colab": {
     "base_uri": "https://localhost:8080/"
    },
    "executionInfo": {
     "elapsed": 479,
     "status": "ok",
     "timestamp": 1661273000118,
     "user": {
      "displayName": "이다영",
      "userId": "14374690971343812637"
     },
     "user_tz": -540
    },
    "id": "6RgpjEd65R0m",
    "outputId": "ac4a6bcd-1e54-404e-e502-e5e8488edcec"
   },
   "outputs": [],
   "source": [
    "# label\n",
    "labels_col = [f'R{i}' for i in range(58)]\n",
    "labels = df_series[labels_col]\n",
    "series = df_series.drop(labels_col, axis=1)\n",
    "labels.values.shape"
   ]
  },
  {
   "cell_type": "code",
   "execution_count": null,
   "id": "TNgFjG5S4w7a",
   "metadata": {
    "id": "TNgFjG5S4w7a"
   },
   "outputs": [],
   "source": [
    "# x_train, x_val, y_train, y_val 분류\n",
    "x_train, x_val, y_train, y_val = train_test_split(series, labels.values, test_size = 0.4, random_state = 0)"
   ]
  },
  {
   "cell_type": "code",
   "execution_count": null,
   "id": "7CE5IUEq4w40",
   "metadata": {
    "colab": {
     "base_uri": "https://localhost:8080/",
     "height": 488
    },
    "executionInfo": {
     "elapsed": 7,
     "status": "ok",
     "timestamp": 1661273000947,
     "user": {
      "displayName": "이다영",
      "userId": "14374690971343812637"
     },
     "user_tz": -540
    },
    "id": "7CE5IUEq4w40",
    "outputId": "e1f05403-bd0a-4a7b-c034-71106d33061b"
   },
   "outputs": [],
   "source": [
    "x_train"
   ]
  },
  {
   "cell_type": "code",
   "execution_count": null,
   "id": "b7LPn5F-8Be2",
   "metadata": {
    "id": "b7LPn5F-8Be2"
   },
   "outputs": [],
   "source": [
    "# xtest = "
   ]
  },
  {
   "cell_type": "code",
   "execution_count": null,
   "id": "715464aa",
   "metadata": {
    "colab": {
     "base_uri": "https://localhost:8080/"
    },
    "executionInfo": {
     "elapsed": 1123764,
     "status": "ok",
     "timestamp": 1661274124706,
     "user": {
      "displayName": "이다영",
      "userId": "14374690971343812637"
     },
     "user_tz": -540
    },
    "id": "715464aa",
    "outputId": "43d395e5-d0f7-426a-a289-deb6c9041792"
   },
   "outputs": [],
   "source": [
    "# 모델링 및 모델 학습\n",
    "\n",
    "if 'model' in locals(): \n",
    "    del model \n",
    "if 'history' in locals():\n",
    "    del history\n",
    "\n",
    "\n",
    "#He_normal\n",
    "He_normal = keras.initializers.he_normal(seed=None)\n",
    "\n",
    "model = Sequential()\n",
    "model.add(Conv1D(filters = 8, input_shape = (w, 1), kernel_size = 2, padding='causal', dilation_rate=2, kernel_initializer = He_normal))\n",
    "model.add(BatchNormalization())\n",
    "model.add(Activation('relu'))\n",
    "model.add(Dropout(0.2))  #0.2~0.5  0.8까지\n",
    "\n",
    "model.add(Conv1D(filters = 16, kernel_size = 2, padding='causal', dilation_rate=4, kernel_initializer = He_normal))\n",
    "model.add(BatchNormalization())\n",
    "model.add(Activation('relu'))\n",
    "model.add(Dropout(0.2))\n",
    "\n",
    "model.add(Conv1D(filters = 32, kernel_size = 1))\n",
    "\n",
    "model.add(Flatten())   #model.add(GlobalAveragePooling1D(pool_size=2))\n",
    "\n",
    "model.add(Dense(50, kernel_initializer = He_normal))\n",
    "model.add(BatchNormalization())\n",
    "model.add(Activation('relu'))\n",
    "model.add(Dropout(0.2))\n",
    "\n",
    "model.add(Dense(58))\n",
    "\n",
    "\n",
    "def root_mean_squared_error(y_true, y_pred):\n",
    "        return K.sqrt(K.mean(K.square(y_pred - y_true))) \n",
    "\n",
    "opt = tf.keras.optimizers.Adam(lr=0.005) #기본값 0.001\n",
    "model.compile(optimizer=opt, loss=root_mean_squared_error, metrics =[\"accuracy\"])\n",
    "model.summary()\n",
    "\n",
    "\n",
    "\n",
    "callbacks = [keras.callbacks.EarlyStopping(monitor='val_loss',\n",
    "                                            patience=5),\n",
    "                keras.callbacks.ModelCheckpoint(filepath='best_model.h5',\n",
    "                                                monitor='val_loss',\n",
    "                                                save_best_only=True)]\n",
    "\n",
    "\n",
    "\n",
    "history = model.fit(xtrain, ytrain, epochs=300, validation_data = (x_val, y_val), verbose=1, callbacks=callbacks, batch_size = 3742) #batch size..?\n",
    "\n",
    "\n",
    "keras_model_best = keras.models.load_model('best_model.h5', custom_objects={'root_mean_squared_error': root_mean_squared_error})\n",
    "\n",
    "keras_model_best.evaluate(x_val,y_val)\n",
    "\n",
    "# y_predict.append(keras_model_best.predict(xtest))\n",
    "\n",
    "print(\"time :\", time.time() - start, \"초\")"
   ]
  },
  {
   "cell_type": "code",
   "execution_count": null,
   "id": "XxZdqzVB9P00",
   "metadata": {
    "id": "XxZdqzVB9P00"
   },
   "outputs": [],
   "source": [
    "x_test = x['행주대교_수위'][-432:]"
   ]
  },
  {
   "cell_type": "code",
   "execution_count": null,
   "id": "AbrGtfBNrtni",
   "metadata": {
    "id": "AbrGtfBNrtni"
   },
   "outputs": [],
   "source": [
    "x_test = x_test.reshape((1, 432, 1))"
   ]
  },
  {
   "cell_type": "code",
   "execution_count": null,
   "id": "vRZ6Cm43sKUk",
   "metadata": {
    "colab": {
     "base_uri": "https://localhost:8080/"
    },
    "executionInfo": {
     "elapsed": 4,
     "status": "ok",
     "timestamp": 1661276166991,
     "user": {
      "displayName": "이다영",
      "userId": "14374690971343812637"
     },
     "user_tz": -540
    },
    "id": "vRZ6Cm43sKUk",
    "outputId": "a1f991d5-72de-4400-86db-991a7cf5f468"
   },
   "outputs": [],
   "source": [
    "x_test.shape"
   ]
  },
  {
   "cell_type": "code",
   "execution_count": null,
   "id": "WxlZOYr7sX4r",
   "metadata": {
    "id": "WxlZOYr7sX4r"
   },
   "outputs": [],
   "source": [
    "y_predict = keras_model_best.predict(x_test)"
   ]
  },
  {
   "cell_type": "code",
   "execution_count": null,
   "id": "PFXo8uo7sZyF",
   "metadata": {
    "colab": {
     "base_uri": "https://localhost:8080/"
    },
    "executionInfo": {
     "elapsed": 365,
     "status": "ok",
     "timestamp": 1661276204954,
     "user": {
      "displayName": "이다영",
      "userId": "14374690971343812637"
     },
     "user_tz": -540
    },
    "id": "PFXo8uo7sZyF",
    "outputId": "b695fc36-87d6-4c21-8f25-6f2eb3588393"
   },
   "outputs": [],
   "source": [
    "y_predict.shape"
   ]
  },
  {
   "cell_type": "code",
   "execution_count": null,
   "id": "YsRi9r4YyyoP",
   "metadata": {
    "colab": {
     "base_uri": "https://localhost:8080/"
    },
    "executionInfo": {
     "elapsed": 313,
     "status": "ok",
     "timestamp": 1661276505812,
     "user": {
      "displayName": "이다영",
      "userId": "14374690971343812637"
     },
     "user_tz": -540
    },
    "id": "YsRi9r4YyyoP",
    "outputId": "cfedd60e-b471-48cb-95a1-e325b719fa27"
   },
   "outputs": [],
   "source": [
    "pd.Series(list(y_predict))"
   ]
  },
  {
   "cell_type": "code",
   "execution_count": null,
   "id": "6bBjKlqUxs_Q",
   "metadata": {
    "id": "6bBjKlqUxs_Q"
   },
   "outputs": [],
   "source": [
    "수위.loc[consecutive, '행주대교_수위'] = y_predict"
   ]
  },
  {
   "cell_type": "code",
   "execution_count": null,
   "id": "3o1yMp-Uy-fn",
   "metadata": {
    "colab": {
     "base_uri": "https://localhost:8080/"
    },
    "executionInfo": {
     "elapsed": 415,
     "status": "ok",
     "timestamp": 1661276523014,
     "user": {
      "displayName": "이다영",
      "userId": "14374690971343812637"
     },
     "user_tz": -540
    },
    "id": "3o1yMp-Uy-fn",
    "outputId": "009c2d71-269f-4998-cb00-7d6e8ac5c3e6"
   },
   "outputs": [],
   "source": [
    "수위.loc[consecutive, '행주대교_수위']"
   ]
  },
  {
   "cell_type": "code",
   "execution_count": null,
   "id": "5As4eFUNzAUT",
   "metadata": {
    "id": "5As4eFUNzAUT"
   },
   "outputs": [],
   "source": [
    "# unconsecutive 부분 보간\n",
    "\n",
    "unconsecutive2 = [unconsecutive-1, unconsecutive, unconsecutive+1]\n",
    "수위.loc[unconsecutive2, '행주대교_수위'] = 수위.loc[unconsecutive2, '행주대교_수위'].interpolate()"
   ]
  },
  {
   "cell_type": "code",
   "execution_count": null,
   "id": "DsXvPIaHz-sd",
   "metadata": {
    "colab": {
     "base_uri": "https://localhost:8080/"
    },
    "executionInfo": {
     "elapsed": 5,
     "status": "ok",
     "timestamp": 1661276946657,
     "user": {
      "displayName": "이다영",
      "userId": "14374690971343812637"
     },
     "user_tz": -540
    },
    "id": "DsXvPIaHz-sd",
    "outputId": "9a87f686-68d0-4d7b-c99c-5ba80971cf82"
   },
   "outputs": [],
   "source": [
    "수위['청담대교_수위'].isnull().sum()"
   ]
  },
  {
   "cell_type": "code",
   "execution_count": null,
   "id": "tfBFwlSf0n6P",
   "metadata": {
    "id": "tfBFwlSf0n6P"
   },
   "outputs": [],
   "source": [
    "수위['청담대교_수위'].to_csv('/Volumes/GoogleDrive/.shortcut-targets-by-id/1rUx7_7LmBqAQTbWEWVTGvw0_d0v6N2ZT/신입기수 프로젝트/Dataset/CNN_전처리', index = False, encoding = 'cp949')\n",
    "\n",
    "# for jupyter\n",
    "# /Volumes/GoogleDrive/.shortcut-targets-by-id/1rUx7_7LmBqAQTbWEWVTGvw0_d0v6N2ZT/신입기수 프로젝트/Dataset/CNN_전처리\n",
    "# for colab\n",
    "# /content/drive/MyDrive/신입기수 프로젝트/Dataset/CNN_전처리/행주대교_수위.csv"
   ]
  },
  {
   "cell_type": "code",
   "execution_count": null,
   "id": "8ZUiHuOk08OW",
   "metadata": {
    "id": "8ZUiHuOk08OW"
   },
   "outputs": [],
   "source": []
  }
 ],
 "metadata": {
  "colab": {
   "name": "행주대교_수위_CNN.ipynb",
   "provenance": []
  },
  "kernelspec": {
   "display_name": "Python 3 (ipykernel)",
   "language": "python",
   "name": "python3"
  },
  "language_info": {
   "codemirror_mode": {
    "name": "ipython",
    "version": 3
   },
   "file_extension": ".py",
   "mimetype": "text/x-python",
   "name": "python",
   "nbconvert_exporter": "python",
   "pygments_lexer": "ipython3",
   "version": "3.7.13"
  }
 },
 "nbformat": 4,
 "nbformat_minor": 5
}
