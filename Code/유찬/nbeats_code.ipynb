{
  "nbformat": 4,
  "nbformat_minor": 0,
  "metadata": {
    "colab": {
      "name": "Untitled6.ipynb",
      "provenance": []
    },
    "kernelspec": {
      "name": "python3",
      "display_name": "Python 3"
    },
    "language_info": {
      "name": "python"
    }
  },
  "cells": [
    {
      "cell_type": "code",
      "source": [
        "from google.colab import drive\n",
        "drive.mount('/content/drive')"
      ],
      "metadata": {
        "colab": {
          "base_uri": "https://localhost:8080/"
        },
        "id": "YndoambgXIbw",
        "outputId": "256c614a-73f8-459c-a5ab-f1d0f64bf1f1"
      },
      "execution_count": 1,
      "outputs": [
        {
          "output_type": "stream",
          "name": "stdout",
          "text": [
            "Mounted at /content/drive\n"
          ]
        }
      ]
    },
    {
      "cell_type": "code",
      "source": [
        "pip install nbeats-pytorch"
      ],
      "metadata": {
        "id": "12oMyM93dR64"
      },
      "execution_count": null,
      "outputs": []
    },
    {
      "cell_type": "code",
      "source": [
        "pip install nbeats-forecast\n"
      ],
      "metadata": {
        "id": "lDO5hFvgi8xK"
      },
      "execution_count": null,
      "outputs": []
    },
    {
      "cell_type": "code",
      "source": [
        "pip install NBEATS"
      ],
      "metadata": {
        "id": "Ro2-w4XaXNyw"
      },
      "execution_count": null,
      "outputs": []
    },
    {
      "cell_type": "code",
      "source": [
        "from NBEATS import NeuralBeats\n"
      ],
      "metadata": {
        "id": "dh-MYl64ZYId"
      },
      "execution_count": 71,
      "outputs": []
    },
    {
      "cell_type": "code",
      "source": [
        "import pandas as pd\n",
        "import numpy as np\n",
        "data = pd.read_csv('/content/drive/MyDrive/팔당댐/rawdata.csv')\n",
        "data= np.array(data.청담대교_수위[:269424])\n",
        "data = data.reshape(269424,1)"
      ],
      "metadata": {
        "id": "YsG0DewHaMBq"
      },
      "execution_count": 62,
      "outputs": []
    },
    {
      "cell_type": "code",
      "source": [
        "import pandas as pd\n",
        "from nbeats_forecast import NBeats\n",
        "from torch import optim\n",
        "\n",
        "data = pd.read_csv('/content/drive/MyDrive/팔당댐/rawdata.csv')\n",
        "data= np.array(data.청담대교_수위[:269424]) \n",
        "data = data.reshape(269424,1)\n",
        "\n",
        "model=NeuralBeats(data=data,forecast_length=5,stack=[1,3],nb_blocks_per_stack=3,thetas_dims=[3,7])\n",
        "\n",
        "model.fit(epoch=5,optimiser=optim.AdamW(model.parameters, lr=0.01, betas=(0.9, 0.999), eps=1e-08, weight_decay=0.01, amsgrad=False))\n",
        "\n",
        "forecast=model.predict()"
      ],
      "metadata": {
        "id": "J9B_BNvxZf7A"
      },
      "execution_count": null,
      "outputs": []
    },
    {
      "cell_type": "code",
      "source": [
        "pip install torch"
      ],
      "metadata": {
        "colab": {
          "base_uri": "https://localhost:8080/"
        },
        "id": "BH1AR_wlcaBE",
        "outputId": "11d3b528-c225-4329-c7c0-47a17f4aed03"
      },
      "execution_count": 66,
      "outputs": [
        {
          "output_type": "stream",
          "name": "stdout",
          "text": [
            "Looking in indexes: https://pypi.org/simple, https://us-python.pkg.dev/colab-wheels/public/simple/\n",
            "Requirement already satisfied: torch in /usr/local/lib/python3.7/dist-packages (1.12.1+cu113)\n",
            "Requirement already satisfied: typing-extensions in /usr/local/lib/python3.7/dist-packages (from torch) (4.1.1)\n"
          ]
        }
      ]
    },
    {
      "cell_type": "code",
      "source": [
        "import torch "
      ],
      "metadata": {
        "id": "Hn5gLAcbdgMk"
      },
      "execution_count": 67,
      "outputs": []
    },
    {
      "cell_type": "code",
      "source": [
        "forecast"
      ],
      "metadata": {
        "colab": {
          "base_uri": "https://localhost:8080/"
        },
        "id": "VTvCW5H9kNi1",
        "outputId": "fad91d2e-9690-4ec9-8df1-8594c2708eb4"
      },
      "execution_count": 79,
      "outputs": [
        {
          "output_type": "execute_result",
          "data": {
            "text/plain": [
              "array([[314.95694, 316.53098, 316.25153, ..., 292.99033, 293.15472,\n",
              "        293.4172 ],\n",
              "       [315.26816, 316.85254, 316.5697 , ..., 294.23257, 294.3909 ,\n",
              "        294.64554],\n",
              "       [315.1859 , 316.87384, 316.59222, ..., 292.37933, 292.57962,\n",
              "        292.91077],\n",
              "       [316.24722, 317.90314, 317.61218, ..., 296.08475, 296.26172,\n",
              "        296.55106],\n",
              "       [316.8547 , 318.52887, 318.23788, ..., 297.1496 , 297.3394 ,\n",
              "        297.65106]], dtype=float32)"
            ]
          },
          "metadata": {},
          "execution_count": 79
        }
      ]
    }
  ]
}