{
 "cells": [
  {
   "cell_type": "code",
   "execution_count": 2,
   "id": "2de049b7",
   "metadata": {},
   "outputs": [],
   "source": [
    "import pandas as pd\n",
    "import matplotlib.pyplot as plt"
   ]
  },
  {
   "cell_type": "code",
   "execution_count": 3,
   "id": "3b567898",
   "metadata": {
    "colab": {
     "base_uri": "https://localhost:8080/",
     "height": 867
    },
    "executionInfo": {
     "elapsed": 1959,
     "status": "ok",
     "timestamp": 1660743839230,
     "user": {
      "displayName": "이예림(상경대학 응용통계학과)",
      "userId": "02944141114007762965"
     },
     "user_tz": -540
    },
    "id": "U9jRax0XTYCf",
    "outputId": "4323b80c-c018-4e8c-ba9f-b641a509bb74",
    "scrolled": true
   },
   "outputs": [
    {
     "data": {
      "text/html": [
       "<div>\n",
       "<style scoped>\n",
       "    .dataframe tbody tr th:only-of-type {\n",
       "        vertical-align: middle;\n",
       "    }\n",
       "\n",
       "    .dataframe tbody tr th {\n",
       "        vertical-align: top;\n",
       "    }\n",
       "\n",
       "    .dataframe thead th {\n",
       "        text-align: right;\n",
       "    }\n",
       "</style>\n",
       "<table border=\"1\" class=\"dataframe\">\n",
       "  <thead>\n",
       "    <tr style=\"text-align: right;\">\n",
       "      <th></th>\n",
       "      <th>날짜</th>\n",
       "      <th>현재수위</th>\n",
       "      <th>유입량</th>\n",
       "      <th>저수량</th>\n",
       "      <th>공용량</th>\n",
       "      <th>방류량</th>\n",
       "      <th>강화대교_조위</th>\n",
       "      <th>청담대교_유량</th>\n",
       "      <th>잠수교_유량</th>\n",
       "      <th>한강대교_유량</th>\n",
       "      <th>행주대교_유량</th>\n",
       "      <th>대곡교_강수량</th>\n",
       "      <th>진관교_강수량</th>\n",
       "      <th>송정동_강수량</th>\n",
       "      <th>청담대교_수위</th>\n",
       "      <th>잠수교_수위</th>\n",
       "      <th>한강대교_수위</th>\n",
       "      <th>행주대교_수위</th>\n",
       "    </tr>\n",
       "  </thead>\n",
       "  <tbody>\n",
       "    <tr>\n",
       "      <th>0</th>\n",
       "      <td>2012-05-01 00:00</td>\n",
       "      <td>24.800</td>\n",
       "      <td>555.00</td>\n",
       "      <td>219.07</td>\n",
       "      <td>24.93</td>\n",
       "      <td>555.00</td>\n",
       "      <td>445.0</td>\n",
       "      <td>469.05</td>\n",
       "      <td>0.0</td>\n",
       "      <td>729.80</td>\n",
       "      <td>540.18</td>\n",
       "      <td>0.0</td>\n",
       "      <td>0.0</td>\n",
       "      <td>0.0</td>\n",
       "      <td>310.7</td>\n",
       "      <td>300.2</td>\n",
       "      <td>290.0</td>\n",
       "      <td>275.3</td>\n",
       "    </tr>\n",
       "    <tr>\n",
       "      <th>1</th>\n",
       "      <td>2012-05-01 00:10</td>\n",
       "      <td>24.794</td>\n",
       "      <td>464.60</td>\n",
       "      <td>218.86</td>\n",
       "      <td>25.15</td>\n",
       "      <td>562.90</td>\n",
       "      <td>449.0</td>\n",
       "      <td>498.00</td>\n",
       "      <td>0.0</td>\n",
       "      <td>731.48</td>\n",
       "      <td>540.18</td>\n",
       "      <td>0.0</td>\n",
       "      <td>0.0</td>\n",
       "      <td>0.0</td>\n",
       "      <td>314.7</td>\n",
       "      <td>300.2</td>\n",
       "      <td>290.0</td>\n",
       "      <td>275.3</td>\n",
       "    </tr>\n",
       "    <tr>\n",
       "      <th>2</th>\n",
       "      <td>2012-05-01 00:20</td>\n",
       "      <td>24.789</td>\n",
       "      <td>478.10</td>\n",
       "      <td>218.69</td>\n",
       "      <td>25.31</td>\n",
       "      <td>576.40</td>\n",
       "      <td>451.0</td>\n",
       "      <td>490.68</td>\n",
       "      <td>0.0</td>\n",
       "      <td>726.42</td>\n",
       "      <td>540.18</td>\n",
       "      <td>0.0</td>\n",
       "      <td>0.0</td>\n",
       "      <td>0.0</td>\n",
       "      <td>313.7</td>\n",
       "      <td>301.2</td>\n",
       "      <td>290.0</td>\n",
       "      <td>275.3</td>\n",
       "    </tr>\n",
       "    <tr>\n",
       "      <th>3</th>\n",
       "      <td>2012-05-01 00:30</td>\n",
       "      <td>24.789</td>\n",
       "      <td>464.80</td>\n",
       "      <td>218.69</td>\n",
       "      <td>25.31</td>\n",
       "      <td>563.10</td>\n",
       "      <td>452.0</td>\n",
       "      <td>476.21</td>\n",
       "      <td>0.0</td>\n",
       "      <td>726.42</td>\n",
       "      <td>552.17</td>\n",
       "      <td>0.0</td>\n",
       "      <td>0.0</td>\n",
       "      <td>0.0</td>\n",
       "      <td>311.7</td>\n",
       "      <td>301.2</td>\n",
       "      <td>290.0</td>\n",
       "      <td>276.3</td>\n",
       "    </tr>\n",
       "    <tr>\n",
       "      <th>4</th>\n",
       "      <td>2012-05-01 00:40</td>\n",
       "      <td>24.789</td>\n",
       "      <td>478.10</td>\n",
       "      <td>218.69</td>\n",
       "      <td>25.31</td>\n",
       "      <td>576.40</td>\n",
       "      <td>450.0</td>\n",
       "      <td>476.21</td>\n",
       "      <td>0.0</td>\n",
       "      <td>707.17</td>\n",
       "      <td>564.29</td>\n",
       "      <td>0.0</td>\n",
       "      <td>0.0</td>\n",
       "      <td>0.0</td>\n",
       "      <td>311.7</td>\n",
       "      <td>301.2</td>\n",
       "      <td>291.0</td>\n",
       "      <td>277.3</td>\n",
       "    </tr>\n",
       "    <tr>\n",
       "      <th>...</th>\n",
       "      <td>...</td>\n",
       "      <td>...</td>\n",
       "      <td>...</td>\n",
       "      <td>...</td>\n",
       "      <td>...</td>\n",
       "      <td>...</td>\n",
       "      <td>...</td>\n",
       "      <td>...</td>\n",
       "      <td>...</td>\n",
       "      <td>...</td>\n",
       "      <td>...</td>\n",
       "      <td>...</td>\n",
       "      <td>...</td>\n",
       "      <td>...</td>\n",
       "      <td>...</td>\n",
       "      <td>...</td>\n",
       "      <td>...</td>\n",
       "      <td>...</td>\n",
       "    </tr>\n",
       "    <tr>\n",
       "      <th>276331</th>\n",
       "      <td>2022-07-18 23:10</td>\n",
       "      <td>25.040</td>\n",
       "      <td>259.23</td>\n",
       "      <td>212.86</td>\n",
       "      <td>31.14</td>\n",
       "      <td>259.23</td>\n",
       "      <td>510.0</td>\n",
       "      <td>319.84</td>\n",
       "      <td>NaN</td>\n",
       "      <td>-456.41</td>\n",
       "      <td>974.40</td>\n",
       "      <td>0.0</td>\n",
       "      <td>0.0</td>\n",
       "      <td>0.0</td>\n",
       "      <td>0.0</td>\n",
       "      <td>0.0</td>\n",
       "      <td>0.0</td>\n",
       "      <td>0.0</td>\n",
       "    </tr>\n",
       "    <tr>\n",
       "      <th>276332</th>\n",
       "      <td>2022-07-18 23:20</td>\n",
       "      <td>25.040</td>\n",
       "      <td>260.46</td>\n",
       "      <td>212.86</td>\n",
       "      <td>31.14</td>\n",
       "      <td>260.46</td>\n",
       "      <td>492.0</td>\n",
       "      <td>314.01</td>\n",
       "      <td>NaN</td>\n",
       "      <td>-717.30</td>\n",
       "      <td>1006.88</td>\n",
       "      <td>0.0</td>\n",
       "      <td>0.0</td>\n",
       "      <td>0.0</td>\n",
       "      <td>0.0</td>\n",
       "      <td>0.0</td>\n",
       "      <td>0.0</td>\n",
       "      <td>0.0</td>\n",
       "    </tr>\n",
       "    <tr>\n",
       "      <th>276333</th>\n",
       "      <td>2022-07-18 23:30</td>\n",
       "      <td>25.040</td>\n",
       "      <td>259.37</td>\n",
       "      <td>212.86</td>\n",
       "      <td>31.14</td>\n",
       "      <td>259.37</td>\n",
       "      <td>475.0</td>\n",
       "      <td>387.55</td>\n",
       "      <td>NaN</td>\n",
       "      <td>-843.37</td>\n",
       "      <td>1039.90</td>\n",
       "      <td>0.0</td>\n",
       "      <td>0.0</td>\n",
       "      <td>0.0</td>\n",
       "      <td>0.0</td>\n",
       "      <td>0.0</td>\n",
       "      <td>0.0</td>\n",
       "      <td>0.0</td>\n",
       "    </tr>\n",
       "    <tr>\n",
       "      <th>276334</th>\n",
       "      <td>2022-07-18 23:40</td>\n",
       "      <td>25.040</td>\n",
       "      <td>259.13</td>\n",
       "      <td>212.86</td>\n",
       "      <td>31.14</td>\n",
       "      <td>259.13</td>\n",
       "      <td>458.0</td>\n",
       "      <td>454.91</td>\n",
       "      <td>NaN</td>\n",
       "      <td>-1023.37</td>\n",
       "      <td>1073.46</td>\n",
       "      <td>0.0</td>\n",
       "      <td>0.0</td>\n",
       "      <td>0.0</td>\n",
       "      <td>0.0</td>\n",
       "      <td>0.0</td>\n",
       "      <td>0.0</td>\n",
       "      <td>0.0</td>\n",
       "    </tr>\n",
       "    <tr>\n",
       "      <th>276335</th>\n",
       "      <td>2022-07-18 23:50</td>\n",
       "      <td>25.040</td>\n",
       "      <td>258.16</td>\n",
       "      <td>212.86</td>\n",
       "      <td>31.14</td>\n",
       "      <td>258.16</td>\n",
       "      <td>442.0</td>\n",
       "      <td>582.21</td>\n",
       "      <td>NaN</td>\n",
       "      <td>-1049.44</td>\n",
       "      <td>1090.45</td>\n",
       "      <td>0.0</td>\n",
       "      <td>0.0</td>\n",
       "      <td>0.0</td>\n",
       "      <td>0.0</td>\n",
       "      <td>0.0</td>\n",
       "      <td>0.0</td>\n",
       "      <td>0.0</td>\n",
       "    </tr>\n",
       "  </tbody>\n",
       "</table>\n",
       "<p>276336 rows × 18 columns</p>\n",
       "</div>"
      ],
      "text/plain": [
       "                      날짜    현재수위     유입량     저수량    공용량     방류량  강화대교_조위  \\\n",
       "0       2012-05-01 00:00  24.800  555.00  219.07  24.93  555.00    445.0   \n",
       "1       2012-05-01 00:10  24.794  464.60  218.86  25.15  562.90    449.0   \n",
       "2       2012-05-01 00:20  24.789  478.10  218.69  25.31  576.40    451.0   \n",
       "3       2012-05-01 00:30  24.789  464.80  218.69  25.31  563.10    452.0   \n",
       "4       2012-05-01 00:40  24.789  478.10  218.69  25.31  576.40    450.0   \n",
       "...                  ...     ...     ...     ...    ...     ...      ...   \n",
       "276331  2022-07-18 23:10  25.040  259.23  212.86  31.14  259.23    510.0   \n",
       "276332  2022-07-18 23:20  25.040  260.46  212.86  31.14  260.46    492.0   \n",
       "276333  2022-07-18 23:30  25.040  259.37  212.86  31.14  259.37    475.0   \n",
       "276334  2022-07-18 23:40  25.040  259.13  212.86  31.14  259.13    458.0   \n",
       "276335  2022-07-18 23:50  25.040  258.16  212.86  31.14  258.16    442.0   \n",
       "\n",
       "        청담대교_유량  잠수교_유량  한강대교_유량  행주대교_유량  대곡교_강수량  진관교_강수량  송정동_강수량  청담대교_수위  \\\n",
       "0        469.05     0.0   729.80   540.18      0.0      0.0      0.0    310.7   \n",
       "1        498.00     0.0   731.48   540.18      0.0      0.0      0.0    314.7   \n",
       "2        490.68     0.0   726.42   540.18      0.0      0.0      0.0    313.7   \n",
       "3        476.21     0.0   726.42   552.17      0.0      0.0      0.0    311.7   \n",
       "4        476.21     0.0   707.17   564.29      0.0      0.0      0.0    311.7   \n",
       "...         ...     ...      ...      ...      ...      ...      ...      ...   \n",
       "276331   319.84     NaN  -456.41   974.40      0.0      0.0      0.0      0.0   \n",
       "276332   314.01     NaN  -717.30  1006.88      0.0      0.0      0.0      0.0   \n",
       "276333   387.55     NaN  -843.37  1039.90      0.0      0.0      0.0      0.0   \n",
       "276334   454.91     NaN -1023.37  1073.46      0.0      0.0      0.0      0.0   \n",
       "276335   582.21     NaN -1049.44  1090.45      0.0      0.0      0.0      0.0   \n",
       "\n",
       "        잠수교_수위  한강대교_수위  행주대교_수위  \n",
       "0        300.2    290.0    275.3  \n",
       "1        300.2    290.0    275.3  \n",
       "2        301.2    290.0    275.3  \n",
       "3        301.2    290.0    276.3  \n",
       "4        301.2    291.0    277.3  \n",
       "...        ...      ...      ...  \n",
       "276331     0.0      0.0      0.0  \n",
       "276332     0.0      0.0      0.0  \n",
       "276333     0.0      0.0      0.0  \n",
       "276334     0.0      0.0      0.0  \n",
       "276335     0.0      0.0      0.0  \n",
       "\n",
       "[276336 rows x 18 columns]"
      ]
     },
     "execution_count": 3,
     "metadata": {},
     "output_type": "execute_result"
    }
   ],
   "source": [
    "data = pd.read_csv('data/rawdata.csv')\n",
    "data"
   ]
  },
  {
   "cell_type": "code",
   "execution_count": null,
   "id": "c0a7e398",
   "metadata": {},
   "outputs": [],
   "source": []
  },
  {
   "cell_type": "markdown",
   "id": "c00e582d",
   "metadata": {
    "id": "mK0eaXyuTuhT"
   },
   "source": [
    "# 방류량 결측치 처리"
   ]
  },
  {
   "cell_type": "code",
   "execution_count": 268,
   "id": "9cb12172",
   "metadata": {
    "colab": {
     "base_uri": "https://localhost:8080/",
     "height": 424
    },
    "executionInfo": {
     "elapsed": 432,
     "status": "ok",
     "timestamp": 1660743839242,
     "user": {
      "displayName": "이예림(상경대학 응용통계학과)",
      "userId": "02944141114007762965"
     },
     "user_tz": -540
    },
    "id": "Mdz_YyjTTcH1",
    "outputId": "5c77d4d1-09af-467a-ad8f-cd70df07dbb2"
   },
   "outputs": [],
   "source": [
    "bangryu = data[['날짜', '방류량']]"
   ]
  },
  {
   "cell_type": "code",
   "execution_count": 269,
   "id": "a5048862",
   "metadata": {
    "colab": {
     "base_uri": "https://localhost:8080/",
     "height": 532
    },
    "executionInfo": {
     "elapsed": 438,
     "status": "ok",
     "timestamp": 1660743839252,
     "user": {
      "displayName": "이예림(상경대학 응용통계학과)",
      "userId": "02944141114007762965"
     },
     "user_tz": -540
    },
    "id": "NOkjGH6yVaXY",
    "outputId": "682e1c1e-adc1-4115-c609-21eb3561ea88"
   },
   "outputs": [
    {
     "name": "stderr",
     "output_type": "stream",
     "text": [
      "C:\\Users\\sjkan\\AppData\\Local\\Temp\\ipykernel_11972\\2796824354.py:1: SettingWithCopyWarning: \n",
      "A value is trying to be set on a copy of a slice from a DataFrame.\n",
      "Try using .loc[row_indexer,col_indexer] = value instead\n",
      "\n",
      "See the caveats in the documentation: https://pandas.pydata.org/pandas-docs/stable/user_guide/indexing.html#returning-a-view-versus-a-copy\n",
      "  bangryu.날짜 = pd.to_datetime(bangryu.날짜)\n"
     ]
    },
    {
     "data": {
      "text/html": [
       "<div>\n",
       "<style scoped>\n",
       "    .dataframe tbody tr th:only-of-type {\n",
       "        vertical-align: middle;\n",
       "    }\n",
       "\n",
       "    .dataframe tbody tr th {\n",
       "        vertical-align: top;\n",
       "    }\n",
       "\n",
       "    .dataframe thead th {\n",
       "        text-align: right;\n",
       "    }\n",
       "</style>\n",
       "<table border=\"1\" class=\"dataframe\">\n",
       "  <thead>\n",
       "    <tr style=\"text-align: right;\">\n",
       "      <th></th>\n",
       "      <th>날짜</th>\n",
       "      <th>방류량</th>\n",
       "    </tr>\n",
       "  </thead>\n",
       "  <tbody>\n",
       "    <tr>\n",
       "      <th>0</th>\n",
       "      <td>2012-05-01 00:00:00</td>\n",
       "      <td>555.00</td>\n",
       "    </tr>\n",
       "    <tr>\n",
       "      <th>1</th>\n",
       "      <td>2012-05-01 00:10:00</td>\n",
       "      <td>562.90</td>\n",
       "    </tr>\n",
       "    <tr>\n",
       "      <th>2</th>\n",
       "      <td>2012-05-01 00:20:00</td>\n",
       "      <td>576.40</td>\n",
       "    </tr>\n",
       "    <tr>\n",
       "      <th>3</th>\n",
       "      <td>2012-05-01 00:30:00</td>\n",
       "      <td>563.10</td>\n",
       "    </tr>\n",
       "    <tr>\n",
       "      <th>4</th>\n",
       "      <td>2012-05-01 00:40:00</td>\n",
       "      <td>576.40</td>\n",
       "    </tr>\n",
       "    <tr>\n",
       "      <th>...</th>\n",
       "      <td>...</td>\n",
       "      <td>...</td>\n",
       "    </tr>\n",
       "    <tr>\n",
       "      <th>276331</th>\n",
       "      <td>2022-07-18 23:10:00</td>\n",
       "      <td>259.23</td>\n",
       "    </tr>\n",
       "    <tr>\n",
       "      <th>276332</th>\n",
       "      <td>2022-07-18 23:20:00</td>\n",
       "      <td>260.46</td>\n",
       "    </tr>\n",
       "    <tr>\n",
       "      <th>276333</th>\n",
       "      <td>2022-07-18 23:30:00</td>\n",
       "      <td>259.37</td>\n",
       "    </tr>\n",
       "    <tr>\n",
       "      <th>276334</th>\n",
       "      <td>2022-07-18 23:40:00</td>\n",
       "      <td>259.13</td>\n",
       "    </tr>\n",
       "    <tr>\n",
       "      <th>276335</th>\n",
       "      <td>2022-07-18 23:50:00</td>\n",
       "      <td>258.16</td>\n",
       "    </tr>\n",
       "  </tbody>\n",
       "</table>\n",
       "<p>276336 rows × 2 columns</p>\n",
       "</div>"
      ],
      "text/plain": [
       "                        날짜     방류량\n",
       "0      2012-05-01 00:00:00  555.00\n",
       "1      2012-05-01 00:10:00  562.90\n",
       "2      2012-05-01 00:20:00  576.40\n",
       "3      2012-05-01 00:30:00  563.10\n",
       "4      2012-05-01 00:40:00  576.40\n",
       "...                    ...     ...\n",
       "276331 2022-07-18 23:10:00  259.23\n",
       "276332 2022-07-18 23:20:00  260.46\n",
       "276333 2022-07-18 23:30:00  259.37\n",
       "276334 2022-07-18 23:40:00  259.13\n",
       "276335 2022-07-18 23:50:00  258.16\n",
       "\n",
       "[276336 rows x 2 columns]"
      ]
     },
     "execution_count": 269,
     "metadata": {},
     "output_type": "execute_result"
    }
   ],
   "source": [
    "bangryu.날짜 = pd.to_datetime(bangryu.날짜)\n",
    "bangryu"
   ]
  },
  {
   "cell_type": "code",
   "execution_count": 270,
   "id": "fa5d4d5b",
   "metadata": {
    "colab": {
     "base_uri": "https://localhost:8080/",
     "height": 424
    },
    "executionInfo": {
     "elapsed": 429,
     "status": "ok",
     "timestamp": 1660743839255,
     "user": {
      "displayName": "이예림(상경대학 응용통계학과)",
      "userId": "02944141114007762965"
     },
     "user_tz": -540
    },
    "id": "e4Q6xLdsTx3j",
    "outputId": "340420de-0607-4652-aac1-4417d179c65e"
   },
   "outputs": [
    {
     "data": {
      "text/html": [
       "<div>\n",
       "<style scoped>\n",
       "    .dataframe tbody tr th:only-of-type {\n",
       "        vertical-align: middle;\n",
       "    }\n",
       "\n",
       "    .dataframe tbody tr th {\n",
       "        vertical-align: top;\n",
       "    }\n",
       "\n",
       "    .dataframe thead th {\n",
       "        text-align: right;\n",
       "    }\n",
       "</style>\n",
       "<table border=\"1\" class=\"dataframe\">\n",
       "  <thead>\n",
       "    <tr style=\"text-align: right;\">\n",
       "      <th></th>\n",
       "      <th>날짜</th>\n",
       "      <th>방류량</th>\n",
       "    </tr>\n",
       "  </thead>\n",
       "  <tbody>\n",
       "    <tr>\n",
       "      <th>13200</th>\n",
       "      <td>2012-07-31 16:00:00</td>\n",
       "      <td>NaN</td>\n",
       "    </tr>\n",
       "    <tr>\n",
       "      <th>68081</th>\n",
       "      <td>2014-08-13 18:50:00</td>\n",
       "      <td>NaN</td>\n",
       "    </tr>\n",
       "    <tr>\n",
       "      <th>68083</th>\n",
       "      <td>2014-08-13 19:10:00</td>\n",
       "      <td>NaN</td>\n",
       "    </tr>\n",
       "    <tr>\n",
       "      <th>68084</th>\n",
       "      <td>2014-08-13 19:20:00</td>\n",
       "      <td>NaN</td>\n",
       "    </tr>\n",
       "    <tr>\n",
       "      <th>68085</th>\n",
       "      <td>2014-08-13 19:30:00</td>\n",
       "      <td>NaN</td>\n",
       "    </tr>\n",
       "    <tr>\n",
       "      <th>...</th>\n",
       "      <td>...</td>\n",
       "      <td>...</td>\n",
       "    </tr>\n",
       "    <tr>\n",
       "      <th>272217</th>\n",
       "      <td>2022-06-20 09:30:00</td>\n",
       "      <td>NaN</td>\n",
       "    </tr>\n",
       "    <tr>\n",
       "      <th>272218</th>\n",
       "      <td>2022-06-20 09:40:00</td>\n",
       "      <td>NaN</td>\n",
       "    </tr>\n",
       "    <tr>\n",
       "      <th>272219</th>\n",
       "      <td>2022-06-20 09:50:00</td>\n",
       "      <td>NaN</td>\n",
       "    </tr>\n",
       "    <tr>\n",
       "      <th>272220</th>\n",
       "      <td>2022-06-20 10:00:00</td>\n",
       "      <td>NaN</td>\n",
       "    </tr>\n",
       "    <tr>\n",
       "      <th>272221</th>\n",
       "      <td>2022-06-20 10:10:00</td>\n",
       "      <td>NaN</td>\n",
       "    </tr>\n",
       "  </tbody>\n",
       "</table>\n",
       "<p>743 rows × 2 columns</p>\n",
       "</div>"
      ],
      "text/plain": [
       "                        날짜  방류량\n",
       "13200  2012-07-31 16:00:00  NaN\n",
       "68081  2014-08-13 18:50:00  NaN\n",
       "68083  2014-08-13 19:10:00  NaN\n",
       "68084  2014-08-13 19:20:00  NaN\n",
       "68085  2014-08-13 19:30:00  NaN\n",
       "...                    ...  ...\n",
       "272217 2022-06-20 09:30:00  NaN\n",
       "272218 2022-06-20 09:40:00  NaN\n",
       "272219 2022-06-20 09:50:00  NaN\n",
       "272220 2022-06-20 10:00:00  NaN\n",
       "272221 2022-06-20 10:10:00  NaN\n",
       "\n",
       "[743 rows x 2 columns]"
      ]
     },
     "execution_count": 270,
     "metadata": {},
     "output_type": "execute_result"
    }
   ],
   "source": [
    "bangryu[bangryu['방류량'].isnull()]   # 16380개의 결측치 : 순서대로 채우기"
   ]
  },
  {
   "cell_type": "code",
   "execution_count": 271,
   "id": "fd8915cf",
   "metadata": {
    "colab": {
     "base_uri": "https://localhost:8080/"
    },
    "executionInfo": {
     "elapsed": 427,
     "status": "ok",
     "timestamp": 1660743839256,
     "user": {
      "displayName": "이예림(상경대학 응용통계학과)",
      "userId": "02944141114007762965"
     },
     "user_tz": -540
    },
    "id": "RrthJw76c4B6",
    "outputId": "10fb03a5-e4db-469a-ccd9-80f777cdb60e"
   },
   "outputs": [],
   "source": [
    "nan_index = list(bangryu[bangryu['방류량'].isnull()].index)"
   ]
  },
  {
   "cell_type": "code",
   "execution_count": 272,
   "id": "f7ae038a",
   "metadata": {
    "colab": {
     "base_uri": "https://localhost:8080/"
    },
    "executionInfo": {
     "elapsed": 933,
     "status": "ok",
     "timestamp": 1660743839772,
     "user": {
      "displayName": "이예림(상경대학 응용통계학과)",
      "userId": "02944141114007762965"
     },
     "user_tz": -540
    },
    "id": "ubfxLxNcX-Nz",
    "outputId": "0680fa41-41e1-4ec1-90ef-81bd0fe72ea8"
   },
   "outputs": [
    {
     "data": {
      "text/plain": [
       "True"
      ]
     },
     "execution_count": 272,
     "metadata": {},
     "output_type": "execute_result"
    }
   ],
   "source": [
    "# Index 분리\n",
    "\n",
    "index_interpolate = []\n",
    "index_sarima = []\n",
    "\n",
    "i = 0\n",
    "while i < len(nan_index)-2:\n",
    "  if nan_index[i+2] == nan_index[i+1]+1 == nan_index[i]+2:\n",
    "    index_sarima.append(nan_index[i])\n",
    "    i += 1\n",
    "  elif nan_index[i+2] != nan_index[i+1]+1 and nan_index[i+1] == nan_index[i]+1:\n",
    "    index_sarima.extend([nan_index[i], nan_index[i+1]])\n",
    "    i += 2\n",
    "  else:\n",
    "    index_interpolate.append(nan_index[i])\n",
    "    i += 1\n",
    "\n",
    "index_sarima.extend(nan_index[-2:])\n",
    "\n",
    "# if nan_index[-3]+1 != nan_index[-2]:\n",
    "#     index_interpolate.extend(nan_index[-2:])\n",
    "# else:\n",
    "#     index_interpolate.extend(nan_index[-1:])\n",
    "\n",
    "nan_index == sorted(index_interpolate+index_sarima)"
   ]
  },
  {
   "cell_type": "markdown",
   "id": "d8931920",
   "metadata": {
    "id": "55pXgjIPTEJF"
   },
   "source": [
    "## 1. 비연속적 결측값 처리 by Interpolation"
   ]
  },
  {
   "cell_type": "code",
   "execution_count": 273,
   "id": "e3169918",
   "metadata": {
    "colab": {
     "base_uri": "https://localhost:8080/"
    },
    "executionInfo": {
     "elapsed": 210,
     "status": "ok",
     "timestamp": 1660743839774,
     "user": {
      "displayName": "이예림(상경대학 응용통계학과)",
      "userId": "02944141114007762965"
     },
     "user_tz": -540
    },
    "id": "HhxuRyakk_qm",
    "outputId": "c6d69d1e-0682-48d3-c8f6-bcd80bbc32e5"
   },
   "outputs": [],
   "source": [
    "# Interpolation에 쓰일 인덱스 지정 (결측값 기준 앞, 뒤 + 자체)\n",
    "\n",
    "index_interpolate_ = sum([[i-1, i, i+1] for i in index_interpolate], [])"
   ]
  },
  {
   "cell_type": "code",
   "execution_count": 274,
   "id": "2013fc34",
   "metadata": {
    "colab": {
     "base_uri": "https://localhost:8080/"
    },
    "executionInfo": {
     "elapsed": 184,
     "status": "ok",
     "timestamp": 1660743839775,
     "user": {
      "displayName": "이예림(상경대학 응용통계학과)",
      "userId": "02944141114007762965"
     },
     "user_tz": -540
    },
    "id": "sYfcdbzem2H2",
    "outputId": "d28d8051-90e8-4024-ba06-43b0cdb46c76"
   },
   "outputs": [
    {
     "data": {
      "text/plain": [
       "True"
      ]
     },
     "execution_count": 274,
     "metadata": {},
     "output_type": "execute_result"
    }
   ],
   "source": [
    "len(index_interpolate_) == len(set(index_interpolate)) * 3   # 겹치는 index 없는지 확인"
   ]
  },
  {
   "cell_type": "code",
   "execution_count": 275,
   "id": "fd5fd4d4",
   "metadata": {
    "colab": {
     "base_uri": "https://localhost:8080/",
     "height": 455
    },
    "executionInfo": {
     "elapsed": 99,
     "status": "ok",
     "timestamp": 1660743839776,
     "user": {
      "displayName": "이예림(상경대학 응용통계학과)",
      "userId": "02944141114007762965"
     },
     "user_tz": -540
    },
    "id": "pZAsVV_vbkl8",
    "outputId": "1723905b-154b-421b-ec39-30162831b99b"
   },
   "outputs": [
    {
     "data": {
      "text/html": [
       "<div>\n",
       "<style scoped>\n",
       "    .dataframe tbody tr th:only-of-type {\n",
       "        vertical-align: middle;\n",
       "    }\n",
       "\n",
       "    .dataframe tbody tr th {\n",
       "        vertical-align: top;\n",
       "    }\n",
       "\n",
       "    .dataframe thead th {\n",
       "        text-align: right;\n",
       "    }\n",
       "</style>\n",
       "<table border=\"1\" class=\"dataframe\">\n",
       "  <thead>\n",
       "    <tr style=\"text-align: right;\">\n",
       "      <th></th>\n",
       "      <th>방류량</th>\n",
       "    </tr>\n",
       "    <tr>\n",
       "      <th>날짜</th>\n",
       "      <th></th>\n",
       "    </tr>\n",
       "  </thead>\n",
       "  <tbody>\n",
       "    <tr>\n",
       "      <th>2012-07-31 15:50:00</th>\n",
       "      <td>775.40</td>\n",
       "    </tr>\n",
       "    <tr>\n",
       "      <th>2012-07-31 16:00:00</th>\n",
       "      <td>NaN</td>\n",
       "    </tr>\n",
       "    <tr>\n",
       "      <th>2012-07-31 16:10:00</th>\n",
       "      <td>777.60</td>\n",
       "    </tr>\n",
       "    <tr>\n",
       "      <th>2014-08-13 18:40:00</th>\n",
       "      <td>776.80</td>\n",
       "    </tr>\n",
       "    <tr>\n",
       "      <th>2014-08-13 18:50:00</th>\n",
       "      <td>NaN</td>\n",
       "    </tr>\n",
       "    <tr>\n",
       "      <th>...</th>\n",
       "      <td>...</td>\n",
       "    </tr>\n",
       "    <tr>\n",
       "      <th>2021-10-06 08:20:00</th>\n",
       "      <td>NaN</td>\n",
       "    </tr>\n",
       "    <tr>\n",
       "      <th>2021-10-06 08:30:00</th>\n",
       "      <td>336.00</td>\n",
       "    </tr>\n",
       "    <tr>\n",
       "      <th>2022-06-16 00:30:00</th>\n",
       "      <td>137.33</td>\n",
       "    </tr>\n",
       "    <tr>\n",
       "      <th>2022-06-16 00:40:00</th>\n",
       "      <td>NaN</td>\n",
       "    </tr>\n",
       "    <tr>\n",
       "      <th>2022-06-16 00:50:00</th>\n",
       "      <td>175.28</td>\n",
       "    </tr>\n",
       "  </tbody>\n",
       "</table>\n",
       "<p>351 rows × 1 columns</p>\n",
       "</div>"
      ],
      "text/plain": [
       "                        방류량\n",
       "날짜                         \n",
       "2012-07-31 15:50:00  775.40\n",
       "2012-07-31 16:00:00     NaN\n",
       "2012-07-31 16:10:00  777.60\n",
       "2014-08-13 18:40:00  776.80\n",
       "2014-08-13 18:50:00     NaN\n",
       "...                     ...\n",
       "2021-10-06 08:20:00     NaN\n",
       "2021-10-06 08:30:00  336.00\n",
       "2022-06-16 00:30:00  137.33\n",
       "2022-06-16 00:40:00     NaN\n",
       "2022-06-16 00:50:00  175.28\n",
       "\n",
       "[351 rows x 1 columns]"
      ]
     },
     "execution_count": 275,
     "metadata": {},
     "output_type": "execute_result"
    }
   ],
   "source": [
    "# 데이터프레임 분리\n",
    "\n",
    "bangryu_interpolate = bangryu.copy()\n",
    "bangryu_interpolate = bangryu_interpolate.set_index('날짜')\n",
    "bangryu_interpolate = bangryu_interpolate.iloc[index_interpolate_, :]\n",
    "bangryu_interpolate"
   ]
  },
  {
   "cell_type": "code",
   "execution_count": 276,
   "id": "4bb3bab8",
   "metadata": {
    "colab": {
     "base_uri": "https://localhost:8080/",
     "height": 455
    },
    "executionInfo": {
     "elapsed": 97,
     "status": "ok",
     "timestamp": 1660743839777,
     "user": {
      "displayName": "이예림(상경대학 응용통계학과)",
      "userId": "02944141114007762965"
     },
     "user_tz": -540
    },
    "id": "Ern-vbzfne74",
    "outputId": "3b42110e-9ac7-4f06-9b92-8ea8b7a34476"
   },
   "outputs": [
    {
     "data": {
      "text/html": [
       "<div>\n",
       "<style scoped>\n",
       "    .dataframe tbody tr th:only-of-type {\n",
       "        vertical-align: middle;\n",
       "    }\n",
       "\n",
       "    .dataframe tbody tr th {\n",
       "        vertical-align: top;\n",
       "    }\n",
       "\n",
       "    .dataframe thead th {\n",
       "        text-align: right;\n",
       "    }\n",
       "</style>\n",
       "<table border=\"1\" class=\"dataframe\">\n",
       "  <thead>\n",
       "    <tr style=\"text-align: right;\">\n",
       "      <th></th>\n",
       "      <th>방류량</th>\n",
       "    </tr>\n",
       "    <tr>\n",
       "      <th>날짜</th>\n",
       "      <th></th>\n",
       "    </tr>\n",
       "  </thead>\n",
       "  <tbody>\n",
       "    <tr>\n",
       "      <th>2012-07-31 15:50:00</th>\n",
       "      <td>775.400</td>\n",
       "    </tr>\n",
       "    <tr>\n",
       "      <th>2012-07-31 16:00:00</th>\n",
       "      <td>776.500</td>\n",
       "    </tr>\n",
       "    <tr>\n",
       "      <th>2012-07-31 16:10:00</th>\n",
       "      <td>777.600</td>\n",
       "    </tr>\n",
       "    <tr>\n",
       "      <th>2014-08-13 18:40:00</th>\n",
       "      <td>776.800</td>\n",
       "    </tr>\n",
       "    <tr>\n",
       "      <th>2014-08-13 18:50:00</th>\n",
       "      <td>762.400</td>\n",
       "    </tr>\n",
       "    <tr>\n",
       "      <th>...</th>\n",
       "      <td>...</td>\n",
       "    </tr>\n",
       "    <tr>\n",
       "      <th>2021-10-06 08:20:00</th>\n",
       "      <td>335.000</td>\n",
       "    </tr>\n",
       "    <tr>\n",
       "      <th>2021-10-06 08:30:00</th>\n",
       "      <td>336.000</td>\n",
       "    </tr>\n",
       "    <tr>\n",
       "      <th>2022-06-16 00:30:00</th>\n",
       "      <td>137.330</td>\n",
       "    </tr>\n",
       "    <tr>\n",
       "      <th>2022-06-16 00:40:00</th>\n",
       "      <td>156.305</td>\n",
       "    </tr>\n",
       "    <tr>\n",
       "      <th>2022-06-16 00:50:00</th>\n",
       "      <td>175.280</td>\n",
       "    </tr>\n",
       "  </tbody>\n",
       "</table>\n",
       "<p>351 rows × 1 columns</p>\n",
       "</div>"
      ],
      "text/plain": [
       "                         방류량\n",
       "날짜                          \n",
       "2012-07-31 15:50:00  775.400\n",
       "2012-07-31 16:00:00  776.500\n",
       "2012-07-31 16:10:00  777.600\n",
       "2014-08-13 18:40:00  776.800\n",
       "2014-08-13 18:50:00  762.400\n",
       "...                      ...\n",
       "2021-10-06 08:20:00  335.000\n",
       "2021-10-06 08:30:00  336.000\n",
       "2022-06-16 00:30:00  137.330\n",
       "2022-06-16 00:40:00  156.305\n",
       "2022-06-16 00:50:00  175.280\n",
       "\n",
       "[351 rows x 1 columns]"
      ]
     },
     "execution_count": 276,
     "metadata": {},
     "output_type": "execute_result"
    }
   ],
   "source": [
    "# 보간\n",
    "\n",
    "bangryu_interpolate.interpolate(method='time', inplace=True)\n",
    "bangryu_interpolate   # 보간 결과 확인"
   ]
  },
  {
   "cell_type": "code",
   "execution_count": 277,
   "id": "f3cda932",
   "metadata": {
    "colab": {
     "base_uri": "https://localhost:8080/"
    },
    "executionInfo": {
     "elapsed": 94,
     "status": "ok",
     "timestamp": 1660743839778,
     "user": {
      "displayName": "이예림(상경대학 응용통계학과)",
      "userId": "02944141114007762965"
     },
     "user_tz": -540
    },
    "id": "eeQuJ8GYfv4m",
    "outputId": "e6306177-a229-4704-90bc-46cbd35d38fe"
   },
   "outputs": [
    {
     "data": {
      "text/plain": [
       "방류량    0\n",
       "dtype: int64"
      ]
     },
     "execution_count": 277,
     "metadata": {},
     "output_type": "execute_result"
    }
   ],
   "source": [
    "bangryu_interpolate.isnull().sum()"
   ]
  },
  {
   "cell_type": "code",
   "execution_count": 278,
   "id": "3346c3de",
   "metadata": {
    "colab": {
     "base_uri": "https://localhost:8080/"
    },
    "executionInfo": {
     "elapsed": 71,
     "status": "ok",
     "timestamp": 1660743839779,
     "user": {
      "displayName": "이예림(상경대학 응용통계학과)",
      "userId": "02944141114007762965"
     },
     "user_tz": -540
    },
    "id": "Nb9VtE6YXsLz",
    "outputId": "e2685d76-bd81-4d7f-d4ee-c4d2b1ed1b4e"
   },
   "outputs": [
    {
     "data": {
      "text/plain": [
       "방류량    True\n",
       "dtype: bool"
      ]
     },
     "execution_count": 278,
     "metadata": {},
     "output_type": "execute_result"
    }
   ],
   "source": [
    "bangryu = bangryu.set_index('날짜')\n",
    "bangryu.loc[bangryu_interpolate.index] = bangryu_interpolate\n",
    "bangryu.isnull().sum() == len(index_sarima)   # 남은 결측치 개수가 SARIMA로 채워야 할 결측치 개수(len(index_sarima))와 같은지 확인"
   ]
  },
  {
   "cell_type": "markdown",
   "id": "74a522ba",
   "metadata": {
    "id": "dK89voI3c8Q0"
   },
   "source": [
    "## 2. 연속적 결측값 처리 by SARIMA"
   ]
  },
  {
   "cell_type": "code",
   "execution_count": 279,
   "id": "7b636389",
   "metadata": {
    "colab": {
     "base_uri": "https://localhost:8080/",
     "height": 636
    },
    "executionInfo": {
     "elapsed": 21555,
     "status": "ok",
     "timestamp": 1660743861266,
     "user": {
      "displayName": "이예림(상경대학 응용통계학과)",
      "userId": "02944141114007762965"
     },
     "user_tz": -540
    },
    "id": "-uugY5hBTMTa",
    "outputId": "931c6453-6c54-4bce-c91a-90a599ab57d7"
   },
   "outputs": [],
   "source": [
    "#!pip install pmdarima"
   ]
  },
  {
   "cell_type": "code",
   "execution_count": 280,
   "id": "8504acbe",
   "metadata": {
    "executionInfo": {
     "elapsed": 1552,
     "status": "ok",
     "timestamp": 1660743862779,
     "user": {
      "displayName": "이예림(상경대학 응용통계학과)",
      "userId": "02944141114007762965"
     },
     "user_tz": -540
    },
    "id": "BxiLQENsdZvT"
   },
   "outputs": [],
   "source": [
    "from statsmodels.tsa.statespace.sarimax import SARIMAX\n",
    "import pmdarima as pm"
   ]
  },
  {
   "cell_type": "code",
   "execution_count": 281,
   "id": "ccd2683b",
   "metadata": {
    "colab": {
     "base_uri": "https://localhost:8080/"
    },
    "executionInfo": {
     "elapsed": 202,
     "status": "ok",
     "timestamp": 1660743862783,
     "user": {
      "displayName": "이예림(상경대학 응용통계학과)",
      "userId": "02944141114007762965"
     },
     "user_tz": -540
    },
    "id": "zSu62iX5Ta7f",
    "outputId": "ae70a0f4-a900-4c77-d110-f8018942180f"
   },
   "outputs": [
    {
     "data": {
      "text/plain": [
       "68083"
      ]
     },
     "execution_count": 281,
     "metadata": {},
     "output_type": "execute_result"
    }
   ],
   "source": [
    "index_sarima[0]"
   ]
  },
  {
   "cell_type": "code",
   "execution_count": 282,
   "id": "f6071008",
   "metadata": {
    "colab": {
     "base_uri": "https://localhost:8080/"
    },
    "executionInfo": {
     "elapsed": 283,
     "status": "ok",
     "timestamp": 1660743862881,
     "user": {
      "displayName": "이예림(상경대학 응용통계학과)",
      "userId": "02944141114007762965"
     },
     "user_tz": -540
    },
    "id": "8bN42uONUfY9",
    "outputId": "9ba9b11d-90d1-4d51-dbff-057d740b6556",
    "scrolled": true
   },
   "outputs": [
    {
     "name": "stdout",
     "output_type": "stream",
     "text": [
      "[[68083, 68084, 68085, 68086, 68087], [68089, 68090, 68091, 68092, 68093], [68095, 68096, 68097, 68098, 68099], [68101, 68102, 68103, 68104], [81560, 81561, 81562, 81563], [81565, 81566, 81567, 81568], [123622, 123623], [123625, 123626, 123627, 123628, 123629], [132986, 132987, 132988, 132989], [132991, 132992, 132993, 132994, 132995], [132997, 132998, 132999], [133003, 133004], [156158, 156159], [165428, 165429, 165430, 165431, 165432, 165433, 165434, 165435, 165436, 165437, 165438, 165439, 165440, 165441, 165442, 165443, 165444, 165445, 165446, 165447, 165448, 165449, 165450, 165451, 165452, 165453, 165454, 165455, 165456, 165457, 165458, 165459, 165460, 165461, 165462, 165463, 165464, 165465], [166263, 166264], [174173, 174174], [186388, 186389, 186390, 186391], [186424, 186425, 186426, 186427, 186428, 186429, 186430, 186431, 186432, 186433, 186434, 186435, 186436, 186437, 186438, 186439, 186440, 186441, 186442, 186443, 186444, 186445, 186446, 186447, 186448, 186449, 186450, 186451, 186452, 186453, 186454, 186455, 186456, 186457, 186458, 186459, 186460, 186461, 186462, 186463, 186464, 186465, 186466, 186467, 186468, 186469, 186470, 186471, 186472, 186473, 186474, 186475, 186476, 186477, 186478, 186479, 186480, 186481, 186482, 186483, 186484, 186485, 186486, 186487, 186488, 186489, 186490, 186491, 186492, 186493, 186494, 186495, 186496, 186497, 186498, 186499, 186500, 186501, 186502, 186503, 186504, 186505, 186506, 186507, 186508, 186509, 186510, 186511, 186512, 186513, 186514, 186515, 186516, 186517, 186518, 186519, 186520, 186521, 186522, 186523, 186524, 186525, 186526, 186527, 186528, 186529, 186530, 186531, 186532, 186533, 186534, 186535, 186536], [187213, 187214, 187215, 187216, 187217, 187218, 187219, 187220, 187221, 187222, 187223, 187224, 187225, 187226, 187227, 187228, 187229, 187230, 187231, 187232, 187233, 187234, 187235, 187236, 187237, 187238, 187239, 187240, 187241, 187242, 187243, 187244, 187245, 187246, 187247, 187248, 187249, 187250, 187251, 187252, 187253, 187254, 187255, 187256, 187257, 187258, 187259, 187260, 187261, 187262], [187384, 187385, 187386, 187387, 187388, 187389, 187390, 187391, 187392, 187393, 187394, 187395, 187396, 187397], [187713, 187714], [192274, 192275, 192276, 192277, 192278, 192279, 192280, 192281, 192282, 192283, 192284, 192285, 192286, 192287, 192288, 192289, 192290, 192291, 192292, 192293, 192294, 192295, 192296, 192297, 192298, 192299, 192300, 192301, 192302, 192303, 192304, 192305, 192306, 192307], [203942, 203943, 203944, 203945], [206949, 206950, 206951, 206952, 206953, 206954, 206955, 206956, 206957, 206958, 206959, 206960, 206961, 206962, 206963, 206964, 206965, 206966, 206967, 206968, 206969, 206970, 206971, 206972, 206973, 206974, 206975, 206976, 206977, 206978, 206979, 206980, 206981, 206982, 206983, 206984, 206985, 206986, 206987, 206988, 206989, 206990, 206991], [207111, 207112, 207113, 207114, 207115, 207116, 207117, 207118, 207119, 207120, 207121, 207122, 207123, 207124, 207125, 207126, 207127, 207128, 207129, 207130, 207131, 207132], [207141, 207142, 207143, 207144, 207145, 207146, 207147, 207148, 207149, 207150, 207151, 207152, 207153, 207154, 207155, 207156, 207157, 207158, 207159, 207160, 207161, 207162, 207163, 207164, 207165, 207166, 207167, 207168, 207169, 207170, 207171, 207172, 207173, 207174, 207175, 207176, 207177, 207178, 207179, 207180, 207181, 207182], [207375, 207376, 207377, 207378, 207379, 207380, 207381, 207382, 207383, 207384, 207385, 207386, 207387, 207388, 207389, 207390, 207391, 207392, 207393, 207394, 207395, 207396, 207397, 207398, 207399, 207400, 207401, 207402, 207403, 207404, 207405, 207406, 207407, 207408, 207409, 207410, 207411, 207412, 207413, 207414, 207415, 207416, 207417, 207418, 207419], [208247, 208248, 208249, 208250], [208252, 208253, 208254, 208255, 208256, 208257, 208258, 208259, 208260, 208261, 208262, 208263, 208264, 208265, 208266, 208267, 208268, 208269, 208270, 208271, 208272, 208273, 208274, 208275, 208276, 208277, 208278, 208279, 208280, 208281, 208282, 208283, 208284, 208285, 208286, 208287, 208288, 208289, 208290, 208291, 208292, 208293, 208294, 208295, 208296, 208297, 208298, 208299, 208300, 208301, 208302, 208303, 208304, 208305, 208306, 208307, 208308, 208309, 208310, 208311, 208312, 208313, 208314, 208315, 208316, 208317, 208318, 208319, 208320, 208321, 208322, 208323, 208324, 208325], [209877, 209878, 209879, 209880, 209881, 209882, 209883, 209884, 209885, 209886, 209887, 209888, 209889, 209890, 209891, 209892, 209893, 209894, 209895, 209896, 209897, 209898], [209908, 209909, 209910, 209911, 209912], [214982, 214983, 214984, 214985, 214986, 214987], [250924, 250925, 250926, 250927], [253462, 253463, 253464, 253465], [261268, 261269, 261270, 261271], [262598, 262599, 262600], [270507, 270508, 270509, 270510, 270511, 270512, 270513, 270514, 270515, 270516, 270517, 270518, 270519, 270520, 270521, 270522, 270523, 270524, 270525, 270526, 270527, 270528, 270529, 270530, 270531, 270532, 270533, 270534], [272215, 272216, 272217, 272218, 272219, 272220, 272221]]\n"
     ]
    }
   ],
   "source": [
    "# 연속된 구간별로 분리\n",
    "\n",
    "i = 0\n",
    "temp = []\n",
    "total = []\n",
    "\n",
    "while i>=0:\n",
    "  try:\n",
    "    if index_sarima[i+2]==index_sarima[i+1]+1==index_sarima[i]+2:\n",
    "      temp.append(index_sarima[i])\n",
    "      i += 1\n",
    "    elif index_sarima[i+2]!=index_sarima[i+1]+1==index_sarima[i]+2:\n",
    "      temp.extend([index_sarima[i], index_sarima[i+1]])\n",
    "      #print(temp)\n",
    "      total.append(temp)\n",
    "      temp = []\n",
    "      i += 2\n",
    "  except:\n",
    "    break\n",
    "\n",
    "# 예외 처리\n",
    "#temp = index_sarima[-2:]\n",
    "#print(temp)\n",
    "total.append(temp)\n",
    "total[len(total)-1].append(index_sarima[-2:][0])\n",
    "total[len(total)-1].append(index_sarima[-2:][1])\n",
    "print(total)"
   ]
  },
  {
   "cell_type": "code",
   "execution_count": 283,
   "id": "50fa81be",
   "metadata": {
    "colab": {
     "base_uri": "https://localhost:8080/"
    },
    "executionInfo": {
     "elapsed": 292,
     "status": "ok",
     "timestamp": 1660743862962,
     "user": {
      "displayName": "이예림(상경대학 응용통계학과)",
      "userId": "02944141114007762965"
     },
     "user_tz": -540
    },
    "id": "r6E66IVMXyg3",
    "outputId": "d28cd1a6-573d-4b29-8979-8c2d879095e2",
    "scrolled": true
   },
   "outputs": [
    {
     "data": {
      "text/plain": [
       "True"
      ]
     },
     "execution_count": 283,
     "metadata": {},
     "output_type": "execute_result"
    }
   ],
   "source": [
    "sum(total, []) == index_sarima   # 분리가 잘 이루어졌는지 확인"
   ]
  },
  {
   "cell_type": "code",
   "execution_count": 284,
   "id": "23e47b96",
   "metadata": {},
   "outputs": [
    {
     "data": {
      "text/plain": [
       "38"
      ]
     },
     "execution_count": 284,
     "metadata": {},
     "output_type": "execute_result"
    }
   ],
   "source": [
    "len(total) #결측치 처리해야 하는 구간의 수"
   ]
  },
  {
   "cell_type": "code",
   "execution_count": 285,
   "id": "237576ea",
   "metadata": {
    "colab": {
     "base_uri": "https://localhost:8080/"
    },
    "executionInfo": {
     "elapsed": 6204453,
     "status": "ok",
     "timestamp": 1660750114017,
     "user": {
      "displayName": "이예림(상경대학 응용통계학과)",
      "userId": "02944141114007762965"
     },
     "user_tz": -540
    },
    "id": "_HQ9SccJYZif",
    "outputId": "075320ea-d158-4e10-9cdc-e83f87732872",
    "scrolled": true
   },
   "outputs": [
    {
     "name": "stderr",
     "output_type": "stream",
     "text": [
      "C:\\Users\\sjkan\\anaconda3\\lib\\site-packages\\pmdarima\\arima\\_auto_solvers.py:522: ModelFitWarning: Error fitting  ARIMA(3,0,4)(0,0,0)[0] intercept (if you do not want to see these warnings, run with error_action=\"ignore\").\n",
      "Traceback:\n",
      "Traceback (most recent call last):\n",
      "  File \"C:\\Users\\sjkan\\anaconda3\\lib\\site-packages\\pmdarima\\arima\\_auto_solvers.py\", line 506, in _fit_candidate_model\n",
      "    fit.fit(y, X=X, **fit_params)\n",
      "  File \"C:\\Users\\sjkan\\anaconda3\\lib\\site-packages\\pmdarima\\arima\\arima.py\", line 597, in fit\n",
      "    self._fit(y, X, **fit_args)\n",
      "  File \"C:\\Users\\sjkan\\anaconda3\\lib\\site-packages\\pmdarima\\arima\\arima.py\", line 518, in _fit\n",
      "    fit, self.arima_res_ = _fit_wrapper()\n",
      "  File \"C:\\Users\\sjkan\\anaconda3\\lib\\site-packages\\pmdarima\\arima\\arima.py\", line 508, in _fit_wrapper\n",
      "    return arima, arima.fit(start_params=start_params,\n",
      "  File \"C:\\Users\\sjkan\\anaconda3\\lib\\site-packages\\statsmodels\\tsa\\statespace\\mlemodel.py\", line 704, in fit\n",
      "    mlefit = super(MLEModel, self).fit(start_params, method=method,\n",
      "  File \"C:\\Users\\sjkan\\anaconda3\\lib\\site-packages\\statsmodels\\base\\model.py\", line 563, in fit\n",
      "    xopt, retvals, optim_settings = optimizer._fit(f, score, start_params,\n",
      "  File \"C:\\Users\\sjkan\\anaconda3\\lib\\site-packages\\statsmodels\\base\\optimizer.py\", line 241, in _fit\n",
      "    xopt, retvals = func(objective, gradient, start_params, fargs, kwargs,\n",
      "  File \"C:\\Users\\sjkan\\anaconda3\\lib\\site-packages\\statsmodels\\base\\optimizer.py\", line 651, in _fit_lbfgs\n",
      "    retvals = optimize.fmin_l_bfgs_b(func, start_params, maxiter=maxiter,\n",
      "  File \"C:\\Users\\sjkan\\anaconda3\\lib\\site-packages\\scipy\\optimize\\lbfgsb.py\", line 197, in fmin_l_bfgs_b\n",
      "    res = _minimize_lbfgsb(fun, x0, args=args, jac=jac, bounds=bounds,\n",
      "  File \"C:\\Users\\sjkan\\anaconda3\\lib\\site-packages\\scipy\\optimize\\lbfgsb.py\", line 360, in _minimize_lbfgsb\n",
      "    f, g = func_and_grad(x)\n",
      "  File \"C:\\Users\\sjkan\\anaconda3\\lib\\site-packages\\scipy\\optimize\\_differentiable_functions.py\", line 267, in fun_and_grad\n",
      "    self._update_fun()\n",
      "  File \"C:\\Users\\sjkan\\anaconda3\\lib\\site-packages\\scipy\\optimize\\_differentiable_functions.py\", line 233, in _update_fun\n",
      "    self._update_fun_impl()\n",
      "  File \"C:\\Users\\sjkan\\anaconda3\\lib\\site-packages\\scipy\\optimize\\_differentiable_functions.py\", line 137, in update_fun\n",
      "    self.f = fun_wrapped(self.x)\n",
      "  File \"C:\\Users\\sjkan\\anaconda3\\lib\\site-packages\\scipy\\optimize\\_differentiable_functions.py\", line 134, in fun_wrapped\n",
      "    return fun(np.copy(x), *args)\n",
      "  File \"C:\\Users\\sjkan\\anaconda3\\lib\\site-packages\\statsmodels\\base\\model.py\", line 531, in f\n",
      "    return -self.loglike(params, *args) / nobs\n",
      "  File \"C:\\Users\\sjkan\\anaconda3\\lib\\site-packages\\statsmodels\\tsa\\statespace\\mlemodel.py\", line 939, in loglike\n",
      "    loglike = self.ssm.loglike(complex_step=complex_step, **kwargs)\n",
      "  File \"C:\\Users\\sjkan\\anaconda3\\lib\\site-packages\\statsmodels\\tsa\\statespace\\kalman_filter.py\", line 983, in loglike\n",
      "    kfilter = self._filter(**kwargs)\n",
      "  File \"C:\\Users\\sjkan\\anaconda3\\lib\\site-packages\\statsmodels\\tsa\\statespace\\kalman_filter.py\", line 903, in _filter\n",
      "    self._initialize_state(prefix=prefix, complex_step=complex_step)\n",
      "  File \"C:\\Users\\sjkan\\anaconda3\\lib\\site-packages\\statsmodels\\tsa\\statespace\\representation.py\", line 983, in _initialize_state\n",
      "    self._statespaces[prefix].initialize(self.initialization,\n",
      "  File \"statsmodels\\tsa\\statespace\\_representation.pyx\", line 1362, in statsmodels.tsa.statespace._representation.dStatespace.initialize\n",
      "  File \"statsmodels\\tsa\\statespace\\_initialization.pyx\", line 288, in statsmodels.tsa.statespace._initialization.dInitialization.initialize\n",
      "  File \"statsmodels\\tsa\\statespace\\_initialization.pyx\", line 406, in statsmodels.tsa.statespace._initialization.dInitialization.initialize_stationary_stationary_cov\n",
      "  File \"statsmodels\\tsa\\statespace\\_tools.pyx\", line 1206, in statsmodels.tsa.statespace._tools._dsolve_discrete_lyapunov\n",
      "numpy.linalg.LinAlgError: LU decomposition error.\n",
      "\n",
      "  warnings.warn(warning_str, ModelFitWarning)\n",
      "C:\\Users\\sjkan\\anaconda3\\lib\\site-packages\\pmdarima\\arima\\auto.py:460: UserWarning: Input time-series is completely constant; returning a (0, 0, 0) ARMA.\n",
      "  warnings.warn('Input time-series is completely constant; '\n",
      "C:\\Users\\sjkan\\anaconda3\\lib\\site-packages\\pmdarima\\arima\\_auto_solvers.py:522: ModelFitWarning: Error fitting  ARIMA(4,0,0)(0,0,0)[0]           (if you do not want to see these warnings, run with error_action=\"ignore\").\n",
      "Traceback:\n",
      "Traceback (most recent call last):\n",
      "  File \"C:\\Users\\sjkan\\anaconda3\\lib\\site-packages\\pmdarima\\arima\\_auto_solvers.py\", line 506, in _fit_candidate_model\n",
      "    fit.fit(y, X=X, **fit_params)\n",
      "  File \"C:\\Users\\sjkan\\anaconda3\\lib\\site-packages\\pmdarima\\arima\\arima.py\", line 597, in fit\n",
      "    self._fit(y, X, **fit_args)\n",
      "  File \"C:\\Users\\sjkan\\anaconda3\\lib\\site-packages\\pmdarima\\arima\\arima.py\", line 518, in _fit\n",
      "    fit, self.arima_res_ = _fit_wrapper()\n",
      "  File \"C:\\Users\\sjkan\\anaconda3\\lib\\site-packages\\pmdarima\\arima\\arima.py\", line 508, in _fit_wrapper\n",
      "    return arima, arima.fit(start_params=start_params,\n",
      "  File \"C:\\Users\\sjkan\\anaconda3\\lib\\site-packages\\statsmodels\\tsa\\statespace\\mlemodel.py\", line 704, in fit\n",
      "    mlefit = super(MLEModel, self).fit(start_params, method=method,\n",
      "  File \"C:\\Users\\sjkan\\anaconda3\\lib\\site-packages\\statsmodels\\base\\model.py\", line 563, in fit\n",
      "    xopt, retvals, optim_settings = optimizer._fit(f, score, start_params,\n",
      "  File \"C:\\Users\\sjkan\\anaconda3\\lib\\site-packages\\statsmodels\\base\\optimizer.py\", line 241, in _fit\n",
      "    xopt, retvals = func(objective, gradient, start_params, fargs, kwargs,\n",
      "  File \"C:\\Users\\sjkan\\anaconda3\\lib\\site-packages\\statsmodels\\base\\optimizer.py\", line 651, in _fit_lbfgs\n",
      "    retvals = optimize.fmin_l_bfgs_b(func, start_params, maxiter=maxiter,\n",
      "  File \"C:\\Users\\sjkan\\anaconda3\\lib\\site-packages\\scipy\\optimize\\lbfgsb.py\", line 197, in fmin_l_bfgs_b\n",
      "    res = _minimize_lbfgsb(fun, x0, args=args, jac=jac, bounds=bounds,\n",
      "  File \"C:\\Users\\sjkan\\anaconda3\\lib\\site-packages\\scipy\\optimize\\lbfgsb.py\", line 360, in _minimize_lbfgsb\n",
      "    f, g = func_and_grad(x)\n",
      "  File \"C:\\Users\\sjkan\\anaconda3\\lib\\site-packages\\scipy\\optimize\\_differentiable_functions.py\", line 267, in fun_and_grad\n",
      "    self._update_fun()\n",
      "  File \"C:\\Users\\sjkan\\anaconda3\\lib\\site-packages\\scipy\\optimize\\_differentiable_functions.py\", line 233, in _update_fun\n",
      "    self._update_fun_impl()\n",
      "  File \"C:\\Users\\sjkan\\anaconda3\\lib\\site-packages\\scipy\\optimize\\_differentiable_functions.py\", line 137, in update_fun\n",
      "    self.f = fun_wrapped(self.x)\n",
      "  File \"C:\\Users\\sjkan\\anaconda3\\lib\\site-packages\\scipy\\optimize\\_differentiable_functions.py\", line 134, in fun_wrapped\n",
      "    return fun(np.copy(x), *args)\n",
      "  File \"C:\\Users\\sjkan\\anaconda3\\lib\\site-packages\\statsmodels\\base\\model.py\", line 531, in f\n",
      "    return -self.loglike(params, *args) / nobs\n",
      "  File \"C:\\Users\\sjkan\\anaconda3\\lib\\site-packages\\statsmodels\\tsa\\statespace\\mlemodel.py\", line 939, in loglike\n",
      "    loglike = self.ssm.loglike(complex_step=complex_step, **kwargs)\n",
      "  File \"C:\\Users\\sjkan\\anaconda3\\lib\\site-packages\\statsmodels\\tsa\\statespace\\kalman_filter.py\", line 983, in loglike\n",
      "    kfilter = self._filter(**kwargs)\n",
      "  File \"C:\\Users\\sjkan\\anaconda3\\lib\\site-packages\\statsmodels\\tsa\\statespace\\kalman_filter.py\", line 903, in _filter\n",
      "    self._initialize_state(prefix=prefix, complex_step=complex_step)\n",
      "  File \"C:\\Users\\sjkan\\anaconda3\\lib\\site-packages\\statsmodels\\tsa\\statespace\\representation.py\", line 983, in _initialize_state\n",
      "    self._statespaces[prefix].initialize(self.initialization,\n",
      "  File \"statsmodels\\tsa\\statespace\\_representation.pyx\", line 1362, in statsmodels.tsa.statespace._representation.dStatespace.initialize\n",
      "  File \"statsmodels\\tsa\\statespace\\_initialization.pyx\", line 288, in statsmodels.tsa.statespace._initialization.dInitialization.initialize\n",
      "  File \"statsmodels\\tsa\\statespace\\_initialization.pyx\", line 406, in statsmodels.tsa.statespace._initialization.dInitialization.initialize_stationary_stationary_cov\n",
      "  File \"statsmodels\\tsa\\statespace\\_tools.pyx\", line 1206, in statsmodels.tsa.statespace._tools._dsolve_discrete_lyapunov\n",
      "numpy.linalg.LinAlgError: LU decomposition error.\n",
      "\n",
      "  warnings.warn(warning_str, ModelFitWarning)\n"
     ]
    }
   ],
   "source": [
    "# 전체 다 1일, 즉 직전 144개의 row를 반영하여 결측치 처리\n",
    "\n",
    "for range in total:\n",
    "  start = range[0]\n",
    "  model = pm.auto_arima(bangryu[start-60:start], seasonal=True)\n",
    "  bangryu.iloc[range, 0] = model.predict(len(range))\n",
    "  #print(f'{total.index(range)+1}번째 구간 결측치 처리 완료')"
   ]
  },
  {
   "cell_type": "code",
   "execution_count": 286,
   "id": "6de6be57",
   "metadata": {
    "colab": {
     "base_uri": "https://localhost:8080/"
    },
    "executionInfo": {
     "elapsed": 84,
     "status": "ok",
     "timestamp": 1660750114020,
     "user": {
      "displayName": "이예림(상경대학 응용통계학과)",
      "userId": "02944141114007762965"
     },
     "user_tz": -540
    },
    "id": "fLkpB1I5bSZu",
    "outputId": "39baa2da-b52e-485c-9c47-103c9755c247"
   },
   "outputs": [
    {
     "data": {
      "text/plain": [
       "방류량    0\n",
       "dtype: int64"
      ]
     },
     "execution_count": 286,
     "metadata": {},
     "output_type": "execute_result"
    }
   ],
   "source": [
    "# 결측치가 모두 처리되었는지 확인\n",
    "\n",
    "bangryu.isnull().sum()"
   ]
  },
  {
   "cell_type": "code",
   "execution_count": 287,
   "id": "ccb0d440",
   "metadata": {
    "colab": {
     "base_uri": "https://localhost:8080/",
     "height": 265
    },
    "executionInfo": {
     "elapsed": 964,
     "status": "ok",
     "timestamp": 1660750930556,
     "user": {
      "displayName": "이예림(상경대학 응용통계학과)",
      "userId": "02944141114007762965"
     },
     "user_tz": -540
    },
    "id": "LrPrN4VIbX4u",
    "outputId": "b288020c-e222-4519-ec78-8461c318fde4"
   },
   "outputs": [
    {
     "data": {
      "image/png": "[encoded data removed]",
      "text/plain": [
       "<Figure size 432x288 with 1 Axes>"
      ]
     },
     "metadata": {
      "needs_background": "light"
     },
     "output_type": "display_data"
    }
   ],
   "source": [
    "# 결측치 처리 형태 확인 (인덱스 번째 구간)\n",
    "\n",
    "plt.plot(total[1], bangryu.iloc[total[1], 0])\n",
    "plt.show()"
   ]
  },
  {
   "cell_type": "code",
   "execution_count": null,
   "id": "858b7d5c",
   "metadata": {},
   "outputs": [],
   "source": []
  },
  {
   "cell_type": "markdown",
   "id": "e3a1a35e",
   "metadata": {
    "id": "mK0eaXyuTuhT"
   },
   "source": [
    "# 강화대교 조위 결측치 처리"
   ]
  },
  {
   "cell_type": "code",
   "execution_count": 288,
   "id": "776c717c",
   "metadata": {
    "colab": {
     "base_uri": "https://localhost:8080/",
     "height": 424
    },
    "executionInfo": {
     "elapsed": 432,
     "status": "ok",
     "timestamp": 1660743839242,
     "user": {
      "displayName": "이예림(상경대학 응용통계학과)",
      "userId": "02944141114007762965"
     },
     "user_tz": -540
    },
    "id": "Mdz_YyjTTcH1",
    "outputId": "5c77d4d1-09af-467a-ad8f-cd70df07dbb2"
   },
   "outputs": [],
   "source": [
    "gangwha = data[['날짜', '강화대교_조위']]"
   ]
  },
  {
   "cell_type": "code",
   "execution_count": 289,
   "id": "46824f43",
   "metadata": {
    "colab": {
     "base_uri": "https://localhost:8080/",
     "height": 532
    },
    "executionInfo": {
     "elapsed": 438,
     "status": "ok",
     "timestamp": 1660743839252,
     "user": {
      "displayName": "이예림(상경대학 응용통계학과)",
      "userId": "02944141114007762965"
     },
     "user_tz": -540
    },
    "id": "NOkjGH6yVaXY",
    "outputId": "682e1c1e-adc1-4115-c609-21eb3561ea88"
   },
   "outputs": [
    {
     "name": "stderr",
     "output_type": "stream",
     "text": [
      "C:\\Users\\sjkan\\AppData\\Local\\Temp\\ipykernel_11972\\4062866498.py:1: SettingWithCopyWarning: \n",
      "A value is trying to be set on a copy of a slice from a DataFrame.\n",
      "Try using .loc[row_indexer,col_indexer] = value instead\n",
      "\n",
      "See the caveats in the documentation: https://pandas.pydata.org/pandas-docs/stable/user_guide/indexing.html#returning-a-view-versus-a-copy\n",
      "  gangwha.날짜 = pd.to_datetime(gangwha.날짜)\n"
     ]
    },
    {
     "data": {
      "text/html": [
       "<div>\n",
       "<style scoped>\n",
       "    .dataframe tbody tr th:only-of-type {\n",
       "        vertical-align: middle;\n",
       "    }\n",
       "\n",
       "    .dataframe tbody tr th {\n",
       "        vertical-align: top;\n",
       "    }\n",
       "\n",
       "    .dataframe thead th {\n",
       "        text-align: right;\n",
       "    }\n",
       "</style>\n",
       "<table border=\"1\" class=\"dataframe\">\n",
       "  <thead>\n",
       "    <tr style=\"text-align: right;\">\n",
       "      <th></th>\n",
       "      <th>날짜</th>\n",
       "      <th>강화대교_조위</th>\n",
       "    </tr>\n",
       "  </thead>\n",
       "  <tbody>\n",
       "    <tr>\n",
       "      <th>0</th>\n",
       "      <td>2012-05-01 00:00:00</td>\n",
       "      <td>445.0</td>\n",
       "    </tr>\n",
       "    <tr>\n",
       "      <th>1</th>\n",
       "      <td>2012-05-01 00:10:00</td>\n",
       "      <td>449.0</td>\n",
       "    </tr>\n",
       "    <tr>\n",
       "      <th>2</th>\n",
       "      <td>2012-05-01 00:20:00</td>\n",
       "      <td>451.0</td>\n",
       "    </tr>\n",
       "    <tr>\n",
       "      <th>3</th>\n",
       "      <td>2012-05-01 00:30:00</td>\n",
       "      <td>452.0</td>\n",
       "    </tr>\n",
       "    <tr>\n",
       "      <th>4</th>\n",
       "      <td>2012-05-01 00:40:00</td>\n",
       "      <td>450.0</td>\n",
       "    </tr>\n",
       "    <tr>\n",
       "      <th>...</th>\n",
       "      <td>...</td>\n",
       "      <td>...</td>\n",
       "    </tr>\n",
       "    <tr>\n",
       "      <th>276331</th>\n",
       "      <td>2022-07-18 23:10:00</td>\n",
       "      <td>510.0</td>\n",
       "    </tr>\n",
       "    <tr>\n",
       "      <th>276332</th>\n",
       "      <td>2022-07-18 23:20:00</td>\n",
       "      <td>492.0</td>\n",
       "    </tr>\n",
       "    <tr>\n",
       "      <th>276333</th>\n",
       "      <td>2022-07-18 23:30:00</td>\n",
       "      <td>475.0</td>\n",
       "    </tr>\n",
       "    <tr>\n",
       "      <th>276334</th>\n",
       "      <td>2022-07-18 23:40:00</td>\n",
       "      <td>458.0</td>\n",
       "    </tr>\n",
       "    <tr>\n",
       "      <th>276335</th>\n",
       "      <td>2022-07-18 23:50:00</td>\n",
       "      <td>442.0</td>\n",
       "    </tr>\n",
       "  </tbody>\n",
       "</table>\n",
       "<p>276336 rows × 2 columns</p>\n",
       "</div>"
      ],
      "text/plain": [
       "                        날짜  강화대교_조위\n",
       "0      2012-05-01 00:00:00    445.0\n",
       "1      2012-05-01 00:10:00    449.0\n",
       "2      2012-05-01 00:20:00    451.0\n",
       "3      2012-05-01 00:30:00    452.0\n",
       "4      2012-05-01 00:40:00    450.0\n",
       "...                    ...      ...\n",
       "276331 2022-07-18 23:10:00    510.0\n",
       "276332 2022-07-18 23:20:00    492.0\n",
       "276333 2022-07-18 23:30:00    475.0\n",
       "276334 2022-07-18 23:40:00    458.0\n",
       "276335 2022-07-18 23:50:00    442.0\n",
       "\n",
       "[276336 rows x 2 columns]"
      ]
     },
     "execution_count": 289,
     "metadata": {},
     "output_type": "execute_result"
    }
   ],
   "source": [
    "gangwha.날짜 = pd.to_datetime(gangwha.날짜)\n",
    "gangwha"
   ]
  },
  {
   "cell_type": "code",
   "execution_count": 290,
   "id": "f80acbe4",
   "metadata": {
    "colab": {
     "base_uri": "https://localhost:8080/",
     "height": 424
    },
    "executionInfo": {
     "elapsed": 429,
     "status": "ok",
     "timestamp": 1660743839255,
     "user": {
      "displayName": "이예림(상경대학 응용통계학과)",
      "userId": "02944141114007762965"
     },
     "user_tz": -540
    },
    "id": "e4Q6xLdsTx3j",
    "outputId": "340420de-0607-4652-aac1-4417d179c65e"
   },
   "outputs": [
    {
     "data": {
      "text/html": [
       "<div>\n",
       "<style scoped>\n",
       "    .dataframe tbody tr th:only-of-type {\n",
       "        vertical-align: middle;\n",
       "    }\n",
       "\n",
       "    .dataframe tbody tr th {\n",
       "        vertical-align: top;\n",
       "    }\n",
       "\n",
       "    .dataframe thead th {\n",
       "        text-align: right;\n",
       "    }\n",
       "</style>\n",
       "<table border=\"1\" class=\"dataframe\">\n",
       "  <thead>\n",
       "    <tr style=\"text-align: right;\">\n",
       "      <th></th>\n",
       "      <th>날짜</th>\n",
       "      <th>강화대교_조위</th>\n",
       "    </tr>\n",
       "  </thead>\n",
       "  <tbody>\n",
       "    <tr>\n",
       "      <th>193</th>\n",
       "      <td>2012-05-02 08:10:00</td>\n",
       "      <td>NaN</td>\n",
       "    </tr>\n",
       "    <tr>\n",
       "      <th>307</th>\n",
       "      <td>2012-05-03 03:10:00</td>\n",
       "      <td>NaN</td>\n",
       "    </tr>\n",
       "    <tr>\n",
       "      <th>1359</th>\n",
       "      <td>2012-05-10 10:30:00</td>\n",
       "      <td>NaN</td>\n",
       "    </tr>\n",
       "    <tr>\n",
       "      <th>1377</th>\n",
       "      <td>2012-05-10 13:30:00</td>\n",
       "      <td>NaN</td>\n",
       "    </tr>\n",
       "    <tr>\n",
       "      <th>1378</th>\n",
       "      <td>2012-05-10 13:40:00</td>\n",
       "      <td>NaN</td>\n",
       "    </tr>\n",
       "    <tr>\n",
       "      <th>...</th>\n",
       "      <td>...</td>\n",
       "      <td>...</td>\n",
       "    </tr>\n",
       "    <tr>\n",
       "      <th>267172</th>\n",
       "      <td>2022-05-16 08:40:00</td>\n",
       "      <td>NaN</td>\n",
       "    </tr>\n",
       "    <tr>\n",
       "      <th>270004</th>\n",
       "      <td>2022-06-05 00:40:00</td>\n",
       "      <td>NaN</td>\n",
       "    </tr>\n",
       "    <tr>\n",
       "      <th>270383</th>\n",
       "      <td>2022-06-07 15:50:00</td>\n",
       "      <td>NaN</td>\n",
       "    </tr>\n",
       "    <tr>\n",
       "      <th>272504</th>\n",
       "      <td>2022-06-22 09:20:00</td>\n",
       "      <td>NaN</td>\n",
       "    </tr>\n",
       "    <tr>\n",
       "      <th>274258</th>\n",
       "      <td>2022-07-04 13:40:00</td>\n",
       "      <td>NaN</td>\n",
       "    </tr>\n",
       "  </tbody>\n",
       "</table>\n",
       "<p>4927 rows × 2 columns</p>\n",
       "</div>"
      ],
      "text/plain": [
       "                        날짜  강화대교_조위\n",
       "193    2012-05-02 08:10:00      NaN\n",
       "307    2012-05-03 03:10:00      NaN\n",
       "1359   2012-05-10 10:30:00      NaN\n",
       "1377   2012-05-10 13:30:00      NaN\n",
       "1378   2012-05-10 13:40:00      NaN\n",
       "...                    ...      ...\n",
       "267172 2022-05-16 08:40:00      NaN\n",
       "270004 2022-06-05 00:40:00      NaN\n",
       "270383 2022-06-07 15:50:00      NaN\n",
       "272504 2022-06-22 09:20:00      NaN\n",
       "274258 2022-07-04 13:40:00      NaN\n",
       "\n",
       "[4927 rows x 2 columns]"
      ]
     },
     "execution_count": 290,
     "metadata": {},
     "output_type": "execute_result"
    }
   ],
   "source": [
    "gangwha[gangwha['강화대교_조위'].isnull()]   # 4927개의 결측치 : 순서대로 채우기"
   ]
  },
  {
   "cell_type": "code",
   "execution_count": 291,
   "id": "178d59de",
   "metadata": {
    "colab": {
     "base_uri": "https://localhost:8080/"
    },
    "executionInfo": {
     "elapsed": 427,
     "status": "ok",
     "timestamp": 1660743839256,
     "user": {
      "displayName": "이예림(상경대학 응용통계학과)",
      "userId": "02944141114007762965"
     },
     "user_tz": -540
    },
    "id": "RrthJw76c4B6",
    "outputId": "10fb03a5-e4db-469a-ccd9-80f777cdb60e"
   },
   "outputs": [],
   "source": [
    "nan_index = list(gangwha[gangwha['강화대교_조위'].isnull()].index)"
   ]
  },
  {
   "cell_type": "code",
   "execution_count": 292,
   "id": "144ee0a3",
   "metadata": {
    "colab": {
     "base_uri": "https://localhost:8080/"
    },
    "executionInfo": {
     "elapsed": 933,
     "status": "ok",
     "timestamp": 1660743839772,
     "user": {
      "displayName": "이예림(상경대학 응용통계학과)",
      "userId": "02944141114007762965"
     },
     "user_tz": -540
    },
    "id": "ubfxLxNcX-Nz",
    "outputId": "0680fa41-41e1-4ec1-90ef-81bd0fe72ea8"
   },
   "outputs": [
    {
     "data": {
      "text/plain": [
       "True"
      ]
     },
     "execution_count": 292,
     "metadata": {},
     "output_type": "execute_result"
    }
   ],
   "source": [
    "# Index 분리\n",
    "\n",
    "index_interpolate = []\n",
    "index_sarima = []\n",
    "\n",
    "i = 0\n",
    "while i < len(nan_index)-2:\n",
    "  if nan_index[i+2] == nan_index[i+1]+1 == nan_index[i]+2:\n",
    "    index_sarima.append(nan_index[i])\n",
    "    i += 1\n",
    "  elif nan_index[i+2] != nan_index[i+1]+1 and nan_index[i+1] == nan_index[i]+1:\n",
    "    index_sarima.extend([nan_index[i], nan_index[i+1]])\n",
    "    i += 2\n",
    "  else:\n",
    "    index_interpolate.append(nan_index[i])\n",
    "    i += 1\n",
    "\n",
    "index_interpolate.extend(nan_index[-2:])\n",
    "nan_index == sorted(index_interpolate+index_sarima)"
   ]
  },
  {
   "cell_type": "markdown",
   "id": "7f81b068",
   "metadata": {
    "id": "55pXgjIPTEJF"
   },
   "source": [
    "## 1. 비연속적 결측값 처리 by Interpolation"
   ]
  },
  {
   "cell_type": "code",
   "execution_count": 293,
   "id": "423d2049",
   "metadata": {
    "colab": {
     "base_uri": "https://localhost:8080/"
    },
    "executionInfo": {
     "elapsed": 210,
     "status": "ok",
     "timestamp": 1660743839774,
     "user": {
      "displayName": "이예림(상경대학 응용통계학과)",
      "userId": "02944141114007762965"
     },
     "user_tz": -540
    },
    "id": "HhxuRyakk_qm",
    "outputId": "c6d69d1e-0682-48d3-c8f6-bcd80bbc32e5"
   },
   "outputs": [],
   "source": [
    "# Interpolation에 쓰일 인덱스 지정 (결측값 기준 앞, 뒤 + 자체)\n",
    "\n",
    "index_interpolate_ = sum([[i-1, i, i+1] for i in index_interpolate], [])"
   ]
  },
  {
   "cell_type": "code",
   "execution_count": 294,
   "id": "70c1aa8d",
   "metadata": {
    "colab": {
     "base_uri": "https://localhost:8080/"
    },
    "executionInfo": {
     "elapsed": 184,
     "status": "ok",
     "timestamp": 1660743839775,
     "user": {
      "displayName": "이예림(상경대학 응용통계학과)",
      "userId": "02944141114007762965"
     },
     "user_tz": -540
    },
    "id": "sYfcdbzem2H2",
    "outputId": "d28d8051-90e8-4024-ba06-43b0cdb46c76"
   },
   "outputs": [
    {
     "data": {
      "text/plain": [
       "True"
      ]
     },
     "execution_count": 294,
     "metadata": {},
     "output_type": "execute_result"
    }
   ],
   "source": [
    "len(index_interpolate_) == len(set(index_interpolate)) * 3   # 겹치는 index 없는지 확인"
   ]
  },
  {
   "cell_type": "code",
   "execution_count": 295,
   "id": "196491c9",
   "metadata": {
    "colab": {
     "base_uri": "https://localhost:8080/",
     "height": 455
    },
    "executionInfo": {
     "elapsed": 99,
     "status": "ok",
     "timestamp": 1660743839776,
     "user": {
      "displayName": "이예림(상경대학 응용통계학과)",
      "userId": "02944141114007762965"
     },
     "user_tz": -540
    },
    "id": "pZAsVV_vbkl8",
    "outputId": "1723905b-154b-421b-ec39-30162831b99b",
    "scrolled": false
   },
   "outputs": [
    {
     "data": {
      "text/html": [
       "<div>\n",
       "<style scoped>\n",
       "    .dataframe tbody tr th:only-of-type {\n",
       "        vertical-align: middle;\n",
       "    }\n",
       "\n",
       "    .dataframe tbody tr th {\n",
       "        vertical-align: top;\n",
       "    }\n",
       "\n",
       "    .dataframe thead th {\n",
       "        text-align: right;\n",
       "    }\n",
       "</style>\n",
       "<table border=\"1\" class=\"dataframe\">\n",
       "  <thead>\n",
       "    <tr style=\"text-align: right;\">\n",
       "      <th></th>\n",
       "      <th>강화대교_조위</th>\n",
       "    </tr>\n",
       "    <tr>\n",
       "      <th>날짜</th>\n",
       "      <th></th>\n",
       "    </tr>\n",
       "  </thead>\n",
       "  <tbody>\n",
       "    <tr>\n",
       "      <th>2012-05-02 08:00:00</th>\n",
       "      <td>139.0</td>\n",
       "    </tr>\n",
       "    <tr>\n",
       "      <th>2012-05-02 08:10:00</th>\n",
       "      <td>NaN</td>\n",
       "    </tr>\n",
       "    <tr>\n",
       "      <th>2012-05-02 08:20:00</th>\n",
       "      <td>124.0</td>\n",
       "    </tr>\n",
       "    <tr>\n",
       "      <th>2012-05-03 03:00:00</th>\n",
       "      <td>555.0</td>\n",
       "    </tr>\n",
       "    <tr>\n",
       "      <th>2012-05-03 03:10:00</th>\n",
       "      <td>NaN</td>\n",
       "    </tr>\n",
       "    <tr>\n",
       "      <th>...</th>\n",
       "      <td>...</td>\n",
       "    </tr>\n",
       "    <tr>\n",
       "      <th>2022-06-22 09:20:00</th>\n",
       "      <td>NaN</td>\n",
       "    </tr>\n",
       "    <tr>\n",
       "      <th>2022-06-22 09:30:00</th>\n",
       "      <td>347.0</td>\n",
       "    </tr>\n",
       "    <tr>\n",
       "      <th>2022-07-04 13:30:00</th>\n",
       "      <td>291.0</td>\n",
       "    </tr>\n",
       "    <tr>\n",
       "      <th>2022-07-04 13:40:00</th>\n",
       "      <td>NaN</td>\n",
       "    </tr>\n",
       "    <tr>\n",
       "      <th>2022-07-04 13:50:00</th>\n",
       "      <td>266.0</td>\n",
       "    </tr>\n",
       "  </tbody>\n",
       "</table>\n",
       "<p>1065 rows × 1 columns</p>\n",
       "</div>"
      ],
      "text/plain": [
       "                     강화대교_조위\n",
       "날짜                          \n",
       "2012-05-02 08:00:00    139.0\n",
       "2012-05-02 08:10:00      NaN\n",
       "2012-05-02 08:20:00    124.0\n",
       "2012-05-03 03:00:00    555.0\n",
       "2012-05-03 03:10:00      NaN\n",
       "...                      ...\n",
       "2022-06-22 09:20:00      NaN\n",
       "2022-06-22 09:30:00    347.0\n",
       "2022-07-04 13:30:00    291.0\n",
       "2022-07-04 13:40:00      NaN\n",
       "2022-07-04 13:50:00    266.0\n",
       "\n",
       "[1065 rows x 1 columns]"
      ]
     },
     "execution_count": 295,
     "metadata": {},
     "output_type": "execute_result"
    }
   ],
   "source": [
    "# 데이터프레임 분리\n",
    "\n",
    "gangwha_interpolate = gangwha.copy()\n",
    "gangwha_interpolate = gangwha_interpolate.set_index('날짜')\n",
    "gangwha_interpolate = gangwha_interpolate.iloc[index_interpolate_, :]\n",
    "gangwha_interpolate"
   ]
  },
  {
   "cell_type": "code",
   "execution_count": 296,
   "id": "7596df3b",
   "metadata": {
    "colab": {
     "base_uri": "https://localhost:8080/",
     "height": 455
    },
    "executionInfo": {
     "elapsed": 97,
     "status": "ok",
     "timestamp": 1660743839777,
     "user": {
      "displayName": "이예림(상경대학 응용통계학과)",
      "userId": "02944141114007762965"
     },
     "user_tz": -540
    },
    "id": "Ern-vbzfne74",
    "outputId": "3b42110e-9ac7-4f06-9b92-8ea8b7a34476"
   },
   "outputs": [
    {
     "data": {
      "text/html": [
       "<div>\n",
       "<style scoped>\n",
       "    .dataframe tbody tr th:only-of-type {\n",
       "        vertical-align: middle;\n",
       "    }\n",
       "\n",
       "    .dataframe tbody tr th {\n",
       "        vertical-align: top;\n",
       "    }\n",
       "\n",
       "    .dataframe thead th {\n",
       "        text-align: right;\n",
       "    }\n",
       "</style>\n",
       "<table border=\"1\" class=\"dataframe\">\n",
       "  <thead>\n",
       "    <tr style=\"text-align: right;\">\n",
       "      <th></th>\n",
       "      <th>강화대교_조위</th>\n",
       "    </tr>\n",
       "    <tr>\n",
       "      <th>날짜</th>\n",
       "      <th></th>\n",
       "    </tr>\n",
       "  </thead>\n",
       "  <tbody>\n",
       "    <tr>\n",
       "      <th>2012-05-02 08:00:00</th>\n",
       "      <td>139.0</td>\n",
       "    </tr>\n",
       "    <tr>\n",
       "      <th>2012-05-02 08:10:00</th>\n",
       "      <td>131.5</td>\n",
       "    </tr>\n",
       "    <tr>\n",
       "      <th>2012-05-02 08:20:00</th>\n",
       "      <td>124.0</td>\n",
       "    </tr>\n",
       "    <tr>\n",
       "      <th>2012-05-03 03:00:00</th>\n",
       "      <td>555.0</td>\n",
       "    </tr>\n",
       "    <tr>\n",
       "      <th>2012-05-03 03:10:00</th>\n",
       "      <td>555.5</td>\n",
       "    </tr>\n",
       "    <tr>\n",
       "      <th>...</th>\n",
       "      <td>...</td>\n",
       "    </tr>\n",
       "    <tr>\n",
       "      <th>2022-06-22 09:20:00</th>\n",
       "      <td>328.0</td>\n",
       "    </tr>\n",
       "    <tr>\n",
       "      <th>2022-06-22 09:30:00</th>\n",
       "      <td>347.0</td>\n",
       "    </tr>\n",
       "    <tr>\n",
       "      <th>2022-07-04 13:30:00</th>\n",
       "      <td>291.0</td>\n",
       "    </tr>\n",
       "    <tr>\n",
       "      <th>2022-07-04 13:40:00</th>\n",
       "      <td>278.5</td>\n",
       "    </tr>\n",
       "    <tr>\n",
       "      <th>2022-07-04 13:50:00</th>\n",
       "      <td>266.0</td>\n",
       "    </tr>\n",
       "  </tbody>\n",
       "</table>\n",
       "<p>1065 rows × 1 columns</p>\n",
       "</div>"
      ],
      "text/plain": [
       "                     강화대교_조위\n",
       "날짜                          \n",
       "2012-05-02 08:00:00    139.0\n",
       "2012-05-02 08:10:00    131.5\n",
       "2012-05-02 08:20:00    124.0\n",
       "2012-05-03 03:00:00    555.0\n",
       "2012-05-03 03:10:00    555.5\n",
       "...                      ...\n",
       "2022-06-22 09:20:00    328.0\n",
       "2022-06-22 09:30:00    347.0\n",
       "2022-07-04 13:30:00    291.0\n",
       "2022-07-04 13:40:00    278.5\n",
       "2022-07-04 13:50:00    266.0\n",
       "\n",
       "[1065 rows x 1 columns]"
      ]
     },
     "execution_count": 296,
     "metadata": {},
     "output_type": "execute_result"
    }
   ],
   "source": [
    "# 보간\n",
    "\n",
    "gangwha_interpolate.interpolate(method='time', inplace=True)\n",
    "gangwha_interpolate   # 보간 결과 확인"
   ]
  },
  {
   "cell_type": "code",
   "execution_count": 297,
   "id": "28beb829",
   "metadata": {
    "colab": {
     "base_uri": "https://localhost:8080/"
    },
    "executionInfo": {
     "elapsed": 94,
     "status": "ok",
     "timestamp": 1660743839778,
     "user": {
      "displayName": "이예림(상경대학 응용통계학과)",
      "userId": "02944141114007762965"
     },
     "user_tz": -540
    },
    "id": "eeQuJ8GYfv4m",
    "outputId": "e6306177-a229-4704-90bc-46cbd35d38fe"
   },
   "outputs": [
    {
     "data": {
      "text/plain": [
       "강화대교_조위    0\n",
       "dtype: int64"
      ]
     },
     "execution_count": 297,
     "metadata": {},
     "output_type": "execute_result"
    }
   ],
   "source": [
    "gangwha_interpolate.isnull().sum()"
   ]
  },
  {
   "cell_type": "code",
   "execution_count": 298,
   "id": "391b623d",
   "metadata": {
    "colab": {
     "base_uri": "https://localhost:8080/"
    },
    "executionInfo": {
     "elapsed": 71,
     "status": "ok",
     "timestamp": 1660743839779,
     "user": {
      "displayName": "이예림(상경대학 응용통계학과)",
      "userId": "02944141114007762965"
     },
     "user_tz": -540
    },
    "id": "Nb9VtE6YXsLz",
    "outputId": "e2685d76-bd81-4d7f-d4ee-c4d2b1ed1b4e"
   },
   "outputs": [
    {
     "data": {
      "text/plain": [
       "강화대교_조위    True\n",
       "dtype: bool"
      ]
     },
     "execution_count": 298,
     "metadata": {},
     "output_type": "execute_result"
    }
   ],
   "source": [
    "gangwha = gangwha.set_index('날짜')\n",
    "gangwha.loc[gangwha_interpolate.index] = gangwha_interpolate\n",
    "gangwha.isnull().sum() == len(index_sarima)   # 남은 결측치 개수가 SARIMA로 채워야 할 결측치 개수(len(index_sarima))와 같은지 확인"
   ]
  },
  {
   "cell_type": "markdown",
   "id": "2404a425",
   "metadata": {
    "id": "dK89voI3c8Q0"
   },
   "source": [
    "## 2. 연속적 결측값 처리 by SARIMA"
   ]
  },
  {
   "cell_type": "code",
   "execution_count": 299,
   "id": "f7ac8d43",
   "metadata": {
    "colab": {
     "base_uri": "https://localhost:8080/",
     "height": 636
    },
    "executionInfo": {
     "elapsed": 21555,
     "status": "ok",
     "timestamp": 1660743861266,
     "user": {
      "displayName": "이예림(상경대학 응용통계학과)",
      "userId": "02944141114007762965"
     },
     "user_tz": -540
    },
    "id": "-uugY5hBTMTa",
    "outputId": "931c6453-6c54-4bce-c91a-90a599ab57d7",
    "scrolled": true
   },
   "outputs": [],
   "source": [
    "#!pip install pmdarima"
   ]
  },
  {
   "cell_type": "code",
   "execution_count": 300,
   "id": "e88826af",
   "metadata": {
    "executionInfo": {
     "elapsed": 1552,
     "status": "ok",
     "timestamp": 1660743862779,
     "user": {
      "displayName": "이예림(상경대학 응용통계학과)",
      "userId": "02944141114007762965"
     },
     "user_tz": -540
    },
    "id": "BxiLQENsdZvT"
   },
   "outputs": [],
   "source": [
    "from statsmodels.tsa.statespace.sarimax import SARIMAX\n",
    "import pmdarima as pm"
   ]
  },
  {
   "cell_type": "code",
   "execution_count": 301,
   "id": "5a660e4e",
   "metadata": {
    "colab": {
     "base_uri": "https://localhost:8080/"
    },
    "executionInfo": {
     "elapsed": 202,
     "status": "ok",
     "timestamp": 1660743862783,
     "user": {
      "displayName": "이예림(상경대학 응용통계학과)",
      "userId": "02944141114007762965"
     },
     "user_tz": -540
    },
    "id": "zSu62iX5Ta7f",
    "outputId": "ae70a0f4-a900-4c77-d110-f8018942180f"
   },
   "outputs": [
    {
     "data": {
      "text/plain": [
       "1377"
      ]
     },
     "execution_count": 301,
     "metadata": {},
     "output_type": "execute_result"
    }
   ],
   "source": [
    "index_sarima[0]"
   ]
  },
  {
   "cell_type": "code",
   "execution_count": 302,
   "id": "bb68946a",
   "metadata": {
    "colab": {
     "base_uri": "https://localhost:8080/",
     "height": 455
    },
    "executionInfo": {
     "elapsed": 206,
     "status": "ok",
     "timestamp": 1660743862798,
     "user": {
      "displayName": "이예림(상경대학 응용통계학과)",
      "userId": "02944141114007762965"
     },
     "user_tz": -540
    },
    "id": "QxkCDAiHSPHx",
    "outputId": "28ce2d80-dfe7-41f4-8011-568d9ad63316"
   },
   "outputs": [
    {
     "data": {
      "text/html": [
       "<div>\n",
       "<style scoped>\n",
       "    .dataframe tbody tr th:only-of-type {\n",
       "        vertical-align: middle;\n",
       "    }\n",
       "\n",
       "    .dataframe tbody tr th {\n",
       "        vertical-align: top;\n",
       "    }\n",
       "\n",
       "    .dataframe thead th {\n",
       "        text-align: right;\n",
       "    }\n",
       "</style>\n",
       "<table border=\"1\" class=\"dataframe\">\n",
       "  <thead>\n",
       "    <tr style=\"text-align: right;\">\n",
       "      <th></th>\n",
       "      <th>강화대교_조위</th>\n",
       "    </tr>\n",
       "    <tr>\n",
       "      <th>날짜</th>\n",
       "      <th></th>\n",
       "    </tr>\n",
       "  </thead>\n",
       "  <tbody>\n",
       "    <tr>\n",
       "      <th>2012-05-01 00:00:00</th>\n",
       "      <td>445.0</td>\n",
       "    </tr>\n",
       "    <tr>\n",
       "      <th>2012-05-01 00:10:00</th>\n",
       "      <td>449.0</td>\n",
       "    </tr>\n",
       "    <tr>\n",
       "      <th>2012-05-01 00:20:00</th>\n",
       "      <td>451.0</td>\n",
       "    </tr>\n",
       "    <tr>\n",
       "      <th>2012-05-01 00:30:00</th>\n",
       "      <td>452.0</td>\n",
       "    </tr>\n",
       "    <tr>\n",
       "      <th>2012-05-01 00:40:00</th>\n",
       "      <td>450.0</td>\n",
       "    </tr>\n",
       "    <tr>\n",
       "      <th>...</th>\n",
       "      <td>...</td>\n",
       "    </tr>\n",
       "    <tr>\n",
       "      <th>2022-07-18 23:10:00</th>\n",
       "      <td>510.0</td>\n",
       "    </tr>\n",
       "    <tr>\n",
       "      <th>2022-07-18 23:20:00</th>\n",
       "      <td>492.0</td>\n",
       "    </tr>\n",
       "    <tr>\n",
       "      <th>2022-07-18 23:30:00</th>\n",
       "      <td>475.0</td>\n",
       "    </tr>\n",
       "    <tr>\n",
       "      <th>2022-07-18 23:40:00</th>\n",
       "      <td>458.0</td>\n",
       "    </tr>\n",
       "    <tr>\n",
       "      <th>2022-07-18 23:50:00</th>\n",
       "      <td>442.0</td>\n",
       "    </tr>\n",
       "  </tbody>\n",
       "</table>\n",
       "<p>276336 rows × 1 columns</p>\n",
       "</div>"
      ],
      "text/plain": [
       "                     강화대교_조위\n",
       "날짜                          \n",
       "2012-05-01 00:00:00    445.0\n",
       "2012-05-01 00:10:00    449.0\n",
       "2012-05-01 00:20:00    451.0\n",
       "2012-05-01 00:30:00    452.0\n",
       "2012-05-01 00:40:00    450.0\n",
       "...                      ...\n",
       "2022-07-18 23:10:00    510.0\n",
       "2022-07-18 23:20:00    492.0\n",
       "2022-07-18 23:30:00    475.0\n",
       "2022-07-18 23:40:00    458.0\n",
       "2022-07-18 23:50:00    442.0\n",
       "\n",
       "[276336 rows x 1 columns]"
      ]
     },
     "execution_count": 302,
     "metadata": {},
     "output_type": "execute_result"
    }
   ],
   "source": [
    "gangwha"
   ]
  },
  {
   "cell_type": "code",
   "execution_count": 303,
   "id": "80c1bc7f",
   "metadata": {
    "colab": {
     "base_uri": "https://localhost:8080/"
    },
    "executionInfo": {
     "elapsed": 283,
     "status": "ok",
     "timestamp": 1660743862881,
     "user": {
      "displayName": "이예림(상경대학 응용통계학과)",
      "userId": "02944141114007762965"
     },
     "user_tz": -540
    },
    "id": "8bN42uONUfY9",
    "outputId": "9ba9b11d-90d1-4d51-dbff-057d740b6556"
   },
   "outputs": [
    {
     "name": "stdout",
     "output_type": "stream",
     "text": [
      "[[1377, 1378, 1379, 1380, 1381, 1382, 1383, 1384, 1385, 1386, 1387, 1388, 1389, 1390, 1391, 1392, 1393, 1394, 1395, 1396, 1397, 1398, 1399, 1400, 1401, 1402, 1403, 1404, 1405, 1406, 1407, 1408, 1409, 1410, 1411, 1412, 1413, 1414, 1415, 1416, 1417, 1418, 1419, 1420, 1421, 1422, 1423, 1424, 1425, 1426, 1427, 1428, 1429, 1430, 1431, 1432, 1433, 1434, 1435, 1436, 1437, 1438, 1439, 1440, 1441, 1442, 1443, 1444, 1445, 1446, 1447, 1448, 1449, 1450, 1451, 1452, 1453, 1454, 1455, 1456, 1457, 1458, 1459, 1460, 1461, 1462, 1463, 1464, 1465, 1466, 1467, 1468, 1469, 1470, 1471, 1472, 1473, 1474, 1475, 1476, 1477, 1478, 1479, 1480, 1481, 1482, 1483, 1484, 1485, 1486, 1487, 1488, 1489, 1490, 1491, 1492, 1493, 1494, 1495, 1496, 1497, 1498, 1499, 1500, 1501, 1502, 1503, 1504, 1505, 1506, 1507, 1508, 1509, 1510, 1511, 1512, 1513, 1514, 1515, 1516, 1517, 1518, 1519, 1520, 1521, 1522, 1523, 1524, 1525, 1526, 1527, 1528, 1529, 1530, 1531, 1532, 1533, 1534, 1535, 1536, 1537, 1538, 1539, 1540, 1541, 1542, 1543, 1544, 1545, 1546, 1547, 1548, 1549, 1550, 1551, 1552, 1553, 1554, 1555, 1556, 1557, 1558, 1559, 1560, 1561, 1562, 1563, 1564, 1565, 1566, 1567, 1568, 1569, 1570, 1571, 1572, 1573, 1574, 1575, 1576, 1577, 1578, 1579, 1580, 1581, 1582, 1583, 1584, 1585, 1586, 1587, 1588, 1589, 1590, 1591, 1592, 1593, 1594, 1595, 1596, 1597, 1598, 1599, 1600, 1601, 1602, 1603, 1604, 1605, 1606, 1607, 1608, 1609, 1610, 1611, 1612, 1613, 1614, 1615, 1616, 1617, 1618, 1619, 1620, 1621, 1622, 1623, 1624, 1625, 1626, 1627, 1628, 1629, 1630, 1631, 1632, 1633, 1634, 1635, 1636, 1637, 1638, 1639, 1640, 1641, 1642, 1643, 1644, 1645, 1646, 1647, 1648, 1649, 1650, 1651, 1652, 1653, 1654, 1655, 1656, 1657, 1658, 1659, 1660, 1661, 1662, 1663, 1664, 1665, 1666, 1667, 1668, 1669, 1670, 1671, 1672, 1673, 1674, 1675, 1676, 1677, 1678, 1679, 1680, 1681, 1682, 1683, 1684, 1685, 1686, 1687, 1688, 1689, 1690, 1691, 1692, 1693, 1694, 1695, 1696, 1697, 1698, 1699, 1700, 1701, 1702, 1703, 1704, 1705, 1706, 1707, 1708, 1709, 1710, 1711, 1712, 1713, 1714, 1715, 1716, 1717, 1718, 1719, 1720, 1721, 1722, 1723, 1724, 1725, 1726, 1727, 1728, 1729, 1730, 1731, 1732, 1733, 1734, 1735, 1736, 1737, 1738, 1739, 1740, 1741, 1742, 1743, 1744, 1745, 1746, 1747, 1748, 1749, 1750, 1751, 1752, 1753, 1754, 1755, 1756, 1757, 1758, 1759, 1760, 1761, 1762, 1763, 1764, 1765, 1766, 1767, 1768, 1769, 1770, 1771, 1772, 1773, 1774, 1775, 1776, 1777, 1778, 1779, 1780, 1781, 1782, 1783, 1784, 1785, 1786, 1787, 1788, 1789, 1790, 1791, 1792, 1793, 1794, 1795, 1796, 1797, 1798, 1799, 1800, 1801, 1802, 1803, 1804, 1805, 1806, 1807, 1808, 1809, 1810, 1811, 1812, 1813, 1814, 1815, 1816, 1817, 1818, 1819, 1820, 1821, 1822, 1823, 1824, 1825, 1826, 1827, 1828, 1829, 1830, 1831, 1832, 1833, 1834, 1835, 1836, 1837, 1838, 1839, 1840, 1841, 1842, 1843, 1844, 1845, 1846, 1847, 1848, 1849, 1850, 1851, 1852, 1853, 1854, 1855, 1856, 1857, 1858, 1859, 1860, 1861, 1862, 1863, 1864, 1865, 1866, 1867, 1868, 1869, 1870, 1871, 1872, 1873, 1874, 1875, 1876, 1877, 1878, 1879, 1880, 1881, 1882, 1883, 1884, 1885, 1886, 1887, 1888, 1889, 1890, 1891, 1892, 1893, 1894, 1895, 1896, 1897, 1898, 1899, 1900, 1901, 1902, 1903, 1904, 1905, 1906, 1907, 1908, 1909, 1910, 1911, 1912, 1913, 1914, 1915, 1916, 1917, 1918, 1919, 1920, 1921, 1922, 1923, 1924, 1925, 1926, 1927, 1928, 1929, 1930, 1931, 1932, 1933, 1934, 1935, 1936, 1937, 1938, 1939, 1940, 1941, 1942, 1943, 1944, 1945, 1946, 1947, 1948, 1949, 1950, 1951, 1952, 1953, 1954, 1955, 1956, 1957, 1958, 1959, 1960, 1961, 1962, 1963, 1964, 1965, 1966, 1967, 1968, 1969, 1970, 1971, 1972, 1973, 1974, 1975, 1976, 1977, 1978, 1979, 1980, 1981, 1982, 1983, 1984, 1985, 1986, 1987, 1988, 1989, 1990, 1991, 1992, 1993, 1994, 1995, 1996, 1997, 1998, 1999, 2000, 2001, 2002, 2003, 2004, 2005, 2006, 2007, 2008, 2009, 2010, 2011, 2012, 2013, 2014, 2015, 2016, 2017, 2018, 2019, 2020, 2021, 2022, 2023, 2024, 2025, 2026, 2027, 2028, 2029, 2030, 2031, 2032, 2033, 2034, 2035, 2036, 2037, 2038, 2039, 2040, 2041, 2042, 2043, 2044, 2045, 2046, 2047, 2048, 2049, 2050, 2051, 2052, 2053, 2054, 2055, 2056, 2057, 2058, 2059, 2060, 2061, 2062, 2063, 2064, 2065, 2066, 2067, 2068, 2069, 2070, 2071, 2072, 2073, 2074], [6476, 6477, 6478, 6479, 6480, 6481, 6482, 6483, 6484, 6485, 6486, 6487, 6488, 6489, 6490, 6491, 6492, 6493, 6494, 6495, 6496, 6497, 6498, 6499, 6500, 6501, 6502, 6503, 6504, 6505, 6506, 6507, 6508, 6509, 6510, 6511, 6512, 6513, 6514, 6515, 6516, 6517, 6518, 6519, 6520, 6521, 6522, 6523, 6524, 6525, 6526, 6527, 6528, 6529, 6530, 6531, 6532, 6533, 6534, 6535], [8692, 8693], [81264, 81265], [106232, 106233, 106234, 106235, 106236, 106237, 106238, 106239, 106240, 106241, 106242, 106243, 106244, 106245, 106246, 106247, 106248, 106249, 106250, 106251, 106252, 106253, 106254, 106255], [107348, 107349], [109671, 109672, 109673, 109674, 109675, 109676, 109677, 109678, 109679, 109680, 109681, 109682, 109683, 109684, 109685, 109686, 109687, 109688, 109689, 109690, 109691, 109692, 109693, 109694, 109695, 109696, 109697, 109698, 109699, 109700, 109701, 109702, 109703, 109704, 109705, 109706, 109707, 109708, 109709, 109710, 109711, 109712, 109713, 109714, 109715, 109716, 109717, 109718, 109719, 109720, 109721, 109722, 109723, 109724, 109725, 109726, 109727, 109728, 109729, 109730, 109731, 109732, 109733, 109734, 109735, 109736, 109737, 109738, 109739, 109740, 109741, 109742, 109743, 109744, 109745, 109746, 109747, 109748, 109749, 109750, 109751, 109752, 109753, 109754, 109755, 109756, 109757, 109758, 109759, 109760, 109761, 109762, 109763, 109764, 109765, 109766, 109767, 109768, 109769, 109770, 109771, 109772, 109773, 109774, 109775, 109776, 109777, 109778, 109779, 109780, 109781, 109782, 109783, 109784, 109785, 109786, 109787, 109788, 109789, 109790, 109791, 109792, 109793, 109794, 109795, 109796, 109797, 109798, 109799, 109800, 109801, 109802, 109803, 109804, 109805, 109806, 109807, 109808, 109809, 109810, 109811, 109812, 109813, 109814, 109815, 109816, 109817, 109818, 109819, 109820, 109821, 109822, 109823, 109824], [113414, 113415, 113416, 113417, 113418, 113419, 113420, 113421, 113422, 113423, 113424, 113425, 113426, 113427, 113428, 113429, 113430, 113431, 113432, 113433, 113434, 113435, 113436, 113437, 113438, 113439, 113440, 113441, 113442, 113443, 113444, 113445, 113446, 113447, 113448, 113449, 113450, 113451, 113452, 113453, 113454, 113455, 113456, 113457, 113458, 113459, 113460, 113461, 113462, 113463, 113464, 113465, 113466, 113467, 113468, 113469, 113470, 113471, 113472, 113473, 113474, 113475, 113476, 113477, 113478, 113479, 113480, 113481, 113482, 113483, 113484, 113485, 113486, 113487, 113488, 113489, 113490, 113491, 113492, 113493, 113494, 113495, 113496, 113497, 113498, 113499, 113500, 113501, 113502, 113503, 113504, 113505, 113506, 113507, 113508, 113509, 113510, 113511, 113512, 113513, 113514, 113515, 113516, 113517, 113518, 113519, 113520], [118220, 118221, 118222, 118223, 118224, 118225, 118226, 118227, 118228, 118229, 118230, 118231, 118232, 118233, 118234, 118235, 118236, 118237, 118238, 118239, 118240, 118241, 118242, 118243, 118244, 118245, 118246, 118247, 118248, 118249, 118250, 118251, 118252, 118253, 118254, 118255, 118256, 118257, 118258, 118259, 118260, 118261, 118262], [119478, 119479, 119480, 119481, 119482, 119483, 119484, 119485, 119486, 119487, 119488, 119489, 119490, 119491, 119492, 119493, 119494, 119495, 119496, 119497, 119498, 119499, 119500, 119501, 119502, 119503, 119504, 119505, 119506, 119507, 119508, 119509, 119510, 119511, 119512, 119513, 119514, 119515, 119516, 119517, 119518, 119519, 119520, 119521, 119522, 119523, 119524, 119525, 119526, 119527, 119528, 119529, 119530, 119531, 119532, 119533, 119534, 119535, 119536, 119537, 119538, 119539, 119540, 119541, 119542, 119543, 119544, 119545, 119546, 119547, 119548, 119549, 119550, 119551, 119552, 119553, 119554, 119555, 119556, 119557, 119558, 119559, 119560, 119561, 119562, 119563, 119564, 119565], [121454, 121455, 121456], [122954, 122955, 122956, 122957, 122958, 122959, 122960, 122961, 122962, 122963, 122964, 122965, 122966, 122967, 122968, 122969, 122970, 122971, 122972, 122973, 122974, 122975, 122976, 122977, 122978, 122979, 122980, 122981, 122982, 122983, 122984, 122985, 122986, 122987, 122988, 122989, 122990, 122991, 122992, 122993, 122994, 122995, 122996, 122997, 122998, 122999, 123000, 123001, 123002, 123003, 123004, 123005, 123006, 123007, 123008, 123009, 123010, 123011, 123012, 123013, 123014, 123015, 123016, 123017, 123018, 123019, 123020, 123021, 123022], [127995, 127996, 127997, 127998, 127999, 128000, 128001, 128002, 128003, 128004, 128005, 128006, 128007, 128008, 128009, 128010, 128011, 128012, 128013, 128014, 128015, 128016, 128017, 128018, 128019, 128020, 128021, 128022, 128023, 128024, 128025, 128026, 128027, 128028, 128029, 128030, 128031, 128032, 128033, 128034, 128035, 128036, 128037, 128038, 128039, 128040, 128041, 128042, 128043, 128044, 128045, 128046, 128047, 128048, 128049, 128050, 128051, 128052, 128053, 128054, 128055, 128056, 128057, 128058, 128059, 128060, 128061, 128062, 128063, 128064, 128065], [128732, 128733, 128734, 128735, 128736, 128737, 128738, 128739, 128740, 128741, 128742, 128743, 128744, 128745, 128746, 128747, 128748, 128749, 128750, 128751, 128752, 128753, 128754, 128755, 128756, 128757, 128758, 128759, 128760, 128761, 128762, 128763, 128764, 128765, 128766, 128767, 128768, 128769, 128770, 128771, 128772, 128773, 128774], [128983, 128984, 128985, 128986, 128987, 128988, 128989, 128990, 128991, 128992, 128993, 128994, 128995, 128996, 128997, 128998, 128999, 129000, 129001, 129002, 129003, 129004, 129005, 129006, 129007, 129008, 129009, 129010, 129011, 129012, 129013, 129014, 129015, 129016, 129017, 129018, 129019, 129020, 129021, 129022, 129023, 129024, 129025, 129026, 129027, 129028, 129029, 129030, 129031, 129032], [138758, 138759, 138760, 138761, 138762, 138763], [138902, 138903, 138904, 138905, 138906, 138907, 138908, 138909, 138910], [139007, 139008], [139151, 139152, 139153, 139154, 139155], [139439, 139440], [139583, 139584, 139585, 139586, 139587, 139588, 139589, 139590, 139591, 139592, 139593, 139594, 139595, 139596, 139597, 139598, 139599, 139600, 139601, 139602, 139603, 139604], [140015, 140016, 140017], [140883, 140884, 140885, 140886], [140914, 140915, 140916, 140917, 140918, 140919, 140920, 140921, 140922, 140923, 140924, 140925, 140926, 140927, 140928], [141903, 141904, 141905], [141945, 141946, 141947], [142202, 142203, 142204, 142205, 142206], [142263, 142264, 142265, 142266, 142267, 142268], [143116, 143117, 143118, 143119, 143120, 143121, 143122, 143123, 143124, 143125, 143126, 143127, 143128, 143129, 143130, 143131, 143132, 143133, 143134, 143135, 143136, 143137, 143138, 143139, 143140, 143141, 143142, 143143, 143144, 143145, 143146, 143147, 143148, 143149, 143150, 143151, 143152, 143153, 143154, 143155, 143156, 143157, 143158, 143159, 143160, 143161, 143162, 143163, 143164, 143165, 143166, 143167, 143168, 143169, 143170, 143171, 143172, 143173, 143174, 143175, 143176, 143177, 143178, 143179, 143180, 143181, 143182, 143183, 143184, 143185, 143186, 143187, 143188, 143189, 143190, 143191], [143355, 143356, 143357], [143359, 143360, 143361], [143400, 143401, 143402, 143403, 143404, 143405, 143406, 143407, 143408, 143409, 143410, 143411, 143412, 143413, 143414, 143415, 143416, 143417, 143418, 143419, 143420, 143421, 143422, 143423, 143424, 143425, 143426, 143427, 143428], [143809, 143810, 143811, 143812, 143813], [144518, 144519, 144520, 144521, 144522, 144523, 144524], [144527, 144528, 144529, 144530, 144531, 144532, 144533, 144534, 144535, 144536, 144537, 144538, 144539, 144540, 144541, 144542, 144543, 144544, 144545, 144546, 144547, 144548, 144549, 144550, 144551, 144552, 144553, 144554, 144555, 144556, 144557, 144558, 144559, 144560, 144561, 144562, 144563], [144837, 144838, 144839, 144840, 144841, 144842, 144843, 144844, 144845, 144846, 144847, 144848, 144849], [145393, 145394, 145395, 145396, 145397, 145398, 145399, 145400, 145401, 145402, 145403, 145404, 145405, 145406, 145407, 145408, 145409, 145410], [145574, 145575, 145576, 145577, 145578, 145579, 145580, 145581, 145582, 145583, 145584], [145948, 145949, 145950, 145951, 145952], [146118, 146119, 146120, 146121, 146122, 146123, 146124], [146126, 146127, 146128], [146832, 146833, 146834, 146835, 146836, 146837], [147433, 147434, 147435, 147436, 147437, 147438, 147439, 147440, 147441, 147442, 147443, 147444], [148436, 148437, 148438, 148439, 148440, 148441, 148442, 148443, 148444, 148445, 148446, 148447, 148448, 148449, 148450, 148451, 148452, 148453, 148454, 148455, 148456, 148457, 148458, 148459, 148460, 148461, 148462, 148463, 148464, 148465, 148466, 148467, 148468, 148469, 148470, 148471, 148472, 148473, 148474, 148475, 148476, 148477, 148478, 148479, 148480, 148481, 148482, 148483, 148484, 148485, 148486, 148487, 148488, 148489, 148490, 148491, 148492, 148493, 148494, 148495, 148496, 148497, 148498, 148499, 148500, 148501, 148502, 148503, 148504, 148505, 148506, 148507, 148508, 148509, 148510, 148511, 148512, 148513, 148514, 148515, 148516, 148517], [150283, 150284, 150285], [151332, 151333, 151334, 151335, 151336, 151337, 151338, 151339, 151340, 151341, 151342, 151343, 151344, 151345, 151346, 151347, 151348, 151349, 151350, 151351, 151352, 151353, 151354, 151355, 151356, 151357, 151358, 151359, 151360, 151361, 151362, 151363, 151364, 151365, 151366, 151367, 151368, 151369, 151370, 151371, 151372, 151373, 151374, 151375, 151376, 151377, 151378, 151379, 151380, 151381, 151382, 151383, 151384, 151385, 151386, 151387, 151388, 151389, 151390, 151391, 151392, 151393, 151394], [152190, 152191, 152192, 152193, 152194, 152195, 152196, 152197, 152198, 152199, 152200, 152201, 152202, 152203, 152204, 152205, 152206, 152207, 152208, 152209], [153183, 153184, 153185, 153186, 153187, 153188, 153189, 153190, 153191, 153192, 153193, 153194, 153195, 153196, 153197, 153198, 153199, 153200, 153201, 153202, 153203, 153204, 153205, 153206, 153207, 153208], [155335, 155336, 155337, 155338, 155339, 155340, 155341, 155342, 155343, 155344], [156067, 156068, 156069, 156070, 156071, 156072, 156073, 156074, 156075, 156076, 156077, 156078, 156079, 156080, 156081, 156082, 156083, 156084, 156085, 156086, 156087, 156088, 156089, 156090, 156091, 156092, 156093, 156094, 156095, 156096, 156097, 156098, 156099, 156100, 156101, 156102, 156103, 156104, 156105, 156106, 156107, 156108, 156109, 156110, 156111, 156112, 156113, 156114, 156115, 156116, 156117, 156118, 156119, 156120, 156121, 156122, 156123, 156124, 156125, 156126, 156127, 156128, 156129, 156130, 156131, 156132, 156133, 156134, 156135, 156136, 156137, 156138, 156139], [156465, 156466, 156467, 156468, 156469, 156470, 156471, 156472, 156473], [175348, 175349, 175350, 175351, 175352], [251063, 251064, 251065], [262424, 262425, 262426, 262427, 262428, 262429, 262430, 262431, 262432, 262433, 262434, 262435, 262436, 262437, 262438, 262439, 262440, 262441, 262442, 262443, 262444, 262445, 262446, 262447, 262448, 262449, 262450, 262451, 262452, 262453, 262454, 262455, 262456, 262457, 262458, 262459, 262460, 262461, 262462, 262463, 262464, 262465, 262466, 262467, 262468, 262469, 262470, 262471, 262472, 262473, 262474, 262475, 262476, 262477, 262478, 262479, 262480, 262481, 262482, 262483, 262484, 262485, 262486, 262487, 262488, 262489, 262490, 262491, 262492, 262493, 262494, 262495, 262496, 262497, 262498, 262499, 262500, 262501, 262502, 262503, 262504, 262505, 262506, 262507, 262508, 262509, 262510, 262511, 262512, 262513, 262514, 262515, 262516, 262517, 262518, 262519, 262520, 262521, 262522, 262523, 262524, 262525, 262526, 262527, 262528, 262529, 262530, 262531, 262532, 262533, 262534, 262535, 262536, 262537, 262538, 262539, 262540, 262541, 262542, 262543, 262544, 262545, 262546, 262547, 262548, 262549, 262550, 262551, 262552, 262553, 262554, 262555, 262556, 262557, 262558, 262559, 262560, 262561, 262562, 262563, 262564, 262565, 262566, 262567, 262568, 262569, 262570, 262571, 262572, 262573, 262574, 262575, 262576, 262577, 262578, 262579, 262580, 262581, 262582, 262583, 262584, 262585, 262586, 262587, 262588, 262589, 262590, 262591, 262592, 262593, 262594, 262595, 262596, 262597, 262598, 262599, 262600, 262601, 262602, 262603, 262604, 262605, 262606, 262607, 262608, 262609, 262610, 262611, 262612, 262613, 262614, 262615, 262616, 262617, 262618, 262619, 262620, 262621, 262622, 262623, 262624, 262625, 262626, 262627, 262628, 262629, 262630, 262631, 262632, 262633, 262634, 262635, 262636, 262637, 262638, 262639, 262640, 262641, 262642, 262643, 262644, 262645, 262646, 262647, 262648, 262649, 262650, 262651, 262652, 262653, 262654, 262655, 262656, 262657, 262658, 262659, 262660, 262661, 262662, 262663, 262664, 262665, 262666, 262667, 262668, 262669, 262670, 262671, 262672, 262673, 262674, 262675, 262676, 262677, 262678, 262679, 262680, 262681, 262682, 262683, 262684, 262685, 262686, 262687, 262688, 262689, 262690, 262691, 262692, 262693, 262694, 262695, 262696, 262697, 262698, 262699, 262700, 262701, 262702, 262703, 262704, 262705, 262706, 262707, 262708, 262709, 262710, 262711, 262712, 262713, 262714, 262715, 262716, 262717, 262718, 262719, 262720, 262721, 262722, 262723, 262724, 262725, 262726, 262727, 262728, 262729, 262730, 262731, 262732, 262733, 262734, 262735, 262736, 262737, 262738, 262739, 262740, 262741, 262742, 262743, 262744, 262745, 262746, 262747, 262748, 262749, 262750, 262751, 262752, 262753, 262754, 262755, 262756, 262757, 262758, 262759, 262760, 262761, 262762, 262763, 262764, 262765, 262766, 262767, 262768, 262769, 262770, 262771, 262772, 262773, 262774, 262775, 262776, 262777, 262778, 262779, 262780, 262781, 262782, 262783, 262784, 262785, 262786, 262787, 262788, 262789, 262790, 262791, 262792, 262793, 262794, 262795, 262796, 262797, 262798, 262799, 262800, 262801, 262802, 262803, 262804, 262805, 262806, 262807, 262808, 262809, 262810, 262811, 262812, 262813, 262814, 262815, 262816, 262817, 262818, 262819, 262820, 262821, 262822, 262823, 262824, 262825, 262826, 262827, 262828, 262829, 262830, 262831, 262832, 262833, 262834, 262835, 262836, 262837, 262838, 262839, 262840, 262841, 262842, 262843, 262844, 262845, 262846, 262847, 262848, 262849, 262850, 262851, 262852, 262853, 262854, 262855, 262856, 262857, 262858, 262859, 262860, 262861, 262862, 262863, 262864, 262865, 262866, 262867, 262868, 262869, 262870, 262871, 262872, 262873, 262874, 262875, 262876, 262877, 262878, 262879, 262880, 262881, 262882, 262883, 262884, 262885, 262886, 262887, 262888, 262889, 262890, 262891, 262892, 262893, 262894, 262895, 262896, 262897, 262898, 262899, 262900, 262901, 262902, 262903, 262904, 262905, 262906, 262907, 262908, 262909, 262910, 262911, 262912, 262913, 262914, 262915, 262916, 262917, 262918, 262919, 262920, 262921, 262922, 262923, 262924, 262925, 262926, 262927, 262928, 262929, 262930, 262931, 262932, 262933, 262934, 262935, 262936, 262937, 262938, 262939, 262940, 262941, 262942, 262943, 262944, 262945, 262946, 262947, 262948, 262949, 262950, 262951, 262952, 262953, 262954, 262955, 262956, 262957, 262958, 262959, 262960, 262961, 262962, 262963, 262964, 262965, 262966, 262967, 262968, 262969, 262970, 262971, 262972, 262973, 262974, 262975, 262976, 262977, 262978, 262979, 262980, 262981, 262982, 262983, 262984, 262985, 262986, 262987, 262988, 262989, 262990, 262991, 262992, 262993, 262994, 262995, 262996, 262997, 262998, 262999, 263000, 263001, 263002, 263003, 263004, 263005, 263006, 263007, 263008, 263009, 263010, 263011, 263012, 263013, 263014, 263015, 263016, 263017, 263018, 263019, 263020, 263021, 263022, 263023, 263024, 263025, 263026, 263027, 263028, 263029, 263030, 263031, 263032, 263033, 263034, 263035, 263036, 263037, 263038, 263039, 263040, 263041, 263042, 263043, 263044, 263045, 263046, 263047, 263048, 263049, 263050, 263051, 263052, 263053, 263054, 263055, 263056, 263057, 263058, 263059, 263060, 263061, 263062, 263063, 263064, 263065, 263066, 263067, 263068, 263069, 263070, 263071, 263072, 263073, 263074, 263075, 263076, 263077, 263078, 263079, 263080, 263081, 263082, 263083, 263084, 263085, 263086, 263087, 263088, 263089, 263090, 263091, 263092, 263093, 263094, 263095, 263096, 263097, 263098, 263099, 263100, 263101, 263102, 263103, 263104, 263105, 263106, 263107, 263108, 263109, 263110, 263111, 263112, 263113, 263114, 263115, 263116, 263117, 263118, 263119, 263120, 263121, 263122, 263123, 263124, 263125, 263126, 263127, 263128, 263129, 263130, 263131, 263132, 263133, 263134, 263135, 263136, 263137, 263138, 263139, 263140, 263141, 263142, 263143, 263144, 263145, 263146, 263147, 263148, 263149, 263150, 263151, 263152, 263153, 263154, 263155, 263156, 263157, 263158, 263159, 263160, 263161, 263162, 263163, 263164, 263165, 263166, 263167, 263168, 263169, 263170, 263171, 263172, 263173, 263174, 263175, 263176, 263177, 263178, 263179, 263180, 263181, 263182, 263183, 263184, 263185, 263186, 263187, 263188, 263189, 263190, 263191, 263192, 263193, 263194, 263195, 263196, 263197, 263198, 263199, 263200, 263201, 263202, 263203, 263204, 263205, 263206, 263207, 263208, 263209, 263210, 263211, 263212, 263213, 263214, 263215, 263216, 263217, 263218, 263219, 263220, 263221, 263222, 263223, 263224, 263225, 263226, 263227, 263228, 263229, 263230, 263231, 263232, 263233, 263234, 263235, 263236, 263237, 263238, 263239, 263240, 263241, 263242, 263243, 263244, 263245, 263246, 263247, 263248, 263249, 263250, 263251, 263252, 263253, 263254, 263255, 263256, 263257, 263258, 263259, 263260, 263261, 263262, 263263, 263264, 263265, 263266, 263267, 263268, 263269, 263270, 263271, 263272, 263273, 263274, 263275, 263276, 263277, 263278, 263279, 263280, 263281, 263282, 263283, 263284, 263285, 263286, 263287, 263288, 263289, 263290, 263291, 263292, 263293, 263294, 263295, 263296, 263297, 263298, 263299, 263300, 263301, 263302, 263303, 263304, 263305, 263306, 263307, 263308, 263309, 263310, 263311, 263312, 263313, 263314, 263315, 263316, 263317, 263318, 263319, 263320, 263321, 263322, 263323, 263324, 263325, 263326, 263327, 263328, 263329, 263330, 263331, 263332, 263333, 263334, 263335, 263336, 263337, 263338, 263339, 263340, 263341, 263342, 263343, 263344, 263345, 263346, 263347, 263348, 263349, 263350, 263351, 263352, 263353, 263354, 263355, 263356, 263357, 263358, 263359, 263360, 263361, 263362, 263363, 263364, 263365, 263366, 263367, 263368, 263369, 263370, 263371, 263372, 263373, 263374, 263375, 263376, 263377, 263378, 263379, 263380, 263381, 263382, 263383, 263384, 263385, 263386, 263387, 263388, 263389, 263390, 263391, 263392, 263393, 263394, 263395, 263396, 263397, 263398, 263399, 263400, 263401, 263402, 263403, 263404, 263405, 263406, 263407, 263408, 263409, 263410, 263411, 263412, 263413, 263414, 263415, 263416, 263417, 263418, 263419, 263420, 263421, 263422, 263423, 263424, 263425, 263426, 263427, 263428, 263429, 263430, 263431, 263432, 263433, 263434, 263435, 263436, 263437, 263438, 263439, 263440, 263441, 263442, 263443, 263444, 263445, 263446, 263447, 263448, 263449, 263450, 263451, 263452, 263453, 263454, 263455, 263456, 263457, 263458, 263459, 263460, 263461, 263462, 263463, 263464, 263465, 263466, 263467, 263468, 263469, 263470, 263471, 263472, 263473, 263474, 263475, 263476, 263477, 263478, 263479, 263480, 263481, 263482, 263483, 263484, 263485, 263486, 263487, 263488, 263489, 263490, 263491, 263492, 263493, 263494, 263495, 263496, 263497, 263498, 263499, 263500, 263501, 263502, 263503, 263504, 263505, 263506, 263507, 263508, 263509, 263510, 263511, 263512, 263513, 263514, 263515, 263516, 263517, 263518, 263519, 263520, 263521, 263522, 263523, 263524, 263525, 263526, 263527, 263528, 263529, 263530, 263531, 263532, 263533, 263534, 263535, 263536, 263537, 263538, 263539, 263540, 263541, 263542, 263543, 263544, 263545, 263546, 263547, 263548, 263549, 263550, 263551, 263552, 263553, 263554, 263555, 263556, 263557, 263558, 263559, 263560, 263561, 263562, 263563, 263564, 263565, 263566, 263567, 263568, 263569, 263570, 263571, 263572, 263573, 263574, 263575, 263576, 263577, 263578, 263579, 263580, 263581, 263582, 263583, 263584, 263585, 263586, 263587, 263588, 263589, 263590, 263591, 263592, 263593, 263594, 263595, 263596, 263597, 263598, 263599, 263600, 263601, 263602, 263603, 263604, 263605, 263606, 263607, 263608, 263609, 263610, 263611, 263612, 263613, 263614, 263615, 263616, 263617, 263618, 263619, 263620, 263621, 263622, 263623, 263624, 263625, 263626, 263627, 263628, 263629, 263630, 263631, 263632, 263633, 263634, 263635, 263636, 263637, 263638, 263639, 263640, 263641, 263642, 263643, 263644, 263645, 263646, 263647, 263648, 263649, 263650, 263651, 263652, 263653, 263654, 263655, 263656, 263657, 263658, 263659, 263660, 263661, 263662, 263663, 263664, 263665, 263666, 263667, 263668, 263669, 263670, 263671, 263672, 263673, 263674, 263675, 263676, 263677, 263678, 263679, 263680, 263681, 263682, 263683, 263684, 263685, 263686, 263687, 263688, 263689, 263690, 263691, 263692, 263693, 263694, 263695, 263696, 263697, 263698, 263699, 263700, 263701, 263702, 263703, 263704, 263705, 263706, 263707, 263708, 263709, 263710, 263711, 263712, 263713, 263714, 263715, 263716, 263717, 263718, 263719, 263720, 263721, 263722, 263723, 263724, 263725, 263726, 263727, 263728, 263729, 263730, 263731, 263732, 263733, 263734, 263735, 263736, 263737, 263738, 263739, 263740, 263741, 263742, 263743, 263744, 263745, 263746, 263747, 263748, 263749, 263750, 263751, 263752, 263753, 263754, 263755, 263756, 263757, 263758, 263759, 263760, 263761, 263762, 263763, 263764, 263765, 263766, 263767, 263768, 263769, 263770, 263771, 263772, 263773, 263774, 263775, 263776, 263777, 263778, 263779, 263780, 263781, 263782, 263783, 263784, 263785, 263786, 263787, 263788, 263789, 263790, 263791, 263792, 263793, 263794, 263795, 263796, 263797, 263798, 263799, 263800, 263801, 263802, 263803, 263804, 263805, 263806, 263807, 263808, 263809, 263810, 263811, 263812, 263813, 263814, 263815, 263816, 263817, 263818, 263819, 263820, 263821, 263822, 263823, 263824, 263825, 263826, 263827, 263828, 263829, 263830, 263831, 263832, 263833, 263834, 263835, 263836, 263837, 263838, 263839, 263840, 263841, 263842, 263843, 263844, 263845, 263846, 263847, 263848, 263849, 263850, 263851, 263852, 263853, 263854, 263855, 263856, 263857, 263858, 263859, 263860, 263861, 263862, 263863, 263864, 263865, 263866, 263867, 263868, 263869, 263870, 263871, 263872, 263873, 263874, 263875, 263876, 263877, 263878, 263879, 263880, 263881, 263882, 263883, 263884, 263885, 263886, 263887, 263888, 263889, 263890, 263891, 263892, 263893, 263894, 263895, 263896, 263897, 263898, 263899, 263900, 263901, 263902, 263903, 263904, 263905, 263906, 263907, 263908, 263909, 263910, 263911, 263912, 263913, 263914, 263915, 263916, 263917, 263918, 263919, 263920, 263921, 263922, 263923, 263924, 263925, 263926, 263927, 263928, 263929, 263930, 263931, 263932, 263933, 263934, 263935, 263936, 263937, 263938, 263939, 263940, 263941, 263942, 263943, 263944, 263945, 263946, 263947, 263948, 263949, 263950, 263951, 263952, 263953, 263954, 263955, 263956, 263957, 263958, 263959, 263960, 263961, 263962, 263963, 263964, 263965, 263966, 263967, 263968, 263969, 263970, 263971, 263972, 263973, 263974, 263975, 263976, 263977, 263978, 263979, 263980, 263981, 263982, 263983, 263984, 263985, 263986, 263987, 263988, 263989, 263990, 263991, 263992, 263993, 263994, 263995, 263996, 263997, 263998, 263999, 264000, 264001, 264002, 264003, 264004, 264005, 264006, 264007, 264008, 264009, 264010, 264011, 264012, 264013, 264014, 264015, 264016, 264017, 264018, 264019, 264020, 264021, 264022, 264023, 264024, 264025, 264026, 264027, 264028, 264029, 264030, 264031, 264032, 264033, 264034, 264035, 264036, 264037, 264038, 264039, 264040, 264041, 264042, 264043, 264044, 264045, 264046, 264047, 264048, 264049, 264050, 264051, 264052, 264053, 264054, 264055, 264056, 264057, 264058, 264059, 264060, 264061, 264062, 264063, 264064, 264065, 264066, 264067, 264068, 264069, 264070, 264071, 264072, 264073, 264074, 264075, 264076, 264077, 264078, 264079, 264080, 264081, 264082, 264083, 264084, 264085, 264086, 264087, 264088, 264089, 264090, 264091, 264092, 264093, 264094, 264095, 264096, 264097, 264098, 264099, 264100, 264101, 264102, 264103, 264104, 264105, 264106, 264107, 264108, 264109, 264110, 264111, 264112, 264113, 264114, 264115, 264116, 264117, 264118, 264119, 264120, 264121, 264122, 264123, 264124, 264125, 264126, 264127, 264128, 264129, 264130, 264131, 264132, 264133, 264134, 264135, 264136, 264137, 264138, 264139, 264140, 264141, 264142, 264143, 264144, 264145, 264146, 264147, 264148, 264149, 264150, 264151, 264152, 264153, 264154, 264155, 264156, 264157, 264158, 264159, 264160, 264161, 264162, 264163, 264164, 264165, 264166, 264167, 264168, 264169, 264170, 264171, 264172, 264173, 264174, 264175, 264176, 264177, 264178, 264179, 264180, 264181, 264182, 264183, 264184, 264185, 264186, 264187, 264188, 264189, 264190, 264191, 264192, 264193, 264194, 264195, 264196, 264197, 264198, 264199, 264200, 264201, 264202, 264203, 264204, 264205, 264206, 264207, 264208, 264209, 264210, 264211, 264212, 264213, 264214, 264215, 264216, 264217, 264218, 264219, 264220, 264221, 264222, 264223, 264224, 264225, 264226, 264227, 264228, 264229, 264230, 264231, 264232, 264233, 264234, 264235, 264236, 264237, 264238, 264239, 264240, 264241, 264242, 264243, 264244, 264245, 264246, 264247, 264248, 264249, 264250, 264251, 264252, 264253, 264254, 264255, 264256, 264257, 264258, 264259, 264260, 264261, 264262, 264263, 264264, 264265, 264266, 264267, 264268, 264269, 264270, 264271, 264272, 264273, 264274, 264275, 264276, 264277, 264278, 264279, 264280, 264281, 264282, 264283, 264284, 264285, 264286, 264287, 264288, 264289, 264290, 264291, 264292, 264293, 264294, 264295, 264296, 264297, 264298, 264299, 264300, 264301, 264302, 264303, 264304, 264305, 264306, 264307, 264308, 264309, 264310, 264311, 264312, 264313, 264314, 264315, 264316, 264317, 264318, 264319, 264320, 264321, 264322, 264323, 264324, 264325, 264326, 264327, 264328, 264329, 264330, 264331, 264332, 264333, 264334, 264335, 264336, 264337, 264338, 264339, 264340, 264341, 264342, 264343, 264344, 264345, 264346, 264347, 264348, 264349, 264350, 264351, 264352, 264353, 264354, 264355, 264356, 264357, 264358, 264359, 264360, 264361, 264362, 264363, 264364, 264365, 264366, 264367, 264368, 264369, 264370, 264371, 264372, 264373, 264374, 264375, 264376, 264377, 264378, 264379, 264380, 264381, 264382, 264383, 264384, 264385, 264386, 264387, 264388, 264389, 264390, 264391, 264392, 264393, 264394, 264395, 264396, 264397, 264398, 264399, 264400, 264401, 264402, 264403, 264404, 264405, 264406, 264407, 264408, 264409, 264410, 264411, 264412, 264413, 264414, 264415, 264416, 264417, 264418, 264419, 264420, 264421, 264422, 264423, 264424, 264425, 264426, 264427, 264428, 264429, 264430, 264431, 264432, 264433, 264434, 264435, 264436, 264437, 264438, 264439, 264440, 264441, 264442, 264443, 264444, 264445, 264446, 264447, 264448, 264449, 264450, 264451, 264452, 264453, 264454, 264455, 264456, 264457, 264458, 264459, 264460, 264461, 264462, 264463, 264464, 264465, 264466, 264467, 264468, 264469, 264470, 264471, 264472, 264473, 264474, 264475, 264476, 264477, 264478, 264479, 264480, 264481, 264482, 264483, 264484, 264485, 264486, 264487, 264488, 264489, 264490, 264491, 264492, 264493, 264494, 264495, 264496, 264497, 264498, 264499, 264500, 264501, 264502, 264503, 264504, 264505, 264506, 264507, 264508, 264509, 264510, 264511, 264512, 264513, 264514, 264515, 264516, 264517, 264518, 264519, 264520, 264521, 264522, 264523, 264524, 264525, 264526, 264527, 264528, 264529, 264530, 264531, 264532, 264533, 264534, 264535, 264536, 264537, 264538, 264539, 264540, 264541, 264542, 264543, 264544, 264545, 264546, 264547, 264548, 264549, 264550, 264551, 264552, 264553, 264554, 264555, 264556, 264557, 264558, 264559, 264560, 264561, 264562, 264563, 264564, 264565, 264566, 264567, 264568, 264569, 264570, 264571, 264572, 264573, 264574, 264575, 264576, 264577, 264578, 264579, 264580, 264581, 264582, 264583, 264584, 264585, 264586, 264587, 264588, 264589, 264590, 264591, 264592, 264593, 264594, 264595, 264596, 264597, 264598, 264599, 264600, 264601, 264602, 264603, 264604, 264605, 264606, 264607, 264608, 264609, 264610, 264611, 264612, 264613, 264614, 264615, 264616, 264617, 264618, 264619, 264620, 264621, 264622, 264623, 264624, 264625, 264626, 264627, 264628, 264629, 264630, 264631, 264632, 264633, 264634, 264635, 264636, 264637, 264638, 264639, 264640, 264641, 264642, 264643, 264644, 264645, 264646, 264647, 264648, 264649, 264650, 264651, 264652, 264653, 264654, 264655, 264656, 264657, 264658, 264659, 264660, 264661, 264662, 264663, 264664, 264665, 264666, 264667, 264668, 264669, 264670, 264671, 264672, 264673, 264674, 264675, 264676, 264677, 264678, 264679, 264680, 264681, 264682, 264683, 264684, 264685, 264686, 264687, 264688, 264689, 264690, 264691, 264692, 264693, 264694, 264695, 264696, 264697, 264698, 264699, 264700, 264701, 264702, 264703, 264704, 264705, 264706, 264707, 264708, 264709, 264710, 264711, 264712, 264713, 264714, 264715, 264716, 264717, 264718, 264719, 264720, 264721, 264722, 264723, 264724, 264725, 264726, 264727, 264728, 264729, 264730, 264731, 264732, 264733, 264734, 264735, 264736, 264737, 264738, 264739, 264740, 264741, 264742, 264743, 264744, 264745, 264746, 264747, 264748, 264749, 264750, 264751, 264752, 264753, 264754, 264755, 264756, 264757, 264758, 264759, 264760, 264761, 264762, 264763, 264764, 264765, 264766, 264767, 264768, 264769, 264770, 264771, 264772, 264773, 264774, 264775, 264776, 264777, 264778, 264779, 264780, 264781, 264782, 264783, 264784, 264785, 264786, 264787, 264788, 264789, 264790, 264791, 264792, 264793, 264794, 264795, 264796, 264797, 264798, 264799, 264800, 264801, 264802, 264803, 264804, 264805, 264806, 264807, 264808, 264809, 264810, 264811, 264812, 264813, 264814, 264815, 264816, 264817, 264818, 264819, 264820, 264821, 264822, 264823, 264824, 264825, 264826, 264827, 264828, 264829, 264830, 264831, 264832, 264833, 264834, 264835, 264836, 264837, 264838, 264839, 264840, 264841, 264842, 264843, 264844, 264845, 264846, 264847, 264848, 264849, 264850, 264851, 264852, 264853, 264854, 264855, 264856, 264857, 264858, 264859, 264860, 264861, 264862, 264863, 264864, 264865, 264866, 264867, 264868, 264869, 264870, 264871, 264872, 264873, 264874, 264875, 264876, 264877, 264878, 264879, 264880, 264881, 264882, 264883, 264884, 264885, 264886, 264887, 264888, 264889, 264890, 264891, 264892, 264893, 264894, 264895, 264896, 264897, 264898, 264899, 264900, 264901, 264902, 264903, 264904, 264905, 264906, 264907, 264908, 264909, 264910, 264911, 264912, 264913, 264914, 264915, 264916, 264917, 264918, 264919, 264920, 264921, 264922, 264923, 264924, 264925, 264926, 264927, 264928, 264929, 264930, 264931, 264932, 264933, 264934, 264935, 264936, 264937, 264938, 264939, 264940, 264941, 264942, 264943, 264944, 264945, 264946, 264947, 264948, 264949, 264950, 264951, 264952, 264953, 264954, 264955, 264956, 264957, 264958, 264959], [265024, 265025, 265026, 265027, 265028, 265029]]\n"
     ]
    }
   ],
   "source": [
    "# 연속된 구간별로 분리\n",
    "\n",
    "i = 0\n",
    "temp = []\n",
    "total = []\n",
    "\n",
    "while i>=0:\n",
    "  try:\n",
    "    if index_sarima[i+2]==index_sarima[i+1]+1==index_sarima[i]+2:\n",
    "      temp.append(index_sarima[i])\n",
    "      i += 1\n",
    "    elif index_sarima[i+2]!=index_sarima[i+1]+1==index_sarima[i]+2:\n",
    "      temp.extend([index_sarima[i], index_sarima[i+1]])\n",
    "      #print(temp)\n",
    "      total.append(temp)\n",
    "      temp = []\n",
    "      i += 2\n",
    "  except:\n",
    "    break\n",
    "\n",
    "# 예외 처리\n",
    "temp = index_sarima[-6:]\n",
    "#print(temp)\n",
    "total.append(temp)\n",
    "print(total)"
   ]
  },
  {
   "cell_type": "code",
   "execution_count": 304,
   "id": "ac0a123f",
   "metadata": {
    "colab": {
     "base_uri": "https://localhost:8080/"
    },
    "executionInfo": {
     "elapsed": 292,
     "status": "ok",
     "timestamp": 1660743862962,
     "user": {
      "displayName": "이예림(상경대학 응용통계학과)",
      "userId": "02944141114007762965"
     },
     "user_tz": -540
    },
    "id": "r6E66IVMXyg3",
    "outputId": "d28cd1a6-573d-4b29-8979-8c2d879095e2"
   },
   "outputs": [
    {
     "data": {
      "text/plain": [
       "True"
      ]
     },
     "execution_count": 304,
     "metadata": {},
     "output_type": "execute_result"
    }
   ],
   "source": [
    "sum(total, []) == index_sarima   # 분리가 잘 이루어졌는지 확인"
   ]
  },
  {
   "cell_type": "code",
   "execution_count": 305,
   "id": "5bddc800",
   "metadata": {
    "colab": {
     "base_uri": "https://localhost:8080/"
    },
    "executionInfo": {
     "elapsed": 6204453,
     "status": "ok",
     "timestamp": 1660750114017,
     "user": {
      "displayName": "이예림(상경대학 응용통계학과)",
      "userId": "02944141114007762965"
     },
     "user_tz": -540
    },
    "id": "_HQ9SccJYZif",
    "outputId": "075320ea-d158-4e10-9cdc-e83f87732872",
    "scrolled": true
   },
   "outputs": [],
   "source": [
    "# 1일, 즉 직전 144 row를 반영하여 결측치 처리\n",
    "\n",
    "for range in total[:-2]:\n",
    "  start = range[0]\n",
    "  model = pm.auto_arima(gangwha[start-60:start], seasonal=True)\n",
    "  gangwha.iloc[range, 0] = model.predict(len(range))\n",
    "  #print(f'{total.index(range)+1}번째 구간 결측치 처리 완료')"
   ]
  },
  {
   "cell_type": "code",
   "execution_count": 306,
   "id": "0f9c91f5",
   "metadata": {},
   "outputs": [],
   "source": [
    "for range in [total[-2]]:\n",
    "  start = range[0]\n",
    "  model = pm.auto_arima(gangwha[start-4032:start], seasonal=True)\n",
    "  gangwha.iloc[range, 0] = model.predict(len(range))"
   ]
  },
  {
   "cell_type": "code",
   "execution_count": 307,
   "id": "4a1176ad",
   "metadata": {},
   "outputs": [],
   "source": [
    "for range in [total[-1]]:\n",
    "  start = range[0]\n",
    "  model = pm.auto_arima(gangwha[start-60:start], seasonal=True)\n",
    "  gangwha.iloc[range, 0] = model.predict(len(range))"
   ]
  },
  {
   "cell_type": "code",
   "execution_count": 308,
   "id": "d69e36d9",
   "metadata": {
    "colab": {
     "base_uri": "https://localhost:8080/"
    },
    "executionInfo": {
     "elapsed": 84,
     "status": "ok",
     "timestamp": 1660750114020,
     "user": {
      "displayName": "이예림(상경대학 응용통계학과)",
      "userId": "02944141114007762965"
     },
     "user_tz": -540
    },
    "id": "fLkpB1I5bSZu",
    "outputId": "39baa2da-b52e-485c-9c47-103c9755c247"
   },
   "outputs": [
    {
     "data": {
      "text/plain": [
       "강화대교_조위    0\n",
       "dtype: int64"
      ]
     },
     "execution_count": 308,
     "metadata": {},
     "output_type": "execute_result"
    }
   ],
   "source": [
    "# 결측치가 모두 처리되었는지 확인\n",
    "\n",
    "gangwha.isnull().sum()"
   ]
  },
  {
   "cell_type": "code",
   "execution_count": 309,
   "id": "b4df03bc",
   "metadata": {
    "colab": {
     "base_uri": "https://localhost:8080/",
     "height": 265
    },
    "executionInfo": {
     "elapsed": 964,
     "status": "ok",
     "timestamp": 1660750930556,
     "user": {
      "displayName": "이예림(상경대학 응용통계학과)",
      "userId": "02944141114007762965"
     },
     "user_tz": -540
    },
    "id": "LrPrN4VIbX4u",
    "outputId": "b288020c-e222-4519-ec78-8461c318fde4",
    "scrolled": false
   },
   "outputs": [
    {
     "data": {
      "image/png": "[encoded data removed]",
      "text/plain": [
       "<Figure size 432x288 with 1 Axes>"
      ]
     },
     "metadata": {
      "needs_background": "light"
     },
     "output_type": "display_data"
    }
   ],
   "source": [
    "# 결측치 처리 형태 확인 (일곱 번째 구간)\n",
    "\n",
    "plt.plot(total[-2], gangwha.iloc[total[-2], 0])\n",
    "plt.show()"
   ]
  },
  {
   "cell_type": "code",
   "execution_count": 310,
   "id": "0950cbcf",
   "metadata": {},
   "outputs": [
    {
     "data": {
      "text/plain": [
       "[<matplotlib.lines.Line2D at 0x1e41c438580>]"
      ]
     },
     "execution_count": 310,
     "metadata": {},
     "output_type": "execute_result"
    },
    {
     "data": {
      "image/png": "[encoded data removed]",
      "text/plain": [
       "<Figure size 432x288 with 1 Axes>"
      ]
     },
     "metadata": {
      "needs_background": "light"
     },
     "output_type": "display_data"
    }
   ],
   "source": [
    "plt.plot(gangwha[262000:265500])"
   ]
  },
  {
   "cell_type": "code",
   "execution_count": null,
   "id": "f44413ec",
   "metadata": {},
   "outputs": [],
   "source": []
  },
  {
   "cell_type": "markdown",
   "id": "6c099749",
   "metadata": {
    "id": "mK0eaXyuTuhT"
   },
   "source": [
    "# 청담대교 유량 결측치 처리"
   ]
  },
  {
   "cell_type": "code",
   "execution_count": 311,
   "id": "bfca9c58",
   "metadata": {
    "colab": {
     "base_uri": "https://localhost:8080/",
     "height": 424
    },
    "executionInfo": {
     "elapsed": 432,
     "status": "ok",
     "timestamp": 1660743839242,
     "user": {
      "displayName": "이예림(상경대학 응용통계학과)",
      "userId": "02944141114007762965"
     },
     "user_tz": -540
    },
    "id": "Mdz_YyjTTcH1",
    "outputId": "5c77d4d1-09af-467a-ad8f-cd70df07dbb2"
   },
   "outputs": [],
   "source": [
    "chungdam = data[['날짜', '청담대교_유량']]"
   ]
  },
  {
   "cell_type": "code",
   "execution_count": 312,
   "id": "91d2ffe4",
   "metadata": {
    "colab": {
     "base_uri": "https://localhost:8080/",
     "height": 532
    },
    "executionInfo": {
     "elapsed": 438,
     "status": "ok",
     "timestamp": 1660743839252,
     "user": {
      "displayName": "이예림(상경대학 응용통계학과)",
      "userId": "02944141114007762965"
     },
     "user_tz": -540
    },
    "id": "NOkjGH6yVaXY",
    "outputId": "682e1c1e-adc1-4115-c609-21eb3561ea88"
   },
   "outputs": [
    {
     "name": "stderr",
     "output_type": "stream",
     "text": [
      "C:\\Users\\sjkan\\AppData\\Local\\Temp\\ipykernel_11972\\1174405392.py:1: SettingWithCopyWarning: \n",
      "A value is trying to be set on a copy of a slice from a DataFrame.\n",
      "Try using .loc[row_indexer,col_indexer] = value instead\n",
      "\n",
      "See the caveats in the documentation: https://pandas.pydata.org/pandas-docs/stable/user_guide/indexing.html#returning-a-view-versus-a-copy\n",
      "  chungdam.날짜 = pd.to_datetime(chungdam.날짜)\n"
     ]
    },
    {
     "data": {
      "text/html": [
       "<div>\n",
       "<style scoped>\n",
       "    .dataframe tbody tr th:only-of-type {\n",
       "        vertical-align: middle;\n",
       "    }\n",
       "\n",
       "    .dataframe tbody tr th {\n",
       "        vertical-align: top;\n",
       "    }\n",
       "\n",
       "    .dataframe thead th {\n",
       "        text-align: right;\n",
       "    }\n",
       "</style>\n",
       "<table border=\"1\" class=\"dataframe\">\n",
       "  <thead>\n",
       "    <tr style=\"text-align: right;\">\n",
       "      <th></th>\n",
       "      <th>날짜</th>\n",
       "      <th>청담대교_유량</th>\n",
       "    </tr>\n",
       "  </thead>\n",
       "  <tbody>\n",
       "    <tr>\n",
       "      <th>0</th>\n",
       "      <td>2012-05-01 00:00:00</td>\n",
       "      <td>469.05</td>\n",
       "    </tr>\n",
       "    <tr>\n",
       "      <th>1</th>\n",
       "      <td>2012-05-01 00:10:00</td>\n",
       "      <td>498.00</td>\n",
       "    </tr>\n",
       "    <tr>\n",
       "      <th>2</th>\n",
       "      <td>2012-05-01 00:20:00</td>\n",
       "      <td>490.68</td>\n",
       "    </tr>\n",
       "    <tr>\n",
       "      <th>3</th>\n",
       "      <td>2012-05-01 00:30:00</td>\n",
       "      <td>476.21</td>\n",
       "    </tr>\n",
       "    <tr>\n",
       "      <th>4</th>\n",
       "      <td>2012-05-01 00:40:00</td>\n",
       "      <td>476.21</td>\n",
       "    </tr>\n",
       "    <tr>\n",
       "      <th>...</th>\n",
       "      <td>...</td>\n",
       "      <td>...</td>\n",
       "    </tr>\n",
       "    <tr>\n",
       "      <th>276331</th>\n",
       "      <td>2022-07-18 23:10:00</td>\n",
       "      <td>319.84</td>\n",
       "    </tr>\n",
       "    <tr>\n",
       "      <th>276332</th>\n",
       "      <td>2022-07-18 23:20:00</td>\n",
       "      <td>314.01</td>\n",
       "    </tr>\n",
       "    <tr>\n",
       "      <th>276333</th>\n",
       "      <td>2022-07-18 23:30:00</td>\n",
       "      <td>387.55</td>\n",
       "    </tr>\n",
       "    <tr>\n",
       "      <th>276334</th>\n",
       "      <td>2022-07-18 23:40:00</td>\n",
       "      <td>454.91</td>\n",
       "    </tr>\n",
       "    <tr>\n",
       "      <th>276335</th>\n",
       "      <td>2022-07-18 23:50:00</td>\n",
       "      <td>582.21</td>\n",
       "    </tr>\n",
       "  </tbody>\n",
       "</table>\n",
       "<p>276336 rows × 2 columns</p>\n",
       "</div>"
      ],
      "text/plain": [
       "                        날짜  청담대교_유량\n",
       "0      2012-05-01 00:00:00   469.05\n",
       "1      2012-05-01 00:10:00   498.00\n",
       "2      2012-05-01 00:20:00   490.68\n",
       "3      2012-05-01 00:30:00   476.21\n",
       "4      2012-05-01 00:40:00   476.21\n",
       "...                    ...      ...\n",
       "276331 2022-07-18 23:10:00   319.84\n",
       "276332 2022-07-18 23:20:00   314.01\n",
       "276333 2022-07-18 23:30:00   387.55\n",
       "276334 2022-07-18 23:40:00   454.91\n",
       "276335 2022-07-18 23:50:00   582.21\n",
       "\n",
       "[276336 rows x 2 columns]"
      ]
     },
     "execution_count": 312,
     "metadata": {},
     "output_type": "execute_result"
    }
   ],
   "source": [
    "chungdam.날짜 = pd.to_datetime(chungdam.날짜)\n",
    "chungdam"
   ]
  },
  {
   "cell_type": "code",
   "execution_count": 313,
   "id": "a6efc3e1",
   "metadata": {
    "colab": {
     "base_uri": "https://localhost:8080/",
     "height": 424
    },
    "executionInfo": {
     "elapsed": 429,
     "status": "ok",
     "timestamp": 1660743839255,
     "user": {
      "displayName": "이예림(상경대학 응용통계학과)",
      "userId": "02944141114007762965"
     },
     "user_tz": -540
    },
    "id": "e4Q6xLdsTx3j",
    "outputId": "340420de-0607-4652-aac1-4417d179c65e"
   },
   "outputs": [
    {
     "data": {
      "text/html": [
       "<div>\n",
       "<style scoped>\n",
       "    .dataframe tbody tr th:only-of-type {\n",
       "        vertical-align: middle;\n",
       "    }\n",
       "\n",
       "    .dataframe tbody tr th {\n",
       "        vertical-align: top;\n",
       "    }\n",
       "\n",
       "    .dataframe thead th {\n",
       "        text-align: right;\n",
       "    }\n",
       "</style>\n",
       "<table border=\"1\" class=\"dataframe\">\n",
       "  <thead>\n",
       "    <tr style=\"text-align: right;\">\n",
       "      <th></th>\n",
       "      <th>날짜</th>\n",
       "      <th>청담대교_유량</th>\n",
       "    </tr>\n",
       "  </thead>\n",
       "  <tbody>\n",
       "    <tr>\n",
       "      <th>80994</th>\n",
       "      <td>2015-05-11 11:00:00</td>\n",
       "      <td>NaN</td>\n",
       "    </tr>\n",
       "    <tr>\n",
       "      <th>80995</th>\n",
       "      <td>2015-05-11 11:10:00</td>\n",
       "      <td>NaN</td>\n",
       "    </tr>\n",
       "    <tr>\n",
       "      <th>80996</th>\n",
       "      <td>2015-05-11 11:20:00</td>\n",
       "      <td>NaN</td>\n",
       "    </tr>\n",
       "    <tr>\n",
       "      <th>80997</th>\n",
       "      <td>2015-05-11 11:30:00</td>\n",
       "      <td>NaN</td>\n",
       "    </tr>\n",
       "    <tr>\n",
       "      <th>80998</th>\n",
       "      <td>2015-05-11 11:40:00</td>\n",
       "      <td>NaN</td>\n",
       "    </tr>\n",
       "    <tr>\n",
       "      <th>...</th>\n",
       "      <td>...</td>\n",
       "      <td>...</td>\n",
       "    </tr>\n",
       "    <tr>\n",
       "      <th>273775</th>\n",
       "      <td>2022-07-01 05:10:00</td>\n",
       "      <td>NaN</td>\n",
       "    </tr>\n",
       "    <tr>\n",
       "      <th>273776</th>\n",
       "      <td>2022-07-01 05:20:00</td>\n",
       "      <td>NaN</td>\n",
       "    </tr>\n",
       "    <tr>\n",
       "      <th>273777</th>\n",
       "      <td>2022-07-01 05:30:00</td>\n",
       "      <td>NaN</td>\n",
       "    </tr>\n",
       "    <tr>\n",
       "      <th>273778</th>\n",
       "      <td>2022-07-01 05:40:00</td>\n",
       "      <td>NaN</td>\n",
       "    </tr>\n",
       "    <tr>\n",
       "      <th>273779</th>\n",
       "      <td>2022-07-01 05:50:00</td>\n",
       "      <td>NaN</td>\n",
       "    </tr>\n",
       "  </tbody>\n",
       "</table>\n",
       "<p>16380 rows × 2 columns</p>\n",
       "</div>"
      ],
      "text/plain": [
       "                        날짜  청담대교_유량\n",
       "80994  2015-05-11 11:00:00      NaN\n",
       "80995  2015-05-11 11:10:00      NaN\n",
       "80996  2015-05-11 11:20:00      NaN\n",
       "80997  2015-05-11 11:30:00      NaN\n",
       "80998  2015-05-11 11:40:00      NaN\n",
       "...                    ...      ...\n",
       "273775 2022-07-01 05:10:00      NaN\n",
       "273776 2022-07-01 05:20:00      NaN\n",
       "273777 2022-07-01 05:30:00      NaN\n",
       "273778 2022-07-01 05:40:00      NaN\n",
       "273779 2022-07-01 05:50:00      NaN\n",
       "\n",
       "[16380 rows x 2 columns]"
      ]
     },
     "execution_count": 313,
     "metadata": {},
     "output_type": "execute_result"
    }
   ],
   "source": [
    "chungdam[chungdam['청담대교_유량'].isnull()]   # 16380개의 결측치 : 순서대로 채우기"
   ]
  },
  {
   "cell_type": "code",
   "execution_count": 314,
   "id": "fff09e1c",
   "metadata": {
    "colab": {
     "base_uri": "https://localhost:8080/"
    },
    "executionInfo": {
     "elapsed": 427,
     "status": "ok",
     "timestamp": 1660743839256,
     "user": {
      "displayName": "이예림(상경대학 응용통계학과)",
      "userId": "02944141114007762965"
     },
     "user_tz": -540
    },
    "id": "RrthJw76c4B6",
    "outputId": "10fb03a5-e4db-469a-ccd9-80f777cdb60e"
   },
   "outputs": [],
   "source": [
    "nan_index = list(chungdam[chungdam['청담대교_유량'].isnull()].index)"
   ]
  },
  {
   "cell_type": "code",
   "execution_count": 315,
   "id": "3ece3a0d",
   "metadata": {
    "colab": {
     "base_uri": "https://localhost:8080/"
    },
    "executionInfo": {
     "elapsed": 933,
     "status": "ok",
     "timestamp": 1660743839772,
     "user": {
      "displayName": "이예림(상경대학 응용통계학과)",
      "userId": "02944141114007762965"
     },
     "user_tz": -540
    },
    "id": "ubfxLxNcX-Nz",
    "outputId": "0680fa41-41e1-4ec1-90ef-81bd0fe72ea8"
   },
   "outputs": [
    {
     "data": {
      "text/plain": [
       "True"
      ]
     },
     "execution_count": 315,
     "metadata": {},
     "output_type": "execute_result"
    }
   ],
   "source": [
    "# Index 분리\n",
    "\n",
    "index_interpolate = []\n",
    "index_sarima = []\n",
    "\n",
    "i = 0\n",
    "while i < len(nan_index)-2:\n",
    "  if nan_index[i+2] == nan_index[i+1]+1 == nan_index[i]+2:\n",
    "    index_sarima.append(nan_index[i])\n",
    "    i += 1\n",
    "  elif nan_index[i+2] != nan_index[i+1]+1 and nan_index[i+1] == nan_index[i]+1:\n",
    "    index_sarima.extend([nan_index[i], nan_index[i+1]])\n",
    "    i += 2\n",
    "  else:\n",
    "    index_interpolate.append(nan_index[i])\n",
    "    i += 1\n",
    "\n",
    "index_sarima.extend(nan_index[-2:])\n",
    "\n",
    "# if nan_index[-3]+1 != nan_index[-2]:\n",
    "#     index_interpolate.extend(nan_index[-2:])\n",
    "# else:\n",
    "#     index_interpolate.extend(nan_index[-1:])\n",
    "\n",
    "nan_index == sorted(index_interpolate+index_sarima)"
   ]
  },
  {
   "cell_type": "markdown",
   "id": "a8d98cd7",
   "metadata": {
    "id": "55pXgjIPTEJF"
   },
   "source": [
    "## 1. 비연속적 결측값 처리 by Interpolation"
   ]
  },
  {
   "cell_type": "code",
   "execution_count": 316,
   "id": "3af7a96a",
   "metadata": {
    "colab": {
     "base_uri": "https://localhost:8080/"
    },
    "executionInfo": {
     "elapsed": 210,
     "status": "ok",
     "timestamp": 1660743839774,
     "user": {
      "displayName": "이예림(상경대학 응용통계학과)",
      "userId": "02944141114007762965"
     },
     "user_tz": -540
    },
    "id": "HhxuRyakk_qm",
    "outputId": "c6d69d1e-0682-48d3-c8f6-bcd80bbc32e5"
   },
   "outputs": [],
   "source": [
    "# Interpolation에 쓰일 인덱스 지정 (결측값 기준 앞, 뒤 + 자체)\n",
    "\n",
    "index_interpolate_ = sum([[i-1, i, i+1] for i in index_interpolate], [])"
   ]
  },
  {
   "cell_type": "code",
   "execution_count": 317,
   "id": "792918ae",
   "metadata": {
    "colab": {
     "base_uri": "https://localhost:8080/"
    },
    "executionInfo": {
     "elapsed": 184,
     "status": "ok",
     "timestamp": 1660743839775,
     "user": {
      "displayName": "이예림(상경대학 응용통계학과)",
      "userId": "02944141114007762965"
     },
     "user_tz": -540
    },
    "id": "sYfcdbzem2H2",
    "outputId": "d28d8051-90e8-4024-ba06-43b0cdb46c76"
   },
   "outputs": [
    {
     "data": {
      "text/plain": [
       "True"
      ]
     },
     "execution_count": 317,
     "metadata": {},
     "output_type": "execute_result"
    }
   ],
   "source": [
    "len(index_interpolate_) == len(set(index_interpolate)) * 3   # 겹치는 index 없는지 확인"
   ]
  },
  {
   "cell_type": "code",
   "execution_count": 318,
   "id": "8137e4bd",
   "metadata": {
    "colab": {
     "base_uri": "https://localhost:8080/",
     "height": 455
    },
    "executionInfo": {
     "elapsed": 99,
     "status": "ok",
     "timestamp": 1660743839776,
     "user": {
      "displayName": "이예림(상경대학 응용통계학과)",
      "userId": "02944141114007762965"
     },
     "user_tz": -540
    },
    "id": "pZAsVV_vbkl8",
    "outputId": "1723905b-154b-421b-ec39-30162831b99b"
   },
   "outputs": [
    {
     "data": {
      "text/html": [
       "<div>\n",
       "<style scoped>\n",
       "    .dataframe tbody tr th:only-of-type {\n",
       "        vertical-align: middle;\n",
       "    }\n",
       "\n",
       "    .dataframe tbody tr th {\n",
       "        vertical-align: top;\n",
       "    }\n",
       "\n",
       "    .dataframe thead th {\n",
       "        text-align: right;\n",
       "    }\n",
       "</style>\n",
       "<table border=\"1\" class=\"dataframe\">\n",
       "  <thead>\n",
       "    <tr style=\"text-align: right;\">\n",
       "      <th></th>\n",
       "      <th>청담대교_유량</th>\n",
       "    </tr>\n",
       "    <tr>\n",
       "      <th>날짜</th>\n",
       "      <th></th>\n",
       "    </tr>\n",
       "  </thead>\n",
       "  <tbody>\n",
       "    <tr>\n",
       "      <th>2015-05-26 07:30:00</th>\n",
       "      <td>243.29</td>\n",
       "    </tr>\n",
       "    <tr>\n",
       "      <th>2015-05-26 07:40:00</th>\n",
       "      <td>NaN</td>\n",
       "    </tr>\n",
       "    <tr>\n",
       "      <th>2015-05-26 07:50:00</th>\n",
       "      <td>243.29</td>\n",
       "    </tr>\n",
       "    <tr>\n",
       "      <th>2015-05-26 07:50:00</th>\n",
       "      <td>243.29</td>\n",
       "    </tr>\n",
       "    <tr>\n",
       "      <th>2015-05-26 08:00:00</th>\n",
       "      <td>NaN</td>\n",
       "    </tr>\n",
       "    <tr>\n",
       "      <th>...</th>\n",
       "      <td>...</td>\n",
       "    </tr>\n",
       "    <tr>\n",
       "      <th>2022-06-21 10:10:00</th>\n",
       "      <td>NaN</td>\n",
       "    </tr>\n",
       "    <tr>\n",
       "      <th>2022-06-21 10:20:00</th>\n",
       "      <td>243.29</td>\n",
       "    </tr>\n",
       "    <tr>\n",
       "      <th>2022-06-21 10:20:00</th>\n",
       "      <td>243.29</td>\n",
       "    </tr>\n",
       "    <tr>\n",
       "      <th>2022-06-21 10:30:00</th>\n",
       "      <td>NaN</td>\n",
       "    </tr>\n",
       "    <tr>\n",
       "      <th>2022-06-21 10:40:00</th>\n",
       "      <td>253.57</td>\n",
       "    </tr>\n",
       "  </tbody>\n",
       "</table>\n",
       "<p>753 rows × 1 columns</p>\n",
       "</div>"
      ],
      "text/plain": [
       "                     청담대교_유량\n",
       "날짜                          \n",
       "2015-05-26 07:30:00   243.29\n",
       "2015-05-26 07:40:00      NaN\n",
       "2015-05-26 07:50:00   243.29\n",
       "2015-05-26 07:50:00   243.29\n",
       "2015-05-26 08:00:00      NaN\n",
       "...                      ...\n",
       "2022-06-21 10:10:00      NaN\n",
       "2022-06-21 10:20:00   243.29\n",
       "2022-06-21 10:20:00   243.29\n",
       "2022-06-21 10:30:00      NaN\n",
       "2022-06-21 10:40:00   253.57\n",
       "\n",
       "[753 rows x 1 columns]"
      ]
     },
     "execution_count": 318,
     "metadata": {},
     "output_type": "execute_result"
    }
   ],
   "source": [
    "# 데이터프레임 분리\n",
    "\n",
    "chungdam_interpolate = chungdam.copy()\n",
    "chungdam_interpolate = chungdam_interpolate.set_index('날짜')\n",
    "chungdam_interpolate = chungdam_interpolate.iloc[index_interpolate_, :]\n",
    "chungdam_interpolate"
   ]
  },
  {
   "cell_type": "code",
   "execution_count": 319,
   "id": "1f6ae6d9",
   "metadata": {
    "colab": {
     "base_uri": "https://localhost:8080/",
     "height": 455
    },
    "executionInfo": {
     "elapsed": 97,
     "status": "ok",
     "timestamp": 1660743839777,
     "user": {
      "displayName": "이예림(상경대학 응용통계학과)",
      "userId": "02944141114007762965"
     },
     "user_tz": -540
    },
    "id": "Ern-vbzfne74",
    "outputId": "3b42110e-9ac7-4f06-9b92-8ea8b7a34476"
   },
   "outputs": [
    {
     "data": {
      "text/html": [
       "<div>\n",
       "<style scoped>\n",
       "    .dataframe tbody tr th:only-of-type {\n",
       "        vertical-align: middle;\n",
       "    }\n",
       "\n",
       "    .dataframe tbody tr th {\n",
       "        vertical-align: top;\n",
       "    }\n",
       "\n",
       "    .dataframe thead th {\n",
       "        text-align: right;\n",
       "    }\n",
       "</style>\n",
       "<table border=\"1\" class=\"dataframe\">\n",
       "  <thead>\n",
       "    <tr style=\"text-align: right;\">\n",
       "      <th></th>\n",
       "      <th>청담대교_유량</th>\n",
       "    </tr>\n",
       "    <tr>\n",
       "      <th>날짜</th>\n",
       "      <th></th>\n",
       "    </tr>\n",
       "  </thead>\n",
       "  <tbody>\n",
       "    <tr>\n",
       "      <th>2015-05-26 07:30:00</th>\n",
       "      <td>243.29</td>\n",
       "    </tr>\n",
       "    <tr>\n",
       "      <th>2015-05-26 07:40:00</th>\n",
       "      <td>243.29</td>\n",
       "    </tr>\n",
       "    <tr>\n",
       "      <th>2015-05-26 07:50:00</th>\n",
       "      <td>243.29</td>\n",
       "    </tr>\n",
       "    <tr>\n",
       "      <th>2015-05-26 07:50:00</th>\n",
       "      <td>243.29</td>\n",
       "    </tr>\n",
       "    <tr>\n",
       "      <th>2015-05-26 08:00:00</th>\n",
       "      <td>243.29</td>\n",
       "    </tr>\n",
       "    <tr>\n",
       "      <th>...</th>\n",
       "      <td>...</td>\n",
       "    </tr>\n",
       "    <tr>\n",
       "      <th>2022-06-21 10:10:00</th>\n",
       "      <td>243.29</td>\n",
       "    </tr>\n",
       "    <tr>\n",
       "      <th>2022-06-21 10:20:00</th>\n",
       "      <td>243.29</td>\n",
       "    </tr>\n",
       "    <tr>\n",
       "      <th>2022-06-21 10:20:00</th>\n",
       "      <td>243.29</td>\n",
       "    </tr>\n",
       "    <tr>\n",
       "      <th>2022-06-21 10:30:00</th>\n",
       "      <td>248.43</td>\n",
       "    </tr>\n",
       "    <tr>\n",
       "      <th>2022-06-21 10:40:00</th>\n",
       "      <td>253.57</td>\n",
       "    </tr>\n",
       "  </tbody>\n",
       "</table>\n",
       "<p>753 rows × 1 columns</p>\n",
       "</div>"
      ],
      "text/plain": [
       "                     청담대교_유량\n",
       "날짜                          \n",
       "2015-05-26 07:30:00   243.29\n",
       "2015-05-26 07:40:00   243.29\n",
       "2015-05-26 07:50:00   243.29\n",
       "2015-05-26 07:50:00   243.29\n",
       "2015-05-26 08:00:00   243.29\n",
       "...                      ...\n",
       "2022-06-21 10:10:00   243.29\n",
       "2022-06-21 10:20:00   243.29\n",
       "2022-06-21 10:20:00   243.29\n",
       "2022-06-21 10:30:00   248.43\n",
       "2022-06-21 10:40:00   253.57\n",
       "\n",
       "[753 rows x 1 columns]"
      ]
     },
     "execution_count": 319,
     "metadata": {},
     "output_type": "execute_result"
    }
   ],
   "source": [
    "# 보간\n",
    "\n",
    "chungdam_interpolate.interpolate(method='time', inplace=True)\n",
    "chungdam_interpolate   # 보간 결과 확인"
   ]
  },
  {
   "cell_type": "code",
   "execution_count": 320,
   "id": "554cda9b",
   "metadata": {
    "colab": {
     "base_uri": "https://localhost:8080/"
    },
    "executionInfo": {
     "elapsed": 94,
     "status": "ok",
     "timestamp": 1660743839778,
     "user": {
      "displayName": "이예림(상경대학 응용통계학과)",
      "userId": "02944141114007762965"
     },
     "user_tz": -540
    },
    "id": "eeQuJ8GYfv4m",
    "outputId": "e6306177-a229-4704-90bc-46cbd35d38fe"
   },
   "outputs": [
    {
     "data": {
      "text/plain": [
       "청담대교_유량    0\n",
       "dtype: int64"
      ]
     },
     "execution_count": 320,
     "metadata": {},
     "output_type": "execute_result"
    }
   ],
   "source": [
    "chungdam_interpolate.isnull().sum()"
   ]
  },
  {
   "cell_type": "code",
   "execution_count": 321,
   "id": "daf1d268",
   "metadata": {
    "colab": {
     "base_uri": "https://localhost:8080/"
    },
    "executionInfo": {
     "elapsed": 71,
     "status": "ok",
     "timestamp": 1660743839779,
     "user": {
      "displayName": "이예림(상경대학 응용통계학과)",
      "userId": "02944141114007762965"
     },
     "user_tz": -540
    },
    "id": "Nb9VtE6YXsLz",
    "outputId": "e2685d76-bd81-4d7f-d4ee-c4d2b1ed1b4e"
   },
   "outputs": [
    {
     "data": {
      "text/plain": [
       "청담대교_유량    True\n",
       "dtype: bool"
      ]
     },
     "execution_count": 321,
     "metadata": {},
     "output_type": "execute_result"
    }
   ],
   "source": [
    "chungdam = chungdam.set_index('날짜')\n",
    "chungdam.loc[chungdam_interpolate.index] = chungdam_interpolate\n",
    "chungdam.isnull().sum() == len(index_sarima)   # 남은 결측치 개수가 SARIMA로 채워야 할 결측치 개수(len(index_sarima))와 같은지 확인"
   ]
  },
  {
   "cell_type": "markdown",
   "id": "291156b3",
   "metadata": {
    "id": "dK89voI3c8Q0"
   },
   "source": [
    "## 2. 연속적 결측값 처리 by SARIMA"
   ]
  },
  {
   "cell_type": "code",
   "execution_count": 322,
   "id": "0e048c3e",
   "metadata": {
    "colab": {
     "base_uri": "https://localhost:8080/",
     "height": 636
    },
    "executionInfo": {
     "elapsed": 21555,
     "status": "ok",
     "timestamp": 1660743861266,
     "user": {
      "displayName": "이예림(상경대학 응용통계학과)",
      "userId": "02944141114007762965"
     },
     "user_tz": -540
    },
    "id": "-uugY5hBTMTa",
    "outputId": "931c6453-6c54-4bce-c91a-90a599ab57d7"
   },
   "outputs": [],
   "source": [
    "#!pip install pmdarima"
   ]
  },
  {
   "cell_type": "code",
   "execution_count": 323,
   "id": "e761f6af",
   "metadata": {
    "executionInfo": {
     "elapsed": 1552,
     "status": "ok",
     "timestamp": 1660743862779,
     "user": {
      "displayName": "이예림(상경대학 응용통계학과)",
      "userId": "02944141114007762965"
     },
     "user_tz": -540
    },
    "id": "BxiLQENsdZvT"
   },
   "outputs": [],
   "source": [
    "from statsmodels.tsa.statespace.sarimax import SARIMAX\n",
    "import pmdarima as pm"
   ]
  },
  {
   "cell_type": "code",
   "execution_count": 324,
   "id": "59bab444",
   "metadata": {
    "colab": {
     "base_uri": "https://localhost:8080/"
    },
    "executionInfo": {
     "elapsed": 202,
     "status": "ok",
     "timestamp": 1660743862783,
     "user": {
      "displayName": "이예림(상경대학 응용통계학과)",
      "userId": "02944141114007762965"
     },
     "user_tz": -540
    },
    "id": "zSu62iX5Ta7f",
    "outputId": "ae70a0f4-a900-4c77-d110-f8018942180f"
   },
   "outputs": [
    {
     "data": {
      "text/plain": [
       "80994"
      ]
     },
     "execution_count": 324,
     "metadata": {},
     "output_type": "execute_result"
    }
   ],
   "source": [
    "index_sarima[0]"
   ]
  },
  {
   "cell_type": "code",
   "execution_count": 325,
   "id": "7b74f6aa",
   "metadata": {
    "colab": {
     "base_uri": "https://localhost:8080/"
    },
    "executionInfo": {
     "elapsed": 283,
     "status": "ok",
     "timestamp": 1660743862881,
     "user": {
      "displayName": "이예림(상경대학 응용통계학과)",
      "userId": "02944141114007762965"
     },
     "user_tz": -540
    },
    "id": "8bN42uONUfY9",
    "outputId": "9ba9b11d-90d1-4d51-dbff-057d740b6556"
   },
   "outputs": [
    {
     "name": "stdout",
     "output_type": "stream",
     "text": [
      "[[80994, 80995, 80996, 80997, 80998, 80999, 81000, 81001, 81002, 81003, 81004, 81005, 81006, 81007], [83021, 83022], [83138, 83139], [83141, 83142, 83143, 83144], [83146, 83147, 83148], [83151, 83152, 83153, 83154], [83156, 83157, 83158, 83159, 83160, 83161, 83162, 83163, 83164, 83165, 83166, 83167, 83168, 83169, 83170, 83171, 83172, 83173, 83174, 83175], [83228, 83229, 83230, 83231], [83237, 83238, 83239, 83240], [83248, 83249, 83250, 83251, 83252, 83253, 83254, 83255], [83259, 83260, 83261, 83262, 83263, 83264, 83265, 83266, 83267, 83268, 83269, 83270, 83271, 83272, 83273, 83274, 83275, 83276, 83277, 83278, 83279, 83280, 83281, 83282, 83283, 83284, 83285, 83286, 83287, 83288, 83289, 83290, 83291, 83292, 83293, 83294, 83295, 83296, 83297, 83298, 83299, 83300, 83301, 83302, 83303, 83304, 83305, 83306, 83307, 83308, 83309], [83311, 83312, 83313, 83314, 83315, 83316, 83317, 83318, 83319, 83320, 83321, 83322, 83323, 83324, 83325, 83326, 83327, 83328, 83329, 83330, 83331, 83332, 83333, 83334, 83335, 83336, 83337, 83338, 83339, 83340, 83341, 83342, 83343, 83344, 83345, 83346, 83347, 83348, 83349, 83350, 83351, 83352, 83353, 83354, 83355, 83356, 83357, 83358, 83359, 83360, 83361, 83362, 83363, 83364, 83365, 83366, 83367, 83368, 83369, 83370, 83371, 83372, 83373, 83374, 83375, 83376, 83377, 83378, 83379, 83380, 83381, 83382, 83383, 83384, 83385, 83386, 83387, 83388, 83389, 83390, 83391, 83392, 83393, 83394, 83395, 83396, 83397, 83398, 83399, 83400, 83401, 83402, 83403, 83404, 83405, 83406, 83407, 83408, 83409, 83410, 83411, 83412, 83413, 83414, 83415, 83416, 83417, 83418, 83419, 83420, 83421, 83422, 83423, 83424, 83425, 83426, 83427, 83428, 83429, 83430, 83431, 83432, 83433, 83434, 83435, 83436, 83437, 83438, 83439, 83440, 83441, 83442, 83443, 83444, 83445, 83446, 83447, 83448, 83449, 83450, 83451, 83452, 83453, 83454, 83455, 83456, 83457, 83458, 83459, 83460, 83461, 83462, 83463, 83464, 83465, 83466, 83467, 83468, 83469, 83470, 83471, 83472, 83473, 83474, 83475, 83476, 83477, 83478, 83479, 83480, 83481], [83483, 83484, 83485, 83486, 83487, 83488, 83489, 83490, 83491, 83492, 83493, 83494, 83495, 83496, 83497, 83498, 83499, 83500, 83501, 83502, 83503, 83504, 83505, 83506, 83507, 83508, 83509, 83510, 83511, 83512, 83513, 83514, 83515, 83516, 83517, 83518, 83519, 83520, 83521, 83522, 83523, 83524, 83525, 83526, 83527, 83528, 83529, 83530, 83531, 83532, 83533, 83534, 83535, 83536, 83537, 83538, 83539, 83540, 83541, 83542, 83543, 83544, 83545, 83546, 83547, 83548, 83549, 83550, 83551, 83552, 83553, 83554, 83555, 83556, 83557, 83558, 83559, 83560, 83561, 83562, 83563, 83564, 83565, 83566, 83567, 83568, 83569, 83570, 83571, 83572, 83573, 83574, 83575, 83576, 83577, 83578, 83579, 83580, 83581, 83582, 83583, 83584, 83585, 83586, 83587, 83588, 83589, 83590, 83591, 83592, 83593, 83594, 83595, 83596, 83597, 83598, 83599, 83600, 83601, 83602, 83603, 83604, 83605, 83606, 83607, 83608, 83609, 83610, 83611, 83612, 83613, 83614, 83615, 83616, 83617, 83618, 83619, 83620, 83621, 83622, 83623, 83624, 83625, 83626, 83627, 83628, 83629, 83630], [83636, 83637, 83638, 83639, 83640, 83641, 83642, 83643, 83644, 83645, 83646, 83647, 83648, 83649, 83650, 83651, 83652, 83653, 83654, 83655, 83656, 83657, 83658, 83659, 83660, 83661, 83662, 83663, 83664, 83665, 83666, 83667, 83668, 83669, 83670, 83671, 83672, 83673, 83674, 83675, 83676, 83677, 83678, 83679, 83680, 83681, 83682, 83683, 83684, 83685, 83686, 83687, 83688, 83689, 83690, 83691, 83692, 83693, 83694, 83695, 83696, 83697, 83698, 83699, 83700, 83701, 83702], [83715, 83716, 83717, 83718], [83732, 83733, 83734, 83735], [83747, 83748, 83749, 83750, 83751, 83752], [83762, 83763, 83764, 83765, 83766, 83767, 83768, 83769, 83770, 83771], [83847, 83848], [85454, 85455, 85456, 85457, 85458, 85459], [85467, 85468, 85469, 85470, 85471, 85472, 85473, 85474, 85475, 85476, 85477], [85481, 85482, 85483], [85693, 85694, 85695, 85696], [85709, 85710, 85711], [87038, 87039, 87040, 87041, 87042, 87043], [87169, 87170], [87181, 87182, 87183, 87184, 87185, 87186, 87187, 87188, 87189, 87190, 87191, 87192, 87193], [87282, 87283, 87284, 87285, 87286, 87287], [87298, 87299, 87300, 87301, 87302, 87303, 87304, 87305, 87306, 87307, 87308, 87309, 87310, 87311, 87312, 87313, 87314, 87315, 87316, 87317, 87318, 87319, 87320, 87321, 87322, 87323, 87324, 87325, 87326, 87327, 87328, 87329, 87330, 87331, 87332, 87333, 87334, 87335, 87336, 87337, 87338, 87339, 87340, 87341, 87342, 87343, 87344, 87345], [87357, 87358, 87359, 87360, 87361], [87373, 87374, 87375, 87376, 87377, 87378, 87379, 87380], [87382, 87383, 87384, 87385, 87386, 87387, 87388, 87389, 87390, 87391, 87392, 87393, 87394, 87395, 87396, 87397, 87398, 87399, 87400, 87401, 87402, 87403, 87404, 87405, 87406, 87407, 87408, 87409, 87410, 87411, 87412, 87413, 87414, 87415, 87416, 87417, 87418, 87419, 87420, 87421, 87422, 87423, 87424, 87425, 87426, 87427, 87428, 87429, 87430, 87431, 87432, 87433, 87434, 87435, 87436, 87437, 87438, 87439, 87440, 87441, 87442, 87443, 87444, 87445, 87446, 87447, 87448, 87449, 87450, 87451, 87452, 87453, 87454, 87455, 87456, 87457, 87458, 87459, 87460, 87461, 87462, 87463, 87464, 87465, 87466, 87467, 87468, 87469, 87470, 87471, 87472, 87473, 87474, 87475, 87476, 87477, 87478, 87479, 87480, 87481, 87482, 87483, 87484, 87485, 87486, 87487, 87488, 87489, 87490, 87491, 87492, 87493, 87494, 87495, 87496, 87497], [87503, 87504, 87505, 87506, 87507, 87508, 87509, 87510, 87511, 87512, 87513, 87514, 87515, 87516, 87517, 87518, 87519, 87520, 87521, 87522, 87523, 87524, 87525, 87526, 87527, 87528, 87529, 87530, 87531, 87532, 87533, 87534, 87535, 87536, 87537, 87538, 87539, 87540, 87541, 87542, 87543, 87544, 87545, 87546, 87547, 87548, 87549, 87550, 87551, 87552, 87553, 87554, 87555, 87556, 87557, 87558, 87559, 87560, 87561, 87562, 87563, 87564, 87565, 87566, 87567, 87568, 87569, 87570, 87571, 87572, 87573, 87574, 87575, 87576, 87577, 87578, 87579, 87580, 87581, 87582, 87583, 87584, 87585, 87586, 87587, 87588, 87589, 87590, 87591, 87592, 87593, 87594, 87595, 87596, 87597, 87598, 87599, 87600, 87601, 87602, 87603, 87604, 87605, 87606, 87607, 87608, 87609, 87610, 87611, 87612, 87613], [87615, 87616, 87617, 87618], [87635, 87636], [87639, 87640, 87641, 87642], [87652, 87653, 87654], [87667, 87668, 87669, 87670, 87671, 87672, 87673, 87674, 87675, 87676, 87677, 87678, 87679, 87680, 87681, 87682, 87683, 87684, 87685, 87686, 87687, 87688, 87689, 87690, 87691, 87692, 87693, 87694, 87695, 87696, 87697, 87698, 87699, 87700, 87701, 87702, 87703, 87704, 87705, 87706, 87707, 87708, 87709, 87710, 87711, 87712, 87713, 87714, 87715, 87716, 87717, 87718, 87719, 87720, 87721, 87722, 87723, 87724, 87725, 87726, 87727, 87728, 87729, 87730, 87731, 87732, 87733, 87734, 87735, 87736, 87737, 87738, 87739, 87740, 87741, 87742, 87743, 87744, 87745, 87746, 87747, 87748, 87749, 87750, 87751, 87752, 87753, 87754, 87755, 87756, 87757, 87758, 87759, 87760, 87761, 87762, 87763, 87764, 87765, 87766, 87767, 87768, 87769, 87770, 87771, 87772, 87773, 87774, 87775, 87776, 87777, 87778, 87779, 87780, 87781, 87782, 87783, 87784, 87785, 87786, 87787, 87788, 87789, 87790, 87791, 87792, 87793, 87794, 87795, 87796, 87797, 87798, 87799, 87800, 87801, 87802, 87803, 87804, 87805, 87806, 87807, 87808, 87809, 87810, 87811, 87812, 87813, 87814, 87815, 87816, 87817, 87818, 87819, 87820, 87821, 87822, 87823, 87824, 87825, 87826, 87827, 87828, 87829, 87830, 87831, 87832, 87833, 87834, 87835, 87836, 87837, 87838, 87839, 87840, 87841, 87842, 87843, 87844, 87845, 87846, 87847, 87848, 87849, 87850, 87851, 87852, 87853, 87854, 87855, 87856, 87857, 87858, 87859, 87860, 87861, 87862, 87863, 87864, 87865, 87866, 87867, 87868, 87869, 87870, 87871, 87872, 87873], [87884, 87885, 87886, 87887, 87888, 87889, 87890, 87891], [87900, 87901, 87902, 87903, 87904, 87905, 87906, 87907, 87908], [87912, 87913, 87914, 87915, 87916, 87917, 87918, 87919, 87920, 87921, 87922, 87923, 87924, 87925, 87926, 87927, 87928, 87929, 87930, 87931, 87932, 87933, 87934, 87935, 87936, 87937, 87938, 87939, 87940, 87941, 87942, 87943, 87944, 87945, 87946, 87947, 87948], [87956, 87957, 87958, 87959, 87960, 87961, 87962, 87963, 87964, 87965, 87966, 87967, 87968, 87969, 87970, 87971, 87972, 87973, 87974, 87975, 87976, 87977, 87978, 87979, 87980, 87981, 87982, 87983, 87984, 87985, 87986, 87987, 87988, 87989, 87990, 87991, 87992, 87993, 87994, 87995, 87996, 87997, 87998, 87999, 88000, 88001, 88002, 88003, 88004, 88005, 88006, 88007, 88008, 88009, 88010, 88011, 88012, 88013, 88014, 88015, 88016, 88017, 88018, 88019, 88020, 88021], [88090, 88091, 88092, 88093, 88094, 88095, 88096, 88097], [88108, 88109, 88110, 88111, 88112, 88113], [88123, 88124, 88125, 88126, 88127, 88128, 88129, 88130, 88131, 88132], [88139, 88140, 88141, 88142, 88143, 88144, 88145, 88146, 88147, 88148, 88149, 88150, 88151, 88152, 88153, 88154, 88155, 88156, 88157, 88158, 88159, 88160, 88161, 88162, 88163, 88164, 88165, 88166, 88167, 88168, 88169], [88308, 88309, 88310], [89492, 89493, 89494, 89495, 89496, 89497, 89498, 89499, 89500, 89501, 89502, 89503, 89504, 89505], [89580, 89581, 89582, 89583], [89631, 89632, 89633], [89647, 89648, 89649, 89650, 89651, 89652], [89720, 89721, 89722, 89723, 89724, 89725, 89726, 89727, 89728, 89729, 89730, 89731, 89732, 89733, 89734, 89735], [89800, 89801, 89802, 89803], [95997, 95998, 95999, 96000, 96001, 96002, 96003, 96004, 96005, 96006, 96007, 96008, 96009, 96010, 96011, 96012, 96013, 96014, 96015, 96016, 96017, 96018, 96019, 96020, 96021, 96022, 96023, 96024, 96025, 96026, 96027, 96028, 96029, 96030, 96031, 96032, 96033, 96034, 96035, 96036, 96037, 96038, 96039, 96040, 96041, 96042, 96043, 96044, 96045, 96046, 96047, 96048, 96049, 96050, 96051, 96052, 96053, 96054, 96055, 96056, 96057, 96058, 96059, 96060, 96061, 96062], [96072, 96073, 96074, 96075, 96076, 96077, 96078, 96079], [96086, 96087, 96088, 96089, 96090, 96091, 96092, 96093, 96094, 96095, 96096, 96097, 96098, 96099, 96100, 96101, 96102, 96103, 96104, 96105, 96106, 96107, 96108, 96109, 96110, 96111, 96112, 96113, 96114, 96115, 96116, 96117, 96118, 96119, 96120, 96121, 96122, 96123, 96124, 96125, 96126, 96127, 96128, 96129, 96130, 96131, 96132, 96133, 96134, 96135, 96136, 96137, 96138, 96139, 96140, 96141, 96142, 96143, 96144, 96145, 96146, 96147, 96148, 96149, 96150, 96151, 96152, 96153, 96154, 96155, 96156, 96157, 96158, 96159, 96160, 96161, 96162, 96163, 96164, 96165, 96166, 96167, 96168, 96169, 96170, 96171, 96172, 96173, 96174, 96175, 96176, 96177, 96178, 96179, 96180, 96181, 96182, 96183, 96184, 96185, 96186, 96187, 96188, 96189, 96190, 96191, 96192, 96193, 96194, 96195, 96196, 96197, 96198, 96199, 96200, 96201, 96202, 96203, 96204, 96205, 96206, 96207, 96208, 96209, 96210, 96211, 96212, 96213, 96214, 96215, 96216, 96217, 96218, 96219, 96220, 96221, 96222, 96223, 96224, 96225, 96226, 96227, 96228, 96229, 96230, 96231, 96232, 96233, 96234, 96235, 96236, 96237, 96238, 96239, 96240, 96241, 96242, 96243, 96244, 96245, 96246, 96247, 96248, 96249, 96250, 96251, 96252, 96253, 96254, 96255, 96256, 96257, 96258, 96259, 96260, 96261, 96262, 96263, 96264, 96265, 96266, 96267, 96268, 96269, 96270, 96271, 96272, 96273, 96274, 96275, 96276, 96277, 96278, 96279, 96280, 96281, 96282, 96283, 96284, 96285, 96286, 96287, 96288, 96289, 96290, 96291, 96292, 96293, 96294, 96295, 96296, 96297, 96298, 96299, 96300, 96301, 96302, 96303, 96304, 96305, 96306, 96307, 96308, 96309, 96310, 96311, 96312, 96313, 96314, 96315, 96316, 96317, 96318, 96319, 96320, 96321, 96322, 96323, 96324, 96325, 96326, 96327, 96328, 96329, 96330, 96331, 96332, 96333, 96334, 96335, 96336, 96337, 96338, 96339, 96340, 96341, 96342, 96343, 96344, 96345, 96346, 96347, 96348, 96349, 96350, 96351, 96352, 96353, 96354, 96355, 96356, 96357, 96358, 96359, 96360, 96361, 96362, 96363, 96364, 96365, 96366, 96367, 96368, 96369], [96380, 96381, 96382, 96383, 96384], [96396, 96397, 96398, 96399, 96400, 96401, 96402, 96403], [96411, 96412, 96413, 96414, 96415, 96416, 96417, 96418, 96419, 96420, 96421, 96422, 96423], [96425, 96426, 96427, 96428, 96429, 96430, 96431, 96432, 96433, 96434, 96435, 96436, 96437, 96438, 96439, 96440, 96441, 96442, 96443, 96444, 96445, 96446, 96447, 96448, 96449, 96450, 96451, 96452, 96453, 96454, 96455, 96456, 96457, 96458, 96459, 96460, 96461, 96462, 96463, 96464, 96465, 96466, 96467, 96468, 96469, 96470, 96471, 96472, 96473, 96474, 96475, 96476, 96477, 96478, 96479, 96480, 96481, 96482, 96483, 96484, 96485, 96486, 96487, 96488, 96489, 96490, 96491, 96492, 96493, 96494, 96495, 96496, 96497, 96498, 96499, 96500, 96501, 96502, 96503, 96504, 96505, 96506, 96507, 96508, 96509, 96510, 96511, 96512, 96513, 96514], [96651, 96652, 96653, 96654, 96655, 96656, 96657, 96658, 96659, 96660, 96661], [98029, 98030, 98031, 98032, 98033, 98034, 98035, 98036, 98037, 98038, 98039, 98040, 98041, 98042, 98043, 98044, 98045, 98046, 98047, 98048, 98049, 98050, 98051, 98052, 98053, 98054, 98055, 98056, 98057, 98058, 98059, 98060, 98061, 98062, 98063, 98064, 98065, 98066, 98067, 98068, 98069, 98070, 98071, 98072, 98073, 98074, 98075, 98076, 98077, 98078, 98079], [98092, 98093, 98094, 98095, 98096], [98107, 98108, 98109, 98110, 98111, 98112, 98113, 98114, 98115], [98117, 98118, 98119, 98120, 98121, 98122, 98123, 98124, 98125, 98126, 98127, 98128, 98129, 98130, 98131, 98132, 98133, 98134, 98135, 98136, 98137, 98138, 98139, 98140, 98141, 98142, 98143, 98144, 98145, 98146, 98147, 98148, 98149, 98150, 98151, 98152, 98153, 98154, 98155, 98156, 98157, 98158, 98159, 98160, 98161, 98162, 98163, 98164, 98165, 98166, 98167, 98168, 98169, 98170, 98171, 98172, 98173, 98174, 98175, 98176, 98177, 98178, 98179, 98180, 98181, 98182, 98183, 98184, 98185, 98186, 98187, 98188, 98189, 98190, 98191, 98192, 98193, 98194, 98195, 98196, 98197, 98198, 98199, 98200, 98201, 98202, 98203, 98204, 98205, 98206, 98207, 98208, 98209, 98210, 98211, 98212, 98213, 98214, 98215, 98216, 98217, 98218, 98219, 98220, 98221, 98222, 98223, 98224, 98225, 98226, 98227, 98228, 98229, 98230, 98231, 98232, 98233, 98234, 98235, 98236], [98242, 98243, 98244, 98245, 98246, 98247, 98248, 98249, 98250, 98251, 98252, 98253, 98254, 98255, 98256, 98257, 98258, 98259, 98260, 98261, 98262, 98263, 98264, 98265, 98266, 98267, 98268, 98269, 98270, 98271, 98272, 98273, 98274, 98275, 98276, 98277, 98278, 98279, 98280, 98281, 98282, 98283, 98284, 98285, 98286, 98287, 98288, 98289, 98290, 98291, 98292, 98293, 98294, 98295, 98296, 98297, 98298, 98299, 98300, 98301, 98302, 98303, 98304, 98305, 98306, 98307, 98308, 98309, 98310, 98311, 98312, 98313, 98314, 98315, 98316, 98317, 98318, 98319, 98320, 98321, 98322, 98323, 98324, 98325, 98326, 98327, 98328, 98329, 98330, 98331, 98332, 98333, 98334, 98335, 98336, 98337, 98338, 98339, 98340, 98341, 98342, 98343, 98344, 98345, 98346, 98347, 98348, 98349, 98350, 98351, 98352, 98353, 98354, 98355, 98356, 98357, 98358, 98359, 98360, 98361, 98362, 98363, 98364, 98365, 98366, 98367, 98368, 98369, 98370, 98371, 98372, 98373, 98374, 98375, 98376, 98377, 98378, 98379, 98380, 98381, 98382, 98383, 98384, 98385, 98386, 98387], [98397, 98398, 98399, 98400, 98401, 98402, 98403, 98404, 98405], [98409, 98410, 98411, 98412, 98413, 98414, 98415, 98416, 98417, 98418, 98419, 98420, 98421, 98422, 98423, 98424, 98425, 98426, 98427, 98428, 98429, 98430, 98431, 98432, 98433, 98434, 98435, 98436, 98437, 98438, 98439, 98440, 98441, 98442, 98443, 98444, 98445, 98446, 98447, 98448, 98449, 98450, 98451, 98452, 98453, 98454, 98455, 98456, 98457, 98458, 98459, 98460, 98461, 98462, 98463, 98464, 98465, 98466, 98467, 98468, 98469, 98470, 98471, 98472, 98473, 98474, 98475, 98476, 98477, 98478, 98479, 98480, 98481, 98482, 98483, 98484, 98485, 98486, 98487, 98488, 98489, 98490, 98491, 98492, 98493, 98494, 98495, 98496, 98497, 98498, 98499, 98500, 98501, 98502, 98503, 98504, 98505, 98506, 98507, 98508, 98509, 98510, 98511, 98512, 98513, 98514, 98515, 98516, 98517, 98518, 98519, 98520, 98521, 98522, 98523, 98524, 98525, 98526, 98527, 98528, 98529, 98530, 98531, 98532, 98533, 98534, 98535], [98599, 98600, 98601, 98602, 98603, 98604, 98605, 98606, 98607, 98608, 98609, 98610], [98655, 98656, 98657, 98658, 98659, 98660, 98661, 98662, 98663, 98664, 98665, 98666, 98667, 98668, 98669, 98670, 98671, 98672, 98673, 98674, 98675, 98676, 98677, 98678, 98679, 98680, 98681], [100204, 100205, 100206, 100207, 100208, 100209], [100214, 100215, 100216, 100217, 100218, 100219, 100220, 100221, 100222, 100223, 100224, 100225, 100226, 100227, 100228, 100229, 100230, 100231, 100232], [100262, 100263, 100264, 100265], [100276, 100277, 100278, 100279, 100280, 100281, 100282, 100283, 100284, 100285], [100291, 100292, 100293, 100294, 100295, 100296, 100297, 100298, 100299, 100300, 100301, 100302, 100303, 100304, 100305, 100306, 100307, 100308, 100309, 100310, 100311, 100312, 100313, 100314, 100315, 100316, 100317, 100318, 100319, 100320, 100321, 100322, 100323, 100324, 100325, 100326, 100327, 100328, 100329, 100330, 100331, 100332, 100333, 100334, 100335, 100336, 100337, 100338, 100339, 100340, 100341, 100342, 100343, 100344, 100345, 100346, 100347, 100348, 100349, 100350, 100351, 100352, 100353, 100354, 100355, 100356, 100357, 100358, 100359, 100360, 100361, 100362, 100363, 100364, 100365, 100366, 100367, 100368, 100369, 100370, 100371, 100372, 100373, 100374, 100375, 100376, 100377, 100378, 100379, 100380, 100381, 100382, 100383, 100384, 100385, 100386, 100387, 100388], [100394, 100395, 100396, 100397, 100398, 100399, 100400, 100401, 100402, 100403, 100404, 100405, 100406], [100409, 100410, 100411, 100412, 100413, 100414, 100415, 100416, 100417, 100418, 100419, 100420, 100421, 100422, 100423, 100424, 100425, 100426, 100427, 100428, 100429, 100430, 100431, 100432, 100433, 100434, 100435, 100436, 100437, 100438, 100439, 100440, 100441, 100442, 100443, 100444, 100445, 100446, 100447, 100448, 100449, 100450, 100451, 100452, 100453, 100454, 100455, 100456, 100457, 100458, 100459, 100460, 100461, 100462, 100463, 100464, 100465, 100466, 100467, 100468, 100469, 100470, 100471, 100472, 100473, 100474, 100475, 100476, 100477, 100478, 100479, 100480, 100481, 100482, 100483, 100484, 100485, 100486, 100487, 100488, 100489, 100490, 100491, 100492, 100493, 100494, 100495, 100496, 100497, 100498, 100499, 100500, 100501, 100502, 100503, 100504, 100505, 100506, 100507, 100508, 100509, 100510, 100511, 100512, 100513, 100514, 100515, 100516, 100517, 100518, 100519, 100520, 100521, 100522, 100523, 100524, 100525, 100526, 100527, 100528, 100529, 100530, 100531, 100532, 100533, 100534, 100535, 100536, 100537, 100538, 100539, 100540, 100541, 100542], [100549, 100550, 100551, 100552, 100553, 100554, 100555, 100556, 100557, 100558, 100559, 100560, 100561, 100562, 100563, 100564, 100565, 100566, 100567, 100568, 100569, 100570, 100571, 100572, 100573, 100574, 100575, 100576, 100577, 100578, 100579, 100580, 100581, 100582, 100583, 100584, 100585, 100586, 100587, 100588, 100589, 100590, 100591, 100592, 100593, 100594, 100595, 100596, 100597, 100598, 100599, 100600, 100601, 100602, 100603, 100604, 100605, 100606, 100607, 100608, 100609, 100610, 100611, 100612, 100613, 100614, 100615, 100616, 100617, 100618, 100619, 100620, 100621, 100622, 100623, 100624, 100625, 100626, 100627, 100628, 100629, 100630, 100631, 100632, 100633, 100634, 100635, 100636, 100637, 100638, 100639, 100640, 100641, 100642, 100643, 100644, 100645, 100646, 100647, 100648, 100649, 100650, 100651, 100652, 100653, 100654, 100655, 100656, 100657, 100658, 100659, 100660, 100661, 100662, 100663, 100664, 100665, 100666, 100667, 100668, 100669, 100670, 100671, 100672, 100673, 100674, 100675, 100676, 100677, 100678, 100679, 100680, 100681, 100682, 100683, 100684, 100685, 100686, 100687, 100688], [102201, 102202, 102203, 102204, 102205, 102206, 102207, 102208, 102209, 102210, 102211, 102212, 102213, 102214, 102215, 102216, 102217, 102218, 102219, 102220, 102221, 102222, 102223, 102224, 102225, 102226, 102227, 102228, 102229, 102230, 102231, 102232, 102233, 102234, 102235, 102236, 102237, 102238, 102239, 102240, 102241, 102242, 102243, 102244, 102245, 102246, 102247, 102248, 102249, 102250, 102251, 102252, 102253, 102254, 102255], [102264, 102265, 102266, 102267, 102268, 102269, 102270, 102271, 102272, 102273], [102279, 102280, 102281, 102282, 102283, 102284, 102285, 102286, 102287, 102288, 102289, 102290, 102291, 102292, 102293, 102294, 102295, 102296, 102297, 102298, 102299, 102300, 102301, 102302, 102303, 102304, 102305, 102306, 102307, 102308, 102309, 102310, 102311, 102312, 102313, 102314, 102315, 102316, 102317, 102318, 102319, 102320, 102321, 102322, 102323, 102324, 102325, 102326, 102327, 102328, 102329, 102330, 102331, 102332, 102333, 102334, 102335, 102336, 102337, 102338, 102339, 102340, 102341, 102342, 102343, 102344, 102345, 102346, 102347, 102348, 102349, 102350, 102351, 102352, 102353, 102354, 102355, 102356, 102357, 102358, 102359, 102360, 102361, 102362, 102363, 102364, 102365, 102366, 102367, 102368, 102369, 102370, 102371, 102372, 102373, 102374, 102375, 102376, 102377, 102378, 102379, 102380, 102381, 102382, 102383, 102384, 102385, 102386, 102387, 102388, 102389, 102390, 102391, 102392, 102393, 102394, 102395, 102396, 102397, 102398, 102399, 102400, 102401, 102402, 102403, 102404, 102405, 102406, 102407, 102408, 102409, 102410, 102411, 102412, 102413, 102414, 102415, 102416, 102417, 102418, 102419, 102420, 102421, 102422, 102423, 102424, 102425, 102426, 102427, 102428, 102429, 102430, 102431, 102432, 102433, 102434, 102435, 102436, 102437, 102438, 102439, 102440, 102441, 102442, 102443, 102444, 102445, 102446, 102447, 102448, 102449, 102450, 102451, 102452, 102453, 102454, 102455, 102456, 102457, 102458, 102459, 102460, 102461, 102462, 102463, 102464, 102465, 102466, 102467, 102468, 102469, 102470, 102471, 102472, 102473, 102474, 102475, 102476, 102477, 102478, 102479, 102480, 102481, 102482, 102483, 102484, 102485, 102486, 102487, 102488, 102489, 102490, 102491, 102492, 102493, 102494, 102495, 102496, 102497, 102498, 102499, 102500, 102501, 102502, 102503, 102504, 102505, 102506, 102507, 102508, 102509, 102510, 102511, 102512, 102513, 102514, 102515, 102516, 102517, 102518, 102519, 102520, 102521, 102522, 102523, 102524, 102525, 102526, 102527, 102528, 102529, 102530, 102531, 102532, 102533, 102534, 102535, 102536, 102537, 102538, 102539, 102540, 102541, 102542, 102543, 102544, 102545, 102546, 102547, 102548, 102549, 102550, 102551, 102552, 102553, 102554, 102555, 102556, 102557, 102558, 102559, 102560, 102561, 102562, 102563, 102564, 102565, 102566, 102567, 102568, 102569, 102570, 102571, 102572, 102573, 102574, 102575, 102576, 102577, 102578, 102579, 102580, 102581, 102582, 102583, 102584, 102585, 102586, 102587, 102588, 102589, 102590, 102591, 102592, 102593, 102594, 102595, 102596, 102597, 102598, 102599, 102600, 102601, 102602, 102603, 102604, 102605, 102606, 102607, 102608, 102609, 102610, 102611, 102612, 102613, 102614, 102615, 102616, 102617, 102618, 102619, 102620, 102621, 102622, 102623, 102624, 102625, 102626, 102627, 102628, 102629, 102630, 102631, 102632, 102633, 102634, 102635, 102636, 102637, 102638, 102639, 102640, 102641, 102642, 102643, 102644, 102645, 102646, 102647, 102648, 102649, 102650, 102651, 102652, 102653, 102654, 102655, 102656, 102657, 102658, 102659, 102660, 102661, 102662, 102663, 102664, 102665, 102666, 102667, 102668, 102669, 102670, 102671, 102672, 102673, 102674, 102675, 102676, 102677, 102678, 102679, 102680, 102681, 102682, 102683, 102684, 102685, 102686, 102687, 102688, 102689, 102690, 102691, 102692, 102693, 102694, 102695, 102696, 102697, 102698, 102699, 102700, 102701, 102702, 102703, 102704, 102705, 102706, 102707, 102708, 102709, 102710, 102711], [102721, 102722, 102723, 102724, 102725, 102726, 102727, 102728], [102738, 102739, 102740, 102741, 102742, 102743, 102744], [102754, 102755, 102756, 102757, 102758, 102759, 102760, 102761, 102762, 102763, 102764, 102765, 102766, 102767, 102768, 102769, 102770, 102771, 102772, 102773, 102774, 102775, 102776, 102777, 102778, 102779, 102780, 102781, 102782, 102783, 102784, 102785], [102816, 102817], [102828, 102829, 102830, 102831, 102832, 102833, 102834, 102835, 102836], [102841, 102842, 102843, 102844, 102845, 102846, 102847, 102848, 102849, 102850, 102851, 102852, 102853, 102854], [104211, 104212, 104213, 104214, 104215, 104216, 104217], [104224, 104225, 104226, 104227, 104228, 104229, 104230, 104231, 104232, 104233, 104234, 104235], [104240, 104241, 104242, 104243, 104244, 104245, 104246, 104247, 104248, 104249, 104250, 104251, 104252, 104253, 104254, 104255], [104370, 104371, 104372, 104373, 104374, 104375, 104376, 104377, 104378, 104379, 104380, 104381, 104382, 104383, 104384, 104385, 104386, 104387, 104388, 104389, 104390, 104391, 104392, 104393, 104394, 104395, 104396, 104397, 104398, 104399, 104400, 104401, 104402, 104403, 104404, 104405, 104406], [104437, 104438], [104452, 104453, 104454, 104455, 104456, 104457, 104458, 104459], [104468, 104469], [104471, 104472, 104473, 104474, 104475, 104476, 104477, 104478, 104479, 104480, 104481, 104482, 104483, 104484, 104485, 104486, 104487, 104488, 104489, 104490, 104491, 104492, 104493, 104494, 104495, 104496, 104497, 104498, 104499, 104500, 104501, 104502, 104503, 104504, 104505, 104506, 104507, 104508, 104509, 104510, 104511, 104512, 104513, 104514, 104515, 104516, 104517, 104518, 104519, 104520, 104521, 104522, 104523, 104524, 104525, 104526, 104527, 104528, 104529, 104530, 104531, 104532, 104533, 104534, 104535, 104536, 104537, 104538, 104539, 104540, 104541, 104542, 104543, 104544, 104545, 104546, 104547, 104548, 104549, 104550, 104551, 104552, 104553, 104554, 104555, 104556, 104557, 104558, 104559, 104560, 104561, 104562, 104563], [104568, 104569, 104570, 104571, 104572, 104573, 104574, 104575, 104576, 104577, 104578, 104579, 104580, 104581, 104582, 104583, 104584, 104585, 104586, 104587, 104588, 104589, 104590, 104591, 104592, 104593, 104594, 104595, 104596, 104597, 104598, 104599, 104600, 104601, 104602, 104603, 104604, 104605, 104606, 104607, 104608, 104609, 104610, 104611, 104612, 104613, 104614, 104615, 104616, 104617, 104618, 104619, 104620, 104621, 104622, 104623, 104624, 104625, 104626, 104627, 104628, 104629, 104630, 104631, 104632, 104633, 104634, 104635, 104636, 104637, 104638, 104639, 104640, 104641, 104642, 104643, 104644, 104645, 104646, 104647, 104648, 104649, 104650, 104651, 104652, 104653, 104654, 104655, 104656, 104657, 104658, 104659, 104660, 104661, 104662, 104663, 104664, 104665, 104666, 104667, 104668, 104669, 104670, 104671, 104672, 104673, 104674, 104675, 104676, 104677, 104678, 104679, 104680, 104681, 104682, 104683, 104684, 104685, 104686, 104687, 104688, 104689, 104690, 104691, 104692, 104693, 104694, 104695, 104696, 104697, 104698, 104699, 104700, 104701, 104702, 104703, 104704, 104705, 104706, 104707, 104708, 104709, 104710, 104711, 104712, 104713, 104714], [104723, 104724, 104725, 104726, 104727, 104728, 104729, 104730, 104731, 104732], [104739, 104740, 104741, 104742, 104743, 104744, 104745, 104746, 104747, 104748, 104749], [104753, 104754, 104755, 104756, 104757, 104758, 104759, 104760, 104761, 104762, 104763, 104764, 104765, 104766, 104767, 104768, 104769, 104770, 104771, 104772, 104773, 104774, 104775, 104776, 104777, 104778, 104779, 104780, 104781, 104782, 104783, 104784, 104785, 104786, 104787, 104788, 104789, 104790, 104791, 104792, 104793, 104794, 104795, 104796, 104797, 104798, 104799, 104800, 104801, 104802, 104803, 104804, 104805, 104806, 104807, 104808, 104809, 104810, 104811, 104812, 104813, 104814, 104815, 104816, 104817, 104818, 104819, 104820, 104821, 104822, 104823, 104824, 104825, 104826, 104827, 104828, 104829, 104830, 104831, 104832, 104833, 104834, 104835, 104836, 104837, 104838, 104839, 104840, 104841, 104842, 104843, 104844, 104845, 104846, 104847, 104848, 104849, 104850, 104851, 104852, 104853, 104854, 104855, 104856, 104857, 104858, 104859, 104860, 104861, 104862, 104863], [115421, 115422, 115423, 115424, 115425, 115426, 115427, 115428, 115429, 115430, 115431, 115432, 115433, 115434, 115435, 115436, 115437, 115438, 115439, 115440, 115441, 115442, 115443, 115444, 115445, 115446, 115447, 115448, 115449, 115450, 115451, 115452, 115453, 115454, 115455, 115456, 115457, 115458, 115459, 115460, 115461, 115462, 115463, 115464, 115465, 115466, 115467, 115468, 115469, 115470, 115471, 115472, 115473, 115474, 115475, 115476, 115477, 115478, 115479, 115480, 115481, 115482, 115483, 115484, 115485, 115486, 115487, 115488, 115489, 115490, 115491, 115492, 115493, 115494, 115495, 115496, 115497, 115498, 115499, 115500, 115501, 115502, 115503, 115504, 115505, 115506, 115507, 115508, 115509, 115510, 115511, 115512, 115513, 115514, 115515, 115516, 115517], [120967, 120968], [120970, 120971], [120988, 120989], [121000, 121001, 121002], [121017, 121018, 121019, 121020, 121021], [121023, 121024, 121025, 121026, 121027, 121028, 121029, 121030, 121031, 121032], [121036, 121037, 121038, 121039, 121040, 121041, 121042, 121043, 121044, 121045, 121046, 121047], [121049, 121050, 121051], [121076, 121077, 121078], [121080, 121081, 121082, 121083], [121086, 121087, 121088, 121089], [121096, 121097, 121098], [121107, 121108, 121109, 121110], [121112, 121113, 121114], [121116, 121117, 121118, 121119, 121120, 121121, 121122, 121123, 121124, 121125], [121127, 121128], [121136, 121137, 121138, 121139, 121140], [121144, 121145, 121146, 121147, 121148, 121149, 121150, 121151, 121152, 121153, 121154], [121161, 121162, 121163, 121164], [121179, 121180, 121181, 121182, 121183, 121184], [121195, 121196, 121197, 121198, 121199, 121200, 121201, 121202], [121215, 121216, 121217, 121218, 121219], [125137, 125138], [125143, 125144], [125146, 125147, 125148, 125149, 125150, 125151, 125152], [125154, 125155, 125156, 125157, 125158, 125159, 125160, 125161, 125162, 125163], [125173, 125174, 125175, 125176, 125177], [125189, 125190, 125191, 125192, 125193, 125194, 125195, 125196, 125197, 125198, 125199, 125200, 125201, 125202, 125203, 125204, 125205, 125206, 125207, 125208, 125209, 125210, 125211, 125212, 125213, 125214, 125215, 125216, 125217, 125218, 125219, 125220, 125221, 125222, 125223, 125224, 125225, 125226, 125227, 125228, 125229, 125230, 125231, 125232, 125233, 125234, 125235, 125236, 125237, 125238, 125239, 125240, 125241, 125242, 125243, 125244, 125245, 125246, 125247, 125248, 125249, 125250, 125251, 125252, 125253, 125254, 125255, 125256, 125257, 125258, 125259, 125260, 125261, 125262, 125263, 125264, 125265, 125266, 125267, 125268, 125269], [125271, 125272, 125273, 125274, 125275, 125276, 125277, 125278, 125279, 125280, 125281, 125282, 125283, 125284, 125285, 125286, 125287, 125288, 125289], [125297, 125298, 125299, 125300, 125301, 125302, 125303, 125304, 125305, 125306, 125307, 125308, 125309, 125310, 125311, 125312, 125313, 125314, 125315, 125316, 125317, 125318, 125319, 125320, 125321, 125322, 125323, 125324, 125325, 125326, 125327, 125328, 125329, 125330, 125331, 125332, 125333, 125334, 125335, 125336, 125337, 125338, 125339, 125340, 125341, 125342, 125343, 125344, 125345, 125346, 125347, 125348, 125349, 125350, 125351, 125352, 125353, 125354, 125355, 125356, 125357, 125358, 125359, 125360, 125361, 125362, 125363, 125364, 125365, 125366], [125368, 125369, 125370, 125371, 125372, 125373, 125374, 125375, 125376, 125377, 125378, 125379, 125380, 125381, 125382, 125383, 125384, 125385, 125386, 125387, 125388, 125389, 125390, 125391, 125392, 125393, 125394, 125395, 125396, 125397, 125398, 125399, 125400, 125401, 125402, 125403], [125405, 125406, 125407, 125408, 125409, 125410], [125413, 125414], [125420, 125421, 125422, 125423], [125426, 125427], [125429, 125430], [125441, 125442], [127276, 127277, 127278, 127279, 127280], [127301, 127302, 127303, 127304, 127305, 127306, 127307, 127308], [127310, 127311, 127312, 127313, 127314, 127315, 127316, 127317, 127318, 127319, 127320, 127321], [127385, 127386, 127387, 127388, 127389, 127390, 127391, 127392, 127393, 127394, 127395, 127396, 127397, 127398, 127399, 127400, 127401, 127402, 127403, 127404, 127405, 127406, 127407, 127408, 127409, 127410, 127411, 127412, 127413, 127414, 127415, 127416, 127417, 127418, 127419, 127420, 127421, 127422, 127423, 127424, 127425, 127426, 127427, 127428, 127429, 127430, 127431, 127432, 127433, 127434, 127435, 127436, 127437, 127438, 127439, 127440, 127441, 127442, 127443, 127444, 127445, 127446, 127447, 127448, 127449, 127450, 127451, 127452, 127453, 127454, 127455, 127456, 127457, 127458, 127459, 127460, 127461, 127462, 127463, 127464, 127465, 127466, 127467, 127468, 127469, 127470, 127471], [129282, 129283], [129285, 129286, 129287, 129288], [129296, 129297, 129298, 129299, 129300], [129305, 129306, 129307, 129308, 129309, 129310, 129311, 129312, 129313, 129314, 129315, 129316, 129317, 129318, 129319, 129320, 129321, 129322, 129323, 129324, 129325, 129326, 129327, 129328, 129329, 129330, 129331, 129332, 129333, 129334, 129335, 129336, 129337, 129338, 129339, 129340, 129341, 129342, 129343, 129344, 129345, 129346, 129347, 129348, 129349, 129350, 129351, 129352, 129353, 129354, 129355, 129356, 129357, 129358, 129359, 129360, 129361, 129362, 129363, 129364, 129365, 129366, 129367, 129368, 129369, 129370, 129371, 129372, 129373, 129374, 129375, 129376, 129377, 129378, 129379, 129380, 129381, 129382, 129383, 129384, 129385, 129386, 129387, 129388, 129389, 129390, 129391, 129392, 129393, 129394, 129395, 129396, 129397, 129398, 129399, 129400, 129401, 129402, 129403, 129404, 129405, 129406, 129407, 129408, 129409, 129410, 129411, 129412, 129413, 129414, 129415, 129416, 129417, 129418, 129419, 129420, 129421], [129424, 129425, 129426, 129427, 129428, 129429, 129430, 129431, 129432, 129433, 129434, 129435, 129436, 129437, 129438, 129439, 129440, 129441, 129442, 129443, 129444, 129445, 129446, 129447, 129448, 129449, 129450, 129451, 129452, 129453, 129454, 129455, 129456, 129457, 129458, 129459, 129460, 129461, 129462, 129463, 129464, 129465, 129466, 129467, 129468, 129469, 129470, 129471, 129472, 129473, 129474, 129475, 129476, 129477, 129478, 129479, 129480, 129481, 129482, 129483, 129484, 129485, 129486, 129487, 129488, 129489, 129490, 129491, 129492, 129493, 129494, 129495, 129496, 129497, 129498, 129499, 129500, 129501, 129502, 129503, 129504, 129505, 129506, 129507, 129508, 129509, 129510, 129511, 129512, 129513, 129514, 129515, 129516, 129517, 129518, 129519, 129520, 129521, 129522, 129523, 129524, 129525, 129526, 129527, 129528, 129529, 129530, 129531, 129532, 129533, 129534, 129535, 129536, 129537, 129538, 129539, 129540, 129541, 129542, 129543, 129544, 129545, 129546, 129547, 129548, 129549, 129550, 129551, 129552, 129553, 129554, 129555, 129556, 129557, 129558, 129559, 129560, 129561, 129562, 129563, 129564, 129565, 129566, 129567, 129568, 129569, 129570, 129571, 129572, 129573, 129574, 129575, 129576, 129577, 129578, 129579, 129580, 129581, 129582, 129583, 129584, 129585, 129586, 129587, 129588, 129589, 129590, 129591, 129592, 129593, 129594, 129595, 129596, 129597, 129598, 129599, 129600, 129601, 129602, 129603, 129604, 129605, 129606, 129607, 129608, 129609, 129610, 129611, 129612, 129613, 129614, 129615, 129616, 129617, 129618, 129619, 129620, 129621, 129622, 129623, 129624, 129625, 129626, 129627, 129628, 129629, 129630, 129631, 129632, 129633, 129634], [129639, 129640, 129641, 129642, 129643, 129644, 129645, 129646, 129647, 129648, 129649, 129650], [129657, 129658, 129659, 129660, 129661, 129662, 129663, 129664], [129675, 129676, 129677, 129678, 129679, 129680, 129681, 129682, 129683, 129684, 129685, 129686, 129687], [129689, 129690, 129691, 129692, 129693], [129695, 129696, 129697, 129698, 129699, 129700], [129702, 129703, 129704], [129706, 129707, 129708, 129709, 129710, 129711, 129712, 129713, 129714, 129715, 129716, 129717, 129718, 129719, 129720, 129721, 129722, 129723, 129724, 129725, 129726, 129727, 129728, 129729, 129730, 129731, 129732, 129733, 129734, 129735, 129736, 129737, 129738, 129739, 129740, 129741, 129742, 129743, 129744, 129745, 129746, 129747, 129748, 129749, 129750, 129751, 129752, 129753, 129754, 129755, 129756, 129757, 129758, 129759, 129760, 129761, 129762, 129763, 129764, 129765, 129766, 129767, 129768, 129769, 129770, 129771, 129772, 129773, 129774, 129775, 129776, 129777], [131274, 131275, 131276, 131277, 131278, 131279, 131280, 131281, 131282, 131283, 131284, 131285, 131286, 131287, 131288, 131289, 131290, 131291, 131292, 131293, 131294, 131295, 131296, 131297, 131298, 131299, 131300, 131301, 131302, 131303, 131304, 131305, 131306, 131307, 131308, 131309, 131310, 131311, 131312, 131313, 131314, 131315, 131316, 131317, 131318, 131319, 131320, 131321, 131322, 131323, 131324, 131325, 131326, 131327, 131328, 131329, 131330, 131331, 131332, 131333, 131334, 131335, 131336, 131337, 131338, 131339, 131340, 131341, 131342], [131373, 131374, 131375], [131387, 131388, 131389, 131390, 131391, 131392, 131393, 131394, 131395, 131396, 131397, 131398, 131399, 131400, 131401, 131402, 131403, 131404, 131405, 131406, 131407, 131408, 131409, 131410, 131411, 131412, 131413, 131414, 131415, 131416, 131417, 131418, 131419, 131420, 131421, 131422, 131423, 131424, 131425, 131426, 131427, 131428, 131429, 131430, 131431, 131432, 131433, 131434, 131435, 131436, 131437, 131438, 131439, 131440, 131441, 131442, 131443, 131444, 131445, 131446, 131447, 131448, 131449, 131450, 131451, 131452, 131453, 131454, 131455, 131456, 131457, 131458, 131459, 131460, 131461, 131462, 131463, 131464, 131465, 131466, 131467, 131468, 131469, 131470, 131471, 131472, 131473, 131474, 131475, 131476, 131477, 131478, 131479, 131480, 131481, 131482, 131483, 131484, 131485, 131486, 131487, 131488, 131489, 131490, 131491, 131492, 131493, 131494, 131495, 131496, 131497, 131498], [131506, 131507, 131508, 131509, 131510, 131511, 131512, 131513, 131514], [132822, 132823, 132824, 132825, 132826, 132827, 132828], [132830, 132831, 132832], [132834, 132835], [132840, 132841, 132842, 132843, 132844, 132845, 132846, 132847, 132848, 132849], [132928, 132929, 132930, 132931, 132932, 132933, 132934, 132935, 132936, 132937, 132938, 132939, 132940, 132941, 132942, 132943, 132944, 132945, 132946, 132947, 132948, 132949, 132950, 132951, 132952, 132953, 132954, 132955, 132956, 132957, 132958, 132959, 132960, 132961, 132962, 132963, 132964, 132965, 132966, 132967, 132968, 132969, 132970, 132971, 132972, 132973, 132974, 132975, 132976, 132977, 132978, 132979, 132980, 132981, 132982, 132983, 132984, 132985, 132986, 132987, 132988, 132989, 132990, 132991, 132992, 132993, 132994, 132995, 132996, 132997, 132998, 132999, 133000, 133001, 133002, 133003, 133004, 133005, 133006], [133015, 133016, 133017, 133018, 133019, 133020, 133021, 133022, 133023, 133024], [133031, 133032, 133033, 133034, 133035, 133036, 133037, 133038, 133039, 133040, 133041, 133042, 133043, 133044, 133045, 133046, 133047, 133048, 133049, 133050, 133051, 133052, 133053, 133054, 133055, 133056, 133057, 133058, 133059, 133060, 133061, 133062, 133063, 133064, 133065, 133066, 133067, 133068, 133069, 133070, 133071, 133072, 133073, 133074, 133075, 133076, 133077, 133078, 133079, 133080, 133081, 133082, 133083, 133084, 133085, 133086, 133087, 133088, 133089, 133090, 133091, 133092, 133093, 133094, 133095, 133096, 133097, 133098, 133099, 133100, 133101, 133102, 133103, 133104, 133105, 133106, 133107, 133108, 133109, 133110, 133111, 133112, 133113, 133114, 133115, 133116, 133117, 133118, 133119, 133120, 133121, 133122, 133123, 133124, 133125, 133126, 133127, 133128, 133129, 133130, 133131, 133132, 133133, 133134, 133135, 133136, 133137, 133138, 133139, 133140, 133141, 133142, 133143, 133144, 133145, 133146, 133147, 133148, 133149, 133150, 133151, 133152, 133153, 133154, 133155, 133156, 133157], [133159, 133160], [133168, 133169, 133170, 133171, 133172, 133173, 133174, 133175, 133176, 133177, 133178, 133179, 133180, 133181], [133186, 133187, 133188, 133189, 133190, 133191, 133192, 133193, 133194, 133195], [133198, 133199, 133200], [133207, 133208, 133209, 133210, 133211, 133212, 133213, 133214, 133215, 133216, 133217, 133218, 133219, 133220, 133221, 133222, 133223, 133224, 133225, 133226, 133227, 133228, 133229, 133230, 133231, 133232, 133233, 133234, 133235, 133236, 133237, 133238, 133239, 133240, 133241, 133242, 133243, 133244, 133245, 133246, 133247, 133248, 133249, 133250, 133251, 133252, 133253, 133254, 133255, 133256, 133257, 133258, 133259, 133260, 133261, 133262, 133263, 133264, 133265, 133266, 133267, 133268, 133269, 133270, 133271], [133273, 133274, 133275, 133276, 133277, 133278, 133279, 133280, 133281, 133282, 133283], [133292, 133293], [133295, 133296, 133297, 133298, 133299, 133300, 133301, 133302, 133303, 133304, 133305, 133306, 133307, 133308], [133369, 133370, 133371, 133372, 133373, 133374, 133375, 133376, 133377, 133378, 133379, 133380, 133381, 133382, 133383, 133384, 133385, 133386, 133387, 133388], [133398, 133399, 133400], [133435, 133436, 133437, 133438, 133439, 133440, 133441], [133452, 133453], [133455, 133456], [133515, 133516, 133517, 133518, 133519, 133520, 133521, 133522, 133523, 133524, 133525, 133526, 133527, 133528, 133529, 133530, 133531, 133532], [134951, 134952], [134954, 134955, 134956, 134957], [134960, 134961, 134962, 134963, 134964, 134965, 134966, 134967, 134968, 134969, 134970, 134971, 134972, 134973, 134974, 134975, 134976, 134977, 134978, 134979, 134980, 134981, 134982, 134983, 134984, 134985, 134986, 134987, 134988, 134989, 134990, 134991, 134992, 134993, 134994], [134997, 134998, 134999, 135000, 135001, 135002, 135003, 135004, 135005, 135006], [135067, 135068, 135069, 135070, 135071], [135073, 135074, 135075, 135076, 135077, 135078, 135079, 135080, 135081, 135082, 135083, 135084, 135085, 135086, 135087, 135088, 135089, 135090, 135091, 135092, 135093, 135094, 135095, 135096, 135097, 135098, 135099, 135100, 135101, 135102, 135103, 135104, 135105, 135106, 135107, 135108, 135109, 135110, 135111, 135112, 135113, 135114, 135115, 135116, 135117, 135118, 135119, 135120, 135121, 135122, 135123, 135124, 135125, 135126, 135127, 135128, 135129, 135130, 135131, 135132, 135133, 135134, 135135, 135136, 135137, 135138, 135139, 135140, 135141, 135142, 135143, 135144, 135145, 135146, 135147, 135148, 135149, 135150, 135151, 135152, 135153, 135154, 135155, 135156, 135157, 135158, 135159, 135160], [135169, 135170, 135171, 135172, 135173, 135174, 135175], [135177, 135178], [135182, 135183, 135184, 135185, 135186, 135187, 135188, 135189, 135190, 135191, 135192, 135193, 135194, 135195, 135196, 135197, 135198, 135199, 135200, 135201, 135202, 135203, 135204, 135205, 135206, 135207, 135208, 135209, 135210, 135211, 135212, 135213, 135214, 135215, 135216, 135217, 135218, 135219, 135220, 135221, 135222, 135223, 135224, 135225, 135226, 135227, 135228, 135229, 135230, 135231, 135232, 135233, 135234, 135235, 135236, 135237, 135238, 135239, 135240, 135241, 135242, 135243, 135244, 135245, 135246, 135247, 135248, 135249, 135250, 135251, 135252, 135253, 135254, 135255, 135256, 135257, 135258, 135259, 135260, 135261, 135262, 135263, 135264, 135265, 135266, 135267, 135268, 135269, 135270, 135271, 135272, 135273, 135274, 135275, 135276, 135277, 135278, 135279, 135280, 135281, 135282, 135283, 135284, 135285, 135286, 135287, 135288, 135289, 135290, 135291, 135292, 135293, 135294, 135295, 135296, 135297, 135298, 135299, 135300, 135301, 135302, 135303, 135304, 135305, 135306], [135308, 135309, 135310, 135311, 135312, 135313, 135314, 135315, 135316, 135317, 135318, 135319, 135320, 135321, 135322, 135323, 135324, 135325, 135326, 135327, 135328, 135329, 135330, 135331, 135332, 135333, 135334, 135335, 135336, 135337, 135338, 135339, 135340, 135341, 135342, 135343, 135344, 135345, 135346, 135347, 135348, 135349, 135350, 135351, 135352, 135353, 135354, 135355, 135356, 135357, 135358, 135359, 135360, 135361, 135362, 135363, 135364, 135365, 135366, 135367, 135368, 135369, 135370, 135371, 135372, 135373, 135374, 135375, 135376, 135377, 135378, 135379, 135380, 135381, 135382, 135383, 135384, 135385, 135386, 135387, 135388, 135389, 135390, 135391, 135392, 135393, 135394, 135395, 135396, 135397, 135398, 135399, 135400, 135401, 135402, 135403, 135404, 135405, 135406, 135407, 135408, 135409, 135410, 135411, 135412, 135413, 135414, 135415, 135416, 135417, 135418, 135419, 135420, 135421, 135422], [135424, 135425, 135426, 135427], [135430, 135431, 135432, 135433, 135434, 135435, 135436, 135437, 135438, 135439, 135440, 135441, 135442, 135443, 135444, 135445, 135446, 135447, 135448, 135449, 135450, 135451, 135452, 135453, 135454, 135455, 135456, 135457, 135458, 135459, 135460, 135461, 135462], [135472, 135473, 135474, 135475, 135476, 135477], [135489, 135490, 135491, 135492, 135493, 135494, 135495, 135496, 135497, 135498, 135499], [135501, 135502, 135503, 135504, 135505, 135506, 135507, 135508, 135509, 135510, 135511, 135512, 135513, 135514, 135515, 135516, 135517, 135518, 135519, 135520, 135521, 135522, 135523, 135524, 135525, 135526, 135527, 135528, 135529, 135530, 135531, 135532, 135533, 135534, 135535, 135536, 135537, 135538, 135539, 135540, 135541, 135542, 135543], [135546, 135547, 135548, 135549, 135550, 135551, 135552, 135553, 135554, 135555, 135556, 135557, 135558, 135559], [135561, 135562], [135564, 135565, 135566, 135567, 135568, 135569, 135570, 135571, 135572, 135573, 135574, 135575, 135576, 135577, 135578, 135579, 135580, 135581, 135582, 135583, 135584, 135585, 135586, 135587, 135588, 135589, 135590, 135591, 135592, 135593, 135594, 135595, 135596, 135597, 135598, 135599, 135600, 135601, 135602, 135603, 135604, 135605, 135606, 135607, 135608, 135609, 135610, 135611], [135677, 135678], [135680, 135681, 135682, 135683, 135684, 135685, 135686], [137135, 137136, 137137], [137141, 137142, 137143, 137144, 137145, 137146, 137147, 137148, 137149, 137150, 137151, 137152, 137153, 137154, 137155, 137156, 137157, 137158, 137159, 137160, 137161, 137162, 137163, 137164, 137165, 137166, 137167], [137169, 137170, 137171, 137172, 137173, 137174], [137236, 137237, 137238, 137239, 137240, 137241, 137242, 137243, 137244, 137245, 137246, 137247, 137248, 137249, 137250, 137251, 137252, 137253, 137254, 137255, 137256, 137257, 137258, 137259, 137260, 137261, 137262, 137263, 137264, 137265, 137266, 137267, 137268, 137269, 137270, 137271, 137272, 137273, 137274, 137275, 137276, 137277, 137278, 137279, 137280, 137281, 137282, 137283, 137284, 137285, 137286, 137287, 137288, 137289, 137290, 137291, 137292, 137293, 137294, 137295, 137296, 137297, 137298, 137299, 137300, 137301, 137302, 137303, 137304, 137305, 137306, 137307, 137308, 137309, 137310, 137311, 137312, 137313, 137314, 137315, 137316, 137317, 137318, 137319, 137320, 137321, 137322, 137323, 137324, 137325, 137326, 137327], [137357, 137358, 137359, 137360], [137371, 137372, 137373, 137374, 137375, 137376, 137377, 137378, 137379, 137380, 137381, 137382, 137383, 137384, 137385, 137386, 137387, 137388, 137389, 137390, 137391, 137392, 137393, 137394, 137395, 137396, 137397, 137398, 137399, 137400, 137401, 137402, 137403, 137404, 137405, 137406, 137407, 137408, 137409, 137410, 137411, 137412, 137413, 137414, 137415, 137416, 137417, 137418, 137419, 137420, 137421, 137422, 137423, 137424, 137425, 137426, 137427, 137428, 137429, 137430, 137431, 137432, 137433, 137434, 137435, 137436, 137437, 137438, 137439, 137440, 137441, 137442, 137443, 137444, 137445, 137446, 137447, 137448, 137449, 137450, 137451, 137452, 137453, 137454, 137455, 137456, 137457, 137458, 137459, 137460, 137461, 137462, 137463, 137464, 137465, 137466, 137467, 137468, 137469, 137470, 137471, 137472, 137473, 137474, 137475, 137476, 137477, 137478, 137479, 137480], [137490, 137491, 137492, 137493, 137494, 137495, 137496, 137497], [137505, 137506, 137507, 137508, 137509, 137510, 137511, 137512, 137513, 137514, 137515, 137516, 137517, 137518, 137519, 137520, 137521, 137522, 137523, 137524, 137525, 137526, 137527, 137528, 137529, 137530, 137531, 137532, 137533, 137534, 137535, 137536, 137537, 137538, 137539, 137540, 137541, 137542, 137543, 137544, 137545, 137546, 137547, 137548, 137549, 137550, 137551, 137552, 137553, 137554, 137555, 137556, 137557, 137558], [137566, 137567, 137568, 137569, 137570, 137571], [137583, 137584, 137585, 137586, 137587, 137588, 137589, 137590], [137597, 137598, 137599, 137600, 137601, 137602, 137603, 137604, 137605, 137606, 137607, 137608, 137609, 137610, 137611, 137612, 137613, 137614, 137615, 137616, 137617, 137618, 137619, 137620, 137621, 137622, 137623, 137624, 137625, 137626, 137627, 137628, 137629, 137630], [137641, 137642, 137643, 137644, 137645], [137656, 137657, 137658, 137659, 137660, 137661, 137662, 137663, 137664, 137665, 137666, 137667, 137668, 137669, 137670, 137671, 137672, 137673, 137674, 137675, 137676, 137677, 137678, 137679, 137680, 137681, 137682, 137683, 137684, 137685, 137686, 137687, 137688, 137689, 137690, 137691, 137692, 137693, 137694, 137695, 137696, 137697, 137698, 137699, 137700, 137701, 137702, 137703, 137704, 137705], [137720, 137721], [137737, 137738, 137739], [137748, 137749, 137750, 137751, 137752, 137753, 137754, 137755, 137756, 137757, 137758, 137759, 137760, 137761, 137762, 137763, 137764, 137765, 137766, 137767, 137768, 137769, 137770, 137771, 137772, 137773, 137774, 137775, 137776, 137777, 137778], [139153, 139154, 139155, 139156, 139157], [139166, 139167, 139168, 139169, 139170], [139173, 139174, 139175], [139285, 139286, 139287, 139288, 139289, 139290, 139291, 139292, 139293], [139295, 139296], [139298, 139299, 139300, 139301, 139302, 139303, 139304, 139305, 139306, 139307, 139308, 139309, 139310, 139311, 139312], [139314, 139315, 139316, 139317, 139318, 139319, 139320, 139321, 139322, 139323, 139324, 139325, 139326, 139327], [139418, 139419, 139420, 139421, 139422, 139423, 139424, 139425, 139426, 139427, 139428, 139429, 139430, 139431, 139432, 139433, 139434, 139435, 139436, 139437, 139438, 139439, 139440, 139441, 139442, 139443, 139444, 139445, 139446, 139447, 139448, 139449, 139450, 139451, 139452, 139453, 139454, 139455, 139456, 139457, 139458, 139459, 139460, 139461, 139462, 139463, 139464, 139465, 139466, 139467, 139468, 139469, 139470, 139471, 139472, 139473, 139474, 139475, 139476, 139477, 139478, 139479], [139525, 139526, 139527], [139531, 139532, 139533, 139534], [139538, 139539, 139540, 139541, 139542, 139543, 139544, 139545, 139546, 139547, 139548, 139549, 139550, 139551, 139552, 139553, 139554, 139555, 139556, 139557, 139558, 139559, 139560, 139561, 139562, 139563], [139567, 139568, 139569, 139570, 139571, 139572, 139573, 139574, 139575, 139576, 139577, 139578, 139579, 139580, 139581, 139582, 139583, 139584, 139585, 139586, 139587, 139588, 139589, 139590, 139591, 139592, 139593, 139594, 139595, 139596, 139597, 139598, 139599, 139600, 139601, 139602, 139603, 139604, 139605, 139606, 139607, 139608, 139609, 139610, 139611, 139612, 139613, 139614, 139615, 139616, 139617, 139618, 139619, 139620, 139621, 139622, 139623, 139624, 139625, 139626, 139627, 139628, 139629, 139630, 139631, 139632, 139633], [139643, 139644, 139645, 139646, 139647, 139648, 139649, 139650, 139651], [139657, 139658, 139659, 139660, 139661, 139662, 139663, 139664, 139665, 139666, 139667, 139668, 139669, 139670, 139671, 139672, 139673, 139674, 139675, 139676, 139677, 139678, 139679, 139680, 139681, 139682, 139683, 139684, 139685, 139686, 139687, 139688, 139689, 139690, 139691, 139692, 139693, 139694, 139695, 139696, 139697, 139698, 139699, 139700, 139701, 139702, 139703, 139704, 139705, 139706, 139707, 139708, 139709, 139710], [139721, 139722, 139723, 139724, 139725, 139726], [139738, 139739, 139740, 139741, 139742, 139743], [139755, 139756, 139757, 139758, 139759, 139760, 139761, 139762, 139763, 139764], [139770, 139771, 139772, 139773, 139774, 139775, 139776, 139777, 139778, 139779, 139780, 139781], [139845, 139846, 139847, 139848, 139849, 139850], [139852, 139853, 139854], [140613, 140614, 140615, 140616, 140617, 140618, 140619, 140620, 140621, 140622, 140623, 140624, 140625, 140626, 140627, 140628, 140629, 140630, 140631, 140632, 140633, 140634, 140635, 140636, 140637, 140638, 140639, 140640, 140641, 140642, 140643, 140644, 140645, 140646, 140647, 140648, 140649, 140650, 140651, 140652, 140653, 140654, 140655, 140656, 140657, 140658, 140659, 140660, 140661, 140662, 140663, 140664, 140665, 140666, 140667, 140668, 140669, 140670], [142765, 142766, 142767, 142768, 142769, 142770, 142771, 142772, 142773, 142774, 142775, 142776, 142777], [154040, 154041, 154042, 154043], [154141, 154142, 154143, 154144, 154145, 154146, 154147, 154148, 154149, 154150, 154151, 154152, 154153, 154154, 154155, 154156, 154157, 154158, 154159, 154160], [154162, 154163, 154164], [154167, 154168, 154169, 154170, 154171, 154172, 154173, 154174, 154175, 154176, 154177, 154178, 154179, 154180, 154181, 154182, 154183], [154189, 154190, 154191, 154192, 154193, 154194, 154195], [154197, 154198], [154412, 154413, 154414, 154415, 154416, 154417, 154418, 154419, 154420, 154421, 154422, 154423, 154424, 154425, 154426, 154427, 154428, 154429, 154430, 154431, 154432, 154433, 154434, 154435, 154436, 154437, 154438, 154439, 154440, 154441, 154442, 154443, 154444, 154445, 154446, 154447, 154448, 154449], [154500, 154501, 154502, 154503, 154504, 154505, 154506, 154507, 154508, 154509, 154510, 154511, 154512, 154513, 154514, 154515, 154516, 154517, 154518, 154519, 154520, 154521, 154522, 154523, 154524, 154525, 154526, 154527, 154528, 154529, 154530, 154531, 154532, 154533, 154534, 154535, 154536, 154537, 154538, 154539, 154540, 154541, 154542, 154543, 154544, 154545, 154546, 154547, 154548, 154549, 154550, 154551, 154552, 154553, 154554, 154555, 154556, 154557, 154558, 154559, 154560, 154561, 154562, 154563, 154564, 154565, 154566, 154567, 154568, 154569, 154570, 154571, 154572, 154573, 154574, 154575, 154576, 154577, 154578], [154581, 154582, 154583, 154584, 154585, 154586, 154587, 154588], [154598, 154599, 154600, 154601, 154602, 154603, 154604, 154605, 154606, 154607, 154608, 154609, 154610, 154611, 154612], [158386, 158387, 158388, 158389, 158390], [158600, 158601], [158751, 158752], [158757, 158758], [158875, 158876, 158877, 158878, 158879, 158880, 158881, 158882, 158883, 158884], [158911, 158912], [172431, 172432], [174913, 174914, 174915, 174916, 174917, 174918], [174931, 174932, 174933, 174934, 174935], [174961, 174962, 174963, 174964, 174965, 174966, 174967, 174968, 174969, 174970, 174971, 174972, 174973], [174988, 174989, 174990], [175005, 175006, 175007, 175008, 175009], [175021, 175022], [175026, 175027, 175028, 175029, 175030, 175031, 175032, 175033, 175034, 175035, 175036, 175037, 175038, 175039, 175040, 175041, 175042, 175043, 175044, 175045, 175046, 175047, 175048, 175049, 175050, 175051, 175052, 175053, 175054, 175055, 175056, 175057, 175058, 175059, 175060, 175061, 175062, 175063, 175064, 175065, 175066, 175067, 175068, 175069, 175070, 175071, 175072, 175073, 175074, 175075, 175076, 175077, 175078, 175079, 175080, 175081, 175082, 175083, 175084, 175085, 175086, 175087, 175088, 175089, 175090, 175091, 175092, 175093, 175094, 175095, 175096, 175097, 175098, 175099, 175100, 175101, 175102, 175103, 175104, 175105, 175106, 175107, 175108, 175109, 175110, 175111, 175112, 175113, 175114, 175115, 175116, 175117, 175118, 175119, 175120, 175121, 175122, 175123, 175124, 175125, 175126], [176389, 176390, 176391, 176392, 176393, 176394, 176395, 176396, 176397, 176398, 176399, 176400, 176401, 176402, 176403, 176404, 176405, 176406, 176407, 176408], [183770, 183771, 183772], [183776, 183777, 183778], [183780, 183781, 183782, 183783], [183785, 183786, 183787, 183788], [183790, 183791, 183792, 183793, 183794], [183821, 183822], [183842, 183843], [183900, 183901, 183902, 183903], [183907, 183908], [183912, 183913, 183914], [183916, 183917, 183918, 183919, 183920, 183921, 183922], [183924, 183925, 183926], [187250, 187251, 187252, 187253], [187267, 187268, 187269, 187270, 187271, 187272], [187289, 187290, 187291], [188977, 188978, 188979, 188980], [188983, 188984, 188985, 188986], [188991, 188992, 188993, 188994, 188995, 188996], [189103, 189104, 189105, 189106, 189107, 189108, 189109, 189110, 189111, 189112, 189113, 189114, 189115, 189116, 189117, 189118, 189119, 189120, 189121, 189122, 189123, 189124, 189125, 189126, 189127, 189128, 189129, 189130, 189131, 189132, 189133, 189134, 189135, 189136, 189137, 189138, 189139, 189140, 189141, 189142, 189143, 189144, 189145, 189146, 189147, 189148, 189149, 189150, 189151, 189152], [189240, 189241], [189249, 189250, 189251, 189252, 189253, 189254, 189255, 189256, 189257, 189258, 189259, 189260, 189261, 189262, 189263, 189264, 189265, 189266, 189267, 189268, 189269], [189488, 189489, 189490, 189491, 189492, 189493, 189494, 189495, 189496, 189497, 189498, 189499, 189500, 189501, 189502, 189503, 189504, 189505], [189510, 189511, 189512, 189513, 189514], [189520, 189521, 189522, 189523, 189524, 189525, 189526, 189527, 189528, 189529, 189530, 189531, 189532, 189533, 189534, 189535, 189536, 189537, 189538, 189539, 189540, 189541, 189542, 189543, 189544, 189545, 189546, 189547, 189548, 189549, 189550, 189551, 189552, 189553, 189554, 189555, 189556, 189557, 189558, 189559, 189560], [189562, 189563], [189570, 189571, 189572, 189573, 189574, 189575, 189576, 189577, 189578, 189579, 189580, 189581, 189582, 189583, 189584], [189587, 189588], [189590, 189591, 189592], [189669, 189670, 189671, 189672], [189677, 189678], [189686, 189687], [189689, 189690, 189691, 189692, 189693, 189694, 189695, 189696, 189697, 189698, 189699, 189700], [189740, 189741], [189743, 189744], [189756, 189757, 189758], [189793, 189794, 189795, 189796, 189797, 189798], [189809, 189810, 189811, 189812, 189813, 189814, 189815, 189816, 189817, 189818, 189819, 189820, 189821, 189822, 189823, 189824, 189825, 189826, 189827, 189828, 189829, 189830, 189831, 189832, 189833], [189844, 189845, 189846], [193448, 193449, 193450, 193451, 193452, 193453], [193551, 193552], [193554, 193555, 193556], [193559, 193560, 193561, 193562, 193563, 193564, 193565, 193566, 193567, 193568, 193569, 193570, 193571, 193572, 193573, 193574, 193575, 193576, 193577, 193578, 193579, 193580, 193581, 193582, 193583, 193584, 193585, 193586, 193587, 193588, 193589, 193590, 193591, 193592, 193593, 193594, 193595, 193596, 193597, 193598, 193599, 193600, 193601, 193602, 193603, 193604, 193605, 193606, 193607, 193608, 193609, 193610, 193611, 193612, 193613, 193614, 193615, 193616, 193617, 193618, 193619, 193620, 193621, 193622, 193623, 193624, 193625, 193626, 193627, 193628, 193629], [193632, 193633, 193634, 193635, 193636, 193637, 193638, 193639, 193640, 193641, 193642, 193643], [193649, 193650, 193651, 193652, 193653, 193654, 193655, 193656, 193657, 193658, 193659, 193660, 193661, 193662, 193663, 193664, 193665, 193666, 193667, 193668, 193669, 193670, 193671, 193672, 193673, 193674, 193675, 193676, 193677, 193678, 193679, 193680, 193681, 193682], [193690, 193691, 193692, 193693, 193694, 193695], [193719, 193720, 193721, 193722, 193723], [193732, 193733, 193734, 193735, 193736, 193737, 193738, 193739, 193740, 193741, 193742, 193743, 193744], [193753, 193754, 193755, 193756], [193790, 193791], [193798, 193799, 193800, 193801], [193805, 193806, 193807, 193808, 193809, 193810, 193811, 193812, 193813, 193814, 193815, 193816, 193817, 193818, 193819], [193823, 193824, 193825, 193826, 193827, 193828, 193829, 193830, 193831, 193832, 193833, 193834, 193835, 193836, 193837, 193838], [193841, 193842, 193843, 193844, 193845, 193846, 193847], [193850, 193851, 193852, 193853], [193857, 193858], [193860, 193861, 193862, 193863], [193865, 193866, 193867, 193868, 193869, 193870, 193871, 193872, 193873, 193874, 193875, 193876, 193877, 193878, 193879, 193880, 193881, 193882, 193883, 193884, 193885, 193886, 193887, 193888, 193889, 193890, 193891, 193892, 193893, 193894, 193895, 193896, 193897, 193898, 193899, 193900, 193901, 193902, 193903, 193904, 193905, 193906, 193907, 193908, 193909, 193910, 193911, 193912, 193913, 193914, 193915, 193916, 193917, 193918, 193919, 193920, 193921, 193922, 193923, 193924, 193925, 193926, 193927, 193928], [193935, 193936, 193937, 193938, 193939, 193940, 193941, 193942, 193943], [193946, 193947], [193953, 193954, 193955, 193956, 193957, 193958, 193959], [193963, 193964, 193965], [193967, 193968, 193969, 193970, 193971, 193972, 193973, 193974, 193975, 193976, 193977, 193978], [193980, 193981, 193982, 193983, 193984, 193985, 193986, 193987, 193988, 193989, 193990, 193991, 193992, 193993, 193994, 193995, 193996, 193997, 193998, 193999, 194000, 194001], [195954, 195955, 195956, 195957, 195958, 195959, 195960, 195961, 195962], [195971, 195972, 195973, 195974, 195975, 195976, 195977], [195987, 195988, 195989, 195990, 195991, 195992, 195993], [196004, 196005, 196006, 196007, 196008, 196009, 196010, 196011, 196012, 196013, 196014, 196015, 196016], [202339, 202340, 202341], [208365, 208366], [212183, 212184, 212185, 212186], [212196, 212197, 212198, 212199], [212298, 212299], [212319, 212320, 212321, 212322, 212323, 212324, 212325, 212326, 212327, 212328, 212329, 212330, 212331], [212333, 212334, 212335, 212336, 212337, 212338, 212339, 212340, 212341, 212342, 212343, 212344, 212345], [213754, 213755, 213756, 213757, 213758, 213759, 213760, 213761, 213762, 213763, 213764, 213765, 213766, 213767, 213768, 213769], [213857, 213858, 213859, 213860, 213861, 213862, 213863, 213864, 213865, 213866, 213867, 213868, 213869, 213870, 213871, 213872, 213873, 213874, 213875, 213876, 213877, 213878, 213879, 213880, 213881, 213882, 213883, 213884, 213885, 213886, 213887, 213888, 213889, 213890, 213891, 213892, 213893, 213894, 213895, 213896, 213897, 213898, 213899, 213900, 213901, 213902, 213903, 213904, 213905, 213906, 213907, 213908, 213909, 213910, 213911, 213912, 213913, 213914, 213915, 213916, 213917, 213918, 213919, 213920, 213921], [213936, 213937], [213985, 213986, 213987, 213988, 213989, 213990, 213991, 213992, 213993, 213994, 213995, 213996, 213997, 213998, 213999, 214000, 214001, 214002, 214003, 214004, 214005, 214006, 214007, 214008, 214009, 214010, 214011, 214012, 214013, 214014, 214015, 214016, 214017, 214018, 214019, 214020, 214021, 214022, 214023, 214024, 214025, 214026, 214027, 214028, 214029, 214030, 214031, 214032, 214033, 214034, 214035, 214036, 214037, 214038, 214039, 214040, 214041, 214042, 214043, 214044, 214045, 214046, 214047, 214048, 214049, 214050, 214051, 214052, 214053, 214054, 214055, 214056, 214057, 214058, 214059, 214060, 214061, 214062, 214063, 214064, 214065, 214066, 214067, 214068, 214069, 214070, 214071], [214173, 214174, 214175, 214176, 214177, 214178, 214179, 214180, 214181, 214182, 214183, 214184, 214185, 214186, 214187, 214188, 214189, 214190, 214191, 214192, 214193, 214194, 214195, 214196, 214197, 214198, 214199, 214200, 214201, 214202, 214203, 214204, 214205, 214206, 214207, 214208, 214209, 214210, 214211, 214212, 214213, 214214, 214215, 214216, 214217, 214218, 214219, 214220, 214221, 214222, 214223, 214224, 214225, 214226, 214227, 214228], [214308, 214309, 214310, 214311, 214312, 214313, 214314, 214315, 214316, 214317, 214318, 214319, 214320, 214321, 214322, 214323, 214324, 214325, 214326, 214327, 214328, 214329, 214330, 214331, 214332, 214333, 214334, 214335, 214336, 214337, 214338, 214339, 214340, 214341, 214342, 214343, 214344, 214345, 214346, 214347, 214348, 214349, 214350, 214351, 214352, 214353, 214354], [216029, 216030, 216031, 216032, 216033, 216034, 216035, 216036, 216037, 216038, 216039, 216040, 216041, 216042, 216043, 216044, 216045, 216046, 216047, 216048, 216049, 216050, 216051, 216052, 216053, 216054, 216055, 216056, 216057, 216058, 216059, 216060, 216061, 216062, 216063, 216064, 216065, 216066, 216067, 216068, 216069, 216070, 216071, 216072, 216073, 216074, 216075], [216126, 216127, 216128, 216129, 216130, 216131, 216132, 216133, 216134, 216135, 216136, 216137, 216138, 216139, 216140, 216141, 216142, 216143, 216144, 216145, 216146, 216147, 216148, 216149, 216150, 216151, 216152, 216153, 216154, 216155, 216156, 216157, 216158, 216159, 216160, 216161, 216162, 216163, 216164, 216165, 216166, 216167, 216168, 216169, 216170, 216171, 216172, 216173, 216174, 216175, 216176, 216177, 216178, 216179, 216180, 216181, 216182, 216183, 216184, 216185, 216186, 216187, 216188, 216189, 216190, 216191, 216192, 216193, 216194, 216195, 216196, 216197, 216198, 216199, 216200, 216201, 216202, 216203, 216204, 216205, 216206, 216207, 216208, 216209, 216210, 216211, 216212, 216213, 216214, 216215, 216216, 216217, 216218, 216219, 216220, 216221, 216222, 216223, 216224, 216225, 216226, 216227], [216307, 216308, 216309, 216310, 216311, 216312, 216313, 216314, 216315, 216316, 216317, 216318, 216319, 216320, 216321, 216322, 216323, 216324, 216325, 216326, 216327, 216328, 216329, 216330, 216331, 216332, 216333, 216334, 216335, 216336, 216337, 216338, 216339, 216340, 216341, 216342, 216343, 216344, 216345, 216346, 216347, 216348, 216349, 216350, 216351, 216352, 216353, 216354, 216355, 216356, 216357, 216358, 216359, 216360, 216361, 216362, 216363, 216364, 216365, 216366, 216367, 216368, 216369, 216370, 216371, 216372, 216373, 216374, 216375, 216376, 216377, 216378, 216379], [216394, 216395], [216409, 216410, 216411, 216412, 216413, 216414, 216415, 216416], [216422, 216423, 216424, 216425, 216426, 216427, 216428, 216429, 216430, 216431, 216432, 216433, 216434, 216435, 216436, 216437, 216438, 216439, 216440, 216441, 216442, 216443, 216444, 216445, 216446, 216447, 216448, 216449, 216450, 216451, 216452, 216453, 216454, 216455, 216456, 216457, 216458, 216459, 216460, 216461, 216462, 216463, 216464, 216465, 216466, 216467, 216468, 216469, 216470, 216471, 216472, 216473, 216474, 216475, 216476, 216477, 216478, 216479, 216480, 216481, 216482, 216483, 216484, 216485, 216486, 216487, 216488, 216489, 216490, 216491, 216492, 216493, 216494, 216495, 216496, 216497, 216498, 216499, 216500, 216501, 216502, 216503, 216504, 216505, 216506, 216507, 216508, 216509, 216510, 216511, 216512, 216513, 216514, 216515, 216516, 216517, 216518, 216519, 216520, 216521, 216522, 216523, 216524, 216525, 216526, 216527, 216528, 216529, 216530], [216578, 216579, 216580, 216581, 216582, 216583, 216584, 216585, 216586, 216587, 216588, 216589, 216590, 216591, 216592, 216593, 216594, 216595, 216596, 216597, 216598, 216599, 216600, 216601, 216602, 216603, 216604, 216605, 216606, 216607, 216608, 216609], [216621, 216622, 216623, 216624], [216638, 216639, 216640, 216641, 216642, 216643], [216647, 216648, 216649, 216650, 216651, 216652, 216653, 216654, 216655, 216656, 216657, 216658, 216659, 216660, 216661, 216662, 216663, 216664, 216665, 216666, 216667, 216668, 216669, 216670, 216671, 216672, 216673, 216674, 216675, 216676, 216677, 216678, 216679], [218033, 218034], [218049, 218050, 218051, 218052, 218053, 218054, 218055, 218056, 218057, 218058, 218059, 218060, 218061, 218062, 218063, 218064, 218065, 218066, 218067, 218068, 218069, 218070, 218071, 218072, 218073, 218074, 218075, 218076, 218077, 218078, 218079, 218080, 218081, 218082, 218083, 218084, 218085, 218086, 218087, 218088, 218089, 218090, 218091], [218414, 218415, 218416, 218417, 218418, 218419, 218420, 218421, 218422, 218423, 218424, 218425, 218426, 218427, 218428, 218429, 218430, 218431, 218432, 218433, 218434, 218435, 218436, 218437, 218438, 218439, 218440, 218441, 218442, 218443, 218444, 218445, 218446, 218447, 218448, 218449, 218450, 218451, 218452, 218453, 218454, 218455, 218456, 218457, 218458, 218459, 218460, 218461, 218462, 218463, 218464, 218465, 218466, 218467, 218468, 218469, 218470, 218471, 218472, 218473, 218474, 218475, 218476, 218477, 218478, 218479, 218480, 218481, 218482, 218483, 218484, 218485, 218486, 218487, 218488, 218489, 218490, 218491, 218492, 218493, 218494, 218495, 218496, 218497, 218498, 218499, 218500, 218501, 218502, 218503, 218504, 218505, 218506, 218507, 218508, 218509, 218510, 218511, 218512, 218513, 218514, 218515, 218516, 218517, 218518, 218519, 218520, 218521, 218522, 218523, 218524, 218525, 218526, 218527, 218528, 218529, 218530, 218531, 218532, 218533, 218534, 218535, 218536, 218537, 218538, 218539, 218540, 218541, 218542, 218543, 218544, 218545, 218546, 218547, 218548, 218549, 218550, 218551, 218552, 218553], [218555, 218556], [218645, 218646, 218647, 218648, 218649, 218650, 218651, 218652, 218653, 218654, 218655, 218656, 218657, 218658, 218659, 218660, 218661, 218662, 218663, 218664, 218665, 218666, 218667, 218668, 218669, 218670, 218671, 218672, 218673, 218674, 218675, 218676, 218677, 218678, 218679, 218680, 218681, 218682, 218683, 218684, 218685, 218686, 218687], [218689, 218690, 218691, 218692, 218693, 218694, 218695, 218696, 218697, 218698, 218699, 218700], [218702, 218703, 218704, 218705], [218758, 218759, 218760, 218761, 218762, 218763, 218764, 218765, 218766, 218767, 218768, 218769, 218770, 218771, 218772, 218773, 218774], [218783, 218784, 218785, 218786, 218787, 218788, 218789], [218798, 218799, 218800, 218801, 218802, 218803, 218804, 218805, 218806, 218807, 218808, 218809, 218810, 218811, 218812, 218813, 218814, 218815, 218816, 218817, 218818, 218819, 218820, 218821, 218822, 218823, 218824, 218825, 218826, 218827, 218828, 218829, 218830, 218831, 218832, 218833, 218834, 218835, 218836, 218837, 218838, 218839, 218840, 218841, 218842, 218843, 218844, 218845, 218846], [218902, 218903, 218904, 218905, 218906, 218907, 218908, 218909, 218910, 218911, 218912, 218913, 218914, 218915, 218916, 218917, 218918], [218985, 218986], [219037, 219038, 219039, 219040, 219041, 219042, 219043, 219044, 219045, 219046, 219047, 219048, 219049, 219050, 219051, 219052, 219053, 219054, 219055, 219056, 219057, 219058, 219059, 219060, 219061, 219062, 219063, 219064, 219065, 219066], [219204, 219205, 219206, 219207, 219208, 219209, 219210, 219211, 219212], [219354, 219355, 219356, 219357, 219358, 219359], [219503, 219504, 219505, 219506], [222257, 222258, 222259, 222260, 222261, 222262], [222333, 222334, 222335, 222336, 222337, 222338, 222339, 222340, 222341, 222342, 222343], [222353, 222354, 222355, 222356], [222369, 222370, 222371, 222372, 222373, 222374, 222375, 222376, 222377, 222378, 222379, 222380, 222381, 222382, 222383, 222384, 222385, 222386, 222387, 222388, 222389, 222390, 222391, 222392, 222393, 222394, 222395, 222396, 222397, 222398, 222399, 222400, 222401, 222402, 222403, 222404, 222405, 222406, 222407, 222408, 222409, 222410, 222411, 222412, 222413], [222489, 222490, 222491, 222492], [222501, 222502, 222503, 222504, 222505, 222506, 222507], [222522, 222523], [223030, 223031, 223032], [223034, 223035, 223036, 223037, 223038, 223039, 223040, 223041, 223042, 223043, 223044, 223045, 223046, 223047, 223048, 223049, 223050, 223051, 223052, 223053, 223054, 223055, 223056, 223057, 223058, 223059, 223060, 223061, 223062, 223063, 223064, 223065, 223066, 223067, 223068, 223069, 223070, 223071, 223072, 223073, 223074, 223075, 223076, 223077, 223078, 223079, 223080, 223081, 223082, 223083, 223084, 223085, 223086, 223087, 223088, 223089, 223090, 223091], [225470, 225471, 225472, 225473, 225474, 225475, 225476, 225477, 225478, 225479, 225480, 225481, 225482, 225483, 225484, 225485, 225486, 225487, 225488, 225489, 225490, 225491, 225492, 225493, 225494, 225495, 225496, 225497, 225498, 225499, 225500, 225501, 225502, 225503], [225553, 225554, 225555, 225556, 225557, 225558, 225559, 225560, 225561, 225562, 225563, 225564, 225565, 225566, 225567, 225568, 225569, 225570, 225571, 225572, 225573, 225574, 225575, 225576, 225577, 225578, 225579, 225580, 225581, 225582, 225583, 225584, 225585, 225586, 225587, 225588, 225589, 225590, 225591, 225592, 225593, 225594, 225595, 225596, 225597, 225598, 225599, 225600, 225601, 225602, 225603, 225604, 225605, 225606, 225607, 225608, 225609, 225610, 225611, 225612, 225613, 225614, 225615, 225616, 225617, 225618, 225619, 225620, 225621, 225622, 225623, 225624, 225625, 225626, 225627, 225628, 225629, 225630, 225631, 225632, 225633, 225634, 225635, 225636, 225637, 225638, 225639, 225640, 225641, 225642, 225643, 225644, 225645, 225646, 225647, 225648, 225649, 225650, 225651, 225652, 225653, 225654, 225655, 225656, 225657, 225658, 225659, 225660, 225661, 225662, 225663, 225664, 225665, 225666, 225667, 225668, 225669, 225670, 225671, 225672, 225673, 225674, 225675, 225676, 225677, 225678, 225679, 225680, 225681, 225682, 225683, 225684, 225685, 225686, 225687, 225688, 225689, 225690, 225691, 225692, 225693, 225694, 225695, 225696, 225697, 225698, 225699, 225700, 225701, 225702, 225703, 225704, 225705, 225706, 225707, 225708, 225709, 225710, 225711, 225712, 225713, 225714, 225715, 225716, 225717, 225718, 225719, 225720, 225721, 225722, 225723, 225724, 225725, 225726, 225727, 225728, 225729, 225730, 225731], [225759, 225760, 225761, 225762, 225763, 225764, 225765, 225766, 225767, 225768, 225769, 225770, 225771, 225772, 225773, 225774, 225775, 225776, 225777, 225778, 225779, 225780, 225781, 225782, 225783, 225784, 225785, 225786, 225787, 225788, 225789, 225790, 225791, 225792, 225793, 225794, 225795, 225796, 225797, 225798, 225799, 225800, 225801, 225802, 225803, 225804, 225805, 225806, 225807, 225808, 225809, 225810, 225811, 225812, 225813, 225814, 225815, 225816, 225817, 225818, 225819, 225820, 225821, 225822, 225823, 225824, 225825, 225826, 225827, 225828, 225829, 225830, 225831, 225832, 225833, 225834, 225835, 225836, 225837, 225838, 225839, 225840, 225841, 225842, 225843, 225844, 225845, 225846, 225847, 225848, 225849, 225850, 225851, 225852, 225853, 225854, 225855, 225856, 225857, 225858, 225859, 225860, 225861, 225862, 225863, 225864, 225865, 225866, 225867, 225868, 225869, 225870, 225871, 225872, 225873, 225874, 225875, 225876, 225877, 225878, 225879, 225880, 225881, 225882, 225883, 225884, 225885, 225886, 225887, 225888, 225889, 225890, 225891, 225892, 225893, 225894, 225895, 225896, 225897, 225898, 225899, 225900, 225901, 225902, 225903, 225904, 225905, 225906, 225907, 225908, 225909, 225910, 225911, 225912, 225913, 225914, 225915, 225916, 225917, 225918, 225919, 225920, 225921, 225922, 225923, 225924, 225925, 225926, 225927, 225928, 225929, 225930, 225931, 225932, 225933, 225934, 225935, 225936, 225937, 225938, 225939, 225940, 225941, 225942, 225943, 225944, 225945, 225946, 225947, 225948, 225949, 225950, 225951, 225952, 225953, 225954, 225955, 225956, 225957, 225958, 225959, 225960, 225961, 225962, 225963, 225964, 225965, 225966, 225967, 225968, 225969, 225970, 225971, 225972, 225973, 225974, 225975, 225976, 225977, 225978, 225979, 225980, 225981, 225982, 225983, 225984, 225985, 225986, 225987, 225988, 225989, 225990, 225991, 225992, 225993, 225994, 225995, 225996, 225997, 225998, 225999, 226000, 226001, 226002, 226003, 226004, 226005, 226006, 226007, 226008, 226009, 226010, 226011, 226012, 226013, 226014, 226015, 226016, 226017, 226018, 226019, 226020, 226021, 226022, 226023, 226024, 226025, 226026, 226027, 226028, 226029, 226030, 226031, 226032, 226033, 226034, 226035, 226036, 226037, 226038, 226039, 226040, 226041, 226042, 226043, 226044, 226045, 226046, 226047, 226048, 226049, 226050, 226051, 226052, 226053, 226054, 226055, 226056, 226057, 226058, 226059, 226060, 226061, 226062, 226063, 226064, 226065, 226066, 226067, 226068, 226069, 226070, 226071, 226072, 226073, 226074, 226075, 226076, 226077, 226078, 226079, 226080, 226081, 226082, 226083, 226084, 226085, 226086, 226087, 226088, 226089, 226090, 226091, 226092, 226093, 226094, 226095, 226096, 226097, 226098, 226099, 226100, 226101, 226102, 226103, 226104, 226105, 226106, 226107, 226108, 226109, 226110, 226111, 226112, 226113, 226114, 226115, 226116, 226117, 226118, 226119, 226120, 226121, 226122, 226123, 226124, 226125, 226126, 226127, 226128, 226129, 226130, 226131, 226132, 226133, 226134, 226135, 226136, 226137, 226138, 226139, 226140, 226141, 226142, 226143, 226144, 226145, 226146, 226147, 226148, 226149, 226150, 226151, 226152, 226153, 226154, 226155, 226156, 226157, 226158, 226159, 226160, 226161, 226162, 226163, 226164, 226165, 226166, 226167, 226168, 226169, 226170, 226171, 226172, 226173, 226174, 226175, 226176, 226177, 226178, 226179, 226180, 226181, 226182, 226183, 226184, 226185, 226186, 226187, 226188, 226189, 226190, 226191, 226192, 226193, 226194, 226195, 226196, 226197, 226198, 226199, 226200, 226201, 226202, 226203, 226204, 226205, 226206, 226207, 226208, 226209, 226210, 226211, 226212, 226213, 226214, 226215, 226216, 226217, 226218, 226219, 226220, 226221, 226222, 226223, 226224, 226225, 226226, 226227, 226228, 226229, 226230, 226231, 226232, 226233, 226234, 226235, 226236, 226237, 226238, 226239, 226240, 226241, 226242, 226243, 226244, 226245, 226246, 226247, 226248, 226249, 226250, 226251, 226252, 226253, 226254, 226255, 226256, 226257, 226258, 226259, 226260, 226261, 226262, 226263, 226264, 226265, 226266, 226267, 226268, 226269, 226270, 226271, 226272, 226273, 226274, 226275, 226276, 226277, 226278, 226279, 226280, 226281, 226282, 226283, 226284, 226285, 226286, 226287, 226288, 226289, 226290, 226291, 226292, 226293, 226294, 226295, 226296, 226297, 226298, 226299, 226300, 226301, 226302, 226303, 226304, 226305, 226306, 226307, 226308, 226309, 226310, 226311, 226312, 226313, 226314, 226315, 226316, 226317, 226318, 226319, 226320, 226321, 226322, 226323, 226324, 226325, 226326, 226327, 226328], [226419, 226420, 226421, 226422, 226423, 226424, 226425, 226426, 226427, 226428, 226429, 226430, 226431, 226432, 226433, 226434, 226435, 226436, 226437, 226438, 226439, 226440, 226441, 226442, 226443, 226444, 226445, 226446, 226447, 226448, 226449, 226450, 226451, 226452, 226453, 226454, 226455, 226456, 226457, 226458, 226459, 226460, 226461, 226462, 226463, 226464, 226465, 226466, 226467, 226468, 226469, 226470, 226471, 226472, 226473, 226474, 226475, 226476, 226477, 226478, 226479, 226480, 226481, 226482, 226483, 226484, 226485, 226486, 226487, 226488, 226489, 226490, 226491, 226492, 226493, 226494, 226495, 226496, 226497, 226498, 226499, 226500, 226501, 226502, 226503, 226504, 226505, 226506, 226507, 226508, 226509, 226510, 226511, 226512, 226513, 226514, 226515, 226516, 226517, 226518, 226519, 226520, 226521, 226522, 226523, 226524, 226525, 226526, 226527, 226528, 226529, 226530, 226531, 226532, 226533, 226534, 226535, 226536, 226537, 226538, 226539, 226540, 226541, 226542, 226543, 226544, 226545, 226546, 226547, 226548, 226549, 226550, 226551, 226552, 226553, 226554, 226555, 226556, 226557, 226558, 226559, 226560, 226561, 226562, 226563, 226564, 226565, 226566, 226567, 226568, 226569, 226570, 226571, 226572, 226573, 226574, 226575, 226576, 226577, 226578, 226579, 226580, 226581, 226582, 226583, 226584, 226585, 226586, 226587, 226588, 226589, 226590, 226591, 226592, 226593, 226594, 226595, 226596, 226597, 226598, 226599, 226600, 226601, 226602, 226603, 226604, 226605, 226606, 226607, 226608, 226609, 226610, 226611, 226612, 226613, 226614, 226615, 226616, 226617, 226618, 226619, 226620, 226621, 226622, 226623, 226624, 226625, 226626, 226627, 226628, 226629], [226682, 226683, 226684, 226685, 226686, 226687, 226688, 226689, 226690, 226691, 226692, 226693, 226694, 226695, 226696, 226697, 226698, 226699, 226700, 226701, 226702, 226703, 226704, 226705, 226706, 226707, 226708, 226709, 226710, 226711, 226712, 226713, 226714, 226715, 226716, 226717, 226718, 226719, 226720, 226721, 226722, 226723, 226724, 226725, 226726, 226727, 226728, 226729, 226730, 226731, 226732, 226733, 226734, 226735, 226736, 226737, 226738, 226739, 226740, 226741, 226742, 226743, 226744, 226745, 226746, 226747, 226748, 226749, 226750, 226751, 226752, 226753, 226754, 226755, 226756, 226757, 226758, 226759, 226760, 226761, 226762, 226763, 226764, 226765, 226766, 226767, 226768, 226769, 226770, 226771, 226772, 226773, 226774, 226775, 226776, 226777, 226778, 226779, 226780, 226781, 226782, 226783, 226784, 226785, 226786, 226787, 226788, 226789, 226790, 226791, 226792, 226793, 226794, 226795, 226796, 226797, 226798, 226799, 226800, 226801, 226802, 226803, 226804, 226805, 226806, 226807, 226808, 226809, 226810, 226811, 226812, 226813, 226814, 226815, 226816, 226817, 226818, 226819, 226820, 226821, 226822, 226823, 226824, 226825, 226826, 226827, 226828, 226829, 226830, 226831, 226832, 226833, 226834, 226835, 226836, 226837, 226838, 226839, 226840, 226841, 226842, 226843, 226844, 226845, 226846, 226847, 226848, 226849, 226850, 226851, 226852, 226853, 226854, 226855, 226856, 226857, 226858, 226859, 226860, 226861, 226862, 226863, 226864, 226865, 226866, 226867, 226868, 226869, 226870, 226871, 226872, 226873, 226874, 226875, 226876, 226877, 226878, 226879, 226880, 226881, 226882, 226883, 226884, 226885, 226886, 226887, 226888, 226889, 226890, 226891, 226892, 226893, 226894, 226895, 226896, 226897, 226898, 226899, 226900], [235354, 235355, 235356, 235357, 235358, 235359, 235360, 235361, 235362, 235363, 235364, 235365, 235366, 235367, 235368, 235369, 235370, 235371, 235372, 235373, 235374, 235375, 235376, 235377, 235378, 235379, 235380, 235381, 235382, 235383, 235384, 235385, 235386, 235387, 235388, 235389, 235390, 235391, 235392, 235393, 235394, 235395, 235396, 235397, 235398, 235399, 235400, 235401, 235402, 235403, 235404, 235405, 235406, 235407, 235408, 235409, 235410, 235411, 235412, 235413, 235414, 235415, 235416, 235417, 235418, 235419, 235420, 235421, 235422, 235423, 235424, 235425, 235426, 235427, 235428, 235429, 235430, 235431, 235432, 235433, 235434, 235435, 235436, 235437, 235438, 235439, 235440, 235441, 235442, 235443, 235444, 235445, 235446, 235447, 235448, 235449, 235450, 235451, 235452, 235453, 235454, 235455, 235456, 235457, 235458, 235459, 235460, 235461, 235462, 235463, 235464, 235465, 235466, 235467, 235468, 235469, 235470, 235471, 235472, 235473, 235474, 235475, 235476, 235477, 235478, 235479, 235480, 235481, 235482, 235483, 235484, 235485, 235486, 235487, 235488, 235489, 235490, 235491, 235492, 235493, 235494, 235495, 235496, 235497, 235498, 235499, 235500, 235501, 235502, 235503, 235504, 235505, 235506, 235507, 235508, 235509, 235510, 235511, 235512, 235513, 235514, 235515, 235516, 235517, 235518, 235519, 235520, 235521, 235522, 235523, 235524, 235525, 235526, 235527, 235528, 235529, 235530, 235531, 235532, 235533, 235534, 235535, 235536, 235537, 235538, 235539, 235540, 235541, 235542, 235543, 235544, 235545, 235546, 235547, 235548, 235549, 235550, 235551, 235552, 235553, 235554, 235555, 235556, 235557, 235558, 235559, 235560, 235561, 235562, 235563, 235564, 235565, 235566, 235567, 235568, 235569, 235570, 235571, 235572, 235573, 235574, 235575, 235576, 235577, 235578, 235579, 235580, 235581, 235582, 235583, 235584, 235585, 235586, 235587, 235588, 235589, 235590, 235591, 235592, 235593, 235594, 235595, 235596, 235597, 235598, 235599, 235600, 235601, 235602, 235603, 235604, 235605, 235606, 235607, 235608], [235612, 235613, 235614, 235615, 235616, 235617, 235618, 235619, 235620, 235621, 235622, 235623, 235624, 235625, 235626, 235627, 235628, 235629, 235630, 235631, 235632, 235633, 235634, 235635, 235636, 235637, 235638, 235639, 235640, 235641, 235642, 235643, 235644, 235645, 235646, 235647, 235648, 235649, 235650, 235651, 235652, 235653, 235654, 235655, 235656, 235657, 235658, 235659, 235660, 235661, 235662, 235663, 235664, 235665, 235666, 235667, 235668, 235669, 235670, 235671, 235672, 235673, 235674, 235675, 235676, 235677, 235678, 235679, 235680, 235681, 235682, 235683, 235684, 235685, 235686, 235687, 235688, 235689, 235690, 235691, 235692, 235693, 235694, 235695, 235696, 235697, 235698, 235699, 235700, 235701, 235702, 235703, 235704, 235705, 235706, 235707, 235708, 235709, 235710, 235711, 235712, 235713, 235714, 235715, 235716], [235751, 235752, 235753, 235754, 235755, 235756, 235757, 235758], [235788, 235789, 235790, 235791, 235792, 235793, 235794, 235795, 235796, 235797, 235798, 235799, 235800, 235801, 235802, 235803, 235804, 235805, 235806, 235807, 235808, 235809, 235810, 235811, 235812, 235813, 235814, 235815, 235816, 235817, 235818, 235819, 235820, 235821, 235822, 235823, 235824, 235825, 235826, 235827, 235828, 235829, 235830, 235831, 235832, 235833, 235834, 235835, 235836, 235837, 235838, 235839, 235840, 235841, 235842, 235843, 235844, 235845, 235846, 235847, 235848, 235849, 235850, 235851, 235852, 235853, 235854, 235855, 235856, 235857, 235858, 235859, 235860, 235861, 235862, 235863, 235864, 235865, 235866, 235867, 235868, 235869, 235870, 235871, 235872, 235873, 235874, 235875, 235876, 235877, 235878, 235879, 235880, 235881, 235882, 235883, 235884, 235885, 235886, 235887, 235888, 235889, 235890, 235891, 235892, 235893, 235894, 235895, 235896, 235897, 235898, 235899, 235900, 235901, 235902, 235903, 235904, 235905], [237249, 237250, 237251, 237252, 237253, 237254, 237255], [237258, 237259, 237260, 237261, 237262, 237263, 237264, 237265, 237266, 237267, 237268, 237269, 237270, 237271, 237272, 237273, 237274, 237275, 237276, 237277, 237278, 237279, 237280, 237281, 237282, 237283, 237284, 237285, 237286, 237287, 237288, 237289, 237290, 237291, 237292, 237293, 237294, 237295, 237296, 237297, 237298, 237299, 237300, 237301, 237302, 237303, 237304, 237305, 237306, 237307, 237308, 237309, 237310, 237311, 237312, 237313, 237314, 237315, 237316, 237317, 237318, 237319, 237320, 237321, 237322, 237323], [237331, 237332, 237333, 237334, 237335, 237336, 237337, 237338, 237339, 237340, 237341, 237342, 237343], [237346, 237347, 237348, 237349, 237350, 237351, 237352, 237353, 237354, 237355, 237356, 237357, 237358, 237359, 237360, 237361, 237362, 237363, 237364, 237365, 237366, 237367, 237368, 237369, 237370, 237371, 237372, 237373, 237374, 237375, 237376, 237377, 237378, 237379, 237380, 237381, 237382, 237383, 237384, 237385, 237386, 237387, 237388, 237389, 237390, 237391, 237392, 237393, 237394, 237395, 237396, 237397, 237398, 237399, 237400, 237401, 237402, 237403, 237404, 237405, 237406, 237407, 237408, 237409, 237410, 237411, 237412, 237413, 237414, 237415, 237416, 237417, 237418, 237419, 237420, 237421, 237422, 237423, 237424, 237425, 237426, 237427, 237428, 237429, 237430, 237431, 237432, 237433, 237434, 237435, 237436, 237437, 237438, 237439, 237440, 237441, 237442, 237443, 237444, 237445, 237446, 237447, 237448, 237449, 237450, 237451, 237452, 237453, 237454, 237455, 237456, 237457, 237458, 237459, 237460, 237461, 237462, 237463, 237464, 237465, 237466, 237467, 237468, 237469, 237470, 237471, 237472, 237473, 237474, 237475, 237476, 237477, 237478, 237479, 237480, 237481, 237482, 237483, 237484, 237485, 237486, 237487, 237488, 237489, 237490, 237491, 237492, 237493, 237494, 237495, 237496, 237497, 237498, 237499, 237500, 237501, 237502, 237503, 237504, 237505, 237506, 237507, 237508, 237509, 237510, 237511, 237512, 237513, 237514, 237515, 237516, 237517, 237518, 237519, 237520, 237521, 237522, 237523, 237524, 237525, 237526, 237527, 237528, 237529, 237530, 237531, 237532, 237533, 237534, 237535, 237536, 237537, 237538, 237539, 237540, 237541, 237542, 237543, 237544, 237545, 237546, 237547, 237548, 237549, 237550, 237551, 237552, 237553, 237554, 237555, 237556, 237557, 237558, 237559, 237560, 237561, 237562, 237563, 237564, 237565, 237566, 237567, 237568, 237569, 237570, 237571, 237572, 237573, 237574, 237575, 237576, 237577, 237578, 237579, 237580, 237581, 237582, 237583, 237584, 237585, 237586, 237587, 237588, 237589, 237590, 237591, 237592, 237593, 237594, 237595, 237596, 237597, 237598, 237599, 237600, 237601, 237602, 237603, 237604, 237605, 237606, 237607, 237608, 237609, 237610, 237611, 237612, 237613, 237614, 237615, 237616, 237617, 237618, 237619, 237620, 237621, 237622, 237623, 237624, 237625, 237626, 237627, 237628, 237629, 237630, 237631, 237632, 237633, 237634, 237635, 237636, 237637, 237638, 237639, 237640, 237641, 237642, 237643, 237644, 237645, 237646, 237647, 237648, 237649, 237650, 237651, 237652, 237653, 237654, 237655, 237656, 237657, 237658, 237659, 237660, 237661, 237662, 237663, 237664, 237665, 237666, 237667, 237668, 237669, 237670, 237671, 237672, 237673, 237674, 237675, 237676, 237677, 237678, 237679, 237680, 237681, 237682, 237683, 237684, 237685, 237686, 237687, 237688, 237689, 237690, 237691, 237692, 237693, 237694, 237695, 237696, 237697, 237698, 237699, 237700, 237701, 237702, 237703, 237704, 237705, 237706, 237707, 237708, 237709, 237710, 237711, 237712, 237713, 237714, 237715, 237716, 237717, 237718, 237719, 237720, 237721, 237722, 237723, 237724, 237725, 237726, 237727, 237728, 237729, 237730, 237731, 237732, 237733, 237734, 237735, 237736, 237737, 237738, 237739, 237740, 237741, 237742, 237743, 237744, 237745, 237746, 237747, 237748, 237749, 237750, 237751, 237752, 237753, 237754, 237755, 237756, 237757, 237758, 237759, 237760, 237761, 237762, 237763, 237764, 237765, 237766, 237767, 237768, 237769, 237770, 237771, 237772, 237773, 237774, 237775, 237776, 237777, 237778, 237779, 237780], [237789, 237790, 237791, 237792, 237793, 237794, 237795, 237796, 237797], [237804, 237805, 237806, 237807, 237808, 237809, 237810, 237811, 237812, 237813, 237814, 237815, 237816, 237817, 237818, 237819, 237820, 237821, 237822, 237823, 237824, 237825, 237826, 237827, 237828, 237829, 237830, 237831, 237832, 237833, 237834, 237835, 237836, 237837, 237838, 237839, 237840, 237841, 237842, 237843, 237844, 237845, 237846, 237847, 237848, 237849, 237850, 237851, 237852, 237853, 237854, 237855, 237856, 237857, 237858, 237859, 237860, 237861, 237862, 237863, 237864, 237865, 237866, 237867, 237868, 237869, 237870, 237871, 237872, 237873, 237874, 237875, 237876, 237877, 237878, 237879, 237880, 237881, 237882, 237883, 237884, 237885, 237886, 237887, 237888, 237889, 237890, 237891, 237892, 237893, 237894, 237895, 237896, 237897, 237898, 237899, 237900, 237901, 237902, 237903, 237904, 237905, 237906, 237907, 237908, 237909, 237910, 237911, 237912, 237913, 237914, 237915, 237916, 237917, 237918, 237919, 237920, 237921, 237922, 237923, 237924, 237925, 237926], [237974, 237975, 237976, 237977], [237986, 237987, 237988, 237989, 237990, 237991, 237992, 237993, 237994, 237995, 237996, 237997, 237998, 237999, 238000, 238001, 238002], [238046, 238047, 238048, 238049], [238052, 238053, 238054, 238055, 238056, 238057], [238059, 238060, 238061, 238062, 238063, 238064, 238065, 238066, 238067, 238068, 238069, 238070, 238071, 238072, 238073, 238074], [239229, 239230, 239231, 239232, 239233, 239234, 239235, 239236, 239237, 239238, 239239, 239240, 239241, 239242, 239243, 239244, 239245, 239246, 239247, 239248, 239249, 239250, 239251, 239252, 239253, 239254, 239255, 239256, 239257, 239258, 239259, 239260, 239261, 239262, 239263, 239264, 239265, 239266, 239267, 239268, 239269, 239270, 239271, 239272, 239273, 239274, 239275, 239276, 239277, 239278, 239279, 239280], [239282, 239283], [239371, 239372, 239373, 239374, 239375, 239376, 239377, 239378, 239379, 239380, 239381, 239382, 239383, 239384, 239385, 239386, 239387], [239397, 239398, 239399], [239523, 239524, 239525, 239526, 239527], [239539, 239540], [239546, 239547], [240016, 240017, 240018, 240019, 240020, 240021], [252072, 252073, 252074, 252075, 252076, 252077, 252078, 252079, 252080, 252081, 252082, 252083, 252084, 252085, 252086, 252087, 252088, 252089, 252090], [252092, 252093, 252094, 252095, 252096, 252097, 252098, 252099, 252100, 252101, 252102, 252103], [252209, 252210, 252211, 252212], [252216, 252217, 252218, 252219, 252220, 252221, 252222, 252223, 252224, 252225, 252226, 252227, 252228, 252229, 252230, 252231, 252232, 252233, 252234, 252235, 252236, 252237, 252238, 252239, 252240, 252241, 252242], [252245, 252246, 252247, 252248, 252249, 252250, 252251, 252252, 252253, 252254, 252255, 252256], [252303, 252304, 252305, 252306, 252307, 252308, 252309, 252310, 252311, 252312, 252313, 252314, 252315, 252316, 252317, 252318, 252319, 252320, 252321, 252322, 252323, 252324], [252384, 252385, 252386, 252387, 252388, 252389, 252390], [252459, 252460, 252461, 252462, 252463, 252464], [252466, 252467, 252468, 252469, 252470, 252471], [252759, 252760, 252761, 252762, 252763, 252764, 252765, 252766], [254013, 254014, 254015], [254024, 254025, 254026], [254085, 254086, 254087, 254088, 254089, 254090, 254091, 254092, 254093, 254094, 254095, 254096, 254097, 254098, 254099, 254100, 254101, 254102, 254103, 254104, 254105, 254106, 254107, 254108, 254109, 254110, 254111, 254112, 254113, 254114, 254115, 254116, 254117, 254118, 254119, 254120, 254121, 254122, 254123, 254124, 254125, 254126, 254127, 254128, 254129, 254130, 254131, 254132, 254133, 254134, 254135, 254136, 254137, 254138, 254139, 254140, 254141, 254142, 254143, 254144, 254145, 254146, 254147, 254148, 254149, 254150, 254151, 254152, 254153, 254154, 254155, 254156, 254157, 254158, 254159, 254160, 254161, 254162, 254163, 254164, 254165, 254166, 254167, 254168, 254169, 254170, 254171, 254172, 254173, 254174, 254175, 254176, 254177, 254178, 254179, 254180, 254181], [254257, 254258, 254259, 254260, 254261, 254262, 254263, 254264, 254265, 254266, 254267, 254268, 254269, 254270, 254271, 254272, 254273, 254274, 254275, 254276, 254277, 254278, 254279, 254280, 254281, 254282, 254283, 254284, 254285, 254286, 254287, 254288, 254289, 254290, 254291, 254292, 254293, 254294, 254295, 254296, 254297, 254298, 254299, 254300, 254301, 254302, 254303, 254304, 254305, 254306, 254307, 254308, 254309, 254310, 254311, 254312, 254313, 254314, 254315, 254316, 254317, 254318, 254319, 254320, 254321, 254322, 254323, 254324, 254325, 254326, 254327, 254328, 254329, 254330, 254331, 254332, 254333, 254334], [254366, 254367], [254381, 254382, 254383, 254384, 254385, 254386], [254390, 254391, 254392, 254393, 254394, 254395, 254396, 254397, 254398, 254399, 254400, 254401, 254402, 254403, 254404, 254405, 254406, 254407, 254408, 254409, 254410, 254411, 254412, 254413, 254414, 254415, 254416, 254417, 254418, 254419, 254420, 254421, 254422, 254423, 254424, 254425, 254426, 254427, 254428, 254429, 254430, 254431, 254432, 254433, 254434, 254435, 254436, 254437, 254438, 254439, 254440, 254441, 254442, 254443, 254444, 254445, 254446, 254447, 254448, 254449, 254450, 254451, 254452, 254453, 254454, 254455, 254456, 254457, 254458, 254459, 254460, 254461, 254462, 254463, 254464, 254465, 254466, 254467, 254468, 254469, 254470, 254471, 254472, 254473, 254474, 254475, 254476, 254477, 254478, 254479, 254480, 254481, 254482, 254483, 254484], [254535, 254536], [254544, 254545, 254546, 254547, 254548, 254549, 254550, 254551, 254552, 254553, 254554, 254555, 254556, 254557, 254558, 254559, 254560, 254561, 254562], [258309, 258310, 258311, 258312, 258313, 258314, 258315, 258316], [258318, 258319, 258320, 258321, 258322, 258323, 258324, 258325, 258326, 258327, 258328, 258329, 258330, 258331, 258332, 258333, 258334, 258335, 258336, 258337, 258338, 258339, 258340, 258341, 258342, 258343, 258344, 258345, 258346, 258347, 258348, 258349, 258350, 258351, 258352, 258353, 258354, 258355], [260389, 260390, 260391, 260392, 260393, 260394], [260399, 260400, 260401, 260402, 260403, 260404, 260405, 260406, 260407, 260408, 260409, 260410, 260411, 260412, 260413, 260414, 260415, 260416, 260417, 260418, 260419, 260420, 260421, 260422, 260423, 260424, 260425, 260426, 260427, 260428, 260429, 260430, 260431, 260432, 260433, 260434, 260435], [260550, 260551, 260552, 260553, 260554, 260555, 260556, 260557, 260558], [260566, 260567, 260568, 260569, 260570, 260571, 260572, 260573], [260581, 260582, 260583, 260584, 260585, 260586, 260587, 260588, 260589, 260590, 260591, 260592], [260594, 260595, 260596, 260597], [260738, 260739, 260740], [260748, 260749, 260750, 260751, 260752, 260753], [260755, 260756, 260757], [260766, 260767, 260768, 260769, 260770, 260771, 260772, 260773, 260774, 260775, 260776, 260777, 260778, 260779, 260780, 260781, 260782, 260783, 260784, 260785, 260786, 260787, 260788, 260789, 260790, 260791, 260792, 260793, 260794, 260795, 260796, 260797, 260798, 260799, 260800, 260801, 260802, 260803, 260804, 260805, 260806, 260807, 260808, 260809, 260810, 260811, 260812, 260813, 260814, 260815, 260816, 260817, 260818, 260819], [260867, 260868, 260869, 260870, 260871, 260872], [260884, 260885, 260886, 260887, 260888, 260889, 260890, 260891, 260892, 260893, 260894, 260895], [262547, 262548], [262560, 262561, 262562], [262564, 262565], [262580, 262581, 262582, 262583, 262584, 262585, 262586, 262587, 262588, 262589, 262590, 262591, 262592, 262593, 262594, 262595, 262596, 262597, 262598, 262599, 262600, 262601, 262602, 262603, 262604, 262605, 262606, 262607], [262833, 262834, 262835], [262837, 262838, 262839, 262840, 262841, 262842, 262843, 262844, 262845, 262846, 262847, 262848, 262849, 262850, 262851, 262852, 262853, 262854, 262855, 262856, 262857, 262858, 262859, 262860, 262861, 262862, 262863, 262864, 262865, 262866, 262867, 262868, 262869, 262870, 262871, 262872, 262873, 262874, 262875, 262876, 262877, 262878, 262879, 262880, 262881, 262882, 262883, 262884, 262885, 262886, 262887, 262888, 262889, 262890, 262891, 262892, 262893, 262894, 262895, 262896, 262897, 262898, 262899, 262900, 262901, 262902, 262903, 262904, 262905, 262906, 262907, 262908, 262909, 262910, 262911, 262912, 262913, 262914, 262915, 262916], [262974, 262975, 262976], [262978, 262979, 262980, 262981, 262982, 262983, 262984], [263328, 263329, 263330, 263331, 263332, 263333, 263334, 263335, 263336, 263337, 263338], [263344, 263345, 263346, 263347, 263348, 263349, 263350, 263351, 263352], [264043, 264044, 264045, 264046, 264047, 264048, 264049, 264050, 264051, 264052, 264053, 264054, 264055, 264056, 264057, 264058, 264059, 264060, 264061, 264062, 264063, 264064, 264065, 264066, 264067, 264068, 264069, 264070, 264071, 264072, 264073, 264074, 264075, 264076, 264077, 264078, 264079, 264080, 264081, 264082, 264083, 264084, 264085, 264086, 264087, 264088], [264223, 264224, 264225, 264226, 264227, 264228, 264229, 264230, 264231, 264232, 264233, 264234, 264235], [264343, 264344], [264353, 264354, 264355, 264356, 264357], [264360, 264361, 264362, 264363, 264364], [264368, 264369, 264370, 264371, 264372, 264373, 264374, 264375, 264376, 264377, 264378, 264379, 264380, 264381, 264382, 264383, 264384, 264385, 264386, 264387], [264414, 264415, 264416, 264417, 264418], [264428, 264429, 264430, 264431, 264432, 264433, 264434, 264435, 264436, 264437, 264438, 264439, 264440, 264441, 264442, 264443, 264444, 264445, 264446, 264447, 264448, 264449, 264450, 264451, 264452, 264453, 264454, 264455], [264457, 264458, 264459, 264460, 264461, 264462, 264463, 264464, 264465, 264466, 264467, 264468, 264469, 264470, 264471, 264472, 264473, 264474, 264475, 264476, 264477, 264478, 264479, 264480, 264481, 264482, 264483, 264484, 264485, 264486, 264487, 264488, 264489, 264490, 264491, 264492, 264493, 264494, 264495, 264496, 264497, 264498, 264499, 264500, 264501, 264502, 264503, 264504, 264505, 264506, 264507, 264508, 264509, 264510, 264511, 264512, 264513, 264514, 264515, 264516, 264517, 264518, 264519, 264520, 264521, 264522, 264523, 264524, 264525, 264526, 264527, 264528, 264529, 264530, 264531, 264532, 264533, 264534, 264535, 264536, 264537, 264538, 264539, 264540, 264541, 264542, 264543, 264544, 264545, 264546, 264547, 264548, 264549, 264550, 264551, 264552, 264553, 264554, 264555, 264556, 264557, 264558, 264559, 264560, 264561, 264562, 264563, 264564, 264565, 264566, 264567, 264568, 264569, 264570, 264571, 264572, 264573, 264574, 264575, 264576, 264577, 264578, 264579, 264580, 264581, 264582, 264583, 264584, 264585, 264586, 264587, 264588, 264589, 264590, 264591, 264592, 264593, 264594, 264595, 264596, 264597, 264598, 264599, 264600, 264601, 264602, 264603, 264604, 264605, 264606, 264607, 264608, 264609, 264610, 264611, 264612, 264613, 264614, 264615, 264616, 264617, 264618, 264619, 264620, 264621, 264622, 264623, 264624, 264625, 264626, 264627, 264628, 264629, 264630, 264631, 264632, 264633, 264634, 264635, 264636, 264637, 264638, 264639, 264640, 264641, 264642, 264643, 264644, 264645, 264646, 264647, 264648, 264649, 264650, 264651, 264652, 264653, 264654, 264655, 264656, 264657, 264658, 264659, 264660, 264661, 264662, 264663, 264664, 264665, 264666, 264667, 264668, 264669, 264670, 264671, 264672, 264673, 264674, 264675, 264676, 264677, 264678, 264679, 264680, 264681, 264682, 264683, 264684, 264685, 264686, 264687, 264688, 264689, 264690, 264691, 264692, 264693, 264694, 264695, 264696, 264697, 264698, 264699, 264700, 264701, 264702, 264703, 264704, 264705, 264706, 264707, 264708, 264709, 264710, 264711, 264712, 264713, 264714, 264715, 264716, 264717, 264718, 264719, 264720, 264721, 264722, 264723, 264724, 264725, 264726, 264727, 264728, 264729, 264730, 264731, 264732, 264733, 264734, 264735, 264736, 264737, 264738, 264739, 264740, 264741, 264742, 264743, 264744, 264745, 264746, 264747, 264748, 264749, 264750, 264751, 264752, 264753, 264754, 264755, 264756, 264757, 264758, 264759, 264760, 264761, 264762, 264763, 264764, 264765, 264766, 264767, 264768, 264769, 264770, 264771, 264772, 264773, 264774, 264775, 264776, 264777, 264778, 264779, 264780, 264781, 264782, 264783, 264784, 264785, 264786, 264787, 264788, 264789, 264790, 264791, 264792, 264793, 264794, 264795, 264796, 264797, 264798, 264799, 264800, 264801, 264802, 264803, 264804, 264805, 264806, 264807, 264808, 264809, 264810, 264811, 264812, 264813, 264814, 264815, 264816, 264817, 264818, 264819, 264820, 264821, 264822, 264823, 264824, 264825, 264826, 264827, 264828, 264829, 264830, 264831, 264832, 264833, 264834, 264835, 264836, 264837, 264838, 264839, 264840, 264841, 264842, 264843, 264844, 264845, 264846, 264847, 264848, 264849, 264850, 264851, 264852, 264853, 264854, 264855, 264856, 264857, 264858, 264859, 264860, 264861, 264862, 264863, 264864, 264865, 264866, 264867, 264868, 264869, 264870, 264871, 264872, 264873, 264874, 264875, 264876, 264877, 264878, 264879, 264880, 264881, 264882, 264883, 264884, 264885, 264886, 264887, 264888, 264889, 264890, 264891, 264892, 264893, 264894, 264895, 264896, 264897, 264898, 264899, 264900, 264901, 264902, 264903, 264904, 264905, 264906, 264907, 264908, 264909, 264910, 264911, 264912, 264913, 264914, 264915, 264916, 264917, 264918, 264919, 264920, 264921, 264922, 264923, 264924, 264925, 264926, 264927, 264928, 264929, 264930, 264931, 264932, 264933, 264934, 264935, 264936, 264937, 264938, 264939, 264940, 264941, 264942, 264943, 264944, 264945, 264946, 264947, 264948, 264949, 264950, 264951, 264952, 264953, 264954, 264955, 264956, 264957, 264958, 264959], [264995, 264996, 264997, 264998, 264999, 265000, 265001, 265002, 265003, 265004, 265005, 265006, 265007, 265008, 265009, 265010, 265011], [265073, 265074, 265075, 265076, 265077, 265078, 265079, 265080, 265081, 265082, 265083, 265084, 265085], [265149, 265150], [265152, 265153], [265427, 265428, 265429, 265430, 265431, 265432, 265433, 265434, 265435, 265436, 265437, 265438], [265449, 265450, 265451], [265512, 265513, 265514, 265515, 265516, 265517, 265518, 265519, 265520, 265521, 265522, 265523, 265524, 265525, 265526, 265527, 265528], [265541, 265542, 265543, 265544], [265555, 265556, 265557, 265558, 265559, 265560, 265561, 265562, 265563, 265564, 265565, 265566, 265567, 265568, 265569, 265570, 265571, 265572, 265573, 265574, 265575, 265576, 265577, 265578, 265579, 265580, 265581, 265582, 265583, 265584, 265585, 265586], [265597, 265598, 265599, 265600], [265649, 265650, 265651, 265652, 265653], [265655, 265656, 265657, 265658, 265659, 265660, 265661, 265662, 265663, 265664, 265665, 265666, 265667, 265668, 265669, 265670, 265671, 265672, 265673, 265674, 265675, 265676, 265677, 265678], [265685, 265686, 265687, 265688, 265689, 265690, 265691, 265692, 265693, 265694, 265695, 265696, 265697, 265698, 265699, 265700, 265701, 265702, 265703, 265704, 265705, 265706, 265707, 265708, 265709, 265710, 265711, 265712, 265713, 265714, 265715, 265716, 265717, 265718, 265719, 265720, 265721, 265722, 265723, 265724, 265725, 265726, 265727, 265728, 265729, 265730], [265739, 265740, 265741, 265742, 265743, 265744, 265745, 265746], [265799, 265800, 265801], [265803, 265804, 265805, 265806, 265807, 265808, 265809, 265810, 265811, 265812, 265813, 265814, 265815, 265816, 265817, 265818, 265819, 265820, 265821, 265822, 265823, 265824, 265825, 265826, 265827, 265828, 265829, 265830, 265831, 265832, 265833, 265834, 265835, 265836, 265837, 265838, 265839, 265840, 265841, 265842, 265843, 265844, 265845, 265846, 265847, 265848, 265849, 265850, 265851, 265852, 265853, 265854, 265855, 265856, 265857, 265858, 265859, 265860, 265861, 265862, 265863, 265864, 265865, 265866, 265867, 265868, 265869, 265870, 265871, 265872, 265873], [265881, 265882, 265883, 265884, 265885, 265886, 265887, 265888, 265889, 265890, 265891, 265892], [265894, 265895, 265896, 265897], [265926, 265927, 265928, 265929, 265930, 265931, 265932, 265933, 265934, 265935, 265936, 265937, 265938, 265939, 265940, 265941, 265942, 265943, 265944, 265945, 265946, 265947, 265948, 265949, 265950, 265951, 265952, 265953, 265954, 265955, 265956, 265957, 265958, 265959, 265960, 265961, 265962, 265963, 265964, 265965, 265966, 265967, 265968, 265969, 265970, 265971, 265972, 265973, 265974, 265975, 265976, 265977, 265978, 265979, 265980, 265981, 265982, 265983, 265984, 265985, 265986, 265987, 265988, 265989, 265990, 265991, 265992, 265993, 265994, 265995, 265996, 265997, 265998, 265999, 266000, 266001, 266002, 266003, 266004, 266005, 266006, 266007, 266008, 266009, 266010, 266011, 266012, 266013, 266014, 266015, 266016, 266017, 266018, 266019, 266020, 266021, 266022, 266023, 266024, 266025, 266026, 266027, 266028, 266029, 266030, 266031, 266032, 266033, 266034, 266035, 266036, 266037, 266038, 266039, 266040, 266041, 266042, 266043, 266044, 266045, 266046, 266047, 266048, 266049, 266050, 266051, 266052, 266053, 266054, 266055, 266056, 266057, 266058, 266059, 266060, 266061, 266062, 266063, 266064, 266065, 266066, 266067, 266068, 266069, 266070, 266071, 266072, 266073, 266074, 266075, 266076, 266077, 266078, 266079, 266080, 266081, 266082, 266083, 266084, 266085, 266086, 266087, 266088, 266089, 266090, 266091, 266092, 266093, 266094, 266095, 266096, 266097, 266098, 266099, 266100, 266101, 266102, 266103, 266104, 266105, 266106, 266107, 266108, 266109, 266110, 266111, 266112, 266113, 266114, 266115, 266116, 266117, 266118, 266119, 266120, 266121, 266122, 266123, 266124, 266125, 266126, 266127, 266128, 266129, 266130, 266131, 266132, 266133, 266134, 266135, 266136, 266137, 266138, 266139, 266140, 266141, 266142, 266143, 266144, 266145, 266146, 266147, 266148, 266149, 266150, 266151, 266152, 266153, 266154, 266155, 266156, 266157, 266158, 266159, 266160, 266161, 266162], [266172, 266173, 266174, 266175, 266176, 266177, 266178, 266179, 266180, 266181], [266186, 266187, 266188, 266189, 266190, 266191, 266192, 266193, 266194, 266195, 266196, 266197, 266198, 266199, 266200, 266201, 266202, 266203, 266204, 266205, 266206, 266207, 266208, 266209, 266210, 266211, 266212, 266213, 266214, 266215, 266216, 266217, 266218, 266219, 266220, 266221, 266222, 266223, 266224, 266225, 266226, 266227, 266228, 266229, 266230, 266231, 266232, 266233, 266234, 266235, 266236, 266237, 266238, 266239, 266240, 266241, 266242, 266243, 266244, 266245, 266246, 266247, 266248, 266249, 266250, 266251, 266252, 266253, 266254, 266255, 266256, 266257, 266258, 266259, 266260, 266261, 266262, 266263, 266264, 266265, 266266, 266267, 266268, 266269, 266270, 266271, 266272, 266273, 266274, 266275, 266276, 266277, 266278, 266279, 266280, 266281, 266282, 266283, 266284, 266285, 266286, 266287, 266288, 266289, 266290, 266291, 266292, 266293, 266294, 266295, 266296, 266297, 266298, 266299, 266300, 266301, 266302, 266303, 266304, 266305, 266306], [266315, 266316, 266317, 266318, 266319, 266320, 266321, 266322, 266323], [266325, 266326, 266327, 266328, 266329, 266330, 266331, 266332, 266333, 266334, 266335, 266336, 266337, 266338, 266339, 266340, 266341, 266342, 266343, 266344, 266345, 266346, 266347, 266348, 266349, 266350, 266351, 266352, 266353, 266354, 266355, 266356, 266357, 266358, 266359, 266360, 266361, 266362, 266363, 266364, 266365, 266366, 266367, 266368, 266369, 266370, 266371, 266372, 266373, 266374, 266375, 266376, 266377, 266378, 266379, 266380, 266381, 266382, 266383, 266384, 266385, 266386, 266387, 266388, 266389, 266390, 266391, 266392, 266393, 266394, 266395, 266396, 266397, 266398, 266399, 266400, 266401, 266402, 266403, 266404, 266405, 266406, 266407, 266408, 266409, 266410, 266411, 266412, 266413, 266414, 266415, 266416, 266417, 266418, 266419, 266420, 266421, 266422, 266423, 266424, 266425, 266426, 266427, 266428, 266429, 266430, 266431, 266432, 266433, 266434, 266435, 266436, 266437, 266438, 266439, 266440, 266441, 266442, 266443, 266444, 266445, 266446, 266447, 266448], [266458, 266459, 266460, 266461, 266462, 266463, 266464, 266465], [266473, 266474, 266475, 266476, 266477, 266478, 266479, 266480, 266481, 266482, 266483, 266484, 266485, 266486, 266487, 266488, 266489, 266490, 266491, 266492, 266493, 266494, 266495, 266496, 266497, 266498, 266499, 266500, 266501, 266502, 266503, 266504, 266505, 266506, 266507, 266508, 266509, 266510, 266511, 266512, 266513, 266514, 266515, 266516, 266517, 266518, 266519, 266520, 266521, 266522, 266523, 266524, 266525, 266526, 266527, 266528, 266529, 266530, 266531, 266532, 266533, 266534, 266535, 266536, 266537, 266538, 266539, 266540, 266541, 266542, 266543, 266544, 266545, 266546, 266547, 266548, 266549, 266550, 266551, 266552, 266553, 266554, 266555, 266556, 266557, 266558, 266559, 266560, 266561, 266562, 266563, 266564, 266565, 266566, 266567, 266568, 266569, 266570, 266571, 266572, 266573, 266574, 266575, 266576, 266577, 266578, 266579, 266580, 266581, 266582, 266583, 266584, 266585, 266586, 266587, 266588, 266589, 266590], [266599, 266600, 266601, 266602, 266603, 266604, 266605, 266606, 266607, 266608], [266614, 266615, 266616, 266617, 266618, 266619, 266620, 266621, 266622, 266623, 266624, 266625, 266626, 266627, 266628, 266629, 266630, 266631, 266632, 266633, 266634, 266635, 266636, 266637, 266638, 266639, 266640, 266641, 266642, 266643, 266644, 266645, 266646, 266647, 266648, 266649, 266650, 266651, 266652, 266653], [266663, 266664, 266665, 266666, 266667, 266668, 266669, 266670], [266679, 266680, 266681, 266682, 266683, 266684, 266685, 266686, 266687], [266692, 266693, 266694, 266695, 266696, 266697, 266698, 266699, 266700, 266701, 266702, 266703, 266704, 266705, 266706, 266707, 266708, 266709, 266710, 266711, 266712, 266713, 266714, 266715, 266716, 266717, 266718, 266719, 266720, 266721, 266722, 266723, 266724, 266725, 266726, 266727, 266728, 266729, 266730], [266763, 266764, 266765, 266766, 266767, 266768, 266769, 266770, 266771, 266772, 266773, 266774, 266775, 266776, 266777, 266778, 266779, 266780, 266781, 266782, 266783, 266784, 266785, 266786, 266787, 266788, 266789, 266790, 266791, 266792, 266793, 266794, 266795, 266796, 266797, 266798], [266844, 266845, 266846, 266847, 266848, 266849, 266850, 266851, 266852, 266853, 266854, 266855, 266856, 266857, 266858, 266859, 266860, 266861, 266862, 266863, 266864, 266865, 266866, 266867, 266868, 266869, 266870, 266871, 266872, 266873, 266874], [266945, 266946], [267006, 267007, 267008, 267009, 267010, 267011, 267012, 267013, 267014, 267015, 267016, 267017, 267018, 267019, 267020], [267310, 267311], [267451, 267452, 267453], [267455, 267456], [267754, 267755, 267756, 267757, 267758], [267830, 267831, 267832, 267833, 267834, 267835, 267836], [267868, 267869, 267870], [267880, 267881, 267882, 267883, 267884, 267885, 267886, 267887, 267888, 267889, 267890], [267900, 267901, 267902, 267903, 267904, 267905, 267906, 267907], [267965, 267966, 267967], [267971, 267972, 267973, 267974, 267975, 267976, 267977, 267978, 267979, 267980, 267981, 267982, 267983, 267984, 267985, 267986, 267987, 267988, 267989, 267990, 267991, 267992], [267997, 267998, 267999, 268000, 268001, 268002, 268003, 268004, 268005, 268006, 268007, 268008, 268009, 268010, 268011, 268012, 268013, 268014, 268015, 268016, 268017, 268018, 268019, 268020, 268021, 268022, 268023, 268024, 268025, 268026, 268027, 268028, 268029, 268030, 268031, 268032, 268033, 268034, 268035, 268036, 268037, 268038, 268039, 268040, 268041, 268042, 268043, 268044, 268045, 268046, 268047, 268048, 268049, 268050, 268051, 268052, 268053, 268054, 268055, 268056, 268057, 268058, 268059, 268060, 268061, 268062], [268120, 268121, 268122, 268123, 268124, 268125, 268126, 268127, 268128, 268129, 268130, 268131, 268132, 268133, 268134, 268135, 268136, 268137, 268138, 268139, 268140, 268141, 268142, 268143, 268144, 268145, 268146, 268147, 268148, 268149, 268150, 268151, 268152, 268153, 268154, 268155, 268156, 268157, 268158, 268159, 268160, 268161, 268162, 268163, 268164, 268165, 268166, 268167, 268168, 268169, 268170, 268171, 268172, 268173, 268174, 268175, 268176, 268177], [268184, 268185, 268186, 268187, 268188, 268189, 268190, 268191, 268192, 268193, 268194], [268198, 268199, 268200, 268201, 268202, 268203, 268204, 268205, 268206, 268207, 268208, 268209, 268210, 268211, 268212, 268213], [268228, 268229, 268230], [268241, 268242, 268243, 268244, 268245, 268246, 268247, 268248, 268249, 268250, 268251, 268252, 268253, 268254, 268255, 268256, 268257, 268258, 268259, 268260, 268261, 268262, 268263, 268264, 268265, 268266, 268267, 268268, 268269, 268270, 268271, 268272, 268273, 268274, 268275, 268276, 268277, 268278, 268279, 268280, 268281, 268282, 268283, 268284, 268285, 268286, 268287, 268288, 268289, 268290, 268291, 268292, 268293, 268294, 268295, 268296, 268297, 268298, 268299, 268300, 268301, 268302, 268303, 268304, 268305, 268306, 268307, 268308, 268309, 268310, 268311, 268312, 268313, 268314, 268315, 268316, 268317, 268318, 268319, 268320, 268321, 268322, 268323, 268324, 268325, 268326, 268327, 268328, 268329, 268330, 268331, 268332, 268333, 268334, 268335, 268336, 268337, 268338, 268339, 268340, 268341, 268342, 268343, 268344, 268345, 268346, 268347, 268348, 268349, 268350, 268351, 268352, 268353, 268354, 268355, 268356, 268357, 268358, 268359, 268360, 268361, 268362, 268363, 268364, 268365, 268366, 268367, 268368], [268376, 268377, 268378, 268379, 268380, 268381, 268382, 268383, 268384, 268385, 268386, 268387, 268388, 268389, 268390, 268391, 268392, 268393, 268394, 268395, 268396, 268397, 268398, 268399, 268400, 268401, 268402, 268403, 268404, 268405, 268406, 268407, 268408, 268409, 268410, 268411, 268412, 268413, 268414, 268415, 268416, 268417, 268418, 268419, 268420, 268421, 268422, 268423, 268424, 268425, 268426, 268427, 268428, 268429, 268430, 268431, 268432, 268433, 268434, 268435, 268436, 268437, 268438, 268439, 268440, 268441, 268442, 268443, 268444, 268445, 268446, 268447, 268448, 268449, 268450, 268451, 268452, 268453, 268454, 268455, 268456, 268457, 268458, 268459, 268460, 268461, 268462, 268463, 268464, 268465, 268466, 268467, 268468, 268469], [268475, 268476, 268477, 268478, 268479, 268480, 268481, 268482, 268483, 268484, 268485, 268486, 268487, 268488, 268489, 268490, 268491, 268492, 268493, 268494, 268495, 268496, 268497, 268498, 268499, 268500, 268501, 268502, 268503, 268504, 268505, 268506, 268507, 268508, 268509, 268510, 268511, 268512, 268513, 268514, 268515, 268516, 268517, 268518, 268519, 268520], [268528, 268529, 268530, 268531, 268532, 268533, 268534, 268535, 268536, 268537, 268538, 268539, 268540, 268541, 268542, 268543, 268544, 268545, 268546, 268547, 268548, 268549, 268550, 268551, 268552, 268553, 268554, 268555, 268556, 268557, 268558, 268559, 268560, 268561, 268562, 268563, 268564, 268565, 268566, 268567, 268568, 268569, 268570, 268571, 268572, 268573, 268574, 268575, 268576, 268577, 268578, 268579, 268580, 268581, 268582, 268583, 268584, 268585, 268586, 268587, 268588, 268589, 268590, 268591, 268592, 268593, 268594, 268595, 268596, 268597, 268598], [268604, 268605, 268606, 268607, 268608, 268609], [268621, 268622, 268623, 268624, 268625, 268626], [268633, 268634, 268635, 268636, 268637, 268638, 268639, 268640, 268641, 268642, 268643, 268644, 268645, 268646, 268647, 268648, 268649, 268650, 268651, 268652, 268653, 268654, 268655, 268656, 268657, 268658, 268659, 268660, 268661, 268662, 268663, 268664, 268665, 268666, 268667, 268668, 268669], [268680, 268681, 268682, 268683, 268684, 268685, 268686, 268687], [268692, 268693, 268694, 268695, 268696, 268697, 268698, 268699, 268700, 268701, 268702, 268703, 268704, 268705, 268706, 268707, 268708, 268709, 268710, 268711, 268712, 268713, 268714, 268715, 268716, 268717, 268718, 268719, 268720, 268721, 268722, 268723, 268724, 268725, 268726, 268727, 268728, 268729, 268730, 268731, 268732, 268733, 268734, 268735, 268736, 268737, 268738, 268739, 268740, 268741, 268742, 268743], [268766, 268767, 268768, 268769, 268770, 268771], [268780, 268781, 268782], [268786, 268787, 268788, 268789, 268790, 268791, 268792, 268793, 268794, 268795, 268796, 268797, 268798, 268799, 268800, 268801, 268802, 268803, 268804, 268805, 268806, 268807, 268808, 268809, 268810, 268811, 268812, 268813, 268814, 268815, 268816], [268829, 268830, 268831, 268832, 268833], [268844, 268845, 268846, 268847, 268848, 268849, 268850, 268851, 268852], [268856, 268857, 268858, 268859, 268860, 268861, 268862, 268863, 268864, 268865, 268866, 268867, 268868, 268869, 268870, 268871, 268872, 268873, 268874, 268875, 268876, 268877, 268878, 268879, 268880, 268881, 268882, 268883, 268884, 268885, 268886, 268887, 268888, 268889, 268890], [268935, 268936, 268937, 268938, 268939], [268947, 268948, 268949, 268950, 268951, 268952, 268953, 268954, 268955, 268956, 268957, 268958, 268959, 268960, 268961, 268962, 268963, 268964], [269008, 269009, 269010, 269011, 269012, 269013, 269014, 269015, 269016, 269017, 269018, 269019, 269020, 269021, 269022, 269023, 269024, 269025, 269026, 269027, 269028, 269029, 269030, 269031, 269032, 269033, 269034, 269035, 269036], [269101, 269102], [269104, 269105, 269106, 269107], [269109, 269110, 269111], [269169, 269170, 269171, 269172, 269173, 269174, 269175, 269176, 269177, 269178, 269179, 269180, 269181, 269182], [269255, 269256, 269257, 269258, 269259], [269304, 269305, 269306, 269307, 269308, 269309, 269310, 269311, 269312, 269313, 269314, 269315, 269316, 269317, 269318, 269319, 269320, 269321, 269322, 269323, 269324, 269325, 269326, 269327, 269328, 269329], [269449, 269450], [269452, 269453, 269454, 269455, 269456, 269457, 269458, 269459, 269460, 269461, 269462, 269463], [269476, 269477], [269598, 269599, 269600, 269601, 269602, 269603, 269604, 269605, 269606, 269607, 269608, 269609, 269610, 269611, 269612, 269613, 269614, 269615, 269616, 269617], [269690, 269691, 269692, 269693, 269694, 269695, 269696, 269697, 269698, 269699, 269700, 269701, 269702], [269714, 269715, 269716, 269717], [269730, 269731, 269732, 269733, 269734, 269735, 269736], [269742, 269743, 269744, 269745, 269746, 269747, 269748, 269749, 269750, 269751, 269752, 269753, 269754, 269755, 269756, 269757, 269758, 269759, 269760, 269761], [269772, 269773], [269847, 269848, 269849, 269850], [269861, 269862, 269863, 269864, 269865, 269866], [269876, 269877, 269878, 269879, 269880, 269881, 269882, 269883, 269884, 269885, 269886, 269887, 269888, 269889, 269890, 269891, 269892, 269893, 269894, 269895, 269896, 269897, 269898, 269899, 269900, 269901, 269902, 269903, 269904], [269910, 269911, 269912, 269913, 269914, 269915, 269916, 269917, 269918, 269919, 269920], [269986, 269987, 269988, 269989, 269990, 269991, 269992, 269993, 269994, 269995, 269996, 269997], [270008, 270009, 270010, 270011, 270012, 270013, 270014], [270022, 270023, 270024, 270025, 270026, 270027, 270028, 270029, 270030, 270031, 270032, 270033, 270034, 270035, 270036, 270037, 270038, 270039, 270040, 270041, 270042, 270043, 270044, 270045, 270046, 270047, 270048, 270049, 270050, 270051, 270052, 270053, 270054, 270055, 270056, 270057, 270058, 270059, 270060, 270061, 270062, 270063, 270064, 270065, 270066, 270067, 270068, 270069], [270116, 270117, 270118, 270119, 270120, 270121, 270122, 270123, 270124, 270125, 270126, 270127, 270128, 270129, 270130, 270131, 270132, 270133, 270134, 270135, 270136, 270137, 270138, 270139, 270140, 270141, 270142, 270143, 270144, 270145, 270146, 270147, 270148, 270149, 270150, 270151, 270152, 270153, 270154, 270155, 270156, 270157, 270158, 270159, 270160, 270161, 270162, 270163, 270164, 270165, 270166, 270167, 270168, 270169, 270170, 270171, 270172, 270173, 270174, 270175, 270176, 270177, 270178, 270179, 270180, 270181, 270182, 270183, 270184, 270185, 270186, 270187, 270188, 270189, 270190, 270191, 270192, 270193, 270194, 270195, 270196, 270197, 270198, 270199, 270200, 270201, 270202, 270203, 270204, 270205, 270206, 270207, 270208, 270209, 270210, 270211, 270212, 270213, 270214, 270215, 270216, 270217, 270218, 270219], [270232, 270233, 270234, 270235, 270236, 270237, 270238, 270239, 270240, 270241, 270242, 270243, 270244, 270245, 270246, 270247, 270248, 270249, 270250, 270251, 270252, 270253, 270254, 270255, 270256, 270257, 270258, 270259, 270260, 270261, 270262, 270263, 270264, 270265, 270266, 270267, 270268, 270269, 270270, 270271, 270272, 270273, 270274, 270275, 270276, 270277, 270278, 270279, 270280, 270281, 270282, 270283, 270284, 270285, 270286, 270287, 270288, 270289, 270290, 270291, 270292, 270293, 270294, 270295, 270296, 270297, 270298, 270299, 270300, 270301, 270302, 270303, 270304, 270305, 270306, 270307, 270308, 270309, 270310, 270311, 270312, 270313, 270314, 270315, 270316, 270317, 270318, 270319, 270320, 270321, 270322, 270323, 270324, 270325, 270326, 270327, 270328, 270329, 270330, 270331, 270332, 270333, 270334, 270335, 270336, 270337, 270338, 270339, 270340, 270341, 270342, 270343, 270344, 270345, 270346], [270348, 270349, 270350, 270351, 270352, 270353, 270354, 270355, 270356, 270357, 270358, 270359, 270360, 270361, 270362, 270363, 270364, 270365, 270366, 270367, 270368, 270369, 270370], [270381, 270382, 270383, 270384, 270385, 270386], [270395, 270396, 270397, 270398, 270399, 270400, 270401, 270402, 270403, 270404, 270405, 270406, 270407, 270408, 270409, 270410, 270411, 270412, 270413, 270414, 270415, 270416, 270417, 270418, 270419, 270420, 270421, 270422, 270423, 270424, 270425, 270426, 270427, 270428, 270429, 270430, 270431, 270432, 270433, 270434, 270435, 270436, 270437, 270438, 270439, 270440, 270441, 270442, 270443, 270444, 270445, 270446, 270447, 270448, 270449, 270450, 270451, 270452, 270453, 270454, 270455, 270456, 270457, 270458, 270459, 270460, 270461, 270462, 270463, 270464, 270465, 270466, 270467, 270468, 270469, 270470, 270471, 270472, 270473, 270474, 270475, 270476, 270477, 270478, 270479, 270480, 270481, 270482], [270492, 270493, 270494, 270495, 270496, 270497, 270498, 270499, 270500], [270502, 270503, 270504], [270508, 270509, 270510, 270511, 270512, 270513, 270514, 270515, 270516, 270517, 270518, 270519], [270533, 270534, 270535, 270536, 270537], [270548, 270549, 270550, 270551, 270552, 270553, 270554, 270555, 270556, 270557, 270558, 270559, 270560, 270561, 270562, 270563, 270564, 270565, 270566, 270567, 270568, 270569, 270570, 270571, 270572, 270573, 270574, 270575, 270576, 270577, 270578, 270579, 270580, 270581, 270582, 270583, 270584, 270585, 270586, 270587, 270588, 270589, 270590, 270591, 270592, 270593, 270594, 270595, 270596, 270597, 270598, 270599, 270600, 270601, 270602, 270603, 270604, 270605, 270606, 270607, 270608, 270609, 270610, 270611, 270612, 270613, 270614, 270615, 270616, 270617, 270618, 270619, 270620, 270621, 270622, 270623], [270634, 270635, 270636, 270637, 270638, 270639, 270640, 270641], [270646, 270647, 270648, 270649, 270650, 270651, 270652, 270653, 270654, 270655, 270656, 270657, 270658, 270659, 270660, 270661, 270662, 270663, 270664, 270665], [270713, 270714], [270728, 270729, 270730, 270731, 270732, 270733, 270734, 270735, 270736, 270737, 270738, 270739, 270740, 270741, 270742, 270743, 270744, 270745, 270746, 270747, 270748, 270749, 270750, 270751, 270752, 270753, 270754, 270755, 270756, 270757, 270758, 270759, 270760, 270761, 270762, 270763, 270764, 270765, 270766, 270767, 270768, 270769], [270779, 270780, 270781, 270782, 270783, 270784, 270785], [270795, 270796, 270797, 270798, 270799, 270800, 270801, 270802, 270803, 270804, 270805, 270806, 270807, 270808, 270809, 270810, 270811, 270812, 270813, 270814, 270815, 270816, 270817, 270818, 270819, 270820, 270821, 270822, 270823], [270832, 270833, 270834, 270835, 270836, 270837, 270838, 270839, 270840, 270841], [270846, 270847, 270848, 270849, 270850, 270851, 270852, 270853, 270854, 270855, 270856, 270857, 270858], [270862, 270863, 270864, 270865, 270866, 270867, 270868, 270869, 270870, 270871, 270872, 270873, 270874, 270875, 270876, 270877, 270878, 270879, 270880, 270881, 270882, 270883, 270884, 270885, 270886, 270887, 270888, 270889, 270890, 270891, 270892, 270893, 270894, 270895, 270896, 270897, 270898, 270899], [270911, 270912, 270913], [270959, 270960, 270961, 270962, 270963, 270964, 270965, 270966, 270967, 270968, 270969, 270970, 270971], [270982, 270983, 270984, 270985, 270986, 270987, 270988, 270989, 270990, 270991, 270992, 270993, 270994, 270995, 270996, 270997, 270998, 270999, 271000, 271001, 271002, 271003, 271004, 271005, 271006, 271007, 271008, 271009, 271010, 271011, 271012, 271013, 271014, 271015, 271016, 271017, 271018, 271019, 271020, 271021, 271022, 271023, 271024, 271025, 271026, 271027, 271028, 271029, 271030, 271031, 271032, 271033, 271034, 271035, 271036, 271037, 271038, 271039, 271040, 271041, 271042, 271043, 271044, 271045, 271046], [271074, 271075, 271076, 271077, 271078, 271079, 271080, 271081, 271082, 271083], [271087, 271088, 271089, 271090, 271091, 271092, 271093, 271094, 271095, 271096, 271097, 271098, 271099, 271100, 271101, 271102, 271103, 271104, 271105, 271106, 271107, 271108, 271109, 271110, 271111, 271112, 271113, 271114, 271115, 271116, 271117, 271118, 271119], [271162, 271163], [271167, 271168, 271169], [271335, 271336], [271407, 271408, 271409, 271410, 271411, 271412, 271413, 271414, 271415], [272081, 272082, 272083, 272084], [272341, 272342, 272343, 272344, 272345, 272346, 272347, 272348, 272349], [272380, 272381, 272382, 272383, 272384, 272385], [272447, 272448, 272449, 272450, 272451, 272452, 272453, 272454, 272455, 272456, 272457, 272458, 272459, 272460, 272461, 272462, 272463, 272464, 272465, 272466], [272474, 272475, 272476, 272477, 272478, 272479, 272480, 272481, 272482, 272483, 272484], [272489, 272490, 272491], [272503, 272504, 272505, 272506, 272507], [272519, 272520, 272521, 272522, 272523, 272524], [272531, 272532, 272533, 272534, 272535, 272536], [272550, 272551, 272552, 272553, 272554, 272555, 272556, 272557, 272558, 272559, 272560, 272561], [272565, 272566, 272567, 272568, 272569, 272570, 272571, 272572, 272573, 272574, 272575, 272576, 272577, 272578, 272579, 272580, 272581, 272582, 272583, 272584, 272585, 272586, 272587, 272588, 272589, 272590, 272591, 272592, 272593, 272594, 272595, 272596, 272597, 272598, 272599, 272600, 272601, 272602, 272603, 272604, 272605, 272606, 272607, 272608, 272609, 272610, 272611, 272612, 272613, 272614, 272615, 272616, 272617, 272618, 272619], [272624, 272625, 272626, 272627, 272628, 272629, 272630, 272631], [273671, 273672, 273673, 273674, 273675, 273676, 273677, 273678, 273679, 273680, 273681, 273682, 273683, 273684, 273685, 273686, 273687, 273688, 273689, 273690, 273691, 273692, 273693, 273694, 273695, 273696, 273697, 273698, 273699, 273700, 273701, 273702, 273703, 273704, 273705, 273706, 273707, 273708, 273709, 273710, 273711, 273712, 273713, 273714, 273715, 273716, 273717, 273718, 273719, 273720, 273721, 273722, 273723, 273724, 273725, 273726, 273727, 273728, 273729, 273730, 273731, 273732, 273733, 273734, 273735, 273736, 273737, 273738, 273739, 273740, 273741, 273742, 273743, 273744, 273745, 273746, 273747, 273748, 273749, 273750, 273751, 273752, 273753, 273754, 273755, 273756, 273757, 273758, 273759, 273760, 273761, 273762, 273763, 273764, 273765, 273766, 273767, 273768, 273769, 273770, 273771, 273772, 273773, 273774, 273775, 273776, 273777, 273778, 273779]]\n"
     ]
    }
   ],
   "source": [
    "# 연속된 구간별로 분리\n",
    "\n",
    "i = 0\n",
    "temp = []\n",
    "total = []\n",
    "\n",
    "while i>=0:\n",
    "  try:\n",
    "    if index_sarima[i+2]==index_sarima[i+1]+1==index_sarima[i]+2:\n",
    "      temp.append(index_sarima[i])\n",
    "      i += 1\n",
    "    elif index_sarima[i+2]!=index_sarima[i+1]+1==index_sarima[i]+2:\n",
    "      temp.extend([index_sarima[i], index_sarima[i+1]])\n",
    "      #print(temp)\n",
    "      total.append(temp)\n",
    "      temp = []\n",
    "      i += 2\n",
    "  except:\n",
    "    break\n",
    "\n",
    "# 예외 처리\n",
    "#temp = index_sarima[-2:]\n",
    "#print(temp)\n",
    "total.append(temp)\n",
    "total[len(total)-1].append(index_sarima[-2:][0])\n",
    "total[len(total)-1].append(index_sarima[-2:][1])\n",
    "print(total)"
   ]
  },
  {
   "cell_type": "code",
   "execution_count": 326,
   "id": "163b04b7",
   "metadata": {
    "colab": {
     "base_uri": "https://localhost:8080/"
    },
    "executionInfo": {
     "elapsed": 292,
     "status": "ok",
     "timestamp": 1660743862962,
     "user": {
      "displayName": "이예림(상경대학 응용통계학과)",
      "userId": "02944141114007762965"
     },
     "user_tz": -540
    },
    "id": "r6E66IVMXyg3",
    "outputId": "d28cd1a6-573d-4b29-8979-8c2d879095e2",
    "scrolled": true
   },
   "outputs": [
    {
     "data": {
      "text/plain": [
       "True"
      ]
     },
     "execution_count": 326,
     "metadata": {},
     "output_type": "execute_result"
    }
   ],
   "source": [
    "sum(total, []) == index_sarima   # 분리가 잘 이루어졌는지 확인"
   ]
  },
  {
   "cell_type": "code",
   "execution_count": 327,
   "id": "8d38c0c8",
   "metadata": {},
   "outputs": [
    {
     "data": {
      "text/plain": [
       "586"
      ]
     },
     "execution_count": 327,
     "metadata": {},
     "output_type": "execute_result"
    }
   ],
   "source": [
    "len(total) #결측치 처리해야 하는 구간의 수"
   ]
  },
  {
   "cell_type": "code",
   "execution_count": 328,
   "id": "20ea0fa4",
   "metadata": {
    "colab": {
     "base_uri": "https://localhost:8080/"
    },
    "executionInfo": {
     "elapsed": 6204453,
     "status": "ok",
     "timestamp": 1660750114017,
     "user": {
      "displayName": "이예림(상경대학 응용통계학과)",
      "userId": "02944141114007762965"
     },
     "user_tz": -540
    },
    "id": "_HQ9SccJYZif",
    "outputId": "075320ea-d158-4e10-9cdc-e83f87732872",
    "scrolled": true
   },
   "outputs": [
    {
     "name": "stderr",
     "output_type": "stream",
     "text": [
      "C:\\Users\\sjkan\\anaconda3\\lib\\site-packages\\pmdarima\\arima\\auto.py:460: UserWarning: Input time-series is completely constant; returning a (0, 0, 0) ARMA.\n",
      "  warnings.warn('Input time-series is completely constant; '\n",
      "C:\\Users\\sjkan\\anaconda3\\lib\\site-packages\\pmdarima\\arima\\_auto_solvers.py:522: ModelFitWarning: Error fitting  ARIMA(2,0,1)(0,0,0)[0] intercept (if you do not want to see these warnings, run with error_action=\"ignore\").\n",
      "Traceback:\n",
      "Traceback (most recent call last):\n",
      "  File \"C:\\Users\\sjkan\\anaconda3\\lib\\site-packages\\pmdarima\\arima\\_auto_solvers.py\", line 506, in _fit_candidate_model\n",
      "    fit.fit(y, X=X, **fit_params)\n",
      "  File \"C:\\Users\\sjkan\\anaconda3\\lib\\site-packages\\pmdarima\\arima\\arima.py\", line 597, in fit\n",
      "    self._fit(y, X, **fit_args)\n",
      "  File \"C:\\Users\\sjkan\\anaconda3\\lib\\site-packages\\pmdarima\\arima\\arima.py\", line 518, in _fit\n",
      "    fit, self.arima_res_ = _fit_wrapper()\n",
      "  File \"C:\\Users\\sjkan\\anaconda3\\lib\\site-packages\\pmdarima\\arima\\arima.py\", line 508, in _fit_wrapper\n",
      "    return arima, arima.fit(start_params=start_params,\n",
      "  File \"C:\\Users\\sjkan\\anaconda3\\lib\\site-packages\\statsmodels\\tsa\\statespace\\mlemodel.py\", line 704, in fit\n",
      "    mlefit = super(MLEModel, self).fit(start_params, method=method,\n",
      "  File \"C:\\Users\\sjkan\\anaconda3\\lib\\site-packages\\statsmodels\\base\\model.py\", line 563, in fit\n",
      "    xopt, retvals, optim_settings = optimizer._fit(f, score, start_params,\n",
      "  File \"C:\\Users\\sjkan\\anaconda3\\lib\\site-packages\\statsmodels\\base\\optimizer.py\", line 241, in _fit\n",
      "    xopt, retvals = func(objective, gradient, start_params, fargs, kwargs,\n",
      "  File \"C:\\Users\\sjkan\\anaconda3\\lib\\site-packages\\statsmodels\\base\\optimizer.py\", line 651, in _fit_lbfgs\n",
      "    retvals = optimize.fmin_l_bfgs_b(func, start_params, maxiter=maxiter,\n",
      "  File \"C:\\Users\\sjkan\\anaconda3\\lib\\site-packages\\scipy\\optimize\\lbfgsb.py\", line 197, in fmin_l_bfgs_b\n",
      "    res = _minimize_lbfgsb(fun, x0, args=args, jac=jac, bounds=bounds,\n",
      "  File \"C:\\Users\\sjkan\\anaconda3\\lib\\site-packages\\scipy\\optimize\\lbfgsb.py\", line 360, in _minimize_lbfgsb\n",
      "    f, g = func_and_grad(x)\n",
      "  File \"C:\\Users\\sjkan\\anaconda3\\lib\\site-packages\\scipy\\optimize\\_differentiable_functions.py\", line 267, in fun_and_grad\n",
      "    self._update_fun()\n",
      "  File \"C:\\Users\\sjkan\\anaconda3\\lib\\site-packages\\scipy\\optimize\\_differentiable_functions.py\", line 233, in _update_fun\n",
      "    self._update_fun_impl()\n",
      "  File \"C:\\Users\\sjkan\\anaconda3\\lib\\site-packages\\scipy\\optimize\\_differentiable_functions.py\", line 137, in update_fun\n",
      "    self.f = fun_wrapped(self.x)\n",
      "  File \"C:\\Users\\sjkan\\anaconda3\\lib\\site-packages\\scipy\\optimize\\_differentiable_functions.py\", line 134, in fun_wrapped\n",
      "    return fun(np.copy(x), *args)\n",
      "  File \"C:\\Users\\sjkan\\anaconda3\\lib\\site-packages\\statsmodels\\base\\model.py\", line 531, in f\n",
      "    return -self.loglike(params, *args) / nobs\n",
      "  File \"C:\\Users\\sjkan\\anaconda3\\lib\\site-packages\\statsmodels\\tsa\\statespace\\mlemodel.py\", line 939, in loglike\n",
      "    loglike = self.ssm.loglike(complex_step=complex_step, **kwargs)\n",
      "  File \"C:\\Users\\sjkan\\anaconda3\\lib\\site-packages\\statsmodels\\tsa\\statespace\\kalman_filter.py\", line 983, in loglike\n",
      "    kfilter = self._filter(**kwargs)\n",
      "  File \"C:\\Users\\sjkan\\anaconda3\\lib\\site-packages\\statsmodels\\tsa\\statespace\\kalman_filter.py\", line 903, in _filter\n",
      "    self._initialize_state(prefix=prefix, complex_step=complex_step)\n",
      "  File \"C:\\Users\\sjkan\\anaconda3\\lib\\site-packages\\statsmodels\\tsa\\statespace\\representation.py\", line 983, in _initialize_state\n",
      "    self._statespaces[prefix].initialize(self.initialization,\n",
      "  File \"statsmodels\\tsa\\statespace\\_representation.pyx\", line 1362, in statsmodels.tsa.statespace._representation.dStatespace.initialize\n",
      "  File \"statsmodels\\tsa\\statespace\\_initialization.pyx\", line 288, in statsmodels.tsa.statespace._initialization.dInitialization.initialize\n",
      "  File \"statsmodels\\tsa\\statespace\\_initialization.pyx\", line 406, in statsmodels.tsa.statespace._initialization.dInitialization.initialize_stationary_stationary_cov\n",
      "  File \"statsmodels\\tsa\\statespace\\_tools.pyx\", line 1206, in statsmodels.tsa.statespace._tools._dsolve_discrete_lyapunov\n",
      "numpy.linalg.LinAlgError: LU decomposition error.\n",
      "\n",
      "  warnings.warn(warning_str, ModelFitWarning)\n",
      "C:\\Users\\sjkan\\anaconda3\\lib\\site-packages\\pmdarima\\arima\\_auto_solvers.py:522: ModelFitWarning: Error fitting  ARIMA(3,0,1)(0,0,0)[0] intercept (if you do not want to see these warnings, run with error_action=\"ignore\").\n",
      "Traceback:\n",
      "Traceback (most recent call last):\n",
      "  File \"C:\\Users\\sjkan\\anaconda3\\lib\\site-packages\\pmdarima\\arima\\_auto_solvers.py\", line 506, in _fit_candidate_model\n",
      "    fit.fit(y, X=X, **fit_params)\n",
      "  File \"C:\\Users\\sjkan\\anaconda3\\lib\\site-packages\\pmdarima\\arima\\arima.py\", line 597, in fit\n",
      "    self._fit(y, X, **fit_args)\n",
      "  File \"C:\\Users\\sjkan\\anaconda3\\lib\\site-packages\\pmdarima\\arima\\arima.py\", line 518, in _fit\n",
      "    fit, self.arima_res_ = _fit_wrapper()\n",
      "  File \"C:\\Users\\sjkan\\anaconda3\\lib\\site-packages\\pmdarima\\arima\\arima.py\", line 508, in _fit_wrapper\n",
      "    return arima, arima.fit(start_params=start_params,\n",
      "  File \"C:\\Users\\sjkan\\anaconda3\\lib\\site-packages\\statsmodels\\tsa\\statespace\\mlemodel.py\", line 704, in fit\n",
      "    mlefit = super(MLEModel, self).fit(start_params, method=method,\n",
      "  File \"C:\\Users\\sjkan\\anaconda3\\lib\\site-packages\\statsmodels\\base\\model.py\", line 563, in fit\n",
      "    xopt, retvals, optim_settings = optimizer._fit(f, score, start_params,\n",
      "  File \"C:\\Users\\sjkan\\anaconda3\\lib\\site-packages\\statsmodels\\base\\optimizer.py\", line 241, in _fit\n",
      "    xopt, retvals = func(objective, gradient, start_params, fargs, kwargs,\n",
      "  File \"C:\\Users\\sjkan\\anaconda3\\lib\\site-packages\\statsmodels\\base\\optimizer.py\", line 651, in _fit_lbfgs\n",
      "    retvals = optimize.fmin_l_bfgs_b(func, start_params, maxiter=maxiter,\n",
      "  File \"C:\\Users\\sjkan\\anaconda3\\lib\\site-packages\\scipy\\optimize\\lbfgsb.py\", line 197, in fmin_l_bfgs_b\n",
      "    res = _minimize_lbfgsb(fun, x0, args=args, jac=jac, bounds=bounds,\n",
      "  File \"C:\\Users\\sjkan\\anaconda3\\lib\\site-packages\\scipy\\optimize\\lbfgsb.py\", line 360, in _minimize_lbfgsb\n",
      "    f, g = func_and_grad(x)\n",
      "  File \"C:\\Users\\sjkan\\anaconda3\\lib\\site-packages\\scipy\\optimize\\_differentiable_functions.py\", line 267, in fun_and_grad\n",
      "    self._update_fun()\n",
      "  File \"C:\\Users\\sjkan\\anaconda3\\lib\\site-packages\\scipy\\optimize\\_differentiable_functions.py\", line 233, in _update_fun\n",
      "    self._update_fun_impl()\n",
      "  File \"C:\\Users\\sjkan\\anaconda3\\lib\\site-packages\\scipy\\optimize\\_differentiable_functions.py\", line 137, in update_fun\n",
      "    self.f = fun_wrapped(self.x)\n",
      "  File \"C:\\Users\\sjkan\\anaconda3\\lib\\site-packages\\scipy\\optimize\\_differentiable_functions.py\", line 134, in fun_wrapped\n",
      "    return fun(np.copy(x), *args)\n",
      "  File \"C:\\Users\\sjkan\\anaconda3\\lib\\site-packages\\statsmodels\\base\\model.py\", line 531, in f\n",
      "    return -self.loglike(params, *args) / nobs\n",
      "  File \"C:\\Users\\sjkan\\anaconda3\\lib\\site-packages\\statsmodels\\tsa\\statespace\\mlemodel.py\", line 939, in loglike\n",
      "    loglike = self.ssm.loglike(complex_step=complex_step, **kwargs)\n",
      "  File \"C:\\Users\\sjkan\\anaconda3\\lib\\site-packages\\statsmodels\\tsa\\statespace\\kalman_filter.py\", line 983, in loglike\n",
      "    kfilter = self._filter(**kwargs)\n",
      "  File \"C:\\Users\\sjkan\\anaconda3\\lib\\site-packages\\statsmodels\\tsa\\statespace\\kalman_filter.py\", line 903, in _filter\n",
      "    self._initialize_state(prefix=prefix, complex_step=complex_step)\n",
      "  File \"C:\\Users\\sjkan\\anaconda3\\lib\\site-packages\\statsmodels\\tsa\\statespace\\representation.py\", line 983, in _initialize_state\n",
      "    self._statespaces[prefix].initialize(self.initialization,\n",
      "  File \"statsmodels\\tsa\\statespace\\_representation.pyx\", line 1362, in statsmodels.tsa.statespace._representation.dStatespace.initialize\n",
      "  File \"statsmodels\\tsa\\statespace\\_initialization.pyx\", line 288, in statsmodels.tsa.statespace._initialization.dInitialization.initialize\n",
      "  File \"statsmodels\\tsa\\statespace\\_initialization.pyx\", line 406, in statsmodels.tsa.statespace._initialization.dInitialization.initialize_stationary_stationary_cov\n",
      "  File \"statsmodels\\tsa\\statespace\\_tools.pyx\", line 1206, in statsmodels.tsa.statespace._tools._dsolve_discrete_lyapunov\n",
      "numpy.linalg.LinAlgError: LU decomposition error.\n",
      "\n",
      "  warnings.warn(warning_str, ModelFitWarning)\n"
     ]
    }
   ],
   "source": [
    "# 전체 다 1일, 즉 직전 144개의 row을 반영하여 결측치 처리\n",
    "\n",
    "for range in total:\n",
    "  start = range[0]\n",
    "  model = pm.auto_arima(chungdam[start-60:start], seasonal=True)\n",
    "  chungdam.iloc[range, 0] = model.predict(len(range))\n",
    "  #print(f'{total.index(range)+1}번째 구간 결측치 처리 완료')"
   ]
  },
  {
   "cell_type": "code",
   "execution_count": 329,
   "id": "d1825bd7",
   "metadata": {
    "colab": {
     "base_uri": "https://localhost:8080/"
    },
    "executionInfo": {
     "elapsed": 84,
     "status": "ok",
     "timestamp": 1660750114020,
     "user": {
      "displayName": "이예림(상경대학 응용통계학과)",
      "userId": "02944141114007762965"
     },
     "user_tz": -540
    },
    "id": "fLkpB1I5bSZu",
    "outputId": "39baa2da-b52e-485c-9c47-103c9755c247"
   },
   "outputs": [
    {
     "data": {
      "text/plain": [
       "청담대교_유량    0\n",
       "dtype: int64"
      ]
     },
     "execution_count": 329,
     "metadata": {},
     "output_type": "execute_result"
    }
   ],
   "source": [
    "# 결측치가 모두 처리되었는지 확인\n",
    "\n",
    "chungdam.isnull().sum()"
   ]
  },
  {
   "cell_type": "code",
   "execution_count": 330,
   "id": "c5912bfc",
   "metadata": {
    "colab": {
     "base_uri": "https://localhost:8080/",
     "height": 265
    },
    "executionInfo": {
     "elapsed": 964,
     "status": "ok",
     "timestamp": 1660750930556,
     "user": {
      "displayName": "이예림(상경대학 응용통계학과)",
      "userId": "02944141114007762965"
     },
     "user_tz": -540
    },
    "id": "LrPrN4VIbX4u",
    "outputId": "b288020c-e222-4519-ec78-8461c318fde4"
   },
   "outputs": [
    {
     "data": {
      "image/png": "[encoded data removed]",
      "text/plain": [
       "<Figure size 432x288 with 1 Axes>"
      ]
     },
     "metadata": {
      "needs_background": "light"
     },
     "output_type": "display_data"
    }
   ],
   "source": [
    "# 결측치 처리 형태 확인 (인덱스 번째 구간)\n",
    "\n",
    "plt.plot(total[13], chungdam.iloc[total[13], 0])\n",
    "plt.show()"
   ]
  },
  {
   "cell_type": "code",
   "execution_count": 331,
   "id": "f258672f",
   "metadata": {
    "scrolled": true
   },
   "outputs": [],
   "source": [
    "#total[13] #여기서 i번째 구간 범위 찻아서 아래에 좀 더 넓게 대입"
   ]
  },
  {
   "cell_type": "code",
   "execution_count": 332,
   "id": "16249093",
   "metadata": {},
   "outputs": [
    {
     "data": {
      "text/plain": [
       "[<matplotlib.lines.Line2D at 0x1e4202351f0>]"
      ]
     },
     "execution_count": 332,
     "metadata": {},
     "output_type": "execute_result"
    },
    {
     "data": {
      "image/png": "[encoded data removed]",
      "text/plain": [
       "<Figure size 432x288 with 1 Axes>"
      ]
     },
     "metadata": {
      "needs_background": "light"
     },
     "output_type": "display_data"
    }
   ],
   "source": [
    "plt.plot(chungdam[82500:84000])"
   ]
  },
  {
   "cell_type": "code",
   "execution_count": null,
   "id": "10292be4",
   "metadata": {},
   "outputs": [],
   "source": []
  },
  {
   "cell_type": "markdown",
   "id": "3f9350f9",
   "metadata": {
    "id": "mK0eaXyuTuhT"
   },
   "source": [
    "# 한강대교 유량 결측치 처리"
   ]
  },
  {
   "cell_type": "code",
   "execution_count": 1069,
   "id": "fe1b82d1",
   "metadata": {
    "colab": {
     "base_uri": "https://localhost:8080/",
     "height": 424
    },
    "executionInfo": {
     "elapsed": 432,
     "status": "ok",
     "timestamp": 1660743839242,
     "user": {
      "displayName": "이예림(상경대학 응용통계학과)",
      "userId": "02944141114007762965"
     },
     "user_tz": -540
    },
    "id": "Mdz_YyjTTcH1",
    "outputId": "5c77d4d1-09af-467a-ad8f-cd70df07dbb2"
   },
   "outputs": [],
   "source": [
    "hangang = data[['날짜', '한강대교_유량']]"
   ]
  },
  {
   "cell_type": "code",
   "execution_count": 1070,
   "id": "982bc766",
   "metadata": {
    "colab": {
     "base_uri": "https://localhost:8080/",
     "height": 532
    },
    "executionInfo": {
     "elapsed": 438,
     "status": "ok",
     "timestamp": 1660743839252,
     "user": {
      "displayName": "이예림(상경대학 응용통계학과)",
      "userId": "02944141114007762965"
     },
     "user_tz": -540
    },
    "id": "NOkjGH6yVaXY",
    "outputId": "682e1c1e-adc1-4115-c609-21eb3561ea88"
   },
   "outputs": [
    {
     "name": "stderr",
     "output_type": "stream",
     "text": [
      "C:\\Users\\sjkan\\AppData\\Local\\Temp\\ipykernel_11972\\2676308309.py:1: SettingWithCopyWarning: \n",
      "A value is trying to be set on a copy of a slice from a DataFrame.\n",
      "Try using .loc[row_indexer,col_indexer] = value instead\n",
      "\n",
      "See the caveats in the documentation: https://pandas.pydata.org/pandas-docs/stable/user_guide/indexing.html#returning-a-view-versus-a-copy\n",
      "  hangang.날짜 = pd.to_datetime(hangang.날짜)\n"
     ]
    },
    {
     "data": {
      "text/html": [
       "<div>\n",
       "<style scoped>\n",
       "    .dataframe tbody tr th:only-of-type {\n",
       "        vertical-align: middle;\n",
       "    }\n",
       "\n",
       "    .dataframe tbody tr th {\n",
       "        vertical-align: top;\n",
       "    }\n",
       "\n",
       "    .dataframe thead th {\n",
       "        text-align: right;\n",
       "    }\n",
       "</style>\n",
       "<table border=\"1\" class=\"dataframe\">\n",
       "  <thead>\n",
       "    <tr style=\"text-align: right;\">\n",
       "      <th></th>\n",
       "      <th>날짜</th>\n",
       "      <th>한강대교_유량</th>\n",
       "    </tr>\n",
       "  </thead>\n",
       "  <tbody>\n",
       "    <tr>\n",
       "      <th>0</th>\n",
       "      <td>2012-05-01 00:00:00</td>\n",
       "      <td>729.80</td>\n",
       "    </tr>\n",
       "    <tr>\n",
       "      <th>1</th>\n",
       "      <td>2012-05-01 00:10:00</td>\n",
       "      <td>731.48</td>\n",
       "    </tr>\n",
       "    <tr>\n",
       "      <th>2</th>\n",
       "      <td>2012-05-01 00:20:00</td>\n",
       "      <td>726.42</td>\n",
       "    </tr>\n",
       "    <tr>\n",
       "      <th>3</th>\n",
       "      <td>2012-05-01 00:30:00</td>\n",
       "      <td>726.42</td>\n",
       "    </tr>\n",
       "    <tr>\n",
       "      <th>4</th>\n",
       "      <td>2012-05-01 00:40:00</td>\n",
       "      <td>707.17</td>\n",
       "    </tr>\n",
       "    <tr>\n",
       "      <th>...</th>\n",
       "      <td>...</td>\n",
       "      <td>...</td>\n",
       "    </tr>\n",
       "    <tr>\n",
       "      <th>276331</th>\n",
       "      <td>2022-07-18 23:10:00</td>\n",
       "      <td>-456.41</td>\n",
       "    </tr>\n",
       "    <tr>\n",
       "      <th>276332</th>\n",
       "      <td>2022-07-18 23:20:00</td>\n",
       "      <td>-717.30</td>\n",
       "    </tr>\n",
       "    <tr>\n",
       "      <th>276333</th>\n",
       "      <td>2022-07-18 23:30:00</td>\n",
       "      <td>-843.37</td>\n",
       "    </tr>\n",
       "    <tr>\n",
       "      <th>276334</th>\n",
       "      <td>2022-07-18 23:40:00</td>\n",
       "      <td>-1023.37</td>\n",
       "    </tr>\n",
       "    <tr>\n",
       "      <th>276335</th>\n",
       "      <td>2022-07-18 23:50:00</td>\n",
       "      <td>-1049.44</td>\n",
       "    </tr>\n",
       "  </tbody>\n",
       "</table>\n",
       "<p>276336 rows × 2 columns</p>\n",
       "</div>"
      ],
      "text/plain": [
       "                        날짜  한강대교_유량\n",
       "0      2012-05-01 00:00:00   729.80\n",
       "1      2012-05-01 00:10:00   731.48\n",
       "2      2012-05-01 00:20:00   726.42\n",
       "3      2012-05-01 00:30:00   726.42\n",
       "4      2012-05-01 00:40:00   707.17\n",
       "...                    ...      ...\n",
       "276331 2022-07-18 23:10:00  -456.41\n",
       "276332 2022-07-18 23:20:00  -717.30\n",
       "276333 2022-07-18 23:30:00  -843.37\n",
       "276334 2022-07-18 23:40:00 -1023.37\n",
       "276335 2022-07-18 23:50:00 -1049.44\n",
       "\n",
       "[276336 rows x 2 columns]"
      ]
     },
     "execution_count": 1070,
     "metadata": {},
     "output_type": "execute_result"
    }
   ],
   "source": [
    "hangang.날짜 = pd.to_datetime(hangang.날짜)\n",
    "hangang"
   ]
  },
  {
   "cell_type": "code",
   "execution_count": 1071,
   "id": "0265bc2e",
   "metadata": {
    "colab": {
     "base_uri": "https://localhost:8080/",
     "height": 424
    },
    "executionInfo": {
     "elapsed": 429,
     "status": "ok",
     "timestamp": 1660743839255,
     "user": {
      "displayName": "이예림(상경대학 응용통계학과)",
      "userId": "02944141114007762965"
     },
     "user_tz": -540
    },
    "id": "e4Q6xLdsTx3j",
    "outputId": "340420de-0607-4652-aac1-4417d179c65e"
   },
   "outputs": [
    {
     "data": {
      "text/html": [
       "<div>\n",
       "<style scoped>\n",
       "    .dataframe tbody tr th:only-of-type {\n",
       "        vertical-align: middle;\n",
       "    }\n",
       "\n",
       "    .dataframe tbody tr th {\n",
       "        vertical-align: top;\n",
       "    }\n",
       "\n",
       "    .dataframe thead th {\n",
       "        text-align: right;\n",
       "    }\n",
       "</style>\n",
       "<table border=\"1\" class=\"dataframe\">\n",
       "  <thead>\n",
       "    <tr style=\"text-align: right;\">\n",
       "      <th></th>\n",
       "      <th>날짜</th>\n",
       "      <th>한강대교_유량</th>\n",
       "    </tr>\n",
       "  </thead>\n",
       "  <tbody>\n",
       "    <tr>\n",
       "      <th>91352</th>\n",
       "      <td>2015-07-22 09:20:00</td>\n",
       "      <td>NaN</td>\n",
       "    </tr>\n",
       "    <tr>\n",
       "      <th>91353</th>\n",
       "      <td>2015-07-22 09:30:00</td>\n",
       "      <td>NaN</td>\n",
       "    </tr>\n",
       "    <tr>\n",
       "      <th>91354</th>\n",
       "      <td>2015-07-22 09:40:00</td>\n",
       "      <td>NaN</td>\n",
       "    </tr>\n",
       "    <tr>\n",
       "      <th>91355</th>\n",
       "      <td>2015-07-22 09:50:00</td>\n",
       "      <td>NaN</td>\n",
       "    </tr>\n",
       "    <tr>\n",
       "      <th>91356</th>\n",
       "      <td>2015-07-22 10:00:00</td>\n",
       "      <td>NaN</td>\n",
       "    </tr>\n",
       "    <tr>\n",
       "      <th>...</th>\n",
       "      <td>...</td>\n",
       "      <td>...</td>\n",
       "    </tr>\n",
       "    <tr>\n",
       "      <th>262130</th>\n",
       "      <td>2021-10-12 08:20:00</td>\n",
       "      <td>NaN</td>\n",
       "    </tr>\n",
       "    <tr>\n",
       "      <th>262131</th>\n",
       "      <td>2021-10-12 08:30:00</td>\n",
       "      <td>NaN</td>\n",
       "    </tr>\n",
       "    <tr>\n",
       "      <th>262132</th>\n",
       "      <td>2021-10-12 08:40:00</td>\n",
       "      <td>NaN</td>\n",
       "    </tr>\n",
       "    <tr>\n",
       "      <th>262133</th>\n",
       "      <td>2021-10-12 08:50:00</td>\n",
       "      <td>NaN</td>\n",
       "    </tr>\n",
       "    <tr>\n",
       "      <th>262134</th>\n",
       "      <td>2021-10-12 09:00:00</td>\n",
       "      <td>NaN</td>\n",
       "    </tr>\n",
       "  </tbody>\n",
       "</table>\n",
       "<p>1279 rows × 2 columns</p>\n",
       "</div>"
      ],
      "text/plain": [
       "                        날짜  한강대교_유량\n",
       "91352  2015-07-22 09:20:00      NaN\n",
       "91353  2015-07-22 09:30:00      NaN\n",
       "91354  2015-07-22 09:40:00      NaN\n",
       "91355  2015-07-22 09:50:00      NaN\n",
       "91356  2015-07-22 10:00:00      NaN\n",
       "...                    ...      ...\n",
       "262130 2021-10-12 08:20:00      NaN\n",
       "262131 2021-10-12 08:30:00      NaN\n",
       "262132 2021-10-12 08:40:00      NaN\n",
       "262133 2021-10-12 08:50:00      NaN\n",
       "262134 2021-10-12 09:00:00      NaN\n",
       "\n",
       "[1279 rows x 2 columns]"
      ]
     },
     "execution_count": 1071,
     "metadata": {},
     "output_type": "execute_result"
    }
   ],
   "source": [
    "hangang[hangang['한강대교_유량'].isnull()]   # 16380개의 결측치 : 순서대로 채우기"
   ]
  },
  {
   "cell_type": "code",
   "execution_count": 1072,
   "id": "51f3d795",
   "metadata": {
    "colab": {
     "base_uri": "https://localhost:8080/"
    },
    "executionInfo": {
     "elapsed": 427,
     "status": "ok",
     "timestamp": 1660743839256,
     "user": {
      "displayName": "이예림(상경대학 응용통계학과)",
      "userId": "02944141114007762965"
     },
     "user_tz": -540
    },
    "id": "RrthJw76c4B6",
    "outputId": "10fb03a5-e4db-469a-ccd9-80f777cdb60e"
   },
   "outputs": [],
   "source": [
    "nan_index = list(hangang[hangang['한강대교_유량'].isnull()].index)"
   ]
  },
  {
   "cell_type": "code",
   "execution_count": 1073,
   "id": "1c3798d7",
   "metadata": {
    "colab": {
     "base_uri": "https://localhost:8080/"
    },
    "executionInfo": {
     "elapsed": 933,
     "status": "ok",
     "timestamp": 1660743839772,
     "user": {
      "displayName": "이예림(상경대학 응용통계학과)",
      "userId": "02944141114007762965"
     },
     "user_tz": -540
    },
    "id": "ubfxLxNcX-Nz",
    "outputId": "0680fa41-41e1-4ec1-90ef-81bd0fe72ea8"
   },
   "outputs": [
    {
     "data": {
      "text/plain": [
       "True"
      ]
     },
     "execution_count": 1073,
     "metadata": {},
     "output_type": "execute_result"
    }
   ],
   "source": [
    "# Index 분리\n",
    "\n",
    "index_interpolate = []\n",
    "index_sarima = []\n",
    "\n",
    "i = 0\n",
    "while i < len(nan_index)-2:\n",
    "  if nan_index[i+2] == nan_index[i+1]+1 == nan_index[i]+2:\n",
    "    index_sarima.append(nan_index[i])\n",
    "    i += 1\n",
    "  elif nan_index[i+2] != nan_index[i+1]+1 and nan_index[i+1] == nan_index[i]+1:\n",
    "    index_sarima.extend([nan_index[i], nan_index[i+1]])\n",
    "    i += 2\n",
    "  else:\n",
    "    index_interpolate.append(nan_index[i])\n",
    "    i += 1\n",
    "\n",
    "index_sarima.extend(nan_index[-2:])\n",
    "\n",
    "# if nan_index[-3]+1 != nan_index[-2]:\n",
    "#     index_interpolate.extend(nan_index[-2:])\n",
    "# else:\n",
    "#     index_interpolate.extend(nan_index[-1:])\n",
    "\n",
    "nan_index == sorted(index_interpolate+index_sarima)"
   ]
  },
  {
   "cell_type": "markdown",
   "id": "ec84ed1b",
   "metadata": {
    "id": "55pXgjIPTEJF"
   },
   "source": [
    "## 1. 비연속적 결측값 처리 by Interpolation"
   ]
  },
  {
   "cell_type": "code",
   "execution_count": 1074,
   "id": "8de38837",
   "metadata": {
    "colab": {
     "base_uri": "https://localhost:8080/"
    },
    "executionInfo": {
     "elapsed": 210,
     "status": "ok",
     "timestamp": 1660743839774,
     "user": {
      "displayName": "이예림(상경대학 응용통계학과)",
      "userId": "02944141114007762965"
     },
     "user_tz": -540
    },
    "id": "HhxuRyakk_qm",
    "outputId": "c6d69d1e-0682-48d3-c8f6-bcd80bbc32e5"
   },
   "outputs": [],
   "source": [
    "# Interpolation에 쓰일 인덱스 지정 (결측값 기준 앞, 뒤 + 자체)\n",
    "\n",
    "index_interpolate_ = sum([[i-1, i, i+1] for i in index_interpolate], [])"
   ]
  },
  {
   "cell_type": "code",
   "execution_count": 1075,
   "id": "8cd43f60",
   "metadata": {
    "colab": {
     "base_uri": "https://localhost:8080/"
    },
    "executionInfo": {
     "elapsed": 184,
     "status": "ok",
     "timestamp": 1660743839775,
     "user": {
      "displayName": "이예림(상경대학 응용통계학과)",
      "userId": "02944141114007762965"
     },
     "user_tz": -540
    },
    "id": "sYfcdbzem2H2",
    "outputId": "d28d8051-90e8-4024-ba06-43b0cdb46c76"
   },
   "outputs": [
    {
     "data": {
      "text/plain": [
       "True"
      ]
     },
     "execution_count": 1075,
     "metadata": {},
     "output_type": "execute_result"
    }
   ],
   "source": [
    "len(index_interpolate_) == len(set(index_interpolate)) * 3   # 겹치는 index 없는지 확인"
   ]
  },
  {
   "cell_type": "code",
   "execution_count": 1076,
   "id": "84400af4",
   "metadata": {
    "colab": {
     "base_uri": "https://localhost:8080/",
     "height": 455
    },
    "executionInfo": {
     "elapsed": 99,
     "status": "ok",
     "timestamp": 1660743839776,
     "user": {
      "displayName": "이예림(상경대학 응용통계학과)",
      "userId": "02944141114007762965"
     },
     "user_tz": -540
    },
    "id": "pZAsVV_vbkl8",
    "outputId": "1723905b-154b-421b-ec39-30162831b99b"
   },
   "outputs": [
    {
     "data": {
      "text/html": [
       "<div>\n",
       "<style scoped>\n",
       "    .dataframe tbody tr th:only-of-type {\n",
       "        vertical-align: middle;\n",
       "    }\n",
       "\n",
       "    .dataframe tbody tr th {\n",
       "        vertical-align: top;\n",
       "    }\n",
       "\n",
       "    .dataframe thead th {\n",
       "        text-align: right;\n",
       "    }\n",
       "</style>\n",
       "<table border=\"1\" class=\"dataframe\">\n",
       "  <thead>\n",
       "    <tr style=\"text-align: right;\">\n",
       "      <th></th>\n",
       "      <th>한강대교_유량</th>\n",
       "    </tr>\n",
       "    <tr>\n",
       "      <th>날짜</th>\n",
       "      <th></th>\n",
       "    </tr>\n",
       "  </thead>\n",
       "  <tbody>\n",
       "    <tr>\n",
       "      <th>2020-10-15 10:30:00</th>\n",
       "      <td>473.29</td>\n",
       "    </tr>\n",
       "    <tr>\n",
       "      <th>2020-10-15 10:40:00</th>\n",
       "      <td>NaN</td>\n",
       "    </tr>\n",
       "    <tr>\n",
       "      <th>2020-10-15 10:50:00</th>\n",
       "      <td>505.24</td>\n",
       "    </tr>\n",
       "  </tbody>\n",
       "</table>\n",
       "</div>"
      ],
      "text/plain": [
       "                     한강대교_유량\n",
       "날짜                          \n",
       "2020-10-15 10:30:00   473.29\n",
       "2020-10-15 10:40:00      NaN\n",
       "2020-10-15 10:50:00   505.24"
      ]
     },
     "execution_count": 1076,
     "metadata": {},
     "output_type": "execute_result"
    }
   ],
   "source": [
    "# 데이터프레임 분리\n",
    "\n",
    "hangang_interpolate = hangang.copy()\n",
    "hangang_interpolate = hangang_interpolate.set_index('날짜')\n",
    "hangang_interpolate = hangang_interpolate.iloc[index_interpolate_, :]\n",
    "hangang_interpolate"
   ]
  },
  {
   "cell_type": "code",
   "execution_count": 1077,
   "id": "54289583",
   "metadata": {
    "colab": {
     "base_uri": "https://localhost:8080/",
     "height": 455
    },
    "executionInfo": {
     "elapsed": 97,
     "status": "ok",
     "timestamp": 1660743839777,
     "user": {
      "displayName": "이예림(상경대학 응용통계학과)",
      "userId": "02944141114007762965"
     },
     "user_tz": -540
    },
    "id": "Ern-vbzfne74",
    "outputId": "3b42110e-9ac7-4f06-9b92-8ea8b7a34476"
   },
   "outputs": [
    {
     "data": {
      "text/html": [
       "<div>\n",
       "<style scoped>\n",
       "    .dataframe tbody tr th:only-of-type {\n",
       "        vertical-align: middle;\n",
       "    }\n",
       "\n",
       "    .dataframe tbody tr th {\n",
       "        vertical-align: top;\n",
       "    }\n",
       "\n",
       "    .dataframe thead th {\n",
       "        text-align: right;\n",
       "    }\n",
       "</style>\n",
       "<table border=\"1\" class=\"dataframe\">\n",
       "  <thead>\n",
       "    <tr style=\"text-align: right;\">\n",
       "      <th></th>\n",
       "      <th>한강대교_유량</th>\n",
       "    </tr>\n",
       "    <tr>\n",
       "      <th>날짜</th>\n",
       "      <th></th>\n",
       "    </tr>\n",
       "  </thead>\n",
       "  <tbody>\n",
       "    <tr>\n",
       "      <th>2020-10-15 10:30:00</th>\n",
       "      <td>473.290</td>\n",
       "    </tr>\n",
       "    <tr>\n",
       "      <th>2020-10-15 10:40:00</th>\n",
       "      <td>489.265</td>\n",
       "    </tr>\n",
       "    <tr>\n",
       "      <th>2020-10-15 10:50:00</th>\n",
       "      <td>505.240</td>\n",
       "    </tr>\n",
       "  </tbody>\n",
       "</table>\n",
       "</div>"
      ],
      "text/plain": [
       "                     한강대교_유량\n",
       "날짜                          \n",
       "2020-10-15 10:30:00  473.290\n",
       "2020-10-15 10:40:00  489.265\n",
       "2020-10-15 10:50:00  505.240"
      ]
     },
     "execution_count": 1077,
     "metadata": {},
     "output_type": "execute_result"
    }
   ],
   "source": [
    "# 보간\n",
    "\n",
    "hangang_interpolate.interpolate(method='time', inplace=True)\n",
    "hangang_interpolate   # 보간 결과 확인"
   ]
  },
  {
   "cell_type": "code",
   "execution_count": 1078,
   "id": "347cdb5c",
   "metadata": {
    "colab": {
     "base_uri": "https://localhost:8080/"
    },
    "executionInfo": {
     "elapsed": 94,
     "status": "ok",
     "timestamp": 1660743839778,
     "user": {
      "displayName": "이예림(상경대학 응용통계학과)",
      "userId": "02944141114007762965"
     },
     "user_tz": -540
    },
    "id": "eeQuJ8GYfv4m",
    "outputId": "e6306177-a229-4704-90bc-46cbd35d38fe"
   },
   "outputs": [
    {
     "data": {
      "text/plain": [
       "한강대교_유량    0\n",
       "dtype: int64"
      ]
     },
     "execution_count": 1078,
     "metadata": {},
     "output_type": "execute_result"
    }
   ],
   "source": [
    "hangang_interpolate.isnull().sum()"
   ]
  },
  {
   "cell_type": "code",
   "execution_count": 1079,
   "id": "22df3341",
   "metadata": {
    "colab": {
     "base_uri": "https://localhost:8080/"
    },
    "executionInfo": {
     "elapsed": 71,
     "status": "ok",
     "timestamp": 1660743839779,
     "user": {
      "displayName": "이예림(상경대학 응용통계학과)",
      "userId": "02944141114007762965"
     },
     "user_tz": -540
    },
    "id": "Nb9VtE6YXsLz",
    "outputId": "e2685d76-bd81-4d7f-d4ee-c4d2b1ed1b4e"
   },
   "outputs": [
    {
     "data": {
      "text/plain": [
       "한강대교_유량    True\n",
       "dtype: bool"
      ]
     },
     "execution_count": 1079,
     "metadata": {},
     "output_type": "execute_result"
    }
   ],
   "source": [
    "hangang = hangang.set_index('날짜')\n",
    "hangang.loc[hangang_interpolate.index] = hangang_interpolate\n",
    "hangang.isnull().sum() == len(index_sarima)   # 남은 결측치 개수가 SARIMA로 채워야 할 결측치 개수(len(index_sarima))와 같은지 확인"
   ]
  },
  {
   "cell_type": "markdown",
   "id": "15448c5f",
   "metadata": {
    "id": "dK89voI3c8Q0"
   },
   "source": [
    "## 2. 연속적 결측값 처리 by SARIMA"
   ]
  },
  {
   "cell_type": "code",
   "execution_count": 1080,
   "id": "d76ccea5",
   "metadata": {
    "colab": {
     "base_uri": "https://localhost:8080/",
     "height": 636
    },
    "executionInfo": {
     "elapsed": 21555,
     "status": "ok",
     "timestamp": 1660743861266,
     "user": {
      "displayName": "이예림(상경대학 응용통계학과)",
      "userId": "02944141114007762965"
     },
     "user_tz": -540
    },
    "id": "-uugY5hBTMTa",
    "outputId": "931c6453-6c54-4bce-c91a-90a599ab57d7"
   },
   "outputs": [],
   "source": [
    "#!pip install pmdarima"
   ]
  },
  {
   "cell_type": "code",
   "execution_count": 1081,
   "id": "30f250c6",
   "metadata": {
    "executionInfo": {
     "elapsed": 1552,
     "status": "ok",
     "timestamp": 1660743862779,
     "user": {
      "displayName": "이예림(상경대학 응용통계학과)",
      "userId": "02944141114007762965"
     },
     "user_tz": -540
    },
    "id": "BxiLQENsdZvT"
   },
   "outputs": [],
   "source": [
    "from statsmodels.tsa.statespace.sarimax import SARIMAX\n",
    "import pmdarima as pm"
   ]
  },
  {
   "cell_type": "code",
   "execution_count": 1082,
   "id": "5f5624bb",
   "metadata": {
    "colab": {
     "base_uri": "https://localhost:8080/"
    },
    "executionInfo": {
     "elapsed": 202,
     "status": "ok",
     "timestamp": 1660743862783,
     "user": {
      "displayName": "이예림(상경대학 응용통계학과)",
      "userId": "02944141114007762965"
     },
     "user_tz": -540
    },
    "id": "zSu62iX5Ta7f",
    "outputId": "ae70a0f4-a900-4c77-d110-f8018942180f"
   },
   "outputs": [
    {
     "data": {
      "text/plain": [
       "91352"
      ]
     },
     "execution_count": 1082,
     "metadata": {},
     "output_type": "execute_result"
    }
   ],
   "source": [
    "index_sarima[0]"
   ]
  },
  {
   "cell_type": "code",
   "execution_count": 1083,
   "id": "3939e9f5",
   "metadata": {
    "colab": {
     "base_uri": "https://localhost:8080/"
    },
    "executionInfo": {
     "elapsed": 283,
     "status": "ok",
     "timestamp": 1660743862881,
     "user": {
      "displayName": "이예림(상경대학 응용통계학과)",
      "userId": "02944141114007762965"
     },
     "user_tz": -540
    },
    "id": "8bN42uONUfY9",
    "outputId": "9ba9b11d-90d1-4d51-dbff-057d740b6556",
    "scrolled": true
   },
   "outputs": [
    {
     "name": "stdout",
     "output_type": "stream",
     "text": [
      "[[91352, 91353, 91354, 91355, 91356, 91357, 91358, 91359, 91360, 91361, 91362, 91363, 91364, 91365, 91366, 91367, 91368, 91369, 91370, 91371, 91372], [91377, 91378, 91379, 91380, 91381, 91382, 91383, 91384, 91385, 91386, 91387, 91388, 91389, 91390, 91391, 91392, 91393, 91394, 91395, 91396, 91397, 91398, 91399, 91400, 91401, 91402, 91403, 91404, 91405, 91406, 91407, 91408, 91409, 91410, 91411, 91412, 91413, 91414, 91415, 91416, 91417, 91418, 91419, 91420, 91421, 91422, 91423, 91424, 91425, 91426, 91427, 91428, 91429, 91430, 91431, 91432, 91433, 91434, 91435, 91436, 91437, 91438, 91439, 91440, 91441, 91442, 91443, 91444, 91445, 91446, 91447, 91448, 91449, 91450, 91451, 91452, 91453, 91454, 91455, 91456, 91457, 91458, 91459, 91460, 91461, 91462, 91463, 91464, 91465, 91466, 91467, 91468, 91469, 91470, 91471, 91472, 91473, 91474, 91475, 91476, 91477, 91478, 91479, 91480, 91481, 91482, 91483, 91484, 91485, 91486, 91487, 91488, 91489, 91490, 91491, 91492, 91493, 91494, 91495, 91496, 91497, 91498, 91499, 91500, 91501, 91502, 91503, 91504, 91505, 91506, 91507, 91508, 91509, 91510, 91511, 91512, 91513, 91514, 91515, 91516, 91517, 91518, 91519, 91520, 91521, 91522, 91523, 91524, 91525, 91526, 91527, 91528, 91529, 91530, 91531, 91532, 91533, 91534, 91535, 91536, 91537, 91538, 91539, 91540, 91541, 91542, 91543], [95108, 95109, 95110, 95111, 95112, 95113, 95114, 95115, 95116, 95117, 95118, 95119, 95120, 95121, 95122, 95123, 95124, 95125, 95126, 95127, 95128, 95129, 95130, 95131, 95132, 95133, 95134, 95135, 95136, 95137, 95138, 95139, 95140, 95141, 95142, 95143, 95144, 95145, 95146, 95147, 95148, 95149, 95150, 95151, 95152, 95153, 95154, 95155, 95156], [95988, 95989, 95990, 95991, 95992, 95993, 95994, 95995, 95996, 95997, 95998, 95999, 96000, 96001, 96002, 96003, 96004, 96005, 96006, 96007, 96008, 96009, 96010, 96011, 96012, 96013, 96014, 96015, 96016, 96017, 96018, 96019, 96020, 96021, 96022, 96023, 96024, 96025, 96026, 96027, 96028, 96029, 96030, 96031, 96032, 96033, 96034, 96035, 96036, 96037, 96038, 96039, 96040, 96041, 96042, 96043, 96044, 96045, 96046, 96047, 96048, 96049, 96050, 96051, 96052, 96053, 96054, 96055, 96056, 96057, 96058, 96059, 96060, 96061, 96062, 96063, 96064, 96065, 96066, 96067, 96068, 96069, 96070, 96071, 96072, 96073, 96074, 96075, 96076, 96077, 96078, 96079, 96080, 96081, 96082, 96083, 96084, 96085, 96086, 96087, 96088, 96089, 96090, 96091, 96092, 96093, 96094, 96095, 96096, 96097, 96098, 96099, 96100, 96101, 96102, 96103, 96104, 96105, 96106, 96107, 96108, 96109, 96110, 96111, 96112, 96113, 96114, 96115, 96116], [97716, 97717, 97718, 97719, 97720, 97721, 97722, 97723, 97724, 97725, 97726, 97727, 97728, 97729, 97730, 97731, 97732, 97733, 97734, 97735, 97736, 97737], [102598, 102599, 102600, 102601, 102602, 102603, 102604, 102605, 102606, 102607, 102608, 102609, 102610, 102611, 102612], [110259, 110260, 110261, 110262, 110263, 110264, 110265, 110266, 110267, 110268, 110269, 110270, 110271, 110272, 110273, 110274, 110275, 110276, 110277, 110278, 110279, 110280, 110281, 110282, 110283, 110284, 110285, 110286, 110287, 110288, 110289, 110290, 110291, 110292, 110293, 110294, 110295, 110296, 110297, 110298, 110299, 110300, 110301, 110302, 110303, 110304, 110305, 110306, 110307, 110308, 110309, 110310, 110311, 110312, 110313, 110314, 110315, 110316, 110317, 110318, 110319, 110320, 110321, 110322, 110323, 110324, 110325, 110326, 110327, 110328, 110329, 110330, 110331, 110332, 110333, 110334, 110335, 110336, 110337, 110338, 110339, 110340, 110341, 110342, 110343, 110344, 110345, 110346, 110347, 110348, 110349, 110350, 110351, 110352, 110353, 110354, 110355, 110356, 110357, 110358, 110359], [119757, 119758, 119759, 119760, 119761, 119762, 119763, 119764, 119765, 119766, 119767, 119768, 119769, 119770, 119771, 119772, 119773, 119774, 119775, 119776, 119777, 119778, 119779, 119780, 119781, 119782, 119783, 119784, 119785, 119786, 119787, 119788, 119789, 119790, 119791, 119792, 119793, 119794, 119795, 119796, 119797, 119798, 119799, 119800, 119801, 119802, 119803, 119804, 119805, 119806, 119807, 119808, 119809, 119810, 119811, 119812, 119813, 119814, 119815, 119816, 119817, 119818, 119819, 119820, 119821, 119822, 119823, 119824, 119825, 119826, 119827, 119828, 119829, 119830, 119831, 119832, 119833, 119834, 119835, 119836, 119837, 119838, 119839, 119840, 119841, 119842, 119843, 119844, 119845, 119846, 119847, 119848, 119849, 119850, 119851, 119852, 119853, 119854, 119855, 119856, 119857, 119858, 119859, 119860, 119861, 119862, 119863, 119864, 119865, 119866, 119867, 119868, 119869, 119870, 119871, 119872, 119873], [119898, 119899, 119900, 119901, 119902, 119903, 119904, 119905, 119906, 119907, 119908, 119909, 119910, 119911, 119912, 119913, 119914, 119915, 119916, 119917, 119918, 119919, 119920, 119921, 119922, 119923, 119924, 119925, 119926, 119927, 119928, 119929, 119930, 119931, 119932, 119933, 119934, 119935, 119936, 119937, 119938, 119939, 119940, 119941, 119942, 119943, 119944, 119945, 119946, 119947, 119948, 119949, 119950, 119951, 119952, 119953, 119954, 119955, 119956, 119957, 119958, 119959, 119960, 119961, 119962, 119963, 119964, 119965, 119966, 119967, 119968, 119969, 119970, 119971, 119972, 119973, 119974, 119975, 119976, 119977, 119978, 119979, 119980, 119981, 119982, 119983, 119984, 119985, 119986, 119987, 119988, 119989, 119990, 119991, 119992, 119993, 119994, 119995, 119996, 119997, 119998, 119999, 120000, 120001, 120002, 120003, 120004, 120005, 120006, 120007, 120008, 120009, 120010, 120011, 120012, 120013, 120014, 120015, 120016, 120017, 120018, 120019, 120020, 120021, 120022, 120023, 120024, 120025, 120026, 120027, 120028, 120029, 120030, 120031, 120032, 120033, 120034, 120035, 120036, 120037, 120038, 120039, 120040, 120041, 120042, 120043, 120044, 120045, 120046, 120047, 120048, 120049, 120050, 120051, 120052, 120053], [140613, 140614, 140615, 140616, 140617, 140618, 140619, 140620, 140621, 140622, 140623, 140624, 140625, 140626, 140627, 140628, 140629, 140630, 140631, 140632, 140633, 140634, 140635, 140636, 140637, 140638, 140639, 140640, 140641, 140642, 140643, 140644, 140645, 140646, 140647, 140648, 140649, 140650, 140651, 140652, 140653, 140654, 140655, 140656, 140657, 140658, 140659, 140660, 140661, 140662, 140663, 140664, 140665, 140666, 140667, 140668, 140669, 140670], [180951, 180952, 180953, 180954, 180955, 180956, 180957, 180958, 180959, 180960, 180961, 180962, 180963, 180964, 180965, 180966, 180967, 180968, 180969, 180970, 180971, 180972, 180973, 180974, 180975, 180976, 180977, 180978, 180979, 180980, 180981, 180982, 180983, 180984, 180985, 180986, 180987, 180988, 180989, 180990, 180991, 180992, 180993, 180994, 180995, 180996, 180997, 180998, 180999, 181000, 181001, 181002, 181003, 181004, 181005, 181006, 181007, 181008, 181009, 181010, 181011, 181012, 181013, 181014, 181015, 181016, 181017, 181018, 181019, 181020, 181021, 181022, 181023, 181024, 181025, 181026, 181027, 181028, 181029, 181030, 181031, 181032, 181033, 181034, 181035, 181036, 181037, 181038, 181039, 181040, 181041, 181042, 181043, 181044, 181045, 181046, 181047, 181048, 181049, 181050, 181051, 181052, 181053, 181054, 181055, 181056, 181057, 181058, 181059, 181060, 181061, 181062, 181063, 181064, 181065, 181066], [243029, 243030, 243031, 243032, 243033, 243034, 243035, 243036, 243037, 243038, 243039, 243040, 243041, 243042, 243043, 243044, 243045, 243046, 243047, 243048, 243049, 243050, 243051, 243052, 243053, 243054, 243055, 243056, 243057, 243058, 243059, 243060, 243061, 243062, 243063, 243064, 243065, 243066, 243067, 243068, 243069, 243070, 243071, 243072, 243073, 243074, 243075, 243076, 243077, 243078, 243079, 243080, 243081, 243082, 243083, 243084, 243085, 243086, 243087, 243088, 243089, 243090, 243091, 243092, 243093, 243094, 243095, 243096, 243097, 243098, 243099, 243100, 243101, 243102, 243103, 243104, 243105, 243106, 243107, 243108, 243109, 243110, 243111, 243112, 243113, 243114, 243115, 243116, 243117, 243118, 243119, 243120, 243121, 243122, 243123, 243124, 243125, 243126, 243127, 243128, 243129, 243130], [247281, 247282, 247283, 247284, 247285, 247286, 247287, 247288, 247289, 247290, 247291, 247292, 247293, 247294, 247295, 247296, 247297, 247298, 247299, 247300, 247301, 247302, 247303, 247304, 247305, 247306], [261936, 261937, 261938, 261939, 261940, 261941, 261942, 261943, 261944, 261945, 261946, 261947, 261948, 261949, 261950, 261951, 261952, 261953, 261954, 261955, 261956, 261957, 261958, 261959, 261960, 261961, 261962, 261963, 261964, 261965, 261966, 261967, 261968, 261969, 261970, 261971, 261972, 261973, 261974, 261975, 261976, 261977, 261978, 261979, 261980, 261981, 261982, 261983, 261984, 261985, 261986, 261987, 261988, 261989, 261990, 261991, 261992, 261993, 261994, 261995, 261996, 261997, 261998, 261999, 262000, 262001, 262002, 262003, 262004, 262005, 262006, 262007, 262008, 262009, 262010, 262011, 262012, 262013, 262014, 262015, 262016, 262017, 262018, 262019, 262020, 262021, 262022, 262023, 262024, 262025, 262026, 262027, 262028, 262029, 262030, 262031, 262032, 262033, 262034, 262035, 262036, 262037, 262038, 262039, 262040, 262041, 262042, 262043, 262044, 262045, 262046, 262047, 262048, 262049, 262050, 262051, 262052, 262053, 262054, 262055, 262056, 262057, 262058, 262059, 262060, 262061, 262062, 262063, 262064, 262065, 262066, 262067, 262068, 262069, 262070, 262071, 262072, 262073, 262074, 262075, 262076, 262077, 262078, 262079, 262080, 262081, 262082, 262083, 262084, 262085, 262086, 262087, 262088, 262089, 262090, 262091, 262092, 262093, 262094, 262095, 262096, 262097, 262098, 262099, 262100, 262101, 262102, 262103, 262104, 262105, 262106, 262107, 262108, 262109, 262110, 262111, 262112, 262113, 262114, 262115, 262116, 262117, 262118, 262119, 262120, 262121, 262122, 262123, 262124, 262125, 262126, 262127, 262128, 262129, 262130, 262131, 262132, 262133, 262134]]\n"
     ]
    }
   ],
   "source": [
    "# 연속된 구간별로 분리\n",
    "\n",
    "i = 0\n",
    "temp = []\n",
    "total = []\n",
    "\n",
    "while i>=0:\n",
    "  try:\n",
    "    if index_sarima[i+2]==index_sarima[i+1]+1==index_sarima[i]+2:\n",
    "      temp.append(index_sarima[i])\n",
    "      i += 1\n",
    "    elif index_sarima[i+2]!=index_sarima[i+1]+1==index_sarima[i]+2:\n",
    "      temp.extend([index_sarima[i], index_sarima[i+1]])\n",
    "      #print(temp)\n",
    "      total.append(temp)\n",
    "      temp = []\n",
    "      i += 2\n",
    "  except:\n",
    "    break\n",
    "\n",
    "# 예외 처리\n",
    "#temp = index_sarima[-2:]\n",
    "#print(temp)\n",
    "total.append(temp)\n",
    "total[len(total)-1].append(index_sarima[-2:][0])\n",
    "total[len(total)-1].append(index_sarima[-2:][1])\n",
    "print(total)"
   ]
  },
  {
   "cell_type": "code",
   "execution_count": 1084,
   "id": "353c30ef",
   "metadata": {
    "colab": {
     "base_uri": "https://localhost:8080/"
    },
    "executionInfo": {
     "elapsed": 292,
     "status": "ok",
     "timestamp": 1660743862962,
     "user": {
      "displayName": "이예림(상경대학 응용통계학과)",
      "userId": "02944141114007762965"
     },
     "user_tz": -540
    },
    "id": "r6E66IVMXyg3",
    "outputId": "d28cd1a6-573d-4b29-8979-8c2d879095e2",
    "scrolled": true
   },
   "outputs": [
    {
     "data": {
      "text/plain": [
       "True"
      ]
     },
     "execution_count": 1084,
     "metadata": {},
     "output_type": "execute_result"
    }
   ],
   "source": [
    "sum(total, []) == index_sarima   # 분리가 잘 이루어졌는지 확인"
   ]
  },
  {
   "cell_type": "code",
   "execution_count": 1085,
   "id": "64cf811d",
   "metadata": {},
   "outputs": [
    {
     "data": {
      "text/plain": [
       "14"
      ]
     },
     "execution_count": 1085,
     "metadata": {},
     "output_type": "execute_result"
    }
   ],
   "source": [
    "len(total) #결측치 처리해야 하는 구간의 수"
   ]
  },
  {
   "cell_type": "code",
   "execution_count": 1086,
   "id": "5bd649c8",
   "metadata": {
    "colab": {
     "base_uri": "https://localhost:8080/"
    },
    "executionInfo": {
     "elapsed": 6204453,
     "status": "ok",
     "timestamp": 1660750114017,
     "user": {
      "displayName": "이예림(상경대학 응용통계학과)",
      "userId": "02944141114007762965"
     },
     "user_tz": -540
    },
    "id": "_HQ9SccJYZif",
    "outputId": "075320ea-d158-4e10-9cdc-e83f87732872",
    "scrolled": true
   },
   "outputs": [],
   "source": [
    "# 전체 다 조위 cycle(28일, 즉 직전 144*28=4032개의 row)을 반영하여 결측치 처리\n",
    "\n",
    "for range in total:\n",
    "  start = range[0]\n",
    "  model = pm.auto_arima(hangang[start-60:start], seasonal=True)\n",
    "  hangang.iloc[range, 0] = model.predict(len(range))\n",
    "  #print(f'{total.index(range)+1}번째 구간 결측치 처리 완료')"
   ]
  },
  {
   "cell_type": "code",
   "execution_count": 1087,
   "id": "4720ad40",
   "metadata": {
    "colab": {
     "base_uri": "https://localhost:8080/"
    },
    "executionInfo": {
     "elapsed": 84,
     "status": "ok",
     "timestamp": 1660750114020,
     "user": {
      "displayName": "이예림(상경대학 응용통계학과)",
      "userId": "02944141114007762965"
     },
     "user_tz": -540
    },
    "id": "fLkpB1I5bSZu",
    "outputId": "39baa2da-b52e-485c-9c47-103c9755c247"
   },
   "outputs": [
    {
     "data": {
      "text/plain": [
       "한강대교_유량    0\n",
       "dtype: int64"
      ]
     },
     "execution_count": 1087,
     "metadata": {},
     "output_type": "execute_result"
    }
   ],
   "source": [
    "# 결측치가 모두 처리되었는지 확인\n",
    "\n",
    "hangang.isnull().sum()"
   ]
  },
  {
   "cell_type": "code",
   "execution_count": 1088,
   "id": "6199ab90",
   "metadata": {
    "colab": {
     "base_uri": "https://localhost:8080/",
     "height": 265
    },
    "executionInfo": {
     "elapsed": 964,
     "status": "ok",
     "timestamp": 1660750930556,
     "user": {
      "displayName": "이예림(상경대학 응용통계학과)",
      "userId": "02944141114007762965"
     },
     "user_tz": -540
    },
    "id": "LrPrN4VIbX4u",
    "outputId": "b288020c-e222-4519-ec78-8461c318fde4"
   },
   "outputs": [
    {
     "data": {
      "image/png": "[encoded data removed]",
      "text/plain": [
       "<Figure size 432x288 with 1 Axes>"
      ]
     },
     "metadata": {
      "needs_background": "light"
     },
     "output_type": "display_data"
    }
   ],
   "source": [
    "# 결측치 처리 형태 확인 (인덱스 번째 구간)\n",
    "\n",
    "plt.plot(total[13], hangang.iloc[total[13], 0])\n",
    "plt.show()"
   ]
  },
  {
   "cell_type": "code",
   "execution_count": null,
   "id": "659ea7c4",
   "metadata": {},
   "outputs": [],
   "source": []
  },
  {
   "cell_type": "markdown",
   "id": "3ae40169",
   "metadata": {
    "id": "mK0eaXyuTuhT"
   },
   "source": [
    "# 행주대교 유량 결측치 처리"
   ]
  },
  {
   "cell_type": "code",
   "execution_count": 247,
   "id": "b95b1148",
   "metadata": {
    "colab": {
     "base_uri": "https://localhost:8080/",
     "height": 424
    },
    "executionInfo": {
     "elapsed": 432,
     "status": "ok",
     "timestamp": 1660743839242,
     "user": {
      "displayName": "이예림(상경대학 응용통계학과)",
      "userId": "02944141114007762965"
     },
     "user_tz": -540
    },
    "id": "Mdz_YyjTTcH1",
    "outputId": "5c77d4d1-09af-467a-ad8f-cd70df07dbb2"
   },
   "outputs": [],
   "source": [
    "haengju = data[['날짜', '행주대교_유량']]"
   ]
  },
  {
   "cell_type": "code",
   "execution_count": 248,
   "id": "91edc217",
   "metadata": {
    "colab": {
     "base_uri": "https://localhost:8080/",
     "height": 532
    },
    "executionInfo": {
     "elapsed": 438,
     "status": "ok",
     "timestamp": 1660743839252,
     "user": {
      "displayName": "이예림(상경대학 응용통계학과)",
      "userId": "02944141114007762965"
     },
     "user_tz": -540
    },
    "id": "NOkjGH6yVaXY",
    "outputId": "682e1c1e-adc1-4115-c609-21eb3561ea88"
   },
   "outputs": [
    {
     "name": "stderr",
     "output_type": "stream",
     "text": [
      "C:\\Users\\sjkan\\AppData\\Local\\Temp\\ipykernel_11972\\3631846245.py:1: SettingWithCopyWarning: \n",
      "A value is trying to be set on a copy of a slice from a DataFrame.\n",
      "Try using .loc[row_indexer,col_indexer] = value instead\n",
      "\n",
      "See the caveats in the documentation: https://pandas.pydata.org/pandas-docs/stable/user_guide/indexing.html#returning-a-view-versus-a-copy\n",
      "  haengju.날짜 = pd.to_datetime(haengju.날짜)\n"
     ]
    },
    {
     "data": {
      "text/html": [
       "<div>\n",
       "<style scoped>\n",
       "    .dataframe tbody tr th:only-of-type {\n",
       "        vertical-align: middle;\n",
       "    }\n",
       "\n",
       "    .dataframe tbody tr th {\n",
       "        vertical-align: top;\n",
       "    }\n",
       "\n",
       "    .dataframe thead th {\n",
       "        text-align: right;\n",
       "    }\n",
       "</style>\n",
       "<table border=\"1\" class=\"dataframe\">\n",
       "  <thead>\n",
       "    <tr style=\"text-align: right;\">\n",
       "      <th></th>\n",
       "      <th>날짜</th>\n",
       "      <th>행주대교_유량</th>\n",
       "    </tr>\n",
       "  </thead>\n",
       "  <tbody>\n",
       "    <tr>\n",
       "      <th>0</th>\n",
       "      <td>2012-05-01 00:00:00</td>\n",
       "      <td>540.18</td>\n",
       "    </tr>\n",
       "    <tr>\n",
       "      <th>1</th>\n",
       "      <td>2012-05-01 00:10:00</td>\n",
       "      <td>540.18</td>\n",
       "    </tr>\n",
       "    <tr>\n",
       "      <th>2</th>\n",
       "      <td>2012-05-01 00:20:00</td>\n",
       "      <td>540.18</td>\n",
       "    </tr>\n",
       "    <tr>\n",
       "      <th>3</th>\n",
       "      <td>2012-05-01 00:30:00</td>\n",
       "      <td>552.17</td>\n",
       "    </tr>\n",
       "    <tr>\n",
       "      <th>4</th>\n",
       "      <td>2012-05-01 00:40:00</td>\n",
       "      <td>564.29</td>\n",
       "    </tr>\n",
       "    <tr>\n",
       "      <th>...</th>\n",
       "      <td>...</td>\n",
       "      <td>...</td>\n",
       "    </tr>\n",
       "    <tr>\n",
       "      <th>276331</th>\n",
       "      <td>2022-07-18 23:10:00</td>\n",
       "      <td>974.40</td>\n",
       "    </tr>\n",
       "    <tr>\n",
       "      <th>276332</th>\n",
       "      <td>2022-07-18 23:20:00</td>\n",
       "      <td>1006.88</td>\n",
       "    </tr>\n",
       "    <tr>\n",
       "      <th>276333</th>\n",
       "      <td>2022-07-18 23:30:00</td>\n",
       "      <td>1039.90</td>\n",
       "    </tr>\n",
       "    <tr>\n",
       "      <th>276334</th>\n",
       "      <td>2022-07-18 23:40:00</td>\n",
       "      <td>1073.46</td>\n",
       "    </tr>\n",
       "    <tr>\n",
       "      <th>276335</th>\n",
       "      <td>2022-07-18 23:50:00</td>\n",
       "      <td>1090.45</td>\n",
       "    </tr>\n",
       "  </tbody>\n",
       "</table>\n",
       "<p>276336 rows × 2 columns</p>\n",
       "</div>"
      ],
      "text/plain": [
       "                        날짜  행주대교_유량\n",
       "0      2012-05-01 00:00:00   540.18\n",
       "1      2012-05-01 00:10:00   540.18\n",
       "2      2012-05-01 00:20:00   540.18\n",
       "3      2012-05-01 00:30:00   552.17\n",
       "4      2012-05-01 00:40:00   564.29\n",
       "...                    ...      ...\n",
       "276331 2022-07-18 23:10:00   974.40\n",
       "276332 2022-07-18 23:20:00  1006.88\n",
       "276333 2022-07-18 23:30:00  1039.90\n",
       "276334 2022-07-18 23:40:00  1073.46\n",
       "276335 2022-07-18 23:50:00  1090.45\n",
       "\n",
       "[276336 rows x 2 columns]"
      ]
     },
     "execution_count": 248,
     "metadata": {},
     "output_type": "execute_result"
    }
   ],
   "source": [
    "haengju.날짜 = pd.to_datetime(haengju.날짜)\n",
    "haengju"
   ]
  },
  {
   "cell_type": "code",
   "execution_count": 249,
   "id": "eb780795",
   "metadata": {
    "colab": {
     "base_uri": "https://localhost:8080/",
     "height": 424
    },
    "executionInfo": {
     "elapsed": 429,
     "status": "ok",
     "timestamp": 1660743839255,
     "user": {
      "displayName": "이예림(상경대학 응용통계학과)",
      "userId": "02944141114007762965"
     },
     "user_tz": -540
    },
    "id": "e4Q6xLdsTx3j",
    "outputId": "340420de-0607-4652-aac1-4417d179c65e",
    "scrolled": true
   },
   "outputs": [
    {
     "data": {
      "text/html": [
       "<div>\n",
       "<style scoped>\n",
       "    .dataframe tbody tr th:only-of-type {\n",
       "        vertical-align: middle;\n",
       "    }\n",
       "\n",
       "    .dataframe tbody tr th {\n",
       "        vertical-align: top;\n",
       "    }\n",
       "\n",
       "    .dataframe thead th {\n",
       "        text-align: right;\n",
       "    }\n",
       "</style>\n",
       "<table border=\"1\" class=\"dataframe\">\n",
       "  <thead>\n",
       "    <tr style=\"text-align: right;\">\n",
       "      <th></th>\n",
       "      <th>날짜</th>\n",
       "      <th>행주대교_유량</th>\n",
       "    </tr>\n",
       "  </thead>\n",
       "  <tbody>\n",
       "    <tr>\n",
       "      <th>140613</th>\n",
       "      <td>2017-06-26 11:30:00</td>\n",
       "      <td>NaN</td>\n",
       "    </tr>\n",
       "    <tr>\n",
       "      <th>140614</th>\n",
       "      <td>2017-06-26 11:40:00</td>\n",
       "      <td>NaN</td>\n",
       "    </tr>\n",
       "    <tr>\n",
       "      <th>140615</th>\n",
       "      <td>2017-06-26 11:50:00</td>\n",
       "      <td>NaN</td>\n",
       "    </tr>\n",
       "    <tr>\n",
       "      <th>140616</th>\n",
       "      <td>2017-06-26 12:00:00</td>\n",
       "      <td>NaN</td>\n",
       "    </tr>\n",
       "    <tr>\n",
       "      <th>140617</th>\n",
       "      <td>2017-06-26 12:10:00</td>\n",
       "      <td>NaN</td>\n",
       "    </tr>\n",
       "    <tr>\n",
       "      <th>140618</th>\n",
       "      <td>2017-06-26 12:20:00</td>\n",
       "      <td>NaN</td>\n",
       "    </tr>\n",
       "    <tr>\n",
       "      <th>140619</th>\n",
       "      <td>2017-06-26 12:30:00</td>\n",
       "      <td>NaN</td>\n",
       "    </tr>\n",
       "    <tr>\n",
       "      <th>140620</th>\n",
       "      <td>2017-06-26 12:40:00</td>\n",
       "      <td>NaN</td>\n",
       "    </tr>\n",
       "    <tr>\n",
       "      <th>140621</th>\n",
       "      <td>2017-06-26 12:50:00</td>\n",
       "      <td>NaN</td>\n",
       "    </tr>\n",
       "    <tr>\n",
       "      <th>140622</th>\n",
       "      <td>2017-06-26 13:00:00</td>\n",
       "      <td>NaN</td>\n",
       "    </tr>\n",
       "    <tr>\n",
       "      <th>140623</th>\n",
       "      <td>2017-06-26 13:10:00</td>\n",
       "      <td>NaN</td>\n",
       "    </tr>\n",
       "    <tr>\n",
       "      <th>140624</th>\n",
       "      <td>2017-06-26 13:20:00</td>\n",
       "      <td>NaN</td>\n",
       "    </tr>\n",
       "    <tr>\n",
       "      <th>140625</th>\n",
       "      <td>2017-06-26 13:30:00</td>\n",
       "      <td>NaN</td>\n",
       "    </tr>\n",
       "    <tr>\n",
       "      <th>140626</th>\n",
       "      <td>2017-06-26 13:40:00</td>\n",
       "      <td>NaN</td>\n",
       "    </tr>\n",
       "    <tr>\n",
       "      <th>140627</th>\n",
       "      <td>2017-06-26 13:50:00</td>\n",
       "      <td>NaN</td>\n",
       "    </tr>\n",
       "    <tr>\n",
       "      <th>140628</th>\n",
       "      <td>2017-06-26 14:00:00</td>\n",
       "      <td>NaN</td>\n",
       "    </tr>\n",
       "    <tr>\n",
       "      <th>140629</th>\n",
       "      <td>2017-06-26 14:10:00</td>\n",
       "      <td>NaN</td>\n",
       "    </tr>\n",
       "    <tr>\n",
       "      <th>140630</th>\n",
       "      <td>2017-06-26 14:20:00</td>\n",
       "      <td>NaN</td>\n",
       "    </tr>\n",
       "    <tr>\n",
       "      <th>140631</th>\n",
       "      <td>2017-06-26 14:30:00</td>\n",
       "      <td>NaN</td>\n",
       "    </tr>\n",
       "    <tr>\n",
       "      <th>140632</th>\n",
       "      <td>2017-06-26 14:40:00</td>\n",
       "      <td>NaN</td>\n",
       "    </tr>\n",
       "    <tr>\n",
       "      <th>140633</th>\n",
       "      <td>2017-06-26 14:50:00</td>\n",
       "      <td>NaN</td>\n",
       "    </tr>\n",
       "    <tr>\n",
       "      <th>140634</th>\n",
       "      <td>2017-06-26 15:00:00</td>\n",
       "      <td>NaN</td>\n",
       "    </tr>\n",
       "    <tr>\n",
       "      <th>140635</th>\n",
       "      <td>2017-06-26 15:10:00</td>\n",
       "      <td>NaN</td>\n",
       "    </tr>\n",
       "    <tr>\n",
       "      <th>140636</th>\n",
       "      <td>2017-06-26 15:20:00</td>\n",
       "      <td>NaN</td>\n",
       "    </tr>\n",
       "    <tr>\n",
       "      <th>140637</th>\n",
       "      <td>2017-06-26 15:30:00</td>\n",
       "      <td>NaN</td>\n",
       "    </tr>\n",
       "    <tr>\n",
       "      <th>140638</th>\n",
       "      <td>2017-06-26 15:40:00</td>\n",
       "      <td>NaN</td>\n",
       "    </tr>\n",
       "    <tr>\n",
       "      <th>140639</th>\n",
       "      <td>2017-06-26 15:50:00</td>\n",
       "      <td>NaN</td>\n",
       "    </tr>\n",
       "    <tr>\n",
       "      <th>140640</th>\n",
       "      <td>2017-06-26 16:00:00</td>\n",
       "      <td>NaN</td>\n",
       "    </tr>\n",
       "    <tr>\n",
       "      <th>140641</th>\n",
       "      <td>2017-06-26 16:10:00</td>\n",
       "      <td>NaN</td>\n",
       "    </tr>\n",
       "    <tr>\n",
       "      <th>140642</th>\n",
       "      <td>2017-06-26 16:20:00</td>\n",
       "      <td>NaN</td>\n",
       "    </tr>\n",
       "    <tr>\n",
       "      <th>140643</th>\n",
       "      <td>2017-06-26 16:30:00</td>\n",
       "      <td>NaN</td>\n",
       "    </tr>\n",
       "    <tr>\n",
       "      <th>140644</th>\n",
       "      <td>2017-06-26 16:40:00</td>\n",
       "      <td>NaN</td>\n",
       "    </tr>\n",
       "    <tr>\n",
       "      <th>140645</th>\n",
       "      <td>2017-06-26 16:50:00</td>\n",
       "      <td>NaN</td>\n",
       "    </tr>\n",
       "    <tr>\n",
       "      <th>140646</th>\n",
       "      <td>2017-06-26 17:00:00</td>\n",
       "      <td>NaN</td>\n",
       "    </tr>\n",
       "    <tr>\n",
       "      <th>140647</th>\n",
       "      <td>2017-06-26 17:10:00</td>\n",
       "      <td>NaN</td>\n",
       "    </tr>\n",
       "    <tr>\n",
       "      <th>140648</th>\n",
       "      <td>2017-06-26 17:20:00</td>\n",
       "      <td>NaN</td>\n",
       "    </tr>\n",
       "    <tr>\n",
       "      <th>140649</th>\n",
       "      <td>2017-06-26 17:30:00</td>\n",
       "      <td>NaN</td>\n",
       "    </tr>\n",
       "    <tr>\n",
       "      <th>140650</th>\n",
       "      <td>2017-06-26 17:40:00</td>\n",
       "      <td>NaN</td>\n",
       "    </tr>\n",
       "    <tr>\n",
       "      <th>140651</th>\n",
       "      <td>2017-06-26 17:50:00</td>\n",
       "      <td>NaN</td>\n",
       "    </tr>\n",
       "    <tr>\n",
       "      <th>140652</th>\n",
       "      <td>2017-06-26 18:00:00</td>\n",
       "      <td>NaN</td>\n",
       "    </tr>\n",
       "    <tr>\n",
       "      <th>140653</th>\n",
       "      <td>2017-06-26 18:10:00</td>\n",
       "      <td>NaN</td>\n",
       "    </tr>\n",
       "    <tr>\n",
       "      <th>140654</th>\n",
       "      <td>2017-06-26 18:20:00</td>\n",
       "      <td>NaN</td>\n",
       "    </tr>\n",
       "    <tr>\n",
       "      <th>140655</th>\n",
       "      <td>2017-06-26 18:30:00</td>\n",
       "      <td>NaN</td>\n",
       "    </tr>\n",
       "    <tr>\n",
       "      <th>140656</th>\n",
       "      <td>2017-06-26 18:40:00</td>\n",
       "      <td>NaN</td>\n",
       "    </tr>\n",
       "    <tr>\n",
       "      <th>140657</th>\n",
       "      <td>2017-06-26 18:50:00</td>\n",
       "      <td>NaN</td>\n",
       "    </tr>\n",
       "    <tr>\n",
       "      <th>140658</th>\n",
       "      <td>2017-06-26 19:00:00</td>\n",
       "      <td>NaN</td>\n",
       "    </tr>\n",
       "    <tr>\n",
       "      <th>140659</th>\n",
       "      <td>2017-06-26 19:10:00</td>\n",
       "      <td>NaN</td>\n",
       "    </tr>\n",
       "    <tr>\n",
       "      <th>140660</th>\n",
       "      <td>2017-06-26 19:20:00</td>\n",
       "      <td>NaN</td>\n",
       "    </tr>\n",
       "    <tr>\n",
       "      <th>140661</th>\n",
       "      <td>2017-06-26 19:30:00</td>\n",
       "      <td>NaN</td>\n",
       "    </tr>\n",
       "    <tr>\n",
       "      <th>140662</th>\n",
       "      <td>2017-06-26 19:40:00</td>\n",
       "      <td>NaN</td>\n",
       "    </tr>\n",
       "    <tr>\n",
       "      <th>140663</th>\n",
       "      <td>2017-06-26 19:50:00</td>\n",
       "      <td>NaN</td>\n",
       "    </tr>\n",
       "    <tr>\n",
       "      <th>140664</th>\n",
       "      <td>2017-06-26 20:00:00</td>\n",
       "      <td>NaN</td>\n",
       "    </tr>\n",
       "    <tr>\n",
       "      <th>140665</th>\n",
       "      <td>2017-06-26 20:10:00</td>\n",
       "      <td>NaN</td>\n",
       "    </tr>\n",
       "    <tr>\n",
       "      <th>140666</th>\n",
       "      <td>2017-06-26 20:20:00</td>\n",
       "      <td>NaN</td>\n",
       "    </tr>\n",
       "    <tr>\n",
       "      <th>140667</th>\n",
       "      <td>2017-06-26 20:30:00</td>\n",
       "      <td>NaN</td>\n",
       "    </tr>\n",
       "    <tr>\n",
       "      <th>140668</th>\n",
       "      <td>2017-06-26 20:40:00</td>\n",
       "      <td>NaN</td>\n",
       "    </tr>\n",
       "    <tr>\n",
       "      <th>140669</th>\n",
       "      <td>2017-06-26 20:50:00</td>\n",
       "      <td>NaN</td>\n",
       "    </tr>\n",
       "    <tr>\n",
       "      <th>140670</th>\n",
       "      <td>2017-06-26 21:00:00</td>\n",
       "      <td>NaN</td>\n",
       "    </tr>\n",
       "    <tr>\n",
       "      <th>236080</th>\n",
       "      <td>2020-10-15 10:40:00</td>\n",
       "      <td>NaN</td>\n",
       "    </tr>\n",
       "  </tbody>\n",
       "</table>\n",
       "</div>"
      ],
      "text/plain": [
       "                        날짜  행주대교_유량\n",
       "140613 2017-06-26 11:30:00      NaN\n",
       "140614 2017-06-26 11:40:00      NaN\n",
       "140615 2017-06-26 11:50:00      NaN\n",
       "140616 2017-06-26 12:00:00      NaN\n",
       "140617 2017-06-26 12:10:00      NaN\n",
       "140618 2017-06-26 12:20:00      NaN\n",
       "140619 2017-06-26 12:30:00      NaN\n",
       "140620 2017-06-26 12:40:00      NaN\n",
       "140621 2017-06-26 12:50:00      NaN\n",
       "140622 2017-06-26 13:00:00      NaN\n",
       "140623 2017-06-26 13:10:00      NaN\n",
       "140624 2017-06-26 13:20:00      NaN\n",
       "140625 2017-06-26 13:30:00      NaN\n",
       "140626 2017-06-26 13:40:00      NaN\n",
       "140627 2017-06-26 13:50:00      NaN\n",
       "140628 2017-06-26 14:00:00      NaN\n",
       "140629 2017-06-26 14:10:00      NaN\n",
       "140630 2017-06-26 14:20:00      NaN\n",
       "140631 2017-06-26 14:30:00      NaN\n",
       "140632 2017-06-26 14:40:00      NaN\n",
       "140633 2017-06-26 14:50:00      NaN\n",
       "140634 2017-06-26 15:00:00      NaN\n",
       "140635 2017-06-26 15:10:00      NaN\n",
       "140636 2017-06-26 15:20:00      NaN\n",
       "140637 2017-06-26 15:30:00      NaN\n",
       "140638 2017-06-26 15:40:00      NaN\n",
       "140639 2017-06-26 15:50:00      NaN\n",
       "140640 2017-06-26 16:00:00      NaN\n",
       "140641 2017-06-26 16:10:00      NaN\n",
       "140642 2017-06-26 16:20:00      NaN\n",
       "140643 2017-06-26 16:30:00      NaN\n",
       "140644 2017-06-26 16:40:00      NaN\n",
       "140645 2017-06-26 16:50:00      NaN\n",
       "140646 2017-06-26 17:00:00      NaN\n",
       "140647 2017-06-26 17:10:00      NaN\n",
       "140648 2017-06-26 17:20:00      NaN\n",
       "140649 2017-06-26 17:30:00      NaN\n",
       "140650 2017-06-26 17:40:00      NaN\n",
       "140651 2017-06-26 17:50:00      NaN\n",
       "140652 2017-06-26 18:00:00      NaN\n",
       "140653 2017-06-26 18:10:00      NaN\n",
       "140654 2017-06-26 18:20:00      NaN\n",
       "140655 2017-06-26 18:30:00      NaN\n",
       "140656 2017-06-26 18:40:00      NaN\n",
       "140657 2017-06-26 18:50:00      NaN\n",
       "140658 2017-06-26 19:00:00      NaN\n",
       "140659 2017-06-26 19:10:00      NaN\n",
       "140660 2017-06-26 19:20:00      NaN\n",
       "140661 2017-06-26 19:30:00      NaN\n",
       "140662 2017-06-26 19:40:00      NaN\n",
       "140663 2017-06-26 19:50:00      NaN\n",
       "140664 2017-06-26 20:00:00      NaN\n",
       "140665 2017-06-26 20:10:00      NaN\n",
       "140666 2017-06-26 20:20:00      NaN\n",
       "140667 2017-06-26 20:30:00      NaN\n",
       "140668 2017-06-26 20:40:00      NaN\n",
       "140669 2017-06-26 20:50:00      NaN\n",
       "140670 2017-06-26 21:00:00      NaN\n",
       "236080 2020-10-15 10:40:00      NaN"
      ]
     },
     "execution_count": 249,
     "metadata": {},
     "output_type": "execute_result"
    }
   ],
   "source": [
    "haengju[haengju['행주대교_유량'].isnull()]   # 16380개의 결측치 : 순서대로 채우기"
   ]
  },
  {
   "cell_type": "code",
   "execution_count": 250,
   "id": "509db04e",
   "metadata": {
    "colab": {
     "base_uri": "https://localhost:8080/"
    },
    "executionInfo": {
     "elapsed": 427,
     "status": "ok",
     "timestamp": 1660743839256,
     "user": {
      "displayName": "이예림(상경대학 응용통계학과)",
      "userId": "02944141114007762965"
     },
     "user_tz": -540
    },
    "id": "RrthJw76c4B6",
    "outputId": "10fb03a5-e4db-469a-ccd9-80f777cdb60e"
   },
   "outputs": [],
   "source": [
    "nan_index = list(haengju[haengju['행주대교_유량'].isnull()].index)"
   ]
  },
  {
   "cell_type": "code",
   "execution_count": 251,
   "id": "f18a359e",
   "metadata": {
    "colab": {
     "base_uri": "https://localhost:8080/"
    },
    "executionInfo": {
     "elapsed": 933,
     "status": "ok",
     "timestamp": 1660743839772,
     "user": {
      "displayName": "이예림(상경대학 응용통계학과)",
      "userId": "02944141114007762965"
     },
     "user_tz": -540
    },
    "id": "ubfxLxNcX-Nz",
    "outputId": "0680fa41-41e1-4ec1-90ef-81bd0fe72ea8"
   },
   "outputs": [
    {
     "data": {
      "text/plain": [
       "True"
      ]
     },
     "execution_count": 251,
     "metadata": {},
     "output_type": "execute_result"
    }
   ],
   "source": [
    "# Index 분리\n",
    "\n",
    "index_interpolate = []\n",
    "index_sarima = []\n",
    "\n",
    "i = 0\n",
    "while i < len(nan_index)-2:\n",
    "  if nan_index[i+2] == nan_index[i+1]+1 == nan_index[i]+2:\n",
    "    index_sarima.append(nan_index[i])\n",
    "    i += 1\n",
    "  elif nan_index[i+2] != nan_index[i+1]+1 and nan_index[i+1] == nan_index[i]+1:\n",
    "    index_sarima.extend([nan_index[i], nan_index[i+1]])\n",
    "    i += 2\n",
    "  else:\n",
    "    index_interpolate.append(nan_index[i])\n",
    "    i += 1\n",
    "\n",
    "index_interpolate.extend(nan_index[-1:])\n",
    "\n",
    "# if nan_index[-3]+1 != nan_index[-2]:\n",
    "#     index_interpolate.extend(nan_index[-2:])\n",
    "# else:\n",
    "#     index_interpolate.extend(nan_index[-1:])\n",
    "\n",
    "nan_index == sorted(index_interpolate+index_sarima)"
   ]
  },
  {
   "cell_type": "markdown",
   "id": "c71bbe15",
   "metadata": {
    "id": "55pXgjIPTEJF"
   },
   "source": [
    "## 1. 비연속적 결측값 처리 by Interpolation"
   ]
  },
  {
   "cell_type": "code",
   "execution_count": 252,
   "id": "71d444f2",
   "metadata": {
    "colab": {
     "base_uri": "https://localhost:8080/"
    },
    "executionInfo": {
     "elapsed": 210,
     "status": "ok",
     "timestamp": 1660743839774,
     "user": {
      "displayName": "이예림(상경대학 응용통계학과)",
      "userId": "02944141114007762965"
     },
     "user_tz": -540
    },
    "id": "HhxuRyakk_qm",
    "outputId": "c6d69d1e-0682-48d3-c8f6-bcd80bbc32e5"
   },
   "outputs": [],
   "source": [
    "# Interpolation에 쓰일 인덱스 지정 (결측값 기준 앞, 뒤 + 자체)\n",
    "\n",
    "index_interpolate_ = sum([[i-1, i, i+1] for i in index_interpolate], [])"
   ]
  },
  {
   "cell_type": "code",
   "execution_count": 253,
   "id": "5cca2369",
   "metadata": {
    "colab": {
     "base_uri": "https://localhost:8080/"
    },
    "executionInfo": {
     "elapsed": 184,
     "status": "ok",
     "timestamp": 1660743839775,
     "user": {
      "displayName": "이예림(상경대학 응용통계학과)",
      "userId": "02944141114007762965"
     },
     "user_tz": -540
    },
    "id": "sYfcdbzem2H2",
    "outputId": "d28d8051-90e8-4024-ba06-43b0cdb46c76"
   },
   "outputs": [
    {
     "data": {
      "text/plain": [
       "True"
      ]
     },
     "execution_count": 253,
     "metadata": {},
     "output_type": "execute_result"
    }
   ],
   "source": [
    "len(index_interpolate_) == len(set(index_interpolate)) * 3   # 겹치는 index 없는지 확인"
   ]
  },
  {
   "cell_type": "code",
   "execution_count": 254,
   "id": "6c9e76d6",
   "metadata": {
    "colab": {
     "base_uri": "https://localhost:8080/",
     "height": 455
    },
    "executionInfo": {
     "elapsed": 99,
     "status": "ok",
     "timestamp": 1660743839776,
     "user": {
      "displayName": "이예림(상경대학 응용통계학과)",
      "userId": "02944141114007762965"
     },
     "user_tz": -540
    },
    "id": "pZAsVV_vbkl8",
    "outputId": "1723905b-154b-421b-ec39-30162831b99b"
   },
   "outputs": [
    {
     "data": {
      "text/html": [
       "<div>\n",
       "<style scoped>\n",
       "    .dataframe tbody tr th:only-of-type {\n",
       "        vertical-align: middle;\n",
       "    }\n",
       "\n",
       "    .dataframe tbody tr th {\n",
       "        vertical-align: top;\n",
       "    }\n",
       "\n",
       "    .dataframe thead th {\n",
       "        text-align: right;\n",
       "    }\n",
       "</style>\n",
       "<table border=\"1\" class=\"dataframe\">\n",
       "  <thead>\n",
       "    <tr style=\"text-align: right;\">\n",
       "      <th></th>\n",
       "      <th>행주대교_유량</th>\n",
       "    </tr>\n",
       "    <tr>\n",
       "      <th>날짜</th>\n",
       "      <th></th>\n",
       "    </tr>\n",
       "  </thead>\n",
       "  <tbody>\n",
       "    <tr>\n",
       "      <th>2020-10-15 10:30:00</th>\n",
       "      <td>762.23</td>\n",
       "    </tr>\n",
       "    <tr>\n",
       "      <th>2020-10-15 10:40:00</th>\n",
       "      <td>NaN</td>\n",
       "    </tr>\n",
       "    <tr>\n",
       "      <th>2020-10-15 10:50:00</th>\n",
       "      <td>734.09</td>\n",
       "    </tr>\n",
       "  </tbody>\n",
       "</table>\n",
       "</div>"
      ],
      "text/plain": [
       "                     행주대교_유량\n",
       "날짜                          \n",
       "2020-10-15 10:30:00   762.23\n",
       "2020-10-15 10:40:00      NaN\n",
       "2020-10-15 10:50:00   734.09"
      ]
     },
     "execution_count": 254,
     "metadata": {},
     "output_type": "execute_result"
    }
   ],
   "source": [
    "# 데이터프레임 분리\n",
    "\n",
    "haengju_interpolate = haengju.copy()\n",
    "haengju_interpolate = haengju_interpolate.set_index('날짜')\n",
    "haengju_interpolate = haengju_interpolate.iloc[index_interpolate_, :]\n",
    "haengju_interpolate"
   ]
  },
  {
   "cell_type": "code",
   "execution_count": 255,
   "id": "b22a5342",
   "metadata": {
    "colab": {
     "base_uri": "https://localhost:8080/",
     "height": 455
    },
    "executionInfo": {
     "elapsed": 97,
     "status": "ok",
     "timestamp": 1660743839777,
     "user": {
      "displayName": "이예림(상경대학 응용통계학과)",
      "userId": "02944141114007762965"
     },
     "user_tz": -540
    },
    "id": "Ern-vbzfne74",
    "outputId": "3b42110e-9ac7-4f06-9b92-8ea8b7a34476"
   },
   "outputs": [
    {
     "data": {
      "text/html": [
       "<div>\n",
       "<style scoped>\n",
       "    .dataframe tbody tr th:only-of-type {\n",
       "        vertical-align: middle;\n",
       "    }\n",
       "\n",
       "    .dataframe tbody tr th {\n",
       "        vertical-align: top;\n",
       "    }\n",
       "\n",
       "    .dataframe thead th {\n",
       "        text-align: right;\n",
       "    }\n",
       "</style>\n",
       "<table border=\"1\" class=\"dataframe\">\n",
       "  <thead>\n",
       "    <tr style=\"text-align: right;\">\n",
       "      <th></th>\n",
       "      <th>행주대교_유량</th>\n",
       "    </tr>\n",
       "    <tr>\n",
       "      <th>날짜</th>\n",
       "      <th></th>\n",
       "    </tr>\n",
       "  </thead>\n",
       "  <tbody>\n",
       "    <tr>\n",
       "      <th>2020-10-15 10:30:00</th>\n",
       "      <td>762.23</td>\n",
       "    </tr>\n",
       "    <tr>\n",
       "      <th>2020-10-15 10:40:00</th>\n",
       "      <td>748.16</td>\n",
       "    </tr>\n",
       "    <tr>\n",
       "      <th>2020-10-15 10:50:00</th>\n",
       "      <td>734.09</td>\n",
       "    </tr>\n",
       "  </tbody>\n",
       "</table>\n",
       "</div>"
      ],
      "text/plain": [
       "                     행주대교_유량\n",
       "날짜                          \n",
       "2020-10-15 10:30:00   762.23\n",
       "2020-10-15 10:40:00   748.16\n",
       "2020-10-15 10:50:00   734.09"
      ]
     },
     "execution_count": 255,
     "metadata": {},
     "output_type": "execute_result"
    }
   ],
   "source": [
    "# 보간\n",
    "\n",
    "haengju_interpolate.interpolate(method='time', inplace=True)\n",
    "haengju_interpolate   # 보간 결과 확인"
   ]
  },
  {
   "cell_type": "code",
   "execution_count": 256,
   "id": "f8b488d6",
   "metadata": {
    "colab": {
     "base_uri": "https://localhost:8080/"
    },
    "executionInfo": {
     "elapsed": 94,
     "status": "ok",
     "timestamp": 1660743839778,
     "user": {
      "displayName": "이예림(상경대학 응용통계학과)",
      "userId": "02944141114007762965"
     },
     "user_tz": -540
    },
    "id": "eeQuJ8GYfv4m",
    "outputId": "e6306177-a229-4704-90bc-46cbd35d38fe"
   },
   "outputs": [
    {
     "data": {
      "text/plain": [
       "행주대교_유량    0\n",
       "dtype: int64"
      ]
     },
     "execution_count": 256,
     "metadata": {},
     "output_type": "execute_result"
    }
   ],
   "source": [
    "haengju_interpolate.isnull().sum()"
   ]
  },
  {
   "cell_type": "code",
   "execution_count": 257,
   "id": "f5e67633",
   "metadata": {
    "colab": {
     "base_uri": "https://localhost:8080/"
    },
    "executionInfo": {
     "elapsed": 71,
     "status": "ok",
     "timestamp": 1660743839779,
     "user": {
      "displayName": "이예림(상경대학 응용통계학과)",
      "userId": "02944141114007762965"
     },
     "user_tz": -540
    },
    "id": "Nb9VtE6YXsLz",
    "outputId": "e2685d76-bd81-4d7f-d4ee-c4d2b1ed1b4e"
   },
   "outputs": [
    {
     "data": {
      "text/plain": [
       "행주대교_유량    True\n",
       "dtype: bool"
      ]
     },
     "execution_count": 257,
     "metadata": {},
     "output_type": "execute_result"
    }
   ],
   "source": [
    "haengju = haengju.set_index('날짜')\n",
    "haengju.loc[haengju_interpolate.index] = haengju_interpolate\n",
    "haengju.isnull().sum() == len(index_sarima)   # 남은 결측치 개수가 SARIMA로 채워야 할 결측치 개수(len(index_sarima))와 같은지 확인"
   ]
  },
  {
   "cell_type": "markdown",
   "id": "9da66ae7",
   "metadata": {
    "id": "dK89voI3c8Q0"
   },
   "source": [
    "## 2. 연속적 결측값 처리 by SARIMA"
   ]
  },
  {
   "cell_type": "code",
   "execution_count": 258,
   "id": "8eb49760",
   "metadata": {
    "colab": {
     "base_uri": "https://localhost:8080/",
     "height": 636
    },
    "executionInfo": {
     "elapsed": 21555,
     "status": "ok",
     "timestamp": 1660743861266,
     "user": {
      "displayName": "이예림(상경대학 응용통계학과)",
      "userId": "02944141114007762965"
     },
     "user_tz": -540
    },
    "id": "-uugY5hBTMTa",
    "outputId": "931c6453-6c54-4bce-c91a-90a599ab57d7"
   },
   "outputs": [],
   "source": [
    "#!pip install pmdarima"
   ]
  },
  {
   "cell_type": "code",
   "execution_count": 259,
   "id": "34629a46",
   "metadata": {
    "executionInfo": {
     "elapsed": 1552,
     "status": "ok",
     "timestamp": 1660743862779,
     "user": {
      "displayName": "이예림(상경대학 응용통계학과)",
      "userId": "02944141114007762965"
     },
     "user_tz": -540
    },
    "id": "BxiLQENsdZvT"
   },
   "outputs": [],
   "source": [
    "from statsmodels.tsa.statespace.sarimax import SARIMAX\n",
    "import pmdarima as pm"
   ]
  },
  {
   "cell_type": "code",
   "execution_count": 260,
   "id": "96ae3c44",
   "metadata": {
    "colab": {
     "base_uri": "https://localhost:8080/"
    },
    "executionInfo": {
     "elapsed": 202,
     "status": "ok",
     "timestamp": 1660743862783,
     "user": {
      "displayName": "이예림(상경대학 응용통계학과)",
      "userId": "02944141114007762965"
     },
     "user_tz": -540
    },
    "id": "zSu62iX5Ta7f",
    "outputId": "ae70a0f4-a900-4c77-d110-f8018942180f"
   },
   "outputs": [
    {
     "data": {
      "text/plain": [
       "140613"
      ]
     },
     "execution_count": 260,
     "metadata": {},
     "output_type": "execute_result"
    }
   ],
   "source": [
    "index_sarima[0]"
   ]
  },
  {
   "cell_type": "code",
   "execution_count": 261,
   "id": "2084d1f7",
   "metadata": {
    "colab": {
     "base_uri": "https://localhost:8080/"
    },
    "executionInfo": {
     "elapsed": 283,
     "status": "ok",
     "timestamp": 1660743862881,
     "user": {
      "displayName": "이예림(상경대학 응용통계학과)",
      "userId": "02944141114007762965"
     },
     "user_tz": -540
    },
    "id": "8bN42uONUfY9",
    "outputId": "9ba9b11d-90d1-4d51-dbff-057d740b6556"
   },
   "outputs": [
    {
     "name": "stdout",
     "output_type": "stream",
     "text": [
      "[[140613, 140614, 140615, 140616, 140617, 140618, 140619, 140620, 140621, 140622, 140623, 140624, 140625, 140626, 140627, 140628, 140629, 140630, 140631, 140632, 140633, 140634, 140635, 140636, 140637, 140638, 140639, 140640, 140641, 140642, 140643, 140644, 140645, 140646, 140647, 140648, 140649, 140650, 140651, 140652, 140653, 140654, 140655, 140656, 140657, 140658, 140659, 140660, 140661, 140662, 140663, 140664, 140665, 140666, 140667, 140668, 140669, 140670]]\n"
     ]
    }
   ],
   "source": [
    "# 연속된 구간별로 분리\n",
    "\n",
    "i = 0\n",
    "temp = []\n",
    "total = []\n",
    "\n",
    "while i>=0:\n",
    "  try:\n",
    "    if index_sarima[i+2]==index_sarima[i+1]+1==index_sarima[i]+2:\n",
    "      temp.append(index_sarima[i])\n",
    "      i += 1\n",
    "    elif index_sarima[i+2]!=index_sarima[i+1]+1==index_sarima[i]+2:\n",
    "      temp.extend([index_sarima[i], index_sarima[i+1]])\n",
    "      #print(temp)\n",
    "      total.append(temp)\n",
    "      temp = []\n",
    "      i += 2\n",
    "  except:\n",
    "    break\n",
    "\n",
    "# 예외 처리\n",
    "#temp = index_sarima[-2:]\n",
    "#print(temp)\n",
    "total.append(temp)\n",
    "total[len(total)-1].append(index_sarima[-2:][0])\n",
    "total[len(total)-1].append(index_sarima[-2:][1])\n",
    "print(total)"
   ]
  },
  {
   "cell_type": "code",
   "execution_count": 262,
   "id": "4f892ecb",
   "metadata": {
    "colab": {
     "base_uri": "https://localhost:8080/"
    },
    "executionInfo": {
     "elapsed": 292,
     "status": "ok",
     "timestamp": 1660743862962,
     "user": {
      "displayName": "이예림(상경대학 응용통계학과)",
      "userId": "02944141114007762965"
     },
     "user_tz": -540
    },
    "id": "r6E66IVMXyg3",
    "outputId": "d28cd1a6-573d-4b29-8979-8c2d879095e2",
    "scrolled": true
   },
   "outputs": [
    {
     "data": {
      "text/plain": [
       "True"
      ]
     },
     "execution_count": 262,
     "metadata": {},
     "output_type": "execute_result"
    }
   ],
   "source": [
    "sum(total, []) == index_sarima   # 분리가 잘 이루어졌는지 확인"
   ]
  },
  {
   "cell_type": "code",
   "execution_count": 263,
   "id": "0a9cc273",
   "metadata": {},
   "outputs": [
    {
     "data": {
      "text/plain": [
       "1"
      ]
     },
     "execution_count": 263,
     "metadata": {},
     "output_type": "execute_result"
    }
   ],
   "source": [
    "len(total) #결측치 처리해야 하는 구간의 수"
   ]
  },
  {
   "cell_type": "code",
   "execution_count": 264,
   "id": "77b52687",
   "metadata": {
    "colab": {
     "base_uri": "https://localhost:8080/"
    },
    "executionInfo": {
     "elapsed": 6204453,
     "status": "ok",
     "timestamp": 1660750114017,
     "user": {
      "displayName": "이예림(상경대학 응용통계학과)",
      "userId": "02944141114007762965"
     },
     "user_tz": -540
    },
    "id": "_HQ9SccJYZif",
    "outputId": "075320ea-d158-4e10-9cdc-e83f87732872",
    "scrolled": true
   },
   "outputs": [],
   "source": [
    "# 전체 다 1일, 즉 직전 144개의 row를 반영하여 결측치 처리\n",
    "\n",
    "for range in total:\n",
    "  start = range[0]\n",
    "  model = pm.auto_arima(haengju[start-144:start], seasonal=True)\n",
    "  haengju.iloc[range, 0] = model.predict(len(range))\n",
    "  #print(f'{total.index(range)+1}번째 구간 결측치 처리 완료')"
   ]
  },
  {
   "cell_type": "code",
   "execution_count": 265,
   "id": "13f36753",
   "metadata": {
    "colab": {
     "base_uri": "https://localhost:8080/"
    },
    "executionInfo": {
     "elapsed": 84,
     "status": "ok",
     "timestamp": 1660750114020,
     "user": {
      "displayName": "이예림(상경대학 응용통계학과)",
      "userId": "02944141114007762965"
     },
     "user_tz": -540
    },
    "id": "fLkpB1I5bSZu",
    "outputId": "39baa2da-b52e-485c-9c47-103c9755c247"
   },
   "outputs": [
    {
     "data": {
      "text/plain": [
       "행주대교_유량    0\n",
       "dtype: int64"
      ]
     },
     "execution_count": 265,
     "metadata": {},
     "output_type": "execute_result"
    }
   ],
   "source": [
    "# 결측치가 모두 처리되었는지 확인\n",
    "\n",
    "haengju.isnull().sum()"
   ]
  },
  {
   "cell_type": "code",
   "execution_count": 266,
   "id": "7cbf3d63",
   "metadata": {
    "colab": {
     "base_uri": "https://localhost:8080/",
     "height": 265
    },
    "executionInfo": {
     "elapsed": 964,
     "status": "ok",
     "timestamp": 1660750930556,
     "user": {
      "displayName": "이예림(상경대학 응용통계학과)",
      "userId": "02944141114007762965"
     },
     "user_tz": -540
    },
    "id": "LrPrN4VIbX4u",
    "outputId": "b288020c-e222-4519-ec78-8461c318fde4"
   },
   "outputs": [
    {
     "data": {
      "image/png": "[encoded data removed]",
      "text/plain": [
       "<Figure size 432x288 with 1 Axes>"
      ]
     },
     "metadata": {
      "needs_background": "light"
     },
     "output_type": "display_data"
    }
   ],
   "source": [
    "# 결측치 처리 형태 확인 (인덱스 번째 구간)\n",
    "\n",
    "plt.plot(total[0], haengju.iloc[total[0], 0])\n",
    "plt.show()"
   ]
  },
  {
   "cell_type": "code",
   "execution_count": 267,
   "id": "8c4f54cd",
   "metadata": {},
   "outputs": [
    {
     "data": {
      "text/plain": [
       "[<matplotlib.lines.Line2D at 0x1e43be1c610>]"
      ]
     },
     "execution_count": 267,
     "metadata": {},
     "output_type": "execute_result"
    },
    {
     "data": {
      "image/png": "[encoded data removed]",
      "text/plain": [
       "<Figure size 432x288 with 1 Axes>"
      ]
     },
     "metadata": {
      "needs_background": "light"
     },
     "output_type": "display_data"
    }
   ],
   "source": [
    "plt.plot(haengju[140000:141000])"
   ]
  },
  {
   "cell_type": "code",
   "execution_count": null,
   "id": "66d7fe87",
   "metadata": {},
   "outputs": [],
   "source": []
  },
  {
   "cell_type": "markdown",
   "id": "aedda7da",
   "metadata": {
    "id": "mK0eaXyuTuhT"
   },
   "source": [
    "# 청담대교 수위 결측치 처리"
   ]
  },
  {
   "cell_type": "code",
   "execution_count": 350,
   "id": "2de538bf",
   "metadata": {
    "colab": {
     "base_uri": "https://localhost:8080/",
     "height": 424
    },
    "executionInfo": {
     "elapsed": 432,
     "status": "ok",
     "timestamp": 1660743839242,
     "user": {
      "displayName": "이예림(상경대학 응용통계학과)",
      "userId": "02944141114007762965"
     },
     "user_tz": -540
    },
    "id": "Mdz_YyjTTcH1",
    "outputId": "5c77d4d1-09af-467a-ad8f-cd70df07dbb2"
   },
   "outputs": [],
   "source": [
    "청담 = data[['날짜', '청담대교_수위']]"
   ]
  },
  {
   "cell_type": "code",
   "execution_count": 351,
   "id": "51b2117f",
   "metadata": {
    "colab": {
     "base_uri": "https://localhost:8080/",
     "height": 532
    },
    "executionInfo": {
     "elapsed": 438,
     "status": "ok",
     "timestamp": 1660743839252,
     "user": {
      "displayName": "이예림(상경대학 응용통계학과)",
      "userId": "02944141114007762965"
     },
     "user_tz": -540
    },
    "id": "NOkjGH6yVaXY",
    "outputId": "682e1c1e-adc1-4115-c609-21eb3561ea88"
   },
   "outputs": [
    {
     "name": "stderr",
     "output_type": "stream",
     "text": [
      "C:\\Users\\sjkan\\AppData\\Local\\Temp\\ipykernel_11972\\2565458255.py:1: SettingWithCopyWarning: \n",
      "A value is trying to be set on a copy of a slice from a DataFrame.\n",
      "Try using .loc[row_indexer,col_indexer] = value instead\n",
      "\n",
      "See the caveats in the documentation: https://pandas.pydata.org/pandas-docs/stable/user_guide/indexing.html#returning-a-view-versus-a-copy\n",
      "  청담.날짜 = pd.to_datetime(청담.날짜)\n"
     ]
    },
    {
     "data": {
      "text/html": [
       "<div>\n",
       "<style scoped>\n",
       "    .dataframe tbody tr th:only-of-type {\n",
       "        vertical-align: middle;\n",
       "    }\n",
       "\n",
       "    .dataframe tbody tr th {\n",
       "        vertical-align: top;\n",
       "    }\n",
       "\n",
       "    .dataframe thead th {\n",
       "        text-align: right;\n",
       "    }\n",
       "</style>\n",
       "<table border=\"1\" class=\"dataframe\">\n",
       "  <thead>\n",
       "    <tr style=\"text-align: right;\">\n",
       "      <th></th>\n",
       "      <th>날짜</th>\n",
       "      <th>청담대교_수위</th>\n",
       "    </tr>\n",
       "  </thead>\n",
       "  <tbody>\n",
       "    <tr>\n",
       "      <th>0</th>\n",
       "      <td>2012-05-01 00:00:00</td>\n",
       "      <td>310.7</td>\n",
       "    </tr>\n",
       "    <tr>\n",
       "      <th>1</th>\n",
       "      <td>2012-05-01 00:10:00</td>\n",
       "      <td>314.7</td>\n",
       "    </tr>\n",
       "    <tr>\n",
       "      <th>2</th>\n",
       "      <td>2012-05-01 00:20:00</td>\n",
       "      <td>313.7</td>\n",
       "    </tr>\n",
       "    <tr>\n",
       "      <th>3</th>\n",
       "      <td>2012-05-01 00:30:00</td>\n",
       "      <td>311.7</td>\n",
       "    </tr>\n",
       "    <tr>\n",
       "      <th>4</th>\n",
       "      <td>2012-05-01 00:40:00</td>\n",
       "      <td>311.7</td>\n",
       "    </tr>\n",
       "    <tr>\n",
       "      <th>...</th>\n",
       "      <td>...</td>\n",
       "      <td>...</td>\n",
       "    </tr>\n",
       "    <tr>\n",
       "      <th>276331</th>\n",
       "      <td>2022-07-18 23:10:00</td>\n",
       "      <td>0.0</td>\n",
       "    </tr>\n",
       "    <tr>\n",
       "      <th>276332</th>\n",
       "      <td>2022-07-18 23:20:00</td>\n",
       "      <td>0.0</td>\n",
       "    </tr>\n",
       "    <tr>\n",
       "      <th>276333</th>\n",
       "      <td>2022-07-18 23:30:00</td>\n",
       "      <td>0.0</td>\n",
       "    </tr>\n",
       "    <tr>\n",
       "      <th>276334</th>\n",
       "      <td>2022-07-18 23:40:00</td>\n",
       "      <td>0.0</td>\n",
       "    </tr>\n",
       "    <tr>\n",
       "      <th>276335</th>\n",
       "      <td>2022-07-18 23:50:00</td>\n",
       "      <td>0.0</td>\n",
       "    </tr>\n",
       "  </tbody>\n",
       "</table>\n",
       "<p>276336 rows × 2 columns</p>\n",
       "</div>"
      ],
      "text/plain": [
       "                        날짜  청담대교_수위\n",
       "0      2012-05-01 00:00:00    310.7\n",
       "1      2012-05-01 00:10:00    314.7\n",
       "2      2012-05-01 00:20:00    313.7\n",
       "3      2012-05-01 00:30:00    311.7\n",
       "4      2012-05-01 00:40:00    311.7\n",
       "...                    ...      ...\n",
       "276331 2022-07-18 23:10:00      0.0\n",
       "276332 2022-07-18 23:20:00      0.0\n",
       "276333 2022-07-18 23:30:00      0.0\n",
       "276334 2022-07-18 23:40:00      0.0\n",
       "276335 2022-07-18 23:50:00      0.0\n",
       "\n",
       "[276336 rows x 2 columns]"
      ]
     },
     "execution_count": 351,
     "metadata": {},
     "output_type": "execute_result"
    }
   ],
   "source": [
    "청담.날짜 = pd.to_datetime(청담.날짜)\n",
    "청담"
   ]
  },
  {
   "cell_type": "code",
   "execution_count": 352,
   "id": "1194e95d",
   "metadata": {
    "colab": {
     "base_uri": "https://localhost:8080/",
     "height": 424
    },
    "executionInfo": {
     "elapsed": 429,
     "status": "ok",
     "timestamp": 1660743839255,
     "user": {
      "displayName": "이예림(상경대학 응용통계학과)",
      "userId": "02944141114007762965"
     },
     "user_tz": -540
    },
    "id": "e4Q6xLdsTx3j",
    "outputId": "340420de-0607-4652-aac1-4417d179c65e",
    "scrolled": true
   },
   "outputs": [
    {
     "data": {
      "text/html": [
       "<div>\n",
       "<style scoped>\n",
       "    .dataframe tbody tr th:only-of-type {\n",
       "        vertical-align: middle;\n",
       "    }\n",
       "\n",
       "    .dataframe tbody tr th {\n",
       "        vertical-align: top;\n",
       "    }\n",
       "\n",
       "    .dataframe thead th {\n",
       "        text-align: right;\n",
       "    }\n",
       "</style>\n",
       "<table border=\"1\" class=\"dataframe\">\n",
       "  <thead>\n",
       "    <tr style=\"text-align: right;\">\n",
       "      <th></th>\n",
       "      <th>날짜</th>\n",
       "      <th>청담대교_수위</th>\n",
       "    </tr>\n",
       "  </thead>\n",
       "  <tbody>\n",
       "    <tr>\n",
       "      <th>140613</th>\n",
       "      <td>2017-06-26 11:30:00</td>\n",
       "      <td>NaN</td>\n",
       "    </tr>\n",
       "    <tr>\n",
       "      <th>140614</th>\n",
       "      <td>2017-06-26 11:40:00</td>\n",
       "      <td>NaN</td>\n",
       "    </tr>\n",
       "    <tr>\n",
       "      <th>140615</th>\n",
       "      <td>2017-06-26 11:50:00</td>\n",
       "      <td>NaN</td>\n",
       "    </tr>\n",
       "    <tr>\n",
       "      <th>140616</th>\n",
       "      <td>2017-06-26 12:00:00</td>\n",
       "      <td>NaN</td>\n",
       "    </tr>\n",
       "    <tr>\n",
       "      <th>140617</th>\n",
       "      <td>2017-06-26 12:10:00</td>\n",
       "      <td>NaN</td>\n",
       "    </tr>\n",
       "    <tr>\n",
       "      <th>140618</th>\n",
       "      <td>2017-06-26 12:20:00</td>\n",
       "      <td>NaN</td>\n",
       "    </tr>\n",
       "    <tr>\n",
       "      <th>140619</th>\n",
       "      <td>2017-06-26 12:30:00</td>\n",
       "      <td>NaN</td>\n",
       "    </tr>\n",
       "    <tr>\n",
       "      <th>140620</th>\n",
       "      <td>2017-06-26 12:40:00</td>\n",
       "      <td>NaN</td>\n",
       "    </tr>\n",
       "    <tr>\n",
       "      <th>140621</th>\n",
       "      <td>2017-06-26 12:50:00</td>\n",
       "      <td>NaN</td>\n",
       "    </tr>\n",
       "    <tr>\n",
       "      <th>140622</th>\n",
       "      <td>2017-06-26 13:00:00</td>\n",
       "      <td>NaN</td>\n",
       "    </tr>\n",
       "    <tr>\n",
       "      <th>140623</th>\n",
       "      <td>2017-06-26 13:10:00</td>\n",
       "      <td>NaN</td>\n",
       "    </tr>\n",
       "    <tr>\n",
       "      <th>140624</th>\n",
       "      <td>2017-06-26 13:20:00</td>\n",
       "      <td>NaN</td>\n",
       "    </tr>\n",
       "    <tr>\n",
       "      <th>140625</th>\n",
       "      <td>2017-06-26 13:30:00</td>\n",
       "      <td>NaN</td>\n",
       "    </tr>\n",
       "    <tr>\n",
       "      <th>140626</th>\n",
       "      <td>2017-06-26 13:40:00</td>\n",
       "      <td>NaN</td>\n",
       "    </tr>\n",
       "    <tr>\n",
       "      <th>140627</th>\n",
       "      <td>2017-06-26 13:50:00</td>\n",
       "      <td>NaN</td>\n",
       "    </tr>\n",
       "    <tr>\n",
       "      <th>140628</th>\n",
       "      <td>2017-06-26 14:00:00</td>\n",
       "      <td>NaN</td>\n",
       "    </tr>\n",
       "    <tr>\n",
       "      <th>140629</th>\n",
       "      <td>2017-06-26 14:10:00</td>\n",
       "      <td>NaN</td>\n",
       "    </tr>\n",
       "    <tr>\n",
       "      <th>140630</th>\n",
       "      <td>2017-06-26 14:20:00</td>\n",
       "      <td>NaN</td>\n",
       "    </tr>\n",
       "    <tr>\n",
       "      <th>140631</th>\n",
       "      <td>2017-06-26 14:30:00</td>\n",
       "      <td>NaN</td>\n",
       "    </tr>\n",
       "    <tr>\n",
       "      <th>140632</th>\n",
       "      <td>2017-06-26 14:40:00</td>\n",
       "      <td>NaN</td>\n",
       "    </tr>\n",
       "    <tr>\n",
       "      <th>140633</th>\n",
       "      <td>2017-06-26 14:50:00</td>\n",
       "      <td>NaN</td>\n",
       "    </tr>\n",
       "    <tr>\n",
       "      <th>140634</th>\n",
       "      <td>2017-06-26 15:00:00</td>\n",
       "      <td>NaN</td>\n",
       "    </tr>\n",
       "    <tr>\n",
       "      <th>140635</th>\n",
       "      <td>2017-06-26 15:10:00</td>\n",
       "      <td>NaN</td>\n",
       "    </tr>\n",
       "    <tr>\n",
       "      <th>140636</th>\n",
       "      <td>2017-06-26 15:20:00</td>\n",
       "      <td>NaN</td>\n",
       "    </tr>\n",
       "    <tr>\n",
       "      <th>140637</th>\n",
       "      <td>2017-06-26 15:30:00</td>\n",
       "      <td>NaN</td>\n",
       "    </tr>\n",
       "    <tr>\n",
       "      <th>140638</th>\n",
       "      <td>2017-06-26 15:40:00</td>\n",
       "      <td>NaN</td>\n",
       "    </tr>\n",
       "    <tr>\n",
       "      <th>140639</th>\n",
       "      <td>2017-06-26 15:50:00</td>\n",
       "      <td>NaN</td>\n",
       "    </tr>\n",
       "    <tr>\n",
       "      <th>140640</th>\n",
       "      <td>2017-06-26 16:00:00</td>\n",
       "      <td>NaN</td>\n",
       "    </tr>\n",
       "    <tr>\n",
       "      <th>140641</th>\n",
       "      <td>2017-06-26 16:10:00</td>\n",
       "      <td>NaN</td>\n",
       "    </tr>\n",
       "    <tr>\n",
       "      <th>140642</th>\n",
       "      <td>2017-06-26 16:20:00</td>\n",
       "      <td>NaN</td>\n",
       "    </tr>\n",
       "    <tr>\n",
       "      <th>140643</th>\n",
       "      <td>2017-06-26 16:30:00</td>\n",
       "      <td>NaN</td>\n",
       "    </tr>\n",
       "    <tr>\n",
       "      <th>140644</th>\n",
       "      <td>2017-06-26 16:40:00</td>\n",
       "      <td>NaN</td>\n",
       "    </tr>\n",
       "    <tr>\n",
       "      <th>140645</th>\n",
       "      <td>2017-06-26 16:50:00</td>\n",
       "      <td>NaN</td>\n",
       "    </tr>\n",
       "    <tr>\n",
       "      <th>140646</th>\n",
       "      <td>2017-06-26 17:00:00</td>\n",
       "      <td>NaN</td>\n",
       "    </tr>\n",
       "    <tr>\n",
       "      <th>140647</th>\n",
       "      <td>2017-06-26 17:10:00</td>\n",
       "      <td>NaN</td>\n",
       "    </tr>\n",
       "    <tr>\n",
       "      <th>140648</th>\n",
       "      <td>2017-06-26 17:20:00</td>\n",
       "      <td>NaN</td>\n",
       "    </tr>\n",
       "    <tr>\n",
       "      <th>140649</th>\n",
       "      <td>2017-06-26 17:30:00</td>\n",
       "      <td>NaN</td>\n",
       "    </tr>\n",
       "    <tr>\n",
       "      <th>140650</th>\n",
       "      <td>2017-06-26 17:40:00</td>\n",
       "      <td>NaN</td>\n",
       "    </tr>\n",
       "    <tr>\n",
       "      <th>140651</th>\n",
       "      <td>2017-06-26 17:50:00</td>\n",
       "      <td>NaN</td>\n",
       "    </tr>\n",
       "    <tr>\n",
       "      <th>140652</th>\n",
       "      <td>2017-06-26 18:00:00</td>\n",
       "      <td>NaN</td>\n",
       "    </tr>\n",
       "    <tr>\n",
       "      <th>140653</th>\n",
       "      <td>2017-06-26 18:10:00</td>\n",
       "      <td>NaN</td>\n",
       "    </tr>\n",
       "    <tr>\n",
       "      <th>140654</th>\n",
       "      <td>2017-06-26 18:20:00</td>\n",
       "      <td>NaN</td>\n",
       "    </tr>\n",
       "    <tr>\n",
       "      <th>140655</th>\n",
       "      <td>2017-06-26 18:30:00</td>\n",
       "      <td>NaN</td>\n",
       "    </tr>\n",
       "    <tr>\n",
       "      <th>140656</th>\n",
       "      <td>2017-06-26 18:40:00</td>\n",
       "      <td>NaN</td>\n",
       "    </tr>\n",
       "    <tr>\n",
       "      <th>140657</th>\n",
       "      <td>2017-06-26 18:50:00</td>\n",
       "      <td>NaN</td>\n",
       "    </tr>\n",
       "    <tr>\n",
       "      <th>140658</th>\n",
       "      <td>2017-06-26 19:00:00</td>\n",
       "      <td>NaN</td>\n",
       "    </tr>\n",
       "    <tr>\n",
       "      <th>140659</th>\n",
       "      <td>2017-06-26 19:10:00</td>\n",
       "      <td>NaN</td>\n",
       "    </tr>\n",
       "    <tr>\n",
       "      <th>140660</th>\n",
       "      <td>2017-06-26 19:20:00</td>\n",
       "      <td>NaN</td>\n",
       "    </tr>\n",
       "    <tr>\n",
       "      <th>140661</th>\n",
       "      <td>2017-06-26 19:30:00</td>\n",
       "      <td>NaN</td>\n",
       "    </tr>\n",
       "    <tr>\n",
       "      <th>140662</th>\n",
       "      <td>2017-06-26 19:40:00</td>\n",
       "      <td>NaN</td>\n",
       "    </tr>\n",
       "    <tr>\n",
       "      <th>140663</th>\n",
       "      <td>2017-06-26 19:50:00</td>\n",
       "      <td>NaN</td>\n",
       "    </tr>\n",
       "    <tr>\n",
       "      <th>140664</th>\n",
       "      <td>2017-06-26 20:00:00</td>\n",
       "      <td>NaN</td>\n",
       "    </tr>\n",
       "    <tr>\n",
       "      <th>140665</th>\n",
       "      <td>2017-06-26 20:10:00</td>\n",
       "      <td>NaN</td>\n",
       "    </tr>\n",
       "    <tr>\n",
       "      <th>140666</th>\n",
       "      <td>2017-06-26 20:20:00</td>\n",
       "      <td>NaN</td>\n",
       "    </tr>\n",
       "    <tr>\n",
       "      <th>140667</th>\n",
       "      <td>2017-06-26 20:30:00</td>\n",
       "      <td>NaN</td>\n",
       "    </tr>\n",
       "    <tr>\n",
       "      <th>140668</th>\n",
       "      <td>2017-06-26 20:40:00</td>\n",
       "      <td>NaN</td>\n",
       "    </tr>\n",
       "    <tr>\n",
       "      <th>140669</th>\n",
       "      <td>2017-06-26 20:50:00</td>\n",
       "      <td>NaN</td>\n",
       "    </tr>\n",
       "    <tr>\n",
       "      <th>140670</th>\n",
       "      <td>2017-06-26 21:00:00</td>\n",
       "      <td>NaN</td>\n",
       "    </tr>\n",
       "    <tr>\n",
       "      <th>236080</th>\n",
       "      <td>2020-10-15 10:40:00</td>\n",
       "      <td>NaN</td>\n",
       "    </tr>\n",
       "  </tbody>\n",
       "</table>\n",
       "</div>"
      ],
      "text/plain": [
       "                        날짜  청담대교_수위\n",
       "140613 2017-06-26 11:30:00      NaN\n",
       "140614 2017-06-26 11:40:00      NaN\n",
       "140615 2017-06-26 11:50:00      NaN\n",
       "140616 2017-06-26 12:00:00      NaN\n",
       "140617 2017-06-26 12:10:00      NaN\n",
       "140618 2017-06-26 12:20:00      NaN\n",
       "140619 2017-06-26 12:30:00      NaN\n",
       "140620 2017-06-26 12:40:00      NaN\n",
       "140621 2017-06-26 12:50:00      NaN\n",
       "140622 2017-06-26 13:00:00      NaN\n",
       "140623 2017-06-26 13:10:00      NaN\n",
       "140624 2017-06-26 13:20:00      NaN\n",
       "140625 2017-06-26 13:30:00      NaN\n",
       "140626 2017-06-26 13:40:00      NaN\n",
       "140627 2017-06-26 13:50:00      NaN\n",
       "140628 2017-06-26 14:00:00      NaN\n",
       "140629 2017-06-26 14:10:00      NaN\n",
       "140630 2017-06-26 14:20:00      NaN\n",
       "140631 2017-06-26 14:30:00      NaN\n",
       "140632 2017-06-26 14:40:00      NaN\n",
       "140633 2017-06-26 14:50:00      NaN\n",
       "140634 2017-06-26 15:00:00      NaN\n",
       "140635 2017-06-26 15:10:00      NaN\n",
       "140636 2017-06-26 15:20:00      NaN\n",
       "140637 2017-06-26 15:30:00      NaN\n",
       "140638 2017-06-26 15:40:00      NaN\n",
       "140639 2017-06-26 15:50:00      NaN\n",
       "140640 2017-06-26 16:00:00      NaN\n",
       "140641 2017-06-26 16:10:00      NaN\n",
       "140642 2017-06-26 16:20:00      NaN\n",
       "140643 2017-06-26 16:30:00      NaN\n",
       "140644 2017-06-26 16:40:00      NaN\n",
       "140645 2017-06-26 16:50:00      NaN\n",
       "140646 2017-06-26 17:00:00      NaN\n",
       "140647 2017-06-26 17:10:00      NaN\n",
       "140648 2017-06-26 17:20:00      NaN\n",
       "140649 2017-06-26 17:30:00      NaN\n",
       "140650 2017-06-26 17:40:00      NaN\n",
       "140651 2017-06-26 17:50:00      NaN\n",
       "140652 2017-06-26 18:00:00      NaN\n",
       "140653 2017-06-26 18:10:00      NaN\n",
       "140654 2017-06-26 18:20:00      NaN\n",
       "140655 2017-06-26 18:30:00      NaN\n",
       "140656 2017-06-26 18:40:00      NaN\n",
       "140657 2017-06-26 18:50:00      NaN\n",
       "140658 2017-06-26 19:00:00      NaN\n",
       "140659 2017-06-26 19:10:00      NaN\n",
       "140660 2017-06-26 19:20:00      NaN\n",
       "140661 2017-06-26 19:30:00      NaN\n",
       "140662 2017-06-26 19:40:00      NaN\n",
       "140663 2017-06-26 19:50:00      NaN\n",
       "140664 2017-06-26 20:00:00      NaN\n",
       "140665 2017-06-26 20:10:00      NaN\n",
       "140666 2017-06-26 20:20:00      NaN\n",
       "140667 2017-06-26 20:30:00      NaN\n",
       "140668 2017-06-26 20:40:00      NaN\n",
       "140669 2017-06-26 20:50:00      NaN\n",
       "140670 2017-06-26 21:00:00      NaN\n",
       "236080 2020-10-15 10:40:00      NaN"
      ]
     },
     "execution_count": 352,
     "metadata": {},
     "output_type": "execute_result"
    }
   ],
   "source": [
    "청담[청담['청담대교_수위'].isnull()]   # 16380개의 결측치 : 순서대로 채우기"
   ]
  },
  {
   "cell_type": "code",
   "execution_count": 353,
   "id": "754afab2",
   "metadata": {
    "colab": {
     "base_uri": "https://localhost:8080/"
    },
    "executionInfo": {
     "elapsed": 427,
     "status": "ok",
     "timestamp": 1660743839256,
     "user": {
      "displayName": "이예림(상경대학 응용통계학과)",
      "userId": "02944141114007762965"
     },
     "user_tz": -540
    },
    "id": "RrthJw76c4B6",
    "outputId": "10fb03a5-e4db-469a-ccd9-80f777cdb60e"
   },
   "outputs": [],
   "source": [
    "nan_index = list(청담[청담['청담대교_수위'].isnull()].index)"
   ]
  },
  {
   "cell_type": "code",
   "execution_count": 354,
   "id": "67b384a8",
   "metadata": {
    "colab": {
     "base_uri": "https://localhost:8080/"
    },
    "executionInfo": {
     "elapsed": 933,
     "status": "ok",
     "timestamp": 1660743839772,
     "user": {
      "displayName": "이예림(상경대학 응용통계학과)",
      "userId": "02944141114007762965"
     },
     "user_tz": -540
    },
    "id": "ubfxLxNcX-Nz",
    "outputId": "0680fa41-41e1-4ec1-90ef-81bd0fe72ea8"
   },
   "outputs": [
    {
     "data": {
      "text/plain": [
       "True"
      ]
     },
     "execution_count": 354,
     "metadata": {},
     "output_type": "execute_result"
    }
   ],
   "source": [
    "# Index 분리\n",
    "\n",
    "index_interpolate = []\n",
    "index_sarima = []\n",
    "\n",
    "i = 0\n",
    "while i < len(nan_index)-2:\n",
    "  if nan_index[i+2] == nan_index[i+1]+1 == nan_index[i]+2:\n",
    "    index_sarima.append(nan_index[i])\n",
    "    i += 1\n",
    "  elif nan_index[i+2] != nan_index[i+1]+1 and nan_index[i+1] == nan_index[i]+1:\n",
    "    index_sarima.extend([nan_index[i], nan_index[i+1]])\n",
    "    i += 2\n",
    "  else:\n",
    "    index_interpolate.append(nan_index[i])\n",
    "    i += 1\n",
    "\n",
    "index_interpolate.extend(nan_index[-1:])\n",
    "\n",
    "# if nan_index[-3]+1 != nan_index[-2]:\n",
    "#     index_interpolate.extend(nan_index[-2:])\n",
    "# else:\n",
    "#     index_interpolate.extend(nan_index[-1:])\n",
    "\n",
    "nan_index == sorted(index_interpolate+index_sarima)"
   ]
  },
  {
   "cell_type": "markdown",
   "id": "0e736db3",
   "metadata": {
    "id": "55pXgjIPTEJF"
   },
   "source": [
    "## 1. 비연속적 결측값 처리 by Interpolation"
   ]
  },
  {
   "cell_type": "code",
   "execution_count": 355,
   "id": "5acb7cec",
   "metadata": {
    "colab": {
     "base_uri": "https://localhost:8080/"
    },
    "executionInfo": {
     "elapsed": 210,
     "status": "ok",
     "timestamp": 1660743839774,
     "user": {
      "displayName": "이예림(상경대학 응용통계학과)",
      "userId": "02944141114007762965"
     },
     "user_tz": -540
    },
    "id": "HhxuRyakk_qm",
    "outputId": "c6d69d1e-0682-48d3-c8f6-bcd80bbc32e5"
   },
   "outputs": [],
   "source": [
    "# Interpolation에 쓰일 인덱스 지정 (결측값 기준 앞, 뒤 + 자체)\n",
    "\n",
    "index_interpolate_ = sum([[i-1, i, i+1] for i in index_interpolate], [])"
   ]
  },
  {
   "cell_type": "code",
   "execution_count": 356,
   "id": "bbd9220e",
   "metadata": {
    "colab": {
     "base_uri": "https://localhost:8080/"
    },
    "executionInfo": {
     "elapsed": 184,
     "status": "ok",
     "timestamp": 1660743839775,
     "user": {
      "displayName": "이예림(상경대학 응용통계학과)",
      "userId": "02944141114007762965"
     },
     "user_tz": -540
    },
    "id": "sYfcdbzem2H2",
    "outputId": "d28d8051-90e8-4024-ba06-43b0cdb46c76"
   },
   "outputs": [
    {
     "data": {
      "text/plain": [
       "True"
      ]
     },
     "execution_count": 356,
     "metadata": {},
     "output_type": "execute_result"
    }
   ],
   "source": [
    "len(index_interpolate_) == len(set(index_interpolate)) * 3   # 겹치는 index 없는지 확인"
   ]
  },
  {
   "cell_type": "code",
   "execution_count": 357,
   "id": "7ea2da67",
   "metadata": {
    "colab": {
     "base_uri": "https://localhost:8080/",
     "height": 455
    },
    "executionInfo": {
     "elapsed": 99,
     "status": "ok",
     "timestamp": 1660743839776,
     "user": {
      "displayName": "이예림(상경대학 응용통계학과)",
      "userId": "02944141114007762965"
     },
     "user_tz": -540
    },
    "id": "pZAsVV_vbkl8",
    "outputId": "1723905b-154b-421b-ec39-30162831b99b"
   },
   "outputs": [
    {
     "data": {
      "text/html": [
       "<div>\n",
       "<style scoped>\n",
       "    .dataframe tbody tr th:only-of-type {\n",
       "        vertical-align: middle;\n",
       "    }\n",
       "\n",
       "    .dataframe tbody tr th {\n",
       "        vertical-align: top;\n",
       "    }\n",
       "\n",
       "    .dataframe thead th {\n",
       "        text-align: right;\n",
       "    }\n",
       "</style>\n",
       "<table border=\"1\" class=\"dataframe\">\n",
       "  <thead>\n",
       "    <tr style=\"text-align: right;\">\n",
       "      <th></th>\n",
       "      <th>청담대교_수위</th>\n",
       "    </tr>\n",
       "    <tr>\n",
       "      <th>날짜</th>\n",
       "      <th></th>\n",
       "    </tr>\n",
       "  </thead>\n",
       "  <tbody>\n",
       "    <tr>\n",
       "      <th>2020-10-15 10:30:00</th>\n",
       "      <td>317.7</td>\n",
       "    </tr>\n",
       "    <tr>\n",
       "      <th>2020-10-15 10:40:00</th>\n",
       "      <td>NaN</td>\n",
       "    </tr>\n",
       "    <tr>\n",
       "      <th>2020-10-15 10:50:00</th>\n",
       "      <td>314.7</td>\n",
       "    </tr>\n",
       "  </tbody>\n",
       "</table>\n",
       "</div>"
      ],
      "text/plain": [
       "                     청담대교_수위\n",
       "날짜                          \n",
       "2020-10-15 10:30:00    317.7\n",
       "2020-10-15 10:40:00      NaN\n",
       "2020-10-15 10:50:00    314.7"
      ]
     },
     "execution_count": 357,
     "metadata": {},
     "output_type": "execute_result"
    }
   ],
   "source": [
    "# 데이터프레임 분리\n",
    "\n",
    "청담_보간 = 청담.copy()\n",
    "청담_보간 = 청담_보간.set_index('날짜')\n",
    "청담_보간 = 청담_보간.iloc[index_interpolate_, :]\n",
    "청담_보간"
   ]
  },
  {
   "cell_type": "code",
   "execution_count": 363,
   "id": "c127a396",
   "metadata": {
    "colab": {
     "base_uri": "https://localhost:8080/",
     "height": 455
    },
    "executionInfo": {
     "elapsed": 97,
     "status": "ok",
     "timestamp": 1660743839777,
     "user": {
      "displayName": "이예림(상경대학 응용통계학과)",
      "userId": "02944141114007762965"
     },
     "user_tz": -540
    },
    "id": "Ern-vbzfne74",
    "outputId": "3b42110e-9ac7-4f06-9b92-8ea8b7a34476"
   },
   "outputs": [
    {
     "data": {
      "text/html": [
       "<div>\n",
       "<style scoped>\n",
       "    .dataframe tbody tr th:only-of-type {\n",
       "        vertical-align: middle;\n",
       "    }\n",
       "\n",
       "    .dataframe tbody tr th {\n",
       "        vertical-align: top;\n",
       "    }\n",
       "\n",
       "    .dataframe thead th {\n",
       "        text-align: right;\n",
       "    }\n",
       "</style>\n",
       "<table border=\"1\" class=\"dataframe\">\n",
       "  <thead>\n",
       "    <tr style=\"text-align: right;\">\n",
       "      <th></th>\n",
       "      <th>청담대교_수위</th>\n",
       "    </tr>\n",
       "    <tr>\n",
       "      <th>날짜</th>\n",
       "      <th></th>\n",
       "    </tr>\n",
       "  </thead>\n",
       "  <tbody>\n",
       "    <tr>\n",
       "      <th>2020-10-15 10:30:00</th>\n",
       "      <td>317.7</td>\n",
       "    </tr>\n",
       "    <tr>\n",
       "      <th>2020-10-15 10:40:00</th>\n",
       "      <td>316.2</td>\n",
       "    </tr>\n",
       "    <tr>\n",
       "      <th>2020-10-15 10:50:00</th>\n",
       "      <td>314.7</td>\n",
       "    </tr>\n",
       "  </tbody>\n",
       "</table>\n",
       "</div>"
      ],
      "text/plain": [
       "                     청담대교_수위\n",
       "날짜                          \n",
       "2020-10-15 10:30:00    317.7\n",
       "2020-10-15 10:40:00    316.2\n",
       "2020-10-15 10:50:00    314.7"
      ]
     },
     "execution_count": 363,
     "metadata": {},
     "output_type": "execute_result"
    }
   ],
   "source": [
    "# 보간\n",
    "\n",
    "청담_보간.interpolate(method='time', inplace=True)\n",
    "청담_보간   # 보간 결과 확인"
   ]
  },
  {
   "cell_type": "code",
   "execution_count": 364,
   "id": "7b30b60f",
   "metadata": {
    "colab": {
     "base_uri": "https://localhost:8080/"
    },
    "executionInfo": {
     "elapsed": 94,
     "status": "ok",
     "timestamp": 1660743839778,
     "user": {
      "displayName": "이예림(상경대학 응용통계학과)",
      "userId": "02944141114007762965"
     },
     "user_tz": -540
    },
    "id": "eeQuJ8GYfv4m",
    "outputId": "e6306177-a229-4704-90bc-46cbd35d38fe"
   },
   "outputs": [
    {
     "data": {
      "text/plain": [
       "청담대교_수위    0\n",
       "dtype: int64"
      ]
     },
     "execution_count": 364,
     "metadata": {},
     "output_type": "execute_result"
    }
   ],
   "source": [
    "청담_보간.isnull().sum()"
   ]
  },
  {
   "cell_type": "code",
   "execution_count": 366,
   "id": "948ce944",
   "metadata": {
    "colab": {
     "base_uri": "https://localhost:8080/"
    },
    "executionInfo": {
     "elapsed": 71,
     "status": "ok",
     "timestamp": 1660743839779,
     "user": {
      "displayName": "이예림(상경대학 응용통계학과)",
      "userId": "02944141114007762965"
     },
     "user_tz": -540
    },
    "id": "Nb9VtE6YXsLz",
    "outputId": "e2685d76-bd81-4d7f-d4ee-c4d2b1ed1b4e"
   },
   "outputs": [
    {
     "data": {
      "text/plain": [
       "청담대교_수위    True\n",
       "dtype: bool"
      ]
     },
     "execution_count": 366,
     "metadata": {},
     "output_type": "execute_result"
    }
   ],
   "source": [
    "청담.loc[청담_보간.index] = 청담_보간\n",
    "청담.isnull().sum() == len(index_sarima)   # 남은 결측치 개수가 SARIMA로 채워야 할 결측치 개수(len(index_sarima))와 같은지 확인"
   ]
  },
  {
   "cell_type": "markdown",
   "id": "935d6d2e",
   "metadata": {
    "id": "dK89voI3c8Q0"
   },
   "source": [
    "## 2. 연속적 결측값 처리 by SARIMA"
   ]
  },
  {
   "cell_type": "code",
   "execution_count": 367,
   "id": "403f2a44",
   "metadata": {
    "colab": {
     "base_uri": "https://localhost:8080/",
     "height": 636
    },
    "executionInfo": {
     "elapsed": 21555,
     "status": "ok",
     "timestamp": 1660743861266,
     "user": {
      "displayName": "이예림(상경대학 응용통계학과)",
      "userId": "02944141114007762965"
     },
     "user_tz": -540
    },
    "id": "-uugY5hBTMTa",
    "outputId": "931c6453-6c54-4bce-c91a-90a599ab57d7"
   },
   "outputs": [],
   "source": [
    "#!pip install pmdarima"
   ]
  },
  {
   "cell_type": "code",
   "execution_count": 368,
   "id": "c8ea16d9",
   "metadata": {
    "executionInfo": {
     "elapsed": 1552,
     "status": "ok",
     "timestamp": 1660743862779,
     "user": {
      "displayName": "이예림(상경대학 응용통계학과)",
      "userId": "02944141114007762965"
     },
     "user_tz": -540
    },
    "id": "BxiLQENsdZvT"
   },
   "outputs": [],
   "source": [
    "from statsmodels.tsa.statespace.sarimax import SARIMAX\n",
    "import pmdarima as pm"
   ]
  },
  {
   "cell_type": "code",
   "execution_count": 369,
   "id": "ca22a0c2",
   "metadata": {
    "colab": {
     "base_uri": "https://localhost:8080/"
    },
    "executionInfo": {
     "elapsed": 202,
     "status": "ok",
     "timestamp": 1660743862783,
     "user": {
      "displayName": "이예림(상경대학 응용통계학과)",
      "userId": "02944141114007762965"
     },
     "user_tz": -540
    },
    "id": "zSu62iX5Ta7f",
    "outputId": "ae70a0f4-a900-4c77-d110-f8018942180f"
   },
   "outputs": [
    {
     "data": {
      "text/plain": [
       "140613"
      ]
     },
     "execution_count": 369,
     "metadata": {},
     "output_type": "execute_result"
    }
   ],
   "source": [
    "index_sarima[0]"
   ]
  },
  {
   "cell_type": "code",
   "execution_count": 370,
   "id": "613b5638",
   "metadata": {
    "colab": {
     "base_uri": "https://localhost:8080/"
    },
    "executionInfo": {
     "elapsed": 283,
     "status": "ok",
     "timestamp": 1660743862881,
     "user": {
      "displayName": "이예림(상경대학 응용통계학과)",
      "userId": "02944141114007762965"
     },
     "user_tz": -540
    },
    "id": "8bN42uONUfY9",
    "outputId": "9ba9b11d-90d1-4d51-dbff-057d740b6556"
   },
   "outputs": [
    {
     "name": "stdout",
     "output_type": "stream",
     "text": [
      "[[140613, 140614, 140615, 140616, 140617, 140618, 140619, 140620, 140621, 140622, 140623, 140624, 140625, 140626, 140627, 140628, 140629, 140630, 140631, 140632, 140633, 140634, 140635, 140636, 140637, 140638, 140639, 140640, 140641, 140642, 140643, 140644, 140645, 140646, 140647, 140648, 140649, 140650, 140651, 140652, 140653, 140654, 140655, 140656, 140657, 140658, 140659, 140660, 140661, 140662, 140663, 140664, 140665, 140666, 140667, 140668, 140669, 140670]]\n"
     ]
    }
   ],
   "source": [
    "# 연속된 구간별로 분리\n",
    "\n",
    "i = 0\n",
    "temp = []\n",
    "total = []\n",
    "\n",
    "while i>=0:\n",
    "  try:\n",
    "    if index_sarima[i+2]==index_sarima[i+1]+1==index_sarima[i]+2:\n",
    "      temp.append(index_sarima[i])\n",
    "      i += 1\n",
    "    elif index_sarima[i+2]!=index_sarima[i+1]+1==index_sarima[i]+2:\n",
    "      temp.extend([index_sarima[i], index_sarima[i+1]])\n",
    "      #print(temp)\n",
    "      total.append(temp)\n",
    "      temp = []\n",
    "      i += 2\n",
    "  except:\n",
    "    break\n",
    "\n",
    "# 예외 처리\n",
    "#temp = index_sarima[-2:]\n",
    "#print(temp)\n",
    "total.append(temp)\n",
    "total[len(total)-1].append(index_sarima[-2:][0])\n",
    "total[len(total)-1].append(index_sarima[-2:][1])\n",
    "print(total)"
   ]
  },
  {
   "cell_type": "code",
   "execution_count": 371,
   "id": "337e82cf",
   "metadata": {
    "colab": {
     "base_uri": "https://localhost:8080/"
    },
    "executionInfo": {
     "elapsed": 292,
     "status": "ok",
     "timestamp": 1660743862962,
     "user": {
      "displayName": "이예림(상경대학 응용통계학과)",
      "userId": "02944141114007762965"
     },
     "user_tz": -540
    },
    "id": "r6E66IVMXyg3",
    "outputId": "d28cd1a6-573d-4b29-8979-8c2d879095e2",
    "scrolled": true
   },
   "outputs": [
    {
     "data": {
      "text/plain": [
       "True"
      ]
     },
     "execution_count": 371,
     "metadata": {},
     "output_type": "execute_result"
    }
   ],
   "source": [
    "sum(total, []) == index_sarima   # 분리가 잘 이루어졌는지 확인"
   ]
  },
  {
   "cell_type": "code",
   "execution_count": 372,
   "id": "1d2b5c11",
   "metadata": {},
   "outputs": [
    {
     "data": {
      "text/plain": [
       "1"
      ]
     },
     "execution_count": 372,
     "metadata": {},
     "output_type": "execute_result"
    }
   ],
   "source": [
    "len(total) #결측치 처리해야 하는 구간의 수"
   ]
  },
  {
   "cell_type": "code",
   "execution_count": 496,
   "id": "8d03d5da",
   "metadata": {
    "colab": {
     "base_uri": "https://localhost:8080/"
    },
    "executionInfo": {
     "elapsed": 6204453,
     "status": "ok",
     "timestamp": 1660750114017,
     "user": {
      "displayName": "이예림(상경대학 응용통계학과)",
      "userId": "02944141114007762965"
     },
     "user_tz": -540
    },
    "id": "_HQ9SccJYZif",
    "outputId": "075320ea-d158-4e10-9cdc-e83f87732872",
    "scrolled": true
   },
   "outputs": [],
   "source": [
    "# 전체 다 1일, 즉 직전 144개의 row를 반영하여 결측치 처리\n",
    "\n",
    "for range in total:\n",
    "  start = range[0]\n",
    "  model = pm.auto_arima(청담[start-65:start], seasonal=True)\n",
    "  청담.iloc[range, 0] = model.predict(len(range))\n",
    "  #print(f'{total.index(range)+1}번째 구간 결측치 처리 완료')"
   ]
  },
  {
   "cell_type": "code",
   "execution_count": 497,
   "id": "402e09fd",
   "metadata": {
    "colab": {
     "base_uri": "https://localhost:8080/"
    },
    "executionInfo": {
     "elapsed": 84,
     "status": "ok",
     "timestamp": 1660750114020,
     "user": {
      "displayName": "이예림(상경대학 응용통계학과)",
      "userId": "02944141114007762965"
     },
     "user_tz": -540
    },
    "id": "fLkpB1I5bSZu",
    "outputId": "39baa2da-b52e-485c-9c47-103c9755c247"
   },
   "outputs": [
    {
     "data": {
      "text/plain": [
       "청담대교_수위    0\n",
       "dtype: int64"
      ]
     },
     "execution_count": 497,
     "metadata": {},
     "output_type": "execute_result"
    }
   ],
   "source": [
    "# 결측치가 모두 처리되었는지 확인\n",
    "\n",
    "청담.isnull().sum()"
   ]
  },
  {
   "cell_type": "code",
   "execution_count": 498,
   "id": "973b4352",
   "metadata": {
    "colab": {
     "base_uri": "https://localhost:8080/",
     "height": 265
    },
    "executionInfo": {
     "elapsed": 964,
     "status": "ok",
     "timestamp": 1660750930556,
     "user": {
      "displayName": "이예림(상경대학 응용통계학과)",
      "userId": "02944141114007762965"
     },
     "user_tz": -540
    },
    "id": "LrPrN4VIbX4u",
    "outputId": "b288020c-e222-4519-ec78-8461c318fde4"
   },
   "outputs": [
    {
     "data": {
      "image/png": "[encoded data removed]",
      "text/plain": [
       "<Figure size 432x288 with 1 Axes>"
      ]
     },
     "metadata": {
      "needs_background": "light"
     },
     "output_type": "display_data"
    }
   ],
   "source": [
    "# 결측치 처리 형태 확인 (인덱스 번째 구간)\n",
    "\n",
    "plt.plot(total[0], 청담.iloc[total[0], 0])\n",
    "plt.show()"
   ]
  },
  {
   "cell_type": "code",
   "execution_count": 499,
   "id": "d9b3a336",
   "metadata": {},
   "outputs": [
    {
     "data": {
      "text/plain": [
       "[<matplotlib.lines.Line2D at 0x1e447fb1ee0>]"
      ]
     },
     "execution_count": 499,
     "metadata": {},
     "output_type": "execute_result"
    },
    {
     "data": {
      "image/png": "[encoded data removed]",
      "text/plain": [
       "<Figure size 432x288 with 1 Axes>"
      ]
     },
     "metadata": {
      "needs_background": "light"
     },
     "output_type": "display_data"
    }
   ],
   "source": [
    "plt.plot(청담[140300:141000])\n",
    "#plt.plot(청담[140820:140960])"
   ]
  },
  {
   "cell_type": "code",
   "execution_count": null,
   "id": "22d9270f",
   "metadata": {},
   "outputs": [],
   "source": []
  },
  {
   "cell_type": "markdown",
   "id": "d863c8e2",
   "metadata": {
    "id": "mK0eaXyuTuhT"
   },
   "source": [
    "# 잠수교 수위 결측치 처리"
   ]
  },
  {
   "cell_type": "code",
   "execution_count": 474,
   "id": "cafc68a6",
   "metadata": {
    "colab": {
     "base_uri": "https://localhost:8080/",
     "height": 424
    },
    "executionInfo": {
     "elapsed": 432,
     "status": "ok",
     "timestamp": 1660743839242,
     "user": {
      "displayName": "이예림(상경대학 응용통계학과)",
      "userId": "02944141114007762965"
     },
     "user_tz": -540
    },
    "id": "Mdz_YyjTTcH1",
    "outputId": "5c77d4d1-09af-467a-ad8f-cd70df07dbb2"
   },
   "outputs": [],
   "source": [
    "잠수 = data[['날짜', '잠수교_수위']]"
   ]
  },
  {
   "cell_type": "code",
   "execution_count": 475,
   "id": "905f1cdf",
   "metadata": {
    "colab": {
     "base_uri": "https://localhost:8080/",
     "height": 532
    },
    "executionInfo": {
     "elapsed": 438,
     "status": "ok",
     "timestamp": 1660743839252,
     "user": {
      "displayName": "이예림(상경대학 응용통계학과)",
      "userId": "02944141114007762965"
     },
     "user_tz": -540
    },
    "id": "NOkjGH6yVaXY",
    "outputId": "682e1c1e-adc1-4115-c609-21eb3561ea88"
   },
   "outputs": [
    {
     "name": "stderr",
     "output_type": "stream",
     "text": [
      "C:\\Users\\sjkan\\AppData\\Local\\Temp\\ipykernel_11972\\3140268960.py:1: SettingWithCopyWarning: \n",
      "A value is trying to be set on a copy of a slice from a DataFrame.\n",
      "Try using .loc[row_indexer,col_indexer] = value instead\n",
      "\n",
      "See the caveats in the documentation: https://pandas.pydata.org/pandas-docs/stable/user_guide/indexing.html#returning-a-view-versus-a-copy\n",
      "  잠수.날짜 = pd.to_datetime(잠수.날짜)\n"
     ]
    },
    {
     "data": {
      "text/html": [
       "<div>\n",
       "<style scoped>\n",
       "    .dataframe tbody tr th:only-of-type {\n",
       "        vertical-align: middle;\n",
       "    }\n",
       "\n",
       "    .dataframe tbody tr th {\n",
       "        vertical-align: top;\n",
       "    }\n",
       "\n",
       "    .dataframe thead th {\n",
       "        text-align: right;\n",
       "    }\n",
       "</style>\n",
       "<table border=\"1\" class=\"dataframe\">\n",
       "  <thead>\n",
       "    <tr style=\"text-align: right;\">\n",
       "      <th></th>\n",
       "      <th>날짜</th>\n",
       "      <th>잠수교_수위</th>\n",
       "    </tr>\n",
       "  </thead>\n",
       "  <tbody>\n",
       "    <tr>\n",
       "      <th>0</th>\n",
       "      <td>2012-05-01 00:00:00</td>\n",
       "      <td>300.2</td>\n",
       "    </tr>\n",
       "    <tr>\n",
       "      <th>1</th>\n",
       "      <td>2012-05-01 00:10:00</td>\n",
       "      <td>300.2</td>\n",
       "    </tr>\n",
       "    <tr>\n",
       "      <th>2</th>\n",
       "      <td>2012-05-01 00:20:00</td>\n",
       "      <td>301.2</td>\n",
       "    </tr>\n",
       "    <tr>\n",
       "      <th>3</th>\n",
       "      <td>2012-05-01 00:30:00</td>\n",
       "      <td>301.2</td>\n",
       "    </tr>\n",
       "    <tr>\n",
       "      <th>4</th>\n",
       "      <td>2012-05-01 00:40:00</td>\n",
       "      <td>301.2</td>\n",
       "    </tr>\n",
       "    <tr>\n",
       "      <th>...</th>\n",
       "      <td>...</td>\n",
       "      <td>...</td>\n",
       "    </tr>\n",
       "    <tr>\n",
       "      <th>276331</th>\n",
       "      <td>2022-07-18 23:10:00</td>\n",
       "      <td>0.0</td>\n",
       "    </tr>\n",
       "    <tr>\n",
       "      <th>276332</th>\n",
       "      <td>2022-07-18 23:20:00</td>\n",
       "      <td>0.0</td>\n",
       "    </tr>\n",
       "    <tr>\n",
       "      <th>276333</th>\n",
       "      <td>2022-07-18 23:30:00</td>\n",
       "      <td>0.0</td>\n",
       "    </tr>\n",
       "    <tr>\n",
       "      <th>276334</th>\n",
       "      <td>2022-07-18 23:40:00</td>\n",
       "      <td>0.0</td>\n",
       "    </tr>\n",
       "    <tr>\n",
       "      <th>276335</th>\n",
       "      <td>2022-07-18 23:50:00</td>\n",
       "      <td>0.0</td>\n",
       "    </tr>\n",
       "  </tbody>\n",
       "</table>\n",
       "<p>276336 rows × 2 columns</p>\n",
       "</div>"
      ],
      "text/plain": [
       "                        날짜  잠수교_수위\n",
       "0      2012-05-01 00:00:00   300.2\n",
       "1      2012-05-01 00:10:00   300.2\n",
       "2      2012-05-01 00:20:00   301.2\n",
       "3      2012-05-01 00:30:00   301.2\n",
       "4      2012-05-01 00:40:00   301.2\n",
       "...                    ...     ...\n",
       "276331 2022-07-18 23:10:00     0.0\n",
       "276332 2022-07-18 23:20:00     0.0\n",
       "276333 2022-07-18 23:30:00     0.0\n",
       "276334 2022-07-18 23:40:00     0.0\n",
       "276335 2022-07-18 23:50:00     0.0\n",
       "\n",
       "[276336 rows x 2 columns]"
      ]
     },
     "execution_count": 475,
     "metadata": {},
     "output_type": "execute_result"
    }
   ],
   "source": [
    "잠수.날짜 = pd.to_datetime(잠수.날짜)\n",
    "잠수"
   ]
  },
  {
   "cell_type": "code",
   "execution_count": 476,
   "id": "d8ecc630",
   "metadata": {
    "colab": {
     "base_uri": "https://localhost:8080/",
     "height": 424
    },
    "executionInfo": {
     "elapsed": 429,
     "status": "ok",
     "timestamp": 1660743839255,
     "user": {
      "displayName": "이예림(상경대학 응용통계학과)",
      "userId": "02944141114007762965"
     },
     "user_tz": -540
    },
    "id": "e4Q6xLdsTx3j",
    "outputId": "340420de-0607-4652-aac1-4417d179c65e",
    "scrolled": true
   },
   "outputs": [
    {
     "data": {
      "text/html": [
       "<div>\n",
       "<style scoped>\n",
       "    .dataframe tbody tr th:only-of-type {\n",
       "        vertical-align: middle;\n",
       "    }\n",
       "\n",
       "    .dataframe tbody tr th {\n",
       "        vertical-align: top;\n",
       "    }\n",
       "\n",
       "    .dataframe thead th {\n",
       "        text-align: right;\n",
       "    }\n",
       "</style>\n",
       "<table border=\"1\" class=\"dataframe\">\n",
       "  <thead>\n",
       "    <tr style=\"text-align: right;\">\n",
       "      <th></th>\n",
       "      <th>날짜</th>\n",
       "      <th>잠수교_수위</th>\n",
       "    </tr>\n",
       "  </thead>\n",
       "  <tbody>\n",
       "    <tr>\n",
       "      <th>140613</th>\n",
       "      <td>2017-06-26 11:30:00</td>\n",
       "      <td>NaN</td>\n",
       "    </tr>\n",
       "    <tr>\n",
       "      <th>140614</th>\n",
       "      <td>2017-06-26 11:40:00</td>\n",
       "      <td>NaN</td>\n",
       "    </tr>\n",
       "    <tr>\n",
       "      <th>140615</th>\n",
       "      <td>2017-06-26 11:50:00</td>\n",
       "      <td>NaN</td>\n",
       "    </tr>\n",
       "    <tr>\n",
       "      <th>140616</th>\n",
       "      <td>2017-06-26 12:00:00</td>\n",
       "      <td>NaN</td>\n",
       "    </tr>\n",
       "    <tr>\n",
       "      <th>140617</th>\n",
       "      <td>2017-06-26 12:10:00</td>\n",
       "      <td>NaN</td>\n",
       "    </tr>\n",
       "    <tr>\n",
       "      <th>140618</th>\n",
       "      <td>2017-06-26 12:20:00</td>\n",
       "      <td>NaN</td>\n",
       "    </tr>\n",
       "    <tr>\n",
       "      <th>140619</th>\n",
       "      <td>2017-06-26 12:30:00</td>\n",
       "      <td>NaN</td>\n",
       "    </tr>\n",
       "    <tr>\n",
       "      <th>140620</th>\n",
       "      <td>2017-06-26 12:40:00</td>\n",
       "      <td>NaN</td>\n",
       "    </tr>\n",
       "    <tr>\n",
       "      <th>140621</th>\n",
       "      <td>2017-06-26 12:50:00</td>\n",
       "      <td>NaN</td>\n",
       "    </tr>\n",
       "    <tr>\n",
       "      <th>140622</th>\n",
       "      <td>2017-06-26 13:00:00</td>\n",
       "      <td>NaN</td>\n",
       "    </tr>\n",
       "    <tr>\n",
       "      <th>140623</th>\n",
       "      <td>2017-06-26 13:10:00</td>\n",
       "      <td>NaN</td>\n",
       "    </tr>\n",
       "    <tr>\n",
       "      <th>140624</th>\n",
       "      <td>2017-06-26 13:20:00</td>\n",
       "      <td>NaN</td>\n",
       "    </tr>\n",
       "    <tr>\n",
       "      <th>140625</th>\n",
       "      <td>2017-06-26 13:30:00</td>\n",
       "      <td>NaN</td>\n",
       "    </tr>\n",
       "    <tr>\n",
       "      <th>140626</th>\n",
       "      <td>2017-06-26 13:40:00</td>\n",
       "      <td>NaN</td>\n",
       "    </tr>\n",
       "    <tr>\n",
       "      <th>140627</th>\n",
       "      <td>2017-06-26 13:50:00</td>\n",
       "      <td>NaN</td>\n",
       "    </tr>\n",
       "    <tr>\n",
       "      <th>140628</th>\n",
       "      <td>2017-06-26 14:00:00</td>\n",
       "      <td>NaN</td>\n",
       "    </tr>\n",
       "    <tr>\n",
       "      <th>140629</th>\n",
       "      <td>2017-06-26 14:10:00</td>\n",
       "      <td>NaN</td>\n",
       "    </tr>\n",
       "    <tr>\n",
       "      <th>140630</th>\n",
       "      <td>2017-06-26 14:20:00</td>\n",
       "      <td>NaN</td>\n",
       "    </tr>\n",
       "    <tr>\n",
       "      <th>140631</th>\n",
       "      <td>2017-06-26 14:30:00</td>\n",
       "      <td>NaN</td>\n",
       "    </tr>\n",
       "    <tr>\n",
       "      <th>140632</th>\n",
       "      <td>2017-06-26 14:40:00</td>\n",
       "      <td>NaN</td>\n",
       "    </tr>\n",
       "    <tr>\n",
       "      <th>140633</th>\n",
       "      <td>2017-06-26 14:50:00</td>\n",
       "      <td>NaN</td>\n",
       "    </tr>\n",
       "    <tr>\n",
       "      <th>140634</th>\n",
       "      <td>2017-06-26 15:00:00</td>\n",
       "      <td>NaN</td>\n",
       "    </tr>\n",
       "    <tr>\n",
       "      <th>140635</th>\n",
       "      <td>2017-06-26 15:10:00</td>\n",
       "      <td>NaN</td>\n",
       "    </tr>\n",
       "    <tr>\n",
       "      <th>140636</th>\n",
       "      <td>2017-06-26 15:20:00</td>\n",
       "      <td>NaN</td>\n",
       "    </tr>\n",
       "    <tr>\n",
       "      <th>140637</th>\n",
       "      <td>2017-06-26 15:30:00</td>\n",
       "      <td>NaN</td>\n",
       "    </tr>\n",
       "    <tr>\n",
       "      <th>140638</th>\n",
       "      <td>2017-06-26 15:40:00</td>\n",
       "      <td>NaN</td>\n",
       "    </tr>\n",
       "    <tr>\n",
       "      <th>140639</th>\n",
       "      <td>2017-06-26 15:50:00</td>\n",
       "      <td>NaN</td>\n",
       "    </tr>\n",
       "    <tr>\n",
       "      <th>140640</th>\n",
       "      <td>2017-06-26 16:00:00</td>\n",
       "      <td>NaN</td>\n",
       "    </tr>\n",
       "    <tr>\n",
       "      <th>140641</th>\n",
       "      <td>2017-06-26 16:10:00</td>\n",
       "      <td>NaN</td>\n",
       "    </tr>\n",
       "    <tr>\n",
       "      <th>140642</th>\n",
       "      <td>2017-06-26 16:20:00</td>\n",
       "      <td>NaN</td>\n",
       "    </tr>\n",
       "    <tr>\n",
       "      <th>140643</th>\n",
       "      <td>2017-06-26 16:30:00</td>\n",
       "      <td>NaN</td>\n",
       "    </tr>\n",
       "    <tr>\n",
       "      <th>140644</th>\n",
       "      <td>2017-06-26 16:40:00</td>\n",
       "      <td>NaN</td>\n",
       "    </tr>\n",
       "    <tr>\n",
       "      <th>140645</th>\n",
       "      <td>2017-06-26 16:50:00</td>\n",
       "      <td>NaN</td>\n",
       "    </tr>\n",
       "    <tr>\n",
       "      <th>140646</th>\n",
       "      <td>2017-06-26 17:00:00</td>\n",
       "      <td>NaN</td>\n",
       "    </tr>\n",
       "    <tr>\n",
       "      <th>140647</th>\n",
       "      <td>2017-06-26 17:10:00</td>\n",
       "      <td>NaN</td>\n",
       "    </tr>\n",
       "    <tr>\n",
       "      <th>140648</th>\n",
       "      <td>2017-06-26 17:20:00</td>\n",
       "      <td>NaN</td>\n",
       "    </tr>\n",
       "    <tr>\n",
       "      <th>140649</th>\n",
       "      <td>2017-06-26 17:30:00</td>\n",
       "      <td>NaN</td>\n",
       "    </tr>\n",
       "    <tr>\n",
       "      <th>140650</th>\n",
       "      <td>2017-06-26 17:40:00</td>\n",
       "      <td>NaN</td>\n",
       "    </tr>\n",
       "    <tr>\n",
       "      <th>140651</th>\n",
       "      <td>2017-06-26 17:50:00</td>\n",
       "      <td>NaN</td>\n",
       "    </tr>\n",
       "    <tr>\n",
       "      <th>140652</th>\n",
       "      <td>2017-06-26 18:00:00</td>\n",
       "      <td>NaN</td>\n",
       "    </tr>\n",
       "    <tr>\n",
       "      <th>140653</th>\n",
       "      <td>2017-06-26 18:10:00</td>\n",
       "      <td>NaN</td>\n",
       "    </tr>\n",
       "    <tr>\n",
       "      <th>140654</th>\n",
       "      <td>2017-06-26 18:20:00</td>\n",
       "      <td>NaN</td>\n",
       "    </tr>\n",
       "    <tr>\n",
       "      <th>140655</th>\n",
       "      <td>2017-06-26 18:30:00</td>\n",
       "      <td>NaN</td>\n",
       "    </tr>\n",
       "    <tr>\n",
       "      <th>140656</th>\n",
       "      <td>2017-06-26 18:40:00</td>\n",
       "      <td>NaN</td>\n",
       "    </tr>\n",
       "    <tr>\n",
       "      <th>140657</th>\n",
       "      <td>2017-06-26 18:50:00</td>\n",
       "      <td>NaN</td>\n",
       "    </tr>\n",
       "    <tr>\n",
       "      <th>140658</th>\n",
       "      <td>2017-06-26 19:00:00</td>\n",
       "      <td>NaN</td>\n",
       "    </tr>\n",
       "    <tr>\n",
       "      <th>140659</th>\n",
       "      <td>2017-06-26 19:10:00</td>\n",
       "      <td>NaN</td>\n",
       "    </tr>\n",
       "    <tr>\n",
       "      <th>140660</th>\n",
       "      <td>2017-06-26 19:20:00</td>\n",
       "      <td>NaN</td>\n",
       "    </tr>\n",
       "    <tr>\n",
       "      <th>140661</th>\n",
       "      <td>2017-06-26 19:30:00</td>\n",
       "      <td>NaN</td>\n",
       "    </tr>\n",
       "    <tr>\n",
       "      <th>140662</th>\n",
       "      <td>2017-06-26 19:40:00</td>\n",
       "      <td>NaN</td>\n",
       "    </tr>\n",
       "    <tr>\n",
       "      <th>140663</th>\n",
       "      <td>2017-06-26 19:50:00</td>\n",
       "      <td>NaN</td>\n",
       "    </tr>\n",
       "    <tr>\n",
       "      <th>140664</th>\n",
       "      <td>2017-06-26 20:00:00</td>\n",
       "      <td>NaN</td>\n",
       "    </tr>\n",
       "    <tr>\n",
       "      <th>140665</th>\n",
       "      <td>2017-06-26 20:10:00</td>\n",
       "      <td>NaN</td>\n",
       "    </tr>\n",
       "    <tr>\n",
       "      <th>140666</th>\n",
       "      <td>2017-06-26 20:20:00</td>\n",
       "      <td>NaN</td>\n",
       "    </tr>\n",
       "    <tr>\n",
       "      <th>140667</th>\n",
       "      <td>2017-06-26 20:30:00</td>\n",
       "      <td>NaN</td>\n",
       "    </tr>\n",
       "    <tr>\n",
       "      <th>140668</th>\n",
       "      <td>2017-06-26 20:40:00</td>\n",
       "      <td>NaN</td>\n",
       "    </tr>\n",
       "    <tr>\n",
       "      <th>140669</th>\n",
       "      <td>2017-06-26 20:50:00</td>\n",
       "      <td>NaN</td>\n",
       "    </tr>\n",
       "    <tr>\n",
       "      <th>140670</th>\n",
       "      <td>2017-06-26 21:00:00</td>\n",
       "      <td>NaN</td>\n",
       "    </tr>\n",
       "    <tr>\n",
       "      <th>236080</th>\n",
       "      <td>2020-10-15 10:40:00</td>\n",
       "      <td>NaN</td>\n",
       "    </tr>\n",
       "  </tbody>\n",
       "</table>\n",
       "</div>"
      ],
      "text/plain": [
       "                        날짜  잠수교_수위\n",
       "140613 2017-06-26 11:30:00     NaN\n",
       "140614 2017-06-26 11:40:00     NaN\n",
       "140615 2017-06-26 11:50:00     NaN\n",
       "140616 2017-06-26 12:00:00     NaN\n",
       "140617 2017-06-26 12:10:00     NaN\n",
       "140618 2017-06-26 12:20:00     NaN\n",
       "140619 2017-06-26 12:30:00     NaN\n",
       "140620 2017-06-26 12:40:00     NaN\n",
       "140621 2017-06-26 12:50:00     NaN\n",
       "140622 2017-06-26 13:00:00     NaN\n",
       "140623 2017-06-26 13:10:00     NaN\n",
       "140624 2017-06-26 13:20:00     NaN\n",
       "140625 2017-06-26 13:30:00     NaN\n",
       "140626 2017-06-26 13:40:00     NaN\n",
       "140627 2017-06-26 13:50:00     NaN\n",
       "140628 2017-06-26 14:00:00     NaN\n",
       "140629 2017-06-26 14:10:00     NaN\n",
       "140630 2017-06-26 14:20:00     NaN\n",
       "140631 2017-06-26 14:30:00     NaN\n",
       "140632 2017-06-26 14:40:00     NaN\n",
       "140633 2017-06-26 14:50:00     NaN\n",
       "140634 2017-06-26 15:00:00     NaN\n",
       "140635 2017-06-26 15:10:00     NaN\n",
       "140636 2017-06-26 15:20:00     NaN\n",
       "140637 2017-06-26 15:30:00     NaN\n",
       "140638 2017-06-26 15:40:00     NaN\n",
       "140639 2017-06-26 15:50:00     NaN\n",
       "140640 2017-06-26 16:00:00     NaN\n",
       "140641 2017-06-26 16:10:00     NaN\n",
       "140642 2017-06-26 16:20:00     NaN\n",
       "140643 2017-06-26 16:30:00     NaN\n",
       "140644 2017-06-26 16:40:00     NaN\n",
       "140645 2017-06-26 16:50:00     NaN\n",
       "140646 2017-06-26 17:00:00     NaN\n",
       "140647 2017-06-26 17:10:00     NaN\n",
       "140648 2017-06-26 17:20:00     NaN\n",
       "140649 2017-06-26 17:30:00     NaN\n",
       "140650 2017-06-26 17:40:00     NaN\n",
       "140651 2017-06-26 17:50:00     NaN\n",
       "140652 2017-06-26 18:00:00     NaN\n",
       "140653 2017-06-26 18:10:00     NaN\n",
       "140654 2017-06-26 18:20:00     NaN\n",
       "140655 2017-06-26 18:30:00     NaN\n",
       "140656 2017-06-26 18:40:00     NaN\n",
       "140657 2017-06-26 18:50:00     NaN\n",
       "140658 2017-06-26 19:00:00     NaN\n",
       "140659 2017-06-26 19:10:00     NaN\n",
       "140660 2017-06-26 19:20:00     NaN\n",
       "140661 2017-06-26 19:30:00     NaN\n",
       "140662 2017-06-26 19:40:00     NaN\n",
       "140663 2017-06-26 19:50:00     NaN\n",
       "140664 2017-06-26 20:00:00     NaN\n",
       "140665 2017-06-26 20:10:00     NaN\n",
       "140666 2017-06-26 20:20:00     NaN\n",
       "140667 2017-06-26 20:30:00     NaN\n",
       "140668 2017-06-26 20:40:00     NaN\n",
       "140669 2017-06-26 20:50:00     NaN\n",
       "140670 2017-06-26 21:00:00     NaN\n",
       "236080 2020-10-15 10:40:00     NaN"
      ]
     },
     "execution_count": 476,
     "metadata": {},
     "output_type": "execute_result"
    }
   ],
   "source": [
    "잠수[잠수['잠수교_수위'].isnull()]   # 16380개의 결측치 : 순서대로 채우기"
   ]
  },
  {
   "cell_type": "code",
   "execution_count": 477,
   "id": "0d38cbb4",
   "metadata": {
    "colab": {
     "base_uri": "https://localhost:8080/"
    },
    "executionInfo": {
     "elapsed": 427,
     "status": "ok",
     "timestamp": 1660743839256,
     "user": {
      "displayName": "이예림(상경대학 응용통계학과)",
      "userId": "02944141114007762965"
     },
     "user_tz": -540
    },
    "id": "RrthJw76c4B6",
    "outputId": "10fb03a5-e4db-469a-ccd9-80f777cdb60e"
   },
   "outputs": [],
   "source": [
    "nan_index = list(잠수[잠수['잠수교_수위'].isnull()].index)"
   ]
  },
  {
   "cell_type": "code",
   "execution_count": 478,
   "id": "50183692",
   "metadata": {
    "colab": {
     "base_uri": "https://localhost:8080/"
    },
    "executionInfo": {
     "elapsed": 933,
     "status": "ok",
     "timestamp": 1660743839772,
     "user": {
      "displayName": "이예림(상경대학 응용통계학과)",
      "userId": "02944141114007762965"
     },
     "user_tz": -540
    },
    "id": "ubfxLxNcX-Nz",
    "outputId": "0680fa41-41e1-4ec1-90ef-81bd0fe72ea8"
   },
   "outputs": [
    {
     "data": {
      "text/plain": [
       "True"
      ]
     },
     "execution_count": 478,
     "metadata": {},
     "output_type": "execute_result"
    }
   ],
   "source": [
    "# Index 분리\n",
    "\n",
    "index_interpolate = []\n",
    "index_sarima = []\n",
    "\n",
    "i = 0\n",
    "while i < len(nan_index)-2:\n",
    "  if nan_index[i+2] == nan_index[i+1]+1 == nan_index[i]+2:\n",
    "    index_sarima.append(nan_index[i])\n",
    "    i += 1\n",
    "  elif nan_index[i+2] != nan_index[i+1]+1 and nan_index[i+1] == nan_index[i]+1:\n",
    "    index_sarima.extend([nan_index[i], nan_index[i+1]])\n",
    "    i += 2\n",
    "  else:\n",
    "    index_interpolate.append(nan_index[i])\n",
    "    i += 1\n",
    "\n",
    "index_interpolate.extend(nan_index[-1:])\n",
    "\n",
    "# if nan_index[-3]+1 != nan_index[-2]:\n",
    "#     index_interpolate.extend(nan_index[-2:])\n",
    "# else:\n",
    "#     index_interpolate.extend(nan_index[-1:])\n",
    "\n",
    "nan_index == sorted(index_interpolate+index_sarima)"
   ]
  },
  {
   "cell_type": "markdown",
   "id": "c870f4ac",
   "metadata": {
    "id": "55pXgjIPTEJF"
   },
   "source": [
    "## 1. 비연속적 결측값 처리 by Interpolation"
   ]
  },
  {
   "cell_type": "code",
   "execution_count": 479,
   "id": "1ceb65a7",
   "metadata": {
    "colab": {
     "base_uri": "https://localhost:8080/"
    },
    "executionInfo": {
     "elapsed": 210,
     "status": "ok",
     "timestamp": 1660743839774,
     "user": {
      "displayName": "이예림(상경대학 응용통계학과)",
      "userId": "02944141114007762965"
     },
     "user_tz": -540
    },
    "id": "HhxuRyakk_qm",
    "outputId": "c6d69d1e-0682-48d3-c8f6-bcd80bbc32e5"
   },
   "outputs": [],
   "source": [
    "# Interpolation에 쓰일 인덱스 지정 (결측값 기준 앞, 뒤 + 자체)\n",
    "\n",
    "index_interpolate_ = sum([[i-1, i, i+1] for i in index_interpolate], [])"
   ]
  },
  {
   "cell_type": "code",
   "execution_count": 480,
   "id": "3713946e",
   "metadata": {
    "colab": {
     "base_uri": "https://localhost:8080/"
    },
    "executionInfo": {
     "elapsed": 184,
     "status": "ok",
     "timestamp": 1660743839775,
     "user": {
      "displayName": "이예림(상경대학 응용통계학과)",
      "userId": "02944141114007762965"
     },
     "user_tz": -540
    },
    "id": "sYfcdbzem2H2",
    "outputId": "d28d8051-90e8-4024-ba06-43b0cdb46c76"
   },
   "outputs": [
    {
     "data": {
      "text/plain": [
       "True"
      ]
     },
     "execution_count": 480,
     "metadata": {},
     "output_type": "execute_result"
    }
   ],
   "source": [
    "len(index_interpolate_) == len(set(index_interpolate)) * 3   # 겹치는 index 없는지 확인"
   ]
  },
  {
   "cell_type": "code",
   "execution_count": 481,
   "id": "b05a06a0",
   "metadata": {
    "colab": {
     "base_uri": "https://localhost:8080/",
     "height": 455
    },
    "executionInfo": {
     "elapsed": 99,
     "status": "ok",
     "timestamp": 1660743839776,
     "user": {
      "displayName": "이예림(상경대학 응용통계학과)",
      "userId": "02944141114007762965"
     },
     "user_tz": -540
    },
    "id": "pZAsVV_vbkl8",
    "outputId": "1723905b-154b-421b-ec39-30162831b99b"
   },
   "outputs": [
    {
     "data": {
      "text/html": [
       "<div>\n",
       "<style scoped>\n",
       "    .dataframe tbody tr th:only-of-type {\n",
       "        vertical-align: middle;\n",
       "    }\n",
       "\n",
       "    .dataframe tbody tr th {\n",
       "        vertical-align: top;\n",
       "    }\n",
       "\n",
       "    .dataframe thead th {\n",
       "        text-align: right;\n",
       "    }\n",
       "</style>\n",
       "<table border=\"1\" class=\"dataframe\">\n",
       "  <thead>\n",
       "    <tr style=\"text-align: right;\">\n",
       "      <th></th>\n",
       "      <th>잠수교_수위</th>\n",
       "    </tr>\n",
       "    <tr>\n",
       "      <th>날짜</th>\n",
       "      <th></th>\n",
       "    </tr>\n",
       "  </thead>\n",
       "  <tbody>\n",
       "    <tr>\n",
       "      <th>2020-10-15 10:30:00</th>\n",
       "      <td>330.2</td>\n",
       "    </tr>\n",
       "    <tr>\n",
       "      <th>2020-10-15 10:40:00</th>\n",
       "      <td>NaN</td>\n",
       "    </tr>\n",
       "    <tr>\n",
       "      <th>2020-10-15 10:50:00</th>\n",
       "      <td>326.2</td>\n",
       "    </tr>\n",
       "  </tbody>\n",
       "</table>\n",
       "</div>"
      ],
      "text/plain": [
       "                     잠수교_수위\n",
       "날짜                         \n",
       "2020-10-15 10:30:00   330.2\n",
       "2020-10-15 10:40:00     NaN\n",
       "2020-10-15 10:50:00   326.2"
      ]
     },
     "execution_count": 481,
     "metadata": {},
     "output_type": "execute_result"
    }
   ],
   "source": [
    "# 데이터프레임 분리\n",
    "\n",
    "잠수_보간 = 잠수.copy()\n",
    "잠수_보간 = 잠수_보간.set_index('날짜')\n",
    "잠수_보간 = 잠수_보간.iloc[index_interpolate_, :]\n",
    "잠수_보간"
   ]
  },
  {
   "cell_type": "code",
   "execution_count": 482,
   "id": "35c85150",
   "metadata": {
    "colab": {
     "base_uri": "https://localhost:8080/",
     "height": 455
    },
    "executionInfo": {
     "elapsed": 97,
     "status": "ok",
     "timestamp": 1660743839777,
     "user": {
      "displayName": "이예림(상경대학 응용통계학과)",
      "userId": "02944141114007762965"
     },
     "user_tz": -540
    },
    "id": "Ern-vbzfne74",
    "outputId": "3b42110e-9ac7-4f06-9b92-8ea8b7a34476"
   },
   "outputs": [
    {
     "data": {
      "text/html": [
       "<div>\n",
       "<style scoped>\n",
       "    .dataframe tbody tr th:only-of-type {\n",
       "        vertical-align: middle;\n",
       "    }\n",
       "\n",
       "    .dataframe tbody tr th {\n",
       "        vertical-align: top;\n",
       "    }\n",
       "\n",
       "    .dataframe thead th {\n",
       "        text-align: right;\n",
       "    }\n",
       "</style>\n",
       "<table border=\"1\" class=\"dataframe\">\n",
       "  <thead>\n",
       "    <tr style=\"text-align: right;\">\n",
       "      <th></th>\n",
       "      <th>잠수교_수위</th>\n",
       "    </tr>\n",
       "    <tr>\n",
       "      <th>날짜</th>\n",
       "      <th></th>\n",
       "    </tr>\n",
       "  </thead>\n",
       "  <tbody>\n",
       "    <tr>\n",
       "      <th>2020-10-15 10:30:00</th>\n",
       "      <td>330.2</td>\n",
       "    </tr>\n",
       "    <tr>\n",
       "      <th>2020-10-15 10:40:00</th>\n",
       "      <td>328.2</td>\n",
       "    </tr>\n",
       "    <tr>\n",
       "      <th>2020-10-15 10:50:00</th>\n",
       "      <td>326.2</td>\n",
       "    </tr>\n",
       "  </tbody>\n",
       "</table>\n",
       "</div>"
      ],
      "text/plain": [
       "                     잠수교_수위\n",
       "날짜                         \n",
       "2020-10-15 10:30:00   330.2\n",
       "2020-10-15 10:40:00   328.2\n",
       "2020-10-15 10:50:00   326.2"
      ]
     },
     "execution_count": 482,
     "metadata": {},
     "output_type": "execute_result"
    }
   ],
   "source": [
    "# 보간\n",
    "\n",
    "잠수_보간.interpolate(method='time', inplace=True)\n",
    "잠수_보간   # 보간 결과 확인"
   ]
  },
  {
   "cell_type": "code",
   "execution_count": 483,
   "id": "e0223d48",
   "metadata": {
    "colab": {
     "base_uri": "https://localhost:8080/"
    },
    "executionInfo": {
     "elapsed": 94,
     "status": "ok",
     "timestamp": 1660743839778,
     "user": {
      "displayName": "이예림(상경대학 응용통계학과)",
      "userId": "02944141114007762965"
     },
     "user_tz": -540
    },
    "id": "eeQuJ8GYfv4m",
    "outputId": "e6306177-a229-4704-90bc-46cbd35d38fe"
   },
   "outputs": [
    {
     "data": {
      "text/plain": [
       "잠수교_수위    0\n",
       "dtype: int64"
      ]
     },
     "execution_count": 483,
     "metadata": {},
     "output_type": "execute_result"
    }
   ],
   "source": [
    "잠수_보간.isnull().sum()"
   ]
  },
  {
   "cell_type": "code",
   "execution_count": 485,
   "id": "a53302c1",
   "metadata": {
    "colab": {
     "base_uri": "https://localhost:8080/"
    },
    "executionInfo": {
     "elapsed": 71,
     "status": "ok",
     "timestamp": 1660743839779,
     "user": {
      "displayName": "이예림(상경대학 응용통계학과)",
      "userId": "02944141114007762965"
     },
     "user_tz": -540
    },
    "id": "Nb9VtE6YXsLz",
    "outputId": "e2685d76-bd81-4d7f-d4ee-c4d2b1ed1b4e"
   },
   "outputs": [
    {
     "data": {
      "text/plain": [
       "잠수교_수위    True\n",
       "dtype: bool"
      ]
     },
     "execution_count": 485,
     "metadata": {},
     "output_type": "execute_result"
    }
   ],
   "source": [
    "잠수 = 잠수.set_index('날짜')\n",
    "잠수.loc[잠수_보간.index] = 잠수_보간\n",
    "잠수.isnull().sum() == len(index_sarima)   # 남은 결측치 개수가 SARIMA로 채워야 할 결측치 개수(len(index_sarima))와 같은지 확인"
   ]
  },
  {
   "cell_type": "markdown",
   "id": "44089a61",
   "metadata": {
    "id": "dK89voI3c8Q0"
   },
   "source": [
    "## 2. 연속적 결측값 처리 by SARIMA"
   ]
  },
  {
   "cell_type": "code",
   "execution_count": 486,
   "id": "6b5c4085",
   "metadata": {
    "colab": {
     "base_uri": "https://localhost:8080/",
     "height": 636
    },
    "executionInfo": {
     "elapsed": 21555,
     "status": "ok",
     "timestamp": 1660743861266,
     "user": {
      "displayName": "이예림(상경대학 응용통계학과)",
      "userId": "02944141114007762965"
     },
     "user_tz": -540
    },
    "id": "-uugY5hBTMTa",
    "outputId": "931c6453-6c54-4bce-c91a-90a599ab57d7"
   },
   "outputs": [],
   "source": [
    "#!pip install pmdarima"
   ]
  },
  {
   "cell_type": "code",
   "execution_count": 487,
   "id": "c50d9952",
   "metadata": {
    "executionInfo": {
     "elapsed": 1552,
     "status": "ok",
     "timestamp": 1660743862779,
     "user": {
      "displayName": "이예림(상경대학 응용통계학과)",
      "userId": "02944141114007762965"
     },
     "user_tz": -540
    },
    "id": "BxiLQENsdZvT"
   },
   "outputs": [],
   "source": [
    "from statsmodels.tsa.statespace.sarimax import SARIMAX\n",
    "import pmdarima as pm"
   ]
  },
  {
   "cell_type": "code",
   "execution_count": 488,
   "id": "8dac2c99",
   "metadata": {
    "colab": {
     "base_uri": "https://localhost:8080/"
    },
    "executionInfo": {
     "elapsed": 202,
     "status": "ok",
     "timestamp": 1660743862783,
     "user": {
      "displayName": "이예림(상경대학 응용통계학과)",
      "userId": "02944141114007762965"
     },
     "user_tz": -540
    },
    "id": "zSu62iX5Ta7f",
    "outputId": "ae70a0f4-a900-4c77-d110-f8018942180f"
   },
   "outputs": [
    {
     "data": {
      "text/plain": [
       "140613"
      ]
     },
     "execution_count": 488,
     "metadata": {},
     "output_type": "execute_result"
    }
   ],
   "source": [
    "index_sarima[0]"
   ]
  },
  {
   "cell_type": "code",
   "execution_count": 489,
   "id": "686d244a",
   "metadata": {
    "colab": {
     "base_uri": "https://localhost:8080/"
    },
    "executionInfo": {
     "elapsed": 283,
     "status": "ok",
     "timestamp": 1660743862881,
     "user": {
      "displayName": "이예림(상경대학 응용통계학과)",
      "userId": "02944141114007762965"
     },
     "user_tz": -540
    },
    "id": "8bN42uONUfY9",
    "outputId": "9ba9b11d-90d1-4d51-dbff-057d740b6556"
   },
   "outputs": [
    {
     "name": "stdout",
     "output_type": "stream",
     "text": [
      "[[140613, 140614, 140615, 140616, 140617, 140618, 140619, 140620, 140621, 140622, 140623, 140624, 140625, 140626, 140627, 140628, 140629, 140630, 140631, 140632, 140633, 140634, 140635, 140636, 140637, 140638, 140639, 140640, 140641, 140642, 140643, 140644, 140645, 140646, 140647, 140648, 140649, 140650, 140651, 140652, 140653, 140654, 140655, 140656, 140657, 140658, 140659, 140660, 140661, 140662, 140663, 140664, 140665, 140666, 140667, 140668, 140669, 140670]]\n"
     ]
    }
   ],
   "source": [
    "# 연속된 구간별로 분리\n",
    "\n",
    "i = 0\n",
    "temp = []\n",
    "total = []\n",
    "\n",
    "while i>=0:\n",
    "  try:\n",
    "    if index_sarima[i+2]==index_sarima[i+1]+1==index_sarima[i]+2:\n",
    "      temp.append(index_sarima[i])\n",
    "      i += 1\n",
    "    elif index_sarima[i+2]!=index_sarima[i+1]+1==index_sarima[i]+2:\n",
    "      temp.extend([index_sarima[i], index_sarima[i+1]])\n",
    "      #print(temp)\n",
    "      total.append(temp)\n",
    "      temp = []\n",
    "      i += 2\n",
    "  except:\n",
    "    break\n",
    "\n",
    "# 예외 처리\n",
    "#temp = index_sarima[-2:]\n",
    "#print(temp)\n",
    "total.append(temp)\n",
    "total[len(total)-1].append(index_sarima[-2:][0])\n",
    "total[len(total)-1].append(index_sarima[-2:][1])\n",
    "print(total)"
   ]
  },
  {
   "cell_type": "code",
   "execution_count": 490,
   "id": "7af9fd5f",
   "metadata": {
    "colab": {
     "base_uri": "https://localhost:8080/"
    },
    "executionInfo": {
     "elapsed": 292,
     "status": "ok",
     "timestamp": 1660743862962,
     "user": {
      "displayName": "이예림(상경대학 응용통계학과)",
      "userId": "02944141114007762965"
     },
     "user_tz": -540
    },
    "id": "r6E66IVMXyg3",
    "outputId": "d28cd1a6-573d-4b29-8979-8c2d879095e2",
    "scrolled": true
   },
   "outputs": [
    {
     "data": {
      "text/plain": [
       "True"
      ]
     },
     "execution_count": 490,
     "metadata": {},
     "output_type": "execute_result"
    }
   ],
   "source": [
    "sum(total, []) == index_sarima   # 분리가 잘 이루어졌는지 확인"
   ]
  },
  {
   "cell_type": "code",
   "execution_count": 491,
   "id": "3fecc5b1",
   "metadata": {},
   "outputs": [
    {
     "data": {
      "text/plain": [
       "1"
      ]
     },
     "execution_count": 491,
     "metadata": {},
     "output_type": "execute_result"
    }
   ],
   "source": [
    "len(total) #결측치 처리해야 하는 구간의 수"
   ]
  },
  {
   "cell_type": "code",
   "execution_count": 625,
   "id": "9ad90f2a",
   "metadata": {
    "colab": {
     "base_uri": "https://localhost:8080/"
    },
    "executionInfo": {
     "elapsed": 6204453,
     "status": "ok",
     "timestamp": 1660750114017,
     "user": {
      "displayName": "이예림(상경대학 응용통계학과)",
      "userId": "02944141114007762965"
     },
     "user_tz": -540
    },
    "id": "_HQ9SccJYZif",
    "outputId": "075320ea-d158-4e10-9cdc-e83f87732872",
    "scrolled": true
   },
   "outputs": [],
   "source": [
    "# 전체 다 1일, 즉 직전 144개의 row를 반영하여 결측치 처리\n",
    "\n",
    "for range in total:\n",
    "  start = range[0]\n",
    "  model = pm.auto_arima(잠수[start-150:start], seasonal=True)\n",
    "  잠수.iloc[range, 0] = model.predict(len(range))\n",
    "  #print(f'{total.index(range)+1}번째 구간 결측치 처리 완료')"
   ]
  },
  {
   "cell_type": "code",
   "execution_count": 626,
   "id": "73289742",
   "metadata": {
    "colab": {
     "base_uri": "https://localhost:8080/"
    },
    "executionInfo": {
     "elapsed": 84,
     "status": "ok",
     "timestamp": 1660750114020,
     "user": {
      "displayName": "이예림(상경대학 응용통계학과)",
      "userId": "02944141114007762965"
     },
     "user_tz": -540
    },
    "id": "fLkpB1I5bSZu",
    "outputId": "39baa2da-b52e-485c-9c47-103c9755c247"
   },
   "outputs": [
    {
     "data": {
      "text/plain": [
       "잠수교_수위    0\n",
       "dtype: int64"
      ]
     },
     "execution_count": 626,
     "metadata": {},
     "output_type": "execute_result"
    }
   ],
   "source": [
    "# 결측치가 모두 처리되었는지 확인\n",
    "\n",
    "잠수.isnull().sum()"
   ]
  },
  {
   "cell_type": "code",
   "execution_count": 627,
   "id": "50c1682e",
   "metadata": {
    "colab": {
     "base_uri": "https://localhost:8080/",
     "height": 265
    },
    "executionInfo": {
     "elapsed": 964,
     "status": "ok",
     "timestamp": 1660750930556,
     "user": {
      "displayName": "이예림(상경대학 응용통계학과)",
      "userId": "02944141114007762965"
     },
     "user_tz": -540
    },
    "id": "LrPrN4VIbX4u",
    "outputId": "b288020c-e222-4519-ec78-8461c318fde4"
   },
   "outputs": [
    {
     "data": {
      "image/png": "[encoded data removed]",
      "text/plain": [
       "<Figure size 432x288 with 1 Axes>"
      ]
     },
     "metadata": {
      "needs_background": "light"
     },
     "output_type": "display_data"
    }
   ],
   "source": [
    "# 결측치 처리 형태 확인 (인덱스 번째 구간)\n",
    "\n",
    "plt.plot(total[0], 잠수.iloc[total[0], 0])\n",
    "plt.show()"
   ]
  },
  {
   "cell_type": "code",
   "execution_count": 628,
   "id": "a5cff0ac",
   "metadata": {},
   "outputs": [
    {
     "data": {
      "text/plain": [
       "[<matplotlib.lines.Line2D at 0x1e449410220>]"
      ]
     },
     "execution_count": 628,
     "metadata": {},
     "output_type": "execute_result"
    },
    {
     "data": {
      "image/png": "[encoded data removed]",
      "text/plain": [
       "<Figure size 432x288 with 1 Axes>"
      ]
     },
     "metadata": {
      "needs_background": "light"
     },
     "output_type": "display_data"
    }
   ],
   "source": [
    "plt.plot(잠수[140300:141000])"
   ]
  },
  {
   "cell_type": "code",
   "execution_count": null,
   "id": "f6042af4",
   "metadata": {},
   "outputs": [],
   "source": []
  },
  {
   "cell_type": "markdown",
   "id": "94d981ca",
   "metadata": {
    "id": "mK0eaXyuTuhT"
   },
   "source": [
    "# 한강대교 수위 결측치 처리"
   ]
  },
  {
   "cell_type": "code",
   "execution_count": 629,
   "id": "a1ecbc60",
   "metadata": {
    "colab": {
     "base_uri": "https://localhost:8080/",
     "height": 424
    },
    "executionInfo": {
     "elapsed": 432,
     "status": "ok",
     "timestamp": 1660743839242,
     "user": {
      "displayName": "이예림(상경대학 응용통계학과)",
      "userId": "02944141114007762965"
     },
     "user_tz": -540
    },
    "id": "Mdz_YyjTTcH1",
    "outputId": "5c77d4d1-09af-467a-ad8f-cd70df07dbb2"
   },
   "outputs": [],
   "source": [
    "한강 = data[['날짜', '한강대교_수위']]"
   ]
  },
  {
   "cell_type": "code",
   "execution_count": 630,
   "id": "040238e9",
   "metadata": {
    "colab": {
     "base_uri": "https://localhost:8080/",
     "height": 532
    },
    "executionInfo": {
     "elapsed": 438,
     "status": "ok",
     "timestamp": 1660743839252,
     "user": {
      "displayName": "이예림(상경대학 응용통계학과)",
      "userId": "02944141114007762965"
     },
     "user_tz": -540
    },
    "id": "NOkjGH6yVaXY",
    "outputId": "682e1c1e-adc1-4115-c609-21eb3561ea88"
   },
   "outputs": [
    {
     "name": "stderr",
     "output_type": "stream",
     "text": [
      "C:\\Users\\sjkan\\AppData\\Local\\Temp\\ipykernel_11972\\2998615949.py:1: SettingWithCopyWarning: \n",
      "A value is trying to be set on a copy of a slice from a DataFrame.\n",
      "Try using .loc[row_indexer,col_indexer] = value instead\n",
      "\n",
      "See the caveats in the documentation: https://pandas.pydata.org/pandas-docs/stable/user_guide/indexing.html#returning-a-view-versus-a-copy\n",
      "  한강.날짜 = pd.to_datetime(한강.날짜)\n"
     ]
    },
    {
     "data": {
      "text/html": [
       "<div>\n",
       "<style scoped>\n",
       "    .dataframe tbody tr th:only-of-type {\n",
       "        vertical-align: middle;\n",
       "    }\n",
       "\n",
       "    .dataframe tbody tr th {\n",
       "        vertical-align: top;\n",
       "    }\n",
       "\n",
       "    .dataframe thead th {\n",
       "        text-align: right;\n",
       "    }\n",
       "</style>\n",
       "<table border=\"1\" class=\"dataframe\">\n",
       "  <thead>\n",
       "    <tr style=\"text-align: right;\">\n",
       "      <th></th>\n",
       "      <th>날짜</th>\n",
       "      <th>한강대교_수위</th>\n",
       "    </tr>\n",
       "  </thead>\n",
       "  <tbody>\n",
       "    <tr>\n",
       "      <th>0</th>\n",
       "      <td>2012-05-01 00:00:00</td>\n",
       "      <td>290.0</td>\n",
       "    </tr>\n",
       "    <tr>\n",
       "      <th>1</th>\n",
       "      <td>2012-05-01 00:10:00</td>\n",
       "      <td>290.0</td>\n",
       "    </tr>\n",
       "    <tr>\n",
       "      <th>2</th>\n",
       "      <td>2012-05-01 00:20:00</td>\n",
       "      <td>290.0</td>\n",
       "    </tr>\n",
       "    <tr>\n",
       "      <th>3</th>\n",
       "      <td>2012-05-01 00:30:00</td>\n",
       "      <td>290.0</td>\n",
       "    </tr>\n",
       "    <tr>\n",
       "      <th>4</th>\n",
       "      <td>2012-05-01 00:40:00</td>\n",
       "      <td>291.0</td>\n",
       "    </tr>\n",
       "    <tr>\n",
       "      <th>...</th>\n",
       "      <td>...</td>\n",
       "      <td>...</td>\n",
       "    </tr>\n",
       "    <tr>\n",
       "      <th>276331</th>\n",
       "      <td>2022-07-18 23:10:00</td>\n",
       "      <td>0.0</td>\n",
       "    </tr>\n",
       "    <tr>\n",
       "      <th>276332</th>\n",
       "      <td>2022-07-18 23:20:00</td>\n",
       "      <td>0.0</td>\n",
       "    </tr>\n",
       "    <tr>\n",
       "      <th>276333</th>\n",
       "      <td>2022-07-18 23:30:00</td>\n",
       "      <td>0.0</td>\n",
       "    </tr>\n",
       "    <tr>\n",
       "      <th>276334</th>\n",
       "      <td>2022-07-18 23:40:00</td>\n",
       "      <td>0.0</td>\n",
       "    </tr>\n",
       "    <tr>\n",
       "      <th>276335</th>\n",
       "      <td>2022-07-18 23:50:00</td>\n",
       "      <td>0.0</td>\n",
       "    </tr>\n",
       "  </tbody>\n",
       "</table>\n",
       "<p>276336 rows × 2 columns</p>\n",
       "</div>"
      ],
      "text/plain": [
       "                        날짜  한강대교_수위\n",
       "0      2012-05-01 00:00:00    290.0\n",
       "1      2012-05-01 00:10:00    290.0\n",
       "2      2012-05-01 00:20:00    290.0\n",
       "3      2012-05-01 00:30:00    290.0\n",
       "4      2012-05-01 00:40:00    291.0\n",
       "...                    ...      ...\n",
       "276331 2022-07-18 23:10:00      0.0\n",
       "276332 2022-07-18 23:20:00      0.0\n",
       "276333 2022-07-18 23:30:00      0.0\n",
       "276334 2022-07-18 23:40:00      0.0\n",
       "276335 2022-07-18 23:50:00      0.0\n",
       "\n",
       "[276336 rows x 2 columns]"
      ]
     },
     "execution_count": 630,
     "metadata": {},
     "output_type": "execute_result"
    }
   ],
   "source": [
    "한강.날짜 = pd.to_datetime(한강.날짜)\n",
    "한강"
   ]
  },
  {
   "cell_type": "code",
   "execution_count": 631,
   "id": "b043117a",
   "metadata": {
    "colab": {
     "base_uri": "https://localhost:8080/",
     "height": 424
    },
    "executionInfo": {
     "elapsed": 429,
     "status": "ok",
     "timestamp": 1660743839255,
     "user": {
      "displayName": "이예림(상경대학 응용통계학과)",
      "userId": "02944141114007762965"
     },
     "user_tz": -540
    },
    "id": "e4Q6xLdsTx3j",
    "outputId": "340420de-0607-4652-aac1-4417d179c65e",
    "scrolled": true
   },
   "outputs": [
    {
     "data": {
      "text/html": [
       "<div>\n",
       "<style scoped>\n",
       "    .dataframe tbody tr th:only-of-type {\n",
       "        vertical-align: middle;\n",
       "    }\n",
       "\n",
       "    .dataframe tbody tr th {\n",
       "        vertical-align: top;\n",
       "    }\n",
       "\n",
       "    .dataframe thead th {\n",
       "        text-align: right;\n",
       "    }\n",
       "</style>\n",
       "<table border=\"1\" class=\"dataframe\">\n",
       "  <thead>\n",
       "    <tr style=\"text-align: right;\">\n",
       "      <th></th>\n",
       "      <th>날짜</th>\n",
       "      <th>한강대교_수위</th>\n",
       "    </tr>\n",
       "  </thead>\n",
       "  <tbody>\n",
       "    <tr>\n",
       "      <th>140613</th>\n",
       "      <td>2017-06-26 11:30:00</td>\n",
       "      <td>NaN</td>\n",
       "    </tr>\n",
       "    <tr>\n",
       "      <th>140614</th>\n",
       "      <td>2017-06-26 11:40:00</td>\n",
       "      <td>NaN</td>\n",
       "    </tr>\n",
       "    <tr>\n",
       "      <th>140615</th>\n",
       "      <td>2017-06-26 11:50:00</td>\n",
       "      <td>NaN</td>\n",
       "    </tr>\n",
       "    <tr>\n",
       "      <th>140616</th>\n",
       "      <td>2017-06-26 12:00:00</td>\n",
       "      <td>NaN</td>\n",
       "    </tr>\n",
       "    <tr>\n",
       "      <th>140617</th>\n",
       "      <td>2017-06-26 12:10:00</td>\n",
       "      <td>NaN</td>\n",
       "    </tr>\n",
       "    <tr>\n",
       "      <th>140618</th>\n",
       "      <td>2017-06-26 12:20:00</td>\n",
       "      <td>NaN</td>\n",
       "    </tr>\n",
       "    <tr>\n",
       "      <th>140619</th>\n",
       "      <td>2017-06-26 12:30:00</td>\n",
       "      <td>NaN</td>\n",
       "    </tr>\n",
       "    <tr>\n",
       "      <th>140620</th>\n",
       "      <td>2017-06-26 12:40:00</td>\n",
       "      <td>NaN</td>\n",
       "    </tr>\n",
       "    <tr>\n",
       "      <th>140621</th>\n",
       "      <td>2017-06-26 12:50:00</td>\n",
       "      <td>NaN</td>\n",
       "    </tr>\n",
       "    <tr>\n",
       "      <th>140622</th>\n",
       "      <td>2017-06-26 13:00:00</td>\n",
       "      <td>NaN</td>\n",
       "    </tr>\n",
       "    <tr>\n",
       "      <th>140623</th>\n",
       "      <td>2017-06-26 13:10:00</td>\n",
       "      <td>NaN</td>\n",
       "    </tr>\n",
       "    <tr>\n",
       "      <th>140624</th>\n",
       "      <td>2017-06-26 13:20:00</td>\n",
       "      <td>NaN</td>\n",
       "    </tr>\n",
       "    <tr>\n",
       "      <th>140625</th>\n",
       "      <td>2017-06-26 13:30:00</td>\n",
       "      <td>NaN</td>\n",
       "    </tr>\n",
       "    <tr>\n",
       "      <th>140626</th>\n",
       "      <td>2017-06-26 13:40:00</td>\n",
       "      <td>NaN</td>\n",
       "    </tr>\n",
       "    <tr>\n",
       "      <th>140627</th>\n",
       "      <td>2017-06-26 13:50:00</td>\n",
       "      <td>NaN</td>\n",
       "    </tr>\n",
       "    <tr>\n",
       "      <th>140628</th>\n",
       "      <td>2017-06-26 14:00:00</td>\n",
       "      <td>NaN</td>\n",
       "    </tr>\n",
       "    <tr>\n",
       "      <th>140629</th>\n",
       "      <td>2017-06-26 14:10:00</td>\n",
       "      <td>NaN</td>\n",
       "    </tr>\n",
       "    <tr>\n",
       "      <th>140630</th>\n",
       "      <td>2017-06-26 14:20:00</td>\n",
       "      <td>NaN</td>\n",
       "    </tr>\n",
       "    <tr>\n",
       "      <th>140631</th>\n",
       "      <td>2017-06-26 14:30:00</td>\n",
       "      <td>NaN</td>\n",
       "    </tr>\n",
       "    <tr>\n",
       "      <th>140632</th>\n",
       "      <td>2017-06-26 14:40:00</td>\n",
       "      <td>NaN</td>\n",
       "    </tr>\n",
       "    <tr>\n",
       "      <th>140633</th>\n",
       "      <td>2017-06-26 14:50:00</td>\n",
       "      <td>NaN</td>\n",
       "    </tr>\n",
       "    <tr>\n",
       "      <th>140634</th>\n",
       "      <td>2017-06-26 15:00:00</td>\n",
       "      <td>NaN</td>\n",
       "    </tr>\n",
       "    <tr>\n",
       "      <th>140635</th>\n",
       "      <td>2017-06-26 15:10:00</td>\n",
       "      <td>NaN</td>\n",
       "    </tr>\n",
       "    <tr>\n",
       "      <th>140636</th>\n",
       "      <td>2017-06-26 15:20:00</td>\n",
       "      <td>NaN</td>\n",
       "    </tr>\n",
       "    <tr>\n",
       "      <th>140637</th>\n",
       "      <td>2017-06-26 15:30:00</td>\n",
       "      <td>NaN</td>\n",
       "    </tr>\n",
       "    <tr>\n",
       "      <th>140638</th>\n",
       "      <td>2017-06-26 15:40:00</td>\n",
       "      <td>NaN</td>\n",
       "    </tr>\n",
       "    <tr>\n",
       "      <th>140639</th>\n",
       "      <td>2017-06-26 15:50:00</td>\n",
       "      <td>NaN</td>\n",
       "    </tr>\n",
       "    <tr>\n",
       "      <th>140640</th>\n",
       "      <td>2017-06-26 16:00:00</td>\n",
       "      <td>NaN</td>\n",
       "    </tr>\n",
       "    <tr>\n",
       "      <th>140641</th>\n",
       "      <td>2017-06-26 16:10:00</td>\n",
       "      <td>NaN</td>\n",
       "    </tr>\n",
       "    <tr>\n",
       "      <th>140642</th>\n",
       "      <td>2017-06-26 16:20:00</td>\n",
       "      <td>NaN</td>\n",
       "    </tr>\n",
       "    <tr>\n",
       "      <th>140643</th>\n",
       "      <td>2017-06-26 16:30:00</td>\n",
       "      <td>NaN</td>\n",
       "    </tr>\n",
       "    <tr>\n",
       "      <th>140644</th>\n",
       "      <td>2017-06-26 16:40:00</td>\n",
       "      <td>NaN</td>\n",
       "    </tr>\n",
       "    <tr>\n",
       "      <th>140645</th>\n",
       "      <td>2017-06-26 16:50:00</td>\n",
       "      <td>NaN</td>\n",
       "    </tr>\n",
       "    <tr>\n",
       "      <th>140646</th>\n",
       "      <td>2017-06-26 17:00:00</td>\n",
       "      <td>NaN</td>\n",
       "    </tr>\n",
       "    <tr>\n",
       "      <th>140647</th>\n",
       "      <td>2017-06-26 17:10:00</td>\n",
       "      <td>NaN</td>\n",
       "    </tr>\n",
       "    <tr>\n",
       "      <th>140648</th>\n",
       "      <td>2017-06-26 17:20:00</td>\n",
       "      <td>NaN</td>\n",
       "    </tr>\n",
       "    <tr>\n",
       "      <th>140649</th>\n",
       "      <td>2017-06-26 17:30:00</td>\n",
       "      <td>NaN</td>\n",
       "    </tr>\n",
       "    <tr>\n",
       "      <th>140650</th>\n",
       "      <td>2017-06-26 17:40:00</td>\n",
       "      <td>NaN</td>\n",
       "    </tr>\n",
       "    <tr>\n",
       "      <th>140651</th>\n",
       "      <td>2017-06-26 17:50:00</td>\n",
       "      <td>NaN</td>\n",
       "    </tr>\n",
       "    <tr>\n",
       "      <th>140652</th>\n",
       "      <td>2017-06-26 18:00:00</td>\n",
       "      <td>NaN</td>\n",
       "    </tr>\n",
       "    <tr>\n",
       "      <th>140653</th>\n",
       "      <td>2017-06-26 18:10:00</td>\n",
       "      <td>NaN</td>\n",
       "    </tr>\n",
       "    <tr>\n",
       "      <th>140654</th>\n",
       "      <td>2017-06-26 18:20:00</td>\n",
       "      <td>NaN</td>\n",
       "    </tr>\n",
       "    <tr>\n",
       "      <th>140655</th>\n",
       "      <td>2017-06-26 18:30:00</td>\n",
       "      <td>NaN</td>\n",
       "    </tr>\n",
       "    <tr>\n",
       "      <th>140656</th>\n",
       "      <td>2017-06-26 18:40:00</td>\n",
       "      <td>NaN</td>\n",
       "    </tr>\n",
       "    <tr>\n",
       "      <th>140657</th>\n",
       "      <td>2017-06-26 18:50:00</td>\n",
       "      <td>NaN</td>\n",
       "    </tr>\n",
       "    <tr>\n",
       "      <th>140658</th>\n",
       "      <td>2017-06-26 19:00:00</td>\n",
       "      <td>NaN</td>\n",
       "    </tr>\n",
       "    <tr>\n",
       "      <th>140659</th>\n",
       "      <td>2017-06-26 19:10:00</td>\n",
       "      <td>NaN</td>\n",
       "    </tr>\n",
       "    <tr>\n",
       "      <th>140660</th>\n",
       "      <td>2017-06-26 19:20:00</td>\n",
       "      <td>NaN</td>\n",
       "    </tr>\n",
       "    <tr>\n",
       "      <th>140661</th>\n",
       "      <td>2017-06-26 19:30:00</td>\n",
       "      <td>NaN</td>\n",
       "    </tr>\n",
       "    <tr>\n",
       "      <th>140662</th>\n",
       "      <td>2017-06-26 19:40:00</td>\n",
       "      <td>NaN</td>\n",
       "    </tr>\n",
       "    <tr>\n",
       "      <th>140663</th>\n",
       "      <td>2017-06-26 19:50:00</td>\n",
       "      <td>NaN</td>\n",
       "    </tr>\n",
       "    <tr>\n",
       "      <th>140664</th>\n",
       "      <td>2017-06-26 20:00:00</td>\n",
       "      <td>NaN</td>\n",
       "    </tr>\n",
       "    <tr>\n",
       "      <th>140665</th>\n",
       "      <td>2017-06-26 20:10:00</td>\n",
       "      <td>NaN</td>\n",
       "    </tr>\n",
       "    <tr>\n",
       "      <th>140666</th>\n",
       "      <td>2017-06-26 20:20:00</td>\n",
       "      <td>NaN</td>\n",
       "    </tr>\n",
       "    <tr>\n",
       "      <th>140667</th>\n",
       "      <td>2017-06-26 20:30:00</td>\n",
       "      <td>NaN</td>\n",
       "    </tr>\n",
       "    <tr>\n",
       "      <th>140668</th>\n",
       "      <td>2017-06-26 20:40:00</td>\n",
       "      <td>NaN</td>\n",
       "    </tr>\n",
       "    <tr>\n",
       "      <th>140669</th>\n",
       "      <td>2017-06-26 20:50:00</td>\n",
       "      <td>NaN</td>\n",
       "    </tr>\n",
       "    <tr>\n",
       "      <th>140670</th>\n",
       "      <td>2017-06-26 21:00:00</td>\n",
       "      <td>NaN</td>\n",
       "    </tr>\n",
       "    <tr>\n",
       "      <th>236080</th>\n",
       "      <td>2020-10-15 10:40:00</td>\n",
       "      <td>NaN</td>\n",
       "    </tr>\n",
       "  </tbody>\n",
       "</table>\n",
       "</div>"
      ],
      "text/plain": [
       "                        날짜  한강대교_수위\n",
       "140613 2017-06-26 11:30:00      NaN\n",
       "140614 2017-06-26 11:40:00      NaN\n",
       "140615 2017-06-26 11:50:00      NaN\n",
       "140616 2017-06-26 12:00:00      NaN\n",
       "140617 2017-06-26 12:10:00      NaN\n",
       "140618 2017-06-26 12:20:00      NaN\n",
       "140619 2017-06-26 12:30:00      NaN\n",
       "140620 2017-06-26 12:40:00      NaN\n",
       "140621 2017-06-26 12:50:00      NaN\n",
       "140622 2017-06-26 13:00:00      NaN\n",
       "140623 2017-06-26 13:10:00      NaN\n",
       "140624 2017-06-26 13:20:00      NaN\n",
       "140625 2017-06-26 13:30:00      NaN\n",
       "140626 2017-06-26 13:40:00      NaN\n",
       "140627 2017-06-26 13:50:00      NaN\n",
       "140628 2017-06-26 14:00:00      NaN\n",
       "140629 2017-06-26 14:10:00      NaN\n",
       "140630 2017-06-26 14:20:00      NaN\n",
       "140631 2017-06-26 14:30:00      NaN\n",
       "140632 2017-06-26 14:40:00      NaN\n",
       "140633 2017-06-26 14:50:00      NaN\n",
       "140634 2017-06-26 15:00:00      NaN\n",
       "140635 2017-06-26 15:10:00      NaN\n",
       "140636 2017-06-26 15:20:00      NaN\n",
       "140637 2017-06-26 15:30:00      NaN\n",
       "140638 2017-06-26 15:40:00      NaN\n",
       "140639 2017-06-26 15:50:00      NaN\n",
       "140640 2017-06-26 16:00:00      NaN\n",
       "140641 2017-06-26 16:10:00      NaN\n",
       "140642 2017-06-26 16:20:00      NaN\n",
       "140643 2017-06-26 16:30:00      NaN\n",
       "140644 2017-06-26 16:40:00      NaN\n",
       "140645 2017-06-26 16:50:00      NaN\n",
       "140646 2017-06-26 17:00:00      NaN\n",
       "140647 2017-06-26 17:10:00      NaN\n",
       "140648 2017-06-26 17:20:00      NaN\n",
       "140649 2017-06-26 17:30:00      NaN\n",
       "140650 2017-06-26 17:40:00      NaN\n",
       "140651 2017-06-26 17:50:00      NaN\n",
       "140652 2017-06-26 18:00:00      NaN\n",
       "140653 2017-06-26 18:10:00      NaN\n",
       "140654 2017-06-26 18:20:00      NaN\n",
       "140655 2017-06-26 18:30:00      NaN\n",
       "140656 2017-06-26 18:40:00      NaN\n",
       "140657 2017-06-26 18:50:00      NaN\n",
       "140658 2017-06-26 19:00:00      NaN\n",
       "140659 2017-06-26 19:10:00      NaN\n",
       "140660 2017-06-26 19:20:00      NaN\n",
       "140661 2017-06-26 19:30:00      NaN\n",
       "140662 2017-06-26 19:40:00      NaN\n",
       "140663 2017-06-26 19:50:00      NaN\n",
       "140664 2017-06-26 20:00:00      NaN\n",
       "140665 2017-06-26 20:10:00      NaN\n",
       "140666 2017-06-26 20:20:00      NaN\n",
       "140667 2017-06-26 20:30:00      NaN\n",
       "140668 2017-06-26 20:40:00      NaN\n",
       "140669 2017-06-26 20:50:00      NaN\n",
       "140670 2017-06-26 21:00:00      NaN\n",
       "236080 2020-10-15 10:40:00      NaN"
      ]
     },
     "execution_count": 631,
     "metadata": {},
     "output_type": "execute_result"
    }
   ],
   "source": [
    "한강[한강['한강대교_수위'].isnull()]   # 16380개의 결측치 : 순서대로 채우기"
   ]
  },
  {
   "cell_type": "code",
   "execution_count": 632,
   "id": "bb724a2e",
   "metadata": {
    "colab": {
     "base_uri": "https://localhost:8080/"
    },
    "executionInfo": {
     "elapsed": 427,
     "status": "ok",
     "timestamp": 1660743839256,
     "user": {
      "displayName": "이예림(상경대학 응용통계학과)",
      "userId": "02944141114007762965"
     },
     "user_tz": -540
    },
    "id": "RrthJw76c4B6",
    "outputId": "10fb03a5-e4db-469a-ccd9-80f777cdb60e"
   },
   "outputs": [],
   "source": [
    "nan_index = list(한강[한강['한강대교_수위'].isnull()].index)"
   ]
  },
  {
   "cell_type": "code",
   "execution_count": 633,
   "id": "850b5455",
   "metadata": {
    "colab": {
     "base_uri": "https://localhost:8080/"
    },
    "executionInfo": {
     "elapsed": 933,
     "status": "ok",
     "timestamp": 1660743839772,
     "user": {
      "displayName": "이예림(상경대학 응용통계학과)",
      "userId": "02944141114007762965"
     },
     "user_tz": -540
    },
    "id": "ubfxLxNcX-Nz",
    "outputId": "0680fa41-41e1-4ec1-90ef-81bd0fe72ea8"
   },
   "outputs": [
    {
     "data": {
      "text/plain": [
       "True"
      ]
     },
     "execution_count": 633,
     "metadata": {},
     "output_type": "execute_result"
    }
   ],
   "source": [
    "# Index 분리\n",
    "\n",
    "index_interpolate = []\n",
    "index_sarima = []\n",
    "\n",
    "i = 0\n",
    "while i < len(nan_index)-2:\n",
    "  if nan_index[i+2] == nan_index[i+1]+1 == nan_index[i]+2:\n",
    "    index_sarima.append(nan_index[i])\n",
    "    i += 1\n",
    "  elif nan_index[i+2] != nan_index[i+1]+1 and nan_index[i+1] == nan_index[i]+1:\n",
    "    index_sarima.extend([nan_index[i], nan_index[i+1]])\n",
    "    i += 2\n",
    "  else:\n",
    "    index_interpolate.append(nan_index[i])\n",
    "    i += 1\n",
    "\n",
    "index_interpolate.extend(nan_index[-1:])\n",
    "\n",
    "# if nan_index[-3]+1 != nan_index[-2]:\n",
    "#     index_interpolate.extend(nan_index[-2:])\n",
    "# else:\n",
    "#     index_interpolate.extend(nan_index[-1:])\n",
    "\n",
    "nan_index == sorted(index_interpolate+index_sarima)"
   ]
  },
  {
   "cell_type": "markdown",
   "id": "c417dc70",
   "metadata": {
    "id": "55pXgjIPTEJF"
   },
   "source": [
    "## 1. 비연속적 결측값 처리 by Interpolation"
   ]
  },
  {
   "cell_type": "code",
   "execution_count": 634,
   "id": "f7983a61",
   "metadata": {
    "colab": {
     "base_uri": "https://localhost:8080/"
    },
    "executionInfo": {
     "elapsed": 210,
     "status": "ok",
     "timestamp": 1660743839774,
     "user": {
      "displayName": "이예림(상경대학 응용통계학과)",
      "userId": "02944141114007762965"
     },
     "user_tz": -540
    },
    "id": "HhxuRyakk_qm",
    "outputId": "c6d69d1e-0682-48d3-c8f6-bcd80bbc32e5"
   },
   "outputs": [],
   "source": [
    "# Interpolation에 쓰일 인덱스 지정 (결측값 기준 앞, 뒤 + 자체)\n",
    "\n",
    "index_interpolate_ = sum([[i-1, i, i+1] for i in index_interpolate], [])"
   ]
  },
  {
   "cell_type": "code",
   "execution_count": 635,
   "id": "de74245c",
   "metadata": {
    "colab": {
     "base_uri": "https://localhost:8080/"
    },
    "executionInfo": {
     "elapsed": 184,
     "status": "ok",
     "timestamp": 1660743839775,
     "user": {
      "displayName": "이예림(상경대학 응용통계학과)",
      "userId": "02944141114007762965"
     },
     "user_tz": -540
    },
    "id": "sYfcdbzem2H2",
    "outputId": "d28d8051-90e8-4024-ba06-43b0cdb46c76"
   },
   "outputs": [
    {
     "data": {
      "text/plain": [
       "True"
      ]
     },
     "execution_count": 635,
     "metadata": {},
     "output_type": "execute_result"
    }
   ],
   "source": [
    "len(index_interpolate_) == len(set(index_interpolate)) * 3   # 겹치는 index 없는지 확인"
   ]
  },
  {
   "cell_type": "code",
   "execution_count": 636,
   "id": "946a9ef9",
   "metadata": {
    "colab": {
     "base_uri": "https://localhost:8080/",
     "height": 455
    },
    "executionInfo": {
     "elapsed": 99,
     "status": "ok",
     "timestamp": 1660743839776,
     "user": {
      "displayName": "이예림(상경대학 응용통계학과)",
      "userId": "02944141114007762965"
     },
     "user_tz": -540
    },
    "id": "pZAsVV_vbkl8",
    "outputId": "1723905b-154b-421b-ec39-30162831b99b"
   },
   "outputs": [
    {
     "data": {
      "text/html": [
       "<div>\n",
       "<style scoped>\n",
       "    .dataframe tbody tr th:only-of-type {\n",
       "        vertical-align: middle;\n",
       "    }\n",
       "\n",
       "    .dataframe tbody tr th {\n",
       "        vertical-align: top;\n",
       "    }\n",
       "\n",
       "    .dataframe thead th {\n",
       "        text-align: right;\n",
       "    }\n",
       "</style>\n",
       "<table border=\"1\" class=\"dataframe\">\n",
       "  <thead>\n",
       "    <tr style=\"text-align: right;\">\n",
       "      <th></th>\n",
       "      <th>한강대교_수위</th>\n",
       "    </tr>\n",
       "    <tr>\n",
       "      <th>날짜</th>\n",
       "      <th></th>\n",
       "    </tr>\n",
       "  </thead>\n",
       "  <tbody>\n",
       "    <tr>\n",
       "      <th>2020-10-15 10:30:00</th>\n",
       "      <td>312.0</td>\n",
       "    </tr>\n",
       "    <tr>\n",
       "      <th>2020-10-15 10:40:00</th>\n",
       "      <td>NaN</td>\n",
       "    </tr>\n",
       "    <tr>\n",
       "      <th>2020-10-15 10:50:00</th>\n",
       "      <td>308.0</td>\n",
       "    </tr>\n",
       "  </tbody>\n",
       "</table>\n",
       "</div>"
      ],
      "text/plain": [
       "                     한강대교_수위\n",
       "날짜                          \n",
       "2020-10-15 10:30:00    312.0\n",
       "2020-10-15 10:40:00      NaN\n",
       "2020-10-15 10:50:00    308.0"
      ]
     },
     "execution_count": 636,
     "metadata": {},
     "output_type": "execute_result"
    }
   ],
   "source": [
    "# 데이터프레임 분리\n",
    "\n",
    "한강_보간 = 한강.copy()\n",
    "한강_보간 = 한강_보간.set_index('날짜')\n",
    "한강_보간 = 한강_보간.iloc[index_interpolate_, :]\n",
    "한강_보간"
   ]
  },
  {
   "cell_type": "code",
   "execution_count": 637,
   "id": "4550a0c1",
   "metadata": {
    "colab": {
     "base_uri": "https://localhost:8080/",
     "height": 455
    },
    "executionInfo": {
     "elapsed": 97,
     "status": "ok",
     "timestamp": 1660743839777,
     "user": {
      "displayName": "이예림(상경대학 응용통계학과)",
      "userId": "02944141114007762965"
     },
     "user_tz": -540
    },
    "id": "Ern-vbzfne74",
    "outputId": "3b42110e-9ac7-4f06-9b92-8ea8b7a34476"
   },
   "outputs": [
    {
     "data": {
      "text/html": [
       "<div>\n",
       "<style scoped>\n",
       "    .dataframe tbody tr th:only-of-type {\n",
       "        vertical-align: middle;\n",
       "    }\n",
       "\n",
       "    .dataframe tbody tr th {\n",
       "        vertical-align: top;\n",
       "    }\n",
       "\n",
       "    .dataframe thead th {\n",
       "        text-align: right;\n",
       "    }\n",
       "</style>\n",
       "<table border=\"1\" class=\"dataframe\">\n",
       "  <thead>\n",
       "    <tr style=\"text-align: right;\">\n",
       "      <th></th>\n",
       "      <th>한강대교_수위</th>\n",
       "    </tr>\n",
       "    <tr>\n",
       "      <th>날짜</th>\n",
       "      <th></th>\n",
       "    </tr>\n",
       "  </thead>\n",
       "  <tbody>\n",
       "    <tr>\n",
       "      <th>2020-10-15 10:30:00</th>\n",
       "      <td>312.0</td>\n",
       "    </tr>\n",
       "    <tr>\n",
       "      <th>2020-10-15 10:40:00</th>\n",
       "      <td>310.0</td>\n",
       "    </tr>\n",
       "    <tr>\n",
       "      <th>2020-10-15 10:50:00</th>\n",
       "      <td>308.0</td>\n",
       "    </tr>\n",
       "  </tbody>\n",
       "</table>\n",
       "</div>"
      ],
      "text/plain": [
       "                     한강대교_수위\n",
       "날짜                          \n",
       "2020-10-15 10:30:00    312.0\n",
       "2020-10-15 10:40:00    310.0\n",
       "2020-10-15 10:50:00    308.0"
      ]
     },
     "execution_count": 637,
     "metadata": {},
     "output_type": "execute_result"
    }
   ],
   "source": [
    "# 보간\n",
    "\n",
    "한강_보간.interpolate(method='time', inplace=True)\n",
    "한강_보간   # 보간 결과 확인"
   ]
  },
  {
   "cell_type": "code",
   "execution_count": 638,
   "id": "1ae1c400",
   "metadata": {
    "colab": {
     "base_uri": "https://localhost:8080/"
    },
    "executionInfo": {
     "elapsed": 94,
     "status": "ok",
     "timestamp": 1660743839778,
     "user": {
      "displayName": "이예림(상경대학 응용통계학과)",
      "userId": "02944141114007762965"
     },
     "user_tz": -540
    },
    "id": "eeQuJ8GYfv4m",
    "outputId": "e6306177-a229-4704-90bc-46cbd35d38fe"
   },
   "outputs": [
    {
     "data": {
      "text/plain": [
       "한강대교_수위    0\n",
       "dtype: int64"
      ]
     },
     "execution_count": 638,
     "metadata": {},
     "output_type": "execute_result"
    }
   ],
   "source": [
    "한강_보간.isnull().sum()"
   ]
  },
  {
   "cell_type": "code",
   "execution_count": 639,
   "id": "03f4b3f0",
   "metadata": {
    "colab": {
     "base_uri": "https://localhost:8080/"
    },
    "executionInfo": {
     "elapsed": 71,
     "status": "ok",
     "timestamp": 1660743839779,
     "user": {
      "displayName": "이예림(상경대학 응용통계학과)",
      "userId": "02944141114007762965"
     },
     "user_tz": -540
    },
    "id": "Nb9VtE6YXsLz",
    "outputId": "e2685d76-bd81-4d7f-d4ee-c4d2b1ed1b4e"
   },
   "outputs": [
    {
     "data": {
      "text/plain": [
       "한강대교_수위    True\n",
       "dtype: bool"
      ]
     },
     "execution_count": 639,
     "metadata": {},
     "output_type": "execute_result"
    }
   ],
   "source": [
    "한강 = 한강.set_index('날짜')\n",
    "한강.loc[한강_보간.index] = 한강_보간\n",
    "한강.isnull().sum() == len(index_sarima)   # 남은 결측치 개수가 SARIMA로 채워야 할 결측치 개수(len(index_sarima))와 같은지 확인"
   ]
  },
  {
   "cell_type": "markdown",
   "id": "d1fead43",
   "metadata": {
    "id": "dK89voI3c8Q0"
   },
   "source": [
    "## 2. 연속적 결측값 처리 by SARIMA"
   ]
  },
  {
   "cell_type": "code",
   "execution_count": 640,
   "id": "3f0db31b",
   "metadata": {
    "colab": {
     "base_uri": "https://localhost:8080/",
     "height": 636
    },
    "executionInfo": {
     "elapsed": 21555,
     "status": "ok",
     "timestamp": 1660743861266,
     "user": {
      "displayName": "이예림(상경대학 응용통계학과)",
      "userId": "02944141114007762965"
     },
     "user_tz": -540
    },
    "id": "-uugY5hBTMTa",
    "outputId": "931c6453-6c54-4bce-c91a-90a599ab57d7"
   },
   "outputs": [],
   "source": [
    "#!pip install pmdarima"
   ]
  },
  {
   "cell_type": "code",
   "execution_count": 641,
   "id": "bf336509",
   "metadata": {
    "executionInfo": {
     "elapsed": 1552,
     "status": "ok",
     "timestamp": 1660743862779,
     "user": {
      "displayName": "이예림(상경대학 응용통계학과)",
      "userId": "02944141114007762965"
     },
     "user_tz": -540
    },
    "id": "BxiLQENsdZvT"
   },
   "outputs": [],
   "source": [
    "from statsmodels.tsa.statespace.sarimax import SARIMAX\n",
    "import pmdarima as pm"
   ]
  },
  {
   "cell_type": "code",
   "execution_count": 642,
   "id": "37369fdb",
   "metadata": {
    "colab": {
     "base_uri": "https://localhost:8080/"
    },
    "executionInfo": {
     "elapsed": 202,
     "status": "ok",
     "timestamp": 1660743862783,
     "user": {
      "displayName": "이예림(상경대학 응용통계학과)",
      "userId": "02944141114007762965"
     },
     "user_tz": -540
    },
    "id": "zSu62iX5Ta7f",
    "outputId": "ae70a0f4-a900-4c77-d110-f8018942180f"
   },
   "outputs": [
    {
     "data": {
      "text/plain": [
       "140613"
      ]
     },
     "execution_count": 642,
     "metadata": {},
     "output_type": "execute_result"
    }
   ],
   "source": [
    "index_sarima[0]"
   ]
  },
  {
   "cell_type": "code",
   "execution_count": 643,
   "id": "baa28dfd",
   "metadata": {
    "colab": {
     "base_uri": "https://localhost:8080/"
    },
    "executionInfo": {
     "elapsed": 283,
     "status": "ok",
     "timestamp": 1660743862881,
     "user": {
      "displayName": "이예림(상경대학 응용통계학과)",
      "userId": "02944141114007762965"
     },
     "user_tz": -540
    },
    "id": "8bN42uONUfY9",
    "outputId": "9ba9b11d-90d1-4d51-dbff-057d740b6556"
   },
   "outputs": [
    {
     "name": "stdout",
     "output_type": "stream",
     "text": [
      "[[140613, 140614, 140615, 140616, 140617, 140618, 140619, 140620, 140621, 140622, 140623, 140624, 140625, 140626, 140627, 140628, 140629, 140630, 140631, 140632, 140633, 140634, 140635, 140636, 140637, 140638, 140639, 140640, 140641, 140642, 140643, 140644, 140645, 140646, 140647, 140648, 140649, 140650, 140651, 140652, 140653, 140654, 140655, 140656, 140657, 140658, 140659, 140660, 140661, 140662, 140663, 140664, 140665, 140666, 140667, 140668, 140669, 140670]]\n"
     ]
    }
   ],
   "source": [
    "# 연속된 구간별로 분리\n",
    "\n",
    "i = 0\n",
    "temp = []\n",
    "total = []\n",
    "\n",
    "while i>=0:\n",
    "  try:\n",
    "    if index_sarima[i+2]==index_sarima[i+1]+1==index_sarima[i]+2:\n",
    "      temp.append(index_sarima[i])\n",
    "      i += 1\n",
    "    elif index_sarima[i+2]!=index_sarima[i+1]+1==index_sarima[i]+2:\n",
    "      temp.extend([index_sarima[i], index_sarima[i+1]])\n",
    "      #print(temp)\n",
    "      total.append(temp)\n",
    "      temp = []\n",
    "      i += 2\n",
    "  except:\n",
    "    break\n",
    "\n",
    "# 예외 처리\n",
    "#temp = index_sarima[-2:]\n",
    "#print(temp)\n",
    "total.append(temp)\n",
    "total[len(total)-1].append(index_sarima[-2:][0])\n",
    "total[len(total)-1].append(index_sarima[-2:][1])\n",
    "print(total)"
   ]
  },
  {
   "cell_type": "code",
   "execution_count": 644,
   "id": "f648102b",
   "metadata": {
    "colab": {
     "base_uri": "https://localhost:8080/"
    },
    "executionInfo": {
     "elapsed": 292,
     "status": "ok",
     "timestamp": 1660743862962,
     "user": {
      "displayName": "이예림(상경대학 응용통계학과)",
      "userId": "02944141114007762965"
     },
     "user_tz": -540
    },
    "id": "r6E66IVMXyg3",
    "outputId": "d28cd1a6-573d-4b29-8979-8c2d879095e2",
    "scrolled": true
   },
   "outputs": [
    {
     "data": {
      "text/plain": [
       "True"
      ]
     },
     "execution_count": 644,
     "metadata": {},
     "output_type": "execute_result"
    }
   ],
   "source": [
    "sum(total, []) == index_sarima   # 분리가 잘 이루어졌는지 확인"
   ]
  },
  {
   "cell_type": "code",
   "execution_count": 645,
   "id": "6820e8ba",
   "metadata": {},
   "outputs": [
    {
     "data": {
      "text/plain": [
       "1"
      ]
     },
     "execution_count": 645,
     "metadata": {},
     "output_type": "execute_result"
    }
   ],
   "source": [
    "len(total) #결측치 처리해야 하는 구간의 수"
   ]
  },
  {
   "cell_type": "code",
   "execution_count": 777,
   "id": "4abc215c",
   "metadata": {
    "colab": {
     "base_uri": "https://localhost:8080/"
    },
    "executionInfo": {
     "elapsed": 6204453,
     "status": "ok",
     "timestamp": 1660750114017,
     "user": {
      "displayName": "이예림(상경대학 응용통계학과)",
      "userId": "02944141114007762965"
     },
     "user_tz": -540
    },
    "id": "_HQ9SccJYZif",
    "outputId": "075320ea-d158-4e10-9cdc-e83f87732872",
    "scrolled": true
   },
   "outputs": [],
   "source": [
    "# 전체 다 1일, 즉 직전 144개의 row를 반영하여 결측치 처리\n",
    "\n",
    "for range in total:\n",
    "  start = range[0]\n",
    "  model = pm.auto_arima(한강[start-72:start], seasonal=True)\n",
    "  한강.iloc[range, 0] = model.predict(len(range))\n",
    "  #print(f'{total.index(range)+1}번째 구간 결측치 처리 완료')"
   ]
  },
  {
   "cell_type": "code",
   "execution_count": 778,
   "id": "3c3377db",
   "metadata": {
    "colab": {
     "base_uri": "https://localhost:8080/"
    },
    "executionInfo": {
     "elapsed": 84,
     "status": "ok",
     "timestamp": 1660750114020,
     "user": {
      "displayName": "이예림(상경대학 응용통계학과)",
      "userId": "02944141114007762965"
     },
     "user_tz": -540
    },
    "id": "fLkpB1I5bSZu",
    "outputId": "39baa2da-b52e-485c-9c47-103c9755c247"
   },
   "outputs": [
    {
     "data": {
      "text/plain": [
       "한강대교_수위    0\n",
       "dtype: int64"
      ]
     },
     "execution_count": 778,
     "metadata": {},
     "output_type": "execute_result"
    }
   ],
   "source": [
    "# 결측치가 모두 처리되었는지 확인\n",
    "\n",
    "한강.isnull().sum()"
   ]
  },
  {
   "cell_type": "code",
   "execution_count": 779,
   "id": "42c955b1",
   "metadata": {
    "colab": {
     "base_uri": "https://localhost:8080/",
     "height": 265
    },
    "executionInfo": {
     "elapsed": 964,
     "status": "ok",
     "timestamp": 1660750930556,
     "user": {
      "displayName": "이예림(상경대학 응용통계학과)",
      "userId": "02944141114007762965"
     },
     "user_tz": -540
    },
    "id": "LrPrN4VIbX4u",
    "outputId": "b288020c-e222-4519-ec78-8461c318fde4"
   },
   "outputs": [
    {
     "data": {
      "image/png": "[encoded data removed]",
      "text/plain": [
       "<Figure size 432x288 with 1 Axes>"
      ]
     },
     "metadata": {
      "needs_background": "light"
     },
     "output_type": "display_data"
    }
   ],
   "source": [
    "# 결측치 처리 형태 확인 (인덱스 번째 구간)\n",
    "\n",
    "plt.plot(total[0], 한강.iloc[total[0], 0])\n",
    "plt.show()"
   ]
  },
  {
   "cell_type": "code",
   "execution_count": 780,
   "id": "72586158",
   "metadata": {},
   "outputs": [
    {
     "data": {
      "text/plain": [
       "[<matplotlib.lines.Line2D at 0x1e44dd07d90>]"
      ]
     },
     "execution_count": 780,
     "metadata": {},
     "output_type": "execute_result"
    },
    {
     "data": {
      "image/png": "[encoded data removed]",
      "text/plain": [
       "<Figure size 432x288 with 1 Axes>"
      ]
     },
     "metadata": {
      "needs_background": "light"
     },
     "output_type": "display_data"
    }
   ],
   "source": [
    "plt.plot(한강[140300:141000])"
   ]
  },
  {
   "cell_type": "code",
   "execution_count": null,
   "id": "93f28023",
   "metadata": {},
   "outputs": [],
   "source": []
  },
  {
   "cell_type": "markdown",
   "id": "f2080898",
   "metadata": {
    "id": "mK0eaXyuTuhT"
   },
   "source": [
    "# 행주대교 수위 결측치 처리"
   ]
  },
  {
   "cell_type": "code",
   "execution_count": 781,
   "id": "7574d984",
   "metadata": {
    "colab": {
     "base_uri": "https://localhost:8080/",
     "height": 424
    },
    "executionInfo": {
     "elapsed": 432,
     "status": "ok",
     "timestamp": 1660743839242,
     "user": {
      "displayName": "이예림(상경대학 응용통계학과)",
      "userId": "02944141114007762965"
     },
     "user_tz": -540
    },
    "id": "Mdz_YyjTTcH1",
    "outputId": "5c77d4d1-09af-467a-ad8f-cd70df07dbb2"
   },
   "outputs": [],
   "source": [
    "행주 = data[['날짜', '행주대교_수위']]"
   ]
  },
  {
   "cell_type": "code",
   "execution_count": 782,
   "id": "4af41dae",
   "metadata": {
    "colab": {
     "base_uri": "https://localhost:8080/",
     "height": 532
    },
    "executionInfo": {
     "elapsed": 438,
     "status": "ok",
     "timestamp": 1660743839252,
     "user": {
      "displayName": "이예림(상경대학 응용통계학과)",
      "userId": "02944141114007762965"
     },
     "user_tz": -540
    },
    "id": "NOkjGH6yVaXY",
    "outputId": "682e1c1e-adc1-4115-c609-21eb3561ea88"
   },
   "outputs": [
    {
     "name": "stderr",
     "output_type": "stream",
     "text": [
      "C:\\Users\\sjkan\\AppData\\Local\\Temp\\ipykernel_11972\\232517616.py:1: SettingWithCopyWarning: \n",
      "A value is trying to be set on a copy of a slice from a DataFrame.\n",
      "Try using .loc[row_indexer,col_indexer] = value instead\n",
      "\n",
      "See the caveats in the documentation: https://pandas.pydata.org/pandas-docs/stable/user_guide/indexing.html#returning-a-view-versus-a-copy\n",
      "  행주.날짜 = pd.to_datetime(행주.날짜)\n"
     ]
    },
    {
     "data": {
      "text/html": [
       "<div>\n",
       "<style scoped>\n",
       "    .dataframe tbody tr th:only-of-type {\n",
       "        vertical-align: middle;\n",
       "    }\n",
       "\n",
       "    .dataframe tbody tr th {\n",
       "        vertical-align: top;\n",
       "    }\n",
       "\n",
       "    .dataframe thead th {\n",
       "        text-align: right;\n",
       "    }\n",
       "</style>\n",
       "<table border=\"1\" class=\"dataframe\">\n",
       "  <thead>\n",
       "    <tr style=\"text-align: right;\">\n",
       "      <th></th>\n",
       "      <th>날짜</th>\n",
       "      <th>행주대교_수위</th>\n",
       "    </tr>\n",
       "  </thead>\n",
       "  <tbody>\n",
       "    <tr>\n",
       "      <th>0</th>\n",
       "      <td>2012-05-01 00:00:00</td>\n",
       "      <td>275.3</td>\n",
       "    </tr>\n",
       "    <tr>\n",
       "      <th>1</th>\n",
       "      <td>2012-05-01 00:10:00</td>\n",
       "      <td>275.3</td>\n",
       "    </tr>\n",
       "    <tr>\n",
       "      <th>2</th>\n",
       "      <td>2012-05-01 00:20:00</td>\n",
       "      <td>275.3</td>\n",
       "    </tr>\n",
       "    <tr>\n",
       "      <th>3</th>\n",
       "      <td>2012-05-01 00:30:00</td>\n",
       "      <td>276.3</td>\n",
       "    </tr>\n",
       "    <tr>\n",
       "      <th>4</th>\n",
       "      <td>2012-05-01 00:40:00</td>\n",
       "      <td>277.3</td>\n",
       "    </tr>\n",
       "    <tr>\n",
       "      <th>...</th>\n",
       "      <td>...</td>\n",
       "      <td>...</td>\n",
       "    </tr>\n",
       "    <tr>\n",
       "      <th>276331</th>\n",
       "      <td>2022-07-18 23:10:00</td>\n",
       "      <td>0.0</td>\n",
       "    </tr>\n",
       "    <tr>\n",
       "      <th>276332</th>\n",
       "      <td>2022-07-18 23:20:00</td>\n",
       "      <td>0.0</td>\n",
       "    </tr>\n",
       "    <tr>\n",
       "      <th>276333</th>\n",
       "      <td>2022-07-18 23:30:00</td>\n",
       "      <td>0.0</td>\n",
       "    </tr>\n",
       "    <tr>\n",
       "      <th>276334</th>\n",
       "      <td>2022-07-18 23:40:00</td>\n",
       "      <td>0.0</td>\n",
       "    </tr>\n",
       "    <tr>\n",
       "      <th>276335</th>\n",
       "      <td>2022-07-18 23:50:00</td>\n",
       "      <td>0.0</td>\n",
       "    </tr>\n",
       "  </tbody>\n",
       "</table>\n",
       "<p>276336 rows × 2 columns</p>\n",
       "</div>"
      ],
      "text/plain": [
       "                        날짜  행주대교_수위\n",
       "0      2012-05-01 00:00:00    275.3\n",
       "1      2012-05-01 00:10:00    275.3\n",
       "2      2012-05-01 00:20:00    275.3\n",
       "3      2012-05-01 00:30:00    276.3\n",
       "4      2012-05-01 00:40:00    277.3\n",
       "...                    ...      ...\n",
       "276331 2022-07-18 23:10:00      0.0\n",
       "276332 2022-07-18 23:20:00      0.0\n",
       "276333 2022-07-18 23:30:00      0.0\n",
       "276334 2022-07-18 23:40:00      0.0\n",
       "276335 2022-07-18 23:50:00      0.0\n",
       "\n",
       "[276336 rows x 2 columns]"
      ]
     },
     "execution_count": 782,
     "metadata": {},
     "output_type": "execute_result"
    }
   ],
   "source": [
    "행주.날짜 = pd.to_datetime(행주.날짜)\n",
    "행주"
   ]
  },
  {
   "cell_type": "code",
   "execution_count": 783,
   "id": "78acc3ba",
   "metadata": {
    "colab": {
     "base_uri": "https://localhost:8080/",
     "height": 424
    },
    "executionInfo": {
     "elapsed": 429,
     "status": "ok",
     "timestamp": 1660743839255,
     "user": {
      "displayName": "이예림(상경대학 응용통계학과)",
      "userId": "02944141114007762965"
     },
     "user_tz": -540
    },
    "id": "e4Q6xLdsTx3j",
    "outputId": "340420de-0607-4652-aac1-4417d179c65e",
    "scrolled": true
   },
   "outputs": [
    {
     "data": {
      "text/html": [
       "<div>\n",
       "<style scoped>\n",
       "    .dataframe tbody tr th:only-of-type {\n",
       "        vertical-align: middle;\n",
       "    }\n",
       "\n",
       "    .dataframe tbody tr th {\n",
       "        vertical-align: top;\n",
       "    }\n",
       "\n",
       "    .dataframe thead th {\n",
       "        text-align: right;\n",
       "    }\n",
       "</style>\n",
       "<table border=\"1\" class=\"dataframe\">\n",
       "  <thead>\n",
       "    <tr style=\"text-align: right;\">\n",
       "      <th></th>\n",
       "      <th>날짜</th>\n",
       "      <th>행주대교_수위</th>\n",
       "    </tr>\n",
       "  </thead>\n",
       "  <tbody>\n",
       "    <tr>\n",
       "      <th>140613</th>\n",
       "      <td>2017-06-26 11:30:00</td>\n",
       "      <td>NaN</td>\n",
       "    </tr>\n",
       "    <tr>\n",
       "      <th>140614</th>\n",
       "      <td>2017-06-26 11:40:00</td>\n",
       "      <td>NaN</td>\n",
       "    </tr>\n",
       "    <tr>\n",
       "      <th>140615</th>\n",
       "      <td>2017-06-26 11:50:00</td>\n",
       "      <td>NaN</td>\n",
       "    </tr>\n",
       "    <tr>\n",
       "      <th>140616</th>\n",
       "      <td>2017-06-26 12:00:00</td>\n",
       "      <td>NaN</td>\n",
       "    </tr>\n",
       "    <tr>\n",
       "      <th>140617</th>\n",
       "      <td>2017-06-26 12:10:00</td>\n",
       "      <td>NaN</td>\n",
       "    </tr>\n",
       "    <tr>\n",
       "      <th>140618</th>\n",
       "      <td>2017-06-26 12:20:00</td>\n",
       "      <td>NaN</td>\n",
       "    </tr>\n",
       "    <tr>\n",
       "      <th>140619</th>\n",
       "      <td>2017-06-26 12:30:00</td>\n",
       "      <td>NaN</td>\n",
       "    </tr>\n",
       "    <tr>\n",
       "      <th>140620</th>\n",
       "      <td>2017-06-26 12:40:00</td>\n",
       "      <td>NaN</td>\n",
       "    </tr>\n",
       "    <tr>\n",
       "      <th>140621</th>\n",
       "      <td>2017-06-26 12:50:00</td>\n",
       "      <td>NaN</td>\n",
       "    </tr>\n",
       "    <tr>\n",
       "      <th>140622</th>\n",
       "      <td>2017-06-26 13:00:00</td>\n",
       "      <td>NaN</td>\n",
       "    </tr>\n",
       "    <tr>\n",
       "      <th>140623</th>\n",
       "      <td>2017-06-26 13:10:00</td>\n",
       "      <td>NaN</td>\n",
       "    </tr>\n",
       "    <tr>\n",
       "      <th>140624</th>\n",
       "      <td>2017-06-26 13:20:00</td>\n",
       "      <td>NaN</td>\n",
       "    </tr>\n",
       "    <tr>\n",
       "      <th>140625</th>\n",
       "      <td>2017-06-26 13:30:00</td>\n",
       "      <td>NaN</td>\n",
       "    </tr>\n",
       "    <tr>\n",
       "      <th>140626</th>\n",
       "      <td>2017-06-26 13:40:00</td>\n",
       "      <td>NaN</td>\n",
       "    </tr>\n",
       "    <tr>\n",
       "      <th>140627</th>\n",
       "      <td>2017-06-26 13:50:00</td>\n",
       "      <td>NaN</td>\n",
       "    </tr>\n",
       "    <tr>\n",
       "      <th>140628</th>\n",
       "      <td>2017-06-26 14:00:00</td>\n",
       "      <td>NaN</td>\n",
       "    </tr>\n",
       "    <tr>\n",
       "      <th>140629</th>\n",
       "      <td>2017-06-26 14:10:00</td>\n",
       "      <td>NaN</td>\n",
       "    </tr>\n",
       "    <tr>\n",
       "      <th>140630</th>\n",
       "      <td>2017-06-26 14:20:00</td>\n",
       "      <td>NaN</td>\n",
       "    </tr>\n",
       "    <tr>\n",
       "      <th>140631</th>\n",
       "      <td>2017-06-26 14:30:00</td>\n",
       "      <td>NaN</td>\n",
       "    </tr>\n",
       "    <tr>\n",
       "      <th>140632</th>\n",
       "      <td>2017-06-26 14:40:00</td>\n",
       "      <td>NaN</td>\n",
       "    </tr>\n",
       "    <tr>\n",
       "      <th>140633</th>\n",
       "      <td>2017-06-26 14:50:00</td>\n",
       "      <td>NaN</td>\n",
       "    </tr>\n",
       "    <tr>\n",
       "      <th>140634</th>\n",
       "      <td>2017-06-26 15:00:00</td>\n",
       "      <td>NaN</td>\n",
       "    </tr>\n",
       "    <tr>\n",
       "      <th>140635</th>\n",
       "      <td>2017-06-26 15:10:00</td>\n",
       "      <td>NaN</td>\n",
       "    </tr>\n",
       "    <tr>\n",
       "      <th>140636</th>\n",
       "      <td>2017-06-26 15:20:00</td>\n",
       "      <td>NaN</td>\n",
       "    </tr>\n",
       "    <tr>\n",
       "      <th>140637</th>\n",
       "      <td>2017-06-26 15:30:00</td>\n",
       "      <td>NaN</td>\n",
       "    </tr>\n",
       "    <tr>\n",
       "      <th>140638</th>\n",
       "      <td>2017-06-26 15:40:00</td>\n",
       "      <td>NaN</td>\n",
       "    </tr>\n",
       "    <tr>\n",
       "      <th>140639</th>\n",
       "      <td>2017-06-26 15:50:00</td>\n",
       "      <td>NaN</td>\n",
       "    </tr>\n",
       "    <tr>\n",
       "      <th>140640</th>\n",
       "      <td>2017-06-26 16:00:00</td>\n",
       "      <td>NaN</td>\n",
       "    </tr>\n",
       "    <tr>\n",
       "      <th>140641</th>\n",
       "      <td>2017-06-26 16:10:00</td>\n",
       "      <td>NaN</td>\n",
       "    </tr>\n",
       "    <tr>\n",
       "      <th>140642</th>\n",
       "      <td>2017-06-26 16:20:00</td>\n",
       "      <td>NaN</td>\n",
       "    </tr>\n",
       "    <tr>\n",
       "      <th>140643</th>\n",
       "      <td>2017-06-26 16:30:00</td>\n",
       "      <td>NaN</td>\n",
       "    </tr>\n",
       "    <tr>\n",
       "      <th>140644</th>\n",
       "      <td>2017-06-26 16:40:00</td>\n",
       "      <td>NaN</td>\n",
       "    </tr>\n",
       "    <tr>\n",
       "      <th>140645</th>\n",
       "      <td>2017-06-26 16:50:00</td>\n",
       "      <td>NaN</td>\n",
       "    </tr>\n",
       "    <tr>\n",
       "      <th>140646</th>\n",
       "      <td>2017-06-26 17:00:00</td>\n",
       "      <td>NaN</td>\n",
       "    </tr>\n",
       "    <tr>\n",
       "      <th>140647</th>\n",
       "      <td>2017-06-26 17:10:00</td>\n",
       "      <td>NaN</td>\n",
       "    </tr>\n",
       "    <tr>\n",
       "      <th>140648</th>\n",
       "      <td>2017-06-26 17:20:00</td>\n",
       "      <td>NaN</td>\n",
       "    </tr>\n",
       "    <tr>\n",
       "      <th>140649</th>\n",
       "      <td>2017-06-26 17:30:00</td>\n",
       "      <td>NaN</td>\n",
       "    </tr>\n",
       "    <tr>\n",
       "      <th>140650</th>\n",
       "      <td>2017-06-26 17:40:00</td>\n",
       "      <td>NaN</td>\n",
       "    </tr>\n",
       "    <tr>\n",
       "      <th>140651</th>\n",
       "      <td>2017-06-26 17:50:00</td>\n",
       "      <td>NaN</td>\n",
       "    </tr>\n",
       "    <tr>\n",
       "      <th>140652</th>\n",
       "      <td>2017-06-26 18:00:00</td>\n",
       "      <td>NaN</td>\n",
       "    </tr>\n",
       "    <tr>\n",
       "      <th>140653</th>\n",
       "      <td>2017-06-26 18:10:00</td>\n",
       "      <td>NaN</td>\n",
       "    </tr>\n",
       "    <tr>\n",
       "      <th>140654</th>\n",
       "      <td>2017-06-26 18:20:00</td>\n",
       "      <td>NaN</td>\n",
       "    </tr>\n",
       "    <tr>\n",
       "      <th>140655</th>\n",
       "      <td>2017-06-26 18:30:00</td>\n",
       "      <td>NaN</td>\n",
       "    </tr>\n",
       "    <tr>\n",
       "      <th>140656</th>\n",
       "      <td>2017-06-26 18:40:00</td>\n",
       "      <td>NaN</td>\n",
       "    </tr>\n",
       "    <tr>\n",
       "      <th>140657</th>\n",
       "      <td>2017-06-26 18:50:00</td>\n",
       "      <td>NaN</td>\n",
       "    </tr>\n",
       "    <tr>\n",
       "      <th>140658</th>\n",
       "      <td>2017-06-26 19:00:00</td>\n",
       "      <td>NaN</td>\n",
       "    </tr>\n",
       "    <tr>\n",
       "      <th>140659</th>\n",
       "      <td>2017-06-26 19:10:00</td>\n",
       "      <td>NaN</td>\n",
       "    </tr>\n",
       "    <tr>\n",
       "      <th>140660</th>\n",
       "      <td>2017-06-26 19:20:00</td>\n",
       "      <td>NaN</td>\n",
       "    </tr>\n",
       "    <tr>\n",
       "      <th>140661</th>\n",
       "      <td>2017-06-26 19:30:00</td>\n",
       "      <td>NaN</td>\n",
       "    </tr>\n",
       "    <tr>\n",
       "      <th>140662</th>\n",
       "      <td>2017-06-26 19:40:00</td>\n",
       "      <td>NaN</td>\n",
       "    </tr>\n",
       "    <tr>\n",
       "      <th>140663</th>\n",
       "      <td>2017-06-26 19:50:00</td>\n",
       "      <td>NaN</td>\n",
       "    </tr>\n",
       "    <tr>\n",
       "      <th>140664</th>\n",
       "      <td>2017-06-26 20:00:00</td>\n",
       "      <td>NaN</td>\n",
       "    </tr>\n",
       "    <tr>\n",
       "      <th>140665</th>\n",
       "      <td>2017-06-26 20:10:00</td>\n",
       "      <td>NaN</td>\n",
       "    </tr>\n",
       "    <tr>\n",
       "      <th>140666</th>\n",
       "      <td>2017-06-26 20:20:00</td>\n",
       "      <td>NaN</td>\n",
       "    </tr>\n",
       "    <tr>\n",
       "      <th>140667</th>\n",
       "      <td>2017-06-26 20:30:00</td>\n",
       "      <td>NaN</td>\n",
       "    </tr>\n",
       "    <tr>\n",
       "      <th>140668</th>\n",
       "      <td>2017-06-26 20:40:00</td>\n",
       "      <td>NaN</td>\n",
       "    </tr>\n",
       "    <tr>\n",
       "      <th>140669</th>\n",
       "      <td>2017-06-26 20:50:00</td>\n",
       "      <td>NaN</td>\n",
       "    </tr>\n",
       "    <tr>\n",
       "      <th>140670</th>\n",
       "      <td>2017-06-26 21:00:00</td>\n",
       "      <td>NaN</td>\n",
       "    </tr>\n",
       "    <tr>\n",
       "      <th>236080</th>\n",
       "      <td>2020-10-15 10:40:00</td>\n",
       "      <td>NaN</td>\n",
       "    </tr>\n",
       "  </tbody>\n",
       "</table>\n",
       "</div>"
      ],
      "text/plain": [
       "                        날짜  행주대교_수위\n",
       "140613 2017-06-26 11:30:00      NaN\n",
       "140614 2017-06-26 11:40:00      NaN\n",
       "140615 2017-06-26 11:50:00      NaN\n",
       "140616 2017-06-26 12:00:00      NaN\n",
       "140617 2017-06-26 12:10:00      NaN\n",
       "140618 2017-06-26 12:20:00      NaN\n",
       "140619 2017-06-26 12:30:00      NaN\n",
       "140620 2017-06-26 12:40:00      NaN\n",
       "140621 2017-06-26 12:50:00      NaN\n",
       "140622 2017-06-26 13:00:00      NaN\n",
       "140623 2017-06-26 13:10:00      NaN\n",
       "140624 2017-06-26 13:20:00      NaN\n",
       "140625 2017-06-26 13:30:00      NaN\n",
       "140626 2017-06-26 13:40:00      NaN\n",
       "140627 2017-06-26 13:50:00      NaN\n",
       "140628 2017-06-26 14:00:00      NaN\n",
       "140629 2017-06-26 14:10:00      NaN\n",
       "140630 2017-06-26 14:20:00      NaN\n",
       "140631 2017-06-26 14:30:00      NaN\n",
       "140632 2017-06-26 14:40:00      NaN\n",
       "140633 2017-06-26 14:50:00      NaN\n",
       "140634 2017-06-26 15:00:00      NaN\n",
       "140635 2017-06-26 15:10:00      NaN\n",
       "140636 2017-06-26 15:20:00      NaN\n",
       "140637 2017-06-26 15:30:00      NaN\n",
       "140638 2017-06-26 15:40:00      NaN\n",
       "140639 2017-06-26 15:50:00      NaN\n",
       "140640 2017-06-26 16:00:00      NaN\n",
       "140641 2017-06-26 16:10:00      NaN\n",
       "140642 2017-06-26 16:20:00      NaN\n",
       "140643 2017-06-26 16:30:00      NaN\n",
       "140644 2017-06-26 16:40:00      NaN\n",
       "140645 2017-06-26 16:50:00      NaN\n",
       "140646 2017-06-26 17:00:00      NaN\n",
       "140647 2017-06-26 17:10:00      NaN\n",
       "140648 2017-06-26 17:20:00      NaN\n",
       "140649 2017-06-26 17:30:00      NaN\n",
       "140650 2017-06-26 17:40:00      NaN\n",
       "140651 2017-06-26 17:50:00      NaN\n",
       "140652 2017-06-26 18:00:00      NaN\n",
       "140653 2017-06-26 18:10:00      NaN\n",
       "140654 2017-06-26 18:20:00      NaN\n",
       "140655 2017-06-26 18:30:00      NaN\n",
       "140656 2017-06-26 18:40:00      NaN\n",
       "140657 2017-06-26 18:50:00      NaN\n",
       "140658 2017-06-26 19:00:00      NaN\n",
       "140659 2017-06-26 19:10:00      NaN\n",
       "140660 2017-06-26 19:20:00      NaN\n",
       "140661 2017-06-26 19:30:00      NaN\n",
       "140662 2017-06-26 19:40:00      NaN\n",
       "140663 2017-06-26 19:50:00      NaN\n",
       "140664 2017-06-26 20:00:00      NaN\n",
       "140665 2017-06-26 20:10:00      NaN\n",
       "140666 2017-06-26 20:20:00      NaN\n",
       "140667 2017-06-26 20:30:00      NaN\n",
       "140668 2017-06-26 20:40:00      NaN\n",
       "140669 2017-06-26 20:50:00      NaN\n",
       "140670 2017-06-26 21:00:00      NaN\n",
       "236080 2020-10-15 10:40:00      NaN"
      ]
     },
     "execution_count": 783,
     "metadata": {},
     "output_type": "execute_result"
    }
   ],
   "source": [
    "행주[행주['행주대교_수위'].isnull()]   # 16380개의 결측치 : 순서대로 채우기"
   ]
  },
  {
   "cell_type": "code",
   "execution_count": 784,
   "id": "f99c27ac",
   "metadata": {
    "colab": {
     "base_uri": "https://localhost:8080/"
    },
    "executionInfo": {
     "elapsed": 427,
     "status": "ok",
     "timestamp": 1660743839256,
     "user": {
      "displayName": "이예림(상경대학 응용통계학과)",
      "userId": "02944141114007762965"
     },
     "user_tz": -540
    },
    "id": "RrthJw76c4B6",
    "outputId": "10fb03a5-e4db-469a-ccd9-80f777cdb60e"
   },
   "outputs": [],
   "source": [
    "nan_index = list(행주[행주['행주대교_수위'].isnull()].index)"
   ]
  },
  {
   "cell_type": "code",
   "execution_count": 785,
   "id": "0e50af54",
   "metadata": {
    "colab": {
     "base_uri": "https://localhost:8080/"
    },
    "executionInfo": {
     "elapsed": 933,
     "status": "ok",
     "timestamp": 1660743839772,
     "user": {
      "displayName": "이예림(상경대학 응용통계학과)",
      "userId": "02944141114007762965"
     },
     "user_tz": -540
    },
    "id": "ubfxLxNcX-Nz",
    "outputId": "0680fa41-41e1-4ec1-90ef-81bd0fe72ea8"
   },
   "outputs": [
    {
     "data": {
      "text/plain": [
       "True"
      ]
     },
     "execution_count": 785,
     "metadata": {},
     "output_type": "execute_result"
    }
   ],
   "source": [
    "# Index 분리\n",
    "\n",
    "index_interpolate = []\n",
    "index_sarima = []\n",
    "\n",
    "i = 0\n",
    "while i < len(nan_index)-2:\n",
    "  if nan_index[i+2] == nan_index[i+1]+1 == nan_index[i]+2:\n",
    "    index_sarima.append(nan_index[i])\n",
    "    i += 1\n",
    "  elif nan_index[i+2] != nan_index[i+1]+1 and nan_index[i+1] == nan_index[i]+1:\n",
    "    index_sarima.extend([nan_index[i], nan_index[i+1]])\n",
    "    i += 2\n",
    "  else:\n",
    "    index_interpolate.append(nan_index[i])\n",
    "    i += 1\n",
    "\n",
    "index_interpolate.extend(nan_index[-1:])\n",
    "\n",
    "# if nan_index[-3]+1 != nan_index[-2]:\n",
    "#     index_interpolate.extend(nan_index[-2:])\n",
    "# else:\n",
    "#     index_interpolate.extend(nan_index[-1:])\n",
    "\n",
    "nan_index == sorted(index_interpolate+index_sarima)"
   ]
  },
  {
   "cell_type": "markdown",
   "id": "b8191478",
   "metadata": {
    "id": "55pXgjIPTEJF"
   },
   "source": [
    "## 1. 비연속적 결측값 처리 by Interpolation"
   ]
  },
  {
   "cell_type": "code",
   "execution_count": 786,
   "id": "e1e4f849",
   "metadata": {
    "colab": {
     "base_uri": "https://localhost:8080/"
    },
    "executionInfo": {
     "elapsed": 210,
     "status": "ok",
     "timestamp": 1660743839774,
     "user": {
      "displayName": "이예림(상경대학 응용통계학과)",
      "userId": "02944141114007762965"
     },
     "user_tz": -540
    },
    "id": "HhxuRyakk_qm",
    "outputId": "c6d69d1e-0682-48d3-c8f6-bcd80bbc32e5"
   },
   "outputs": [],
   "source": [
    "# Interpolation에 쓰일 인덱스 지정 (결측값 기준 앞, 뒤 + 자체)\n",
    "\n",
    "index_interpolate_ = sum([[i-1, i, i+1] for i in index_interpolate], [])"
   ]
  },
  {
   "cell_type": "code",
   "execution_count": 787,
   "id": "b083675c",
   "metadata": {
    "colab": {
     "base_uri": "https://localhost:8080/"
    },
    "executionInfo": {
     "elapsed": 184,
     "status": "ok",
     "timestamp": 1660743839775,
     "user": {
      "displayName": "이예림(상경대학 응용통계학과)",
      "userId": "02944141114007762965"
     },
     "user_tz": -540
    },
    "id": "sYfcdbzem2H2",
    "outputId": "d28d8051-90e8-4024-ba06-43b0cdb46c76"
   },
   "outputs": [
    {
     "data": {
      "text/plain": [
       "True"
      ]
     },
     "execution_count": 787,
     "metadata": {},
     "output_type": "execute_result"
    }
   ],
   "source": [
    "len(index_interpolate_) == len(set(index_interpolate)) * 3   # 겹치는 index 없는지 확인"
   ]
  },
  {
   "cell_type": "code",
   "execution_count": 788,
   "id": "56e8bd0c",
   "metadata": {
    "colab": {
     "base_uri": "https://localhost:8080/",
     "height": 455
    },
    "executionInfo": {
     "elapsed": 99,
     "status": "ok",
     "timestamp": 1660743839776,
     "user": {
      "displayName": "이예림(상경대학 응용통계학과)",
      "userId": "02944141114007762965"
     },
     "user_tz": -540
    },
    "id": "pZAsVV_vbkl8",
    "outputId": "1723905b-154b-421b-ec39-30162831b99b"
   },
   "outputs": [
    {
     "data": {
      "text/html": [
       "<div>\n",
       "<style scoped>\n",
       "    .dataframe tbody tr th:only-of-type {\n",
       "        vertical-align: middle;\n",
       "    }\n",
       "\n",
       "    .dataframe tbody tr th {\n",
       "        vertical-align: top;\n",
       "    }\n",
       "\n",
       "    .dataframe thead th {\n",
       "        text-align: right;\n",
       "    }\n",
       "</style>\n",
       "<table border=\"1\" class=\"dataframe\">\n",
       "  <thead>\n",
       "    <tr style=\"text-align: right;\">\n",
       "      <th></th>\n",
       "      <th>행주대교_수위</th>\n",
       "    </tr>\n",
       "    <tr>\n",
       "      <th>날짜</th>\n",
       "      <th></th>\n",
       "    </tr>\n",
       "  </thead>\n",
       "  <tbody>\n",
       "    <tr>\n",
       "      <th>2020-10-15 10:30:00</th>\n",
       "      <td>292.3</td>\n",
       "    </tr>\n",
       "    <tr>\n",
       "      <th>2020-10-15 10:40:00</th>\n",
       "      <td>NaN</td>\n",
       "    </tr>\n",
       "    <tr>\n",
       "      <th>2020-10-15 10:50:00</th>\n",
       "      <td>290.3</td>\n",
       "    </tr>\n",
       "  </tbody>\n",
       "</table>\n",
       "</div>"
      ],
      "text/plain": [
       "                     행주대교_수위\n",
       "날짜                          \n",
       "2020-10-15 10:30:00    292.3\n",
       "2020-10-15 10:40:00      NaN\n",
       "2020-10-15 10:50:00    290.3"
      ]
     },
     "execution_count": 788,
     "metadata": {},
     "output_type": "execute_result"
    }
   ],
   "source": [
    "# 데이터프레임 분리\n",
    "\n",
    "행주_보간 = 행주.copy()\n",
    "행주_보간 = 행주_보간.set_index('날짜')\n",
    "행주_보간 = 행주_보간.iloc[index_interpolate_, :]\n",
    "행주_보간"
   ]
  },
  {
   "cell_type": "code",
   "execution_count": 789,
   "id": "9471320f",
   "metadata": {
    "colab": {
     "base_uri": "https://localhost:8080/",
     "height": 455
    },
    "executionInfo": {
     "elapsed": 97,
     "status": "ok",
     "timestamp": 1660743839777,
     "user": {
      "displayName": "이예림(상경대학 응용통계학과)",
      "userId": "02944141114007762965"
     },
     "user_tz": -540
    },
    "id": "Ern-vbzfne74",
    "outputId": "3b42110e-9ac7-4f06-9b92-8ea8b7a34476"
   },
   "outputs": [
    {
     "data": {
      "text/html": [
       "<div>\n",
       "<style scoped>\n",
       "    .dataframe tbody tr th:only-of-type {\n",
       "        vertical-align: middle;\n",
       "    }\n",
       "\n",
       "    .dataframe tbody tr th {\n",
       "        vertical-align: top;\n",
       "    }\n",
       "\n",
       "    .dataframe thead th {\n",
       "        text-align: right;\n",
       "    }\n",
       "</style>\n",
       "<table border=\"1\" class=\"dataframe\">\n",
       "  <thead>\n",
       "    <tr style=\"text-align: right;\">\n",
       "      <th></th>\n",
       "      <th>행주대교_수위</th>\n",
       "    </tr>\n",
       "    <tr>\n",
       "      <th>날짜</th>\n",
       "      <th></th>\n",
       "    </tr>\n",
       "  </thead>\n",
       "  <tbody>\n",
       "    <tr>\n",
       "      <th>2020-10-15 10:30:00</th>\n",
       "      <td>292.3</td>\n",
       "    </tr>\n",
       "    <tr>\n",
       "      <th>2020-10-15 10:40:00</th>\n",
       "      <td>291.3</td>\n",
       "    </tr>\n",
       "    <tr>\n",
       "      <th>2020-10-15 10:50:00</th>\n",
       "      <td>290.3</td>\n",
       "    </tr>\n",
       "  </tbody>\n",
       "</table>\n",
       "</div>"
      ],
      "text/plain": [
       "                     행주대교_수위\n",
       "날짜                          \n",
       "2020-10-15 10:30:00    292.3\n",
       "2020-10-15 10:40:00    291.3\n",
       "2020-10-15 10:50:00    290.3"
      ]
     },
     "execution_count": 789,
     "metadata": {},
     "output_type": "execute_result"
    }
   ],
   "source": [
    "# 보간\n",
    "\n",
    "행주_보간.interpolate(method='time', inplace=True)\n",
    "행주_보간   # 보간 결과 확인"
   ]
  },
  {
   "cell_type": "code",
   "execution_count": 790,
   "id": "586089e6",
   "metadata": {
    "colab": {
     "base_uri": "https://localhost:8080/"
    },
    "executionInfo": {
     "elapsed": 94,
     "status": "ok",
     "timestamp": 1660743839778,
     "user": {
      "displayName": "이예림(상경대학 응용통계학과)",
      "userId": "02944141114007762965"
     },
     "user_tz": -540
    },
    "id": "eeQuJ8GYfv4m",
    "outputId": "e6306177-a229-4704-90bc-46cbd35d38fe"
   },
   "outputs": [
    {
     "data": {
      "text/plain": [
       "행주대교_수위    0\n",
       "dtype: int64"
      ]
     },
     "execution_count": 790,
     "metadata": {},
     "output_type": "execute_result"
    }
   ],
   "source": [
    "행주_보간.isnull().sum()"
   ]
  },
  {
   "cell_type": "code",
   "execution_count": 791,
   "id": "33f83364",
   "metadata": {
    "colab": {
     "base_uri": "https://localhost:8080/"
    },
    "executionInfo": {
     "elapsed": 71,
     "status": "ok",
     "timestamp": 1660743839779,
     "user": {
      "displayName": "이예림(상경대학 응용통계학과)",
      "userId": "02944141114007762965"
     },
     "user_tz": -540
    },
    "id": "Nb9VtE6YXsLz",
    "outputId": "e2685d76-bd81-4d7f-d4ee-c4d2b1ed1b4e"
   },
   "outputs": [
    {
     "data": {
      "text/plain": [
       "행주대교_수위    True\n",
       "dtype: bool"
      ]
     },
     "execution_count": 791,
     "metadata": {},
     "output_type": "execute_result"
    }
   ],
   "source": [
    "행주 = 행주.set_index('날짜')\n",
    "행주.loc[행주_보간.index] = 행주_보간\n",
    "행주.isnull().sum() == len(index_sarima)   # 남은 결측치 개수가 SARIMA로 채워야 할 결측치 개수(len(index_sarima))와 같은지 확인"
   ]
  },
  {
   "cell_type": "markdown",
   "id": "a5bbb2d5",
   "metadata": {
    "id": "dK89voI3c8Q0"
   },
   "source": [
    "## 2. 연속적 결측값 처리 by SARIMA"
   ]
  },
  {
   "cell_type": "code",
   "execution_count": 792,
   "id": "8e61bb68",
   "metadata": {
    "colab": {
     "base_uri": "https://localhost:8080/",
     "height": 636
    },
    "executionInfo": {
     "elapsed": 21555,
     "status": "ok",
     "timestamp": 1660743861266,
     "user": {
      "displayName": "이예림(상경대학 응용통계학과)",
      "userId": "02944141114007762965"
     },
     "user_tz": -540
    },
    "id": "-uugY5hBTMTa",
    "outputId": "931c6453-6c54-4bce-c91a-90a599ab57d7"
   },
   "outputs": [],
   "source": [
    "#!pip install pmdarima"
   ]
  },
  {
   "cell_type": "code",
   "execution_count": 793,
   "id": "c6157608",
   "metadata": {
    "executionInfo": {
     "elapsed": 1552,
     "status": "ok",
     "timestamp": 1660743862779,
     "user": {
      "displayName": "이예림(상경대학 응용통계학과)",
      "userId": "02944141114007762965"
     },
     "user_tz": -540
    },
    "id": "BxiLQENsdZvT"
   },
   "outputs": [],
   "source": [
    "from statsmodels.tsa.statespace.sarimax import SARIMAX\n",
    "import pmdarima as pm"
   ]
  },
  {
   "cell_type": "code",
   "execution_count": 794,
   "id": "9883aaca",
   "metadata": {
    "colab": {
     "base_uri": "https://localhost:8080/"
    },
    "executionInfo": {
     "elapsed": 202,
     "status": "ok",
     "timestamp": 1660743862783,
     "user": {
      "displayName": "이예림(상경대학 응용통계학과)",
      "userId": "02944141114007762965"
     },
     "user_tz": -540
    },
    "id": "zSu62iX5Ta7f",
    "outputId": "ae70a0f4-a900-4c77-d110-f8018942180f"
   },
   "outputs": [
    {
     "data": {
      "text/plain": [
       "140613"
      ]
     },
     "execution_count": 794,
     "metadata": {},
     "output_type": "execute_result"
    }
   ],
   "source": [
    "index_sarima[0]"
   ]
  },
  {
   "cell_type": "code",
   "execution_count": 795,
   "id": "c22ca694",
   "metadata": {
    "colab": {
     "base_uri": "https://localhost:8080/"
    },
    "executionInfo": {
     "elapsed": 283,
     "status": "ok",
     "timestamp": 1660743862881,
     "user": {
      "displayName": "이예림(상경대학 응용통계학과)",
      "userId": "02944141114007762965"
     },
     "user_tz": -540
    },
    "id": "8bN42uONUfY9",
    "outputId": "9ba9b11d-90d1-4d51-dbff-057d740b6556"
   },
   "outputs": [
    {
     "name": "stdout",
     "output_type": "stream",
     "text": [
      "[[140613, 140614, 140615, 140616, 140617, 140618, 140619, 140620, 140621, 140622, 140623, 140624, 140625, 140626, 140627, 140628, 140629, 140630, 140631, 140632, 140633, 140634, 140635, 140636, 140637, 140638, 140639, 140640, 140641, 140642, 140643, 140644, 140645, 140646, 140647, 140648, 140649, 140650, 140651, 140652, 140653, 140654, 140655, 140656, 140657, 140658, 140659, 140660, 140661, 140662, 140663, 140664, 140665, 140666, 140667, 140668, 140669, 140670]]\n"
     ]
    }
   ],
   "source": [
    "# 연속된 구간별로 분리\n",
    "\n",
    "i = 0\n",
    "temp = []\n",
    "total = []\n",
    "\n",
    "while i>=0:\n",
    "  try:\n",
    "    if index_sarima[i+2]==index_sarima[i+1]+1==index_sarima[i]+2:\n",
    "      temp.append(index_sarima[i])\n",
    "      i += 1\n",
    "    elif index_sarima[i+2]!=index_sarima[i+1]+1==index_sarima[i]+2:\n",
    "      temp.extend([index_sarima[i], index_sarima[i+1]])\n",
    "      #print(temp)\n",
    "      total.append(temp)\n",
    "      temp = []\n",
    "      i += 2\n",
    "  except:\n",
    "    break\n",
    "\n",
    "# 예외 처리\n",
    "#temp = index_sarima[-2:]\n",
    "#print(temp)\n",
    "total.append(temp)\n",
    "total[len(total)-1].append(index_sarima[-2:][0])\n",
    "total[len(total)-1].append(index_sarima[-2:][1])\n",
    "print(total)"
   ]
  },
  {
   "cell_type": "code",
   "execution_count": 796,
   "id": "e0e6037a",
   "metadata": {
    "colab": {
     "base_uri": "https://localhost:8080/"
    },
    "executionInfo": {
     "elapsed": 292,
     "status": "ok",
     "timestamp": 1660743862962,
     "user": {
      "displayName": "이예림(상경대학 응용통계학과)",
      "userId": "02944141114007762965"
     },
     "user_tz": -540
    },
    "id": "r6E66IVMXyg3",
    "outputId": "d28cd1a6-573d-4b29-8979-8c2d879095e2",
    "scrolled": true
   },
   "outputs": [
    {
     "data": {
      "text/plain": [
       "True"
      ]
     },
     "execution_count": 796,
     "metadata": {},
     "output_type": "execute_result"
    }
   ],
   "source": [
    "sum(total, []) == index_sarima   # 분리가 잘 이루어졌는지 확인"
   ]
  },
  {
   "cell_type": "code",
   "execution_count": 797,
   "id": "78f15256",
   "metadata": {},
   "outputs": [
    {
     "data": {
      "text/plain": [
       "1"
      ]
     },
     "execution_count": 797,
     "metadata": {},
     "output_type": "execute_result"
    }
   ],
   "source": [
    "len(total) #결측치 처리해야 하는 구간의 수"
   ]
  },
  {
   "cell_type": "code",
   "execution_count": 886,
   "id": "f95009f2",
   "metadata": {
    "colab": {
     "base_uri": "https://localhost:8080/"
    },
    "executionInfo": {
     "elapsed": 6204453,
     "status": "ok",
     "timestamp": 1660750114017,
     "user": {
      "displayName": "이예림(상경대학 응용통계학과)",
      "userId": "02944141114007762965"
     },
     "user_tz": -540
    },
    "id": "_HQ9SccJYZif",
    "outputId": "075320ea-d158-4e10-9cdc-e83f87732872",
    "scrolled": true
   },
   "outputs": [],
   "source": [
    "# 전체 다 1일, 즉 직전 144개의 row를 반영하여 결측치 처리\n",
    "\n",
    "for range in total:\n",
    "  start = range[0]\n",
    "  model = pm.auto_arima(행주[start-388:start], seasonal=True)\n",
    "  행주.iloc[range, 0] = model.predict(len(range))\n",
    "  #print(f'{total.index(range)+1}번째 구간 결측치 처리 완료')"
   ]
  },
  {
   "cell_type": "code",
   "execution_count": 887,
   "id": "e7cd42ff",
   "metadata": {
    "colab": {
     "base_uri": "https://localhost:8080/"
    },
    "executionInfo": {
     "elapsed": 84,
     "status": "ok",
     "timestamp": 1660750114020,
     "user": {
      "displayName": "이예림(상경대학 응용통계학과)",
      "userId": "02944141114007762965"
     },
     "user_tz": -540
    },
    "id": "fLkpB1I5bSZu",
    "outputId": "39baa2da-b52e-485c-9c47-103c9755c247"
   },
   "outputs": [
    {
     "data": {
      "text/plain": [
       "행주대교_수위    0\n",
       "dtype: int64"
      ]
     },
     "execution_count": 887,
     "metadata": {},
     "output_type": "execute_result"
    }
   ],
   "source": [
    "# 결측치가 모두 처리되었는지 확인\n",
    "\n",
    "행주.isnull().sum()"
   ]
  },
  {
   "cell_type": "code",
   "execution_count": 888,
   "id": "06923fe3",
   "metadata": {
    "colab": {
     "base_uri": "https://localhost:8080/",
     "height": 265
    },
    "executionInfo": {
     "elapsed": 964,
     "status": "ok",
     "timestamp": 1660750930556,
     "user": {
      "displayName": "이예림(상경대학 응용통계학과)",
      "userId": "02944141114007762965"
     },
     "user_tz": -540
    },
    "id": "LrPrN4VIbX4u",
    "outputId": "b288020c-e222-4519-ec78-8461c318fde4"
   },
   "outputs": [
    {
     "data": {
      "image/png": "[encoded data removed]",
      "text/plain": [
       "<Figure size 432x288 with 1 Axes>"
      ]
     },
     "metadata": {
      "needs_background": "light"
     },
     "output_type": "display_data"
    }
   ],
   "source": [
    "# 결측치 처리 형태 확인 (인덱스 번째 구간)\n",
    "\n",
    "plt.plot(total[0], 행주.iloc[total[0], 0])\n",
    "plt.show()"
   ]
  },
  {
   "cell_type": "code",
   "execution_count": 889,
   "id": "cf6c5b23",
   "metadata": {},
   "outputs": [
    {
     "data": {
      "text/plain": [
       "[<matplotlib.lines.Line2D at 0x1e44ac4c7c0>]"
      ]
     },
     "execution_count": 889,
     "metadata": {},
     "output_type": "execute_result"
    },
    {
     "data": {
      "image/png": "[encoded data removed]",
      "text/plain": [
       "<Figure size 432x288 with 1 Axes>"
      ]
     },
     "metadata": {
      "needs_background": "light"
     },
     "output_type": "display_data"
    }
   ],
   "source": [
    "plt.plot(행주[140300:141000])"
   ]
  },
  {
   "cell_type": "code",
   "execution_count": null,
   "id": "ead5ce61",
   "metadata": {},
   "outputs": [],
   "source": []
  },
  {
   "cell_type": "markdown",
   "id": "bf55e604",
   "metadata": {},
   "source": [
    "# rawdata_arima, newdata 생성"
   ]
  },
  {
   "cell_type": "code",
   "execution_count": 932,
   "id": "01b2048c",
   "metadata": {},
   "outputs": [
    {
     "name": "stderr",
     "output_type": "stream",
     "text": [
      "C:\\Users\\sjkan\\AppData\\Local\\Temp\\ipykernel_11972\\1099726902.py:1: DtypeWarning: Columns (1) have mixed types. Specify dtype option on import or set low_memory=False.\n",
      "  광진교_수위 = pd.read_csv('data/외부데이터/광진교_수위.csv', encoding = 'cp949')\n"
     ]
    },
    {
     "data": {
      "text/html": [
       "<div>\n",
       "<style scoped>\n",
       "    .dataframe tbody tr th:only-of-type {\n",
       "        vertical-align: middle;\n",
       "    }\n",
       "\n",
       "    .dataframe tbody tr th {\n",
       "        vertical-align: top;\n",
       "    }\n",
       "\n",
       "    .dataframe thead th {\n",
       "        text-align: right;\n",
       "    }\n",
       "</style>\n",
       "<table border=\"1\" class=\"dataframe\">\n",
       "  <thead>\n",
       "    <tr style=\"text-align: right;\">\n",
       "      <th></th>\n",
       "      <th>광진교_수위</th>\n",
       "    </tr>\n",
       "    <tr>\n",
       "      <th>날짜</th>\n",
       "      <th></th>\n",
       "    </tr>\n",
       "  </thead>\n",
       "  <tbody>\n",
       "    <tr>\n",
       "      <th>2012-05-01 00:00:00</th>\n",
       "      <td>1.2</td>\n",
       "    </tr>\n",
       "    <tr>\n",
       "      <th>2012-05-01 00:10:00</th>\n",
       "      <td>1.2</td>\n",
       "    </tr>\n",
       "    <tr>\n",
       "      <th>2012-05-01 00:20:00</th>\n",
       "      <td>1.2</td>\n",
       "    </tr>\n",
       "    <tr>\n",
       "      <th>2012-05-01 00:30:00</th>\n",
       "      <td>1.2</td>\n",
       "    </tr>\n",
       "    <tr>\n",
       "      <th>2012-05-01 00:40:00</th>\n",
       "      <td>1.2</td>\n",
       "    </tr>\n",
       "    <tr>\n",
       "      <th>...</th>\n",
       "      <td>...</td>\n",
       "    </tr>\n",
       "    <tr>\n",
       "      <th>2022-07-18 23:10:00</th>\n",
       "      <td>1.12</td>\n",
       "    </tr>\n",
       "    <tr>\n",
       "      <th>2022-07-18 23:20:00</th>\n",
       "      <td>1.12</td>\n",
       "    </tr>\n",
       "    <tr>\n",
       "      <th>2022-07-18 23:30:00</th>\n",
       "      <td>1.12</td>\n",
       "    </tr>\n",
       "    <tr>\n",
       "      <th>2022-07-18 23:40:00</th>\n",
       "      <td>1.12</td>\n",
       "    </tr>\n",
       "    <tr>\n",
       "      <th>2022-07-18 23:50:00</th>\n",
       "      <td>1.12</td>\n",
       "    </tr>\n",
       "  </tbody>\n",
       "</table>\n",
       "<p>276336 rows × 1 columns</p>\n",
       "</div>"
      ],
      "text/plain": [
       "                    광진교_수위\n",
       "날짜                        \n",
       "2012-05-01 00:00:00    1.2\n",
       "2012-05-01 00:10:00    1.2\n",
       "2012-05-01 00:20:00    1.2\n",
       "2012-05-01 00:30:00    1.2\n",
       "2012-05-01 00:40:00    1.2\n",
       "...                    ...\n",
       "2022-07-18 23:10:00   1.12\n",
       "2022-07-18 23:20:00   1.12\n",
       "2022-07-18 23:30:00   1.12\n",
       "2022-07-18 23:40:00   1.12\n",
       "2022-07-18 23:50:00   1.12\n",
       "\n",
       "[276336 rows x 1 columns]"
      ]
     },
     "execution_count": 932,
     "metadata": {},
     "output_type": "execute_result"
    }
   ],
   "source": [
    "광진교_수위 = pd.read_csv('data/외부데이터/광진교_수위.csv', encoding = 'cp949')\n",
    "광진교_수위.날짜 = pd.to_datetime(광진교_수위.날짜)\n",
    "광진교_수위 = 광진교_수위.set_index('날짜')\n",
    "광진교_수위"
   ]
  },
  {
   "cell_type": "code",
   "execution_count": null,
   "id": "5acbab2d",
   "metadata": {},
   "outputs": [],
   "source": []
  },
  {
   "cell_type": "markdown",
   "id": "f03ad557",
   "metadata": {
    "id": "mK0eaXyuTuhT"
   },
   "source": [
    "# 광진교 수위 결측치 처리"
   ]
  },
  {
   "cell_type": "code",
   "execution_count": 1026,
   "id": "d615aac0",
   "metadata": {
    "colab": {
     "base_uri": "https://localhost:8080/",
     "height": 424
    },
    "executionInfo": {
     "elapsed": 432,
     "status": "ok",
     "timestamp": 1660743839242,
     "user": {
      "displayName": "이예림(상경대학 응용통계학과)",
      "userId": "02944141114007762965"
     },
     "user_tz": -540
    },
    "id": "Mdz_YyjTTcH1",
    "outputId": "5c77d4d1-09af-467a-ad8f-cd70df07dbb2"
   },
   "outputs": [
    {
     "data": {
      "text/html": [
       "<div>\n",
       "<style scoped>\n",
       "    .dataframe tbody tr th:only-of-type {\n",
       "        vertical-align: middle;\n",
       "    }\n",
       "\n",
       "    .dataframe tbody tr th {\n",
       "        vertical-align: top;\n",
       "    }\n",
       "\n",
       "    .dataframe thead th {\n",
       "        text-align: right;\n",
       "    }\n",
       "</style>\n",
       "<table border=\"1\" class=\"dataframe\">\n",
       "  <thead>\n",
       "    <tr style=\"text-align: right;\">\n",
       "      <th></th>\n",
       "      <th>날짜</th>\n",
       "      <th>광진교_수위</th>\n",
       "    </tr>\n",
       "  </thead>\n",
       "  <tbody>\n",
       "    <tr>\n",
       "      <th>0</th>\n",
       "      <td>2012-05-01 00:00:00</td>\n",
       "      <td>1.2</td>\n",
       "    </tr>\n",
       "    <tr>\n",
       "      <th>1</th>\n",
       "      <td>2012-05-01 00:10:00</td>\n",
       "      <td>1.2</td>\n",
       "    </tr>\n",
       "    <tr>\n",
       "      <th>2</th>\n",
       "      <td>2012-05-01 00:20:00</td>\n",
       "      <td>1.2</td>\n",
       "    </tr>\n",
       "    <tr>\n",
       "      <th>3</th>\n",
       "      <td>2012-05-01 00:30:00</td>\n",
       "      <td>1.2</td>\n",
       "    </tr>\n",
       "    <tr>\n",
       "      <th>4</th>\n",
       "      <td>2012-05-01 00:40:00</td>\n",
       "      <td>1.2</td>\n",
       "    </tr>\n",
       "    <tr>\n",
       "      <th>...</th>\n",
       "      <td>...</td>\n",
       "      <td>...</td>\n",
       "    </tr>\n",
       "    <tr>\n",
       "      <th>276331</th>\n",
       "      <td>2022-07-18 23:10:00</td>\n",
       "      <td>1.12</td>\n",
       "    </tr>\n",
       "    <tr>\n",
       "      <th>276332</th>\n",
       "      <td>2022-07-18 23:20:00</td>\n",
       "      <td>1.12</td>\n",
       "    </tr>\n",
       "    <tr>\n",
       "      <th>276333</th>\n",
       "      <td>2022-07-18 23:30:00</td>\n",
       "      <td>1.12</td>\n",
       "    </tr>\n",
       "    <tr>\n",
       "      <th>276334</th>\n",
       "      <td>2022-07-18 23:40:00</td>\n",
       "      <td>1.12</td>\n",
       "    </tr>\n",
       "    <tr>\n",
       "      <th>276335</th>\n",
       "      <td>2022-07-18 23:50:00</td>\n",
       "      <td>1.12</td>\n",
       "    </tr>\n",
       "  </tbody>\n",
       "</table>\n",
       "<p>276336 rows × 2 columns</p>\n",
       "</div>"
      ],
      "text/plain": [
       "                        날짜 광진교_수위\n",
       "0      2012-05-01 00:00:00    1.2\n",
       "1      2012-05-01 00:10:00    1.2\n",
       "2      2012-05-01 00:20:00    1.2\n",
       "3      2012-05-01 00:30:00    1.2\n",
       "4      2012-05-01 00:40:00    1.2\n",
       "...                    ...    ...\n",
       "276331 2022-07-18 23:10:00   1.12\n",
       "276332 2022-07-18 23:20:00   1.12\n",
       "276333 2022-07-18 23:30:00   1.12\n",
       "276334 2022-07-18 23:40:00   1.12\n",
       "276335 2022-07-18 23:50:00   1.12\n",
       "\n",
       "[276336 rows x 2 columns]"
      ]
     },
     "execution_count": 1026,
     "metadata": {},
     "output_type": "execute_result"
    }
   ],
   "source": [
    "광진 = 광진교_수위.reset_index()\n",
    "광진"
   ]
  },
  {
   "cell_type": "code",
   "execution_count": 1027,
   "id": "4387308b",
   "metadata": {},
   "outputs": [
    {
     "data": {
      "text/plain": [
       "Int64Index([140613, 140614, 140615, 140616, 140617, 140618, 140619, 140620,\n",
       "            140621, 140622, 140623, 140624, 140625, 140626, 140627, 140628,\n",
       "            140629, 140630, 140631, 140632, 140633, 140634, 140635, 140636,\n",
       "            140637, 140638, 140639, 140640, 140641, 140642, 140643, 140644,\n",
       "            140645, 140646, 140647, 140648, 140649, 140650, 140651, 140652,\n",
       "            140653, 140654, 140655, 140656, 140657, 140658, 140659, 140660,\n",
       "            140661, 140662, 140663, 140664, 140665, 140666, 140667, 140668,\n",
       "            140669, 140670, 236080],\n",
       "           dtype='int64')"
      ]
     },
     "execution_count": 1027,
     "metadata": {},
     "output_type": "execute_result"
    }
   ],
   "source": [
    "idx = 광진[광진['광진교_수위'] == '-']['광진교_수위'].index\n",
    "idx"
   ]
  },
  {
   "cell_type": "code",
   "execution_count": 1028,
   "id": "b81e916e",
   "metadata": {},
   "outputs": [
    {
     "data": {
      "text/html": [
       "<div>\n",
       "<style scoped>\n",
       "    .dataframe tbody tr th:only-of-type {\n",
       "        vertical-align: middle;\n",
       "    }\n",
       "\n",
       "    .dataframe tbody tr th {\n",
       "        vertical-align: top;\n",
       "    }\n",
       "\n",
       "    .dataframe thead th {\n",
       "        text-align: right;\n",
       "    }\n",
       "</style>\n",
       "<table border=\"1\" class=\"dataframe\">\n",
       "  <thead>\n",
       "    <tr style=\"text-align: right;\">\n",
       "      <th></th>\n",
       "      <th>날짜</th>\n",
       "      <th>광진교_수위</th>\n",
       "    </tr>\n",
       "  </thead>\n",
       "  <tbody>\n",
       "    <tr>\n",
       "      <th>0</th>\n",
       "      <td>2012-05-01 00:00:00</td>\n",
       "      <td>1.2</td>\n",
       "    </tr>\n",
       "    <tr>\n",
       "      <th>1</th>\n",
       "      <td>2012-05-01 00:10:00</td>\n",
       "      <td>1.2</td>\n",
       "    </tr>\n",
       "    <tr>\n",
       "      <th>2</th>\n",
       "      <td>2012-05-01 00:20:00</td>\n",
       "      <td>1.2</td>\n",
       "    </tr>\n",
       "    <tr>\n",
       "      <th>3</th>\n",
       "      <td>2012-05-01 00:30:00</td>\n",
       "      <td>1.2</td>\n",
       "    </tr>\n",
       "    <tr>\n",
       "      <th>4</th>\n",
       "      <td>2012-05-01 00:40:00</td>\n",
       "      <td>1.2</td>\n",
       "    </tr>\n",
       "    <tr>\n",
       "      <th>...</th>\n",
       "      <td>...</td>\n",
       "      <td>...</td>\n",
       "    </tr>\n",
       "    <tr>\n",
       "      <th>276331</th>\n",
       "      <td>2022-07-18 23:10:00</td>\n",
       "      <td>1.12</td>\n",
       "    </tr>\n",
       "    <tr>\n",
       "      <th>276332</th>\n",
       "      <td>2022-07-18 23:20:00</td>\n",
       "      <td>1.12</td>\n",
       "    </tr>\n",
       "    <tr>\n",
       "      <th>276333</th>\n",
       "      <td>2022-07-18 23:30:00</td>\n",
       "      <td>1.12</td>\n",
       "    </tr>\n",
       "    <tr>\n",
       "      <th>276334</th>\n",
       "      <td>2022-07-18 23:40:00</td>\n",
       "      <td>1.12</td>\n",
       "    </tr>\n",
       "    <tr>\n",
       "      <th>276335</th>\n",
       "      <td>2022-07-18 23:50:00</td>\n",
       "      <td>1.12</td>\n",
       "    </tr>\n",
       "  </tbody>\n",
       "</table>\n",
       "<p>276336 rows × 2 columns</p>\n",
       "</div>"
      ],
      "text/plain": [
       "                        날짜 광진교_수위\n",
       "0      2012-05-01 00:00:00    1.2\n",
       "1      2012-05-01 00:10:00    1.2\n",
       "2      2012-05-01 00:20:00    1.2\n",
       "3      2012-05-01 00:30:00    1.2\n",
       "4      2012-05-01 00:40:00    1.2\n",
       "...                    ...    ...\n",
       "276331 2022-07-18 23:10:00   1.12\n",
       "276332 2022-07-18 23:20:00   1.12\n",
       "276333 2022-07-18 23:30:00   1.12\n",
       "276334 2022-07-18 23:40:00   1.12\n",
       "276335 2022-07-18 23:50:00   1.12\n",
       "\n",
       "[276336 rows x 2 columns]"
      ]
     },
     "execution_count": 1028,
     "metadata": {},
     "output_type": "execute_result"
    }
   ],
   "source": [
    "import numpy as np\n",
    "for i in idx:\n",
    "    광진.loc[i,'광진교_수위']=np.NaN\n",
    "광진"
   ]
  },
  {
   "cell_type": "code",
   "execution_count": 1029,
   "id": "898f9fcb",
   "metadata": {
    "colab": {
     "base_uri": "https://localhost:8080/",
     "height": 424
    },
    "executionInfo": {
     "elapsed": 429,
     "status": "ok",
     "timestamp": 1660743839255,
     "user": {
      "displayName": "이예림(상경대학 응용통계학과)",
      "userId": "02944141114007762965"
     },
     "user_tz": -540
    },
    "id": "e4Q6xLdsTx3j",
    "outputId": "340420de-0607-4652-aac1-4417d179c65e",
    "scrolled": true
   },
   "outputs": [
    {
     "data": {
      "text/html": [
       "<div>\n",
       "<style scoped>\n",
       "    .dataframe tbody tr th:only-of-type {\n",
       "        vertical-align: middle;\n",
       "    }\n",
       "\n",
       "    .dataframe tbody tr th {\n",
       "        vertical-align: top;\n",
       "    }\n",
       "\n",
       "    .dataframe thead th {\n",
       "        text-align: right;\n",
       "    }\n",
       "</style>\n",
       "<table border=\"1\" class=\"dataframe\">\n",
       "  <thead>\n",
       "    <tr style=\"text-align: right;\">\n",
       "      <th></th>\n",
       "      <th>날짜</th>\n",
       "      <th>광진교_수위</th>\n",
       "    </tr>\n",
       "  </thead>\n",
       "  <tbody>\n",
       "    <tr>\n",
       "      <th>140613</th>\n",
       "      <td>2017-06-26 11:30:00</td>\n",
       "      <td>NaN</td>\n",
       "    </tr>\n",
       "    <tr>\n",
       "      <th>140614</th>\n",
       "      <td>2017-06-26 11:40:00</td>\n",
       "      <td>NaN</td>\n",
       "    </tr>\n",
       "    <tr>\n",
       "      <th>140615</th>\n",
       "      <td>2017-06-26 11:50:00</td>\n",
       "      <td>NaN</td>\n",
       "    </tr>\n",
       "    <tr>\n",
       "      <th>140616</th>\n",
       "      <td>2017-06-26 12:00:00</td>\n",
       "      <td>NaN</td>\n",
       "    </tr>\n",
       "    <tr>\n",
       "      <th>140617</th>\n",
       "      <td>2017-06-26 12:10:00</td>\n",
       "      <td>NaN</td>\n",
       "    </tr>\n",
       "    <tr>\n",
       "      <th>140618</th>\n",
       "      <td>2017-06-26 12:20:00</td>\n",
       "      <td>NaN</td>\n",
       "    </tr>\n",
       "    <tr>\n",
       "      <th>140619</th>\n",
       "      <td>2017-06-26 12:30:00</td>\n",
       "      <td>NaN</td>\n",
       "    </tr>\n",
       "    <tr>\n",
       "      <th>140620</th>\n",
       "      <td>2017-06-26 12:40:00</td>\n",
       "      <td>NaN</td>\n",
       "    </tr>\n",
       "    <tr>\n",
       "      <th>140621</th>\n",
       "      <td>2017-06-26 12:50:00</td>\n",
       "      <td>NaN</td>\n",
       "    </tr>\n",
       "    <tr>\n",
       "      <th>140622</th>\n",
       "      <td>2017-06-26 13:00:00</td>\n",
       "      <td>NaN</td>\n",
       "    </tr>\n",
       "    <tr>\n",
       "      <th>140623</th>\n",
       "      <td>2017-06-26 13:10:00</td>\n",
       "      <td>NaN</td>\n",
       "    </tr>\n",
       "    <tr>\n",
       "      <th>140624</th>\n",
       "      <td>2017-06-26 13:20:00</td>\n",
       "      <td>NaN</td>\n",
       "    </tr>\n",
       "    <tr>\n",
       "      <th>140625</th>\n",
       "      <td>2017-06-26 13:30:00</td>\n",
       "      <td>NaN</td>\n",
       "    </tr>\n",
       "    <tr>\n",
       "      <th>140626</th>\n",
       "      <td>2017-06-26 13:40:00</td>\n",
       "      <td>NaN</td>\n",
       "    </tr>\n",
       "    <tr>\n",
       "      <th>140627</th>\n",
       "      <td>2017-06-26 13:50:00</td>\n",
       "      <td>NaN</td>\n",
       "    </tr>\n",
       "    <tr>\n",
       "      <th>140628</th>\n",
       "      <td>2017-06-26 14:00:00</td>\n",
       "      <td>NaN</td>\n",
       "    </tr>\n",
       "    <tr>\n",
       "      <th>140629</th>\n",
       "      <td>2017-06-26 14:10:00</td>\n",
       "      <td>NaN</td>\n",
       "    </tr>\n",
       "    <tr>\n",
       "      <th>140630</th>\n",
       "      <td>2017-06-26 14:20:00</td>\n",
       "      <td>NaN</td>\n",
       "    </tr>\n",
       "    <tr>\n",
       "      <th>140631</th>\n",
       "      <td>2017-06-26 14:30:00</td>\n",
       "      <td>NaN</td>\n",
       "    </tr>\n",
       "    <tr>\n",
       "      <th>140632</th>\n",
       "      <td>2017-06-26 14:40:00</td>\n",
       "      <td>NaN</td>\n",
       "    </tr>\n",
       "    <tr>\n",
       "      <th>140633</th>\n",
       "      <td>2017-06-26 14:50:00</td>\n",
       "      <td>NaN</td>\n",
       "    </tr>\n",
       "    <tr>\n",
       "      <th>140634</th>\n",
       "      <td>2017-06-26 15:00:00</td>\n",
       "      <td>NaN</td>\n",
       "    </tr>\n",
       "    <tr>\n",
       "      <th>140635</th>\n",
       "      <td>2017-06-26 15:10:00</td>\n",
       "      <td>NaN</td>\n",
       "    </tr>\n",
       "    <tr>\n",
       "      <th>140636</th>\n",
       "      <td>2017-06-26 15:20:00</td>\n",
       "      <td>NaN</td>\n",
       "    </tr>\n",
       "    <tr>\n",
       "      <th>140637</th>\n",
       "      <td>2017-06-26 15:30:00</td>\n",
       "      <td>NaN</td>\n",
       "    </tr>\n",
       "    <tr>\n",
       "      <th>140638</th>\n",
       "      <td>2017-06-26 15:40:00</td>\n",
       "      <td>NaN</td>\n",
       "    </tr>\n",
       "    <tr>\n",
       "      <th>140639</th>\n",
       "      <td>2017-06-26 15:50:00</td>\n",
       "      <td>NaN</td>\n",
       "    </tr>\n",
       "    <tr>\n",
       "      <th>140640</th>\n",
       "      <td>2017-06-26 16:00:00</td>\n",
       "      <td>NaN</td>\n",
       "    </tr>\n",
       "    <tr>\n",
       "      <th>140641</th>\n",
       "      <td>2017-06-26 16:10:00</td>\n",
       "      <td>NaN</td>\n",
       "    </tr>\n",
       "    <tr>\n",
       "      <th>140642</th>\n",
       "      <td>2017-06-26 16:20:00</td>\n",
       "      <td>NaN</td>\n",
       "    </tr>\n",
       "    <tr>\n",
       "      <th>140643</th>\n",
       "      <td>2017-06-26 16:30:00</td>\n",
       "      <td>NaN</td>\n",
       "    </tr>\n",
       "    <tr>\n",
       "      <th>140644</th>\n",
       "      <td>2017-06-26 16:40:00</td>\n",
       "      <td>NaN</td>\n",
       "    </tr>\n",
       "    <tr>\n",
       "      <th>140645</th>\n",
       "      <td>2017-06-26 16:50:00</td>\n",
       "      <td>NaN</td>\n",
       "    </tr>\n",
       "    <tr>\n",
       "      <th>140646</th>\n",
       "      <td>2017-06-26 17:00:00</td>\n",
       "      <td>NaN</td>\n",
       "    </tr>\n",
       "    <tr>\n",
       "      <th>140647</th>\n",
       "      <td>2017-06-26 17:10:00</td>\n",
       "      <td>NaN</td>\n",
       "    </tr>\n",
       "    <tr>\n",
       "      <th>140648</th>\n",
       "      <td>2017-06-26 17:20:00</td>\n",
       "      <td>NaN</td>\n",
       "    </tr>\n",
       "    <tr>\n",
       "      <th>140649</th>\n",
       "      <td>2017-06-26 17:30:00</td>\n",
       "      <td>NaN</td>\n",
       "    </tr>\n",
       "    <tr>\n",
       "      <th>140650</th>\n",
       "      <td>2017-06-26 17:40:00</td>\n",
       "      <td>NaN</td>\n",
       "    </tr>\n",
       "    <tr>\n",
       "      <th>140651</th>\n",
       "      <td>2017-06-26 17:50:00</td>\n",
       "      <td>NaN</td>\n",
       "    </tr>\n",
       "    <tr>\n",
       "      <th>140652</th>\n",
       "      <td>2017-06-26 18:00:00</td>\n",
       "      <td>NaN</td>\n",
       "    </tr>\n",
       "    <tr>\n",
       "      <th>140653</th>\n",
       "      <td>2017-06-26 18:10:00</td>\n",
       "      <td>NaN</td>\n",
       "    </tr>\n",
       "    <tr>\n",
       "      <th>140654</th>\n",
       "      <td>2017-06-26 18:20:00</td>\n",
       "      <td>NaN</td>\n",
       "    </tr>\n",
       "    <tr>\n",
       "      <th>140655</th>\n",
       "      <td>2017-06-26 18:30:00</td>\n",
       "      <td>NaN</td>\n",
       "    </tr>\n",
       "    <tr>\n",
       "      <th>140656</th>\n",
       "      <td>2017-06-26 18:40:00</td>\n",
       "      <td>NaN</td>\n",
       "    </tr>\n",
       "    <tr>\n",
       "      <th>140657</th>\n",
       "      <td>2017-06-26 18:50:00</td>\n",
       "      <td>NaN</td>\n",
       "    </tr>\n",
       "    <tr>\n",
       "      <th>140658</th>\n",
       "      <td>2017-06-26 19:00:00</td>\n",
       "      <td>NaN</td>\n",
       "    </tr>\n",
       "    <tr>\n",
       "      <th>140659</th>\n",
       "      <td>2017-06-26 19:10:00</td>\n",
       "      <td>NaN</td>\n",
       "    </tr>\n",
       "    <tr>\n",
       "      <th>140660</th>\n",
       "      <td>2017-06-26 19:20:00</td>\n",
       "      <td>NaN</td>\n",
       "    </tr>\n",
       "    <tr>\n",
       "      <th>140661</th>\n",
       "      <td>2017-06-26 19:30:00</td>\n",
       "      <td>NaN</td>\n",
       "    </tr>\n",
       "    <tr>\n",
       "      <th>140662</th>\n",
       "      <td>2017-06-26 19:40:00</td>\n",
       "      <td>NaN</td>\n",
       "    </tr>\n",
       "    <tr>\n",
       "      <th>140663</th>\n",
       "      <td>2017-06-26 19:50:00</td>\n",
       "      <td>NaN</td>\n",
       "    </tr>\n",
       "    <tr>\n",
       "      <th>140664</th>\n",
       "      <td>2017-06-26 20:00:00</td>\n",
       "      <td>NaN</td>\n",
       "    </tr>\n",
       "    <tr>\n",
       "      <th>140665</th>\n",
       "      <td>2017-06-26 20:10:00</td>\n",
       "      <td>NaN</td>\n",
       "    </tr>\n",
       "    <tr>\n",
       "      <th>140666</th>\n",
       "      <td>2017-06-26 20:20:00</td>\n",
       "      <td>NaN</td>\n",
       "    </tr>\n",
       "    <tr>\n",
       "      <th>140667</th>\n",
       "      <td>2017-06-26 20:30:00</td>\n",
       "      <td>NaN</td>\n",
       "    </tr>\n",
       "    <tr>\n",
       "      <th>140668</th>\n",
       "      <td>2017-06-26 20:40:00</td>\n",
       "      <td>NaN</td>\n",
       "    </tr>\n",
       "    <tr>\n",
       "      <th>140669</th>\n",
       "      <td>2017-06-26 20:50:00</td>\n",
       "      <td>NaN</td>\n",
       "    </tr>\n",
       "    <tr>\n",
       "      <th>140670</th>\n",
       "      <td>2017-06-26 21:00:00</td>\n",
       "      <td>NaN</td>\n",
       "    </tr>\n",
       "    <tr>\n",
       "      <th>236080</th>\n",
       "      <td>2020-10-15 10:40:00</td>\n",
       "      <td>NaN</td>\n",
       "    </tr>\n",
       "  </tbody>\n",
       "</table>\n",
       "</div>"
      ],
      "text/plain": [
       "                        날짜 광진교_수위\n",
       "140613 2017-06-26 11:30:00    NaN\n",
       "140614 2017-06-26 11:40:00    NaN\n",
       "140615 2017-06-26 11:50:00    NaN\n",
       "140616 2017-06-26 12:00:00    NaN\n",
       "140617 2017-06-26 12:10:00    NaN\n",
       "140618 2017-06-26 12:20:00    NaN\n",
       "140619 2017-06-26 12:30:00    NaN\n",
       "140620 2017-06-26 12:40:00    NaN\n",
       "140621 2017-06-26 12:50:00    NaN\n",
       "140622 2017-06-26 13:00:00    NaN\n",
       "140623 2017-06-26 13:10:00    NaN\n",
       "140624 2017-06-26 13:20:00    NaN\n",
       "140625 2017-06-26 13:30:00    NaN\n",
       "140626 2017-06-26 13:40:00    NaN\n",
       "140627 2017-06-26 13:50:00    NaN\n",
       "140628 2017-06-26 14:00:00    NaN\n",
       "140629 2017-06-26 14:10:00    NaN\n",
       "140630 2017-06-26 14:20:00    NaN\n",
       "140631 2017-06-26 14:30:00    NaN\n",
       "140632 2017-06-26 14:40:00    NaN\n",
       "140633 2017-06-26 14:50:00    NaN\n",
       "140634 2017-06-26 15:00:00    NaN\n",
       "140635 2017-06-26 15:10:00    NaN\n",
       "140636 2017-06-26 15:20:00    NaN\n",
       "140637 2017-06-26 15:30:00    NaN\n",
       "140638 2017-06-26 15:40:00    NaN\n",
       "140639 2017-06-26 15:50:00    NaN\n",
       "140640 2017-06-26 16:00:00    NaN\n",
       "140641 2017-06-26 16:10:00    NaN\n",
       "140642 2017-06-26 16:20:00    NaN\n",
       "140643 2017-06-26 16:30:00    NaN\n",
       "140644 2017-06-26 16:40:00    NaN\n",
       "140645 2017-06-26 16:50:00    NaN\n",
       "140646 2017-06-26 17:00:00    NaN\n",
       "140647 2017-06-26 17:10:00    NaN\n",
       "140648 2017-06-26 17:20:00    NaN\n",
       "140649 2017-06-26 17:30:00    NaN\n",
       "140650 2017-06-26 17:40:00    NaN\n",
       "140651 2017-06-26 17:50:00    NaN\n",
       "140652 2017-06-26 18:00:00    NaN\n",
       "140653 2017-06-26 18:10:00    NaN\n",
       "140654 2017-06-26 18:20:00    NaN\n",
       "140655 2017-06-26 18:30:00    NaN\n",
       "140656 2017-06-26 18:40:00    NaN\n",
       "140657 2017-06-26 18:50:00    NaN\n",
       "140658 2017-06-26 19:00:00    NaN\n",
       "140659 2017-06-26 19:10:00    NaN\n",
       "140660 2017-06-26 19:20:00    NaN\n",
       "140661 2017-06-26 19:30:00    NaN\n",
       "140662 2017-06-26 19:40:00    NaN\n",
       "140663 2017-06-26 19:50:00    NaN\n",
       "140664 2017-06-26 20:00:00    NaN\n",
       "140665 2017-06-26 20:10:00    NaN\n",
       "140666 2017-06-26 20:20:00    NaN\n",
       "140667 2017-06-26 20:30:00    NaN\n",
       "140668 2017-06-26 20:40:00    NaN\n",
       "140669 2017-06-26 20:50:00    NaN\n",
       "140670 2017-06-26 21:00:00    NaN\n",
       "236080 2020-10-15 10:40:00    NaN"
      ]
     },
     "execution_count": 1029,
     "metadata": {},
     "output_type": "execute_result"
    }
   ],
   "source": [
    "광진[광진['광진교_수위'].isnull()]   # 16380개의 결측치 : 순서대로 채우기"
   ]
  },
  {
   "cell_type": "code",
   "execution_count": 1030,
   "id": "bb228593",
   "metadata": {
    "colab": {
     "base_uri": "https://localhost:8080/"
    },
    "executionInfo": {
     "elapsed": 427,
     "status": "ok",
     "timestamp": 1660743839256,
     "user": {
      "displayName": "이예림(상경대학 응용통계학과)",
      "userId": "02944141114007762965"
     },
     "user_tz": -540
    },
    "id": "RrthJw76c4B6",
    "outputId": "10fb03a5-e4db-469a-ccd9-80f777cdb60e"
   },
   "outputs": [],
   "source": [
    "nan_index = idx"
   ]
  },
  {
   "cell_type": "code",
   "execution_count": 1031,
   "id": "8768e430",
   "metadata": {
    "colab": {
     "base_uri": "https://localhost:8080/"
    },
    "executionInfo": {
     "elapsed": 933,
     "status": "ok",
     "timestamp": 1660743839772,
     "user": {
      "displayName": "이예림(상경대학 응용통계학과)",
      "userId": "02944141114007762965"
     },
     "user_tz": -540
    },
    "id": "ubfxLxNcX-Nz",
    "outputId": "0680fa41-41e1-4ec1-90ef-81bd0fe72ea8"
   },
   "outputs": [
    {
     "data": {
      "text/plain": [
       "array([ True,  True,  True,  True,  True,  True,  True,  True,  True,\n",
       "        True,  True,  True,  True,  True,  True,  True,  True,  True,\n",
       "        True,  True,  True,  True,  True,  True,  True,  True,  True,\n",
       "        True,  True,  True,  True,  True,  True,  True,  True,  True,\n",
       "        True,  True,  True,  True,  True,  True,  True,  True,  True,\n",
       "        True,  True,  True,  True,  True,  True,  True,  True,  True,\n",
       "        True,  True,  True,  True,  True])"
      ]
     },
     "execution_count": 1031,
     "metadata": {},
     "output_type": "execute_result"
    }
   ],
   "source": [
    "# Index 분리\n",
    "\n",
    "index_interpolate = []\n",
    "index_sarima = []\n",
    "\n",
    "i = 0\n",
    "while i < len(nan_index)-2:\n",
    "  if nan_index[i+2] == nan_index[i+1]+1 == nan_index[i]+2:\n",
    "    index_sarima.append(nan_index[i])\n",
    "    i += 1\n",
    "  elif nan_index[i+2] != nan_index[i+1]+1 and nan_index[i+1] == nan_index[i]+1:\n",
    "    index_sarima.extend([nan_index[i], nan_index[i+1]])\n",
    "    i += 2\n",
    "  else:\n",
    "    index_interpolate.append(nan_index[i])\n",
    "    i += 1\n",
    "\n",
    "index_interpolate.extend(nan_index[-1:])\n",
    "\n",
    "# if nan_index[-3]+1 != nan_index[-2]:\n",
    "#     index_interpolate.extend(nan_index[-2:])\n",
    "# else:\n",
    "#     index_interpolate.extend(nan_index[-1:])\n",
    "\n",
    "nan_index == sorted(index_interpolate+index_sarima)"
   ]
  },
  {
   "cell_type": "markdown",
   "id": "76a57ec6",
   "metadata": {
    "id": "55pXgjIPTEJF"
   },
   "source": [
    "## 1. 비연속적 결측값 처리 by Interpolation"
   ]
  },
  {
   "cell_type": "code",
   "execution_count": 1032,
   "id": "debde064",
   "metadata": {
    "colab": {
     "base_uri": "https://localhost:8080/"
    },
    "executionInfo": {
     "elapsed": 210,
     "status": "ok",
     "timestamp": 1660743839774,
     "user": {
      "displayName": "이예림(상경대학 응용통계학과)",
      "userId": "02944141114007762965"
     },
     "user_tz": -540
    },
    "id": "HhxuRyakk_qm",
    "outputId": "c6d69d1e-0682-48d3-c8f6-bcd80bbc32e5"
   },
   "outputs": [],
   "source": [
    "# Interpolation에 쓰일 인덱스 지정 (결측값 기준 앞, 뒤 + 자체)\n",
    "\n",
    "index_interpolate_ = sum([[i-1, i, i+1] for i in index_interpolate], [])"
   ]
  },
  {
   "cell_type": "code",
   "execution_count": 1033,
   "id": "709ba093",
   "metadata": {
    "colab": {
     "base_uri": "https://localhost:8080/"
    },
    "executionInfo": {
     "elapsed": 184,
     "status": "ok",
     "timestamp": 1660743839775,
     "user": {
      "displayName": "이예림(상경대학 응용통계학과)",
      "userId": "02944141114007762965"
     },
     "user_tz": -540
    },
    "id": "sYfcdbzem2H2",
    "outputId": "d28d8051-90e8-4024-ba06-43b0cdb46c76"
   },
   "outputs": [
    {
     "data": {
      "text/plain": [
       "True"
      ]
     },
     "execution_count": 1033,
     "metadata": {},
     "output_type": "execute_result"
    }
   ],
   "source": [
    "len(index_interpolate_) == len(set(index_interpolate)) * 3   # 겹치는 index 없는지 확인"
   ]
  },
  {
   "cell_type": "code",
   "execution_count": 1034,
   "id": "298e134f",
   "metadata": {
    "colab": {
     "base_uri": "https://localhost:8080/",
     "height": 455
    },
    "executionInfo": {
     "elapsed": 99,
     "status": "ok",
     "timestamp": 1660743839776,
     "user": {
      "displayName": "이예림(상경대학 응용통계학과)",
      "userId": "02944141114007762965"
     },
     "user_tz": -540
    },
    "id": "pZAsVV_vbkl8",
    "outputId": "1723905b-154b-421b-ec39-30162831b99b"
   },
   "outputs": [
    {
     "data": {
      "text/html": [
       "<div>\n",
       "<style scoped>\n",
       "    .dataframe tbody tr th:only-of-type {\n",
       "        vertical-align: middle;\n",
       "    }\n",
       "\n",
       "    .dataframe tbody tr th {\n",
       "        vertical-align: top;\n",
       "    }\n",
       "\n",
       "    .dataframe thead th {\n",
       "        text-align: right;\n",
       "    }\n",
       "</style>\n",
       "<table border=\"1\" class=\"dataframe\">\n",
       "  <thead>\n",
       "    <tr style=\"text-align: right;\">\n",
       "      <th></th>\n",
       "      <th>광진교_수위</th>\n",
       "    </tr>\n",
       "    <tr>\n",
       "      <th>날짜</th>\n",
       "      <th></th>\n",
       "    </tr>\n",
       "  </thead>\n",
       "  <tbody>\n",
       "    <tr>\n",
       "      <th>2020-10-15 10:30:00</th>\n",
       "      <td>1.07</td>\n",
       "    </tr>\n",
       "    <tr>\n",
       "      <th>2020-10-15 10:40:00</th>\n",
       "      <td>NaN</td>\n",
       "    </tr>\n",
       "    <tr>\n",
       "      <th>2020-10-15 10:50:00</th>\n",
       "      <td>1.07</td>\n",
       "    </tr>\n",
       "  </tbody>\n",
       "</table>\n",
       "</div>"
      ],
      "text/plain": [
       "                    광진교_수위\n",
       "날짜                        \n",
       "2020-10-15 10:30:00   1.07\n",
       "2020-10-15 10:40:00    NaN\n",
       "2020-10-15 10:50:00   1.07"
      ]
     },
     "execution_count": 1034,
     "metadata": {},
     "output_type": "execute_result"
    }
   ],
   "source": [
    "# 데이터프레임 분리\n",
    "\n",
    "광진_보간 = 광진.copy()\n",
    "광진_보간 = 광진_보간.set_index('날짜')\n",
    "광진_보간 = 광진_보간.iloc[index_interpolate_, :]\n",
    "광진_보간"
   ]
  },
  {
   "cell_type": "code",
   "execution_count": 1035,
   "id": "3eace456",
   "metadata": {
    "colab": {
     "base_uri": "https://localhost:8080/",
     "height": 455
    },
    "executionInfo": {
     "elapsed": 97,
     "status": "ok",
     "timestamp": 1660743839777,
     "user": {
      "displayName": "이예림(상경대학 응용통계학과)",
      "userId": "02944141114007762965"
     },
     "user_tz": -540
    },
    "id": "Ern-vbzfne74",
    "outputId": "3b42110e-9ac7-4f06-9b92-8ea8b7a34476"
   },
   "outputs": [
    {
     "data": {
      "text/html": [
       "<div>\n",
       "<style scoped>\n",
       "    .dataframe tbody tr th:only-of-type {\n",
       "        vertical-align: middle;\n",
       "    }\n",
       "\n",
       "    .dataframe tbody tr th {\n",
       "        vertical-align: top;\n",
       "    }\n",
       "\n",
       "    .dataframe thead th {\n",
       "        text-align: right;\n",
       "    }\n",
       "</style>\n",
       "<table border=\"1\" class=\"dataframe\">\n",
       "  <thead>\n",
       "    <tr style=\"text-align: right;\">\n",
       "      <th></th>\n",
       "      <th>광진교_수위</th>\n",
       "    </tr>\n",
       "    <tr>\n",
       "      <th>날짜</th>\n",
       "      <th></th>\n",
       "    </tr>\n",
       "  </thead>\n",
       "  <tbody>\n",
       "    <tr>\n",
       "      <th>2020-10-15 10:30:00</th>\n",
       "      <td>1.07</td>\n",
       "    </tr>\n",
       "    <tr>\n",
       "      <th>2020-10-15 10:40:00</th>\n",
       "      <td>1.07</td>\n",
       "    </tr>\n",
       "    <tr>\n",
       "      <th>2020-10-15 10:50:00</th>\n",
       "      <td>1.07</td>\n",
       "    </tr>\n",
       "  </tbody>\n",
       "</table>\n",
       "</div>"
      ],
      "text/plain": [
       "                    광진교_수위\n",
       "날짜                        \n",
       "2020-10-15 10:30:00   1.07\n",
       "2020-10-15 10:40:00   1.07\n",
       "2020-10-15 10:50:00   1.07"
      ]
     },
     "execution_count": 1035,
     "metadata": {},
     "output_type": "execute_result"
    }
   ],
   "source": [
    "# 보간\n",
    "\n",
    "광진_보간.iloc[1]=1.07\n",
    "광진_보간   # 보간 결과 확인"
   ]
  },
  {
   "cell_type": "code",
   "execution_count": 1036,
   "id": "d67603fd",
   "metadata": {
    "colab": {
     "base_uri": "https://localhost:8080/"
    },
    "executionInfo": {
     "elapsed": 94,
     "status": "ok",
     "timestamp": 1660743839778,
     "user": {
      "displayName": "이예림(상경대학 응용통계학과)",
      "userId": "02944141114007762965"
     },
     "user_tz": -540
    },
    "id": "eeQuJ8GYfv4m",
    "outputId": "e6306177-a229-4704-90bc-46cbd35d38fe"
   },
   "outputs": [
    {
     "data": {
      "text/plain": [
       "광진교_수위    0\n",
       "dtype: int64"
      ]
     },
     "execution_count": 1036,
     "metadata": {},
     "output_type": "execute_result"
    }
   ],
   "source": [
    "광진_보간.isnull().sum()"
   ]
  },
  {
   "cell_type": "code",
   "execution_count": 1037,
   "id": "97a83d43",
   "metadata": {
    "colab": {
     "base_uri": "https://localhost:8080/"
    },
    "executionInfo": {
     "elapsed": 71,
     "status": "ok",
     "timestamp": 1660743839779,
     "user": {
      "displayName": "이예림(상경대학 응용통계학과)",
      "userId": "02944141114007762965"
     },
     "user_tz": -540
    },
    "id": "Nb9VtE6YXsLz",
    "outputId": "e2685d76-bd81-4d7f-d4ee-c4d2b1ed1b4e"
   },
   "outputs": [
    {
     "data": {
      "text/plain": [
       "광진교_수위    True\n",
       "dtype: bool"
      ]
     },
     "execution_count": 1037,
     "metadata": {},
     "output_type": "execute_result"
    }
   ],
   "source": [
    "광진 = 광진.set_index('날짜')\n",
    "광진.loc[광진_보간.index] = 광진_보간\n",
    "광진.isnull().sum() == len(index_sarima)   # 남은 결측치 개수가 SARIMA로 채워야 할 결측치 개수(len(index_sarima))와 같은지 확인"
   ]
  },
  {
   "cell_type": "markdown",
   "id": "d8cb7517",
   "metadata": {
    "id": "dK89voI3c8Q0"
   },
   "source": [
    "## 2. 연속적 결측값 처리 by SARIMA"
   ]
  },
  {
   "cell_type": "code",
   "execution_count": 1038,
   "id": "b39838ca",
   "metadata": {
    "colab": {
     "base_uri": "https://localhost:8080/",
     "height": 636
    },
    "executionInfo": {
     "elapsed": 21555,
     "status": "ok",
     "timestamp": 1660743861266,
     "user": {
      "displayName": "이예림(상경대학 응용통계학과)",
      "userId": "02944141114007762965"
     },
     "user_tz": -540
    },
    "id": "-uugY5hBTMTa",
    "outputId": "931c6453-6c54-4bce-c91a-90a599ab57d7"
   },
   "outputs": [],
   "source": [
    "#!pip install pmdarima"
   ]
  },
  {
   "cell_type": "code",
   "execution_count": 1039,
   "id": "303b7707",
   "metadata": {
    "executionInfo": {
     "elapsed": 1552,
     "status": "ok",
     "timestamp": 1660743862779,
     "user": {
      "displayName": "이예림(상경대학 응용통계학과)",
      "userId": "02944141114007762965"
     },
     "user_tz": -540
    },
    "id": "BxiLQENsdZvT"
   },
   "outputs": [],
   "source": [
    "from statsmodels.tsa.statespace.sarimax import SARIMAX\n",
    "import pmdarima as pm"
   ]
  },
  {
   "cell_type": "code",
   "execution_count": 1040,
   "id": "8c10a82e",
   "metadata": {
    "colab": {
     "base_uri": "https://localhost:8080/"
    },
    "executionInfo": {
     "elapsed": 202,
     "status": "ok",
     "timestamp": 1660743862783,
     "user": {
      "displayName": "이예림(상경대학 응용통계학과)",
      "userId": "02944141114007762965"
     },
     "user_tz": -540
    },
    "id": "zSu62iX5Ta7f",
    "outputId": "ae70a0f4-a900-4c77-d110-f8018942180f"
   },
   "outputs": [
    {
     "data": {
      "text/plain": [
       "140613"
      ]
     },
     "execution_count": 1040,
     "metadata": {},
     "output_type": "execute_result"
    }
   ],
   "source": [
    "index_sarima[0]"
   ]
  },
  {
   "cell_type": "code",
   "execution_count": 1041,
   "id": "272bff29",
   "metadata": {
    "colab": {
     "base_uri": "https://localhost:8080/"
    },
    "executionInfo": {
     "elapsed": 283,
     "status": "ok",
     "timestamp": 1660743862881,
     "user": {
      "displayName": "이예림(상경대학 응용통계학과)",
      "userId": "02944141114007762965"
     },
     "user_tz": -540
    },
    "id": "8bN42uONUfY9",
    "outputId": "9ba9b11d-90d1-4d51-dbff-057d740b6556"
   },
   "outputs": [
    {
     "name": "stdout",
     "output_type": "stream",
     "text": [
      "[[140613, 140614, 140615, 140616, 140617, 140618, 140619, 140620, 140621, 140622, 140623, 140624, 140625, 140626, 140627, 140628, 140629, 140630, 140631, 140632, 140633, 140634, 140635, 140636, 140637, 140638, 140639, 140640, 140641, 140642, 140643, 140644, 140645, 140646, 140647, 140648, 140649, 140650, 140651, 140652, 140653, 140654, 140655, 140656, 140657, 140658, 140659, 140660, 140661, 140662, 140663, 140664, 140665, 140666, 140667, 140668, 140669, 140670]]\n"
     ]
    }
   ],
   "source": [
    "# 연속된 구간별로 분리\n",
    "\n",
    "i = 0\n",
    "temp = []\n",
    "total = []\n",
    "\n",
    "while i>=0:\n",
    "  try:\n",
    "    if index_sarima[i+2]==index_sarima[i+1]+1==index_sarima[i]+2:\n",
    "      temp.append(index_sarima[i])\n",
    "      i += 1\n",
    "    elif index_sarima[i+2]!=index_sarima[i+1]+1==index_sarima[i]+2:\n",
    "      temp.extend([index_sarima[i], index_sarima[i+1]])\n",
    "      #print(temp)\n",
    "      total.append(temp)\n",
    "      temp = []\n",
    "      i += 2\n",
    "  except:\n",
    "    break\n",
    "\n",
    "# 예외 처리\n",
    "#temp = index_sarima[-2:]\n",
    "#print(temp)\n",
    "total.append(temp)\n",
    "total[len(total)-1].append(index_sarima[-2:][0])\n",
    "total[len(total)-1].append(index_sarima[-2:][1])\n",
    "print(total)"
   ]
  },
  {
   "cell_type": "code",
   "execution_count": 1042,
   "id": "911cb626",
   "metadata": {
    "colab": {
     "base_uri": "https://localhost:8080/"
    },
    "executionInfo": {
     "elapsed": 292,
     "status": "ok",
     "timestamp": 1660743862962,
     "user": {
      "displayName": "이예림(상경대학 응용통계학과)",
      "userId": "02944141114007762965"
     },
     "user_tz": -540
    },
    "id": "r6E66IVMXyg3",
    "outputId": "d28cd1a6-573d-4b29-8979-8c2d879095e2",
    "scrolled": true
   },
   "outputs": [
    {
     "data": {
      "text/plain": [
       "True"
      ]
     },
     "execution_count": 1042,
     "metadata": {},
     "output_type": "execute_result"
    }
   ],
   "source": [
    "sum(total, []) == index_sarima   # 분리가 잘 이루어졌는지 확인"
   ]
  },
  {
   "cell_type": "code",
   "execution_count": 1043,
   "id": "da30cfac",
   "metadata": {},
   "outputs": [
    {
     "data": {
      "text/plain": [
       "1"
      ]
     },
     "execution_count": 1043,
     "metadata": {},
     "output_type": "execute_result"
    }
   ],
   "source": [
    "len(total) #결측치 처리해야 하는 구간의 수"
   ]
  },
  {
   "cell_type": "code",
   "execution_count": 1044,
   "id": "d6747289",
   "metadata": {
    "colab": {
     "base_uri": "https://localhost:8080/"
    },
    "executionInfo": {
     "elapsed": 6204453,
     "status": "ok",
     "timestamp": 1660750114017,
     "user": {
      "displayName": "이예림(상경대학 응용통계학과)",
      "userId": "02944141114007762965"
     },
     "user_tz": -540
    },
    "id": "_HQ9SccJYZif",
    "outputId": "075320ea-d158-4e10-9cdc-e83f87732872",
    "scrolled": true
   },
   "outputs": [],
   "source": [
    "# 전체 다 1일, 즉 직전 144개의 row를 반영하여 결측치 처리\n",
    "\n",
    "for range in total:\n",
    "  start = range[0]\n",
    "  model = pm.auto_arima(광진[start-72:start], seasonal=True)\n",
    "  광진.iloc[range, 0] = model.predict(len(range))\n",
    "  #print(f'{total.index(range)+1}번째 구간 결측치 처리 완료')"
   ]
  },
  {
   "cell_type": "code",
   "execution_count": 1045,
   "id": "ec19114f",
   "metadata": {
    "colab": {
     "base_uri": "https://localhost:8080/"
    },
    "executionInfo": {
     "elapsed": 84,
     "status": "ok",
     "timestamp": 1660750114020,
     "user": {
      "displayName": "이예림(상경대학 응용통계학과)",
      "userId": "02944141114007762965"
     },
     "user_tz": -540
    },
    "id": "fLkpB1I5bSZu",
    "outputId": "39baa2da-b52e-485c-9c47-103c9755c247"
   },
   "outputs": [
    {
     "data": {
      "text/plain": [
       "광진교_수위    0\n",
       "dtype: int64"
      ]
     },
     "execution_count": 1045,
     "metadata": {},
     "output_type": "execute_result"
    }
   ],
   "source": [
    "# 결측치가 모두 처리되었는지 확인\n",
    "\n",
    "광진.isnull().sum()"
   ]
  },
  {
   "cell_type": "code",
   "execution_count": 1046,
   "id": "169b0b55",
   "metadata": {
    "colab": {
     "base_uri": "https://localhost:8080/",
     "height": 265
    },
    "executionInfo": {
     "elapsed": 964,
     "status": "ok",
     "timestamp": 1660750930556,
     "user": {
      "displayName": "이예림(상경대학 응용통계학과)",
      "userId": "02944141114007762965"
     },
     "user_tz": -540
    },
    "id": "LrPrN4VIbX4u",
    "outputId": "b288020c-e222-4519-ec78-8461c318fde4"
   },
   "outputs": [
    {
     "data": {
      "image/png": "[encoded data removed]",
      "text/plain": [
       "<Figure size 432x288 with 1 Axes>"
      ]
     },
     "metadata": {
      "needs_background": "light"
     },
     "output_type": "display_data"
    }
   ],
   "source": [
    "# 결측치 처리 형태 확인 (인덱스 번째 구간)\n",
    "\n",
    "plt.plot(range, 광진.iloc[range, 0])\n",
    "plt.show()"
   ]
  },
  {
   "cell_type": "code",
   "execution_count": 1059,
   "id": "98138a45",
   "metadata": {},
   "outputs": [
    {
     "data": {
      "text/html": [
       "<div>\n",
       "<style scoped>\n",
       "    .dataframe tbody tr th:only-of-type {\n",
       "        vertical-align: middle;\n",
       "    }\n",
       "\n",
       "    .dataframe tbody tr th {\n",
       "        vertical-align: top;\n",
       "    }\n",
       "\n",
       "    .dataframe thead th {\n",
       "        text-align: right;\n",
       "    }\n",
       "</style>\n",
       "<table border=\"1\" class=\"dataframe\">\n",
       "  <thead>\n",
       "    <tr style=\"text-align: right;\">\n",
       "      <th></th>\n",
       "      <th>광진교_수위</th>\n",
       "    </tr>\n",
       "    <tr>\n",
       "      <th>날짜</th>\n",
       "      <th></th>\n",
       "    </tr>\n",
       "  </thead>\n",
       "  <tbody>\n",
       "    <tr>\n",
       "      <th>2012-05-01 00:00:00</th>\n",
       "      <td>1.2</td>\n",
       "    </tr>\n",
       "    <tr>\n",
       "      <th>2012-05-01 00:10:00</th>\n",
       "      <td>1.2</td>\n",
       "    </tr>\n",
       "    <tr>\n",
       "      <th>2012-05-01 00:20:00</th>\n",
       "      <td>1.2</td>\n",
       "    </tr>\n",
       "    <tr>\n",
       "      <th>2012-05-01 00:30:00</th>\n",
       "      <td>1.2</td>\n",
       "    </tr>\n",
       "    <tr>\n",
       "      <th>2012-05-01 00:40:00</th>\n",
       "      <td>1.2</td>\n",
       "    </tr>\n",
       "    <tr>\n",
       "      <th>...</th>\n",
       "      <td>...</td>\n",
       "    </tr>\n",
       "    <tr>\n",
       "      <th>2022-07-18 23:10:00</th>\n",
       "      <td>1.12</td>\n",
       "    </tr>\n",
       "    <tr>\n",
       "      <th>2022-07-18 23:20:00</th>\n",
       "      <td>1.12</td>\n",
       "    </tr>\n",
       "    <tr>\n",
       "      <th>2022-07-18 23:30:00</th>\n",
       "      <td>1.12</td>\n",
       "    </tr>\n",
       "    <tr>\n",
       "      <th>2022-07-18 23:40:00</th>\n",
       "      <td>1.12</td>\n",
       "    </tr>\n",
       "    <tr>\n",
       "      <th>2022-07-18 23:50:00</th>\n",
       "      <td>1.12</td>\n",
       "    </tr>\n",
       "  </tbody>\n",
       "</table>\n",
       "<p>276336 rows × 1 columns</p>\n",
       "</div>"
      ],
      "text/plain": [
       "                    광진교_수위\n",
       "날짜                        \n",
       "2012-05-01 00:00:00    1.2\n",
       "2012-05-01 00:10:00    1.2\n",
       "2012-05-01 00:20:00    1.2\n",
       "2012-05-01 00:30:00    1.2\n",
       "2012-05-01 00:40:00    1.2\n",
       "...                    ...\n",
       "2022-07-18 23:10:00   1.12\n",
       "2022-07-18 23:20:00   1.12\n",
       "2022-07-18 23:30:00   1.12\n",
       "2022-07-18 23:40:00   1.12\n",
       "2022-07-18 23:50:00   1.12\n",
       "\n",
       "[276336 rows x 1 columns]"
      ]
     },
     "execution_count": 1059,
     "metadata": {},
     "output_type": "execute_result"
    }
   ],
   "source": [
    "광진 = 광진.reset_index()\n",
    "광진.날짜 = pd.to_datetime(광진.날짜)\n",
    "광진 = 광진.set_index('날짜')\n",
    "광진"
   ]
  },
  {
   "cell_type": "code",
   "execution_count": null,
   "id": "7902781a",
   "metadata": {},
   "outputs": [],
   "source": []
  },
  {
   "cell_type": "code",
   "execution_count": 1062,
   "id": "39253ffe",
   "metadata": {},
   "outputs": [
    {
     "data": {
      "text/html": [
       "<div>\n",
       "<style scoped>\n",
       "    .dataframe tbody tr th:only-of-type {\n",
       "        vertical-align: middle;\n",
       "    }\n",
       "\n",
       "    .dataframe tbody tr th {\n",
       "        vertical-align: top;\n",
       "    }\n",
       "\n",
       "    .dataframe thead th {\n",
       "        text-align: right;\n",
       "    }\n",
       "</style>\n",
       "<table border=\"1\" class=\"dataframe\">\n",
       "  <thead>\n",
       "    <tr style=\"text-align: right;\">\n",
       "      <th></th>\n",
       "      <th>강수량(mm)</th>\n",
       "    </tr>\n",
       "    <tr>\n",
       "      <th>날짜</th>\n",
       "      <th></th>\n",
       "    </tr>\n",
       "  </thead>\n",
       "  <tbody>\n",
       "    <tr>\n",
       "      <th>2012-05-01 00:00:00</th>\n",
       "      <td>0.0</td>\n",
       "    </tr>\n",
       "    <tr>\n",
       "      <th>2012-05-01 00:10:00</th>\n",
       "      <td>0.0</td>\n",
       "    </tr>\n",
       "    <tr>\n",
       "      <th>2012-05-01 00:20:00</th>\n",
       "      <td>0.0</td>\n",
       "    </tr>\n",
       "    <tr>\n",
       "      <th>2012-05-01 00:30:00</th>\n",
       "      <td>0.0</td>\n",
       "    </tr>\n",
       "    <tr>\n",
       "      <th>2012-05-01 00:40:00</th>\n",
       "      <td>0.0</td>\n",
       "    </tr>\n",
       "    <tr>\n",
       "      <th>...</th>\n",
       "      <td>...</td>\n",
       "    </tr>\n",
       "    <tr>\n",
       "      <th>2022-07-18 23:10:00</th>\n",
       "      <td>0.0</td>\n",
       "    </tr>\n",
       "    <tr>\n",
       "      <th>2022-07-18 23:20:00</th>\n",
       "      <td>0.0</td>\n",
       "    </tr>\n",
       "    <tr>\n",
       "      <th>2022-07-18 23:30:00</th>\n",
       "      <td>0.0</td>\n",
       "    </tr>\n",
       "    <tr>\n",
       "      <th>2022-07-18 23:40:00</th>\n",
       "      <td>0.0</td>\n",
       "    </tr>\n",
       "    <tr>\n",
       "      <th>2022-07-18 23:50:00</th>\n",
       "      <td>0.0</td>\n",
       "    </tr>\n",
       "  </tbody>\n",
       "</table>\n",
       "<p>276336 rows × 1 columns</p>\n",
       "</div>"
      ],
      "text/plain": [
       "                     강수량(mm)\n",
       "날짜                          \n",
       "2012-05-01 00:00:00      0.0\n",
       "2012-05-01 00:10:00      0.0\n",
       "2012-05-01 00:20:00      0.0\n",
       "2012-05-01 00:30:00      0.0\n",
       "2012-05-01 00:40:00      0.0\n",
       "...                      ...\n",
       "2022-07-18 23:10:00      0.0\n",
       "2022-07-18 23:20:00      0.0\n",
       "2022-07-18 23:30:00      0.0\n",
       "2022-07-18 23:40:00      0.0\n",
       "2022-07-18 23:50:00      0.0\n",
       "\n",
       "[276336 rows x 1 columns]"
      ]
     },
     "execution_count": 1062,
     "metadata": {},
     "output_type": "execute_result"
    }
   ],
   "source": [
    "서울시강수량 = pd.read_csv('data/외부데이터/서울시강수량.csv', usecols=[1])\n",
    "서울시강수량 = pd.concat([data['날짜'], 서울시강수량], axis = 1)\n",
    "서울시강수량.날짜 = pd.to_datetime(서울시강수량.날짜)\n",
    "서울시강수량 = 서울시강수량.set_index('날짜')\n",
    "서울시강수량"
   ]
  },
  {
   "cell_type": "code",
   "execution_count": 1103,
   "id": "16939245",
   "metadata": {},
   "outputs": [
    {
     "data": {
      "text/html": [
       "<div>\n",
       "<style scoped>\n",
       "    .dataframe tbody tr th:only-of-type {\n",
       "        vertical-align: middle;\n",
       "    }\n",
       "\n",
       "    .dataframe tbody tr th {\n",
       "        vertical-align: top;\n",
       "    }\n",
       "\n",
       "    .dataframe thead th {\n",
       "        text-align: right;\n",
       "    }\n",
       "</style>\n",
       "<table border=\"1\" class=\"dataframe\">\n",
       "  <thead>\n",
       "    <tr style=\"text-align: right;\">\n",
       "      <th></th>\n",
       "      <th>날짜</th>\n",
       "      <th>강수량(mm)</th>\n",
       "      <th>방류량</th>\n",
       "      <th>강화대교_조위</th>\n",
       "      <th>청담대교_유량</th>\n",
       "      <th>한강대교_유량</th>\n",
       "      <th>행주대교_유량</th>\n",
       "      <th>청담대교_수위</th>\n",
       "      <th>잠수교_수위</th>\n",
       "      <th>한강대교_수위</th>\n",
       "      <th>행주대교_수위</th>\n",
       "      <th>광진교_수위</th>\n",
       "    </tr>\n",
       "  </thead>\n",
       "  <tbody>\n",
       "    <tr>\n",
       "      <th>0</th>\n",
       "      <td>2012-05-01 00:00:00</td>\n",
       "      <td>0.0</td>\n",
       "      <td>555.00</td>\n",
       "      <td>445.0</td>\n",
       "      <td>469.05</td>\n",
       "      <td>729.80</td>\n",
       "      <td>540.18</td>\n",
       "      <td>310.7</td>\n",
       "      <td>300.2</td>\n",
       "      <td>290.0</td>\n",
       "      <td>275.3</td>\n",
       "      <td>1.2</td>\n",
       "    </tr>\n",
       "    <tr>\n",
       "      <th>1</th>\n",
       "      <td>2012-05-01 00:10:00</td>\n",
       "      <td>0.0</td>\n",
       "      <td>562.90</td>\n",
       "      <td>449.0</td>\n",
       "      <td>498.00</td>\n",
       "      <td>731.48</td>\n",
       "      <td>540.18</td>\n",
       "      <td>314.7</td>\n",
       "      <td>300.2</td>\n",
       "      <td>290.0</td>\n",
       "      <td>275.3</td>\n",
       "      <td>1.2</td>\n",
       "    </tr>\n",
       "    <tr>\n",
       "      <th>2</th>\n",
       "      <td>2012-05-01 00:20:00</td>\n",
       "      <td>0.0</td>\n",
       "      <td>576.40</td>\n",
       "      <td>451.0</td>\n",
       "      <td>490.68</td>\n",
       "      <td>726.42</td>\n",
       "      <td>540.18</td>\n",
       "      <td>313.7</td>\n",
       "      <td>301.2</td>\n",
       "      <td>290.0</td>\n",
       "      <td>275.3</td>\n",
       "      <td>1.2</td>\n",
       "    </tr>\n",
       "    <tr>\n",
       "      <th>3</th>\n",
       "      <td>2012-05-01 00:30:00</td>\n",
       "      <td>0.0</td>\n",
       "      <td>563.10</td>\n",
       "      <td>452.0</td>\n",
       "      <td>476.21</td>\n",
       "      <td>726.42</td>\n",
       "      <td>552.17</td>\n",
       "      <td>311.7</td>\n",
       "      <td>301.2</td>\n",
       "      <td>290.0</td>\n",
       "      <td>276.3</td>\n",
       "      <td>1.2</td>\n",
       "    </tr>\n",
       "    <tr>\n",
       "      <th>4</th>\n",
       "      <td>2012-05-01 00:40:00</td>\n",
       "      <td>0.0</td>\n",
       "      <td>576.40</td>\n",
       "      <td>450.0</td>\n",
       "      <td>476.21</td>\n",
       "      <td>707.17</td>\n",
       "      <td>564.29</td>\n",
       "      <td>311.7</td>\n",
       "      <td>301.2</td>\n",
       "      <td>291.0</td>\n",
       "      <td>277.3</td>\n",
       "      <td>1.2</td>\n",
       "    </tr>\n",
       "    <tr>\n",
       "      <th>...</th>\n",
       "      <td>...</td>\n",
       "      <td>...</td>\n",
       "      <td>...</td>\n",
       "      <td>...</td>\n",
       "      <td>...</td>\n",
       "      <td>...</td>\n",
       "      <td>...</td>\n",
       "      <td>...</td>\n",
       "      <td>...</td>\n",
       "      <td>...</td>\n",
       "      <td>...</td>\n",
       "      <td>...</td>\n",
       "    </tr>\n",
       "    <tr>\n",
       "      <th>276331</th>\n",
       "      <td>2022-07-18 23:10:00</td>\n",
       "      <td>0.0</td>\n",
       "      <td>259.23</td>\n",
       "      <td>510.0</td>\n",
       "      <td>319.84</td>\n",
       "      <td>-456.41</td>\n",
       "      <td>974.40</td>\n",
       "      <td>0.0</td>\n",
       "      <td>0.0</td>\n",
       "      <td>0.0</td>\n",
       "      <td>0.0</td>\n",
       "      <td>1.12</td>\n",
       "    </tr>\n",
       "    <tr>\n",
       "      <th>276332</th>\n",
       "      <td>2022-07-18 23:20:00</td>\n",
       "      <td>0.0</td>\n",
       "      <td>260.46</td>\n",
       "      <td>492.0</td>\n",
       "      <td>314.01</td>\n",
       "      <td>-717.30</td>\n",
       "      <td>1006.88</td>\n",
       "      <td>0.0</td>\n",
       "      <td>0.0</td>\n",
       "      <td>0.0</td>\n",
       "      <td>0.0</td>\n",
       "      <td>1.12</td>\n",
       "    </tr>\n",
       "    <tr>\n",
       "      <th>276333</th>\n",
       "      <td>2022-07-18 23:30:00</td>\n",
       "      <td>0.0</td>\n",
       "      <td>259.37</td>\n",
       "      <td>475.0</td>\n",
       "      <td>387.55</td>\n",
       "      <td>-843.37</td>\n",
       "      <td>1039.90</td>\n",
       "      <td>0.0</td>\n",
       "      <td>0.0</td>\n",
       "      <td>0.0</td>\n",
       "      <td>0.0</td>\n",
       "      <td>1.12</td>\n",
       "    </tr>\n",
       "    <tr>\n",
       "      <th>276334</th>\n",
       "      <td>2022-07-18 23:40:00</td>\n",
       "      <td>0.0</td>\n",
       "      <td>259.13</td>\n",
       "      <td>458.0</td>\n",
       "      <td>454.91</td>\n",
       "      <td>-1023.37</td>\n",
       "      <td>1073.46</td>\n",
       "      <td>0.0</td>\n",
       "      <td>0.0</td>\n",
       "      <td>0.0</td>\n",
       "      <td>0.0</td>\n",
       "      <td>1.12</td>\n",
       "    </tr>\n",
       "    <tr>\n",
       "      <th>276335</th>\n",
       "      <td>2022-07-18 23:50:00</td>\n",
       "      <td>0.0</td>\n",
       "      <td>258.16</td>\n",
       "      <td>442.0</td>\n",
       "      <td>582.21</td>\n",
       "      <td>-1049.44</td>\n",
       "      <td>1090.45</td>\n",
       "      <td>0.0</td>\n",
       "      <td>0.0</td>\n",
       "      <td>0.0</td>\n",
       "      <td>0.0</td>\n",
       "      <td>1.12</td>\n",
       "    </tr>\n",
       "  </tbody>\n",
       "</table>\n",
       "<p>276336 rows × 12 columns</p>\n",
       "</div>"
      ],
      "text/plain": [
       "                        날짜  강수량(mm)     방류량  강화대교_조위  청담대교_유량  한강대교_유량  \\\n",
       "0      2012-05-01 00:00:00      0.0  555.00    445.0   469.05   729.80   \n",
       "1      2012-05-01 00:10:00      0.0  562.90    449.0   498.00   731.48   \n",
       "2      2012-05-01 00:20:00      0.0  576.40    451.0   490.68   726.42   \n",
       "3      2012-05-01 00:30:00      0.0  563.10    452.0   476.21   726.42   \n",
       "4      2012-05-01 00:40:00      0.0  576.40    450.0   476.21   707.17   \n",
       "...                    ...      ...     ...      ...      ...      ...   \n",
       "276331 2022-07-18 23:10:00      0.0  259.23    510.0   319.84  -456.41   \n",
       "276332 2022-07-18 23:20:00      0.0  260.46    492.0   314.01  -717.30   \n",
       "276333 2022-07-18 23:30:00      0.0  259.37    475.0   387.55  -843.37   \n",
       "276334 2022-07-18 23:40:00      0.0  259.13    458.0   454.91 -1023.37   \n",
       "276335 2022-07-18 23:50:00      0.0  258.16    442.0   582.21 -1049.44   \n",
       "\n",
       "        행주대교_유량  청담대교_수위  잠수교_수위  한강대교_수위  행주대교_수위 광진교_수위  \n",
       "0        540.18    310.7   300.2    290.0    275.3    1.2  \n",
       "1        540.18    314.7   300.2    290.0    275.3    1.2  \n",
       "2        540.18    313.7   301.2    290.0    275.3    1.2  \n",
       "3        552.17    311.7   301.2    290.0    276.3    1.2  \n",
       "4        564.29    311.7   301.2    291.0    277.3    1.2  \n",
       "...         ...      ...     ...      ...      ...    ...  \n",
       "276331   974.40      0.0     0.0      0.0      0.0   1.12  \n",
       "276332  1006.88      0.0     0.0      0.0      0.0   1.12  \n",
       "276333  1039.90      0.0     0.0      0.0      0.0   1.12  \n",
       "276334  1073.46      0.0     0.0      0.0      0.0   1.12  \n",
       "276335  1090.45      0.0     0.0      0.0      0.0   1.12  \n",
       "\n",
       "[276336 rows x 12 columns]"
      ]
     },
     "execution_count": 1103,
     "metadata": {},
     "output_type": "execute_result"
    }
   ],
   "source": [
    "data = pd.read_csv('data/rawdata.csv')\n",
    "data.날짜 = pd.to_datetime(data.날짜)\n",
    "data2 = data.set_index('날짜')\n",
    "rawdata_arima = pd.concat([서울시강수량,bangryu,gangwha,chungdam,hangang,haengju,청담,잠수,한강,행주,광진], ignore_index = True, axis = 1)\n",
    "rawdata_arima.columns = ['강수량(mm)','방류량','강화대교_조위','청담대교_유량','한강대교_유량','행주대교_유량','청담대교_수위','잠수교_수위','한강대교_수위','행주대교_수위','광진교_수위']\n",
    "rawdata_arima = rawdata_arima.reset_index()\n",
    "rawdata_arima"
   ]
  },
  {
   "cell_type": "code",
   "execution_count": 1104,
   "id": "27d47151",
   "metadata": {},
   "outputs": [
    {
     "data": {
      "text/plain": [
       "날짜         0\n",
       "강수량(mm)    0\n",
       "방류량        0\n",
       "강화대교_조위    0\n",
       "청담대교_유량    0\n",
       "한강대교_유량    0\n",
       "행주대교_유량    0\n",
       "청담대교_수위    0\n",
       "잠수교_수위     0\n",
       "한강대교_수위    0\n",
       "행주대교_수위    0\n",
       "광진교_수위     0\n",
       "dtype: int64"
      ]
     },
     "execution_count": 1104,
     "metadata": {},
     "output_type": "execute_result"
    }
   ],
   "source": [
    "rawdata_arima.isnull().sum()"
   ]
  },
  {
   "cell_type": "code",
   "execution_count": 1105,
   "id": "a02b0569",
   "metadata": {},
   "outputs": [],
   "source": [
    "rawdata_arima.to_csv('data/rawdata_arima.csv', encoding = 'cp949')"
   ]
  },
  {
   "cell_type": "code",
   "execution_count": null,
   "id": "5ce4714d",
   "metadata": {},
   "outputs": [],
   "source": []
  },
  {
   "cell_type": "code",
   "execution_count": 1116,
   "id": "a0093531",
   "metadata": {},
   "outputs": [
    {
     "data": {
      "text/html": [
       "<div>\n",
       "<style scoped>\n",
       "    .dataframe tbody tr th:only-of-type {\n",
       "        vertical-align: middle;\n",
       "    }\n",
       "\n",
       "    .dataframe tbody tr th {\n",
       "        vertical-align: top;\n",
       "    }\n",
       "\n",
       "    .dataframe thead th {\n",
       "        text-align: right;\n",
       "    }\n",
       "</style>\n",
       "<table border=\"1\" class=\"dataframe\">\n",
       "  <thead>\n",
       "    <tr style=\"text-align: right;\">\n",
       "      <th></th>\n",
       "      <th>날짜</th>\n",
       "      <th>청담대교_수위</th>\n",
       "      <th>잠수교_수위</th>\n",
       "      <th>한강대교_수위</th>\n",
       "      <th>행주대교_수위</th>\n",
       "    </tr>\n",
       "  </thead>\n",
       "  <tbody>\n",
       "    <tr>\n",
       "      <th>0</th>\n",
       "      <td>2022-06-01 00:00:00</td>\n",
       "      <td>279.0</td>\n",
       "      <td>276.0</td>\n",
       "      <td>274.0</td>\n",
       "      <td>269.0</td>\n",
       "    </tr>\n",
       "    <tr>\n",
       "      <th>1</th>\n",
       "      <td>2022-06-01 00:10:00</td>\n",
       "      <td>281.0</td>\n",
       "      <td>277.0</td>\n",
       "      <td>274.0</td>\n",
       "      <td>267.0</td>\n",
       "    </tr>\n",
       "    <tr>\n",
       "      <th>2</th>\n",
       "      <td>2022-06-01 00:20:00</td>\n",
       "      <td>284.0</td>\n",
       "      <td>277.0</td>\n",
       "      <td>274.0</td>\n",
       "      <td>264.0</td>\n",
       "    </tr>\n",
       "    <tr>\n",
       "      <th>3</th>\n",
       "      <td>2022-06-01 00:30:00</td>\n",
       "      <td>285.0</td>\n",
       "      <td>277.0</td>\n",
       "      <td>274.0</td>\n",
       "      <td>261.0</td>\n",
       "    </tr>\n",
       "    <tr>\n",
       "      <th>4</th>\n",
       "      <td>2022-06-01 00:40:00</td>\n",
       "      <td>284.0</td>\n",
       "      <td>278.0</td>\n",
       "      <td>274.0</td>\n",
       "      <td>259.0</td>\n",
       "    </tr>\n",
       "    <tr>\n",
       "      <th>...</th>\n",
       "      <td>...</td>\n",
       "      <td>...</td>\n",
       "      <td>...</td>\n",
       "      <td>...</td>\n",
       "      <td>...</td>\n",
       "    </tr>\n",
       "    <tr>\n",
       "      <th>6907</th>\n",
       "      <td>2022-07-18 23:10:00</td>\n",
       "      <td>288.0</td>\n",
       "      <td>295.0</td>\n",
       "      <td>299.0</td>\n",
       "      <td>306.0</td>\n",
       "    </tr>\n",
       "    <tr>\n",
       "      <th>6908</th>\n",
       "      <td>2022-07-18 23:20:00</td>\n",
       "      <td>287.0</td>\n",
       "      <td>303.0</td>\n",
       "      <td>304.0</td>\n",
       "      <td>308.0</td>\n",
       "    </tr>\n",
       "    <tr>\n",
       "      <th>6909</th>\n",
       "      <td>2022-07-18 23:30:00</td>\n",
       "      <td>299.0</td>\n",
       "      <td>307.0</td>\n",
       "      <td>309.0</td>\n",
       "      <td>310.0</td>\n",
       "    </tr>\n",
       "    <tr>\n",
       "      <th>6910</th>\n",
       "      <td>2022-07-18 23:40:00</td>\n",
       "      <td>309.0</td>\n",
       "      <td>311.0</td>\n",
       "      <td>314.0</td>\n",
       "      <td>312.0</td>\n",
       "    </tr>\n",
       "    <tr>\n",
       "      <th>6911</th>\n",
       "      <td>2022-07-18 23:50:00</td>\n",
       "      <td>326.0</td>\n",
       "      <td>314.0</td>\n",
       "      <td>317.0</td>\n",
       "      <td>313.0</td>\n",
       "    </tr>\n",
       "  </tbody>\n",
       "</table>\n",
       "<p>6912 rows × 5 columns</p>\n",
       "</div>"
      ],
      "text/plain": [
       "                      날짜  청담대교_수위  잠수교_수위  한강대교_수위  행주대교_수위\n",
       "0    2022-06-01 00:00:00    279.0   276.0    274.0    269.0\n",
       "1    2022-06-01 00:10:00    281.0   277.0    274.0    267.0\n",
       "2    2022-06-01 00:20:00    284.0   277.0    274.0    264.0\n",
       "3    2022-06-01 00:30:00    285.0   277.0    274.0    261.0\n",
       "4    2022-06-01 00:40:00    284.0   278.0    274.0    259.0\n",
       "...                  ...      ...     ...      ...      ...\n",
       "6907 2022-07-18 23:10:00    288.0   295.0    299.0    306.0\n",
       "6908 2022-07-18 23:20:00    287.0   303.0    304.0    308.0\n",
       "6909 2022-07-18 23:30:00    299.0   307.0    309.0    310.0\n",
       "6910 2022-07-18 23:40:00    309.0   311.0    314.0    312.0\n",
       "6911 2022-07-18 23:50:00    326.0   314.0    317.0    313.0\n",
       "\n",
       "[6912 rows x 5 columns]"
      ]
     },
     "execution_count": 1116,
     "metadata": {},
     "output_type": "execute_result"
    }
   ],
   "source": [
    "수위 = pd.read_csv('data/외부데이터/y_test.csv', encoding = 'cp949')\n",
    "수위.날짜 = pd.to_datetime(수위.날짜)\n",
    "수위['청담대교_수위'] = 수위['청담대교_수위'] * 100\n",
    "수위['잠수교_수위'] = 수위['잠수교_수위'] * 100\n",
    "수위['한강대교_수위'] = 수위['한강대교_수위'] * 100\n",
    "수위['행주대교_수위'] = 수위['행주대교_수위'] * 100\n",
    "수위"
   ]
  },
  {
   "cell_type": "code",
   "execution_count": 1118,
   "id": "9f4099ae",
   "metadata": {},
   "outputs": [
    {
     "data": {
      "text/html": [
       "<div>\n",
       "<style scoped>\n",
       "    .dataframe tbody tr th:only-of-type {\n",
       "        vertical-align: middle;\n",
       "    }\n",
       "\n",
       "    .dataframe tbody tr th {\n",
       "        vertical-align: top;\n",
       "    }\n",
       "\n",
       "    .dataframe thead th {\n",
       "        text-align: right;\n",
       "    }\n",
       "</style>\n",
       "<table border=\"1\" class=\"dataframe\">\n",
       "  <thead>\n",
       "    <tr style=\"text-align: right;\">\n",
       "      <th></th>\n",
       "      <th>날짜</th>\n",
       "      <th>청담대교_수위</th>\n",
       "      <th>잠수교_수위</th>\n",
       "      <th>한강대교_수위</th>\n",
       "      <th>행주대교_수위</th>\n",
       "    </tr>\n",
       "  </thead>\n",
       "  <tbody>\n",
       "    <tr>\n",
       "      <th>0</th>\n",
       "      <td>2012-05-01 00:00:00</td>\n",
       "      <td>310.7</td>\n",
       "      <td>300.2</td>\n",
       "      <td>290.0</td>\n",
       "      <td>275.3</td>\n",
       "    </tr>\n",
       "    <tr>\n",
       "      <th>1</th>\n",
       "      <td>2012-05-01 00:10:00</td>\n",
       "      <td>314.7</td>\n",
       "      <td>300.2</td>\n",
       "      <td>290.0</td>\n",
       "      <td>275.3</td>\n",
       "    </tr>\n",
       "    <tr>\n",
       "      <th>2</th>\n",
       "      <td>2012-05-01 00:20:00</td>\n",
       "      <td>313.7</td>\n",
       "      <td>301.2</td>\n",
       "      <td>290.0</td>\n",
       "      <td>275.3</td>\n",
       "    </tr>\n",
       "    <tr>\n",
       "      <th>3</th>\n",
       "      <td>2012-05-01 00:30:00</td>\n",
       "      <td>311.7</td>\n",
       "      <td>301.2</td>\n",
       "      <td>290.0</td>\n",
       "      <td>276.3</td>\n",
       "    </tr>\n",
       "    <tr>\n",
       "      <th>4</th>\n",
       "      <td>2012-05-01 00:40:00</td>\n",
       "      <td>311.7</td>\n",
       "      <td>301.2</td>\n",
       "      <td>291.0</td>\n",
       "      <td>277.3</td>\n",
       "    </tr>\n",
       "    <tr>\n",
       "      <th>...</th>\n",
       "      <td>...</td>\n",
       "      <td>...</td>\n",
       "      <td>...</td>\n",
       "      <td>...</td>\n",
       "      <td>...</td>\n",
       "    </tr>\n",
       "    <tr>\n",
       "      <th>276331</th>\n",
       "      <td>2022-07-18 23:10:00</td>\n",
       "      <td>288.0</td>\n",
       "      <td>295.0</td>\n",
       "      <td>299.0</td>\n",
       "      <td>306.0</td>\n",
       "    </tr>\n",
       "    <tr>\n",
       "      <th>276332</th>\n",
       "      <td>2022-07-18 23:20:00</td>\n",
       "      <td>287.0</td>\n",
       "      <td>303.0</td>\n",
       "      <td>304.0</td>\n",
       "      <td>308.0</td>\n",
       "    </tr>\n",
       "    <tr>\n",
       "      <th>276333</th>\n",
       "      <td>2022-07-18 23:30:00</td>\n",
       "      <td>299.0</td>\n",
       "      <td>307.0</td>\n",
       "      <td>309.0</td>\n",
       "      <td>310.0</td>\n",
       "    </tr>\n",
       "    <tr>\n",
       "      <th>276334</th>\n",
       "      <td>2022-07-18 23:40:00</td>\n",
       "      <td>309.0</td>\n",
       "      <td>311.0</td>\n",
       "      <td>314.0</td>\n",
       "      <td>312.0</td>\n",
       "    </tr>\n",
       "    <tr>\n",
       "      <th>276335</th>\n",
       "      <td>2022-07-18 23:50:00</td>\n",
       "      <td>326.0</td>\n",
       "      <td>314.0</td>\n",
       "      <td>317.0</td>\n",
       "      <td>313.0</td>\n",
       "    </tr>\n",
       "  </tbody>\n",
       "</table>\n",
       "<p>276336 rows × 5 columns</p>\n",
       "</div>"
      ],
      "text/plain": [
       "                        날짜  청담대교_수위  잠수교_수위  한강대교_수위  행주대교_수위\n",
       "0      2012-05-01 00:00:00    310.7   300.2    290.0    275.3\n",
       "1      2012-05-01 00:10:00    314.7   300.2    290.0    275.3\n",
       "2      2012-05-01 00:20:00    313.7   301.2    290.0    275.3\n",
       "3      2012-05-01 00:30:00    311.7   301.2    290.0    276.3\n",
       "4      2012-05-01 00:40:00    311.7   301.2    291.0    277.3\n",
       "...                    ...      ...     ...      ...      ...\n",
       "276331 2022-07-18 23:10:00    288.0   295.0    299.0    306.0\n",
       "276332 2022-07-18 23:20:00    287.0   303.0    304.0    308.0\n",
       "276333 2022-07-18 23:30:00    299.0   307.0    309.0    310.0\n",
       "276334 2022-07-18 23:40:00    309.0   311.0    314.0    312.0\n",
       "276335 2022-07-18 23:50:00    326.0   314.0    317.0    313.0\n",
       "\n",
       "[276336 rows x 5 columns]"
      ]
     },
     "execution_count": 1118,
     "metadata": {},
     "output_type": "execute_result"
    }
   ],
   "source": [
    "수위2 = pd.concat([rawdata_arima[['날짜','청담대교_수위','잠수교_수위','한강대교_수위','행주대교_수위']][:-6912],수위], ignore_index=True, axis = 0)\n",
    "수위2"
   ]
  },
  {
   "cell_type": "code",
   "execution_count": 1121,
   "id": "37a97866",
   "metadata": {},
   "outputs": [
    {
     "data": {
      "text/html": [
       "<div>\n",
       "<style scoped>\n",
       "    .dataframe tbody tr th:only-of-type {\n",
       "        vertical-align: middle;\n",
       "    }\n",
       "\n",
       "    .dataframe tbody tr th {\n",
       "        vertical-align: top;\n",
       "    }\n",
       "\n",
       "    .dataframe thead th {\n",
       "        text-align: right;\n",
       "    }\n",
       "</style>\n",
       "<table border=\"1\" class=\"dataframe\">\n",
       "  <thead>\n",
       "    <tr style=\"text-align: right;\">\n",
       "      <th></th>\n",
       "      <th>날짜</th>\n",
       "      <th>강수량(mm)</th>\n",
       "      <th>방류량</th>\n",
       "      <th>강화대교_조위</th>\n",
       "      <th>청담대교_유량</th>\n",
       "      <th>한강대교_유량</th>\n",
       "      <th>행주대교_유량</th>\n",
       "      <th>광진교_수위</th>\n",
       "      <th>청담대교_수위</th>\n",
       "      <th>잠수교_수위</th>\n",
       "      <th>한강대교_수위</th>\n",
       "      <th>행주대교_수위</th>\n",
       "    </tr>\n",
       "  </thead>\n",
       "  <tbody>\n",
       "    <tr>\n",
       "      <th>0</th>\n",
       "      <td>2012-05-01 00:00:00</td>\n",
       "      <td>0.0</td>\n",
       "      <td>555.00</td>\n",
       "      <td>445.0</td>\n",
       "      <td>469.05</td>\n",
       "      <td>729.80</td>\n",
       "      <td>540.18</td>\n",
       "      <td>1.2</td>\n",
       "      <td>310.7</td>\n",
       "      <td>300.2</td>\n",
       "      <td>290.0</td>\n",
       "      <td>275.3</td>\n",
       "    </tr>\n",
       "    <tr>\n",
       "      <th>1</th>\n",
       "      <td>2012-05-01 00:10:00</td>\n",
       "      <td>0.0</td>\n",
       "      <td>562.90</td>\n",
       "      <td>449.0</td>\n",
       "      <td>498.00</td>\n",
       "      <td>731.48</td>\n",
       "      <td>540.18</td>\n",
       "      <td>1.2</td>\n",
       "      <td>314.7</td>\n",
       "      <td>300.2</td>\n",
       "      <td>290.0</td>\n",
       "      <td>275.3</td>\n",
       "    </tr>\n",
       "    <tr>\n",
       "      <th>2</th>\n",
       "      <td>2012-05-01 00:20:00</td>\n",
       "      <td>0.0</td>\n",
       "      <td>576.40</td>\n",
       "      <td>451.0</td>\n",
       "      <td>490.68</td>\n",
       "      <td>726.42</td>\n",
       "      <td>540.18</td>\n",
       "      <td>1.2</td>\n",
       "      <td>313.7</td>\n",
       "      <td>301.2</td>\n",
       "      <td>290.0</td>\n",
       "      <td>275.3</td>\n",
       "    </tr>\n",
       "    <tr>\n",
       "      <th>3</th>\n",
       "      <td>2012-05-01 00:30:00</td>\n",
       "      <td>0.0</td>\n",
       "      <td>563.10</td>\n",
       "      <td>452.0</td>\n",
       "      <td>476.21</td>\n",
       "      <td>726.42</td>\n",
       "      <td>552.17</td>\n",
       "      <td>1.2</td>\n",
       "      <td>311.7</td>\n",
       "      <td>301.2</td>\n",
       "      <td>290.0</td>\n",
       "      <td>276.3</td>\n",
       "    </tr>\n",
       "    <tr>\n",
       "      <th>4</th>\n",
       "      <td>2012-05-01 00:40:00</td>\n",
       "      <td>0.0</td>\n",
       "      <td>576.40</td>\n",
       "      <td>450.0</td>\n",
       "      <td>476.21</td>\n",
       "      <td>707.17</td>\n",
       "      <td>564.29</td>\n",
       "      <td>1.2</td>\n",
       "      <td>311.7</td>\n",
       "      <td>301.2</td>\n",
       "      <td>291.0</td>\n",
       "      <td>277.3</td>\n",
       "    </tr>\n",
       "    <tr>\n",
       "      <th>...</th>\n",
       "      <td>...</td>\n",
       "      <td>...</td>\n",
       "      <td>...</td>\n",
       "      <td>...</td>\n",
       "      <td>...</td>\n",
       "      <td>...</td>\n",
       "      <td>...</td>\n",
       "      <td>...</td>\n",
       "      <td>...</td>\n",
       "      <td>...</td>\n",
       "      <td>...</td>\n",
       "      <td>...</td>\n",
       "    </tr>\n",
       "    <tr>\n",
       "      <th>276331</th>\n",
       "      <td>2022-07-18 23:10:00</td>\n",
       "      <td>0.0</td>\n",
       "      <td>259.23</td>\n",
       "      <td>510.0</td>\n",
       "      <td>319.84</td>\n",
       "      <td>-456.41</td>\n",
       "      <td>974.40</td>\n",
       "      <td>1.12</td>\n",
       "      <td>288.0</td>\n",
       "      <td>295.0</td>\n",
       "      <td>299.0</td>\n",
       "      <td>306.0</td>\n",
       "    </tr>\n",
       "    <tr>\n",
       "      <th>276332</th>\n",
       "      <td>2022-07-18 23:20:00</td>\n",
       "      <td>0.0</td>\n",
       "      <td>260.46</td>\n",
       "      <td>492.0</td>\n",
       "      <td>314.01</td>\n",
       "      <td>-717.30</td>\n",
       "      <td>1006.88</td>\n",
       "      <td>1.12</td>\n",
       "      <td>287.0</td>\n",
       "      <td>303.0</td>\n",
       "      <td>304.0</td>\n",
       "      <td>308.0</td>\n",
       "    </tr>\n",
       "    <tr>\n",
       "      <th>276333</th>\n",
       "      <td>2022-07-18 23:30:00</td>\n",
       "      <td>0.0</td>\n",
       "      <td>259.37</td>\n",
       "      <td>475.0</td>\n",
       "      <td>387.55</td>\n",
       "      <td>-843.37</td>\n",
       "      <td>1039.90</td>\n",
       "      <td>1.12</td>\n",
       "      <td>299.0</td>\n",
       "      <td>307.0</td>\n",
       "      <td>309.0</td>\n",
       "      <td>310.0</td>\n",
       "    </tr>\n",
       "    <tr>\n",
       "      <th>276334</th>\n",
       "      <td>2022-07-18 23:40:00</td>\n",
       "      <td>0.0</td>\n",
       "      <td>259.13</td>\n",
       "      <td>458.0</td>\n",
       "      <td>454.91</td>\n",
       "      <td>-1023.37</td>\n",
       "      <td>1073.46</td>\n",
       "      <td>1.12</td>\n",
       "      <td>309.0</td>\n",
       "      <td>311.0</td>\n",
       "      <td>314.0</td>\n",
       "      <td>312.0</td>\n",
       "    </tr>\n",
       "    <tr>\n",
       "      <th>276335</th>\n",
       "      <td>2022-07-18 23:50:00</td>\n",
       "      <td>0.0</td>\n",
       "      <td>258.16</td>\n",
       "      <td>442.0</td>\n",
       "      <td>582.21</td>\n",
       "      <td>-1049.44</td>\n",
       "      <td>1090.45</td>\n",
       "      <td>1.12</td>\n",
       "      <td>326.0</td>\n",
       "      <td>314.0</td>\n",
       "      <td>317.0</td>\n",
       "      <td>313.0</td>\n",
       "    </tr>\n",
       "  </tbody>\n",
       "</table>\n",
       "<p>276336 rows × 12 columns</p>\n",
       "</div>"
      ],
      "text/plain": [
       "                        날짜  강수량(mm)     방류량  강화대교_조위  청담대교_유량  한강대교_유량  \\\n",
       "0      2012-05-01 00:00:00      0.0  555.00    445.0   469.05   729.80   \n",
       "1      2012-05-01 00:10:00      0.0  562.90    449.0   498.00   731.48   \n",
       "2      2012-05-01 00:20:00      0.0  576.40    451.0   490.68   726.42   \n",
       "3      2012-05-01 00:30:00      0.0  563.10    452.0   476.21   726.42   \n",
       "4      2012-05-01 00:40:00      0.0  576.40    450.0   476.21   707.17   \n",
       "...                    ...      ...     ...      ...      ...      ...   \n",
       "276331 2022-07-18 23:10:00      0.0  259.23    510.0   319.84  -456.41   \n",
       "276332 2022-07-18 23:20:00      0.0  260.46    492.0   314.01  -717.30   \n",
       "276333 2022-07-18 23:30:00      0.0  259.37    475.0   387.55  -843.37   \n",
       "276334 2022-07-18 23:40:00      0.0  259.13    458.0   454.91 -1023.37   \n",
       "276335 2022-07-18 23:50:00      0.0  258.16    442.0   582.21 -1049.44   \n",
       "\n",
       "        행주대교_유량 광진교_수위  청담대교_수위  잠수교_수위  한강대교_수위  행주대교_수위  \n",
       "0        540.18    1.2    310.7   300.2    290.0    275.3  \n",
       "1        540.18    1.2    314.7   300.2    290.0    275.3  \n",
       "2        540.18    1.2    313.7   301.2    290.0    275.3  \n",
       "3        552.17    1.2    311.7   301.2    290.0    276.3  \n",
       "4        564.29    1.2    311.7   301.2    291.0    277.3  \n",
       "...         ...    ...      ...     ...      ...      ...  \n",
       "276331   974.40   1.12    288.0   295.0    299.0    306.0  \n",
       "276332  1006.88   1.12    287.0   303.0    304.0    308.0  \n",
       "276333  1039.90   1.12    299.0   307.0    309.0    310.0  \n",
       "276334  1073.46   1.12    309.0   311.0    314.0    312.0  \n",
       "276335  1090.45   1.12    326.0   314.0    317.0    313.0  \n",
       "\n",
       "[276336 rows x 12 columns]"
      ]
     },
     "execution_count": 1121,
     "metadata": {},
     "output_type": "execute_result"
    }
   ],
   "source": [
    "newdata = pd.concat([수위2['날짜'],rawdata_arima[['강수량(mm)','방류량','강화대교_조위','청담대교_유량','한강대교_유량','행주대교_유량','광진교_수위']],수위2[['청담대교_수위','잠수교_수위','한강대교_수위','행주대교_수위']]], axis = 1)\n",
    "newdata"
   ]
  },
  {
   "cell_type": "code",
   "execution_count": 1122,
   "id": "d9e5ebf4",
   "metadata": {},
   "outputs": [
    {
     "data": {
      "text/plain": [
       "날짜         0\n",
       "강수량(mm)    0\n",
       "방류량        0\n",
       "강화대교_조위    0\n",
       "청담대교_유량    0\n",
       "한강대교_유량    0\n",
       "행주대교_유량    0\n",
       "광진교_수위     0\n",
       "청담대교_수위    0\n",
       "잠수교_수위     0\n",
       "한강대교_수위    0\n",
       "행주대교_수위    0\n",
       "dtype: int64"
      ]
     },
     "execution_count": 1122,
     "metadata": {},
     "output_type": "execute_result"
    }
   ],
   "source": [
    "newdata.isnull().sum()"
   ]
  },
  {
   "cell_type": "code",
   "execution_count": 1123,
   "id": "1d22d4b8",
   "metadata": {},
   "outputs": [],
   "source": [
    "newdata.to_csv('data/newdata.csv', encoding = 'cp949')"
   ]
  },
  {
   "cell_type": "code",
   "execution_count": null,
   "id": "201ffe40",
   "metadata": {},
   "outputs": [],
   "source": []
  },
  {
   "cell_type": "markdown",
   "id": "d46a4c82",
   "metadata": {},
   "source": [
    "# 파생컬럼 생성 - 시간차 적용(강화대교_조위, 방류량)"
   ]
  },
  {
   "cell_type": "markdown",
   "id": "daa93a26",
   "metadata": {},
   "source": [
    "## 강화대교 조위"
   ]
  },
  {
   "cell_type": "code",
   "execution_count": 3,
   "id": "6b7343a3",
   "metadata": {},
   "outputs": [],
   "source": [
    "newdata = pd.read_csv('data/newdata.csv', encoding = 'cp949')"
   ]
  },
  {
   "cell_type": "code",
   "execution_count": 4,
   "id": "2673ddf1",
   "metadata": {},
   "outputs": [
    {
     "data": {
      "text/plain": [
       "['data/외부데이터/강화대교_조위_4월 29,30일\\\\2012.csv',\n",
       " 'data/외부데이터/강화대교_조위_4월 29,30일\\\\2013.csv',\n",
       " 'data/외부데이터/강화대교_조위_4월 29,30일\\\\2014.csv',\n",
       " 'data/외부데이터/강화대교_조위_4월 29,30일\\\\2015.csv',\n",
       " 'data/외부데이터/강화대교_조위_4월 29,30일\\\\2016.csv',\n",
       " 'data/외부데이터/강화대교_조위_4월 29,30일\\\\2017.csv',\n",
       " 'data/외부데이터/강화대교_조위_4월 29,30일\\\\2018.csv',\n",
       " 'data/외부데이터/강화대교_조위_4월 29,30일\\\\2019.csv',\n",
       " 'data/외부데이터/강화대교_조위_4월 29,30일\\\\2020.csv',\n",
       " 'data/외부데이터/강화대교_조위_4월 29,30일\\\\2021.csv',\n",
       " 'data/외부데이터/강화대교_조위_4월 29,30일\\\\2022.csv']"
      ]
     },
     "execution_count": 4,
     "metadata": {},
     "output_type": "execute_result"
    }
   ],
   "source": [
    "#시간차 적용을 위한 4월 데이터(조위df) 불러오기\n",
    "\n",
    "from glob import glob\n",
    "\n",
    "w_list = sorted(glob(\"data/외부데이터/강화대교_조위_4월 29,30일/*.csv\"))\n",
    "w_list"
   ]
  },
  {
   "cell_type": "code",
   "execution_count": 10,
   "id": "aadd6b35",
   "metadata": {},
   "outputs": [
    {
     "data": {
      "text/html": [
       "<div>\n",
       "<style scoped>\n",
       "    .dataframe tbody tr th:only-of-type {\n",
       "        vertical-align: middle;\n",
       "    }\n",
       "\n",
       "    .dataframe tbody tr th {\n",
       "        vertical-align: top;\n",
       "    }\n",
       "\n",
       "    .dataframe thead th {\n",
       "        text-align: right;\n",
       "    }\n",
       "</style>\n",
       "<table border=\"1\" class=\"dataframe\">\n",
       "  <thead>\n",
       "    <tr style=\"text-align: right;\">\n",
       "      <th></th>\n",
       "      <th>날짜</th>\n",
       "      <th>강화대교_조위</th>\n",
       "    </tr>\n",
       "  </thead>\n",
       "  <tbody>\n",
       "    <tr>\n",
       "      <th>1435</th>\n",
       "      <td>2021-04-30 21:40</td>\n",
       "      <td>-</td>\n",
       "    </tr>\n",
       "    <tr>\n",
       "      <th>1591</th>\n",
       "      <td>2022-04-30 23:30</td>\n",
       "      <td>-</td>\n",
       "    </tr>\n",
       "  </tbody>\n",
       "</table>\n",
       "</div>"
      ],
      "text/plain": [
       "                    날짜 강화대교_조위\n",
       "1435  2021-04-30 21:40       -\n",
       "1591  2022-04-30 23:30       -"
      ]
     },
     "execution_count": 10,
     "metadata": {},
     "output_type": "execute_result"
    }
   ],
   "source": [
    "idx = [0]\n",
    "for i in range(1430):\n",
    "  if (i+1) % 10 == 0:\n",
    "    idx.append(i+1)\n",
    "\n",
    "idx2 = []\n",
    "for i in range(12):\n",
    "  idx2.append(i*144)\n",
    "\n",
    "tmp3 = []\n",
    "\n",
    "for i in range(11):\n",
    "  a = pd.read_csv(w_list[i], encoding='cp949', usecols = [0,1])\n",
    "  a = a[:1440]\n",
    "  tmp3.append(a.iloc[idx].set_index(pd.Index(list(range(i+idx2[i],i+idx2[i]+144)))))\n",
    "\n",
    "조위df = pd.concat([tmp3[0],tmp3[1],tmp3[2],tmp3[3],tmp3[4],tmp3[5],tmp3[6],tmp3[7],tmp3[8],tmp3[9],tmp3[10]])\n",
    "조위df.columns = ['날짜', '강화대교_조위']\n",
    "\n",
    "조위df[조위df['강화대교_조위']=='-']"
   ]
  },
  {
   "cell_type": "code",
   "execution_count": 13,
   "id": "44ffad52",
   "metadata": {},
   "outputs": [],
   "source": [
    "조위df.loc[1435]['강화대교_조위'] = 544\n",
    "조위df.loc[1591]['강화대교_조위'] = 143"
   ]
  },
  {
   "cell_type": "code",
   "execution_count": 15,
   "id": "04c6d2ef",
   "metadata": {},
   "outputs": [
    {
     "name": "stdout",
     "output_type": "stream",
     "text": [
      "0 1.0793507420482251\n",
      "1 1.142769772213913\n",
      "2 1.207660777137531\n",
      "3 1.2752539712176643\n",
      "4 1.345236529923926\n",
      "5 1.4172370749299965\n",
      "6 1.4908193478782708\n",
      "7 1.5654839637324864\n",
      "8 1.6406672037941137\n",
      "9 1.7157399923912298\n",
      "10 1.7900129482669476\n",
      "11 1.8627475022821538\n",
      "12 1.933160282339072\n",
      "13 2.0004444887059534\n",
      "14 2.063799705730097\n",
      "15 2.1224452761312316\n",
      "16 2.1756330682161225\n",
      "17 2.2226675794356257\n",
      "18 2.262935366395367\n",
      "19 2.2959203127591588\n",
      "20 2.321211253712258\n",
      "21 2.338514135829233\n",
      "22 2.3476507334440115\n",
      "23 2.348566655685426\n",
      "24 2.3413226398893885\n",
      "25 2.326087688825877\n",
      "26 2.3031254966090984\n",
      "27 2.272772699848008\n",
      "28 2.235422399841325\n",
      "29 2.191516014513862\n",
      "30 2.14154049825084\n",
      "31 2.0860283150370043\n",
      "32 2.0255464764909097\n",
      "33 1.960685483800176\n",
      "34 1.8920472600279667\n",
      "35 1.8202534667851984\n",
      "36 1.745937533799943\n",
      "37 1.6697384671552342\n",
      "38 1.5923030410379793\n",
      "39 1.5142812921943307\n",
      "40 1.4363211318140228\n",
      "41 1.3590652079536314\n",
      "42 1.2831477372662146\n",
      "43 1.2091810862064023\n",
      "44 1.1377383789579292\n",
      "45 1.0693429064993567\n",
      "46 1.0044559107183224\n",
      "47 0.9434675174443856\n",
      "48 0.8866996960418734\n",
      "49 0.8344011089182298\n",
      "50 0.7867488195673844\n",
      "51 0.7438584987054843\n",
      "52 0.7057882637878168\n",
      "53 0.6725424004442102\n",
      "54 0.6440883416218446\n",
      "55 0.620370870342746\n",
      "56 0.601318198006464\n",
      "57 0.586856669536954\n",
      "58 0.5769107957101896\n",
      "59 0.5714147481336924\n",
      "60 0.570309182457038\n",
      "61 0.5735439274610344\n",
      "62 0.5810778504208729\n",
      "63 0.592872533289324\n",
      "64 0.608890890230551\n",
      "65 0.629094019256445\n",
      "66 0.6534428443002562\n",
      "67 0.6818922888282132\n",
      "68 0.7143893499007791\n",
      "69 0.7508716782642519\n",
      "70 0.7912638447849123\n",
      "71 0.8354699570463178\n",
      "72 0.883383884557252\n",
      "73 0.9348810658230496\n",
      "74 0.9898157574820643\n",
      "75 1.048011273814141\n",
      "76 1.1092551490170957\n",
      "77 1.1732892095420118\n",
      "78 1.239807077592557\n",
      "79 1.3084472435833894\n",
      "80 1.3787851363956882\n",
      "81 1.4503369229414003\n",
      "82 1.5225509136000426\n",
      "83 1.5948182915843312\n",
      "84 1.6664702951968275\n",
      "85 1.7367894394227186\n",
      "86 1.8050218037329226\n",
      "87 1.870389377618424\n",
      "88 1.932110490042532\n",
      "89 1.9894227283075767\n",
      "90 2.0415998497513\n",
      "91 2.0879691845676986\n",
      "92 2.127932533727946\n",
      "93 2.160984855228937\n",
      "94 2.1867241409254192\n",
      "95 2.2048562091247454\n",
      "96 2.215202420149381\n",
      "97 2.2177020019256286\n",
      "98 2.212409790218736\n",
      "99 2.199482258276733\n",
      "100 2.1791618231958596\n",
      "101 2.151763385024283\n",
      "102 2.1176561837674077\n",
      "103 2.0772597529151304\n",
      "104 2.031043122383375\n",
      "105 1.979516956944387\n",
      "106 1.9232278653585457\n",
      "107 1.8627421388763714\n",
      "108 1.7986441293728535\n",
      "109 1.7315332327103719\n",
      "110 1.6620178366661222\n",
      "111 1.5907174957508163\n",
      "112 1.5182583917192611\n",
      "113 1.4452685993016736\n",
      "114 1.3723742720440868\n",
      "115 1.3001945882818153\n",
      "116 1.229336212868396\n",
      "117 1.16038793620022\n",
      "118 1.0939035888962347\n",
      "119 1.030389234515663\n",
      "120 0.9702885536953031\n",
      "121 0.9139750112008662\n",
      "122 0.8617510197002457\n",
      "123 0.813851203336373\n",
      "124 0.7704470364784463\n",
      "125 0.731649056713793\n",
      "126 0.6975099162819662\n",
      "127 0.668038185071359\n",
      "128 0.6432112773627674\n",
      "129 0.6229805827447894\n",
      "130 0.6072866114457806\n",
      "131 0.5960666991640946\n",
      "132 0.5892587088309857\n",
      "133 0.5868079600386656\n",
      "134 0.5886672846174885\n",
      "135 0.5947992540220731\n",
      "136 0.6051708532246182\n",
      "137 0.6197533062833971\n",
      "138 0.6385137127813721\n",
      "139 0.6614198121263876\n",
      "140 0.6884362118232727\n",
      "141 0.7195185728758529\n",
      "142 0.7546151488243863\n",
      "143 0.7936574980446821\n"
     ]
    }
   ],
   "source": [
    "#다리별 시간차 계산\n",
    "\n",
    "idx3 = []\n",
    "for i in range(12):\n",
    "  idx3.append(i*26496)\n",
    "\n",
    "ttmp = []\n",
    "for i in range(0, 144): \n",
    "  \n",
    "  push_num = i\n",
    "  \n",
    "  tmp = []\n",
    "  for j in range(11):\n",
    "    if j != 10:\n",
    "      tmp.append(pd.concat([조위df[idx2[j+1]-push_num:idx2[j+1]],newdata[idx3[j]:idx3[j+1]-push_num][['날짜','강화대교_조위']]], ignore_index=True))\n",
    "    else:\n",
    "      tmp.append(pd.concat([조위df[idx2[j+1]-push_num:idx2[j+1]],newdata[idx3[j]:-push_num][['날짜','강화대교_조위']]], ignore_index=True))\n",
    "\n",
    "  push_result = pd.concat(\n",
    "        [tmp[0],tmp[1],tmp[2],tmp[3],tmp[4],tmp[5],tmp[6],tmp[7],tmp[8],tmp[9],tmp[10]], ignore_index=True\n",
    "    )\n",
    "\n",
    "  mm = pd.concat([push_result[['강화대교_조위']],newdata[['청담대교_수위','잠수교_수위', '한강대교_수위', '행주대교_수위']]], axis=1)\n",
    "  mm['강화대교_조위'] = mm['강화대교_조위'].astype(float, errors = 'raise')\n",
    "  nn = mm[:269424]\n",
    "  push_cor2 = nn.corr()\n",
    "  \n",
    "  #print(i, push_cor2.iloc[:,0][1]) #마지막 원소 변경 1,2,3,4\n",
    "  #ttmp.append(push_cor2.iloc[:,0][1])\n",
    "\n",
    "  #1번: 청담대교 24 0.31093762145783016    -> 24 0.31008707402679253\n",
    "  #2번: 잠수교 23 0.3353496289111793       -> 23 0.3344169953069493\n",
    "  #3번: 한강대교 23 0.34832966441668634    -> 23 0.3475333064344359\n",
    "  #4번: 행주대교 20 0.3684983352127144     -> 20 0.36719794049834076\n",
    "  #시간적 순서가 직관과 맞음\n",
    "\n",
    "  #하나만 꼽으라면 23 -> 23\n",
    "  print(i, push_cor2.sum()[0])\n",
    "  ttmp.append(push_cor2.sum()[0])"
   ]
  },
  {
   "cell_type": "code",
   "execution_count": 16,
   "id": "f74d0a2c",
   "metadata": {},
   "outputs": [
    {
     "data": {
      "text/html": [
       "<div>\n",
       "<style scoped>\n",
       "    .dataframe tbody tr th:only-of-type {\n",
       "        vertical-align: middle;\n",
       "    }\n",
       "\n",
       "    .dataframe tbody tr th {\n",
       "        vertical-align: top;\n",
       "    }\n",
       "\n",
       "    .dataframe thead th {\n",
       "        text-align: right;\n",
       "    }\n",
       "</style>\n",
       "<table border=\"1\" class=\"dataframe\">\n",
       "  <thead>\n",
       "    <tr style=\"text-align: right;\">\n",
       "      <th></th>\n",
       "      <th>강화대교_조위</th>\n",
       "      <th>청담대교_수위</th>\n",
       "      <th>잠수교_수위</th>\n",
       "      <th>한강대교_수위</th>\n",
       "      <th>행주대교_수위</th>\n",
       "    </tr>\n",
       "  </thead>\n",
       "  <tbody>\n",
       "    <tr>\n",
       "      <th>강화대교_조위</th>\n",
       "      <td>1.000000</td>\n",
       "      <td>0.309298</td>\n",
       "      <td>0.334418</td>\n",
       "      <td>0.347528</td>\n",
       "      <td>0.357322</td>\n",
       "    </tr>\n",
       "    <tr>\n",
       "      <th>청담대교_수위</th>\n",
       "      <td>0.309298</td>\n",
       "      <td>1.000000</td>\n",
       "      <td>0.991150</td>\n",
       "      <td>0.990986</td>\n",
       "      <td>0.949497</td>\n",
       "    </tr>\n",
       "    <tr>\n",
       "      <th>잠수교_수위</th>\n",
       "      <td>0.334418</td>\n",
       "      <td>0.991150</td>\n",
       "      <td>1.000000</td>\n",
       "      <td>0.995218</td>\n",
       "      <td>0.957848</td>\n",
       "    </tr>\n",
       "    <tr>\n",
       "      <th>한강대교_수위</th>\n",
       "      <td>0.347528</td>\n",
       "      <td>0.990986</td>\n",
       "      <td>0.995218</td>\n",
       "      <td>1.000000</td>\n",
       "      <td>0.972335</td>\n",
       "    </tr>\n",
       "    <tr>\n",
       "      <th>행주대교_수위</th>\n",
       "      <td>0.357322</td>\n",
       "      <td>0.949497</td>\n",
       "      <td>0.957848</td>\n",
       "      <td>0.972335</td>\n",
       "      <td>1.000000</td>\n",
       "    </tr>\n",
       "  </tbody>\n",
       "</table>\n",
       "</div>"
      ],
      "text/plain": [
       "          강화대교_조위   청담대교_수위    잠수교_수위   한강대교_수위   행주대교_수위\n",
       "강화대교_조위  1.000000  0.309298  0.334418  0.347528  0.357322\n",
       "청담대교_수위  0.309298  1.000000  0.991150  0.990986  0.949497\n",
       "잠수교_수위   0.334418  0.991150  1.000000  0.995218  0.957848\n",
       "한강대교_수위  0.347528  0.990986  0.995218  1.000000  0.972335\n",
       "행주대교_수위  0.357322  0.949497  0.957848  0.972335  1.000000"
      ]
     },
     "execution_count": 16,
     "metadata": {},
     "output_type": "execute_result"
    }
   ],
   "source": [
    "#파일 저장\n",
    "\n",
    "push_num = 23\n",
    "  \n",
    "tmp = []\n",
    "for j in range(11):\n",
    "  if j != 10:\n",
    "    tmp.append(pd.concat([조위df[idx2[j+1]-push_num:idx2[j+1]],newdata[idx3[j]:idx3[j+1]-push_num][['날짜','강화대교_조위']]], ignore_index=True))\n",
    "  else:\n",
    "    tmp.append(pd.concat([조위df[idx2[j+1]-push_num:idx2[j+1]],newdata[idx3[j]:-push_num][['날짜','강화대교_조위']]], ignore_index=True))\n",
    "\n",
    "push_result = pd.concat(\n",
    "      [tmp[0],tmp[1],tmp[2],tmp[3],tmp[4],tmp[5],tmp[6],tmp[7],tmp[8],tmp[9],tmp[10]], ignore_index=True\n",
    ")\n",
    "\n",
    "mm = pd.concat([push_result[['강화대교_조위']],newdata[['청담대교_수위','잠수교_수위', '한강대교_수위', '행주대교_수위']]], axis=1)\n",
    "mm['강화대교_조위'] = mm['강화대교_조위'].astype(float, errors = 'raise')\n",
    "nn = mm[:269424]\n",
    "push_cor2 = nn.corr()\n",
    "push_cor2"
   ]
  },
  {
   "cell_type": "code",
   "execution_count": 17,
   "id": "0d2e6b66",
   "metadata": {},
   "outputs": [
    {
     "data": {
      "text/plain": [
       "0           193\n",
       "1           199\n",
       "2           207\n",
       "3           215\n",
       "4           226\n",
       "          ...  \n",
       "276331    407.0\n",
       "276332    431.0\n",
       "276333    453.0\n",
       "276334    476.0\n",
       "276335    499.0\n",
       "Name: 강화대교_조위, Length: 276336, dtype: object"
      ]
     },
     "execution_count": 17,
     "metadata": {},
     "output_type": "execute_result"
    }
   ],
   "source": [
    "result = push_result.강화대교_조위\n",
    "result"
   ]
  },
  {
   "cell_type": "code",
   "execution_count": 19,
   "id": "cde772f5",
   "metadata": {},
   "outputs": [],
   "source": [
    "result.to_csv(\"data/파생컬럼/강화대교_조위_시간차.csv\", index = False, encoding = 'cp949', columns = ['강화대교_조위'])"
   ]
  },
  {
   "cell_type": "markdown",
   "id": "6d6439d3",
   "metadata": {},
   "source": [
    "## 방류량"
   ]
  },
  {
   "cell_type": "code",
   "execution_count": 20,
   "id": "d6706f33",
   "metadata": {},
   "outputs": [
    {
     "data": {
      "text/plain": [
       "['data/외부데이터/팔당댐_4월 29,30일\\\\2012.csv',\n",
       " 'data/외부데이터/팔당댐_4월 29,30일\\\\2013.csv',\n",
       " 'data/외부데이터/팔당댐_4월 29,30일\\\\2014.csv',\n",
       " 'data/외부데이터/팔당댐_4월 29,30일\\\\2015.csv',\n",
       " 'data/외부데이터/팔당댐_4월 29,30일\\\\2016.csv',\n",
       " 'data/외부데이터/팔당댐_4월 29,30일\\\\2017.csv',\n",
       " 'data/외부데이터/팔당댐_4월 29,30일\\\\2018.csv',\n",
       " 'data/외부데이터/팔당댐_4월 29,30일\\\\2019.csv',\n",
       " 'data/외부데이터/팔당댐_4월 29,30일\\\\2020.csv',\n",
       " 'data/외부데이터/팔당댐_4월 29,30일\\\\2021.csv',\n",
       " 'data/외부데이터/팔당댐_4월 29,30일\\\\2022.csv']"
      ]
     },
     "execution_count": 20,
     "metadata": {},
     "output_type": "execute_result"
    }
   ],
   "source": [
    "#시간차 적용을 위한 4월 데이터(조위df) 불러오기\n",
    "\n",
    "from glob import glob\n",
    "\n",
    "w_list = sorted(glob(\"data/외부데이터/팔당댐_4월 29,30일/*.csv\"))\n",
    "w_list"
   ]
  },
  {
   "cell_type": "code",
   "execution_count": 31,
   "id": "6792faef",
   "metadata": {},
   "outputs": [
    {
     "data": {
      "text/html": [
       "<div>\n",
       "<style scoped>\n",
       "    .dataframe tbody tr th:only-of-type {\n",
       "        vertical-align: middle;\n",
       "    }\n",
       "\n",
       "    .dataframe tbody tr th {\n",
       "        vertical-align: top;\n",
       "    }\n",
       "\n",
       "    .dataframe thead th {\n",
       "        text-align: right;\n",
       "    }\n",
       "</style>\n",
       "<table border=\"1\" class=\"dataframe\">\n",
       "  <thead>\n",
       "    <tr style=\"text-align: right;\">\n",
       "      <th></th>\n",
       "      <th>날짜</th>\n",
       "      <th>방류량</th>\n",
       "    </tr>\n",
       "  </thead>\n",
       "  <tbody>\n",
       "    <tr>\n",
       "      <th>1087</th>\n",
       "      <td>2015-04-30 12:30</td>\n",
       "      <td>-</td>\n",
       "    </tr>\n",
       "    <tr>\n",
       "      <th>2115</th>\n",
       "      <td>2019-04-29 15:10</td>\n",
       "      <td>-</td>\n",
       "    </tr>\n",
       "    <tr>\n",
       "      <th>2988</th>\n",
       "      <td>2022-04-29 16:10</td>\n",
       "      <td>-</td>\n",
       "    </tr>\n",
       "  </tbody>\n",
       "</table>\n",
       "</div>"
      ],
      "text/plain": [
       "                    날짜 방류량\n",
       "1087  2015-04-30 12:30   -\n",
       "2115  2019-04-29 15:10   -\n",
       "2988  2022-04-29 16:10   -"
      ]
     },
     "execution_count": 31,
     "metadata": {},
     "output_type": "execute_result"
    }
   ],
   "source": [
    "idx = [0]\n",
    "for i in range(287):\n",
    "  idx.append(i)\n",
    "\n",
    "idx2 = []\n",
    "for i in range(12):\n",
    "  idx2.append(i*288)\n",
    "\n",
    "tmp3 = []\n",
    "\n",
    "for i in range(11):\n",
    "  a = pd.read_csv(w_list[i], encoding='cp949', usecols = [0,3])\n",
    "  tmp3.append(a.iloc[idx].set_index(pd.Index(list(range(i+idx2[i],i+idx2[i]+288)))))\n",
    "\n",
    "팔당df = pd.concat([tmp3[0],tmp3[1],tmp3[2],tmp3[3],tmp3[4],tmp3[5],tmp3[6],tmp3[7],tmp3[8],tmp3[9],tmp3[10]])\n",
    "팔당df.columns = ['날짜', '방류량']\n",
    "팔당df\n",
    "\n",
    "팔당df[팔당df['방류량']=='-']"
   ]
  },
  {
   "cell_type": "code",
   "execution_count": 32,
   "id": "2e31bf65",
   "metadata": {},
   "outputs": [],
   "source": [
    "팔당df.loc[1087]['방류량'] = 168.2\n",
    "팔당df.loc[2115]['방류량'] = 368\n",
    "팔당df.loc[2988]['방류량'] = 125.1"
   ]
  },
  {
   "cell_type": "code",
   "execution_count": 34,
   "id": "c899bf8a",
   "metadata": {
    "scrolled": true
   },
   "outputs": [
    {
     "name": "stdout",
     "output_type": "stream",
     "text": [
      "0 4.4108680959312\n",
      "1 4.411348784398636\n",
      "2 4.414304579390693\n",
      "3 4.417212705383015\n",
      "4 4.420066329223367\n",
      "5 4.422857733335674\n",
      "6 4.425567071111318\n",
      "7 4.428163344832547\n",
      "8 4.430606932622472\n",
      "9 4.432888100068218\n",
      "10 4.435001917320518\n",
      "11 4.4369055781979325\n",
      "12 4.4385893371462215\n",
      "13 4.440054385835812\n",
      "14 4.441286630523859\n",
      "15 4.44228696537453\n",
      "16 4.443036272929255\n",
      "17 4.443567496313968\n",
      "18 4.443832048699757\n",
      "19 4.443871479651424\n",
      "20 4.443670094155962\n",
      "21 4.443222230095935\n",
      "22 4.44253882180466\n",
      "23 4.441635466895465\n",
      "24 4.440521916216472\n",
      "25 4.439182487770576\n",
      "26 4.437635459018186\n",
      "27 4.435894834145289\n",
      "28 4.433973219161103\n",
      "29 4.431888392033015\n",
      "30 4.429626979303972\n",
      "31 4.4272070573558695\n",
      "32 4.424637858873679\n",
      "33 4.42194232435717\n",
      "34 4.4191120653052565\n",
      "35 4.416167515441033\n",
      "36 4.413107771595901\n",
      "37 4.4099428607937945\n",
      "38 4.406686865308404\n",
      "39 4.403347245530859\n",
      "40 4.399935275545564\n",
      "41 4.396440834609995\n",
      "42 4.3928559010120605\n",
      "43 4.389195112611445\n",
      "44 4.385478899624395\n",
      "45 4.381714381593982\n",
      "46 4.377885951291808\n",
      "47 4.373983883455815\n",
      "48 4.370018817950157\n",
      "49 4.365992984142996\n",
      "50 4.361920261737783\n",
      "51 4.35779960243045\n",
      "52 4.353623423436418\n",
      "53 4.349402742830235\n",
      "54 4.345138208538853\n",
      "55 4.340827256652657\n",
      "56 4.336484607449063\n",
      "57 4.332109393027681\n",
      "58 4.327694623140623\n",
      "59 4.323250293387348\n",
      "60 4.318790542370915\n",
      "61 4.314317798070444\n",
      "62 4.3098467117968235\n",
      "63 4.305367697835447\n",
      "64 4.300892596983097\n",
      "65 4.296429153939161\n",
      "66 4.291967416694863\n",
      "67 4.287511059814462\n",
      "68 4.2830590840320815\n",
      "69 4.278622427107356\n",
      "70 4.274179223414931\n",
      "71 4.269747332755281\n",
      "72 4.2653263963165635\n",
      "73 4.260914835388419\n",
      "74 4.256502619227059\n",
      "75 4.252102155417129\n",
      "76 4.247713964650739\n",
      "77 4.243340785034314\n",
      "78 4.238989957690429\n",
      "79 4.234649250147374\n",
      "80 4.230323268335993\n",
      "81 4.226018737993987\n",
      "82 4.221733372672161\n",
      "83 4.217465217245224\n",
      "84 4.213220166521637\n",
      "85 4.208990928524986\n",
      "86 4.204768230165426\n",
      "87 4.200554297492539\n",
      "88 4.1963487323908115\n",
      "89 4.1921541736808425\n",
      "90 4.187956630544264\n",
      "91 4.183749934443904\n",
      "92 4.179529044232883\n",
      "93 4.17530134807405\n",
      "94 4.171055722988955\n",
      "95 4.1668313026179495\n",
      "96 4.162565216321061\n",
      "97 4.158280756022415\n",
      "98 4.153976630588979\n",
      "99 4.149649465046252\n",
      "100 4.145321319758798\n",
      "101 4.140967190221225\n",
      "102 4.136606582779867\n",
      "103 4.132243534568351\n",
      "104 4.127874182694729\n",
      "105 4.123504365037058\n",
      "106 4.119152410747689\n",
      "107 4.114806315768205\n",
      "108 4.110465501648542\n",
      "109 4.106137593227146\n",
      "110 4.101827083135717\n",
      "111 4.097548219030946\n",
      "112 4.093295951804773\n",
      "113 4.0890735860646075\n",
      "114 4.0848900122954745\n",
      "115 4.080743559203608\n",
      "116 4.076642499812334\n",
      "117 4.072556456501909\n",
      "118 4.068516785020313\n",
      "119 4.064525152220378\n",
      "120 4.060577053283804\n",
      "121 4.056634867798684\n",
      "122 4.052746234158022\n",
      "123 4.04887080444031\n",
      "124 4.0449991727938075\n",
      "125 4.041152682490535\n",
      "126 4.03732828256709\n",
      "127 4.0335096675588975\n",
      "128 4.029688734097118\n",
      "129 4.025874747790683\n",
      "130 4.02206653506447\n",
      "131 4.0182498553716695\n",
      "132 4.014447934616138\n",
      "133 4.010649312054659\n",
      "134 4.006877029174415\n",
      "135 4.003114509313979\n",
      "136 3.9993629701824047\n",
      "137 3.995635445087497\n",
      "138 3.9919416628013478\n",
      "139 3.988276269731\n",
      "140 3.9846578719325367\n",
      "141 3.98105306924196\n",
      "142 3.977482579218579\n",
      "143 3.973940438539964\n",
      "144 3.9704273956722886\n",
      "145 3.966949179236252\n",
      "146 3.9635064280659336\n",
      "147 3.960081046335284\n",
      "148 3.9566915211710514\n",
      "149 3.9533257124123327\n",
      "150 3.950001069360578\n",
      "151 3.9467201077336522\n",
      "152 3.943462881946638\n",
      "153 3.94024076933624\n",
      "154 3.9370588552306716\n",
      "155 3.933905677072762\n",
      "156 3.930793266049545\n",
      "157 3.9277092128608584\n",
      "158 3.924644399669895\n",
      "159 3.921593062924164\n",
      "160 3.91855660213133\n",
      "161 3.9155287951639806\n",
      "162 3.9125069869549467\n",
      "163 3.909478823370552\n",
      "164 3.9064384651447366\n",
      "165 3.9033970734677643\n",
      "166 3.900327557638447\n",
      "167 3.8972370780865098\n",
      "168 3.8941335330634654\n",
      "169 3.8910041323251447\n",
      "170 3.887848398912575\n",
      "171 3.8846668545714738\n",
      "172 3.8814663983339495\n",
      "173 3.878236775733077\n",
      "174 3.874975749935574\n",
      "175 3.871676057265468\n",
      "176 3.8683772722622036\n",
      "177 3.865056617649857\n",
      "178 3.8617174834686425\n",
      "179 3.858370074103845\n",
      "180 3.8550190825377073\n",
      "181 3.851651581632128\n",
      "182 3.8482901449556306\n",
      "183 3.844930373874234\n",
      "184 3.841586448290073\n",
      "185 3.838252316845\n",
      "186 3.834940971330236\n",
      "187 3.831640969493294\n",
      "188 3.828366026847439\n",
      "189 3.8251074458833276\n",
      "190 3.821882383221613\n",
      "191 3.8186685898858665\n",
      "192 3.8154837537909994\n",
      "193 3.8123245285591025\n",
      "194 3.8091728532410425\n",
      "195 3.8060297998645765\n",
      "196 3.8029049098752816\n",
      "197 3.7997909323126855\n",
      "198 3.7966766506260825\n",
      "199 3.7935545365870826\n",
      "200 3.7904217778530924\n",
      "201 3.7872776659181526\n",
      "202 3.784117601180461\n",
      "203 3.780953816870504\n",
      "204 3.7777834072872083\n",
      "205 3.7745900183557675\n",
      "206 3.7713869419869823\n",
      "207 3.7681826561608185\n",
      "208 3.764966006605078\n",
      "209 3.7617684523636497\n",
      "210 3.7585789414135915\n",
      "211 3.755409669782093\n",
      "212 3.7522542571788087\n",
      "213 3.7491220942050028\n",
      "214 3.7460025258168073\n",
      "215 3.742923690103202\n",
      "216 3.7398783990633815\n",
      "217 3.736853081116534\n",
      "218 3.733850381719334\n",
      "219 3.7308686617845015\n",
      "220 3.7279198334714376\n",
      "221 3.7249984624849026\n",
      "222 3.7221029053423065\n",
      "223 3.7192369408635817\n",
      "224 3.7164108257865265\n",
      "225 3.713615391244676\n",
      "226 3.710851723040999\n",
      "227 3.7081312941319577\n",
      "228 3.705452151960361\n",
      "229 3.7028095141873982\n",
      "230 3.700201834587212\n",
      "231 3.697636944606355\n",
      "232 3.695104103394869\n",
      "233 3.692587797901374\n",
      "234 3.6900962428506343\n",
      "235 3.687627108513916\n",
      "236 3.6851638406462026\n",
      "237 3.6827068902482036\n",
      "238 3.680241969233082\n",
      "239 3.6777877064198075\n",
      "240 3.6753261111311684\n",
      "241 3.6728496274707907\n",
      "242 3.670366859101894\n",
      "243 3.66790884254191\n",
      "244 3.6654201899677967\n",
      "245 3.6629201621101846\n",
      "246 3.6603907571768595\n",
      "247 3.6578654395682886\n",
      "248 3.6553322031147024\n",
      "249 3.652791275953038\n",
      "250 3.6502461164191167\n",
      "251 3.6477014748673824\n",
      "252 3.645160046475648\n",
      "253 3.6426238676565985\n",
      "254 3.640098767321554\n",
      "255 3.6375965387510436\n",
      "256 3.63510747855352\n",
      "257 3.632646793602168\n",
      "258 3.6302314905118935\n",
      "259 3.6278494060440027\n",
      "260 3.625501599263221\n",
      "261 3.6232136787357243\n",
      "262 3.6209762891718524\n",
      "263 3.6188130455396483\n",
      "264 3.616700363896598\n",
      "265 3.614642426405704\n",
      "266 3.6126315807377156\n",
      "267 3.6106848593349055\n",
      "268 3.6087770039435\n",
      "269 3.606905095896814\n",
      "270 3.6050669750366184\n",
      "271 3.6032468434439218\n",
      "272 3.601434155186281\n",
      "273 3.599628665736798\n",
      "274 3.597804314551786\n",
      "275 3.5959708801437835\n",
      "276 3.594107316359247\n",
      "277 3.5922305854252716\n",
      "278 3.5903216515571583\n",
      "279 3.588389396298451\n",
      "280 3.5864399086018333\n",
      "281 3.5844828101628443\n",
      "282 3.582528026821337\n",
      "283 3.58056535722258\n",
      "284 3.5786025014178127\n",
      "285 3.5766404184443696\n",
      "286 3.5746995403462054\n",
      "287 3.5727878225567506\n"
     ]
    }
   ],
   "source": [
    "idx3 = []\n",
    "for i in range(12):\n",
    "  idx3.append(i*26496)\n",
    "\n",
    "ttmp = []\n",
    "for i in range(0, 288): \n",
    "  \n",
    "  push_num = i\n",
    "  \n",
    "  tmp = []\n",
    "  for j in range(11):\n",
    "    if j != 10:\n",
    "      tmp.append(pd.concat([팔당df[idx2[j+1]-push_num:idx2[j+1]],newdata[idx3[j]:idx3[j+1]-push_num][['날짜','방류량']]], ignore_index=True))\n",
    "    else:\n",
    "      tmp.append(pd.concat([팔당df[idx2[j+1]-push_num:idx2[j+1]],newdata[idx3[j]:-push_num][['날짜','방류량']]], ignore_index=True))\n",
    "\n",
    "  push_result = pd.concat(\n",
    "        [tmp[0],tmp[1],tmp[2],tmp[3],tmp[4],tmp[5],tmp[6],tmp[7],tmp[8],tmp[9],tmp[10]], ignore_index=True\n",
    "    )\n",
    "\n",
    "  mm = pd.concat([push_result[['방류량']],newdata[['청담대교_수위','잠수교_수위', '한강대교_수위', '행주대교_수위']]], axis=1)\n",
    "  mm['방류량'] = mm['방류량'].astype(float, errors = 'raise')\n",
    "  nn = mm[:269424]\n",
    "  push_cor2 = nn.corr()\n",
    "  \n",
    "  \n",
    "  #print(i, push_cor2.iloc[:,0][2]) #마지막 원소 변경 1,2,3,4\n",
    "  #ttmp.append(push_cor2.iloc[:,0][2])\n",
    "\n",
    "  #1번: 청담대교 15 0.8970553300325268 -> 15 0.8970394478572508\n",
    "  #2번: 잠수교   19 0.8748510916903229\n",
    "  #3번: 한강대교 20 0.8635804208734675\n",
    "  #4번: 행주대교 21 0.8088005740767352\n",
    "  #시간적 순서가 직관과 맞음\n",
    "\n",
    "  #하나만 꼽으라면 19\n",
    "  print(i, push_cor2.sum()[0])\n",
    "  ttmp.append(push_cor2.sum()[0])"
   ]
  },
  {
   "cell_type": "code",
   "execution_count": 35,
   "id": "fae5eb04",
   "metadata": {},
   "outputs": [
    {
     "data": {
      "text/html": [
       "<div>\n",
       "<style scoped>\n",
       "    .dataframe tbody tr th:only-of-type {\n",
       "        vertical-align: middle;\n",
       "    }\n",
       "\n",
       "    .dataframe tbody tr th {\n",
       "        vertical-align: top;\n",
       "    }\n",
       "\n",
       "    .dataframe thead th {\n",
       "        text-align: right;\n",
       "    }\n",
       "</style>\n",
       "<table border=\"1\" class=\"dataframe\">\n",
       "  <thead>\n",
       "    <tr style=\"text-align: right;\">\n",
       "      <th></th>\n",
       "      <th>방류량</th>\n",
       "      <th>청담대교_수위</th>\n",
       "      <th>잠수교_수위</th>\n",
       "      <th>한강대교_수위</th>\n",
       "      <th>행주대교_수위</th>\n",
       "    </tr>\n",
       "  </thead>\n",
       "  <tbody>\n",
       "    <tr>\n",
       "      <th>방류량</th>\n",
       "      <td>1.000000</td>\n",
       "      <td>0.896659</td>\n",
       "      <td>0.874879</td>\n",
       "      <td>0.863630</td>\n",
       "      <td>0.808704</td>\n",
       "    </tr>\n",
       "    <tr>\n",
       "      <th>청담대교_수위</th>\n",
       "      <td>0.896659</td>\n",
       "      <td>1.000000</td>\n",
       "      <td>0.991150</td>\n",
       "      <td>0.990986</td>\n",
       "      <td>0.949497</td>\n",
       "    </tr>\n",
       "    <tr>\n",
       "      <th>잠수교_수위</th>\n",
       "      <td>0.874879</td>\n",
       "      <td>0.991150</td>\n",
       "      <td>1.000000</td>\n",
       "      <td>0.995218</td>\n",
       "      <td>0.957848</td>\n",
       "    </tr>\n",
       "    <tr>\n",
       "      <th>한강대교_수위</th>\n",
       "      <td>0.863630</td>\n",
       "      <td>0.990986</td>\n",
       "      <td>0.995218</td>\n",
       "      <td>1.000000</td>\n",
       "      <td>0.972335</td>\n",
       "    </tr>\n",
       "    <tr>\n",
       "      <th>행주대교_수위</th>\n",
       "      <td>0.808704</td>\n",
       "      <td>0.949497</td>\n",
       "      <td>0.957848</td>\n",
       "      <td>0.972335</td>\n",
       "      <td>1.000000</td>\n",
       "    </tr>\n",
       "  </tbody>\n",
       "</table>\n",
       "</div>"
      ],
      "text/plain": [
       "              방류량   청담대교_수위    잠수교_수위   한강대교_수위   행주대교_수위\n",
       "방류량      1.000000  0.896659  0.874879  0.863630  0.808704\n",
       "청담대교_수위  0.896659  1.000000  0.991150  0.990986  0.949497\n",
       "잠수교_수위   0.874879  0.991150  1.000000  0.995218  0.957848\n",
       "한강대교_수위  0.863630  0.990986  0.995218  1.000000  0.972335\n",
       "행주대교_수위  0.808704  0.949497  0.957848  0.972335  1.000000"
      ]
     },
     "execution_count": 35,
     "metadata": {},
     "output_type": "execute_result"
    }
   ],
   "source": [
    "#파일 저장\n",
    "\n",
    "push_num = 19\n",
    "  \n",
    "tmp = []\n",
    "for j in range(11):\n",
    "  if j != 10:\n",
    "    tmp.append(pd.concat([팔당df[idx2[j+1]-push_num:idx2[j+1]],newdata[idx3[j]:idx3[j+1]-push_num][['날짜','방류량']]], ignore_index=True))\n",
    "  else:\n",
    "    tmp.append(pd.concat([팔당df[idx2[j+1]-push_num:idx2[j+1]],newdata[idx3[j]:-push_num][['날짜','방류량']]], ignore_index=True))\n",
    "\n",
    "push_result = pd.concat(\n",
    "      [tmp[0],tmp[1],tmp[2],tmp[3],tmp[4],tmp[5],tmp[6],tmp[7],tmp[8],tmp[9],tmp[10]], ignore_index=True\n",
    ")\n",
    "\n",
    "mm = pd.concat([push_result[['방류량']],newdata[['청담대교_수위','잠수교_수위', '한강대교_수위', '행주대교_수위']]], axis=1)\n",
    "mm['방류량'] = mm['방류량'].astype(float, errors = 'raise')\n",
    "nn = mm[:269424]\n",
    "push_cor2 = nn.corr()\n",
    "push_cor2"
   ]
  },
  {
   "cell_type": "code",
   "execution_count": 36,
   "id": "bc3da2b0",
   "metadata": {},
   "outputs": [
    {
     "data": {
      "text/plain": [
       "0          575.7\n",
       "1          575.3\n",
       "2          555.0\n",
       "3          575.7\n",
       "4          575.4\n",
       "           ...  \n",
       "276331    258.67\n",
       "276332    258.58\n",
       "276333    258.56\n",
       "276334    258.65\n",
       "276335    258.09\n",
       "Name: 방류량, Length: 276336, dtype: object"
      ]
     },
     "execution_count": 36,
     "metadata": {},
     "output_type": "execute_result"
    }
   ],
   "source": [
    "result = push_result.방류량\n",
    "result"
   ]
  },
  {
   "cell_type": "code",
   "execution_count": 38,
   "id": "51feba78",
   "metadata": {},
   "outputs": [],
   "source": [
    "result.to_csv(\"data/파생컬럼/방류량_시간차.csv\", index = False, encoding = 'cp949', columns = ['방류량'])"
   ]
  },
  {
   "cell_type": "code",
   "execution_count": null,
   "id": "8cb1ae2f",
   "metadata": {},
   "outputs": [],
   "source": []
  }
 ],
 "metadata": {
  "kernelspec": {
   "display_name": "Python 3 (ipykernel)",
   "language": "python",
   "name": "python3"
  },
  "language_info": {
   "codemirror_mode": {
    "name": "ipython",
    "version": 3
   },
   "file_extension": ".py",
   "mimetype": "text/x-python",
   "name": "python",
   "nbconvert_exporter": "python",
   "pygments_lexer": "ipython3",
   "version": "3.9.12"
  }
 },
 "nbformat": 4,
 "nbformat_minor": 5
}
